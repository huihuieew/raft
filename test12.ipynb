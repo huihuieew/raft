{
 "cells": [
  {
   "cell_type": "markdown",
   "id": "00f7d45c",
   "metadata": {},
   "source": [
    "# 重新构建数据生成流程 - 批量逻辑\n",
    "1. 问题生成流程\n",
    "2. 答案生成流程"
   ]
  },
  {
   "cell_type": "markdown",
   "id": "7cc7d53d",
   "metadata": {},
   "source": [
    "具体流程：\n",
    "0. 生成所有文章的chunk，并保存chunk数据集, chunk,chunk_id,source ,doc_id\n",
    "1. 先批量生成问题，问题评估是否合格\n",
    "2. 再批量生成答案，答案评估是否合格\n",
    "3. chunk数据集构建 chunk,chunk_id,source ,doc_id\n",
    "4. 问题数据集构建 [{chunk_*4, chunk_id, source}], question\n",
    "5. 答案数据集构建 [{chunk_*4+chunk_d4, chunk_id, source}], question, answer\n",
    "6. 问题生成数据集 [{chunk_*4, chunk_id, source}] -> question1, question2\n",
    "6. 答案生成数据集 [{chunk_*4, chunk_id, source}], question -> content, reasoning_content\n",
    "7. 构建sft数据集 [{chunk_*4+chunk_d4, chunk_id, source}], question -> content, reasoning_content"
   ]
  },
  {
   "cell_type": "markdown",
   "id": "78c63aa9",
   "metadata": {},
   "source": [
    "## 生成所有文章的chunk"
   ]
  },
  {
   "cell_type": "code",
   "execution_count": null,
   "id": "6021fbd7",
   "metadata": {},
   "outputs": [],
   "source": []
  }
 ],
 "metadata": {
  "kernelspec": {
   "display_name": "raft",
   "language": "python",
   "name": "python3"
  },
  "language_info": {
   "name": "python",
   "version": "3.10.17"
  }
 },
 "nbformat": 4,
 "nbformat_minor": 5
}
