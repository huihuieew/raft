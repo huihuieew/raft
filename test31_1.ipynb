{
 "cells": [
  {
   "cell_type": "markdown",
   "id": "ec7a35ac",
   "metadata": {},
   "source": [
    "## 新一轮，从gen_chunk开始，到质量评估为止的流程"
   ]
  },
  {
   "cell_type": "code",
   "execution_count": 1,
   "id": "7cfcb438",
   "metadata": {},
   "outputs": [
    {
     "name": "stdout",
     "output_type": "stream",
     "text": [
      "成功从 selected_papers.txt 读取 397 篇论文标题\n",
      "filenames: 297\n"
     ]
    },
    {
     "name": "stderr",
     "output_type": "stream",
     "text": [
      "Chunking: 100%|██████████| 1/1 [00:00<00:00, 40.00file/s, chunks=34]\n"
     ]
    },
    {
     "name": "stdout",
     "output_type": "stream",
     "text": [
      "Chunks saved to outputs_pipeline/article1_chunks03.json\n"
     ]
    },
    {
     "name": "stderr",
     "output_type": "stream",
     "text": [
      "Chunking: 100%|██████████| 1/1 [00:00<00:00, 37.04file/s, chunks=48]\n"
     ]
    },
    {
     "name": "stdout",
     "output_type": "stream",
     "text": [
      "Chunks saved to outputs_pipeline/article1_chunks03.json\n"
     ]
    },
    {
     "name": "stderr",
     "output_type": "stream",
     "text": [
      "Chunking: 100%|██████████| 1/1 [00:00<00:00, 83.37file/s, chunks=37]\n"
     ]
    },
    {
     "name": "stdout",
     "output_type": "stream",
     "text": [
      "Chunks saved to outputs_pipeline/article1_chunks03.json\n"
     ]
    },
    {
     "name": "stderr",
     "output_type": "stream",
     "text": [
      "Chunking: 100%|██████████| 1/1 [00:00<00:00, 66.65file/s, chunks=8]\n"
     ]
    },
    {
     "name": "stdout",
     "output_type": "stream",
     "text": [
      "Chunks saved to outputs_pipeline/article1_chunks03.json\n"
     ]
    },
    {
     "name": "stderr",
     "output_type": "stream",
     "text": [
      "Chunking: 100%|██████████| 1/1 [00:00<00:00, 62.49file/s, chunks=29]\n"
     ]
    },
    {
     "name": "stdout",
     "output_type": "stream",
     "text": [
      "Chunks saved to outputs_pipeline/article1_chunks03.json\n"
     ]
    },
    {
     "name": "stderr",
     "output_type": "stream",
     "text": [
      "Chunking: 100%|██████████| 1/1 [00:00<00:00, 62.69file/s, chunks=28]\n"
     ]
    },
    {
     "name": "stdout",
     "output_type": "stream",
     "text": [
      "Chunks saved to outputs_pipeline/article1_chunks03.json\n"
     ]
    },
    {
     "name": "stderr",
     "output_type": "stream",
     "text": [
      "Chunking: 100%|██████████| 1/1 [00:00<00:00, 142.89file/s, chunks=6]\n"
     ]
    },
    {
     "name": "stdout",
     "output_type": "stream",
     "text": [
      "Chunks saved to outputs_pipeline/article1_chunks03.json\n"
     ]
    },
    {
     "name": "stderr",
     "output_type": "stream",
     "text": [
      "Chunking: 100%|██████████| 1/1 [00:00<00:00, 76.87file/s, chunks=101]\n"
     ]
    },
    {
     "name": "stdout",
     "output_type": "stream",
     "text": [
      "Chunks saved to outputs_pipeline/article1_chunks03.json\n"
     ]
    },
    {
     "name": "stderr",
     "output_type": "stream",
     "text": [
      "Chunking: 100%|██████████| 1/1 [00:00<00:00, 111.11file/s, chunks=28]\n"
     ]
    },
    {
     "name": "stdout",
     "output_type": "stream",
     "text": [
      "Chunks saved to outputs_pipeline/article1_chunks03.json\n"
     ]
    },
    {
     "name": "stderr",
     "output_type": "stream",
     "text": [
      "Chunking: 100%|██████████| 1/1 [00:00<00:00, 499.80file/s, chunks=29]"
     ]
    },
    {
     "name": "stdout",
     "output_type": "stream",
     "text": [
      "Chunks saved to outputs_pipeline/article1_chunks03.json"
     ]
    },
    {
     "name": "stderr",
     "output_type": "stream",
     "text": [
      "\n"
     ]
    },
    {
     "name": "stdout",
     "output_type": "stream",
     "text": [
      "\n"
     ]
    },
    {
     "name": "stderr",
     "output_type": "stream",
     "text": [
      "Chunking: 100%|██████████| 1/1 [00:00<00:00, 90.94file/s, chunks=39]\n"
     ]
    },
    {
     "name": "stdout",
     "output_type": "stream",
     "text": [
      "Chunks saved to outputs_pipeline/article1_chunks03.json\n"
     ]
    },
    {
     "name": "stderr",
     "output_type": "stream",
     "text": [
      "Chunking: 100%|██████████| 1/1 [00:00<00:00, 62.50file/s, chunks=48]"
     ]
    },
    {
     "name": "stdout",
     "output_type": "stream",
     "text": [
      "Chunks saved to outputs_pipeline/article1_chunks03.json"
     ]
    },
    {
     "name": "stderr",
     "output_type": "stream",
     "text": [
      "\n"
     ]
    },
    {
     "name": "stdout",
     "output_type": "stream",
     "text": [
      "\n"
     ]
    },
    {
     "name": "stderr",
     "output_type": "stream",
     "text": [
      "Chunking: 100%|██████████| 1/1 [00:00<00:00, 250.12file/s, chunks=3]\n"
     ]
    },
    {
     "name": "stdout",
     "output_type": "stream",
     "text": [
      "Chunks saved to outputs_pipeline/article1_chunks03.json\n"
     ]
    },
    {
     "name": "stderr",
     "output_type": "stream",
     "text": [
      "Chunking: 100%|██████████| 1/1 [00:00<00:00, 118.86file/s, chunks=34]\n"
     ]
    },
    {
     "name": "stdout",
     "output_type": "stream",
     "text": [
      "Chunks saved to outputs_pipeline/article1_chunks03.json\n"
     ]
    },
    {
     "name": "stderr",
     "output_type": "stream",
     "text": [
      "Chunking: 100%|██████████| 1/1 [00:00<00:00, 383.08file/s, chunks=15]\n"
     ]
    },
    {
     "name": "stdout",
     "output_type": "stream",
     "text": [
      "Chunks saved to outputs_pipeline/article1_chunks03.json\n"
     ]
    },
    {
     "name": "stderr",
     "output_type": "stream",
     "text": [
      "Chunking: 100%|██████████| 1/1 [00:00<00:00, 500.27file/s, chunks=37]\n"
     ]
    },
    {
     "name": "stdout",
     "output_type": "stream",
     "text": [
      "Chunks saved to outputs_pipeline/article1_chunks03.json\n"
     ]
    },
    {
     "name": "stderr",
     "output_type": "stream",
     "text": [
      "Chunking: 100%|██████████| 1/1 [00:00<00:00, 62.43file/s, chunks=22]\n"
     ]
    },
    {
     "name": "stdout",
     "output_type": "stream",
     "text": [
      "Chunks saved to outputs_pipeline/article1_chunks03.json\n"
     ]
    },
    {
     "name": "stderr",
     "output_type": "stream",
     "text": [
      "Chunking: 100%|██████████| 1/1 [00:00<00:00, 94.21file/s, chunks=66]\n"
     ]
    },
    {
     "name": "stdout",
     "output_type": "stream",
     "text": [
      "Chunks saved to outputs_pipeline/article1_chunks03.json\n"
     ]
    },
    {
     "name": "stderr",
     "output_type": "stream",
     "text": [
      "Chunking: 100%|██████████| 1/1 [00:00<00:00, 111.10file/s, chunks=76]\n"
     ]
    },
    {
     "name": "stdout",
     "output_type": "stream",
     "text": [
      "Chunks saved to outputs_pipeline/article1_chunks03.json\n"
     ]
    },
    {
     "name": "stderr",
     "output_type": "stream",
     "text": [
      "Chunking: 100%|██████████| 1/1 [00:00<00:00, 89.80file/s, chunks=84]\n"
     ]
    },
    {
     "name": "stdout",
     "output_type": "stream",
     "text": [
      "Chunks saved to outputs_pipeline/article1_chunks03.json\n"
     ]
    },
    {
     "name": "stderr",
     "output_type": "stream",
     "text": [
      "Chunking: 100%|██████████| 1/1 [00:00<00:00, 83.34file/s, chunks=22]\n"
     ]
    },
    {
     "name": "stdout",
     "output_type": "stream",
     "text": [
      "Chunks saved to outputs_pipeline/article1_chunks03.json\n"
     ]
    },
    {
     "name": "stderr",
     "output_type": "stream",
     "text": [
      "Chunking: 100%|██████████| 1/1 [00:00<00:00, 249.91file/s, chunks=44]\n"
     ]
    },
    {
     "name": "stdout",
     "output_type": "stream",
     "text": [
      "Chunks saved to outputs_pipeline/article1_chunks03.json\n"
     ]
    },
    {
     "name": "stderr",
     "output_type": "stream",
     "text": [
      "Chunking: 100%|██████████| 1/1 [00:00<00:00, 111.12file/s, chunks=32]\n"
     ]
    },
    {
     "name": "stdout",
     "output_type": "stream",
     "text": [
      "Chunks saved to outputs_pipeline/article1_chunks03.json\n"
     ]
    },
    {
     "name": "stderr",
     "output_type": "stream",
     "text": [
      "Chunking: 100%|██████████| 1/1 [00:00<00:00, 142.88file/s, chunks=13]\n"
     ]
    },
    {
     "name": "stdout",
     "output_type": "stream",
     "text": [
      "Chunks saved to outputs_pipeline/article1_chunks03.json\n"
     ]
    },
    {
     "name": "stderr",
     "output_type": "stream",
     "text": [
      "Chunking: 100%|██████████| 1/1 [00:00<00:00, 66.68file/s, chunks=61]\n"
     ]
    },
    {
     "name": "stdout",
     "output_type": "stream",
     "text": [
      "Chunks saved to outputs_pipeline/article1_chunks03.json\n"
     ]
    },
    {
     "name": "stderr",
     "output_type": "stream",
     "text": [
      "Chunking: 100%|██████████| 1/1 [00:00<00:00, 250.06file/s, chunks=37]\n"
     ]
    },
    {
     "name": "stdout",
     "output_type": "stream",
     "text": [
      "Chunks saved to outputs_pipeline/article1_chunks03.json\n"
     ]
    },
    {
     "name": "stderr",
     "output_type": "stream",
     "text": [
      "Chunking: 100%|██████████| 1/1 [00:00<00:00, 199.98file/s, chunks=18]"
     ]
    },
    {
     "name": "stdout",
     "output_type": "stream",
     "text": [
      "Chunks saved to outputs_pipeline/article1_chunks03.json"
     ]
    },
    {
     "name": "stderr",
     "output_type": "stream",
     "text": [
      "\n"
     ]
    },
    {
     "name": "stdout",
     "output_type": "stream",
     "text": [
      "\n"
     ]
    },
    {
     "name": "stderr",
     "output_type": "stream",
     "text": [
      "Chunking: 100%|██████████| 1/1 [00:00<00:00, 66.68file/s, chunks=19]"
     ]
    },
    {
     "name": "stdout",
     "output_type": "stream",
     "text": [
      "Chunks saved to outputs_pipeline/article1_chunks03.json"
     ]
    },
    {
     "name": "stderr",
     "output_type": "stream",
     "text": [
      "\n"
     ]
    },
    {
     "name": "stdout",
     "output_type": "stream",
     "text": [
      "\n"
     ]
    },
    {
     "name": "stderr",
     "output_type": "stream",
     "text": [
      "Chunking: 100%|██████████| 1/1 [00:00<00:00, 200.10file/s, chunks=13]"
     ]
    },
    {
     "name": "stdout",
     "output_type": "stream",
     "text": [
      "Chunks saved to outputs_pipeline/article1_chunks03.json"
     ]
    },
    {
     "name": "stderr",
     "output_type": "stream",
     "text": [
      "\n"
     ]
    },
    {
     "name": "stdout",
     "output_type": "stream",
     "text": [
      "\n"
     ]
    },
    {
     "name": "stderr",
     "output_type": "stream",
     "text": [
      "Chunking: 100%|██████████| 1/1 [00:00<00:00, 142.80file/s, chunks=35]\n"
     ]
    },
    {
     "name": "stdout",
     "output_type": "stream",
     "text": [
      "Chunks saved to outputs_pipeline/article1_chunks03.json\n"
     ]
    },
    {
     "name": "stderr",
     "output_type": "stream",
     "text": [
      "Chunking: 100%|██████████| 1/1 [00:00<00:00, 166.70file/s, chunks=21]\n"
     ]
    },
    {
     "name": "stdout",
     "output_type": "stream",
     "text": [
      "Chunks saved to outputs_pipeline/article1_chunks03.json\n"
     ]
    },
    {
     "name": "stderr",
     "output_type": "stream",
     "text": [
      "Chunking: 100%|██████████| 1/1 [00:00<00:00, 71.43file/s, chunks=36]"
     ]
    },
    {
     "name": "stdout",
     "output_type": "stream",
     "text": [
      "Chunks saved to outputs_pipeline/article1_chunks03.json"
     ]
    },
    {
     "name": "stderr",
     "output_type": "stream",
     "text": [
      "\n"
     ]
    },
    {
     "name": "stdout",
     "output_type": "stream",
     "text": [
      "\n"
     ]
    },
    {
     "name": "stderr",
     "output_type": "stream",
     "text": [
      "Chunking: 100%|██████████| 1/1 [00:00<00:00, 71.43file/s, chunks=20]"
     ]
    },
    {
     "name": "stdout",
     "output_type": "stream",
     "text": [
      "Chunks saved to outputs_pipeline/article1_chunks03.json\n"
     ]
    },
    {
     "name": "stderr",
     "output_type": "stream",
     "text": [
      "\n",
      "Chunking: 100%|██████████| 1/1 [00:00<00:00, 142.88file/s, chunks=7]\n"
     ]
    },
    {
     "name": "stdout",
     "output_type": "stream",
     "text": [
      "Chunks saved to outputs_pipeline/article1_chunks03.json\n"
     ]
    },
    {
     "name": "stderr",
     "output_type": "stream",
     "text": [
      "Chunking: 100%|██████████| 1/1 [00:00<00:00, 166.73file/s, chunks=8]\n"
     ]
    },
    {
     "name": "stdout",
     "output_type": "stream",
     "text": [
      "Chunks saved to outputs_pipeline/article1_chunks03.json\n"
     ]
    },
    {
     "name": "stderr",
     "output_type": "stream",
     "text": [
      "Chunking: 100%|██████████| 1/1 [00:00<00:00, 89.34file/s, chunks=32]"
     ]
    },
    {
     "name": "stdout",
     "output_type": "stream",
     "text": [
      "Chunks saved to outputs_pipeline/article1_chunks03.json"
     ]
    },
    {
     "name": "stderr",
     "output_type": "stream",
     "text": [
      "\n"
     ]
    },
    {
     "name": "stdout",
     "output_type": "stream",
     "text": [
      "\n"
     ]
    },
    {
     "name": "stderr",
     "output_type": "stream",
     "text": [
      "Chunking: 100%|██████████| 1/1 [00:00<00:00, 1000.07file/s, chunks=9]"
     ]
    },
    {
     "name": "stdout",
     "output_type": "stream",
     "text": [
      "Chunks saved to outputs_pipeline/article1_chunks03.json"
     ]
    },
    {
     "name": "stderr",
     "output_type": "stream",
     "text": [
      "\n"
     ]
    },
    {
     "name": "stdout",
     "output_type": "stream",
     "text": [
      "\n"
     ]
    },
    {
     "name": "stderr",
     "output_type": "stream",
     "text": [
      "Chunking: 100%|██████████| 1/1 [00:00<00:00, 142.69file/s, chunks=4]\n"
     ]
    },
    {
     "name": "stdout",
     "output_type": "stream",
     "text": [
      "Chunks saved to outputs_pipeline/article1_chunks03.json\n"
     ]
    },
    {
     "name": "stderr",
     "output_type": "stream",
     "text": [
      "Chunking: 100%|██████████| 1/1 [00:00<00:00, 142.85file/s, chunks=37]"
     ]
    },
    {
     "name": "stdout",
     "output_type": "stream",
     "text": [
      "Chunks saved to outputs_pipeline/article1_chunks03.json\n"
     ]
    },
    {
     "name": "stderr",
     "output_type": "stream",
     "text": [
      "\n",
      "Chunking: 100%|██████████| 1/1 [00:00<00:00, 166.67file/s, chunks=29]"
     ]
    },
    {
     "name": "stdout",
     "output_type": "stream",
     "text": [
      "Chunks saved to outputs_pipeline/article1_chunks03.json"
     ]
    },
    {
     "name": "stderr",
     "output_type": "stream",
     "text": [
      "\n"
     ]
    },
    {
     "name": "stdout",
     "output_type": "stream",
     "text": [
      "\n"
     ]
    },
    {
     "name": "stderr",
     "output_type": "stream",
     "text": [
      "Chunking: 100%|██████████| 1/1 [00:00<00:00, 499.62file/s, chunks=17]\n"
     ]
    },
    {
     "name": "stdout",
     "output_type": "stream",
     "text": [
      "Chunks saved to outputs_pipeline/article1_chunks03.json\n"
     ]
    },
    {
     "name": "stderr",
     "output_type": "stream",
     "text": [
      "Chunking: 100%|██████████| 1/1 [00:00<00:00, 333.20file/s, chunks=6]\n"
     ]
    },
    {
     "name": "stdout",
     "output_type": "stream",
     "text": [
      "Chunks saved to outputs_pipeline/article1_chunks03.json\n"
     ]
    },
    {
     "name": "stderr",
     "output_type": "stream",
     "text": [
      "Chunking: 100%|██████████| 1/1 [00:00<00:00, 199.94file/s, chunks=55]\n"
     ]
    },
    {
     "name": "stdout",
     "output_type": "stream",
     "text": [
      "Chunks saved to outputs_pipeline/article1_chunks03.json\n"
     ]
    },
    {
     "name": "stderr",
     "output_type": "stream",
     "text": [
      "Chunking: 100%|██████████| 1/1 [00:00<00:00, 1000.55file/s, chunks=6]\n"
     ]
    },
    {
     "name": "stdout",
     "output_type": "stream",
     "text": [
      "Chunks saved to outputs_pipeline/article1_chunks03.json\n"
     ]
    },
    {
     "name": "stderr",
     "output_type": "stream",
     "text": [
      "Chunking: 100%|██████████| 1/1 [00:00<00:00, 200.00file/s, chunks=16]"
     ]
    },
    {
     "name": "stdout",
     "output_type": "stream",
     "text": [
      "Chunks saved to outputs_pipeline/article1_chunks03.json"
     ]
    },
    {
     "name": "stderr",
     "output_type": "stream",
     "text": [
      "\n"
     ]
    },
    {
     "name": "stdout",
     "output_type": "stream",
     "text": [
      "\n"
     ]
    },
    {
     "name": "stderr",
     "output_type": "stream",
     "text": [
      "Chunking: 100%|██████████| 1/1 [00:00<00:00, 167.18file/s, chunks=49]\n"
     ]
    },
    {
     "name": "stdout",
     "output_type": "stream",
     "text": [
      "Chunks saved to outputs_pipeline/article1_chunks03.json\n"
     ]
    },
    {
     "name": "stderr",
     "output_type": "stream",
     "text": [
      "Chunking: 100%|██████████| 1/1 [00:00<00:00, 500.04file/s, chunks=7]\n"
     ]
    },
    {
     "name": "stdout",
     "output_type": "stream",
     "text": [
      "Chunks saved to outputs_pipeline/article1_chunks03.json\n"
     ]
    },
    {
     "name": "stderr",
     "output_type": "stream",
     "text": [
      "Chunking: 100%|██████████| 1/1 [00:00<00:00, 76.94file/s, chunks=40]"
     ]
    },
    {
     "name": "stdout",
     "output_type": "stream",
     "text": [
      "Chunks saved to outputs_pipeline/article1_chunks03.json"
     ]
    },
    {
     "name": "stderr",
     "output_type": "stream",
     "text": [
      "\n"
     ]
    },
    {
     "name": "stdout",
     "output_type": "stream",
     "text": [
      "\n"
     ]
    },
    {
     "name": "stderr",
     "output_type": "stream",
     "text": [
      "Chunking: 100%|██████████| 1/1 [00:00<00:00, 65.41file/s, chunks=6]"
     ]
    },
    {
     "name": "stdout",
     "output_type": "stream",
     "text": [
      "Chunks saved to outputs_pipeline/article1_chunks03.json"
     ]
    },
    {
     "name": "stderr",
     "output_type": "stream",
     "text": [
      "\n"
     ]
    },
    {
     "name": "stdout",
     "output_type": "stream",
     "text": [
      "\n"
     ]
    },
    {
     "name": "stderr",
     "output_type": "stream",
     "text": [
      "Chunking: 100%|██████████| 1/1 [00:00<00:00, 500.10file/s, chunks=8]"
     ]
    },
    {
     "name": "stdout",
     "output_type": "stream",
     "text": [
      "Chunks saved to outputs_pipeline/article1_chunks03.json"
     ]
    },
    {
     "name": "stderr",
     "output_type": "stream",
     "text": [
      "\n"
     ]
    },
    {
     "name": "stdout",
     "output_type": "stream",
     "text": [
      "\n"
     ]
    },
    {
     "name": "stderr",
     "output_type": "stream",
     "text": [
      "Chunking: 100%|██████████| 1/1 [00:00<00:00, 166.63file/s, chunks=48]"
     ]
    },
    {
     "name": "stdout",
     "output_type": "stream",
     "text": [
      "Chunks saved to outputs_pipeline/article1_chunks03.json"
     ]
    },
    {
     "name": "stderr",
     "output_type": "stream",
     "text": [
      "\n"
     ]
    },
    {
     "name": "stdout",
     "output_type": "stream",
     "text": [
      "\n"
     ]
    },
    {
     "name": "stderr",
     "output_type": "stream",
     "text": [
      "Chunking: 100%|██████████| 1/1 [00:00<00:00, 332.64file/s, chunks=23]"
     ]
    },
    {
     "name": "stdout",
     "output_type": "stream",
     "text": [
      "Chunks saved to outputs_pipeline/article1_chunks03.json"
     ]
    },
    {
     "name": "stderr",
     "output_type": "stream",
     "text": [
      "\n"
     ]
    },
    {
     "name": "stdout",
     "output_type": "stream",
     "text": [
      "\n"
     ]
    },
    {
     "name": "stderr",
     "output_type": "stream",
     "text": [
      "Chunking: 100%|██████████| 1/1 [00:00<00:00, 500.45file/s, chunks=30]"
     ]
    },
    {
     "name": "stdout",
     "output_type": "stream",
     "text": [
      "Chunks saved to outputs_pipeline/article1_chunks03.json"
     ]
    },
    {
     "name": "stderr",
     "output_type": "stream",
     "text": [
      "\n"
     ]
    },
    {
     "name": "stdout",
     "output_type": "stream",
     "text": [
      "\n"
     ]
    },
    {
     "name": "stderr",
     "output_type": "stream",
     "text": [
      "Chunking: 100%|██████████| 1/1 [00:00<00:00, 71.41file/s, chunks=20]\n"
     ]
    },
    {
     "name": "stdout",
     "output_type": "stream",
     "text": [
      "Chunks saved to outputs_pipeline/article1_chunks03.json\n"
     ]
    },
    {
     "name": "stderr",
     "output_type": "stream",
     "text": [
      "Chunking: 100%|██████████| 1/1 [00:00<00:00, 499.74file/s, chunks=9]\n"
     ]
    },
    {
     "name": "stdout",
     "output_type": "stream",
     "text": [
      "Chunks saved to outputs_pipeline/article1_chunks03.json\n"
     ]
    },
    {
     "name": "stderr",
     "output_type": "stream",
     "text": [
      "Chunking: 100%|██████████| 1/1 [00:00<00:00, 76.93file/s, chunks=37]\n"
     ]
    },
    {
     "name": "stdout",
     "output_type": "stream",
     "text": [
      "Chunks saved to outputs_pipeline/article1_chunks03.json\n"
     ]
    },
    {
     "name": "stderr",
     "output_type": "stream",
     "text": [
      "Chunking: 100%|██████████| 1/1 [00:00<00:00, 166.63file/s, chunks=20]"
     ]
    },
    {
     "name": "stdout",
     "output_type": "stream",
     "text": [
      "Chunks saved to outputs_pipeline/article1_chunks03.json\n"
     ]
    },
    {
     "name": "stderr",
     "output_type": "stream",
     "text": [
      "\n",
      "Chunking: 100%|██████████| 1/1 [00:00<00:00, 71.44file/s, chunks=27]\n"
     ]
    },
    {
     "name": "stdout",
     "output_type": "stream",
     "text": [
      "Chunks saved to outputs_pipeline/article1_chunks03.json\n"
     ]
    },
    {
     "name": "stderr",
     "output_type": "stream",
     "text": [
      "Chunking: 100%|██████████| 1/1 [00:00<00:00, 111.12file/s, chunks=16]\n"
     ]
    },
    {
     "name": "stdout",
     "output_type": "stream",
     "text": [
      "Chunks saved to outputs_pipeline/article1_chunks03.json\n"
     ]
    },
    {
     "name": "stderr",
     "output_type": "stream",
     "text": [
      "Chunking: 100%|██████████| 1/1 [00:00<00:00, 76.93file/s, chunks=6]\n"
     ]
    },
    {
     "name": "stdout",
     "output_type": "stream",
     "text": [
      "Chunks saved to outputs_pipeline/article1_chunks03.json\n"
     ]
    },
    {
     "name": "stderr",
     "output_type": "stream",
     "text": [
      "Chunking: 100%|██████████| 1/1 [00:00<00:00, 333.25file/s, chunks=16]"
     ]
    },
    {
     "name": "stdout",
     "output_type": "stream",
     "text": [
      "Chunks saved to outputs_pipeline/article1_chunks03.json"
     ]
    },
    {
     "name": "stderr",
     "output_type": "stream",
     "text": [
      "\n"
     ]
    },
    {
     "name": "stdout",
     "output_type": "stream",
     "text": [
      "\n"
     ]
    },
    {
     "name": "stderr",
     "output_type": "stream",
     "text": [
      "Chunking: 100%|██████████| 1/1 [00:00<00:00, 66.67file/s, chunks=6]"
     ]
    },
    {
     "name": "stdout",
     "output_type": "stream",
     "text": [
      "Chunks saved to outputs_pipeline/article1_chunks03.json"
     ]
    },
    {
     "name": "stderr",
     "output_type": "stream",
     "text": [
      "\n"
     ]
    },
    {
     "name": "stdout",
     "output_type": "stream",
     "text": [
      "\n"
     ]
    },
    {
     "name": "stderr",
     "output_type": "stream",
     "text": [
      "Chunking: 100%|██████████| 1/1 [00:00<00:00, 333.73file/s, chunks=42]\n"
     ]
    },
    {
     "name": "stdout",
     "output_type": "stream",
     "text": [
      "Chunks saved to outputs_pipeline/article1_chunks03.json\n"
     ]
    },
    {
     "name": "stderr",
     "output_type": "stream",
     "text": [
      "Chunking: 100%|██████████| 1/1 [00:00<00:00, 500.27file/s, chunks=21]\n"
     ]
    },
    {
     "name": "stdout",
     "output_type": "stream",
     "text": [
      "Chunks saved to outputs_pipeline/article1_chunks03.json\n"
     ]
    },
    {
     "name": "stderr",
     "output_type": "stream",
     "text": [
      "Chunking: 100%|██████████| 1/1 [00:00<00:00, 504.06file/s, chunks=9]\n"
     ]
    },
    {
     "name": "stdout",
     "output_type": "stream",
     "text": [
      "Chunks saved to outputs_pipeline/article1_chunks03.json\n"
     ]
    },
    {
     "name": "stderr",
     "output_type": "stream",
     "text": [
      "Chunking: 100%|██████████| 1/1 [00:00<00:00, 497.96file/s, chunks=21]\n"
     ]
    },
    {
     "name": "stdout",
     "output_type": "stream",
     "text": [
      "Chunks saved to outputs_pipeline/article1_chunks03.json\n"
     ]
    },
    {
     "name": "stderr",
     "output_type": "stream",
     "text": [
      "Chunking: 100%|██████████| 1/1 [00:00<00:00, 997.46file/s, chunks=19]"
     ]
    },
    {
     "name": "stdout",
     "output_type": "stream",
     "text": [
      "Chunks saved to outputs_pipeline/article1_chunks03.json"
     ]
    },
    {
     "name": "stderr",
     "output_type": "stream",
     "text": [
      "\n"
     ]
    },
    {
     "name": "stdout",
     "output_type": "stream",
     "text": [
      "\n"
     ]
    },
    {
     "name": "stderr",
     "output_type": "stream",
     "text": [
      "Chunking: 100%|██████████| 1/1 [00:00<00:00, 500.45file/s, chunks=7]\n"
     ]
    },
    {
     "name": "stdout",
     "output_type": "stream",
     "text": [
      "Chunks saved to outputs_pipeline/article1_chunks03.json\n"
     ]
    },
    {
     "name": "stderr",
     "output_type": "stream",
     "text": [
      "Chunking: 100%|██████████| 1/1 [00:00<00:00, 333.28file/s, chunks=22]\n"
     ]
    },
    {
     "name": "stdout",
     "output_type": "stream",
     "text": [
      "Chunks saved to outputs_pipeline/article1_chunks03.json\n"
     ]
    },
    {
     "name": "stderr",
     "output_type": "stream",
     "text": [
      "Chunking: 100%|██████████| 1/1 [00:00<00:00, 500.04file/s, chunks=22]"
     ]
    },
    {
     "name": "stdout",
     "output_type": "stream",
     "text": [
      "Chunks saved to outputs_pipeline/article1_chunks03.json"
     ]
    },
    {
     "name": "stderr",
     "output_type": "stream",
     "text": [
      "\n"
     ]
    },
    {
     "name": "stdout",
     "output_type": "stream",
     "text": [
      "\n"
     ]
    },
    {
     "name": "stderr",
     "output_type": "stream",
     "text": [
      "Chunking: 100%|██████████| 1/1 [00:00<00:00, 500.99file/s, chunks=3]"
     ]
    },
    {
     "name": "stdout",
     "output_type": "stream",
     "text": [
      "Chunks saved to outputs_pipeline/article1_chunks03.json"
     ]
    },
    {
     "name": "stderr",
     "output_type": "stream",
     "text": [
      "\n"
     ]
    },
    {
     "name": "stdout",
     "output_type": "stream",
     "text": [
      "\n"
     ]
    },
    {
     "name": "stderr",
     "output_type": "stream",
     "text": [
      "Chunking: 100%|██████████| 1/1 [00:00<00:00, 500.63file/s, chunks=7]"
     ]
    },
    {
     "name": "stdout",
     "output_type": "stream",
     "text": [
      "Chunks saved to outputs_pipeline/article1_chunks03.json"
     ]
    },
    {
     "name": "stderr",
     "output_type": "stream",
     "text": [
      "\n"
     ]
    },
    {
     "name": "stdout",
     "output_type": "stream",
     "text": [
      "\n"
     ]
    },
    {
     "name": "stderr",
     "output_type": "stream",
     "text": [
      "Chunking: 100%|██████████| 1/1 [00:00<00:00, 90.91file/s, chunks=56]"
     ]
    },
    {
     "name": "stdout",
     "output_type": "stream",
     "text": [
      "Chunks saved to outputs_pipeline/article1_chunks03.json\n"
     ]
    },
    {
     "name": "stderr",
     "output_type": "stream",
     "text": [
      "\n",
      "Chunking: 100%|██████████| 1/1 [00:00<00:00, 1002.22file/s, chunks=4]\n"
     ]
    },
    {
     "name": "stdout",
     "output_type": "stream",
     "text": [
      "Chunks saved to outputs_pipeline/article1_chunks03.json\n"
     ]
    },
    {
     "name": "stderr",
     "output_type": "stream",
     "text": [
      "Chunking: 100%|██████████| 1/1 [00:00<00:00, 333.25file/s, chunks=8]\n"
     ]
    },
    {
     "name": "stdout",
     "output_type": "stream",
     "text": [
      "Chunks saved to outputs_pipeline/article1_chunks03.json\n"
     ]
    },
    {
     "name": "stderr",
     "output_type": "stream",
     "text": [
      "Chunking: 100%|██████████| 1/1 [00:00<00:00, 500.63file/s, chunks=11]\n"
     ]
    },
    {
     "name": "stdout",
     "output_type": "stream",
     "text": [
      "Chunks saved to outputs_pipeline/article1_chunks03.json\n"
     ]
    },
    {
     "name": "stderr",
     "output_type": "stream",
     "text": [
      "Chunking: 100%|██████████| 1/1 [00:00<00:00, 125.03file/s, chunks=20]"
     ]
    },
    {
     "name": "stdout",
     "output_type": "stream",
     "text": [
      "Chunks saved to outputs_pipeline/article1_chunks03.json"
     ]
    },
    {
     "name": "stderr",
     "output_type": "stream",
     "text": [
      "\n"
     ]
    },
    {
     "name": "stdout",
     "output_type": "stream",
     "text": [
      "\n"
     ]
    },
    {
     "name": "stderr",
     "output_type": "stream",
     "text": [
      "Chunking: 100%|██████████| 1/1 [00:00<00:00, 500.16file/s, chunks=16]\n"
     ]
    },
    {
     "name": "stdout",
     "output_type": "stream",
     "text": [
      "Chunks saved to outputs_pipeline/article1_chunks03.json\n"
     ]
    },
    {
     "name": "stderr",
     "output_type": "stream",
     "text": [
      "Chunking: 100%|██████████| 1/1 [00:00<00:00, 16.00file/s, chunks=20]\n"
     ]
    },
    {
     "name": "stdout",
     "output_type": "stream",
     "text": [
      "Chunks saved to outputs_pipeline/article1_chunks03.json\n"
     ]
    },
    {
     "name": "stderr",
     "output_type": "stream",
     "text": [
      "Chunking: 100%|██████████| 1/1 [00:00<00:00, 200.01file/s, chunks=61]\n"
     ]
    },
    {
     "name": "stdout",
     "output_type": "stream",
     "text": [
      "Chunks saved to outputs_pipeline/article1_chunks03.json\n"
     ]
    },
    {
     "name": "stderr",
     "output_type": "stream",
     "text": [
      "Chunking: 100%|██████████| 1/1 [00:00<00:00, 313.43file/s, chunks=45]\n"
     ]
    },
    {
     "name": "stdout",
     "output_type": "stream",
     "text": [
      "Chunks saved to outputs_pipeline/article1_chunks03.json\n"
     ]
    },
    {
     "name": "stderr",
     "output_type": "stream",
     "text": [
      "Chunking: 100%|██████████| 1/1 [00:00<00:00, 142.83file/s, chunks=6]\n"
     ]
    },
    {
     "name": "stdout",
     "output_type": "stream",
     "text": [
      "Chunks saved to outputs_pipeline/article1_chunks03.json\n"
     ]
    },
    {
     "name": "stderr",
     "output_type": "stream",
     "text": [
      "Chunking: 100%|██████████| 1/1 [00:00<00:00, 199.84file/s, chunks=10]\n"
     ]
    },
    {
     "name": "stdout",
     "output_type": "stream",
     "text": [
      "Chunks saved to outputs_pipeline/article1_chunks03.json\n"
     ]
    },
    {
     "name": "stderr",
     "output_type": "stream",
     "text": [
      "Chunking: 100%|██████████| 1/1 [00:00<00:00, 499.92file/s, chunks=3]\n"
     ]
    },
    {
     "name": "stdout",
     "output_type": "stream",
     "text": [
      "Chunks saved to outputs_pipeline/article1_chunks03.json\n"
     ]
    },
    {
     "name": "stderr",
     "output_type": "stream",
     "text": [
      "Chunking: 100%|██████████| 1/1 [00:00<00:00, 333.30file/s, chunks=21]\n"
     ]
    },
    {
     "name": "stdout",
     "output_type": "stream",
     "text": [
      "Chunks saved to outputs_pipeline/article1_chunks03.json\n"
     ]
    },
    {
     "name": "stderr",
     "output_type": "stream",
     "text": [
      "Chunking: 100%|██████████| 1/1 [00:00<00:00, 333.44file/s, chunks=25]"
     ]
    },
    {
     "name": "stdout",
     "output_type": "stream",
     "text": [
      "Chunks saved to outputs_pipeline/article1_chunks03.json"
     ]
    },
    {
     "name": "stderr",
     "output_type": "stream",
     "text": [
      "\n"
     ]
    },
    {
     "name": "stdout",
     "output_type": "stream",
     "text": [
      "\n"
     ]
    },
    {
     "name": "stderr",
     "output_type": "stream",
     "text": [
      "Chunking: 100%|██████████| 1/1 [00:00<00:00, 1000.79file/s, chunks=7]\n"
     ]
    },
    {
     "name": "stdout",
     "output_type": "stream",
     "text": [
      "Chunks saved to outputs_pipeline/article1_chunks03.json\n"
     ]
    },
    {
     "name": "stderr",
     "output_type": "stream",
     "text": [
      "Chunking: 100%|██████████| 1/1 [00:00<00:00, 333.12file/s, chunks=18]\n"
     ]
    },
    {
     "name": "stdout",
     "output_type": "stream",
     "text": [
      "Chunks saved to outputs_pipeline/article1_chunks03.json\n"
     ]
    },
    {
     "name": "stderr",
     "output_type": "stream",
     "text": [
      "Chunking: 100%|██████████| 1/1 [00:00<00:00, 62.47file/s, chunks=19]\n"
     ]
    },
    {
     "name": "stdout",
     "output_type": "stream",
     "text": [
      "Chunks saved to outputs_pipeline/article1_chunks03.json\n"
     ]
    },
    {
     "name": "stderr",
     "output_type": "stream",
     "text": [
      "Chunking: 100%|██████████| 1/1 [00:00<00:00, 499.86file/s, chunks=26]\n"
     ]
    },
    {
     "name": "stdout",
     "output_type": "stream",
     "text": [
      "Chunks saved to outputs_pipeline/article1_chunks03.json\n"
     ]
    },
    {
     "name": "stderr",
     "output_type": "stream",
     "text": [
      "Chunking: 100%|██████████| 1/1 [00:00<00:00, 499.50file/s, chunks=11]\n"
     ]
    },
    {
     "name": "stdout",
     "output_type": "stream",
     "text": [
      "Chunks saved to outputs_pipeline/article1_chunks03.json\n"
     ]
    },
    {
     "name": "stderr",
     "output_type": "stream",
     "text": [
      "Chunking: 100%|██████████| 1/1 [00:00<00:00, 499.80file/s, chunks=15]\n"
     ]
    },
    {
     "name": "stdout",
     "output_type": "stream",
     "text": [
      "Chunks saved to outputs_pipeline/article1_chunks03.json\n"
     ]
    },
    {
     "name": "stderr",
     "output_type": "stream",
     "text": [
      "Chunking: 100%|██████████| 1/1 [00:00<00:00, 58.81file/s, chunks=9]\n"
     ]
    },
    {
     "name": "stdout",
     "output_type": "stream",
     "text": [
      "Chunks saved to outputs_pipeline/article1_chunks03.json\n"
     ]
    },
    {
     "name": "stderr",
     "output_type": "stream",
     "text": [
      "Chunking: 100%|██████████| 1/1 [00:00<00:00, 499.56file/s, chunks=6]\n"
     ]
    },
    {
     "name": "stdout",
     "output_type": "stream",
     "text": [
      "Chunks saved to outputs_pipeline/article1_chunks03.json\n"
     ]
    },
    {
     "name": "stderr",
     "output_type": "stream",
     "text": [
      "Chunking: 100%|██████████| 1/1 [00:00<00:00, 500.10file/s, chunks=9]\n"
     ]
    },
    {
     "name": "stdout",
     "output_type": "stream",
     "text": [
      "Chunks saved to outputs_pipeline/article1_chunks03.json\n"
     ]
    },
    {
     "name": "stderr",
     "output_type": "stream",
     "text": [
      "Chunking: 100%|██████████| 1/1 [00:00<00:00, 500.27file/s, chunks=4]"
     ]
    },
    {
     "name": "stdout",
     "output_type": "stream",
     "text": [
      "Chunks saved to outputs_pipeline/article1_chunks03.json"
     ]
    },
    {
     "name": "stderr",
     "output_type": "stream",
     "text": [
      "\n"
     ]
    },
    {
     "name": "stdout",
     "output_type": "stream",
     "text": [
      "\n"
     ]
    },
    {
     "name": "stderr",
     "output_type": "stream",
     "text": [
      "Chunking: 100%|██████████| 1/1 [00:00<00:00, 1000.31file/s, chunks=6]\n"
     ]
    },
    {
     "name": "stdout",
     "output_type": "stream",
     "text": [
      "Chunks saved to outputs_pipeline/article1_chunks03.json\n"
     ]
    },
    {
     "name": "stderr",
     "output_type": "stream",
     "text": [
      "Chunking: 100%|██████████| 1/1 [00:00<00:00, 250.15file/s, chunks=31]\n"
     ]
    },
    {
     "name": "stdout",
     "output_type": "stream",
     "text": [
      "Chunks saved to outputs_pipeline/article1_chunks03.json\n"
     ]
    },
    {
     "name": "stderr",
     "output_type": "stream",
     "text": [
      "Chunking: 100%|██████████| 1/1 [00:00<00:00, 499.26file/s, chunks=11]\n"
     ]
    },
    {
     "name": "stdout",
     "output_type": "stream",
     "text": [
      "Chunks saved to outputs_pipeline/article1_chunks03.json\n"
     ]
    },
    {
     "name": "stderr",
     "output_type": "stream",
     "text": [
      "Chunking: 100%|██████████| 1/1 [00:00<00:00, 250.09file/s, chunks=7]\n"
     ]
    },
    {
     "name": "stdout",
     "output_type": "stream",
     "text": [
      "Chunks saved to outputs_pipeline/article1_chunks03.json\n"
     ]
    },
    {
     "name": "stderr",
     "output_type": "stream",
     "text": [
      "Chunking: 100%|██████████| 1/1 [00:00<00:00, 499.98file/s, chunks=17]\n"
     ]
    },
    {
     "name": "stdout",
     "output_type": "stream",
     "text": [
      "Chunks saved to outputs_pipeline/article1_chunks03.json\n"
     ]
    },
    {
     "name": "stderr",
     "output_type": "stream",
     "text": [
      "Chunking: 100%|██████████| 1/1 [00:00<00:00, 499.62file/s, chunks=8]\n"
     ]
    },
    {
     "name": "stdout",
     "output_type": "stream",
     "text": [
      "Chunks saved to outputs_pipeline/article1_chunks03.json\n"
     ]
    },
    {
     "name": "stderr",
     "output_type": "stream",
     "text": [
      "Chunking: 100%|██████████| 1/1 [00:00<00:00, 999.36file/s, chunks=26]\n"
     ]
    },
    {
     "name": "stdout",
     "output_type": "stream",
     "text": [
      "Chunks saved to outputs_pipeline/article1_chunks03.json\n"
     ]
    },
    {
     "name": "stderr",
     "output_type": "stream",
     "text": [
      "Chunking: 100%|██████████| 1/1 [00:00<00:00, 500.22file/s, chunks=7]\n"
     ]
    },
    {
     "name": "stdout",
     "output_type": "stream",
     "text": [
      "Chunks saved to outputs_pipeline/article1_chunks03.json\n"
     ]
    },
    {
     "name": "stderr",
     "output_type": "stream",
     "text": [
      "Chunking: 100%|██████████| 1/1 [00:00<00:00, 166.72file/s, chunks=21]\n"
     ]
    },
    {
     "name": "stdout",
     "output_type": "stream",
     "text": [
      "Chunks saved to outputs_pipeline/article1_chunks03.json\n"
     ]
    },
    {
     "name": "stderr",
     "output_type": "stream",
     "text": [
      "Chunking: 100%|██████████| 1/1 [00:00<00:00, 500.04file/s, chunks=56]\n"
     ]
    },
    {
     "name": "stdout",
     "output_type": "stream",
     "text": [
      "Chunks saved to outputs_pipeline/article1_chunks03.json\n"
     ]
    },
    {
     "name": "stderr",
     "output_type": "stream",
     "text": [
      "Chunking: 100%|██████████| 1/1 [00:00<00:00, 333.25file/s, chunks=28]\n"
     ]
    },
    {
     "name": "stdout",
     "output_type": "stream",
     "text": [
      "Chunks saved to outputs_pipeline/article1_chunks03.json\n"
     ]
    },
    {
     "name": "stderr",
     "output_type": "stream",
     "text": [
      "Chunking: 100%|██████████| 1/1 [00:00<00:00, 499.98file/s, chunks=28]\n"
     ]
    },
    {
     "name": "stdout",
     "output_type": "stream",
     "text": [
      "Chunks saved to outputs_pipeline/article1_chunks03.json\n"
     ]
    },
    {
     "name": "stderr",
     "output_type": "stream",
     "text": [
      "Chunking: 100%|██████████| 1/1 [00:00<00:00, 38.46file/s, chunks=24]\n"
     ]
    },
    {
     "name": "stdout",
     "output_type": "stream",
     "text": [
      "Chunks saved to outputs_pipeline/article1_chunks03.json\n"
     ]
    },
    {
     "name": "stderr",
     "output_type": "stream",
     "text": [
      "Chunking: 100%|██████████| 1/1 [00:00<00:00, 199.97file/s, chunks=18]\n"
     ]
    },
    {
     "name": "stdout",
     "output_type": "stream",
     "text": [
      "Chunks saved to outputs_pipeline/article1_chunks03.json\n"
     ]
    },
    {
     "name": "stderr",
     "output_type": "stream",
     "text": [
      "Chunking: 100%|██████████| 1/1 [00:00<00:00, 66.64file/s, chunks=59]\n"
     ]
    },
    {
     "name": "stdout",
     "output_type": "stream",
     "text": [
      "Chunks saved to outputs_pipeline/article1_chunks03.json\n"
     ]
    },
    {
     "name": "stderr",
     "output_type": "stream",
     "text": [
      "Chunking: 100%|██████████| 1/1 [00:00<00:00, 494.32file/s, chunks=27]\n"
     ]
    },
    {
     "name": "stdout",
     "output_type": "stream",
     "text": [
      "Chunks saved to outputs_pipeline/article1_chunks03.json\n"
     ]
    },
    {
     "name": "stderr",
     "output_type": "stream",
     "text": [
      "Chunking: 100%|██████████| 1/1 [00:00<00:00, 506.25file/s, chunks=18]\n"
     ]
    },
    {
     "name": "stdout",
     "output_type": "stream",
     "text": [
      "Chunks saved to outputs_pipeline/article1_chunks03.json\n"
     ]
    },
    {
     "name": "stderr",
     "output_type": "stream",
     "text": [
      "Chunking: 100%|██████████| 1/1 [00:00<00:00, 500.22file/s, chunks=32]\n"
     ]
    },
    {
     "name": "stdout",
     "output_type": "stream",
     "text": [
      "Chunks saved to outputs_pipeline/article1_chunks03.json\n"
     ]
    },
    {
     "name": "stderr",
     "output_type": "stream",
     "text": [
      "Chunking: 100%|██████████| 1/1 [00:00<00:00, 200.00file/s, chunks=96]\n"
     ]
    },
    {
     "name": "stdout",
     "output_type": "stream",
     "text": [
      "Chunks saved to outputs_pipeline/article1_chunks03.json\n"
     ]
    },
    {
     "name": "stderr",
     "output_type": "stream",
     "text": [
      "Chunking: 100%|██████████| 1/1 [00:00<00:00, 499.74file/s, chunks=35]"
     ]
    },
    {
     "name": "stdout",
     "output_type": "stream",
     "text": [
      "Chunks saved to outputs_pipeline/article1_chunks03.json"
     ]
    },
    {
     "name": "stderr",
     "output_type": "stream",
     "text": [
      "\n"
     ]
    },
    {
     "name": "stdout",
     "output_type": "stream",
     "text": [
      "\n"
     ]
    },
    {
     "name": "stderr",
     "output_type": "stream",
     "text": [
      "Chunking: 100%|██████████| 1/1 [00:00<00:00, 500.45file/s, chunks=14]\n"
     ]
    },
    {
     "name": "stdout",
     "output_type": "stream",
     "text": [
      "Chunks saved to outputs_pipeline/article1_chunks03.json\n"
     ]
    },
    {
     "name": "stderr",
     "output_type": "stream",
     "text": [
      "Chunking: 100%|██████████| 1/1 [00:00<00:00, 333.30file/s, chunks=7]\n"
     ]
    },
    {
     "name": "stdout",
     "output_type": "stream",
     "text": [
      "Chunks saved to outputs_pipeline/article1_chunks03.json\n"
     ]
    },
    {
     "name": "stderr",
     "output_type": "stream",
     "text": [
      "Chunking: 100%|██████████| 1/1 [00:00<00:00, 125.46file/s, chunks=21]\n"
     ]
    },
    {
     "name": "stdout",
     "output_type": "stream",
     "text": [
      "Chunks saved to outputs_pipeline/article1_chunks03.json\n"
     ]
    },
    {
     "name": "stderr",
     "output_type": "stream",
     "text": [
      "Chunking: 100%|██████████| 1/1 [00:00<00:00, 333.28file/s, chunks=26]"
     ]
    },
    {
     "name": "stdout",
     "output_type": "stream",
     "text": [
      "Chunks saved to outputs_pipeline/article1_chunks03.json\n"
     ]
    },
    {
     "name": "stderr",
     "output_type": "stream",
     "text": [
      "\n",
      "Chunking: 100%|██████████| 1/1 [00:00<00:00, 333.44file/s, chunks=33]\n"
     ]
    },
    {
     "name": "stdout",
     "output_type": "stream",
     "text": [
      "Chunks saved to outputs_pipeline/article1_chunks03.json\n"
     ]
    },
    {
     "name": "stderr",
     "output_type": "stream",
     "text": [
      "Chunking: 100%|██████████| 1/1 [00:00<00:00, 421.33file/s, chunks=10]\n"
     ]
    },
    {
     "name": "stdout",
     "output_type": "stream",
     "text": [
      "Chunks saved to outputs_pipeline/article1_chunks03.json\n"
     ]
    },
    {
     "name": "stderr",
     "output_type": "stream",
     "text": [
      "Chunking: 100%|██████████| 1/1 [00:00<00:00, 499.50file/s, chunks=8]\n"
     ]
    },
    {
     "name": "stdout",
     "output_type": "stream",
     "text": [
      "Chunks saved to outputs_pipeline/article1_chunks03.json\n"
     ]
    },
    {
     "name": "stderr",
     "output_type": "stream",
     "text": [
      "Chunking: 100%|██████████| 1/1 [00:00<00:00, 166.41file/s, chunks=23]"
     ]
    },
    {
     "name": "stdout",
     "output_type": "stream",
     "text": [
      "Chunks saved to outputs_pipeline/article1_chunks03.json"
     ]
    },
    {
     "name": "stderr",
     "output_type": "stream",
     "text": [
      "\n"
     ]
    },
    {
     "name": "stdout",
     "output_type": "stream",
     "text": [
      "\n"
     ]
    },
    {
     "name": "stderr",
     "output_type": "stream",
     "text": [
      "Chunking: 100%|██████████| 1/1 [00:00<00:00, 334.07file/s, chunks=22]\n"
     ]
    },
    {
     "name": "stdout",
     "output_type": "stream",
     "text": [
      "Chunks saved to outputs_pipeline/article1_chunks03.json\n"
     ]
    },
    {
     "name": "stderr",
     "output_type": "stream",
     "text": [
      "Chunking: 100%|██████████| 1/1 [00:00<00:00, 990.62file/s, chunks=10]\n"
     ]
    },
    {
     "name": "stdout",
     "output_type": "stream",
     "text": [
      "Chunks saved to outputs_pipeline/article1_chunks03.json\n"
     ]
    },
    {
     "name": "stderr",
     "output_type": "stream",
     "text": [
      "Chunking: 100%|██████████| 1/1 [00:00<00:00, 333.23file/s, chunks=12]\n"
     ]
    },
    {
     "name": "stdout",
     "output_type": "stream",
     "text": [
      "Chunks saved to outputs_pipeline/article1_chunks03.json\n"
     ]
    },
    {
     "name": "stderr",
     "output_type": "stream",
     "text": [
      "Chunking: 100%|██████████| 1/1 [00:00<00:00, 333.23file/s, chunks=7]\n"
     ]
    },
    {
     "name": "stdout",
     "output_type": "stream",
     "text": [
      "Chunks saved to outputs_pipeline/article1_chunks03.json\n"
     ]
    },
    {
     "name": "stderr",
     "output_type": "stream",
     "text": [
      "Chunking: 100%|██████████| 1/1 [00:00<00:00, 492.93file/s, chunks=5]\n"
     ]
    },
    {
     "name": "stdout",
     "output_type": "stream",
     "text": [
      "Chunks saved to outputs_pipeline/article1_chunks03.json\n"
     ]
    },
    {
     "name": "stderr",
     "output_type": "stream",
     "text": [
      "Chunking: 100%|██████████| 1/1 [00:00<00:00, 995.09file/s, chunks=10]\n"
     ]
    },
    {
     "name": "stdout",
     "output_type": "stream",
     "text": [
      "Chunks saved to outputs_pipeline/article1_chunks03.json\n"
     ]
    },
    {
     "name": "stderr",
     "output_type": "stream",
     "text": [
      "Chunking: 100%|██████████| 1/1 [00:00<00:00, 503.76file/s, chunks=6]\n"
     ]
    },
    {
     "name": "stdout",
     "output_type": "stream",
     "text": [
      "Chunks saved to outputs_pipeline/article1_chunks03.json\n"
     ]
    },
    {
     "name": "stderr",
     "output_type": "stream",
     "text": [
      "Chunking: 100%|██████████| 1/1 [00:00<00:00, 100.01file/s, chunks=18]\n"
     ]
    },
    {
     "name": "stdout",
     "output_type": "stream",
     "text": [
      "Chunks saved to outputs_pipeline/article1_chunks03.json\n"
     ]
    },
    {
     "name": "stderr",
     "output_type": "stream",
     "text": [
      "Chunking: 100%|██████████| 1/1 [00:00<00:00, 52.63file/s, chunks=86]\n"
     ]
    },
    {
     "name": "stdout",
     "output_type": "stream",
     "text": [
      "Chunks saved to outputs_pipeline/article1_chunks03.json\n"
     ]
    },
    {
     "name": "stderr",
     "output_type": "stream",
     "text": [
      "Chunking: 100%|██████████| 1/1 [00:00<00:00, 499.68file/s, chunks=8]"
     ]
    },
    {
     "name": "stdout",
     "output_type": "stream",
     "text": [
      "Chunks saved to outputs_pipeline/article1_chunks03.json"
     ]
    },
    {
     "name": "stderr",
     "output_type": "stream",
     "text": [
      "\n"
     ]
    },
    {
     "name": "stdout",
     "output_type": "stream",
     "text": [
      "\n"
     ]
    },
    {
     "name": "stderr",
     "output_type": "stream",
     "text": [
      "Chunking: 100%|██████████| 1/1 [00:00<00:00, 500.22file/s, chunks=10]\n"
     ]
    },
    {
     "name": "stdout",
     "output_type": "stream",
     "text": [
      "Chunks saved to outputs_pipeline/article1_chunks03.json\n"
     ]
    },
    {
     "name": "stderr",
     "output_type": "stream",
     "text": [
      "Chunking: 100%|██████████| 1/1 [00:00<00:00, 499.98file/s, chunks=6]\n"
     ]
    },
    {
     "name": "stdout",
     "output_type": "stream",
     "text": [
      "Chunks saved to outputs_pipeline/article1_chunks03.json\n"
     ]
    },
    {
     "name": "stderr",
     "output_type": "stream",
     "text": [
      "Chunking: 100%|██████████| 1/1 [00:00<00:00, 40.00file/s, chunks=27]\n"
     ]
    },
    {
     "name": "stdout",
     "output_type": "stream",
     "text": [
      "Chunks saved to outputs_pipeline/article1_chunks03.json\n"
     ]
    },
    {
     "name": "stderr",
     "output_type": "stream",
     "text": [
      "Chunking: 100%|██████████| 1/1 [00:00<00:00, 500.10file/s, chunks=20]\n"
     ]
    },
    {
     "name": "stdout",
     "output_type": "stream",
     "text": [
      "Chunks saved to outputs_pipeline/article1_chunks03.json\n"
     ]
    },
    {
     "name": "stderr",
     "output_type": "stream",
     "text": [
      "Chunking: 100%|██████████| 1/1 [00:00<00:00, 500.33file/s, chunks=28]\n"
     ]
    },
    {
     "name": "stdout",
     "output_type": "stream",
     "text": [
      "Chunks saved to outputs_pipeline/article1_chunks03.json\n"
     ]
    },
    {
     "name": "stderr",
     "output_type": "stream",
     "text": [
      "Chunking: 100%|██████████| 1/1 [00:00<00:00, 500.04file/s, chunks=16]\n"
     ]
    },
    {
     "name": "stdout",
     "output_type": "stream",
     "text": [
      "Chunks saved to outputs_pipeline/article1_chunks03.json\n"
     ]
    },
    {
     "name": "stderr",
     "output_type": "stream",
     "text": [
      "Chunking: 100%|██████████| 1/1 [00:00<00:00, 999.83file/s, chunks=12]\n"
     ]
    },
    {
     "name": "stdout",
     "output_type": "stream",
     "text": [
      "Chunks saved to outputs_pipeline/article1_chunks03.json\n"
     ]
    },
    {
     "name": "stderr",
     "output_type": "stream",
     "text": [
      "Chunking: 100%|██████████| 1/1 [00:00<00:00, 499.56file/s, chunks=17]\n"
     ]
    },
    {
     "name": "stdout",
     "output_type": "stream",
     "text": [
      "Chunks saved to outputs_pipeline/article1_chunks03.json\n"
     ]
    },
    {
     "name": "stderr",
     "output_type": "stream",
     "text": [
      "Chunking: 100%|██████████| 1/1 [00:00<00:00, 253.05file/s, chunks=12]\n"
     ]
    },
    {
     "name": "stdout",
     "output_type": "stream",
     "text": [
      "Chunks saved to outputs_pipeline/article1_chunks03.json\n"
     ]
    },
    {
     "name": "stderr",
     "output_type": "stream",
     "text": [
      "Chunking: 100%|██████████| 1/1 [00:00<00:00, 166.76file/s, chunks=24]\n"
     ]
    },
    {
     "name": "stdout",
     "output_type": "stream",
     "text": [
      "Chunks saved to outputs_pipeline/article1_chunks03.json\n"
     ]
    },
    {
     "name": "stderr",
     "output_type": "stream",
     "text": [
      "Chunking: 100%|██████████| 1/1 [00:00<00:00, 111.15file/s, chunks=62]\n"
     ]
    },
    {
     "name": "stdout",
     "output_type": "stream",
     "text": [
      "Chunks saved to outputs_pipeline/article1_chunks03.json\n"
     ]
    },
    {
     "name": "stderr",
     "output_type": "stream",
     "text": [
      "Chunking: 100%|██████████| 1/1 [00:00<00:00, 999.36file/s, chunks=11]"
     ]
    },
    {
     "name": "stdout",
     "output_type": "stream",
     "text": [
      "Chunks saved to outputs_pipeline/article1_chunks03.json"
     ]
    },
    {
     "name": "stderr",
     "output_type": "stream",
     "text": [
      "\n"
     ]
    },
    {
     "name": "stdout",
     "output_type": "stream",
     "text": [
      "\n"
     ]
    },
    {
     "name": "stderr",
     "output_type": "stream",
     "text": [
      "Chunking: 100%|██████████| 1/1 [00:00<00:00, 333.23file/s, chunks=37]\n"
     ]
    },
    {
     "name": "stdout",
     "output_type": "stream",
     "text": [
      "Chunks saved to outputs_pipeline/article1_chunks03.json\n"
     ]
    },
    {
     "name": "stderr",
     "output_type": "stream",
     "text": [
      "Chunking: 100%|██████████| 1/1 [00:00<00:00, 62.45file/s, chunks=46]\n"
     ]
    },
    {
     "name": "stdout",
     "output_type": "stream",
     "text": [
      "Chunks saved to outputs_pipeline/article1_chunks03.json\n"
     ]
    },
    {
     "name": "stderr",
     "output_type": "stream",
     "text": [
      "Chunking: 100%|██████████| 1/1 [00:00<00:00, 333.25file/s, chunks=20]\n"
     ]
    },
    {
     "name": "stdout",
     "output_type": "stream",
     "text": [
      "Chunks saved to outputs_pipeline/article1_chunks03.json\n"
     ]
    },
    {
     "name": "stderr",
     "output_type": "stream",
     "text": [
      "Chunking: 100%|██████████| 1/1 [00:00<00:00, 1001.03file/s, chunks=4]\n"
     ]
    },
    {
     "name": "stdout",
     "output_type": "stream",
     "text": [
      "Chunks saved to outputs_pipeline/article1_chunks03.json\n"
     ]
    },
    {
     "name": "stderr",
     "output_type": "stream",
     "text": [
      "Chunking: 100%|██████████| 1/1 [00:00<00:00, 333.33file/s, chunks=21]\n"
     ]
    },
    {
     "name": "stdout",
     "output_type": "stream",
     "text": [
      "Chunks saved to outputs_pipeline/article1_chunks03.json\n"
     ]
    },
    {
     "name": "stderr",
     "output_type": "stream",
     "text": [
      "Chunking: 100%|██████████| 1/1 [00:00<00:00, 333.23file/s, chunks=10]\n"
     ]
    },
    {
     "name": "stdout",
     "output_type": "stream",
     "text": [
      "Chunks saved to outputs_pipeline/article1_chunks03.json\n"
     ]
    },
    {
     "name": "stderr",
     "output_type": "stream",
     "text": [
      "Chunking: 100%|██████████| 1/1 [00:00<00:00, 499.74file/s, chunks=13]"
     ]
    },
    {
     "name": "stdout",
     "output_type": "stream",
     "text": [
      "Chunks saved to outputs_pipeline/article1_chunks03.json"
     ]
    },
    {
     "name": "stderr",
     "output_type": "stream",
     "text": [
      "\n"
     ]
    },
    {
     "name": "stdout",
     "output_type": "stream",
     "text": [
      "\n"
     ]
    },
    {
     "name": "stderr",
     "output_type": "stream",
     "text": [
      "Chunking: 100%|██████████| 1/1 [00:00<00:00, 500.27file/s, chunks=8]"
     ]
    },
    {
     "name": "stdout",
     "output_type": "stream",
     "text": [
      "Chunks saved to outputs_pipeline/article1_chunks03.json"
     ]
    },
    {
     "name": "stderr",
     "output_type": "stream",
     "text": [
      "\n"
     ]
    },
    {
     "name": "stdout",
     "output_type": "stream",
     "text": [
      "\n"
     ]
    },
    {
     "name": "stderr",
     "output_type": "stream",
     "text": [
      "Chunking: 100%|██████████| 1/1 [00:00<00:00, 39.81file/s, chunks=23]\n"
     ]
    },
    {
     "name": "stdout",
     "output_type": "stream",
     "text": [
      "Chunks saved to outputs_pipeline/article1_chunks03.json\n"
     ]
    },
    {
     "name": "stderr",
     "output_type": "stream",
     "text": [
      "Chunking: 100%|██████████| 1/1 [00:00<00:00, 333.20file/s, chunks=5]\n"
     ]
    },
    {
     "name": "stdout",
     "output_type": "stream",
     "text": [
      "Chunks saved to outputs_pipeline/article1_chunks03.json\n"
     ]
    },
    {
     "name": "stderr",
     "output_type": "stream",
     "text": [
      "Chunking: 100%|██████████| 1/1 [00:00<00:00, 499.98file/s, chunks=4]\n"
     ]
    },
    {
     "name": "stdout",
     "output_type": "stream",
     "text": [
      "Chunks saved to outputs_pipeline/article1_chunks03.json\n"
     ]
    },
    {
     "name": "stderr",
     "output_type": "stream",
     "text": [
      "Chunking: 100%|██████████| 1/1 [00:00<00:00, 500.16file/s, chunks=11]"
     ]
    },
    {
     "name": "stdout",
     "output_type": "stream",
     "text": [
      "Chunks saved to outputs_pipeline/article1_chunks03.json"
     ]
    },
    {
     "name": "stderr",
     "output_type": "stream",
     "text": [
      "\n"
     ]
    },
    {
     "name": "stdout",
     "output_type": "stream",
     "text": [
      "\n"
     ]
    },
    {
     "name": "stderr",
     "output_type": "stream",
     "text": [
      "Chunking: 100%|██████████| 1/1 [00:00<00:00, 71.37file/s, chunks=10]\n"
     ]
    },
    {
     "name": "stdout",
     "output_type": "stream",
     "text": [
      "Chunks saved to outputs_pipeline/article1_chunks03.json\n"
     ]
    },
    {
     "name": "stderr",
     "output_type": "stream",
     "text": [
      "Chunking: 100%|██████████| 1/1 [00:00<00:00, 333.33file/s, chunks=24]\n"
     ]
    },
    {
     "name": "stdout",
     "output_type": "stream",
     "text": [
      "Chunks saved to outputs_pipeline/article1_chunks03.json\n"
     ]
    },
    {
     "name": "stderr",
     "output_type": "stream",
     "text": [
      "Chunking: 100%|██████████| 1/1 [00:00<00:00, 499.92file/s, chunks=6]\n"
     ]
    },
    {
     "name": "stdout",
     "output_type": "stream",
     "text": [
      "Chunks saved to outputs_pipeline/article1_chunks03.json\n"
     ]
    },
    {
     "name": "stderr",
     "output_type": "stream",
     "text": [
      "Chunking: 100%|██████████| 1/1 [00:00<00:00, 500.69file/s, chunks=3]\n"
     ]
    },
    {
     "name": "stdout",
     "output_type": "stream",
     "text": [
      "Chunks saved to outputs_pipeline/article1_chunks03.json\n"
     ]
    },
    {
     "name": "stderr",
     "output_type": "stream",
     "text": [
      "Chunking: 100%|██████████| 1/1 [00:00<00:00, 499.86file/s, chunks=16]\n"
     ]
    },
    {
     "name": "stdout",
     "output_type": "stream",
     "text": [
      "Chunks saved to outputs_pipeline/article1_chunks03.json\n"
     ]
    },
    {
     "name": "stderr",
     "output_type": "stream",
     "text": [
      "Chunking: 100%|██████████| 1/1 [00:00<00:00, 499.92file/s, chunks=18]\n"
     ]
    },
    {
     "name": "stdout",
     "output_type": "stream",
     "text": [
      "Chunks saved to outputs_pipeline/article1_chunks03.json\n"
     ]
    },
    {
     "name": "stderr",
     "output_type": "stream",
     "text": [
      "Chunking: 100%|██████████| 1/1 [00:00<00:00, 100.00file/s, chunks=20]\n"
     ]
    },
    {
     "name": "stdout",
     "output_type": "stream",
     "text": [
      "Chunks saved to outputs_pipeline/article1_chunks03.json\n"
     ]
    },
    {
     "name": "stderr",
     "output_type": "stream",
     "text": [
      "Chunking: 100%|██████████| 1/1 [00:00<00:00, 333.38file/s, chunks=32]\n"
     ]
    },
    {
     "name": "stdout",
     "output_type": "stream",
     "text": [
      "Chunks saved to outputs_pipeline/article1_chunks03.json\n"
     ]
    },
    {
     "name": "stderr",
     "output_type": "stream",
     "text": [
      "Chunking: 100%|██████████| 1/1 [00:00<00:00, 499.92file/s, chunks=11]\n"
     ]
    },
    {
     "name": "stdout",
     "output_type": "stream",
     "text": [
      "Chunks saved to outputs_pipeline/article1_chunks03.json\n"
     ]
    },
    {
     "name": "stderr",
     "output_type": "stream",
     "text": [
      "Chunking: 100%|██████████| 1/1 [00:00<00:00, 80.30file/s, chunks=24]\n"
     ]
    },
    {
     "name": "stdout",
     "output_type": "stream",
     "text": [
      "Chunks saved to outputs_pipeline/article1_chunks03.json\n"
     ]
    },
    {
     "name": "stderr",
     "output_type": "stream",
     "text": [
      "Chunking: 100%|██████████| 1/1 [00:00<00:00, 997.46file/s, chunks=6]"
     ]
    },
    {
     "name": "stdout",
     "output_type": "stream",
     "text": [
      "Chunks saved to outputs_pipeline/article1_chunks03.json"
     ]
    },
    {
     "name": "stderr",
     "output_type": "stream",
     "text": [
      "\n"
     ]
    },
    {
     "name": "stdout",
     "output_type": "stream",
     "text": [
      "\n"
     ]
    },
    {
     "name": "stderr",
     "output_type": "stream",
     "text": [
      "Chunking: 100%|██████████| 1/1 [00:00<00:00, 499.80file/s, chunks=27]\n"
     ]
    },
    {
     "name": "stdout",
     "output_type": "stream",
     "text": [
      "Chunks saved to outputs_pipeline/article1_chunks03.json\n"
     ]
    },
    {
     "name": "stderr",
     "output_type": "stream",
     "text": [
      "Chunking: 100%|██████████| 1/1 [00:00<00:00, 499.86file/s, chunks=10]\n"
     ]
    },
    {
     "name": "stdout",
     "output_type": "stream",
     "text": [
      "Chunks saved to outputs_pipeline/article1_chunks03.json\n"
     ]
    },
    {
     "name": "stderr",
     "output_type": "stream",
     "text": [
      "Chunking: 100%|██████████| 1/1 [00:00<00:00, 333.25file/s, chunks=25]\n"
     ]
    },
    {
     "name": "stdout",
     "output_type": "stream",
     "text": [
      "Chunks saved to outputs_pipeline/article1_chunks03.json\n"
     ]
    },
    {
     "name": "stderr",
     "output_type": "stream",
     "text": [
      "Chunking: 100%|██████████| 1/1 [00:00<00:00, 333.36file/s, chunks=21]\n"
     ]
    },
    {
     "name": "stdout",
     "output_type": "stream",
     "text": [
      "Chunks saved to outputs_pipeline/article1_chunks03.json\n"
     ]
    },
    {
     "name": "stderr",
     "output_type": "stream",
     "text": [
      "Chunking: 100%|██████████| 1/1 [00:00<00:00, 499.20file/s, chunks=4]"
     ]
    },
    {
     "name": "stdout",
     "output_type": "stream",
     "text": [
      "Chunks saved to outputs_pipeline/article1_chunks03.json"
     ]
    },
    {
     "name": "stderr",
     "output_type": "stream",
     "text": [
      "\n"
     ]
    },
    {
     "name": "stdout",
     "output_type": "stream",
     "text": [
      "\n"
     ]
    },
    {
     "name": "stderr",
     "output_type": "stream",
     "text": [
      "Chunking: 100%|██████████| 1/1 [00:00<00:00, 333.38file/s, chunks=25]\n"
     ]
    },
    {
     "name": "stdout",
     "output_type": "stream",
     "text": [
      "Chunks saved to outputs_pipeline/article1_chunks03.json\n"
     ]
    },
    {
     "name": "stderr",
     "output_type": "stream",
     "text": [
      "Chunking: 100%|██████████| 1/1 [00:00<00:00, 333.04file/s, chunks=21]\n"
     ]
    },
    {
     "name": "stdout",
     "output_type": "stream",
     "text": [
      "Chunks saved to outputs_pipeline/article1_chunks03.json\n"
     ]
    },
    {
     "name": "stderr",
     "output_type": "stream",
     "text": [
      "Chunking: 100%|██████████| 1/1 [00:00<00:00, 499.92file/s, chunks=9]\n"
     ]
    },
    {
     "name": "stdout",
     "output_type": "stream",
     "text": [
      "Chunks saved to outputs_pipeline/article1_chunks03.json\n"
     ]
    },
    {
     "name": "stderr",
     "output_type": "stream",
     "text": [
      "Chunking: 100%|██████████| 1/1 [00:00<00:00, 499.98file/s, chunks=17]\n"
     ]
    },
    {
     "name": "stdout",
     "output_type": "stream",
     "text": [
      "Chunks saved to outputs_pipeline/article1_chunks03.json\n"
     ]
    },
    {
     "name": "stderr",
     "output_type": "stream",
     "text": [
      "Chunking: 100%|██████████| 1/1 [00:00<00:00, 500.04file/s, chunks=33]\n"
     ]
    },
    {
     "name": "stdout",
     "output_type": "stream",
     "text": [
      "Chunks saved to outputs_pipeline/article1_chunks03.json\n"
     ]
    },
    {
     "name": "stderr",
     "output_type": "stream",
     "text": [
      "Chunking: 100%|██████████| 1/1 [00:00<00:00, 200.02file/s, chunks=26]\n"
     ]
    },
    {
     "name": "stdout",
     "output_type": "stream",
     "text": [
      "Chunks saved to outputs_pipeline/article1_chunks03.json\n"
     ]
    },
    {
     "name": "stderr",
     "output_type": "stream",
     "text": [
      "Chunking: 100%|██████████| 1/1 [00:00<00:00, 30.30file/s, chunks=59]"
     ]
    },
    {
     "name": "stdout",
     "output_type": "stream",
     "text": [
      "Chunks saved to outputs_pipeline/article1_chunks03.json"
     ]
    },
    {
     "name": "stderr",
     "output_type": "stream",
     "text": [
      "\n"
     ]
    },
    {
     "name": "stdout",
     "output_type": "stream",
     "text": [
      "\n"
     ]
    },
    {
     "name": "stderr",
     "output_type": "stream",
     "text": [
      "Chunking: 100%|██████████| 1/1 [00:00<00:00, 319.71file/s, chunks=47]"
     ]
    },
    {
     "name": "stdout",
     "output_type": "stream",
     "text": [
      "Chunks saved to outputs_pipeline/article1_chunks03.json"
     ]
    },
    {
     "name": "stderr",
     "output_type": "stream",
     "text": [
      "\n"
     ]
    },
    {
     "name": "stdout",
     "output_type": "stream",
     "text": [
      "\n"
     ]
    },
    {
     "name": "stderr",
     "output_type": "stream",
     "text": [
      "Chunking: 100%|██████████| 1/1 [00:00<00:00, 1000.31file/s, chunks=24]\n"
     ]
    },
    {
     "name": "stdout",
     "output_type": "stream",
     "text": [
      "Chunks saved to outputs_pipeline/article1_chunks03.json\n"
     ]
    },
    {
     "name": "stderr",
     "output_type": "stream",
     "text": [
      "Chunking: 100%|██████████| 1/1 [00:00<00:00, 58.79file/s, chunks=26]\n"
     ]
    },
    {
     "name": "stdout",
     "output_type": "stream",
     "text": [
      "Chunks saved to outputs_pipeline/article1_chunks03.json\n"
     ]
    },
    {
     "name": "stderr",
     "output_type": "stream",
     "text": [
      "Chunking: 100%|██████████| 1/1 [00:00<00:00, 499.86file/s, chunks=6]\n"
     ]
    },
    {
     "name": "stdout",
     "output_type": "stream",
     "text": [
      "Chunks saved to outputs_pipeline/article1_chunks03.json\n"
     ]
    },
    {
     "name": "stderr",
     "output_type": "stream",
     "text": [
      "Chunking: 100%|██████████| 1/1 [00:00<00:00, 500.16file/s, chunks=58]\n"
     ]
    },
    {
     "name": "stdout",
     "output_type": "stream",
     "text": [
      "Chunks saved to outputs_pipeline/article1_chunks03.json\n"
     ]
    },
    {
     "name": "stderr",
     "output_type": "stream",
     "text": [
      "Chunking: 100%|██████████| 1/1 [00:00<00:00, 500.39file/s, chunks=31]\n"
     ]
    },
    {
     "name": "stdout",
     "output_type": "stream",
     "text": [
      "Chunks saved to outputs_pipeline/article1_chunks03.json\n"
     ]
    },
    {
     "name": "stderr",
     "output_type": "stream",
     "text": [
      "Chunking: 100%|██████████| 1/1 [00:00<00:00, 249.82file/s, chunks=69]\n"
     ]
    },
    {
     "name": "stdout",
     "output_type": "stream",
     "text": [
      "Chunks saved to outputs_pipeline/article1_chunks03.json\n"
     ]
    },
    {
     "name": "stderr",
     "output_type": "stream",
     "text": [
      "Chunking: 100%|██████████| 1/1 [00:00<00:00, 500.22file/s, chunks=46]\n"
     ]
    },
    {
     "name": "stdout",
     "output_type": "stream",
     "text": [
      "Chunks saved to outputs_pipeline/article1_chunks03.json\n"
     ]
    },
    {
     "name": "stderr",
     "output_type": "stream",
     "text": [
      "Chunking: 100%|██████████| 1/1 [00:00<00:00, 55.56file/s, chunks=24]\n"
     ]
    },
    {
     "name": "stdout",
     "output_type": "stream",
     "text": [
      "Chunks saved to outputs_pipeline/article1_chunks03.json\n"
     ]
    },
    {
     "name": "stderr",
     "output_type": "stream",
     "text": [
      "Chunking: 100%|██████████| 1/1 [00:00<00:00, 200.04file/s, chunks=49]\n"
     ]
    },
    {
     "name": "stdout",
     "output_type": "stream",
     "text": [
      "Chunks saved to outputs_pipeline/article1_chunks03.json\n"
     ]
    },
    {
     "name": "stderr",
     "output_type": "stream",
     "text": [
      "Chunking: 100%|██████████| 1/1 [00:00<00:00, 332.96file/s, chunks=37]\n"
     ]
    },
    {
     "name": "stdout",
     "output_type": "stream",
     "text": [
      "Chunks saved to outputs_pipeline/article1_chunks03.json\n"
     ]
    },
    {
     "name": "stderr",
     "output_type": "stream",
     "text": [
      "Chunking: 100%|██████████| 1/1 [00:00<00:00, 499.98file/s, chunks=34]\n"
     ]
    },
    {
     "name": "stdout",
     "output_type": "stream",
     "text": [
      "Chunks saved to outputs_pipeline/article1_chunks03.json\n"
     ]
    },
    {
     "name": "stderr",
     "output_type": "stream",
     "text": [
      "Chunking: 100%|██████████| 1/1 [00:00<00:00, 499.38file/s, chunks=32]\n"
     ]
    },
    {
     "name": "stdout",
     "output_type": "stream",
     "text": [
      "Chunks saved to outputs_pipeline/article1_chunks03.json\n"
     ]
    },
    {
     "name": "stderr",
     "output_type": "stream",
     "text": [
      "Chunking: 100%|██████████| 1/1 [00:00<00:00, 333.30file/s, chunks=37]\n"
     ]
    },
    {
     "name": "stdout",
     "output_type": "stream",
     "text": [
      "Chunks saved to outputs_pipeline/article1_chunks03.json\n"
     ]
    },
    {
     "name": "stderr",
     "output_type": "stream",
     "text": [
      "Chunking: 100%|██████████| 1/1 [00:00<00:00, 333.17file/s, chunks=28]\n"
     ]
    },
    {
     "name": "stdout",
     "output_type": "stream",
     "text": [
      "Chunks saved to outputs_pipeline/article1_chunks03.json\n"
     ]
    },
    {
     "name": "stderr",
     "output_type": "stream",
     "text": [
      "Chunking: 100%|██████████| 1/1 [00:00<00:00, 499.38file/s, chunks=38]\n"
     ]
    },
    {
     "name": "stdout",
     "output_type": "stream",
     "text": [
      "Chunks saved to outputs_pipeline/article1_chunks03.json\n"
     ]
    },
    {
     "name": "stderr",
     "output_type": "stream",
     "text": [
      "Chunking: 100%|██████████| 1/1 [00:00<00:00, 250.14file/s, chunks=46]"
     ]
    },
    {
     "name": "stdout",
     "output_type": "stream",
     "text": [
      "Chunks saved to outputs_pipeline/article1_chunks03.json"
     ]
    },
    {
     "name": "stderr",
     "output_type": "stream",
     "text": [
      "\n"
     ]
    },
    {
     "name": "stdout",
     "output_type": "stream",
     "text": [
      "\n"
     ]
    },
    {
     "name": "stderr",
     "output_type": "stream",
     "text": [
      "Chunking: 100%|██████████| 1/1 [00:00<00:00, 500.10file/s, chunks=25]\n"
     ]
    },
    {
     "name": "stdout",
     "output_type": "stream",
     "text": [
      "Chunks saved to outputs_pipeline/article1_chunks03.json\n"
     ]
    },
    {
     "name": "stderr",
     "output_type": "stream",
     "text": [
      "Chunking: 100%|██████████| 1/1 [00:00<00:00, 499.62file/s, chunks=24]\n"
     ]
    },
    {
     "name": "stdout",
     "output_type": "stream",
     "text": [
      "Chunks saved to outputs_pipeline/article1_chunks03.json\n"
     ]
    },
    {
     "name": "stderr",
     "output_type": "stream",
     "text": [
      "Chunking: 100%|██████████| 1/1 [00:00<00:00, 333.15file/s, chunks=45]\n"
     ]
    },
    {
     "name": "stdout",
     "output_type": "stream",
     "text": [
      "Chunks saved to outputs_pipeline/article1_chunks03.json\n"
     ]
    },
    {
     "name": "stderr",
     "output_type": "stream",
     "text": [
      "Chunking: 100%|██████████| 1/1 [00:00<00:00, 499.92file/s, chunks=38]\n"
     ]
    },
    {
     "name": "stdout",
     "output_type": "stream",
     "text": [
      "Chunks saved to outputs_pipeline/article1_chunks03.json\n"
     ]
    },
    {
     "name": "stderr",
     "output_type": "stream",
     "text": [
      "Chunking: 100%|██████████| 1/1 [00:00<00:00, 333.01file/s, chunks=32]\n"
     ]
    },
    {
     "name": "stdout",
     "output_type": "stream",
     "text": [
      "Chunks saved to outputs_pipeline/article1_chunks03.json\n"
     ]
    },
    {
     "name": "stderr",
     "output_type": "stream",
     "text": [
      "Chunking: 100%|██████████| 1/1 [00:00<00:00, 39.99file/s, chunks=56]\n"
     ]
    },
    {
     "name": "stdout",
     "output_type": "stream",
     "text": [
      "Chunks saved to outputs_pipeline/article1_chunks03.json\n"
     ]
    },
    {
     "name": "stderr",
     "output_type": "stream",
     "text": [
      "Chunking: 100%|██████████| 1/1 [00:00<00:00, 499.14file/s, chunks=26]\n"
     ]
    },
    {
     "name": "stdout",
     "output_type": "stream",
     "text": [
      "Chunks saved to outputs_pipeline/article1_chunks03.json\n"
     ]
    },
    {
     "name": "stderr",
     "output_type": "stream",
     "text": [
      "Chunking: 100%|██████████| 1/1 [00:00<00:00, 499.50file/s, chunks=23]"
     ]
    },
    {
     "name": "stdout",
     "output_type": "stream",
     "text": [
      "Chunks saved to outputs_pipeline/article1_chunks03.json"
     ]
    },
    {
     "name": "stderr",
     "output_type": "stream",
     "text": [
      "\n"
     ]
    },
    {
     "name": "stdout",
     "output_type": "stream",
     "text": [
      "\n"
     ]
    },
    {
     "name": "stderr",
     "output_type": "stream",
     "text": [
      "Chunking: 100%|██████████| 1/1 [00:00<00:00, 89.92file/s, chunks=60]"
     ]
    },
    {
     "name": "stdout",
     "output_type": "stream",
     "text": [
      "Chunks saved to outputs_pipeline/article1_chunks03.json"
     ]
    },
    {
     "name": "stderr",
     "output_type": "stream",
     "text": [
      "\n"
     ]
    },
    {
     "name": "stdout",
     "output_type": "stream",
     "text": [
      "\n"
     ]
    },
    {
     "name": "stderr",
     "output_type": "stream",
     "text": [
      "Chunking: 100%|██████████| 1/1 [00:00<00:00, 333.57file/s, chunks=34]"
     ]
    },
    {
     "name": "stdout",
     "output_type": "stream",
     "text": [
      "Chunks saved to outputs_pipeline/article1_chunks03.json"
     ]
    },
    {
     "name": "stderr",
     "output_type": "stream",
     "text": [
      "\n"
     ]
    },
    {
     "name": "stdout",
     "output_type": "stream",
     "text": [
      "\n"
     ]
    },
    {
     "name": "stderr",
     "output_type": "stream",
     "text": [
      "Chunking: 100%|██████████| 1/1 [00:00<00:00, 100.01file/s, chunks=94]\n"
     ]
    },
    {
     "name": "stdout",
     "output_type": "stream",
     "text": [
      "Chunks saved to outputs_pipeline/article1_chunks03.json\n"
     ]
    },
    {
     "name": "stderr",
     "output_type": "stream",
     "text": [
      "Chunking: 100%|██████████| 1/1 [00:00<00:00, 500.51file/s, chunks=52]"
     ]
    },
    {
     "name": "stdout",
     "output_type": "stream",
     "text": [
      "Chunks saved to outputs_pipeline/article1_chunks03.json\n"
     ]
    },
    {
     "name": "stderr",
     "output_type": "stream",
     "text": [
      "\n",
      "Chunking: 100%|██████████| 1/1 [00:00<00:00, 499.98file/s, chunks=38]"
     ]
    },
    {
     "name": "stdout",
     "output_type": "stream",
     "text": [
      "Chunks saved to outputs_pipeline/article1_chunks03.json"
     ]
    },
    {
     "name": "stderr",
     "output_type": "stream",
     "text": [
      "\n"
     ]
    },
    {
     "name": "stdout",
     "output_type": "stream",
     "text": [
      "\n"
     ]
    },
    {
     "name": "stderr",
     "output_type": "stream",
     "text": [
      "Chunking: 100%|██████████| 1/1 [00:00<00:00, 500.63file/s, chunks=35]\n"
     ]
    },
    {
     "name": "stdout",
     "output_type": "stream",
     "text": [
      "Chunks saved to outputs_pipeline/article1_chunks03.json\n"
     ]
    },
    {
     "name": "stderr",
     "output_type": "stream",
     "text": [
      "Chunking: 100%|██████████| 1/1 [00:00<00:00, 333.09file/s, chunks=20]\n"
     ]
    },
    {
     "name": "stdout",
     "output_type": "stream",
     "text": [
      "Chunks saved to outputs_pipeline/article1_chunks03.json\n"
     ]
    },
    {
     "name": "stderr",
     "output_type": "stream",
     "text": [
      "Chunking: 100%|██████████| 1/1 [00:00<00:00, 333.09file/s, chunks=37]\n"
     ]
    },
    {
     "name": "stdout",
     "output_type": "stream",
     "text": [
      "Chunks saved to outputs_pipeline/article1_chunks03.json\n"
     ]
    },
    {
     "name": "stderr",
     "output_type": "stream",
     "text": [
      "Chunking: 100%|██████████| 1/1 [00:00<00:00, 499.92file/s, chunks=47]\n"
     ]
    },
    {
     "name": "stdout",
     "output_type": "stream",
     "text": [
      "Chunks saved to outputs_pipeline/article1_chunks03.json\n"
     ]
    },
    {
     "name": "stderr",
     "output_type": "stream",
     "text": [
      "Chunking: 100%|██████████| 1/1 [00:00<00:00, 499.50file/s, chunks=7]\n"
     ]
    },
    {
     "name": "stdout",
     "output_type": "stream",
     "text": [
      "Chunks saved to outputs_pipeline/article1_chunks03.json\n"
     ]
    },
    {
     "name": "stderr",
     "output_type": "stream",
     "text": [
      "Chunking: 100%|██████████| 1/1 [00:00<00:00, 333.20file/s, chunks=30]\n"
     ]
    },
    {
     "name": "stdout",
     "output_type": "stream",
     "text": [
      "Chunks saved to outputs_pipeline/article1_chunks03.json\n"
     ]
    },
    {
     "name": "stderr",
     "output_type": "stream",
     "text": [
      "Chunking: 100%|██████████| 1/1 [00:00<00:00, 334.23file/s, chunks=38]"
     ]
    },
    {
     "name": "stdout",
     "output_type": "stream",
     "text": [
      "Chunks saved to outputs_pipeline/article1_chunks03.json"
     ]
    },
    {
     "name": "stderr",
     "output_type": "stream",
     "text": [
      "\n"
     ]
    },
    {
     "name": "stdout",
     "output_type": "stream",
     "text": [
      "\n"
     ]
    },
    {
     "name": "stderr",
     "output_type": "stream",
     "text": [
      "Chunking: 100%|██████████| 1/1 [00:00<00:00, 1000.79file/s, chunks=9]"
     ]
    },
    {
     "name": "stdout",
     "output_type": "stream",
     "text": [
      "Chunks saved to outputs_pipeline/article1_chunks03.json"
     ]
    },
    {
     "name": "stderr",
     "output_type": "stream",
     "text": [
      "\n"
     ]
    },
    {
     "name": "stdout",
     "output_type": "stream",
     "text": [
      "\n"
     ]
    },
    {
     "name": "stderr",
     "output_type": "stream",
     "text": [
      "Chunking: 100%|██████████| 1/1 [00:00<00:00, 500.10file/s, chunks=16]\n"
     ]
    },
    {
     "name": "stdout",
     "output_type": "stream",
     "text": [
      "Chunks saved to outputs_pipeline/article1_chunks03.json\n"
     ]
    },
    {
     "name": "stderr",
     "output_type": "stream",
     "text": [
      "Chunking: 100%|██████████| 1/1 [00:00<00:00, 40.00file/s, chunks=35]\n"
     ]
    },
    {
     "name": "stdout",
     "output_type": "stream",
     "text": [
      "Chunks saved to outputs_pipeline/article1_chunks03.json\n"
     ]
    },
    {
     "name": "stderr",
     "output_type": "stream",
     "text": [
      "Chunking: 100%|██████████| 1/1 [00:00<00:00, 499.92file/s, chunks=8]"
     ]
    },
    {
     "name": "stdout",
     "output_type": "stream",
     "text": [
      "Chunks saved to outputs_pipeline/article1_chunks03.json"
     ]
    },
    {
     "name": "stderr",
     "output_type": "stream",
     "text": [
      "\n"
     ]
    },
    {
     "name": "stdout",
     "output_type": "stream",
     "text": [
      "\n"
     ]
    },
    {
     "name": "stderr",
     "output_type": "stream",
     "text": [
      "Chunking: 100%|██████████| 1/1 [00:00<00:00, 499.92file/s, chunks=27]"
     ]
    },
    {
     "name": "stdout",
     "output_type": "stream",
     "text": [
      "Chunks saved to outputs_pipeline/article1_chunks03.json"
     ]
    },
    {
     "name": "stderr",
     "output_type": "stream",
     "text": [
      "\n"
     ]
    },
    {
     "name": "stdout",
     "output_type": "stream",
     "text": [
      "\n"
     ]
    },
    {
     "name": "stderr",
     "output_type": "stream",
     "text": [
      "Chunking: 100%|██████████| 1/1 [00:00<00:00, 333.54file/s, chunks=50]\n"
     ]
    },
    {
     "name": "stdout",
     "output_type": "stream",
     "text": [
      "Chunks saved to outputs_pipeline/article1_chunks03.json\n"
     ]
    },
    {
     "name": "stderr",
     "output_type": "stream",
     "text": [
      "Chunking: 100%|██████████| 1/1 [00:00<00:00, 71.37file/s, chunks=37]\n"
     ]
    },
    {
     "name": "stdout",
     "output_type": "stream",
     "text": [
      "Chunks saved to outputs_pipeline/article1_chunks03.json\n"
     ]
    },
    {
     "name": "stderr",
     "output_type": "stream",
     "text": [
      "Chunking: 100%|██████████| 1/1 [00:00<00:00, 90.91file/s, chunks=51]"
     ]
    },
    {
     "name": "stdout",
     "output_type": "stream",
     "text": [
      "Chunks saved to outputs_pipeline/article1_chunks03.json\n"
     ]
    },
    {
     "name": "stderr",
     "output_type": "stream",
     "text": [
      "\n",
      "Chunking: 100%|██████████| 1/1 [00:00<00:00, 333.38file/s, chunks=65]\n"
     ]
    },
    {
     "name": "stdout",
     "output_type": "stream",
     "text": [
      "Chunks saved to outputs_pipeline/article1_chunks03.json\n"
     ]
    },
    {
     "name": "stderr",
     "output_type": "stream",
     "text": [
      "Chunking: 100%|██████████| 1/1 [00:00<00:00, 500.69file/s, chunks=26]"
     ]
    },
    {
     "name": "stdout",
     "output_type": "stream",
     "text": [
      "Chunks saved to outputs_pipeline/article1_chunks03.json"
     ]
    },
    {
     "name": "stderr",
     "output_type": "stream",
     "text": [
      "\n"
     ]
    },
    {
     "name": "stdout",
     "output_type": "stream",
     "text": [
      "\n"
     ]
    },
    {
     "name": "stderr",
     "output_type": "stream",
     "text": [
      "Chunking: 100%|██████████| 1/1 [00:00<00:00, 1027.26file/s, chunks=9]\n"
     ]
    },
    {
     "name": "stdout",
     "output_type": "stream",
     "text": [
      "Chunks saved to outputs_pipeline/article1_chunks03.json\n"
     ]
    },
    {
     "name": "stderr",
     "output_type": "stream",
     "text": [
      "Chunking: 100%|██████████| 1/1 [00:00<00:00, 664.81file/s, chunks=24]"
     ]
    },
    {
     "name": "stdout",
     "output_type": "stream",
     "text": [
      "Chunks saved to outputs_pipeline/article1_chunks03.json"
     ]
    },
    {
     "name": "stderr",
     "output_type": "stream",
     "text": [
      "\n"
     ]
    },
    {
     "name": "stdout",
     "output_type": "stream",
     "text": [
      "\n"
     ]
    },
    {
     "name": "stderr",
     "output_type": "stream",
     "text": [
      "Chunking: 100%|██████████| 1/1 [00:00<00:00, 499.44file/s, chunks=24]\n"
     ]
    },
    {
     "name": "stdout",
     "output_type": "stream",
     "text": [
      "Chunks saved to outputs_pipeline/article1_chunks03.json\n"
     ]
    },
    {
     "name": "stderr",
     "output_type": "stream",
     "text": [
      "Chunking: 100%|██████████| 1/1 [00:00<00:00, 501.35file/s, chunks=38]\n"
     ]
    },
    {
     "name": "stdout",
     "output_type": "stream",
     "text": [
      "Chunks saved to outputs_pipeline/article1_chunks03.json\n"
     ]
    },
    {
     "name": "stderr",
     "output_type": "stream",
     "text": [
      "Chunking: 100%|██████████| 1/1 [00:00<00:00, 500.39file/s, chunks=34]"
     ]
    },
    {
     "name": "stdout",
     "output_type": "stream",
     "text": [
      "Chunks saved to outputs_pipeline/article1_chunks03.json\n"
     ]
    },
    {
     "name": "stderr",
     "output_type": "stream",
     "text": [
      "\n",
      "Chunking: 100%|██████████| 1/1 [00:00<00:00, 499.80file/s, chunks=9]"
     ]
    },
    {
     "name": "stdout",
     "output_type": "stream",
     "text": [
      "Chunks saved to outputs_pipeline/article1_chunks03.json"
     ]
    },
    {
     "name": "stderr",
     "output_type": "stream",
     "text": [
      "\n"
     ]
    },
    {
     "name": "stdout",
     "output_type": "stream",
     "text": [
      "\n"
     ]
    },
    {
     "name": "stderr",
     "output_type": "stream",
     "text": [
      "Chunking: 100%|██████████| 1/1 [00:00<00:00, 495.90file/s, chunks=4]"
     ]
    },
    {
     "name": "stdout",
     "output_type": "stream",
     "text": [
      "Chunks saved to outputs_pipeline/article1_chunks03.json\n"
     ]
    },
    {
     "name": "stderr",
     "output_type": "stream",
     "text": [
      "\n",
      "Chunking: 100%|██████████| 1/1 [00:00<00:00, 250.06file/s, chunks=72]\n"
     ]
    },
    {
     "name": "stdout",
     "output_type": "stream",
     "text": [
      "Chunks saved to outputs_pipeline/article1_chunks03.json\n"
     ]
    },
    {
     "name": "stderr",
     "output_type": "stream",
     "text": [
      "Chunking: 100%|██████████| 1/1 [00:00<00:00, 499.98file/s, chunks=17]\n"
     ]
    },
    {
     "name": "stdout",
     "output_type": "stream",
     "text": [
      "Chunks saved to outputs_pipeline/article1_chunks03.json\n"
     ]
    },
    {
     "name": "stderr",
     "output_type": "stream",
     "text": [
      "Chunking: 100%|██████████| 1/1 [00:00<00:00, 499.92file/s, chunks=29]\n"
     ]
    },
    {
     "name": "stdout",
     "output_type": "stream",
     "text": [
      "Chunks saved to outputs_pipeline/article1_chunks03.json\n"
     ]
    },
    {
     "name": "stderr",
     "output_type": "stream",
     "text": [
      "Chunking: 100%|██████████| 1/1 [00:00<00:00, 500.45file/s, chunks=28]\n"
     ]
    },
    {
     "name": "stdout",
     "output_type": "stream",
     "text": [
      "Chunks saved to outputs_pipeline/article1_chunks03.json\n"
     ]
    },
    {
     "name": "stderr",
     "output_type": "stream",
     "text": [
      "Chunking: 100%|██████████| 1/1 [00:00<00:00, 333.70file/s, chunks=37]"
     ]
    },
    {
     "name": "stdout",
     "output_type": "stream",
     "text": [
      "Chunks saved to outputs_pipeline/article1_chunks03.json"
     ]
    },
    {
     "name": "stderr",
     "output_type": "stream",
     "text": [
      "\n"
     ]
    },
    {
     "name": "stdout",
     "output_type": "stream",
     "text": [
      "\n"
     ]
    },
    {
     "name": "stderr",
     "output_type": "stream",
     "text": [
      "Chunking: 100%|██████████| 1/1 [00:00<00:00, 499.86file/s, chunks=23]"
     ]
    },
    {
     "name": "stdout",
     "output_type": "stream",
     "text": [
      "Chunks saved to outputs_pipeline/article1_chunks03.json"
     ]
    },
    {
     "name": "stderr",
     "output_type": "stream",
     "text": [
      "\n"
     ]
    },
    {
     "name": "stdout",
     "output_type": "stream",
     "text": [
      "\n"
     ]
    },
    {
     "name": "stderr",
     "output_type": "stream",
     "text": [
      "Chunking: 100%|██████████| 1/1 [00:00<00:00, 397.53file/s, chunks=5]"
     ]
    },
    {
     "name": "stdout",
     "output_type": "stream",
     "text": [
      "Chunks saved to outputs_pipeline/article1_chunks03.json"
     ]
    },
    {
     "name": "stderr",
     "output_type": "stream",
     "text": [
      "\n"
     ]
    },
    {
     "name": "stdout",
     "output_type": "stream",
     "text": [
      "\n"
     ]
    },
    {
     "name": "stderr",
     "output_type": "stream",
     "text": [
      "Chunking: 100%|██████████| 1/1 [00:00<00:00, 1010.68file/s, chunks=7]\n"
     ]
    },
    {
     "name": "stdout",
     "output_type": "stream",
     "text": [
      "Chunks saved to outputs_pipeline/article1_chunks03.json\n"
     ]
    },
    {
     "name": "stderr",
     "output_type": "stream",
     "text": [
      "Chunking: 100%|██████████| 1/1 [00:00<00:00, 500.10file/s, chunks=16]\n"
     ]
    },
    {
     "name": "stdout",
     "output_type": "stream",
     "text": [
      "Chunks saved to outputs_pipeline/article1_chunks03.json\n"
     ]
    },
    {
     "name": "stderr",
     "output_type": "stream",
     "text": [
      "Chunking: 100%|██████████| 1/1 [00:00<00:00, 99.97file/s, chunks=103]\n"
     ]
    },
    {
     "name": "stdout",
     "output_type": "stream",
     "text": [
      "Chunks saved to outputs_pipeline/article1_chunks03.json\n"
     ]
    },
    {
     "name": "stderr",
     "output_type": "stream",
     "text": [
      "Chunking: 100%|██████████| 1/1 [00:00<00:00, 333.15file/s, chunks=34]"
     ]
    },
    {
     "name": "stdout",
     "output_type": "stream",
     "text": [
      "Chunks saved to outputs_pipeline/article1_chunks03.json"
     ]
    },
    {
     "name": "stderr",
     "output_type": "stream",
     "text": [
      "\n"
     ]
    },
    {
     "name": "stdout",
     "output_type": "stream",
     "text": [
      "\n"
     ]
    },
    {
     "name": "stderr",
     "output_type": "stream",
     "text": [
      "Chunking: 100%|██████████| 1/1 [00:00<00:00, 45.45file/s, chunks=34]\n"
     ]
    },
    {
     "name": "stdout",
     "output_type": "stream",
     "text": [
      "Chunks saved to outputs_pipeline/article1_chunks03.json\n"
     ]
    },
    {
     "name": "stderr",
     "output_type": "stream",
     "text": [
      "Chunking: 100%|██████████| 1/1 [00:00<00:00, 500.04file/s, chunks=12]\n"
     ]
    },
    {
     "name": "stdout",
     "output_type": "stream",
     "text": [
      "Chunks saved to outputs_pipeline/article1_chunks03.json\n"
     ]
    },
    {
     "name": "stderr",
     "output_type": "stream",
     "text": [
      "Chunking: 100%|██████████| 1/1 [00:00<00:00, 377.90file/s, chunks=32]\n"
     ]
    },
    {
     "name": "stdout",
     "output_type": "stream",
     "text": [
      "Chunks saved to outputs_pipeline/article1_chunks03.json\n"
     ]
    },
    {
     "name": "stderr",
     "output_type": "stream",
     "text": [
      "Chunking: 100%|██████████| 1/1 [00:00<00:00, 199.96file/s, chunks=22]\n"
     ]
    },
    {
     "name": "stdout",
     "output_type": "stream",
     "text": [
      "Chunks saved to outputs_pipeline/article1_chunks03.json\n"
     ]
    },
    {
     "name": "stderr",
     "output_type": "stream",
     "text": [
      "Chunking: 100%|██████████| 1/1 [00:00<00:00, 71.39file/s, chunks=14]\n"
     ]
    },
    {
     "name": "stdout",
     "output_type": "stream",
     "text": [
      "Chunks saved to outputs_pipeline/article1_chunks03.json\n"
     ]
    },
    {
     "name": "stderr",
     "output_type": "stream",
     "text": [
      "Chunking: 100%|██████████| 1/1 [00:00<00:00, 249.99file/s, chunks=44]\n"
     ]
    },
    {
     "name": "stdout",
     "output_type": "stream",
     "text": [
      "Chunks saved to outputs_pipeline/article1_chunks03.json\n"
     ]
    },
    {
     "name": "stderr",
     "output_type": "stream",
     "text": [
      "Chunking: 100%|██████████| 1/1 [00:00<00:00, 499.62file/s, chunks=24]\n"
     ]
    },
    {
     "name": "stdout",
     "output_type": "stream",
     "text": [
      "Chunks saved to outputs_pipeline/article1_chunks03.json\n"
     ]
    },
    {
     "name": "stderr",
     "output_type": "stream",
     "text": [
      "Chunking: 100%|██████████| 1/1 [00:00<00:00, 499.80file/s, chunks=24]\n"
     ]
    },
    {
     "name": "stdout",
     "output_type": "stream",
     "text": [
      "Chunks saved to outputs_pipeline/article1_chunks03.json\n"
     ]
    },
    {
     "name": "stderr",
     "output_type": "stream",
     "text": [
      "Chunking: 100%|██████████| 1/1 [00:00<00:00, 499.44file/s, chunks=18]\n"
     ]
    },
    {
     "name": "stdout",
     "output_type": "stream",
     "text": [
      "Chunks saved to outputs_pipeline/article1_chunks03.json\n"
     ]
    },
    {
     "name": "stderr",
     "output_type": "stream",
     "text": [
      "Chunking: 100%|██████████| 1/1 [00:00<00:00, 250.09file/s, chunks=20]\n"
     ]
    },
    {
     "name": "stdout",
     "output_type": "stream",
     "text": [
      "Chunks saved to outputs_pipeline/article1_chunks03.json\n"
     ]
    },
    {
     "name": "stderr",
     "output_type": "stream",
     "text": [
      "Chunking: 100%|██████████| 1/1 [00:00<00:00, 111.10file/s, chunks=15]\n"
     ]
    },
    {
     "name": "stdout",
     "output_type": "stream",
     "text": [
      "Chunks saved to outputs_pipeline/article1_chunks03.json\n"
     ]
    },
    {
     "name": "stderr",
     "output_type": "stream",
     "text": [
      "Chunking: 100%|██████████| 1/1 [00:00<00:00, 333.38file/s, chunks=47]\n"
     ]
    },
    {
     "name": "stdout",
     "output_type": "stream",
     "text": [
      "Chunks saved to outputs_pipeline/article1_chunks03.json\n"
     ]
    },
    {
     "name": "stderr",
     "output_type": "stream",
     "text": [
      "Chunking: 100%|██████████| 1/1 [00:00<00:00, 90.85file/s, chunks=19]\n"
     ]
    },
    {
     "name": "stdout",
     "output_type": "stream",
     "text": [
      "Chunks saved to outputs_pipeline/article1_chunks03.json\n"
     ]
    },
    {
     "name": "stderr",
     "output_type": "stream",
     "text": [
      "Chunking: 100%|██████████| 1/1 [00:00<00:00, 499.98file/s, chunks=22]\n"
     ]
    },
    {
     "name": "stdout",
     "output_type": "stream",
     "text": [
      "Chunks saved to outputs_pipeline/article1_chunks03.json\n"
     ]
    },
    {
     "name": "stderr",
     "output_type": "stream",
     "text": [
      "Chunking: 100%|██████████| 1/1 [00:00<00:00, 100.01file/s, chunks=89]\n"
     ]
    },
    {
     "name": "stdout",
     "output_type": "stream",
     "text": [
      "Chunks saved to outputs_pipeline/article1_chunks03.json\n"
     ]
    },
    {
     "name": "stderr",
     "output_type": "stream",
     "text": [
      "Chunking: 100%|██████████| 1/1 [00:00<00:00, 499.14file/s, chunks=33]\n"
     ]
    },
    {
     "name": "stdout",
     "output_type": "stream",
     "text": [
      "Chunks saved to outputs_pipeline/article1_chunks03.json\n"
     ]
    },
    {
     "name": "stderr",
     "output_type": "stream",
     "text": [
      "Chunking: 100%|██████████| 1/1 [00:00<00:00, 499.80file/s, chunks=18]\n"
     ]
    },
    {
     "name": "stdout",
     "output_type": "stream",
     "text": [
      "Chunks saved to outputs_pipeline/article1_chunks03.json\n"
     ]
    },
    {
     "name": "stderr",
     "output_type": "stream",
     "text": [
      "Chunking: 100%|██████████| 1/1 [00:00<00:00, 249.84file/s, chunks=41]\n"
     ]
    },
    {
     "name": "stdout",
     "output_type": "stream",
     "text": [
      "Chunks saved to outputs_pipeline/article1_chunks03.json\n"
     ]
    },
    {
     "name": "stderr",
     "output_type": "stream",
     "text": [
      "Chunking: 100%|██████████| 1/1 [00:00<00:00, 499.92file/s, chunks=25]\n"
     ]
    },
    {
     "name": "stdout",
     "output_type": "stream",
     "text": [
      "Chunks saved to outputs_pipeline/article1_chunks03.json\n"
     ]
    },
    {
     "name": "stderr",
     "output_type": "stream",
     "text": [
      "Chunking: 100%|██████████| 1/1 [00:00<00:00, 333.30file/s, chunks=22]\n"
     ]
    },
    {
     "name": "stdout",
     "output_type": "stream",
     "text": [
      "Chunks saved to outputs_pipeline/article1_chunks03.json\n"
     ]
    },
    {
     "name": "stderr",
     "output_type": "stream",
     "text": [
      "Chunking: 100%|██████████| 1/1 [00:00<00:00, 998.41file/s, chunks=11]\n"
     ]
    },
    {
     "name": "stdout",
     "output_type": "stream",
     "text": [
      "Chunks saved to outputs_pipeline/article1_chunks03.json\n"
     ]
    },
    {
     "name": "stderr",
     "output_type": "stream",
     "text": [
      "Chunking: 100%|██████████| 1/1 [00:00<00:00, 250.15file/s, chunks=63]\n"
     ]
    },
    {
     "name": "stdout",
     "output_type": "stream",
     "text": [
      "Chunks saved to outputs_pipeline/article1_chunks03.json\n"
     ]
    },
    {
     "name": "stderr",
     "output_type": "stream",
     "text": [
      "Chunking: 100%|██████████| 1/1 [00:00<00:00, 500.10file/s, chunks=8]\n"
     ]
    },
    {
     "name": "stdout",
     "output_type": "stream",
     "text": [
      "Chunks saved to outputs_pipeline/article1_chunks03.json\n"
     ]
    },
    {
     "name": "stderr",
     "output_type": "stream",
     "text": [
      "Chunking: 100%|██████████| 1/1 [00:00<00:00, 499.74file/s, chunks=21]\n"
     ]
    },
    {
     "name": "stdout",
     "output_type": "stream",
     "text": [
      "Chunks saved to outputs_pipeline/article1_chunks03.json\n"
     ]
    },
    {
     "name": "stderr",
     "output_type": "stream",
     "text": [
      "Chunking: 100%|██████████| 1/1 [00:00<00:00, 501.35file/s, chunks=25]\n"
     ]
    },
    {
     "name": "stdout",
     "output_type": "stream",
     "text": [
      "Chunks saved to outputs_pipeline/article1_chunks03.json\n"
     ]
    },
    {
     "name": "stderr",
     "output_type": "stream",
     "text": [
      "Chunking: 100%|██████████| 1/1 [00:00<00:00, 250.20file/s, chunks=32]\n"
     ]
    },
    {
     "name": "stdout",
     "output_type": "stream",
     "text": [
      "Chunks saved to outputs_pipeline/article1_chunks03.json\n"
     ]
    },
    {
     "name": "stderr",
     "output_type": "stream",
     "text": [
      "Chunking: 100%|██████████| 1/1 [00:00<00:00, 500.33file/s, chunks=10]\n"
     ]
    },
    {
     "name": "stdout",
     "output_type": "stream",
     "text": [
      "Chunks saved to outputs_pipeline/article1_chunks03.json\n"
     ]
    },
    {
     "name": "stderr",
     "output_type": "stream",
     "text": [
      "Chunking: 100%|██████████| 1/1 [00:00<00:00, 500.10file/s, chunks=7]\n"
     ]
    },
    {
     "name": "stdout",
     "output_type": "stream",
     "text": [
      "Chunks saved to outputs_pipeline/article1_chunks03.json\n"
     ]
    },
    {
     "name": "stderr",
     "output_type": "stream",
     "text": [
      "Chunking: 100%|██████████| 1/1 [00:00<00:00, 499.26file/s, chunks=16]\n"
     ]
    },
    {
     "name": "stdout",
     "output_type": "stream",
     "text": [
      "Chunks saved to outputs_pipeline/article1_chunks03.json\n"
     ]
    },
    {
     "name": "stderr",
     "output_type": "stream",
     "text": [
      "Chunking: 100%|██████████| 1/1 [00:00<00:00, 500.22file/s, chunks=31]\n"
     ]
    },
    {
     "name": "stdout",
     "output_type": "stream",
     "text": [
      "Chunks saved to outputs_pipeline/article1_chunks03.json\n"
     ]
    },
    {
     "name": "stderr",
     "output_type": "stream",
     "text": [
      "Chunking: 100%|██████████| 1/1 [00:00<00:00, 500.10file/s, chunks=6]\n"
     ]
    },
    {
     "name": "stdout",
     "output_type": "stream",
     "text": [
      "Chunks saved to outputs_pipeline/article1_chunks03.json\n"
     ]
    },
    {
     "name": "stderr",
     "output_type": "stream",
     "text": [
      "Chunking: 100%|██████████| 1/1 [00:00<00:00, 280.52file/s, chunks=38]\n"
     ]
    },
    {
     "name": "stdout",
     "output_type": "stream",
     "text": [
      "Chunks saved to outputs_pipeline/article1_chunks03.json\n"
     ]
    },
    {
     "name": "stderr",
     "output_type": "stream",
     "text": [
      "Chunking: 100%|██████████| 1/1 [00:00<00:00, 124.99file/s, chunks=23]\n"
     ]
    },
    {
     "name": "stdout",
     "output_type": "stream",
     "text": [
      "Chunks saved to outputs_pipeline/article1_chunks03.json\n"
     ]
    },
    {
     "name": "stderr",
     "output_type": "stream",
     "text": [
      "Chunking: 100%|██████████| 1/1 [00:00<00:00, 333.33file/s, chunks=27]\n"
     ]
    },
    {
     "name": "stdout",
     "output_type": "stream",
     "text": [
      "Chunks saved to outputs_pipeline/article1_chunks03.json\n"
     ]
    },
    {
     "name": "stderr",
     "output_type": "stream",
     "text": [
      "Chunking: 100%|██████████| 1/1 [00:00<00:00, 333.44file/s, chunks=59]\n"
     ]
    },
    {
     "name": "stdout",
     "output_type": "stream",
     "text": [
      "Chunks saved to outputs_pipeline/article1_chunks03.json\n"
     ]
    },
    {
     "name": "stderr",
     "output_type": "stream",
     "text": [
      "Chunking: 100%|██████████| 1/1 [00:00<00:00, 499.98file/s, chunks=3]\n"
     ]
    },
    {
     "name": "stdout",
     "output_type": "stream",
     "text": [
      "Chunks saved to outputs_pipeline/article1_chunks03.json\n"
     ]
    },
    {
     "name": "stderr",
     "output_type": "stream",
     "text": [
      "Chunking: 100%|██████████| 1/1 [00:00<00:00, 333.23file/s, chunks=66]\n"
     ]
    },
    {
     "name": "stdout",
     "output_type": "stream",
     "text": [
      "Chunks saved to outputs_pipeline/article1_chunks03.json\n"
     ]
    },
    {
     "name": "stderr",
     "output_type": "stream",
     "text": [
      "Chunking: 100%|██████████| 1/1 [00:00<00:00, 249.99file/s, chunks=52]\n"
     ]
    },
    {
     "name": "stdout",
     "output_type": "stream",
     "text": [
      "Chunks saved to outputs_pipeline/article1_chunks03.json\n"
     ]
    },
    {
     "name": "stderr",
     "output_type": "stream",
     "text": [
      "Chunking: 100%|██████████| 1/1 [00:00<00:00, 249.94file/s, chunks=95]\n"
     ]
    },
    {
     "name": "stdout",
     "output_type": "stream",
     "text": [
      "Chunks saved to outputs_pipeline/article1_chunks03.json\n"
     ]
    },
    {
     "name": "stderr",
     "output_type": "stream",
     "text": [
      "Chunking: 100%|██████████| 1/1 [00:00<00:00, 500.16file/s, chunks=9]\n"
     ]
    },
    {
     "name": "stdout",
     "output_type": "stream",
     "text": [
      "Chunks saved to outputs_pipeline/article1_chunks03.json\n"
     ]
    },
    {
     "name": "stderr",
     "output_type": "stream",
     "text": [
      "Chunking: 100%|██████████| 1/1 [00:00<00:00, 333.38file/s, chunks=16]\n"
     ]
    },
    {
     "name": "stdout",
     "output_type": "stream",
     "text": [
      "Chunks saved to outputs_pipeline/article1_chunks03.json\n"
     ]
    },
    {
     "name": "stderr",
     "output_type": "stream",
     "text": [
      "Chunking: 100%|██████████| 1/1 [00:00<00:00, 1000.79file/s, chunks=16]\n"
     ]
    },
    {
     "name": "stdout",
     "output_type": "stream",
     "text": [
      "Chunks saved to outputs_pipeline/article1_chunks03.json\n"
     ]
    },
    {
     "name": "stderr",
     "output_type": "stream",
     "text": [
      "Chunking: 100%|██████████| 1/1 [00:00<00:00, 1001.03file/s, chunks=15]\n"
     ]
    },
    {
     "name": "stdout",
     "output_type": "stream",
     "text": [
      "Chunks saved to outputs_pipeline/article1_chunks03.json\n"
     ]
    },
    {
     "name": "stderr",
     "output_type": "stream",
     "text": [
      "Chunking: 100%|██████████| 1/1 [00:00<00:00, 333.25file/s, chunks=25]\n"
     ]
    },
    {
     "name": "stdout",
     "output_type": "stream",
     "text": [
      "Chunks saved to outputs_pipeline/article1_chunks03.json\n"
     ]
    },
    {
     "name": "stderr",
     "output_type": "stream",
     "text": [
      "Chunking: 100%|██████████| 1/1 [00:00<00:00, 499.92file/s, chunks=20]\n"
     ]
    },
    {
     "name": "stdout",
     "output_type": "stream",
     "text": [
      "Chunks saved to outputs_pipeline/article1_chunks03.json\n"
     ]
    },
    {
     "name": "stderr",
     "output_type": "stream",
     "text": [
      "Chunking: 100%|██████████| 1/1 [00:00<00:00, 499.74file/s, chunks=23]\n"
     ]
    },
    {
     "name": "stdout",
     "output_type": "stream",
     "text": [
      "Chunks saved to outputs_pipeline/article1_chunks03.json\n"
     ]
    },
    {
     "name": "stderr",
     "output_type": "stream",
     "text": [
      "Chunking: 100%|██████████| 1/1 [00:00<00:00, 499.80file/s, chunks=8]\n"
     ]
    },
    {
     "name": "stdout",
     "output_type": "stream",
     "text": [
      "Chunks saved to outputs_pipeline/article1_chunks03.json\n"
     ]
    },
    {
     "name": "stderr",
     "output_type": "stream",
     "text": [
      "Chunking: 100%|██████████| 1/1 [00:00<00:00, 62.50file/s, chunks=37]\n"
     ]
    },
    {
     "name": "stdout",
     "output_type": "stream",
     "text": [
      "Chunks saved to outputs_pipeline/article1_chunks03.json\n"
     ]
    },
    {
     "name": "stderr",
     "output_type": "stream",
     "text": [
      "Chunking: 100%|██████████| 1/1 [00:00<00:00, 333.46file/s, chunks=40]\n"
     ]
    },
    {
     "name": "stdout",
     "output_type": "stream",
     "text": [
      "Chunks saved to outputs_pipeline/article1_chunks03.json\n"
     ]
    },
    {
     "name": "stderr",
     "output_type": "stream",
     "text": [
      "Chunking: 100%|██████████| 1/1 [00:00<00:00, 499.80file/s, chunks=10]\n"
     ]
    },
    {
     "name": "stdout",
     "output_type": "stream",
     "text": [
      "Chunks saved to outputs_pipeline/article1_chunks03.json\n"
     ]
    },
    {
     "name": "stderr",
     "output_type": "stream",
     "text": [
      "Chunking: 100%|██████████| 1/1 [00:00<00:00, 333.36file/s, chunks=87]\n"
     ]
    },
    {
     "name": "stdout",
     "output_type": "stream",
     "text": [
      "Chunks saved to outputs_pipeline/article1_chunks03.json\n",
      "all chunks: 7819\n"
     ]
    },
    {
     "data": {
      "text/plain": [
       "{}"
      ]
     },
     "execution_count": 1,
     "metadata": {},
     "output_type": "execute_result"
    }
   ],
   "source": [
    "from utils.article_chunks_v2 import gen_chunks_v2\n",
    "data_dir = \"data\"\n",
    "chunks_path = \"outputs_pipeline/article1_chunks03.json\"\n",
    "input_file=\"selected_papers.txt\"\n",
    "gen_chunks_v2(data_dir, chunks_path, input_file, start_idx=100, end_idx=400)"
   ]
  },
  {
   "cell_type": "code",
   "execution_count": 2,
   "id": "c60475a1",
   "metadata": {},
   "outputs": [
    {
     "name": "stdout",
     "output_type": "stream",
     "text": [
      "resource module not available on Windows\n",
      "Chunk4 saved to outputs_pipeline/article2_chunk4_03.json\n",
      "done 基于Alq_3的有机发光二极管的磁电导效应_张勇_llm_correct.md chunk4.\n",
      "Chunk4 saved to outputs_pipeline/article2_chunk4_03.json\n",
      "done 有机量子阱结构发光器件的研究进展_朱海娜_llm_correct.md chunk4.\n",
      "Chunk4 saved to outputs_pipeline/article2_chunk4_03.json\n",
      "done 有机电致发光器件的热学特性分析_张稳稳_llm_correct.md chunk4.\n",
      "Chunk4 saved to outputs_pipeline/article2_chunk4_03.json\n",
      "done 有机发光二极管展示美好_余艳玲_llm_correct.md chunk4.\n",
      "Chunk4 saved to outputs_pipeline/article2_chunk4_03.json\n",
      "done PrF_3阳极缓冲层对OLED器件性能的影响_廖亚琴_llm_correct.md chunk4.\n",
      "Chunk4 saved to outputs_pipeline/article2_chunk4_03.json\n",
      "done 基于光刻工艺的高分辨全彩QLED器件制备与性能优化_高宏锦_llm_correct.md chunk4.\n",
      "Chunk4 saved to outputs_pipeline/article2_chunk4_03.json\n",
      "done 北京科技大学研制成功聚合物...光材料单层白光OLED器件_新型_llm_correct.md chunk4.\n",
      "Chunk4 saved to outputs_pipeline/article2_chunk4_03.json\n",
      "done 基于磷光超薄层和掺杂层的高性能白色有机电致发光器件_程泽远_llm_correct.md chunk4.\n",
      "Chunk4 saved to outputs_pipeline/article2_chunk4_03.json\n",
      "done 基于红外热像与电学测试法的OLED热学分析_杨连乔_llm_correct.md chunk4.\n",
      "Chunk4 saved to outputs_pipeline/article2_chunk4_03.json\n",
      "done 有机发光二极管的热分析与热设计_杨连乔_llm_correct.md chunk4.\n",
      "Chunk4 saved to outputs_pipeline/article2_chunk4_03.json\n",
      "done 基于TADF共掺杂的蓝光OLED器件性能研究_王豪杰_llm_correct.md chunk4.\n",
      "Chunk4 saved to outputs_pipeline/article2_chunk4_03.json\n",
      "done 基于Alq_3的有机发光二极管中的瞬时荧光与延迟荧光_张勇_llm_correct.md chunk4.\n",
      "Chunk4 saved to outputs_pipeline/article2_chunk4_03.json\n",
      "done 有机电致发光将取代液晶显示_张兆军_llm_correct.md chunk4.\n",
      "Chunk4 saved to outputs_pipeline/article2_chunk4_03.json\n",
      "done Alq_3有机发光二极管中的正负磁电导转变_张勇_llm_correct.md chunk4.\n",
      "Chunk4 saved to outputs_pipeline/article2_chunk4_03.json\n",
      "done 有机发光显示的几项新技术_陈飞_llm_correct.md chunk4.\n",
      "Chunk4 saved to outputs_pipeline/article2_chunk4_03.json\n",
      "done 有机发光器件平板显示及彩色象元实现方案_宋登元_llm_correct.md chunk4.\n",
      "Chunk4 saved to outputs_pipeline/article2_chunk4_03.json\n",
      "done 掺杂的有机薄膜电致发光_刘祖刚_llm_correct.md chunk4.\n",
      "Chunk4 saved to outputs_pipeline/article2_chunk4_03.json\n",
      "done ■面InGaN量子阱中的静...光发光二极管光电性能的影响_尹瑞梅_llm_correct.md chunk4.\n",
      "Chunk4 saved to outputs_pipeline/article2_chunk4_03.json\n",
      "done 基于深蓝光激基复合物构筑的OLED植物照明光源_孙阿辉_llm_correct.md chunk4.\n",
      "Chunk4 saved to outputs_pipeline/article2_chunk4_03.json\n",
      "done 有机发光二极管(OLED)顶发射器件的透明电极_吕方_llm_correct.md chunk4.\n",
      "Chunk4 saved to outputs_pipeline/article2_chunk4_03.json\n",
      "done LED光电显示器件用双组分有机硅灌封胶的研制_熊婷_llm_correct.md chunk4.\n",
      "Chunk4 saved to outputs_pipeline/article2_chunk4_03.json\n",
      "done 含有不同氮原子取向的大分子...料的制备及电致发光性能研究_吴德晗_llm_correct.md chunk4.\n",
      "Chunk4 saved to outputs_pipeline/article2_chunk4_03.json\n",
      "done InGaN量子点红光Micro-LED研究_余鹿鸣_llm_correct.md chunk4.\n",
      "Chunk4 saved to outputs_pipeline/article2_chunk4_03.json\n",
      "done 新型有机光电功能薄膜的电致发光研究_吴鹏_llm_correct.md chunk4.\n",
      "Chunk4 saved to outputs_pipeline/article2_chunk4_03.json\n",
      "done 基于新型螺氧杂蒽主体的高效...磷光有机发光二极管（英文）_关玉巧_llm_correct.md chunk4.\n",
      "Chunk4 saved to outputs_pipeline/article2_chunk4_03.json\n",
      "done 有机发光显示器及材料现状研究_刘红丽_llm_correct.md chunk4.\n",
      "Chunk4 saved to outputs_pipeline/article2_chunk4_03.json\n",
      "done 有机发光二极管OLED专利图表及分析_范文_llm_correct.md chunk4.\n",
      "Chunk4 saved to outputs_pipeline/article2_chunk4_03.json\n",
      "done 有机电致发光显示技术综述_李维諟_llm_correct.md chunk4.\n",
      "Chunk4 saved to outputs_pipeline/article2_chunk4_03.json\n",
      "done 一种使用聚酰亚胺的新型有机发光二极管的研究_王建浦_llm_correct.md chunk4.\n",
      "Chunk4 saved to outputs_pipeline/article2_chunk4_03.json\n",
      "done TBPe作蓝光材料的双层白色有机电致发光器件的性能_牛霞_llm_correct.md chunk4.\n",
      "Chunk4 saved to outputs_pipeline/article2_chunk4_03.json\n",
      "done 基于Pb和LiF复合阴极的高对比度有机电致发光器件_丛杨_llm_correct.md chunk4.\n",
      "Chunk4 saved to outputs_pipeline/article2_chunk4_03.json\n",
      "done 介观光学结构提高蓝色顶发射有机电致发光器件效率_钟耀贤_llm_correct.md chunk4.\n",
      "Chunk4 saved to outputs_pipeline/article2_chunk4_03.json\n",
      "done OLED成长的烦恼_崔澎_llm_correct.md chunk4.\n",
      "Chunk4 saved to outputs_pipeline/article2_chunk4_03.json\n",
      "done TCL科技收购茂佳国际背后...__印刷OLED产业化加速_林然_llm_correct.md chunk4.\n",
      "Chunk4 saved to outputs_pipeline/article2_chunk4_03.json\n",
      "done 有机发光显示器前途无量_邱勇_llm_correct.md chunk4.\n",
      "Chunk4 saved to outputs_pipeline/article2_chunk4_03.json\n",
      "done OLED面板的彩色显示驱动技术研究_卢贵主_llm_correct.md chunk4.\n",
      "Chunk4 saved to outputs_pipeline/article2_chunk4_03.json\n",
      "done 中科院院士、华南理工大学曹...报纸一样印出有机发光显示屏_叶青_llm_correct.md chunk4.\n",
      "Chunk4 saved to outputs_pipeline/article2_chunk4_03.json\n",
      "done 三菱电机为科学未来馆安装6米巨型OLED球体_llm_correct.md chunk4.\n",
      "Chunk4 saved to outputs_pipeline/article2_chunk4_03.json\n",
      "done 一种激光测照器用OLED显示模块_和婷_llm_correct.md chunk4.\n",
      "Chunk4 saved to outputs_pipeline/article2_chunk4_03.json\n",
      "done 多通道OLED器件寿命分析测试系统研制_余树福_llm_correct.md chunk4.\n",
      "Chunk4 saved to outputs_pipeline/article2_chunk4_03.json\n",
      "done OLED材料中间体的纯化方法研究_韩朝刚_llm_correct.md chunk4.\n",
      "Chunk4 saved to outputs_pipeline/article2_chunk4_03.json\n",
      "done OLED显示开发的最新进展_李文连_llm_correct.md chunk4.\n",
      "Chunk4 saved to outputs_pipeline/article2_chunk4_03.json\n",
      "done Effects of or... OLED devices_胡俊涛_llm_correct.md chunk4.\n",
      "Chunk4 saved to outputs_pipeline/article2_chunk4_03.json\n",
      "done 国内首款30.5_cm全彩AMOLED显示屏研制成功_llm_correct.md chunk4.\n",
      "Chunk4 saved to outputs_pipeline/article2_chunk4_03.json\n",
      "done 新加坡瞄准了OLEDs_Adrian PBurden_llm_correct.md chunk4.\n",
      "Chunk4 saved to outputs_pipeline/article2_chunk4_03.json\n",
      "done 基于K-means聚类和L...络的_OLED缺陷像素识别_纪艳玲_llm_correct.md chunk4.\n",
      "Chunk4 saved to outputs_pipeline/article2_chunk4_03.json\n",
      "done OLED封装专利技术综述_钱丹娜_llm_correct.md chunk4.\n",
      "Chunk4 saved to outputs_pipeline/article2_chunk4_03.json\n",
      "done Calculation a...ency of OLEDs_llm_correct.md chunk4.\n",
      "Chunk4 saved to outputs_pipeline/article2_chunk4_03.json\n",
      "done 华南理工大学成功研制出国内...彩色柔性AMOLED显示屏_llm_correct.md chunk4.\n",
      "Chunk4 saved to outputs_pipeline/article2_chunk4_03.json\n",
      "done 新力量涌入OLED赛道__电视企业需合力向前_丁少将_llm_correct.md chunk4.\n",
      "Chunk4 saved to outputs_pipeline/article2_chunk4_03.json\n",
      "done A new AC driv...ission AMOLED_张勇文_llm_correct.md chunk4.\n",
      "Chunk4 saved to outputs_pipeline/article2_chunk4_03.json\n",
      "done 有机EL——下一代显示技术及其产业发展_张兴科_llm_correct.md chunk4.\n",
      "Chunk4 saved to outputs_pipeline/article2_chunk4_03.json\n",
      "done OLED_LCD器件中的γ校正_杨虹_llm_correct.md chunk4.\n",
      "Chunk4 saved to outputs_pipeline/article2_chunk4_03.json\n",
      "done OLED显示器的SMBus接口软硬件实现_孙庆_llm_correct.md chunk4.\n",
      "Chunk4 saved to outputs_pipeline/article2_chunk4_03.json\n",
      "done 折叠屏高增长利好OLED、UTG_刘吉洪_llm_correct.md chunk4.\n",
      "Chunk4 saved to outputs_pipeline/article2_chunk4_03.json\n",
      "done 一种针对AMOLED器件劣化的电学补偿技术_解红军_llm_correct.md chunk4.\n",
      "Chunk4 saved to outputs_pipeline/article2_chunk4_03.json\n",
      "done OLED电视战__提前打响_郭荣村_llm_correct.md chunk4.\n",
      "Chunk4 saved to outputs_pipeline/article2_chunk4_03.json\n",
      "done Tracepro在OLED微透镜设计中的应用_吴非_llm_correct.md chunk4.\n",
      "Chunk4 saved to outputs_pipeline/article2_chunk4_03.json\n",
      "done 基于SPI的OLED显示技术_吴敏波_llm_correct.md chunk4.\n",
      "Chunk4 saved to outputs_pipeline/article2_chunk4_03.json\n",
      "done 检测OLED显示器的工作台_llm_correct.md chunk4.\n",
      "Chunk4 saved to outputs_pipeline/article2_chunk4_03.json\n",
      "done OLED应用与市场_张瑞君_llm_correct.md chunk4.\n",
      "Chunk4 saved to outputs_pipeline/article2_chunk4_03.json\n",
      "done 传统液晶面板受挑战,OLED开新路_llm_correct.md chunk4.\n",
      "Chunk4 saved to outputs_pipeline/article2_chunk4_03.json\n",
      "done AMOLED子像素渲染算法研究_徐京_llm_correct.md chunk4.\n",
      "Chunk4 saved to outputs_pipeline/article2_chunk4_03.json\n",
      "done 新时代OLED的应用研究_雷慧茹_llm_correct.md chunk4.\n",
      "Chunk4 saved to outputs_pipeline/article2_chunk4_03.json\n",
      "done OLED在汽车领域中的应用_田沛东_llm_correct.md chunk4.\n",
      "Chunk4 saved to outputs_pipeline/article2_chunk4_03.json\n",
      "done 克服材料问题OLED_TV惊艳现身_卢家浩_llm_correct.md chunk4.\n",
      "Chunk4 saved to outputs_pipeline/article2_chunk4_03.json\n",
      "done OLED平面电致发光器件在照明领域的应用展望_蔡伟新_llm_correct.md chunk4.\n",
      "Chunk4 saved to outputs_pipeline/article2_chunk4_03.json\n",
      "done OLED的最新消息_海信_llm_correct.md chunk4.\n",
      "Chunk4 saved to outputs_pipeline/article2_chunk4_03.json\n",
      "done OLED显示技术专利分析_段珂瑜_llm_correct.md chunk4.\n",
      "Chunk4 saved to outputs_pipeline/article2_chunk4_03.json\n",
      "done OLED将走向全彩化技术_吴腾奇_llm_correct.md chunk4.\n",
      "Chunk4 saved to outputs_pipeline/article2_chunk4_03.json\n",
      "done 新研究或将产生新型低能耗OLED_llm_correct.md chunk4.\n",
      "Chunk4 saved to outputs_pipeline/article2_chunk4_03.json\n",
      "done 先进LCD和OLED显示对...试精度和灵敏度提出更高要求_Charles Cimino_llm_correct.md chunk4.\n",
      "Chunk4 saved to outputs_pipeline/article2_chunk4_03.json\n",
      "done 基于专利视角的我国OLED照明技术发展态势分析_刘刚_llm_correct.md chunk4.\n",
      "Chunk4 saved to outputs_pipeline/article2_chunk4_03.json\n",
      "done QLED与OLED之争尚未...D-OLED技术已经来了__张丽_llm_correct.md chunk4.\n",
      "Chunk4 saved to outputs_pipeline/article2_chunk4_03.json\n",
      "done OLED概念股谁最抢眼__昝立永_llm_correct.md chunk4.\n",
      "Chunk4 saved to outputs_pipeline/article2_chunk4_03.json\n",
      "done OLED作为操作面板的多级功能菜单设计_李艺_llm_correct.md chunk4.\n",
      "Chunk4 saved to outputs_pipeline/article2_chunk4_03.json\n",
      "done 印刷电子技术在OLED显示器件中的应用_郑华_llm_correct.md chunk4.\n",
      "Chunk4 saved to outputs_pipeline/article2_chunk4_03.json\n",
      "done OLED平板显示技术原理与应用_苗英恺_llm_correct.md chunk4.\n",
      "Chunk4 saved to outputs_pipeline/article2_chunk4_03.json\n",
      "done 有助于OLED产业化的可溶解工艺_William Feehery_llm_correct.md chunk4.\n",
      "Chunk4 saved to outputs_pipeline/article2_chunk4_03.json\n",
      "done OLED技术专利态势分析_郭晨_llm_correct.md chunk4.\n",
      "Chunk4 saved to outputs_pipeline/article2_chunk4_03.json\n",
      "done 柔性OLED用高耐热聚酰亚胺薄膜的制备与性能_矫龙_llm_correct.md chunk4.\n",
      "Chunk4 saved to outputs_pipeline/article2_chunk4_03.json\n",
      "done OLED商业化路漫漫_陶海青_llm_correct.md chunk4.\n",
      "Chunk4 saved to outputs_pipeline/article2_chunk4_03.json\n",
      "done OLED技术在电视领域的应用_梁平茂_llm_correct.md chunk4.\n",
      "Chunk4 saved to outputs_pipeline/article2_chunk4_03.json\n",
      "done 国家政策大力扶植OLED显示屏_llm_correct.md chunk4.\n",
      "Chunk4 saved to outputs_pipeline/article2_chunk4_03.json\n",
      "done 2005_OLED行业一瞥_王力_llm_correct.md chunk4.\n",
      "Chunk4 saved to outputs_pipeline/article2_chunk4_03.json\n",
      "done 国内外OLED市场及研发初探_万勇_llm_correct.md chunk4.\n",
      "Chunk4 saved to outputs_pipeline/article2_chunk4_03.json\n",
      "done 中国推出全彩OLED__市...限__第三代显示器欲展宏图_华民_llm_correct.md chunk4.\n",
      "Chunk4 saved to outputs_pipeline/article2_chunk4_03.json\n",
      "done 关于高端显示技术OLED的研究_王志奇_llm_correct.md chunk4.\n",
      "Chunk4 saved to outputs_pipeline/article2_chunk4_03.json\n",
      "done A Method for OLED Test_llm_correct.md chunk4.\n",
      "Chunk4 saved to outputs_pipeline/article2_chunk4_03.json\n",
      "done BCP的厚度对OLED性能的影响_王静_llm_correct.md chunk4.\n",
      "Chunk4 saved to outputs_pipeline/article2_chunk4_03.json\n",
      "done 中国OLED企业的机遇和挑战_语安_llm_correct.md chunk4.\n",
      "Chunk4 saved to outputs_pipeline/article2_chunk4_03.json\n",
      "done 手机OLED屏幕子像素排布的观察与颜色合成实验_王希成_llm_correct.md chunk4.\n",
      "Chunk4 saved to outputs_pipeline/article2_chunk4_03.json\n",
      "done OLED显示产业渐行渐热_llm_correct.md chunk4.\n",
      "Chunk4 saved to outputs_pipeline/article2_chunk4_03.json\n",
      "done PEN有助于制造柔性OLED显示屏_llm_correct.md chunk4.\n",
      "Chunk4 saved to outputs_pipeline/article2_chunk4_03.json\n",
      "done OLED电视市场化暂难突破上下游厂商借4K产品救市_余骅_llm_correct.md chunk4.\n",
      "Chunk4 saved to outputs_pipeline/article2_chunk4_03.json\n",
      "done 报告称2019年OLED市场预计增长近14%_llm_correct.md chunk4.\n",
      "Chunk4 saved to outputs_pipeline/article2_chunk4_03.json\n",
      "done OLED产业应用实例_宋佳楠_llm_correct.md chunk4.\n",
      "Chunk4 saved to outputs_pipeline/article2_chunk4_03.json\n",
      "done OLED显示技术综述_冯迪砂_llm_correct.md chunk4.\n",
      "Chunk4 saved to outputs_pipeline/article2_chunk4_03.json\n",
      "done 基于透明OLED显示技术的车窗在城轨交通中的应用_贾涛_llm_correct.md chunk4.\n",
      "Chunk4 saved to outputs_pipeline/article2_chunk4_03.json\n",
      "done OLED的中国小伙伴_姜中介_llm_correct.md chunk4.\n",
      "Chunk4 saved to outputs_pipeline/article2_chunk4_03.json\n",
      "done OLED电视的发展潜力和应用前景_Tetsuo Urabe_llm_correct.md chunk4.\n",
      "Chunk4 saved to outputs_pipeline/article2_chunk4_03.json\n",
      "done OLED技术现状与在消费电子市场发展动态_路绳立_llm_correct.md chunk4.\n",
      "Chunk4 saved to outputs_pipeline/article2_chunk4_03.json\n",
      "done OLED应用于照明的发展现状及前景_刘陈_llm_correct.md chunk4.\n",
      "Chunk4 saved to outputs_pipeline/article2_chunk4_03.json\n",
      "done 携手努力__共话OLED未...新之路——OLED论坛侧记_许瑞鹏_llm_correct.md chunk4.\n",
      "Chunk4 saved to outputs_pipeline/article2_chunk4_03.json\n",
      "done 柔性显示器件挺度测量方法研究_刘艳玲_llm_correct.md chunk4.\n",
      "Chunk4 saved to outputs_pipeline/article2_chunk4_03.json\n",
      "done 9款38cm(15英寸)TFT_LCD显示器横向评测_张韬_llm_correct.md chunk4.\n",
      "Chunk4 saved to outputs_pipeline/article2_chunk4_03.json\n",
      "done 一种新型平板彩色显示器件的制备和光谱分析_牛连斌_llm_correct.md chunk4.\n",
      "Chunk4 saved to outputs_pipeline/article2_chunk4_03.json\n",
      "done 光配向技术在液晶电视面板中的应用_周刘飞_llm_correct.md chunk4.\n",
      "Chunk4 saved to outputs_pipeline/article2_chunk4_03.json\n",
      "done 大型液晶显示用COF带的细节距线路形成_蔡积庆_llm_correct.md chunk4.\n",
      "Chunk4 saved to outputs_pipeline/article2_chunk4_03.json\n",
      "done LED背光对LCD色彩的影响探讨_魏欢欢_llm_correct.md chunk4.\n",
      "Chunk4 saved to outputs_pipeline/article2_chunk4_03.json\n",
      "done 大信息容量液晶显示技术_沈春林_llm_correct.md chunk4.\n",
      "Chunk4 saved to outputs_pipeline/article2_chunk4_03.json\n",
      "done 数字电视时代的显示器件_万建_llm_correct.md chunk4.\n",
      "Chunk4 saved to outputs_pipeline/article2_chunk4_03.json\n",
      "done 9英寸MIM矩阵式液晶显示器件_陈树民_llm_correct.md chunk4.\n",
      "Chunk4 saved to outputs_pipeline/article2_chunk4_03.json\n",
      "done CM33-ZOC1007L...液晶材料HTNLCD的特性_梁兆颜_llm_correct.md chunk4.\n",
      "Chunk4 saved to outputs_pipeline/article2_chunk4_03.json\n",
      "done Micro_LED当前面临的瓶颈及技术进展_周佳_llm_correct.md chunk4.\n",
      "Chunk4 saved to outputs_pipeline/article2_chunk4_03.json\n",
      "done 向列型液晶显示器件的工作特性.md0000_llm_correct.md chunk4.\n",
      "Chunk4 saved to outputs_pipeline/article2_chunk4_03.json\n",
      "done 加固液晶显示器TCON板设计_马剑锋_llm_correct.md chunk4.\n",
      "Chunk4 saved to outputs_pipeline/article2_chunk4_03.json\n",
      "done 工业控制用液晶显示模块_llm_correct.md chunk4.\n",
      "Chunk4 saved to outputs_pipeline/article2_chunk4_03.json\n",
      "done 平板显示器件的新进展及其应用潜力_Tatsuo Uchida_llm_correct.md chunk4.\n",
      "Chunk4 saved to outputs_pipeline/article2_chunk4_03.json\n",
      "done 一种基于DSP和KS0107B的液晶显示_杨桦_llm_correct.md chunk4.\n",
      "Chunk4 saved to outputs_pipeline/article2_chunk4_03.json\n",
      "done 基于自适应模板匹配阈值选取算法的显示器件多目标定位_齐昕雨_llm_correct.md chunk4.\n",
      "Chunk4 saved to outputs_pipeline/article2_chunk4_03.json\n",
      "done 平面显示技术的应用探讨_梁柱杰_llm_correct.md chunk4.\n",
      "Chunk4 saved to outputs_pipeline/article2_chunk4_03.json\n",
      "done 平板显示器件、固体摄象器件...应用技术学术会议在南京召开_崔广钧_llm_correct.md chunk4.\n",
      "Chunk4 saved to outputs_pipeline/article2_chunk4_03.json\n",
      "done 场时序彩色液晶显示器技术_耿卫东_llm_correct.md chunk4.\n",
      "Chunk4 saved to outputs_pipeline/article2_chunk4_03.json\n",
      "done 一种大尺寸双冗余机载液晶显示器的设计_金诗玮_llm_correct.md chunk4.\n",
      "Chunk4 saved to outputs_pipeline/article2_chunk4_03.json\n",
      "done 未来半导体材料在柔性显示屏技术中的创新与应用_吕岳敏_llm_correct.md chunk4.\n",
      "Chunk4 saved to outputs_pipeline/article2_chunk4_03.json\n",
      "done 新型半导体材料在柔性显示屏应用中的展望_张启华_llm_correct.md chunk4.\n",
      "Chunk4 saved to outputs_pipeline/article2_chunk4_03.json\n",
      "done 广州南沙打造“粉末冶金完整...”填补“柔性显示产业”空白_编辑部_llm_correct.md chunk4.\n",
      "Chunk4 saved to outputs_pipeline/article2_chunk4_03.json\n",
      "done SID_2013__LGD展示多种下一代显示技术_llm_correct.md chunk4.\n",
      "Chunk4 saved to outputs_pipeline/article2_chunk4_03.json\n",
      "done 大开眼界__ViewSon..._VX2640W液晶显示器_吕华威_llm_correct.md chunk4.\n",
      "Chunk4 saved to outputs_pipeline/article2_chunk4_03.json\n",
      "done 显示技术的现状和将来发展趋势_张圻_llm_correct.md chunk4.\n",
      "Chunk4 saved to outputs_pipeline/article2_chunk4_03.json\n",
      "done 双面显示技术的进展_陈禹翔_llm_correct.md chunk4.\n",
      "Chunk4 saved to outputs_pipeline/article2_chunk4_03.json\n",
      "done 反射式液晶显示光学的理论计算_王谦_llm_correct.md chunk4.\n",
      "Chunk4 saved to outputs_pipeline/article2_chunk4_03.json\n",
      "done PHOLED显示技术_Stanley Chen_llm_correct.md chunk4.\n",
      "Chunk4 saved to outputs_pipeline/article2_chunk4_03.json\n",
      "done 国内液晶显示面板行业发展中存在的问题及解决对策_龚耕_llm_correct.md chunk4.\n",
      "Chunk4 saved to outputs_pipeline/article2_chunk4_03.json\n",
      "done 大幅面柔性屏的喷墨印刷_冉紫媛_llm_correct.md chunk4.\n",
      "Chunk4 saved to outputs_pipeline/article2_chunk4_03.json\n",
      "done 《显示器能效限定值及能效等级》标准解析_吴蔚华_llm_correct.md chunk4.\n",
      "Chunk4 saved to outputs_pipeline/article2_chunk4_03.json\n",
      "done 对液晶电视动态画面响应的测试研究_徐涛_llm_correct.md chunk4.\n",
      "Chunk4 saved to outputs_pipeline/article2_chunk4_03.json\n",
      "done LED背光对LCD色彩的影响_程鸿飞_llm_correct.md chunk4.\n",
      "Chunk4 saved to outputs_pipeline/article2_chunk4_03.json\n",
      "done 显示技术的发展_黄锡珉_llm_correct.md chunk4.\n",
      "Chunk4 saved to outputs_pipeline/article2_chunk4_03.json\n",
      "done LED灯珠峰值波长对液晶显示设备色彩的影响_刘发达_llm_correct.md chunk4.\n",
      "Chunk4 saved to outputs_pipeline/article2_chunk4_03.json\n",
      "done 显示技术发展水平及趋势_张戊寅_llm_correct.md chunk4.\n",
      "Chunk4 saved to outputs_pipeline/article2_chunk4_03.json\n",
      "done 医用仪器液晶显示器常见故障诊断及维修_李辉_llm_correct.md chunk4.\n",
      "Chunk4 saved to outputs_pipeline/article2_chunk4_03.json\n",
      "done 天下为“宽”__宽屏液晶显示器专题评测(下)_吕华威_llm_correct.md chunk4.\n",
      "Chunk4 saved to outputs_pipeline/article2_chunk4_03.json\n",
      "done 无机EL显示技术研究和开发进展_林明通_llm_correct.md chunk4.\n",
      "Chunk4 saved to outputs_pipeline/article2_chunk4_03.json\n",
      "done 平板显示技术标准工作组2011年工作概况_赵英_llm_correct.md chunk4.\n",
      "Chunk4 saved to outputs_pipeline/article2_chunk4_03.json\n",
      "done 双面显示技术的进展(续)_陈禹翔.md0000_llm_correct.md chunk4.\n",
      "Chunk4 saved to outputs_pipeline/article2_chunk4_03.json\n",
      "done 柔性显示的研究进展_刘国柱_llm_correct.md chunk4.\n",
      "Chunk4 saved to outputs_pipeline/article2_chunk4_03.json\n",
      "done 无机电致发光平板显示器的老化工艺_张羿_llm_correct.md chunk4.\n",
      "Chunk4 saved to outputs_pipeline/article2_chunk4_03.json\n",
      "done 显示技术(LCD_OLED_LED_HCFL)_llm_correct.md chunk4.\n",
      "Chunk4 saved to outputs_pipeline/article2_chunk4_03.json\n",
      "done 培养液晶显示专业人才的方案设计与实践_张方辉_llm_correct.md chunk4.\n",
      "Chunk4 saved to outputs_pipeline/article2_chunk4_03.json\n",
      "done 显示器新技术之比较——设计...为某项应用选择最佳的显示器_Anthony Vilgiate_llm_correct.md chunk4.\n",
      "Chunk4 saved to outputs_pipeline/article2_chunk4_03.json\n",
      "done STN型液晶显示用聚酰亚胺表面取向材料的性能_梁晓_llm_correct.md chunk4.\n",
      "Chunk4 saved to outputs_pipeline/article2_chunk4_03.json\n",
      "done 显示器色彩管理具体实现办法_蔡加三_llm_correct.md chunk4.\n",
      "Chunk4 saved to outputs_pipeline/article2_chunk4_03.json\n",
      "done 微显示器件中的边缘场效应及其改善方法_刘绍锦_llm_correct.md chunk4.\n",
      "Chunk4 saved to outputs_pipeline/article2_chunk4_03.json\n",
      "done 各类液晶显示模块的比较研究_陈羽_llm_correct.md chunk4.\n",
      "Chunk4 saved to outputs_pipeline/article2_chunk4_03.json\n",
      "done 显示技术升级加速__量子点电视春天来临_李俊_llm_correct.md chunk4.\n",
      "Chunk4 saved to outputs_pipeline/article2_chunk4_03.json\n",
      "done 具有宽而均匀视角特性的同心圆摩擦液晶显示器件_才勇_llm_correct.md chunk4.\n",
      "Chunk4 saved to outputs_pipeline/article2_chunk4_03.json\n",
      "done LCD液晶显示模块在工程装备计时系统中应用_袁建虎_llm_correct.md chunk4.\n",
      "Chunk4 saved to outputs_pipeline/article2_chunk4_03.json\n",
      "done 彩色薄膜晶体管液晶显示器(...T-LCD)基本原理与动态_林志刚_llm_correct.md chunk4.\n",
      "Chunk4 saved to outputs_pipeline/article2_chunk4_03.json\n",
      "done 供液晶显示器件用的对称方波发生器_毛欣_llm_correct.md chunk4.\n",
      "Chunk4 saved to outputs_pipeline/article2_chunk4_03.json\n",
      "done 具有2倍视角的33cm全色TFT-LCD_孙再吉_llm_correct.md chunk4.\n",
      "Chunk4 saved to outputs_pipeline/article2_chunk4_03.json\n",
      "done 数码摄影师的色彩管理讲座(...色彩模式、色彩空间和色域”_吴启海_llm_correct.md chunk4.\n",
      "Chunk4 saved to outputs_pipeline/article2_chunk4_03.json\n",
      "done 反射型硅基液晶显示模式_范伟_llm_correct.md chunk4.\n",
      "Chunk4 saved to outputs_pipeline/article2_chunk4_03.json\n",
      "done 整车背光指示灯漏光问题分析与优化讨论_李月清_llm_correct.md chunk4.\n",
      "Chunk4 saved to outputs_pipeline/article2_chunk4_03.json\n",
      "done 微杯型电泳显示器的研究进展_谢建宇_llm_correct.md chunk4.\n",
      "Chunk4 saved to outputs_pipeline/article2_chunk4_03.json\n",
      "done 新型LCD显示屏技术_llm_correct.md chunk4.\n",
      "Chunk4 saved to outputs_pipeline/article2_chunk4_03.json\n",
      "done 平板显示中的双稳态技术_现状与进展(三)_黄子强_llm_correct.md chunk4.\n",
      "Chunk4 saved to outputs_pipeline/article2_chunk4_03.json\n",
      "done 增亮分级不会虚——飞利浦显亮3显示器107F4_王琨月_llm_correct.md chunk4.\n",
      "Chunk4 saved to outputs_pipeline/article2_chunk4_03.json\n",
      "done 平板显示产业发展新动能_陈曦_llm_correct.md chunk4.\n",
      "Chunk4 saved to outputs_pipeline/article2_chunk4_03.json\n",
      "done 新型显示器技术亮相SID展_AlixL Paultre_llm_correct.md chunk4.\n",
      "Chunk4 saved to outputs_pipeline/article2_chunk4_03.json\n",
      "done 平板显示中的双稳态技术_现状与进展(二)_黄子强_llm_correct.md chunk4.\n",
      "Chunk4 saved to outputs_pipeline/article2_chunk4_03.json\n",
      "done 柔性显示器件国际标准研究进展_党鹏乐_llm_correct.md chunk4.\n",
      "Chunk4 saved to outputs_pipeline/article2_chunk4_03.json\n",
      "done 新型可弯曲触控显示屏由石墨烯和聚酯片基底组成_llm_correct.md chunk4.\n",
      "Chunk4 saved to outputs_pipeline/article2_chunk4_03.json\n",
      "done AMOLED头盔显示器光学系统设计及视空间评价_范海英_llm_correct.md chunk4.\n",
      "Chunk4 saved to outputs_pipeline/article2_chunk4_03.json\n",
      "done 含氟液晶材料概述_王刚_llm_correct.md chunk4.\n",
      "Chunk4 saved to outputs_pipeline/article2_chunk4_03.json\n",
      "done 发展中的平板显示技术_姜西娟_llm_correct.md chunk4.\n",
      "Chunk4 saved to outputs_pipeline/article2_chunk4_03.json\n",
      "done 共面转换液晶显示器中获得对比度高于1_600的新技术_Jae Hyun Kim_llm_correct.md chunk4.\n",
      "Chunk4 saved to outputs_pipeline/article2_chunk4_03.json\n",
      "done 一种性能优越的液晶材料及显示技术_闻建勋_llm_correct.md chunk4.\n",
      "Chunk4 saved to outputs_pipeline/article2_chunk4_03.json\n",
      "done 平板显示器件与数字投影技术概览_陈滋莘_llm_correct.md chunk4.\n",
      "Chunk4 saved to outputs_pipeline/article2_chunk4_03.json\n",
      "done 放眼天地宽__21.6_2...英寸宽屏液晶显示器专题评测_吕华威_llm_correct.md chunk4.\n",
      "Chunk4 saved to outputs_pipeline/article2_chunk4_03.json\n",
      "done 含氟液晶材料的研究进展_谢段燕_llm_correct.md chunk4.\n",
      "Chunk4 saved to outputs_pipeline/article2_chunk4_03.json\n",
      "done 平板显示技术的新进展_谢智波_llm_correct.md chunk4.\n",
      "Chunk4 saved to outputs_pipeline/article2_chunk4_03.json\n",
      "done 柔板显示技术研究进展_王秀峰_llm_correct.md chunk4.\n",
      "Chunk4 saved to outputs_pipeline/article2_chunk4_03.json\n",
      "done NTC热敏电阻在液晶显示中的应用_贾金萍_llm_correct.md chunk4.\n",
      "Chunk4 saved to outputs_pipeline/article2_chunk4_03.json\n",
      "done p型多晶硅薄膜应变因子与掺杂浓度关系理论研究_王健_llm_correct.md chunk4.\n",
      "Chunk4 saved to outputs_pipeline/article2_chunk4_03.json\n",
      "done Cd_xZn_(1-x)O...的制备及非线性光学特性研究_张继德_llm_correct.md chunk4.\n",
      "Chunk4 saved to outputs_pipeline/article2_chunk4_03.json\n",
      "done 基于高迁移率微晶硅的薄膜晶体管(英文)_CHAN Kah-Yoong_llm_correct.md chunk4.\n",
      "Chunk4 saved to outputs_pipeline/article2_chunk4_03.json\n",
      "done 使用铜源漏电极的非晶氧化铟锌薄膜晶体管的研究_徐瑞霞_llm_correct.md chunk4.\n",
      "Chunk4 saved to outputs_pipeline/article2_chunk4_03.json\n",
      "done Langmuir探针对以S...积多晶硅薄膜过程的在线检测_祝祖送_llm_correct.md chunk4.\n",
      "Chunk4 saved to outputs_pipeline/article2_chunk4_03.json\n",
      "done 室温下溅射法制备高迁移率氧化锌薄膜晶体管_刘玉荣_llm_correct.md chunk4.\n",
      "Chunk4 saved to outputs_pipeline/article2_chunk4_03.json\n",
      "done 微纳结构光电子物理与器件_黄翊东_llm_correct.md chunk4.\n",
      "Chunk4 saved to outputs_pipeline/article2_chunk4_03.json\n",
      "done 有机-无机钙钛矿作为有源层的薄膜晶体管制备_陈知新_llm_correct.md chunk4.\n",
      "Chunk4 saved to outputs_pipeline/article2_chunk4_03.json\n",
      "done PTCDA表面射频磁控溅射ITO薄膜的特性研究_孙硕_llm_correct.md chunk4.\n",
      "Chunk4 saved to outputs_pipeline/article2_chunk4_03.json\n",
      "done 固体纳秒激光器应用于非晶硅薄膜结晶的研究_王帅_llm_correct.md chunk4.\n",
      "Chunk4 saved to outputs_pipeline/article2_chunk4_03.json\n",
      "done PET基片上射频磁控溅射不...厚度ITO薄膜的光电学特性_郑卫峰_llm_correct.md chunk4.\n",
      "Chunk4 saved to outputs_pipeline/article2_chunk4_03.json\n",
      "done PECVD制备富硅氮化硅薄膜的工艺条件及其性质的研究_张龙龙_llm_correct.md chunk4.\n",
      "Chunk4 saved to outputs_pipeline/article2_chunk4_03.json\n",
      "done 松果状纳米氧化铁对液晶电光性能的影响_王猛_llm_correct.md chunk4.\n",
      "Chunk4 saved to outputs_pipeline/article2_chunk4_03.json\n",
      "done B_2O_3对LTPS用基板玻璃结构和黏温性能的影响_杨国洪_llm_correct.md chunk4.\n",
      "Chunk4 saved to outputs_pipeline/article2_chunk4_03.json\n",
      "done p-Si_TFT的电场增强MILC制备技术_曾祥斌_llm_correct.md chunk4.\n",
      "Chunk4 saved to outputs_pipeline/article2_chunk4_03.json\n",
      "done 射频磁控溅射低温制备ITO薄膜_王秀娟_llm_correct.md chunk4.\n",
      "Chunk4 saved to outputs_pipeline/article2_chunk4_03.json\n",
      "done 日本微电子和光电子工业中激光组装技术的应用及展望_王立斌_llm_correct.md chunk4.\n",
      "Chunk4 saved to outputs_pipeline/article2_chunk4_03.json\n",
      "done 有源层厚度对氧化铟镓锌薄膜晶体管性能的影响_吴捷_llm_correct.md chunk4.\n",
      "Chunk4 saved to outputs_pipeline/article2_chunk4_03.json\n",
      "done 喷墨打印PVP绝缘层柔性薄膜晶体管研究_陶洪_llm_correct.md chunk4.\n",
      "Chunk4 saved to outputs_pipeline/article2_chunk4_03.json\n",
      "done 显示器件用导热聚酯涂料的研究_杨庆浩_llm_correct.md chunk4.\n",
      "Chunk4 saved to outputs_pipeline/article2_chunk4_03.json\n",
      "done 快速光热退火制备多晶硅薄膜_张宇翔_llm_correct.md chunk4.\n",
      "Chunk4 saved to outputs_pipeline/article2_chunk4_03.json\n",
      "done 新型显示偏光片光学膜的加工-结构-性能关系_韩雪晴_llm_correct.md chunk4.\n",
      "Chunk4 saved to outputs_pipeline/article2_chunk4_03.json\n",
      "done 快速光热退火法制备多晶硅薄膜的研究_冯团辉_llm_correct.md chunk4.\n",
      "Chunk4 saved to outputs_pipeline/article2_chunk4_03.json\n",
      "done 柔性非晶铟镓锌氧薄膜晶体管栅绝缘层的研究_刘国超_llm_correct.md chunk4.\n",
      "Chunk4 saved to outputs_pipeline/article2_chunk4_03.json\n",
      "done 氢化非晶硅叠层薄膜对单晶硅表面钝化研究_丁月珂_llm_correct.md chunk4.\n",
      "Chunk4 saved to outputs_pipeline/article2_chunk4_03.json\n",
      "done 基底温度对射频磁控溅射PI基ITO薄膜的影响_刘祖一_llm_correct.md chunk4.\n",
      "Chunk4 saved to outputs_pipeline/article2_chunk4_03.json\n",
      "done B掺杂ZnO纳米薄膜的结构和光学特性研究_化麒麟_llm_correct.md chunk4.\n",
      "Chunk4 saved to outputs_pipeline/article2_chunk4_03.json\n",
      "done 低温多晶硅薄膜晶体管液晶显示器的驱动条件_偰正才_llm_correct.md chunk4.\n",
      "Chunk4 saved to outputs_pipeline/article2_chunk4_03.json\n",
      "done PECVD分层结构对提高氢化非晶硅TFT迁移率的影响_于遥_llm_correct.md chunk4.\n",
      "Chunk4 saved to outputs_pipeline/article2_chunk4_03.json\n",
      "done 基于陷落电荷效应的非晶硅TFT的开态电流模型_何红宇_llm_correct.md chunk4.\n",
      "Chunk4 saved to outputs_pipeline/article2_chunk4_03.json\n",
      "done 新型液晶微光学器件—分子取向的设计和先进光刻技术_新型_llm_correct.md chunk4.\n",
      "Chunk4 saved to outputs_pipeline/article2_chunk4_03.json\n",
      "done 氢稀释对FTS沉积a-Si∶H薄膜结构特性的影响_于威_llm_correct.md chunk4.\n",
      "Chunk4 saved to outputs_pipeline/article2_chunk4_03.json\n",
      "done 双层有源层非晶铟镓锌氧化物薄膜晶体管的仿真_彭云霞_llm_correct.md chunk4.\n",
      "Chunk4 saved to outputs_pipeline/article2_chunk4_03.json\n",
      "done 先进微电子与光电子材料与器件.md0000_llm_correct.md chunk4.\n",
      "Chunk4 saved to outputs_pipeline/article2_chunk4_03.json\n",
      "done LPCVD多晶硅薄膜缺陷的形成及消除措施_王胜强_llm_correct.md chunk4.\n",
      "Chunk4 saved to outputs_pipeline/article2_chunk4_03.json\n",
      "done 单栅和双栅多晶硅薄膜晶体管的二维器件仿真_邓婉玲_llm_correct.md chunk4.\n",
      "Chunk4 saved to outputs_pipeline/article2_chunk4_03.json\n",
      "done 多晶硅薄膜制备工艺及其应用发展_董培讲_llm_correct.md chunk4.\n",
      "Chunk4 saved to outputs_pipeline/article2_chunk4_03.json\n",
      "done 基于非晶硅薄膜晶体管的室温红外探测器_董良_llm_correct.md chunk4.\n",
      "Chunk4 saved to outputs_pipeline/article2_chunk4_03.json\n",
      "done InGaZnO薄膜晶体管背板的栅极驱动电路静电释放失效研究-马群刚_llm_correct.md chunk4.\n",
      "Chunk4 saved to outputs_pipeline/article2_chunk4_03.json\n",
      "done 一个非晶InGaZnO薄膜...体管线性区陷阱态的提取方法_徐飘荣_llm_correct.md chunk4.\n",
      "Chunk4 saved to outputs_pipeline/article2_chunk4_03.json\n",
      "done FOLED薄膜封装技术研究进展_曾克俭_llm_correct.md chunk4.\n",
      "Chunk4 saved to outputs_pipeline/article2_chunk4_03.json\n",
      "done 基底加热温度对ITO薄膜的性能影响研究_王欣月_llm_correct.md chunk4.\n",
      "Chunk4 saved to outputs_pipeline/article2_chunk4_03.json\n",
      "done 射频磁控溅射ITO薄膜中沉积温度对膜特性影响_赵透玲_llm_correct.md chunk4.\n",
      "Chunk4 saved to outputs_pipeline/article2_chunk4_03.json\n",
      "done 基于半导体光电子学课程的新型教学模式研究_王祥传_llm_correct.md chunk4.\n",
      "Chunk4 saved to outputs_pipeline/article2_chunk4_03.json\n",
      "done 基于大面积TFT和PVDF薄膜的表面形貌无损探测技术_尚飞_llm_correct.md chunk4.\n",
      "Chunk4 saved to outputs_pipeline/article2_chunk4_03.json\n",
      "done 微波退火法制备多晶硅薄膜的电学特性研究_饶瑞_llm_correct.md chunk4.\n",
      "Chunk4 saved to outputs_pipeline/article2_chunk4_03.json\n",
      "done 基于表面势的氢化非晶硅薄膜晶体管直流特性研究_陈晓雪_llm_correct.md chunk4.\n",
      "Chunk4 saved to outputs_pipeline/article2_chunk4_03.json\n",
      "done TFT-LCD屏的Flic...er和DC残留的研究及改善_叶纯_llm_correct.md chunk4.\n",
      "Chunk4 saved to outputs_pipeline/article2_chunk4_03.json\n",
      "done 某大型TFT液晶面板厂结构设计_邓宇强_llm_correct.md chunk4.\n",
      "Chunk4 saved to outputs_pipeline/article2_chunk4_03.json\n",
      "done 东芝TFT—LCD模块_陈树民_llm_correct.md chunk4.\n",
      "Chunk4 saved to outputs_pipeline/article2_chunk4_03.json\n",
      "done Mobility impa...ing IGZO TFTs_Congwei Liao_llm_correct.md chunk4.\n",
      "Chunk4 saved to outputs_pipeline/article2_chunk4_03.json\n",
      "done TFT-LCD用彩色滤光片_李宏彦_llm_correct.md chunk4.\n",
      "Chunk4 saved to outputs_pipeline/article2_chunk4_03.json\n",
      "done 基于TFT-LCD的动态星模拟器星点位置修正方法_王俣_llm_correct.md chunk4.\n",
      "Chunk4 saved to outputs_pipeline/article2_chunk4_03.json\n",
      "done 大尺寸TFT-LCD_GO...nel_CD管控方案的研究_熊嘉琪_llm_correct.md chunk4.\n",
      "Chunk4 saved to outputs_pipeline/article2_chunk4_03.json\n",
      "done a-Si∶H-TFT阈值电...动OLED显示中的补偿设计_刘金娥_llm_correct.md chunk4.\n",
      "Chunk4 saved to outputs_pipeline/article2_chunk4_03.json\n",
      "done 基于TFT-LCD工艺变更的分级评审模型研究应用_刘虎军_llm_correct.md chunk4.\n",
      "Chunk4 saved to outputs_pipeline/article2_chunk4_03.json\n",
      "done 平板显示行业TFT自动光学检测技术研究_王雨_llm_correct.md chunk4.\n",
      "Chunk4 saved to outputs_pipeline/article2_chunk4_03.json\n",
      "done 有关TFT-LCD液晶显示光线利用效率探索_王艳卿_llm_correct.md chunk4.\n",
      "Chunk4 saved to outputs_pipeline/article2_chunk4_03.json\n",
      "done 机器视觉在TFT-LCD暗画面缺陷检测中的应用_顾杰_llm_correct.md chunk4.\n",
      "Chunk4 saved to outputs_pipeline/article2_chunk4_03.json\n",
      "done 基于DMAIC的彩色滤光片产品的质量改进研究_华缜_llm_correct.md chunk4.\n",
      "Chunk4 saved to outputs_pipeline/article2_chunk4_03.json\n",
      "done TFT_LCD电性能测试ITO短路缺陷检测研究_刘志军_llm_correct.md chunk4.\n",
      "Chunk4 saved to outputs_pipeline/article2_chunk4_03.json\n",
      "done 基于多项式曲面拟合的TFT...LCD斑痕缺陷自动检测技术_张昱_llm_correct.md chunk4.\n",
      "Chunk4 saved to outputs_pipeline/article2_chunk4_03.json\n",
      "done 利用FastTFT进行快速土方量计算的方法探讨_董明照_llm_correct.md chunk4.\n",
      "Chunk4 saved to outputs_pipeline/article2_chunk4_03.json\n",
      "done TFT-LCD黑Gap分析及改善研究_熊奇_llm_correct.md chunk4.\n",
      "Chunk4 saved to outputs_pipeline/article2_chunk4_03.json\n",
      "done 基于JAS膜技术下TFT-...像素电压串扰的影响因素研究_姚家俊_llm_correct.md chunk4.\n",
      "Chunk4 saved to outputs_pipeline/article2_chunk4_03.json\n",
      "done Rubbing_Mura不良的研究与改善_王昌银_llm_correct.md chunk4.\n",
      "Chunk4 saved to outputs_pipeline/article2_chunk4_03.json\n",
      "done 中国内地加入TFT-LCD战局直接挑战五代线_李俊毅_llm_correct.md chunk4.\n",
      "Chunk4 saved to outputs_pipeline/article2_chunk4_03.json\n",
      "done 基于TFT-LCD下的Flicker研究与优化_李东华_llm_correct.md chunk4.\n",
      "Chunk4 saved to outputs_pipeline/article2_chunk4_03.json\n",
      "done TFT-LCD摩擦工艺过程...静电放电不良分析及改善设计_王国磊_llm_correct.md chunk4.\n",
      "Chunk4 saved to outputs_pipeline/article2_chunk4_03.json\n",
      "done TFT工艺中的反应性离子刻蚀_柳江虹_llm_correct.md chunk4.\n",
      "Chunk4 saved to outputs_pipeline/article2_chunk4_03.json\n",
      "done 一种两叠层结构TFT-LCD的端子腐蚀研究_仵向理_llm_correct.md chunk4.\n",
      "Chunk4 saved to outputs_pipeline/article2_chunk4_03.json\n",
      "done TFT-LCD屏亮度指标测量不确定度的分析_刘淑英_llm_correct.md chunk4.\n",
      "Chunk4 saved to outputs_pipeline/article2_chunk4_03.json\n",
      "done 基于机器视觉的液晶屏Mura缺陷检测方法_钱基德_llm_correct.md chunk4.\n",
      "Chunk4 saved to outputs_pipeline/article2_chunk4_03.json\n",
      "done TFT-LCD显色恒定性与独立性研究_吴文明_llm_correct.md chunk4.\n",
      "Chunk4 saved to outputs_pipeline/article2_chunk4_03.json\n",
      "done TFT_LCD响应时间的影响因素及技术突破_陈玲玲_llm_correct.md chunk4.\n",
      "Chunk4 saved to outputs_pipeline/article2_chunk4_03.json\n",
      "done TFT-LCD滤色器用三色感光剂研究_徐良波_llm_correct.md chunk4.\n",
      "Chunk4 saved to outputs_pipeline/article2_chunk4_03.json\n",
      "done TFT-LCD一种条纹Mura的研究与改善_张正林_llm_correct.md chunk4.\n",
      "Chunk4 saved to outputs_pipeline/article2_chunk4_03.json\n",
      "done TFT_AMLCD像素矩阵电路中栅延迟的模拟研究_李牧菊_llm_correct.md chunk4.\n",
      "Chunk4 saved to outputs_pipeline/article2_chunk4_03.json\n",
      "done High performa...ure oxide TFT_Rui Geng_llm_correct.md chunk4.\n",
      "Chunk4 saved to outputs_pipeline/article2_chunk4_03.json\n",
      "done 关于TFT-LCD中一种偏光片相关不良的研究_刘杰_llm_correct.md chunk4.\n",
      "Chunk4 saved to outputs_pipeline/article2_chunk4_03.json\n",
      "done 印刷型设备产生配向膜Mura研究_王丹_llm_correct.md chunk4.\n",
      "Chunk4 saved to outputs_pipeline/article2_chunk4_03.json\n",
      "done TFT-LCD彩膜工艺宏观缺陷自动化修补的探究_毛继禹_llm_correct.md chunk4.\n",
      "Chunk4 saved to outputs_pipeline/article2_chunk4_03.json\n",
      "done TFT光刻平面补偿优化_张玉虎_llm_correct.md chunk4.\n",
      "Chunk4 saved to outputs_pipeline/article2_chunk4_03.json\n",
      "done TFT_LCD——未来主流显示技术_黄锡珉_llm_correct.md chunk4.\n",
      "Chunk4 saved to outputs_pipeline/article2_chunk4_03.json\n",
      "done TFT-LCD显示驱动技术的发展_夏炎_llm_correct.md chunk4.\n",
      "Chunk4 saved to outputs_pipeline/article2_chunk4_03.json\n",
      "done 开发TFT-LCD用玻璃基板技术思考_李绍丰_llm_correct.md chunk4.\n",
      "Chunk4 saved to outputs_pipeline/article2_chunk4_03.json\n",
      "done 利用CF_4等离子体制作高...口率TFT-LCD(英文)_金奉柱_llm_correct.md chunk4.\n",
      "Chunk4 saved to outputs_pipeline/article2_chunk4_03.json\n",
      "done 基于TFT-LCD工厂为中心的区域应急救援队建设_朱振师_llm_correct.md chunk4.\n",
      "Chunk4 saved to outputs_pipeline/article2_chunk4_03.json\n",
      "done TFT-LCD模组制造生产效率与品质提升的研究_袁博_llm_correct.md chunk4.\n",
      "Chunk4 saved to outputs_pipeline/article2_chunk4_03.json\n",
      "done TFT-LCD制造过程中的盒厚控制工艺研究_邱永亮_llm_correct.md chunk4.\n",
      "Chunk4 saved to outputs_pipeline/article2_chunk4_03.json\n",
      "done 光配向技术在TFT-LCD中的应用_马国靖_llm_correct.md chunk4.\n",
      "Chunk4 saved to outputs_pipeline/article2_chunk4_03.json\n",
      "done 三菱电机开发出15.6_in曲面型TFT液晶模块_llm_correct.md chunk4.\n",
      "Chunk4 saved to outputs_pipeline/article2_chunk4_03.json\n",
      "done TFT-LCD取向层表面的针孔缺陷分析(英文)_黄东升_llm_correct.md chunk4.\n",
      "Chunk4 saved to outputs_pipeline/article2_chunk4_03.json\n",
      "done TFT-LCD工业中竖纹不良的研究与改善_贾宜訸_llm_correct.md chunk4.\n",
      "Chunk4 saved to outputs_pipeline/article2_chunk4_03.json\n",
      "done 氟化钙在TFT基板玻璃中的应用研究_舒众众_llm_correct.md chunk4.\n",
      "Chunk4 saved to outputs_pipeline/article2_chunk4_03.json\n",
      "done 基于LTPS制程工艺的LC...ED显示用玻璃基板发展综述_田英良_llm_correct.md chunk4.\n",
      "Chunk4 saved to outputs_pipeline/article2_chunk4_03.json\n",
      "done 东芝推出低温多晶硅TFT液晶_llm_correct.md chunk4.\n",
      "Chunk4 saved to outputs_pipeline/article2_chunk4_03.json\n",
      "done 具有行为效应的TFT-LCD模块组装多目标调度研究_吴思思_llm_correct.md chunk4.\n",
      "Chunk4 saved to outputs_pipeline/article2_chunk4_03.json\n",
      "done AM－LCD用TFT有源矩阵的性能研究_张凤_llm_correct.md chunk4.\n",
      "Chunk4 saved to outputs_pipeline/article2_chunk4_03.json\n",
      "done 大尺寸TFT_LCD面板短路环切割质量提升研究_罗超龙_llm_correct.md chunk4.\n",
      "Chunk4 saved to outputs_pipeline/article2_chunk4_03.json\n",
      "done TFT基板玻璃通道铂铑热电偶温度波动现象分析和对策_王庚_llm_correct.md chunk4.\n",
      "Chunk4 saved to outputs_pipeline/article2_chunk4_03.json\n",
      "done 中大尺寸TFT-LCD液晶...自动分断工艺设备研究与应用_高艳_llm_correct.md chunk4.\n",
      "Chunk4 saved to outputs_pipeline/article2_chunk4_03.json\n",
      "done 扫描电镜的原理及TFT-LCD生产中的应用_张新言_llm_correct.md chunk4.\n",
      "Chunk4 saved to outputs_pipeline/article2_chunk4_03.json\n",
      "done TFT_LCD常见点缺陷的检测与修复_黄雅纹_llm_correct.md chunk4.\n",
      "Chunk4 saved to outputs_pipeline/article2_chunk4_03.json\n",
      "done TFT-LCD横纹不良研究与改善_王超_llm_correct.md chunk4.\n",
      "Chunk4 saved to outputs_pipeline/article2_chunk4_03.json\n",
      "done 多晶硅TFT及其在AMLCD中的应用_饶瑞_llm_correct.md chunk4.\n",
      "Chunk4 saved to outputs_pipeline/article2_chunk4_03.json\n",
      "done 中国台湾与韩国TFT-LC...业比较及其对中国大陆的启示_董彦良_llm_correct.md chunk4.\n",
      "Chunk4 saved to outputs_pipeline/article2_chunk4_03.json\n",
      "done 对“剖析液晶屏逻辑板TFT...电路”一文的一点看法(中)_郝铭_llm_correct.md chunk4.\n",
      "Chunk4 saved to outputs_pipeline/article2_chunk4_03.json\n",
      "done PCI结构TFT-LCD产...ra不良机理分析及改善研究_郭志轩_llm_correct.md chunk4.\n",
      "Chunk4 saved to outputs_pipeline/article2_chunk4_03.json\n",
      "done IGZO型TFT图形设计优化_王国志_llm_correct.md chunk4.\n",
      "Chunk4 saved to outputs_pipeline/article2_chunk4_03.json\n",
      "done 日本人为降低AM-TFT-LCDs的成本而战_郭淑慈_llm_correct.md chunk4.\n",
      "Chunk4 saved to outputs_pipeline/article2_chunk4_03.json\n",
      "done TFT-LCD_Mura缺陷机器视觉检测方法研究_卢小鹏_llm_correct.md chunk4.\n"
     ]
    }
   ],
   "source": [
    "from utils.topic_concepts_v2 import trans_chunk4\n",
    "chunks_path = \"outputs_pipeline/article1_chunks03.json\"\n",
    "chunk4_path = \"outputs_pipeline/article2_chunk4_03.json\" \n",
    "trans_chunk4(chunks_path, chunk4_path)"
   ]
  },
  {
   "cell_type": "code",
   "execution_count": 3,
   "id": "73f49268",
   "metadata": {},
   "outputs": [
    {
     "name": "stdout",
     "output_type": "stream",
     "text": [
      "转换完成，结果已保存到 outputs_pipeline/request1_topic_03.jsonl\n"
     ]
    }
   ],
   "source": [
    "# 得到 gen_topic 任务的请求文件jsonl\n",
    "from utils.topic_concepts_v2 import chunk4_to_jsonl\n",
    "# 输入文件路径（假设是包含chunk4数据的JSON文件）\n",
    "input_chunk4_path = \"outputs_pipeline/article2_chunk4_03.json\" \n",
    "# 输出文件路径\n",
    "output_request_path = \"outputs_pipeline/request1_topic_03.jsonl\"\n",
    "# 执行转换\n",
    "chunk4_to_jsonl(input_chunk4_path, output_request_path)\n",
    "# 剩下的任务在 火山平台 桶列表 和 批量推理列表中完成，并取到推理结果文件"
   ]
  },
  {
   "cell_type": "code",
   "execution_count": 4,
   "id": "9b0aecc0",
   "metadata": {},
   "outputs": [
    {
     "name": "stderr",
     "output_type": "stream",
     "text": [
      "Processing responses: 100%|██████████| 1068/1068 [00:00<00:00, 1068077.41it/s]"
     ]
    },
    {
     "name": "stdout",
     "output_type": "stream",
     "text": [
      "处理完成，结果已保存到 outputs_pipeline/article3_topics03.json\n"
     ]
    },
    {
     "name": "stderr",
     "output_type": "stream",
     "text": [
      "\n"
     ]
    }
   ],
   "source": [
    "# 根据 gen_topic 请求任务 获取 topic_path 结果文件\n",
    "from utils.topic_concepts_v2 import process_response_file\n",
    "# 响应结果文件路径（jsonl格式）\n",
    "response_file_path = \"outputs_pipeline/response1_topic_03.jsonl\"\n",
    "# 原始chunk4数据文件路径\n",
    "chunk4_file_path = \"outputs_pipeline/article2_chunk4_03.json\" \n",
    "# 结果保存路径\n",
    "topics_output_path = \"outputs_pipeline/article3_topics03.json\" \n",
    "# 执行处理\n",
    "process_response_file(response_file_path, chunk4_file_path, topics_output_path)"
   ]
  },
  {
   "cell_type": "code",
   "execution_count": 5,
   "id": "267f3258",
   "metadata": {},
   "outputs": [
    {
     "name": "stderr",
     "output_type": "stream",
     "text": [
      "Processing 加固液晶显示器TCON板设计_马剑锋_llm_correct.md: 100%|██████████| 2/2 [00:00<00:00, 1999.19it/s]\n",
      "Processing Micro_LED当前面临的瓶颈及技术进展_周佳_llm_correct.md: 100%|██████████| 14/14 [00:00<00:00, 13974.36it/s]\n",
      "Processing 平板显示中的双稳态技术_现状与进展(三)_黄子强_llm_correct.md: 100%|██████████| 3/3 [00:00<00:00, 3004.52it/s]\n",
      "Processing 有机发光器件平板显示及彩色象元实现方案_宋登元_llm_correct.md: 100%|██████████| 5/5 [00:00<?, ?it/s]\n",
      "Processing 克服材料问题OLED_TV惊艳现身_卢家浩_llm_correct.md: 100%|██████████| 3/3 [00:00<00:00, 3004.52it/s]\n",
      "Processing 有机发光二极管OLED专利图表及分析_范文_llm_correct.md: 100%|██████████| 2/2 [00:00<00:00, 1997.76it/s]\n",
      "Processing 《显示器能效限定值及能效等级》标准解析_吴蔚华_llm_correct.md: 100%|██████████| 4/4 [00:00<?, ?it/s]\n",
      "Processing 室温下溅射法制备高迁移率氧化锌薄膜晶体管_刘玉荣_llm_correct.md: 100%|██████████| 7/7 [00:00<00:00, 7000.51it/s]\n",
      "Processing ■面InGaN量子阱中的静...光发光二极管光电性能的影响_尹瑞梅_llm_correct.md: 100%|██████████| 9/9 [00:00<00:00, 9007.10it/s]\n",
      "Processing 中国内地加入TFT-LCD战局直接挑战五代线_李俊毅_llm_correct.md: 100%|██████████| 6/6 [00:00<?, ?it/s]\n",
      "Processing 数字电视时代的显示器件_万建_llm_correct.md: 100%|██████████| 4/4 [00:00<00:00, 4005.06it/s]\n",
      "Processing OLED技术专利态势分析_郭晨_llm_correct.md: 100%|██████████| 9/9 [00:00<?, ?it/s]\n",
      "Processing Cd_xZn_(1-x)O...的制备及非线性光学特性研究_张继德_llm_correct.md: 100%|██████████| 4/4 [00:00<00:00, 3999.34it/s]\n",
      "Processing a-Si∶H-TFT阈值电...动OLED显示中的补偿设计_刘金娥_llm_correct.md: 100%|██████████| 5/5 [00:00<00:00, 5000.36it/s]\n",
      "Processing 含有不同氮原子取向的大分子...料的制备及电致发光性能研究_吴德晗_llm_correct.md: 100%|██████████| 6/6 [00:00<00:00, 2998.79it/s]\n",
      "Processing 氢稀释对FTS沉积a-Si∶H薄膜结构特性的影响_于威_llm_correct.md: 100%|██████████| 4/4 [00:00<00:00, 3991.72it/s]\n",
      "Processing TBPe作蓝光材料的双层白色有机电致发光器件的性能_牛霞_llm_correct.md: 100%|██████████| 5/5 [00:00<?, ?it/s]\n",
      "Processing 有关TFT-LCD液晶显示光线利用效率探索_王艳卿_llm_correct.md: 100%|██████████| 1/1 [00:00<?, ?it/s]\n",
      "Processing TFT_LCD响应时间的影响因素及技术突破_陈玲玲_llm_correct.md: 100%|██████████| 3/3 [00:00<?, ?it/s]\n",
      "Processing 有机发光二极管(OLED)顶发射器件的透明电极_吕方_llm_correct.md: 100%|██████████| 12/12 [00:00<00:00, 12006.60it/s]\n",
      "Processing B掺杂ZnO纳米薄膜的结构和光学特性研究_化麒麟_llm_correct.md: 100%|██████████| 5/5 [00:00<00:00, 5000.36it/s]\n",
      "Processing 基于新型螺氧杂蒽主体的高效...磷光有机发光二极管（英文）_关玉巧_llm_correct.md: 100%|██████████| 9/9 [00:00<00:00, 8994.22it/s]\n",
      "Processing 多通道OLED器件寿命分析测试系统研制_余树福_llm_correct.md: 100%|██████████| 4/4 [00:00<00:00, 4005.06it/s]\n",
      "Processing 双层有源层非晶铟镓锌氧化物薄膜晶体管的仿真_彭云霞_llm_correct.md: 100%|██████████| 5/5 [00:00<00:00, 5002.75it/s]\n",
      "Processing 射频磁控溅射ITO薄膜中沉积温度对膜特性影响_赵透玲_llm_correct.md: 100%|██████████| 4/4 [00:00<00:00, 3998.38it/s]\n",
      "Processing 基底温度对射频磁控溅射PI基ITO薄膜的影响_刘祖一_llm_correct.md: 100%|██████████| 5/5 [00:00<00:00, 5003.94it/s]\n",
      "Processing 机器视觉在TFT-LCD暗画面缺陷检测中的应用_顾杰_llm_correct.md: 100%|██████████| 2/2 [00:00<00:00, 2001.58it/s]\n",
      "Processing OLED显示器的SMBus接口软硬件实现_孙庆_llm_correct.md: 100%|██████████| 3/3 [00:00<?, ?it/s]\n",
      "Processing TFT-LCD显色恒定性与独立性研究_吴文明_llm_correct.md: 100%|██████████| 3/3 [00:00<00:00, 3000.93it/s]\n",
      "Processing 单栅和双栅多晶硅薄膜晶体管的二维器件仿真_邓婉玲_llm_correct.md: 100%|██████████| 5/5 [00:00<?, ?it/s]\n",
      "Processing 使用铜源漏电极的非晶氧化铟锌薄膜晶体管的研究_徐瑞霞_llm_correct.md: 100%|██████████| 6/6 [00:00<00:00, 5996.15it/s]\n",
      "Processing TFT-LCD屏的Flic...er和DC残留的研究及改善_叶纯_llm_correct.md: 100%|██████████| 5/5 [00:00<00:00, 5000.36it/s]\n",
      "Processing Tracepro在OLED微透镜设计中的应用_吴非_llm_correct.md: 100%|██████████| 4/4 [00:00<?, ?it/s]\n",
      "Processing CM33-ZOC1007L...液晶材料HTNLCD的特性_梁兆颜_llm_correct.md: 100%|██████████| 4/4 [00:00<00:00, 4003.15it/s]\n",
      "Processing 多晶硅TFT及其在AMLCD中的应用_饶瑞_llm_correct.md: 100%|██████████| 3/3 [00:00<00:00, 1500.47it/s]\n",
      "Processing 射频磁控溅射低温制备ITO薄膜_王秀娟_llm_correct.md: 100%|██████████| 6/6 [00:00<00:00, 3001.29it/s]\n",
      "Processing OLED面板的彩色显示驱动技术研究_卢贵主_llm_correct.md: 100%|██████████| 4/4 [00:00<00:00, 4000.29it/s]\n",
      "Processing Calculation a...ency of OLEDs_llm_correct.md: 100%|██████████| 6/6 [00:00<00:00, 2998.43it/s]\n",
      "Processing 基于光刻工艺的高分辨全彩QLED器件制备与性能优化_高宏锦_llm_correct.md: 100%|██████████| 4/4 [00:00<?, ?it/s]\n",
      "Processing PTCDA表面射频磁控溅射ITO薄膜的特性研究_孙硕_llm_correct.md: 100%|██████████| 4/4 [00:00<00:00, 4004.11it/s]\n",
      "Processing STN型液晶显示用聚酰亚胺表面取向材料的性能_梁晓_llm_correct.md: 100%|██████████| 2/2 [00:00<?, ?it/s]\n",
      "Processing 有机EL——下一代显示技术及其产业发展_张兴科_llm_correct.md: 100%|██████████| 3/3 [00:00<00:00, 3000.22it/s]\n",
      "Processing 光配向技术在TFT-LCD中的应用_马国靖_llm_correct.md: 100%|██████████| 4/4 [00:00<00:00, 2000.38it/s]\n",
      "Processing 喷墨打印PVP绝缘层柔性薄膜晶体管研究_陶洪_llm_correct.md: 100%|██████████| 8/8 [00:00<00:00, 7992.96it/s]\n",
      "Processing 新型LCD显示屏技术_llm_correct.md: 100%|██████████| 1/1 [00:00<00:00, 999.83it/s]\n",
      "Processing 一种性能优越的液晶材料及显示技术_闻建勋_llm_correct.md: 100%|██████████| 5/5 [00:00<?, ?it/s]\n",
      "Processing 快速光热退火制备多晶硅薄膜_张宇翔_llm_correct.md: 100%|██████████| 3/3 [00:00<00:00, 3001.65it/s]\n",
      "Processing 国内外OLED市场及研发初探_万勇_llm_correct.md: 100%|██████████| 3/3 [00:00<?, ?it/s]\n",
      "Processing 工业控制用液晶显示模块_llm_correct.md: 100%|██████████| 1/1 [00:00<00:00, 1001.98it/s]\n",
      "Processing 氢化非晶硅叠层薄膜对单晶硅表面钝化研究_丁月珂_llm_correct.md: 100%|██████████| 7/7 [00:00<00:00, 3496.92it/s]\n",
      "Processing 双面显示技术的进展_陈禹翔_llm_correct.md: 100%|██████████| 2/2 [00:00<00:00, 2002.05it/s]\n",
      "Processing 平板显示器件的新进展及其应用潜力_Tatsuo Uchida_llm_correct.md: 100%|██████████| 3/3 [00:00<00:00, 2999.50it/s]\n",
      "Processing OLED将走向全彩化技术_吴腾奇_llm_correct.md: 100%|██████████| 3/3 [00:00<?, ?it/s]\n",
      "Processing TFT-LCD_Mura缺陷机器视觉检测方法研究_卢小鹏_llm_correct.md: 100%|██████████| 12/12 [00:00<00:00, 5989.72it/s]\n",
      "Processing 基于TFT-LCD的动态星模拟器星点位置修正方法_王俣_llm_correct.md: 100%|██████████| 4/4 [00:00<?, ?it/s]\n",
      "Processing 大尺寸TFT-LCD_GO...nel_CD管控方案的研究_熊嘉琪_llm_correct.md: 100%|██████████| 4/4 [00:00<00:00, 4001.24it/s]\n",
      "Processing High performa...ure oxide TFT_Rui Geng_llm_correct.md: 100%|██████████| 6/6 [00:00<?, ?it/s]\n",
      "Processing 新时代OLED的应用研究_雷慧茹_llm_correct.md: 100%|██████████| 3/3 [00:00<00:00, 2996.64it/s]\n",
      "Processing 反射型硅基液晶显示模式_范伟_llm_correct.md: 100%|██████████| 2/2 [00:00<?, ?it/s]\n",
      "Processing 显示器件用导热聚酯涂料的研究_杨庆浩_llm_correct.md: 100%|██████████| 4/4 [00:00<00:00, 4003.15it/s]\n",
      "Processing PrF_3阳极缓冲层对OLED器件性能的影响_廖亚琴_llm_correct.md: 100%|██████████| 4/4 [00:00<00:00, 3997.43it/s]\n",
      "Processing 基于机器视觉的液晶屏Mura缺陷检测方法_钱基德_llm_correct.md: 100%|██████████| 7/7 [00:00<?, ?it/s]\n",
      "Processing 显示技术发展水平及趋势_张戊寅_llm_correct.md: 100%|██████████| 2/2 [00:00<?, ?it/s]\n",
      "Processing FOLED薄膜封装技术研究进展_曾克俭_llm_correct.md: 100%|██████████| 7/7 [00:00<00:00, 2336.47it/s]\n",
      "Processing TFT-LCD滤色器用三色感光剂研究_徐良波_llm_correct.md: 100%|██████████| 13/13 [00:00<00:00, 4343.66it/s]\n",
      "Processing 无机电致发光平板显示器的老化工艺_张羿_llm_correct.md: 100%|██████████| 3/3 [00:00<?, ?it/s]\n",
      "Processing InGaZnO薄膜晶体管背板的栅极驱动电路静电释放失效研究-马群刚_llm_correct.md: 100%|██████████| 7/7 [00:00<00:00, 3501.51it/s]\n",
      "Processing 平板显示产业发展新动能_陈曦_llm_correct.md: 100%|██████████| 4/4 [00:00<00:00, 1996.81it/s]\n",
      "Processing 一种激光测照器用OLED显示模块_和婷_llm_correct.md: 100%|██████████| 5/5 [00:00<00:00, 4996.79it/s]\n",
      "Processing 一种新型平板彩色显示器件的制备和光谱分析_牛连斌_llm_correct.md: 100%|██████████| 4/4 [00:00<00:00, 3986.98it/s]\n",
      "Processing 基于Pb和LiF复合阴极的高对比度有机电致发光器件_丛杨_llm_correct.md: 100%|██████████| 3/3 [00:00<00:00, 2973.98it/s]\n",
      "Processing 有机发光显示的几项新技术_陈飞_llm_correct.md: 100%|██████████| 2/2 [00:00<00:00, 2007.80it/s]\n",
      "Processing 广州南沙打造“粉末冶金完整...”填补“柔性显示产业”空白_编辑部_llm_correct.md: 100%|██████████| 1/1 [00:00<?, ?it/s]\n",
      "Processing 有机电致发光显示技术综述_李维諟_llm_correct.md: 100%|██████████| 3/3 [00:00<00:00, 3003.08it/s]\n",
      "Processing 2005_OLED行业一瞥_王力_llm_correct.md: 100%|██████████| 3/3 [00:00<00:00, 2994.51it/s]\n",
      "Processing 柔性显示器件挺度测量方法研究_刘艳玲_llm_correct.md: 100%|██████████| 3/3 [00:00<00:00, 3000.22it/s]\n",
      "Processing 新型显示偏光片光学膜的加工-结构-性能关系_韩雪晴_llm_correct.md: 100%|██████████| 8/8 [00:00<00:00, 7996.77it/s]\n",
      "Processing 柔性非晶铟镓锌氧薄膜晶体管栅绝缘层的研究_刘国超_llm_correct.md: 100%|██████████| 13/13 [00:00<00:00, 12994.75it/s]\n",
      "Processing 基于磷光超薄层和掺杂层的高性能白色有机电致发光器件_程泽远_llm_correct.md: 100%|██████████| 14/14 [00:00<00:00, 14014.38it/s]\n",
      "Processing p型多晶硅薄膜应变因子与掺杂浓度关系理论研究_王健_llm_correct.md: 100%|██████████| 8/8 [00:00<00:00, 7992.96it/s]\n",
      "Processing OLED_LCD器件中的γ校正_杨虹_llm_correct.md: 100%|██████████| 4/4 [00:00<?, ?it/s]\n",
      "Processing TFT-LCD用彩色滤光片_李宏彦_llm_correct.md: 100%|██████████| 2/2 [00:00<00:00, 1998.24it/s]\n",
      "Processing 有机-无机钙钛矿作为有源层的薄膜晶体管制备_陈知新_llm_correct.md: 100%|██████████| 5/5 [00:00<00:00, 5003.94it/s]\n",
      "Processing 基于红外热像与电学测试法的OLED热学分析_杨连乔_llm_correct.md: 100%|██████████| 4/4 [00:00<00:00, 4000.29it/s]\n",
      "Processing OLED的最新消息_海信_llm_correct.md: 100%|██████████| 1/1 [00:00<00:00, 1001.03it/s]\n",
      "Processing 有助于OLED产业化的可溶解工艺_William Feehery_llm_correct.md: 100%|██████████| 3/3 [00:00<00:00, 2997.36it/s]\n",
      "Processing 平板显示器件与数字投影技术概览_陈滋莘_llm_correct.md: 100%|██████████| 4/4 [00:00<00:00, 3989.83it/s]\n",
      "Processing 一种两叠层结构TFT-LCD的端子腐蚀研究_仵向理_llm_correct.md: 100%|██████████| 3/3 [00:00<00:00, 1501.18it/s]\n",
      "Processing 介观光学结构提高蓝色顶发射有机电致发光器件效率_钟耀贤_llm_correct.md: 100%|██████████| 5/5 [00:00<00:00, 5003.94it/s]\n",
      "Processing 利用CF_4等离子体制作高...口率TFT-LCD(英文)_金奉柱_llm_correct.md: 100%|██████████| 4/4 [00:00<?, ?it/s]\n",
      "Processing 基于高迁移率微晶硅的薄膜晶体管(英文)_CHAN Kah-Yoong_llm_correct.md: 100%|██████████| 10/10 [00:00<00:00, 3335.43it/s]\n",
      "Processing 印刷电子技术在OLED显示器件中的应用_郑华_llm_correct.md: 100%|██████████| 3/3 [00:00<00:00, 3005.95it/s]\n",
      "Processing 基于DMAIC的彩色滤光片产品的质量改进研究_华缜_llm_correct.md: 100%|██████████| 15/15 [00:00<00:00, 7672.51it/s]\n",
      "Processing 松果状纳米氧化铁对液晶电光性能的影响_王猛_llm_correct.md: 100%|██████████| 6/6 [00:00<00:00, 5996.15it/s]\n",
      "Processing LCD液晶显示模块在工程装备计时系统中应用_袁建虎_llm_correct.md: 100%|██████████| 1/1 [00:00<?, ?it/s]\n",
      "Processing 基于Alq_3的有机发光二极管中的瞬时荧光与延迟荧光_张勇_llm_correct.md: 100%|██████████| 7/7 [00:00<00:00, 6990.51it/s]\n",
      "Processing 有机量子阱结构发光器件的研究进展_朱海娜_llm_correct.md: 100%|██████████| 7/7 [00:00<00:00, 6980.53it/s]\n",
      "Processing OLED技术在电视领域的应用_梁平茂_llm_correct.md: 100%|██████████| 1/1 [00:00<00:00, 1001.03it/s]\n",
      "Processing 氟化钙在TFT基板玻璃中的应用研究_舒众众_llm_correct.md: 100%|██████████| 4/4 [00:00<?, ?it/s]\n",
      "Processing 无机EL显示技术研究和开发进展_林明通_llm_correct.md: 100%|██████████| 9/9 [00:00<00:00, 8979.24it/s]\n",
      "Processing TCL科技收购茂佳国际背后...__印刷OLED产业化加速_林然_llm_correct.md: 100%|██████████| 1/1 [00:00<?, ?it/s]\n",
      "Processing 具有行为效应的TFT-LCD模块组装多目标调度研究_吴思思_llm_correct.md: 100%|██████████| 9/9 [00:00<00:00, 9022.16it/s]\n",
      "Processing 基于Alq_3的有机发光二极管的磁电导效应_张勇_llm_correct.md: 100%|██████████| 5/5 [00:00<00:00, 5003.94it/s]\n",
      "Processing 日本微电子和光电子工业中激光组装技术的应用及展望_王立斌_llm_correct.md: 100%|██████████| 5/5 [00:00<00:00, 5017.11it/s]\n",
      "Processing TFT光刻平面补偿优化_张玉虎_llm_correct.md: 100%|██████████| 9/9 [00:00<00:00, 9007.10it/s]\n",
      "Processing PCI结构TFT-LCD产...ra不良机理分析及改善研究_郭志轩_llm_correct.md: 100%|██████████| 5/5 [00:00<?, ?it/s]\n",
      "Processing 对液晶电视动态画面响应的测试研究_徐涛_llm_correct.md: 100%|██████████| 3/3 [00:00<00:00, 2990.95it/s]\n",
      "Processing 基底加热温度对ITO薄膜的性能影响研究_王欣月_llm_correct.md: 100%|██████████| 9/9 [00:00<00:00, 9002.80it/s]\n",
      "Processing 基于陷落电荷效应的非晶硅TFT的开态电流模型_何红宇_llm_correct.md: 100%|██████████| 7/7 [00:00<00:00, 7005.52it/s]\n",
      "Processing 基于LTPS制程工艺的LC...ED显示用玻璃基板发展综述_田英良_llm_correct.md: 100%|██████████| 8/8 [00:00<00:00, 8002.49it/s]\n",
      "Processing 基于深蓝光激基复合物构筑的OLED植物照明光源_孙阿辉_llm_correct.md: 100%|██████████| 11/11 [00:00<00:00, 11011.30it/s]\n",
      "Processing 固体纳秒激光器应用于非晶硅薄膜结晶的研究_王帅_llm_correct.md: 100%|██████████| 5/5 [00:00<?, ?it/s]\n",
      "Processing 基于多项式曲面拟合的TFT...LCD斑痕缺陷自动检测技术_张昱_llm_correct.md: 100%|██████████| 5/5 [00:00<00:00, 4989.66it/s]\n",
      "Processing 低温多晶硅薄膜晶体管液晶显示器的驱动条件_偰正才_llm_correct.md: 100%|██████████| 3/3 [00:00<00:00, 2998.07it/s]\n",
      "Processing TFT-LCD工业中竖纹不良的研究与改善_贾宜訸_llm_correct.md: 100%|██████████| 3/3 [00:00<?, ?it/s]\n",
      "Processing OLED平面电致发光器件在照明领域的应用展望_蔡伟新_llm_correct.md: 100%|██████████| 3/3 [00:00<00:00, 2995.93it/s]\n",
      "Processing A new AC driv...ission AMOLED_张勇文_llm_correct.md: 100%|██████████| 7/7 [00:00<00:00, 6983.86it/s]\n",
      "Processing TFT_LCD电性能测试ITO短路缺陷检测研究_刘志军_llm_correct.md: 100%|██████████| 5/5 [00:00<00:00, 4988.47it/s]\n",
      "Processing Alq_3有机发光二极管中的正负磁电导转变_张勇_llm_correct.md: 100%|██████████| 5/5 [00:00<00:00, 4999.17it/s]\n",
      "Processing 开发TFT-LCD用玻璃基板技术思考_李绍丰_llm_correct.md: 100%|██████████| 3/3 [00:00<?, ?it/s]\n",
      "Processing 天下为“宽”__宽屏液晶显示器专题评测(下)_吕华威_llm_correct.md: 100%|██████████| 3/3 [00:00<?, ?it/s]\n",
      "Processing 大信息容量液晶显示技术_沈春林_llm_correct.md: 100%|██████████| 8/8 [00:00<00:00, 7989.15it/s]\n",
      "Processing B_2O_3对LTPS用基板玻璃结构和黏温性能的影响_杨国洪_llm_correct.md: 100%|██████████| 3/3 [00:00<?, ?it/s]\n",
      "Processing Rubbing_Mura不良的研究与改善_王昌银_llm_correct.md: 100%|██████████| 2/2 [00:00<?, ?it/s]\n",
      "Processing 反射式液晶显示光学的理论计算_王谦_llm_correct.md: 100%|██████████| 12/12 [00:00<00:00, 11998.01it/s]\n",
      "Processing TFT_AMLCD像素矩阵电路中栅延迟的模拟研究_李牧菊_llm_correct.md: 100%|██████████| 2/2 [00:00<?, ?it/s]\n",
      "Processing 含氟液晶材料的研究进展_谢段燕_llm_correct.md: 100%|██████████| 7/7 [00:00<00:00, 3496.50it/s]\n",
      "Processing 柔性OLED用高耐热聚酰亚胺薄膜的制备与性能_矫龙_llm_correct.md: 100%|██████████| 6/6 [00:00<00:00, 5984.74it/s]\n",
      "Processing 大尺寸TFT_LCD面板短路环切割质量提升研究_罗超龙_llm_correct.md: 100%|██████████| 13/13 [00:00<00:00, 3251.79it/s]\n",
      "Processing 大型液晶显示用COF带的细节距线路形成_蔡积庆_llm_correct.md: 100%|██████████| 3/3 [00:00<00:00, 3000.22it/s]\n",
      "Processing LED背光对LCD色彩的影响_程鸿飞_llm_correct.md: 100%|██████████| 4/4 [00:00<00:00, 4004.11it/s]\n",
      "Processing 显示器新技术之比较——设计...为某项应用选择最佳的显示器_Anthony Vilgiate_llm_correct.md: 100%|██████████| 1/1 [00:00<00:00, 499.92it/s]\n",
      "Processing Mobility impa...ing IGZO TFTs_Congwei Liao_llm_correct.md: 100%|██████████| 10/10 [00:00<00:00, 3332.52it/s]\n",
      "Processing Effects of or... OLED devices_胡俊涛_llm_correct.md: 100%|██████████| 8/8 [00:00<00:00, 4002.20it/s]\n",
      "Processing OLED概念股谁最抢眼__昝立永_llm_correct.md: 100%|██████████| 1/1 [00:00<?, ?it/s]\n",
      "Processing TFT-LCD黑Gap分析及改善研究_熊奇_llm_correct.md: 100%|██████████| 4/4 [00:00<00:00, 3990.77it/s]\n",
      "Processing 柔性显示的研究进展_刘国柱_llm_correct.md: 100%|██████████| 6/6 [00:00<00:00, 5996.15it/s]\n",
      "Processing 平板显示中的双稳态技术_现状与进展(二)_黄子强_llm_correct.md: 100%|██████████| 3/3 [00:00<?, ?it/s]\n",
      "Processing 向列型液晶显示器件的工作特性.md0000_llm_correct.md: 100%|██████████| 5/5 [00:00<00:00, 4995.60it/s]\n",
      "Processing 微显示器件中的边缘场效应及其改善方法_刘绍锦_llm_correct.md: 100%|██████████| 3/3 [00:00<00:00, 2993.79it/s]\n",
      "Processing A Method for OLED Test_llm_correct.md: 100%|██████████| 3/3 [00:00<00:00, 3000.93it/s]\n",
      "Processing AMOLED头盔显示器光学系统设计及视空间评价_范海英_llm_correct.md: 100%|██████████| 3/3 [00:00<?, ?it/s]\n",
      "Processing OLED材料中间体的纯化方法研究_韩朝刚_llm_correct.md: 100%|██████████| 2/2 [00:00<00:00, 1996.34it/s]\n",
      "Processing TFT_LCD常见点缺陷的检测与修复_黄雅纹_llm_correct.md: 100%|██████████| 2/2 [00:00<00:00, 1999.19it/s]\n",
      "Processing BCP的厚度对OLED性能的影响_王静_llm_correct.md: 100%|██████████| 4/4 [00:00<00:00, 4003.15it/s]\n",
      "Processing OLED在汽车领域中的应用_田沛东_llm_correct.md: 100%|██████████| 1/1 [00:00<?, ?it/s]\n",
      "Processing 有机发光二极管展示美好_余艳玲_llm_correct.md: 100%|██████████| 1/1 [00:00<00:00, 1004.86it/s]\n",
      "Processing OLED作为操作面板的多级功能菜单设计_李艺_llm_correct.md: 100%|██████████| 1/1 [00:00<00:00, 1000.07it/s]\n",
      "Processing 柔板显示技术研究进展_王秀峰_llm_correct.md: 100%|██████████| 4/4 [00:00<00:00, 3996.48it/s]\n",
      "Processing TFT-LCD一种条纹Mura的研究与改善_张正林_llm_correct.md: 100%|██████████| 5/5 [00:00<00:00, 4996.79it/s]\n",
      "Processing 光配向技术在液晶电视面板中的应用_周刘飞_llm_correct.md: 100%|██████████| 4/4 [00:00<00:00, 3994.58it/s]\n",
      "Processing 有机发光显示器及材料现状研究_刘红丽_llm_correct.md: 100%|██████████| 5/5 [00:00<?, ?it/s]\n",
      "Processing AMOLED子像素渲染算法研究_徐京_llm_correct.md: 100%|██████████| 6/6 [00:00<00:00, 5990.44it/s]\n",
      "Processing OLED应用于照明的发展现状及前景_刘陈_llm_correct.md: 100%|██████████| 4/4 [00:00<00:00, 3998.38it/s]\n",
      "Processing 基于TADF共掺杂的蓝光OLED器件性能研究_王豪杰_llm_correct.md: 100%|██████████| 5/5 [00:00<?, ?it/s]\n",
      "Processing 关于TFT-LCD中一种偏光片相关不良的研究_刘杰_llm_correct.md: 100%|██████████| 3/3 [00:00<00:00, 3003.80it/s]\n",
      "Processing 放眼天地宽__21.6_2...英寸宽屏液晶显示器专题评测_吕华威_llm_correct.md: 100%|██████████| 8/8 [00:00<00:00, 8023.54it/s]\n",
      "Processing 掺杂的有机薄膜电致发光_刘祖刚_llm_correct.md: 100%|██████████| 3/3 [00:00<?, ?it/s]\n",
      "Processing 彩色薄膜晶体管液晶显示器(...T-LCD)基本原理与动态_林志刚_llm_correct.md: 100%|██████████| 3/3 [00:00<?, ?it/s]\n",
      "Processing 基于专利视角的我国OLED照明技术发展态势分析_刘刚_llm_correct.md: 100%|██████████| 8/8 [00:00<00:00, 4004.59it/s]\n",
      "Processing 中国台湾与韩国TFT-LC...业比较及其对中国大陆的启示_董彦良_llm_correct.md: 100%|██████████| 3/3 [00:00<?, ?it/s]\n",
      "Processing IGZO型TFT图形设计优化_王国志_llm_correct.md: 100%|██████████| 6/6 [00:00<00:00, 5999.00it/s]\n",
      "Processing 显示技术的现状和将来发展趋势_张圻_llm_correct.md: 100%|██████████| 1/1 [00:00<?, ?it/s]\n",
      "Processing 微杯型电泳显示器的研究进展_谢建宇_llm_correct.md: 100%|██████████| 4/4 [00:00<00:00, 3996.48it/s]\n",
      "Processing 有源层厚度对氧化铟镓锌薄膜晶体管性能的影响_吴捷_llm_correct.md: 100%|██████████| 4/4 [00:00<?, ?it/s]\n",
      "Processing PECVD分层结构对提高氢化非晶硅TFT迁移率的影响_于遥_llm_correct.md: 100%|██████████| 5/5 [00:00<00:00, 4999.17it/s]\n",
      "Processing 微纳结构光电子物理与器件_黄翊东_llm_correct.md: 100%|██████████| 5/5 [00:00<00:00, 4996.79it/s]\n",
      "Processing 基于表面势的氢化非晶硅薄膜晶体管直流特性研究_陈晓雪_llm_correct.md: 100%|██████████| 5/5 [00:00<00:00, 5002.75it/s]\n",
      "Processing 增亮分级不会虚——飞利浦显亮3显示器107F4_王琨月_llm_correct.md: 100%|██████████| 1/1 [00:00<?, ?it/s]\n",
      "Processing LED背光对LCD色彩的影响探讨_魏欢欢_llm_correct.md: 100%|██████████| 2/2 [00:00<?, ?it/s]\n",
      "Processing 平板显示技术的新进展_谢智波_llm_correct.md: 100%|██████████| 3/3 [00:00<?, ?it/s]\n",
      "Processing OLED显示技术综述_冯迪砂_llm_correct.md: 100%|██████████| 4/4 [00:00<?, ?it/s]\n",
      "Processing 有机发光显示器前途无量_邱勇_llm_correct.md: 100%|██████████| 1/1 [00:00<?, ?it/s]\n",
      "Processing LED灯珠峰值波长对液晶显示设备色彩的影响_刘发达_llm_correct.md: 100%|██████████| 2/2 [00:00<00:00, 1999.19it/s]\n",
      "Processing 柔性显示器件国际标准研究进展_党鹏乐_llm_correct.md: 100%|██████████| 3/3 [00:00<00:00, 2997.36it/s]\n",
      "Processing 基于K-means聚类和L...络的_OLED缺陷像素识别_纪艳玲_llm_correct.md: 100%|██████████| 7/7 [00:00<?, ?it/s]\n",
      "Processing OLED成长的烦恼_崔澎_llm_correct.md: 100%|██████████| 3/3 [00:00<?, ?it/s]\n",
      "Processing TFT-LCD横纹不良研究与改善_王超_llm_correct.md: 100%|██████████| 3/3 [00:00<?, ?it/s]\n",
      "Processing 三菱电机开发出15.6_in曲面型TFT液晶模块_llm_correct.md: 100%|██████████| 1/1 [00:00<?, ?it/s]\n",
      "Processing 检测OLED显示器的工作台_llm_correct.md: 100%|██████████| 1/1 [00:00<?, ?it/s]\n",
      "Processing OLED显示技术专利分析_段珂瑜_llm_correct.md: 100%|██████████| 3/3 [00:00<00:00, 2178.10it/s]\n",
      "Processing TFT-LCD屏亮度指标测量不确定度的分析_刘淑英_llm_correct.md: 100%|██████████| 2/2 [00:00<?, ?it/s]\n",
      "Processing 中大尺寸TFT-LCD液晶...自动分断工艺设备研究与应用_高艳_llm_correct.md: 100%|██████████| 2/2 [00:00<?, ?it/s]\n",
      "Processing 基于SPI的OLED显示技术_吴敏波_llm_correct.md: 100%|██████████| 2/2 [00:00<00:00, 3973.76it/s]\n",
      "Processing 有机电致发光器件的热学特性分析_张稳稳_llm_correct.md: 100%|██████████| 5/5 [00:00<00:00, 9786.06it/s]\n",
      "Processing 一种大尺寸双冗余机载液晶显示器的设计_金诗玮_llm_correct.md: 100%|██████████| 3/3 [00:00<00:00, 5904.70it/s]\n",
      "Processing 多晶硅薄膜制备工艺及其应用发展_董培讲_llm_correct.md: 100%|██████████| 1/1 [00:00<00:00, 1909.11it/s]\n",
      "Processing TFT工艺中的反应性离子刻蚀_柳江虹_llm_correct.md: 100%|██████████| 2/2 [00:00<?, ?it/s]\n",
      "Processing 双面显示技术的进展(续)_陈禹翔.md0000_llm_correct.md: 100%|██████████| 5/5 [00:00<00:00, 4603.06it/s]\n",
      "Processing 场时序彩色液晶显示器技术_耿卫东_llm_correct.md: 100%|██████████| 3/3 [00:00<00:00, 2902.63it/s]\n",
      "Processing Langmuir探针对以S...积多晶硅薄膜过程的在线检测_祝祖送_llm_correct.md: 100%|██████████| 3/3 [00:00<00:00, 2906.66it/s]\n",
      "Processing 基于非晶硅薄膜晶体管的室温红外探测器_董良_llm_correct.md: 100%|██████████| 4/4 [00:00<00:00, 7727.87it/s]\n",
      "Processing 一种基于DSP和KS0107B的液晶显示_杨桦_llm_correct.md: 100%|██████████| 4/4 [00:00<00:00, 7760.04it/s]\n",
      "Processing 基于TFT-LCD下的Flicker研究与优化_李东华_llm_correct.md: 100%|██████████| 3/3 [00:00<00:00, 2826.35it/s]\n",
      "Processing 未来半导体材料在柔性显示屏技术中的创新与应用_吕岳敏_llm_correct.md: 100%|██████████| 1/1 [00:00<00:00, 1933.75it/s]\n",
      "Processing TFT-LCD制造过程中的盒厚控制工艺研究_邱永亮_llm_correct.md: 100%|██████████| 2/2 [00:00<?, ?it/s]\n",
      "Processing OLED应用与市场_张瑞君_llm_correct.md: 100%|██████████| 2/2 [00:00<?, ?it/s]\n",
      "Processing 快速光热退火法制备多晶硅薄膜的研究_冯团辉_llm_correct.md: 100%|██████████| 5/5 [00:00<00:00, 5000.36it/s]\n",
      "Processing 华南理工大学成功研制出国内...彩色柔性AMOLED显示屏_llm_correct.md: 100%|██████████| 1/1 [00:00<00:00, 1001.03it/s]\n",
      "Processing 9款38cm(15英寸)TFT_LCD显示器横向评测_张韬_llm_correct.md: 100%|██████████| 8/8 [00:00<00:00, 7991.05it/s]\n",
      "Processing TFT-LCD取向层表面的针孔缺陷分析(英文)_黄东升_llm_correct.md: 100%|██████████| 5/5 [00:00<00:00, 4996.79it/s]\n",
      "Processing 对“剖析液晶屏逻辑板TFT...电路”一文的一点看法(中)_郝铭_llm_correct.md: 100%|██████████| 1/1 [00:00<?, ?it/s]\n",
      "Processing 基于JAS膜技术下TFT-...像素电压串扰的影响因素研究_姚家俊_llm_correct.md: 100%|██████████| 3/3 [00:00<?, ?it/s]\n",
      "Processing OLED技术现状与在消费电子市场发展动态_路绳立_llm_correct.md: 100%|██████████| 1/1 [00:00<?, ?it/s]\n",
      "Processing AM－LCD用TFT有源矩阵的性能研究_张凤_llm_correct.md: 100%|██████████| 7/7 [00:00<?, ?it/s]\n",
      "Processing TFT-LCD显示驱动技术的发展_夏炎_llm_correct.md: 100%|██████████| 3/3 [00:00<00:00, 2995.93it/s]\n",
      "Processing 印刷型设备产生配向膜Mura研究_王丹_llm_correct.md: 100%|██████████| 3/3 [00:00<00:00, 3000.22it/s]\n",
      "Processing PECVD制备富硅氮化硅薄膜的工艺条件及其性质的研究_张龙龙_llm_correct.md: 100%|██████████| 5/5 [00:00<00:00, 5006.33it/s]\n",
      "Processing 培养液晶显示专业人才的方案设计与实践_张方辉_llm_correct.md: 100%|██████████| 3/3 [00:00<00:00, 3000.93it/s]\n",
      "Processing 数码摄影师的色彩管理讲座(...色彩模式、色彩空间和色域”_吴启海_llm_correct.md: 100%|██████████| 2/2 [00:00<00:00, 1988.76it/s]\n",
      "Processing 一个非晶InGaZnO薄膜...体管线性区陷阱态的提取方法_徐飘荣_llm_correct.md: 100%|██████████| 5/5 [00:00<00:00, 5006.33it/s]\n",
      "Processing 新型液晶微光学器件—分子取向的设计和先进光刻技术_新型_llm_correct.md: 100%|██████████| 1/1 [00:00<?, ?it/s]\n",
      "Processing 传统液晶面板受挑战,OLED开新路_llm_correct.md: 100%|██████████| 1/1 [00:00<00:00, 1002.46it/s]\n",
      "Processing 医用仪器液晶显示器常见故障诊断及维修_李辉_llm_correct.md: 100%|██████████| 2/2 [00:00<00:00, 1327.73it/s]\n",
      "Processing 平板显示行业TFT自动光学检测技术研究_王雨_llm_correct.md: 100%|██████████| 1/1 [00:00<00:00, 997.46it/s]\n",
      "Processing PET基片上射频磁控溅射不...厚度ITO薄膜的光电学特性_郑卫峰_llm_correct.md: 100%|██████████| 4/4 [00:00<00:00, 3997.43it/s]\n",
      "Processing OLED电视的发展潜力和应用前景_Tetsuo Urabe_llm_correct.md: 100%|██████████| 2/2 [00:00<00:00, 2001.10it/s]\n",
      "Processing 新型半导体材料在柔性显示屏应用中的展望_张启华_llm_correct.md: 100%|██████████| 2/2 [00:00<?, ?it/s]\n",
      "Processing 折叠屏高增长利好OLED、UTG_刘吉洪_llm_correct.md: 100%|██████████| 1/1 [00:00<00:00, 996.27it/s]\n",
      "Processing 有机发光二极管的热分析与热设计_杨连乔_llm_correct.md: 100%|██████████| 4/4 [00:00<00:00, 1995.62it/s]\n",
      "Processing 9英寸MIM矩阵式液晶显示器件_陈树民_llm_correct.md: 100%|██████████| 2/2 [00:00<00:00, 1997.29it/s]\n",
      "Processing 含氟液晶材料概述_王刚_llm_correct.md: 100%|██████████| 3/3 [00:00<00:00, 2990.24it/s]\n",
      "Processing OLED电视市场化暂难突破上下游厂商借4K产品救市_余骅_llm_correct.md: 100%|██████████| 1/1 [00:00<?, ?it/s]\n",
      "Processing 新型显示器技术亮相SID展_AlixL Paultre_llm_correct.md: 100%|██████████| 1/1 [00:00<?, ?it/s]\n",
      "Processing InGaN量子点红光Micro-LED研究_余鹿鸣_llm_correct.md: 100%|██████████| 4/4 [00:00<?, ?it/s]\n",
      "Processing 基于自适应模板匹配阈值选取算法的显示器件多目标定位_齐昕雨_llm_correct.md: 100%|██████████| 5/5 [00:00<00:00, 5000.36it/s]\n",
      "Processing 扫描电镜的原理及TFT-LCD生产中的应用_张新言_llm_correct.md: 100%|██████████| 2/2 [00:00<00:00, 1997.29it/s]\n",
      "Processing OLED平板显示技术原理与应用_苗英恺_llm_correct.md: 100%|██████████| 2/2 [00:00<?, ?it/s]\n",
      "Processing 手机OLED屏幕子像素排布的观察与颜色合成实验_王希成_llm_correct.md: 100%|██████████| 2/2 [00:00<?, ?it/s]\n",
      "Processing 整车背光指示灯漏光问题分析与优化讨论_李月清_llm_correct.md: 100%|██████████| 3/3 [00:00<?, ?it/s]\n",
      "Processing 微波退火法制备多晶硅薄膜的电学特性研究_饶瑞_llm_correct.md: 100%|██████████| 3/3 [00:00<00:00, 3003.08it/s]\n",
      "Processing PHOLED显示技术_Stanley Chen_llm_correct.md: 100%|██████████| 1/1 [00:00<?, ?it/s]\n",
      "Processing 关于高端显示技术OLED的研究_王志奇_llm_correct.md: 100%|██████████| 2/2 [00:00<00:00, 2001.58it/s]\n",
      "Processing 基于大面积TFT和PVDF薄膜的表面形貌无损探测技术_尚飞_llm_correct.md: 100%|██████████| 3/3 [00:00<00:00, 2999.50it/s]\n",
      "Processing 大幅面柔性屏的喷墨印刷_冉紫媛_llm_correct.md: 100%|██████████| 1/1 [00:00<?, ?it/s]\n",
      "Processing 一种针对AMOLED器件劣化的电学补偿技术_解红军_llm_correct.md: 100%|██████████| 5/5 [00:00<00:00, 2500.48it/s]\n",
      "Processing LED光电显示器件用双组分有机硅灌封胶的研制_熊婷_llm_correct.md: 100%|██████████| 3/3 [00:00<?, ?it/s]\n",
      "Processing 新加坡瞄准了OLEDs_Adrian PBurden_llm_correct.md: 100%|██████████| 2/2 [00:00<00:00, 1998.72it/s]\n",
      "Processing 基于TFT-LCD工厂为中心的区域应急救援队建设_朱振师_llm_correct.md: 100%|██████████| 1/1 [00:00<00:00, 995.80it/s]\n",
      "Processing 携手努力__共话OLED未...新之路——OLED论坛侧记_许瑞鹏_llm_correct.md: 100%|██████████| 1/1 [00:00<?, ?it/s]\n",
      "Processing OLED产业应用实例_宋佳楠_llm_correct.md: 100%|██████████| 1/1 [00:00<?, ?it/s]\n",
      "Processing 一种使用聚酰亚胺的新型有机发光二极管的研究_王建浦_llm_correct.md: 100%|██████████| 2/2 [00:00<?, ?it/s]\n",
      "Processing p-Si_TFT的电场增强MILC制备技术_曾祥斌_llm_correct.md: 100%|██████████| 3/3 [00:00<00:00, 3005.95it/s]\n",
      "Processing 显示器色彩管理具体实现办法_蔡加三_llm_correct.md: 100%|██████████| 1/1 [00:00<?, ?it/s]\n",
      "Processing OLED封装专利技术综述_钱丹娜_llm_correct.md: 100%|██████████| 1/1 [00:00<?, ?it/s]\n",
      "Processing OLED的中国小伙伴_姜中介_llm_correct.md: 100%|██████████| 1/1 [00:00<00:00, 1004.14it/s]\n",
      "Processing 发展中的平板显示技术_姜西娟_llm_correct.md: 100%|██████████| 1/1 [00:00<00:00, 1001.03it/s]\n",
      "Processing LPCVD多晶硅薄膜缺陷的形成及消除措施_王胜强_llm_correct.md: 100%|██████████| 2/2 [00:00<00:00, 1997.29it/s]\n",
      "Processing 大开眼界__ViewSon..._VX2640W液晶显示器_吕华威_llm_correct.md: 100%|██████████| 1/1 [00:00<?, ?it/s]\n",
      "Processing TFT-LCD摩擦工艺过程...静电放电不良分析及改善设计_王国磊_llm_correct.md: 100%|██████████| 3/3 [00:00<00:00, 2998.79it/s]\n",
      "Processing TFT基板玻璃通道铂铑热电偶温度波动现象分析和对策_王庚_llm_correct.md: 100%|██████████| 1/1 [00:00<00:00, 1006.07it/s]\n",
      "Processing 各类液晶显示模块的比较研究_陈羽_llm_correct.md: 100%|██████████| 1/1 [00:00<00:00, 999.36it/s]\n",
      "Processing 国内首款30.5_cm全彩AMOLED显示屏研制成功_llm_correct.md: 100%|██████████| 1/1 [00:00<00:00, 997.93it/s]\n",
      "Processing 平板显示器件、固体摄象器件...应用技术学术会议在南京召开_崔广钧_llm_correct.md: 100%|██████████| 1/1 [00:00<?, ?it/s]\n",
      "Processing 新型有机光电功能薄膜的电致发光研究_吴鹏_llm_correct.md: 100%|██████████| 2/2 [00:00<00:00, 1994.91it/s]\n",
      "Processing 基于TFT-LCD工艺变更的分级评审模型研究应用_刘虎军_llm_correct.md: 100%|██████████| 3/3 [00:00<00:00, 1501.00it/s]\n",
      "Processing OLED显示开发的最新进展_李文连_llm_correct.md: 100%|██████████| 1/1 [00:00<00:00, 1002.70it/s]\n",
      "Processing OLED电视战__提前打响_郭荣村_llm_correct.md: 100%|██████████| 3/3 [00:00<00:00, 1499.57it/s]\n",
      "Processing 共面转换液晶显示器中获得对比度高于1_600的新技术_Jae Hyun Kim_llm_correct.md: 100%|██████████| 2/2 [00:00<00:00, 996.15it/s]\n",
      "Processing TFT_LCD——未来主流显示技术_黄锡珉_llm_correct.md: 100%|██████████| 1/1 [00:00<00:00, 1001.27it/s]\n",
      "Processing NTC热敏电阻在液晶显示中的应用_贾金萍_llm_correct.md: 100%|██████████| 1/1 [00:00<00:00, 1006.07it/s]\n",
      "Processing 具有宽而均匀视角特性的同心圆摩擦液晶显示器件_才勇_llm_correct.md: 100%|██████████| 1/1 [00:00<00:00, 1001.74it/s]\n",
      "Processing 基于半导体光电子学课程的新型教学模式研究_王祥传_llm_correct.md: 100%|██████████| 1/1 [00:00<00:00, 1001.51it/s]\n",
      "Processing 国内液晶显示面板行业发展中存在的问题及解决对策_龚耕_llm_correct.md: 100%|██████████| 1/1 [00:00<?, ?it/s]\n",
      "Processing 中国OLED企业的机遇和挑战_语安_llm_correct.md: 100%|██████████| 1/1 [00:00<00:00, 876.00it/s]\n",
      "Processing 显示技术的发展_黄锡珉_llm_correct.md: 100%|██████████| 2/2 [00:00<?, ?it/s]\n",
      "Processing 平板显示技术标准工作组2011年工作概况_赵英_llm_correct.md: 100%|██████████| 1/1 [00:00<?, ?it/s]\n",
      "Processing 基于透明OLED显示技术的车窗在城轨交通中的应用_贾涛_llm_correct.md: 100%|██████████| 1/1 [00:00<?, ?it/s]\n",
      "Processing PEN有助于制造柔性OLED显示屏_llm_correct.md: 100%|██████████| 1/1 [00:00<00:00, 998.88it/s]\n",
      "Processing SID_2013__LGD展示多种下一代显示技术_llm_correct.md: 100%|██████████| 1/1 [00:00<?, ?it/s]\n",
      "Processing 北京科技大学研制成功聚合物...光材料单层白光OLED器件_新型_llm_correct.md: 100%|██████████| 1/1 [00:00<?, ?it/s]\n",
      "Processing OLED商业化路漫漫_陶海青_llm_correct.md: 100%|██████████| 1/1 [00:00<?, ?it/s]\n",
      "Processing 新力量涌入OLED赛道__电视企业需合力向前_丁少将_llm_correct.md: 100%|██████████| 1/1 [00:00<?, ?it/s]\n",
      "Processing 先进微电子与光电子材料与器件.md0000_llm_correct.md: 100%|██████████| 1/1 [00:00<00:00, 998.88it/s]\n",
      "Processing 先进LCD和OLED显示对...试精度和灵敏度提出更高要求_Charles Cimino_llm_correct.md: 100%|██████████| 1/1 [00:00<?, ?it/s]\n",
      "Processing 中科院院士、华南理工大学曹...报纸一样印出有机发光显示屏_叶青_llm_correct.md: 100%|██████████| 1/1 [00:00<?, ?it/s]\n",
      "Processing 利用FastTFT进行快速土方量计算的方法探讨_董明照_llm_correct.md: 100%|██████████| 2/2 [00:00<00:00, 1999.19it/s]\n",
      "Processing OLED显示产业渐行渐热_llm_correct.md: 100%|██████████| 1/1 [00:00<?, ?it/s]\n",
      "Processing 某大型TFT液晶面板厂结构设计_邓宇强_llm_correct.md: 100%|██████████| 1/1 [00:00<00:00, 1000.31it/s]\n",
      "Processing TFT-LCD彩膜工艺宏观缺陷自动化修补的探究_毛继禹_llm_correct.md: 100%|██████████| 1/1 [00:00<?, ?it/s]\n",
      "Processing 平面显示技术的应用探讨_梁柱杰_llm_correct.md: 100%|██████████| 1/1 [00:00<?, ?it/s]\n",
      "Processing 日本人为降低AM-TFT-LCDs的成本而战_郭淑慈_llm_correct.md: 100%|██████████| 1/1 [00:00<00:00, 998.41it/s]\n",
      "Processing TFT-LCD模组制造生产效率与品质提升的研究_袁博_llm_correct.md: 100%|██████████| 1/1 [00:00<00:00, 1004.14it/s]\n",
      "Processing 中国推出全彩OLED__市...限__第三代显示器欲展宏图_华民_llm_correct.md: 100%|██████████| 1/1 [00:00<?, ?it/s]\n",
      "Processing 供液晶显示器件用的对称方波发生器_毛欣_llm_correct.md: 100%|██████████| 1/1 [00:00<?, ?it/s]"
     ]
    },
    {
     "name": "stdout",
     "output_type": "stream",
     "text": [
      "成功将 outputs_pipeline/article3_topics03.json 转换为 outputs_pipeline/request2_question_03.jsonl\n"
     ]
    },
    {
     "name": "stderr",
     "output_type": "stream",
     "text": [
      "\n"
     ]
    }
   ],
   "source": [
    "from utils.topic_concepts_v2 import convert_topics_to_jsonl\n",
    "topics_path = \"outputs_pipeline/article3_topics03.json\" \n",
    "question_request_path = \"outputs_pipeline/request2_question_03.jsonl\"\n",
    "convert_topics_to_jsonl(topics_path, question_request_path)"
   ]
  },
  {
   "cell_type": "code",
   "execution_count": 1,
   "id": "99ca1264",
   "metadata": {},
   "outputs": [
    {
     "name": "stdout",
     "output_type": "stream",
     "text": [
      "resource module not available on Windows\n",
      "device: cuda\n"
     ]
    },
    {
     "name": "stderr",
     "output_type": "stream",
     "text": [
      "Processing responses:  83%|████████▎ | 883/1066 [04:03<01:28,  2.07it/s]"
     ]
    },
    {
     "name": "stdout",
     "output_type": "stream",
     "text": [
      "初始 JSON 解析错误: <string>:3 Unexpected \"之\" at column 26\n",
      "尝试修复常见问题...\n",
      "最终 JSON 解析失败: <string>:3 Unexpected \"之\" at column 26\n",
      "Failed to parse questions for request-730\n"
     ]
    },
    {
     "name": "stderr",
     "output_type": "stream",
     "text": [
      "Processing responses:  85%|████████▍ | 905/1066 [04:14<01:26,  1.87it/s]"
     ]
    },
    {
     "name": "stdout",
     "output_type": "stream",
     "text": [
      "初始 JSON 解析错误: <string>:3 Unexpected \"i\" at column 87\n",
      "尝试修复常见问题...\n",
      "最终 JSON 解析失败: <string>:3 Unexpected \"i\" at column 87\n",
      "Failed to parse questions for request-621\n"
     ]
    },
    {
     "name": "stderr",
     "output_type": "stream",
     "text": [
      "Processing responses: 100%|██████████| 1066/1066 [05:42<00:00,  3.11it/s]\n"
     ]
    }
   ],
   "source": [
    "from utils.topic_concepts_v2 import process_response_and_save\n",
    "response_path = \"outputs_pipeline/response2_question_03.jsonl\"  # 响应结果文件\n",
    "topics_path = \"outputs_pipeline/article3_topics03.json\"       # 原始topics文件\n",
    "question_path = \"outputs_pipeline/article4_question_with_topic03.json\"    # 输出question文件\n",
    "chunk4_path = \"outputs_pipeline/article2_chunk4_03.json\"             # chunk4路径\n",
    "process_response_and_save(response_path, topics_path, question_path, chunk4_path)"
   ]
  },
  {
   "cell_type": "code",
   "execution_count": 1,
   "id": "f0386083",
   "metadata": {},
   "outputs": [
    {
     "name": "stdout",
     "output_type": "stream",
     "text": [
      "resource module not available on Windows\n",
      "device: cuda\n"
     ]
    },
    {
     "name": "stderr",
     "output_type": "stream",
     "text": [
      "处理文章中: 100%|██████████| 285/285 [15:31<00:00,  3.27s/article, article=OLED电视市场化暂]          "
     ]
    },
    {
     "name": "stdout",
     "output_type": "stream",
     "text": [
      "成功处理并保存文件: outputs_pipeline/article4_question_with_topic03.json\n"
     ]
    },
    {
     "name": "stderr",
     "output_type": "stream",
     "text": [
      "\n"
     ]
    }
   ],
   "source": [
    "from utils.topic_concepts_v2 import sort_noisy_chunks_v2\n",
    "question_path = \"outputs_pipeline/article4_question_with_topic03.json\" \n",
    "sort_noisy_chunks_v2(question_path)"
   ]
  },
  {
   "cell_type": "code",
   "execution_count": 1,
   "id": "e08ed5f1",
   "metadata": {},
   "outputs": [
    {
     "name": "stdout",
     "output_type": "stream",
     "text": [
      "resource module not available on Windows\n",
      "device: cuda\n",
      "转换完成，结果已保存到 outputs_pipeline/request3_answer03_1.jsonl\n"
     ]
    }
   ],
   "source": [
    "from utils.answer_generation_v2 import convert_to_jsonl\n",
    "# 输入输出路径\n",
    "questions_path = \"outputs_pipeline/article4_question_with_topic03.json\"   # 替换为实际路径\n",
    "answer_request_path = \"outputs_pipeline/request3_answer03_1.jsonl\"\n",
    "# 执行转换\n",
    "convert_to_jsonl(questions_path, answer_request_path)"
   ]
  },
  {
   "cell_type": "code",
   "execution_count": 2,
   "id": "102a3668",
   "metadata": {},
   "outputs": [
    {
     "name": "stderr",
     "output_type": "stream",
     "text": [
      "Processing responses:   1%|          | 25/2128 [00:00<00:08, 245.23it/s]"
     ]
    },
    {
     "name": "stdout",
     "output_type": "stream",
     "text": [
      "Answers saved to outputs_pipeline/article5_answers03_1.json\n",
      "Answers saved to outputs_pipeline/article5_answers03_1.json\n",
      "Answers saved to outputs_pipeline/article5_answers03_1.json\n",
      "Answers saved to outputs_pipeline/article5_answers03_1.json\n",
      "Answers saved to outputs_pipeline/article5_answers03_1.json\n",
      "Answers saved to outputs_pipeline/article5_answers03_1.json\n",
      "Answers saved to outputs_pipeline/article5_answers03_1.json\n",
      "Answers saved to outputs_pipeline/article5_answers03_1.json\n",
      "Answers saved to outputs_pipeline/article5_answers03_1.json\n",
      "Answers saved to outputs_pipeline/article5_answers03_1.json\n",
      "Answers saved to outputs_pipeline/article5_answers03_1.json\n",
      "Answers saved to outputs_pipeline/article5_answers03_1.json\n",
      "Answers saved to outputs_pipeline/article5_answers03_1.json\n",
      "Answers saved to outputs_pipeline/article5_answers03_1.json\n",
      "Answers saved to outputs_pipeline/article5_answers03_1.json\n",
      "Answers saved to outputs_pipeline/article5_answers03_1.json\n",
      "Answers saved to outputs_pipeline/article5_answers03_1.json\n",
      "Answers saved to outputs_pipeline/article5_answers03_1.json\n",
      "Answers saved to outputs_pipeline/article5_answers03_1.json\n",
      "Answers saved to outputs_pipeline/article5_answers03_1.json\n",
      "Answers saved to outputs_pipeline/article5_answers03_1.json\n",
      "Answers saved to outputs_pipeline/article5_answers03_1.json\n",
      "Answers saved to outputs_pipeline/article5_answers03_1.json\n",
      "Answers saved to outputs_pipeline/article5_answers03_1.json\n",
      "Answers saved to outputs_pipeline/article5_answers03_1.json\n",
      "Answers saved to outputs_pipeline/article5_answers03_1.json\n",
      "Answers saved to outputs_pipeline/article5_answers03_1.json\n",
      "Answers saved to outputs_pipeline/article5_answers03_1.json\n",
      "Answers saved to outputs_pipeline/article5_answers03_1.json\n",
      "Answers saved to outputs_pipeline/article5_answers03_1.json\n",
      "Answers saved to outputs_pipeline/article5_answers03_1.json\n",
      "Answers saved to outputs_pipeline/article5_answers03_1.json\n",
      "Answers saved to outputs_pipeline/article5_answers03_1.json\n",
      "Answers saved to outputs_pipeline/article5_answers03_1.json\n",
      "Answers saved to outputs_pipeline/article5_answers03_1.json\n",
      "Answers saved to outputs_pipeline/article5_answers03_1.json\n",
      "Answers saved to outputs_pipeline/article5_answers03_1.json\n"
     ]
    },
    {
     "name": "stderr",
     "output_type": "stream",
     "text": [
      "Processing responses:   2%|▏         | 50/2128 [00:00<00:17, 117.69it/s]"
     ]
    },
    {
     "name": "stdout",
     "output_type": "stream",
     "text": [
      "Answers saved to outputs_pipeline/article5_answers03_1.json\n",
      "Answers saved to outputs_pipeline/article5_answers03_1.json\n",
      "Answers saved to outputs_pipeline/article5_answers03_1.json\n",
      "Answers saved to outputs_pipeline/article5_answers03_1.json\n",
      "Answers saved to outputs_pipeline/article5_answers03_1.json\n",
      "Answers saved to outputs_pipeline/article5_answers03_1.json\n",
      "Answers saved to outputs_pipeline/article5_answers03_1.json\n",
      "Answers saved to outputs_pipeline/article5_answers03_1.json\n",
      "Answers saved to outputs_pipeline/article5_answers03_1.json\n",
      "Answers saved to outputs_pipeline/article5_answers03_1.json\n",
      "Answers saved to outputs_pipeline/article5_answers03_1.json\n",
      "Answers saved to outputs_pipeline/article5_answers03_1.json\n",
      "Answers saved to outputs_pipeline/article5_answers03_1.json\n",
      "Answers saved to outputs_pipeline/article5_answers03_1.json\n",
      "Answers saved to outputs_pipeline/article5_answers03_1.json\n",
      "Answers saved to outputs_pipeline/article5_answers03_1.json\n",
      "Answers saved to outputs_pipeline/article5_answers03_1.json\n",
      "Answers saved to outputs_pipeline/article5_answers03_1.json\n",
      "Answers saved to outputs_pipeline/article5_answers03_1.json\n",
      "Answers saved to outputs_pipeline/article5_answers03_1.json\n",
      "Answers saved to outputs_pipeline/article5_answers03_1.json\n",
      "Answers saved to outputs_pipeline/article5_answers03_1.json\n",
      "Answers saved to outputs_pipeline/article5_answers03_1.json\n",
      "Answers saved to outputs_pipeline/article5_answers03_1.json\n",
      "Answers saved to outputs_pipeline/article5_answers03_1.json\n",
      "Answers saved to outputs_pipeline/article5_answers03_1.json\n",
      "Answers saved to outputs_pipeline/article5_answers03_1.json\n"
     ]
    },
    {
     "name": "stderr",
     "output_type": "stream",
     "text": [
      "Processing responses:   3%|▎         | 66/2128 [00:00<00:24, 84.71it/s] "
     ]
    },
    {
     "name": "stdout",
     "output_type": "stream",
     "text": [
      "Answers saved to outputs_pipeline/article5_answers03_1.json\n",
      "Answers saved to outputs_pipeline/article5_answers03_1.json\n",
      "Answers saved to outputs_pipeline/article5_answers03_1.json\n",
      "Answers saved to outputs_pipeline/article5_answers03_1.json\n",
      "Answers saved to outputs_pipeline/article5_answers03_1.json\n",
      "Answers saved to outputs_pipeline/article5_answers03_1.json\n",
      "Answers saved to outputs_pipeline/article5_answers03_1.json\n",
      "Answers saved to outputs_pipeline/article5_answers03_1.json\n",
      "Answers saved to outputs_pipeline/article5_answers03_1.json\n",
      "Answers saved to outputs_pipeline/article5_answers03_1.json\n"
     ]
    },
    {
     "name": "stderr",
     "output_type": "stream",
     "text": [
      "Processing responses:   4%|▎         | 77/2128 [00:00<00:29, 69.34it/s]"
     ]
    },
    {
     "name": "stdout",
     "output_type": "stream",
     "text": [
      "Answers saved to outputs_pipeline/article5_answers03_1.json\n",
      "Answers saved to outputs_pipeline/article5_answers03_1.json\n",
      "Answers saved to outputs_pipeline/article5_answers03_1.json\n",
      "Answers saved to outputs_pipeline/article5_answers03_1.json\n",
      "Answers saved to outputs_pipeline/article5_answers03_1.json\n",
      "Answers saved to outputs_pipeline/article5_answers03_1.json\n",
      "Answers saved to outputs_pipeline/article5_answers03_1.json\n",
      "Answers saved to outputs_pipeline/article5_answers03_1.json\n",
      "Answers saved to outputs_pipeline/article5_answers03_1.json\n"
     ]
    },
    {
     "name": "stderr",
     "output_type": "stream",
     "text": [
      "Processing responses:   4%|▍         | 86/2128 [00:01<00:34, 58.75it/s]"
     ]
    },
    {
     "name": "stdout",
     "output_type": "stream",
     "text": [
      "Answers saved to outputs_pipeline/article5_answers03_1.json\n",
      "Answers saved to outputs_pipeline/article5_answers03_1.json\n",
      "Answers saved to outputs_pipeline/article5_answers03_1.json\n",
      "Answers saved to outputs_pipeline/article5_answers03_1.json\n",
      "Answers saved to outputs_pipeline/article5_answers03_1.json\n",
      "Answers saved to outputs_pipeline/article5_answers03_1.json\n",
      "Answers saved to outputs_pipeline/article5_answers03_1.json\n",
      "Answers saved to outputs_pipeline/article5_answers03_1.json\n"
     ]
    },
    {
     "name": "stderr",
     "output_type": "stream",
     "text": [
      "Processing responses:   4%|▍         | 93/2128 [00:01<00:39, 51.56it/s]"
     ]
    },
    {
     "name": "stdout",
     "output_type": "stream",
     "text": [
      "Answers saved to outputs_pipeline/article5_answers03_1.json\n",
      "Answers saved to outputs_pipeline/article5_answers03_1.json\n",
      "Answers saved to outputs_pipeline/article5_answers03_1.json\n",
      "Answers saved to outputs_pipeline/article5_answers03_1.json\n",
      "Answers saved to outputs_pipeline/article5_answers03_1.json\n",
      "Answers saved to outputs_pipeline/article5_answers03_1.json\n",
      "Answers saved to outputs_pipeline/article5_answers03_1.json\n"
     ]
    },
    {
     "name": "stderr",
     "output_type": "stream",
     "text": [
      "Processing responses:   5%|▍         | 104/2128 [00:01<00:48, 42.01it/s]"
     ]
    },
    {
     "name": "stdout",
     "output_type": "stream",
     "text": [
      "Answers saved to outputs_pipeline/article5_answers03_1.json\n",
      "Answers saved to outputs_pipeline/article5_answers03_1.json\n",
      "Answers saved to outputs_pipeline/article5_answers03_1.json\n",
      "Answers saved to outputs_pipeline/article5_answers03_1.json\n",
      "Answers saved to outputs_pipeline/article5_answers03_1.json\n",
      "Answers saved to outputs_pipeline/article5_answers03_1.json\n",
      "Answers saved to outputs_pipeline/article5_answers03_1.json\n"
     ]
    },
    {
     "name": "stderr",
     "output_type": "stream",
     "text": [
      "Processing responses:   5%|▌         | 109/2128 [00:01<00:52, 38.72it/s]"
     ]
    },
    {
     "name": "stdout",
     "output_type": "stream",
     "text": [
      "Answers saved to outputs_pipeline/article5_answers03_1.json\n",
      "Answers saved to outputs_pipeline/article5_answers03_1.json\n",
      "Answers saved to outputs_pipeline/article5_answers03_1.json\n",
      "Answers saved to outputs_pipeline/article5_answers03_1.json\n",
      "Answers saved to outputs_pipeline/article5_answers03_1.json\n",
      "Answers saved to outputs_pipeline/article5_answers03_1.json\n"
     ]
    },
    {
     "name": "stderr",
     "output_type": "stream",
     "text": [
      "Processing responses:   5%|▌         | 113/2128 [00:02<00:56, 35.88it/s]"
     ]
    },
    {
     "name": "stdout",
     "output_type": "stream",
     "text": [
      "Answers saved to outputs_pipeline/article5_answers03_1.json\n",
      "Answers saved to outputs_pipeline/article5_answers03_1.json\n",
      "Answers saved to outputs_pipeline/article5_answers03_1.json\n",
      "Answers saved to outputs_pipeline/article5_answers03_1.json\n",
      "Answers saved to outputs_pipeline/article5_answers03_1.json\n",
      "Answers saved to outputs_pipeline/article5_answers03_1.json\n"
     ]
    },
    {
     "name": "stderr",
     "output_type": "stream",
     "text": [
      "Processing responses:   6%|▌         | 121/2128 [00:02<01:03, 31.52it/s]"
     ]
    },
    {
     "name": "stdout",
     "output_type": "stream",
     "text": [
      "Answers saved to outputs_pipeline/article5_answers03_1.json\n",
      "Answers saved to outputs_pipeline/article5_answers03_1.json\n",
      "Answers saved to outputs_pipeline/article5_answers03_1.json\n",
      "Answers saved to outputs_pipeline/article5_answers03_1.json\n",
      "Answers saved to outputs_pipeline/article5_answers03_1.json\n",
      "Answers saved to outputs_pipeline/article5_answers03_1.json\n"
     ]
    },
    {
     "name": "stderr",
     "output_type": "stream",
     "text": [
      "Processing responses:   6%|▌         | 128/2128 [00:02<01:09, 28.61it/s]"
     ]
    },
    {
     "name": "stdout",
     "output_type": "stream",
     "text": [
      "Answers saved to outputs_pipeline/article5_answers03_1.json\n",
      "Answers saved to outputs_pipeline/article5_answers03_1.json\n",
      "Answers saved to outputs_pipeline/article5_answers03_1.json\n",
      "Answers saved to outputs_pipeline/article5_answers03_1.json\n",
      "Answers saved to outputs_pipeline/article5_answers03_1.json\n"
     ]
    },
    {
     "name": "stderr",
     "output_type": "stream",
     "text": [
      "Processing responses:   6%|▌         | 131/2128 [00:02<01:13, 27.27it/s]"
     ]
    },
    {
     "name": "stdout",
     "output_type": "stream",
     "text": [
      "Answers saved to outputs_pipeline/article5_answers03_1.json\n",
      "Answers saved to outputs_pipeline/article5_answers03_1.json\n",
      "Answers saved to outputs_pipeline/article5_answers03_1.json\n",
      "Answers saved to outputs_pipeline/article5_answers03_1.json\n",
      "Answers saved to outputs_pipeline/article5_answers03_1.json\n"
     ]
    },
    {
     "name": "stderr",
     "output_type": "stream",
     "text": [
      "Processing responses:   6%|▋         | 134/2128 [00:02<01:16, 25.90it/s]"
     ]
    },
    {
     "name": "stdout",
     "output_type": "stream",
     "text": [
      "Answers saved to outputs_pipeline/article5_answers03_1.json\n",
      "Answers saved to outputs_pipeline/article5_answers03_1.json\n",
      "Answers saved to outputs_pipeline/article5_answers03_1.json\n",
      "Answers saved to outputs_pipeline/article5_answers03_1.json\n"
     ]
    },
    {
     "name": "stderr",
     "output_type": "stream",
     "text": [
      "Processing responses:   7%|▋         | 140/2128 [00:03<01:30, 22.05it/s]"
     ]
    },
    {
     "name": "stdout",
     "output_type": "stream",
     "text": [
      "Answers saved to outputs_pipeline/article5_answers03_1.json\n",
      "Answers saved to outputs_pipeline/article5_answers03_1.json\n",
      "Answers saved to outputs_pipeline/article5_answers03_1.json\n",
      "Answers saved to outputs_pipeline/article5_answers03_1.json\n",
      "Answers saved to outputs_pipeline/article5_answers03_1.json\n"
     ]
    },
    {
     "name": "stderr",
     "output_type": "stream",
     "text": [
      "Processing responses:   7%|▋         | 146/2128 [00:03<01:33, 21.30it/s]"
     ]
    },
    {
     "name": "stdout",
     "output_type": "stream",
     "text": [
      "Answers saved to outputs_pipeline/article5_answers03_1.json\n",
      "Answers saved to outputs_pipeline/article5_answers03_1.json\n",
      "Answers saved to outputs_pipeline/article5_answers03_1.json\n",
      "Answers saved to outputs_pipeline/article5_answers03_1.json\n",
      "Answers saved to outputs_pipeline/article5_answers03_1.json\n"
     ]
    },
    {
     "name": "stderr",
     "output_type": "stream",
     "text": [
      "Processing responses:   7%|▋         | 149/2128 [00:03<01:32, 21.34it/s]"
     ]
    },
    {
     "name": "stdout",
     "output_type": "stream",
     "text": [
      "Answers saved to outputs_pipeline/article5_answers03_1.json\n",
      "Answers saved to outputs_pipeline/article5_answers03_1.json\n",
      "Answers saved to outputs_pipeline/article5_answers03_1.json\n",
      "Answers saved to outputs_pipeline/article5_answers03_1.json\n",
      "Answers saved to outputs_pipeline/article5_answers03_1.json\n"
     ]
    },
    {
     "name": "stderr",
     "output_type": "stream",
     "text": [
      "Processing responses:   7%|▋         | 155/2128 [00:03<01:32, 21.28it/s]"
     ]
    },
    {
     "name": "stdout",
     "output_type": "stream",
     "text": [
      "Answers saved to outputs_pipeline/article5_answers03_1.json\n",
      "Answers saved to outputs_pipeline/article5_answers03_1.json\n",
      "Answers saved to outputs_pipeline/article5_answers03_1.json\n",
      "Answers saved to outputs_pipeline/article5_answers03_1.json\n",
      "Answers saved to outputs_pipeline/article5_answers03_1.json\n"
     ]
    },
    {
     "name": "stderr",
     "output_type": "stream",
     "text": [
      "Processing responses:   8%|▊         | 161/2128 [00:04<01:35, 20.66it/s]"
     ]
    },
    {
     "name": "stdout",
     "output_type": "stream",
     "text": [
      "Answers saved to outputs_pipeline/article5_answers03_1.json\n",
      "Answers saved to outputs_pipeline/article5_answers03_1.json\n",
      "Answers saved to outputs_pipeline/article5_answers03_1.json\n",
      "Answers saved to outputs_pipeline/article5_answers03_1.json\n",
      "Answers saved to outputs_pipeline/article5_answers03_1.json\n"
     ]
    },
    {
     "name": "stderr",
     "output_type": "stream",
     "text": [
      "Processing responses:   8%|▊         | 166/2128 [00:04<01:39, 19.68it/s]"
     ]
    },
    {
     "name": "stdout",
     "output_type": "stream",
     "text": [
      "Answers saved to outputs_pipeline/article5_answers03_1.json\n",
      "Answers saved to outputs_pipeline/article5_answers03_1.json\n",
      "Answers saved to outputs_pipeline/article5_answers03_1.json\n",
      "Answers saved to outputs_pipeline/article5_answers03_1.json\n",
      "Answers saved to outputs_pipeline/article5_answers03_1.json\n"
     ]
    },
    {
     "name": "stderr",
     "output_type": "stream",
     "text": [
      "Processing responses:   8%|▊         | 170/2128 [00:04<01:43, 18.94it/s]"
     ]
    },
    {
     "name": "stdout",
     "output_type": "stream",
     "text": [
      "Answers saved to outputs_pipeline/article5_answers03_1.json\n",
      "Answers saved to outputs_pipeline/article5_answers03_1.json\n",
      "Answers saved to outputs_pipeline/article5_answers03_1.json\n",
      "Answers saved to outputs_pipeline/article5_answers03_1.json\n"
     ]
    },
    {
     "name": "stderr",
     "output_type": "stream",
     "text": [
      "Processing responses:   8%|▊         | 174/2128 [00:04<01:45, 18.44it/s]"
     ]
    },
    {
     "name": "stdout",
     "output_type": "stream",
     "text": [
      "Answers saved to outputs_pipeline/article5_answers03_1.json\n",
      "Answers saved to outputs_pipeline/article5_answers03_1.json\n",
      "Answers saved to outputs_pipeline/article5_answers03_1.json\n",
      "Answers saved to outputs_pipeline/article5_answers03_1.json\n"
     ]
    },
    {
     "name": "stderr",
     "output_type": "stream",
     "text": [
      "Processing responses:   8%|▊         | 178/2128 [00:05<01:48, 18.02it/s]"
     ]
    },
    {
     "name": "stdout",
     "output_type": "stream",
     "text": [
      "Answers saved to outputs_pipeline/article5_answers03_1.json\n",
      "Answers saved to outputs_pipeline/article5_answers03_1.json\n",
      "Answers saved to outputs_pipeline/article5_answers03_1.json\n",
      "Answers saved to outputs_pipeline/article5_answers03_1.json\n"
     ]
    },
    {
     "name": "stderr",
     "output_type": "stream",
     "text": [
      "Processing responses:   9%|▊         | 182/2128 [00:05<01:56, 16.74it/s]"
     ]
    },
    {
     "name": "stdout",
     "output_type": "stream",
     "text": [
      "Answers saved to outputs_pipeline/article5_answers03_1.json\n",
      "Answers saved to outputs_pipeline/article5_answers03_1.json\n",
      "Answers saved to outputs_pipeline/article5_answers03_1.json\n",
      "Answers saved to outputs_pipeline/article5_answers03_1.json\n"
     ]
    },
    {
     "name": "stderr",
     "output_type": "stream",
     "text": [
      "Processing responses:   9%|▊         | 186/2128 [00:05<01:54, 16.95it/s]"
     ]
    },
    {
     "name": "stdout",
     "output_type": "stream",
     "text": [
      "Answers saved to outputs_pipeline/article5_answers03_1.json\n",
      "Answers saved to outputs_pipeline/article5_answers03_1.json\n",
      "Answers saved to outputs_pipeline/article5_answers03_1.json\n",
      "Answers saved to outputs_pipeline/article5_answers03_1.json\n"
     ]
    },
    {
     "name": "stderr",
     "output_type": "stream",
     "text": [
      "Processing responses:   9%|▉         | 190/2128 [00:05<01:56, 16.66it/s]"
     ]
    },
    {
     "name": "stdout",
     "output_type": "stream",
     "text": [
      "Answers saved to outputs_pipeline/article5_answers03_1.json\n",
      "Answers saved to outputs_pipeline/article5_answers03_1.json\n",
      "Answers saved to outputs_pipeline/article5_answers03_1.json\n",
      "Answers saved to outputs_pipeline/article5_answers03_1.json\n"
     ]
    },
    {
     "name": "stderr",
     "output_type": "stream",
     "text": [
      "Processing responses:   9%|▉         | 194/2128 [00:06<01:57, 16.40it/s]"
     ]
    },
    {
     "name": "stdout",
     "output_type": "stream",
     "text": [
      "Answers saved to outputs_pipeline/article5_answers03_1.json\n",
      "Answers saved to outputs_pipeline/article5_answers03_1.json\n",
      "Answers saved to outputs_pipeline/article5_answers03_1.json\n",
      "Answers saved to outputs_pipeline/article5_answers03_1.json\n"
     ]
    },
    {
     "name": "stderr",
     "output_type": "stream",
     "text": [
      "Processing responses:   9%|▉         | 198/2128 [00:06<02:00, 16.02it/s]"
     ]
    },
    {
     "name": "stdout",
     "output_type": "stream",
     "text": [
      "Answers saved to outputs_pipeline/article5_answers03_1.json\n",
      "Answers saved to outputs_pipeline/article5_answers03_1.json\n",
      "Answers saved to outputs_pipeline/article5_answers03_1.json\n",
      "Answers saved to outputs_pipeline/article5_answers03_1.json\n"
     ]
    },
    {
     "name": "stderr",
     "output_type": "stream",
     "text": [
      "Processing responses:   9%|▉         | 202/2128 [00:06<02:01, 15.90it/s]"
     ]
    },
    {
     "name": "stdout",
     "output_type": "stream",
     "text": [
      "Answers saved to outputs_pipeline/article5_answers03_1.json\n",
      "Answers saved to outputs_pipeline/article5_answers03_1.json\n",
      "Answers saved to outputs_pipeline/article5_answers03_1.json\n",
      "Answers saved to outputs_pipeline/article5_answers03_1.json\n"
     ]
    },
    {
     "name": "stderr",
     "output_type": "stream",
     "text": [
      "Processing responses:  10%|▉         | 206/2128 [00:06<02:02, 15.63it/s]"
     ]
    },
    {
     "name": "stdout",
     "output_type": "stream",
     "text": [
      "Answers saved to outputs_pipeline/article5_answers03_1.json\n",
      "Answers saved to outputs_pipeline/article5_answers03_1.json\n",
      "Answers saved to outputs_pipeline/article5_answers03_1.json\n",
      "Answers saved to outputs_pipeline/article5_answers03_1.json\n"
     ]
    },
    {
     "name": "stderr",
     "output_type": "stream",
     "text": [
      "Processing responses:  10%|▉         | 210/2128 [00:07<02:08, 14.93it/s]"
     ]
    },
    {
     "name": "stdout",
     "output_type": "stream",
     "text": [
      "Answers saved to outputs_pipeline/article5_answers03_1.json\n",
      "Answers saved to outputs_pipeline/article5_answers03_1.json\n",
      "Answers saved to outputs_pipeline/article5_answers03_1.json\n",
      "Answers saved to outputs_pipeline/article5_answers03_1.json\n"
     ]
    },
    {
     "name": "stderr",
     "output_type": "stream",
     "text": [
      "Processing responses:  10%|█         | 214/2128 [00:07<02:09, 14.75it/s]"
     ]
    },
    {
     "name": "stdout",
     "output_type": "stream",
     "text": [
      "Answers saved to outputs_pipeline/article5_answers03_1.json\n",
      "Answers saved to outputs_pipeline/article5_answers03_1.json\n",
      "Answers saved to outputs_pipeline/article5_answers03_1.json\n",
      "Answers saved to outputs_pipeline/article5_answers03_1.json\n"
     ]
    },
    {
     "name": "stderr",
     "output_type": "stream",
     "text": [
      "Processing responses:  10%|█         | 218/2128 [00:07<02:15, 14.13it/s]"
     ]
    },
    {
     "name": "stdout",
     "output_type": "stream",
     "text": [
      "Answers saved to outputs_pipeline/article5_answers03_1.json\n",
      "Answers saved to outputs_pipeline/article5_answers03_1.json\n",
      "Answers saved to outputs_pipeline/article5_answers03_1.json\n",
      "Answers saved to outputs_pipeline/article5_answers03_1.json\n"
     ]
    },
    {
     "name": "stderr",
     "output_type": "stream",
     "text": [
      "Processing responses:  10%|█         | 222/2128 [00:08<02:15, 14.10it/s]"
     ]
    },
    {
     "name": "stdout",
     "output_type": "stream",
     "text": [
      "Answers saved to outputs_pipeline/article5_answers03_1.json\n",
      "Answers saved to outputs_pipeline/article5_answers03_1.json\n",
      "Answers saved to outputs_pipeline/article5_answers03_1.json\n"
     ]
    },
    {
     "name": "stderr",
     "output_type": "stream",
     "text": [
      "Processing responses:  11%|█         | 224/2128 [00:08<02:16, 13.97it/s]"
     ]
    },
    {
     "name": "stdout",
     "output_type": "stream",
     "text": [
      "Answers saved to outputs_pipeline/article5_answers03_1.json\n",
      "Answers saved to outputs_pipeline/article5_answers03_1.json\n",
      "Answers saved to outputs_pipeline/article5_answers03_1.json\n"
     ]
    },
    {
     "name": "stderr",
     "output_type": "stream",
     "text": [
      "Processing responses:  11%|█         | 228/2128 [00:08<02:24, 13.12it/s]"
     ]
    },
    {
     "name": "stdout",
     "output_type": "stream",
     "text": [
      "Answers saved to outputs_pipeline/article5_answers03_1.json\n",
      "Answers saved to outputs_pipeline/article5_answers03_1.json\n",
      "Answers saved to outputs_pipeline/article5_answers03_1.json\n"
     ]
    },
    {
     "name": "stderr",
     "output_type": "stream",
     "text": [
      "Processing responses:  11%|█         | 230/2128 [00:08<02:24, 13.10it/s]"
     ]
    },
    {
     "name": "stdout",
     "output_type": "stream",
     "text": [
      "Answers saved to outputs_pipeline/article5_answers03_1.json\n",
      "Answers saved to outputs_pipeline/article5_answers03_1.json\n",
      "Answers saved to outputs_pipeline/article5_answers03_1.json\n"
     ]
    },
    {
     "name": "stderr",
     "output_type": "stream",
     "text": [
      "Processing responses:  11%|█         | 234/2128 [00:08<02:25, 12.98it/s]"
     ]
    },
    {
     "name": "stdout",
     "output_type": "stream",
     "text": [
      "Answers saved to outputs_pipeline/article5_answers03_1.json\n",
      "Answers saved to outputs_pipeline/article5_answers03_1.json\n",
      "Answers saved to outputs_pipeline/article5_answers03_1.json\n"
     ]
    },
    {
     "name": "stderr",
     "output_type": "stream",
     "text": [
      "Processing responses:  11%|█         | 236/2128 [00:09<02:25, 12.96it/s]"
     ]
    },
    {
     "name": "stdout",
     "output_type": "stream",
     "text": [
      "Answers saved to outputs_pipeline/article5_answers03_1.json\n",
      "Answers saved to outputs_pipeline/article5_answers03_1.json\n",
      "Answers saved to outputs_pipeline/article5_answers03_1.json\n"
     ]
    },
    {
     "name": "stderr",
     "output_type": "stream",
     "text": [
      "Processing responses:  11%|█▏        | 240/2128 [00:09<02:26, 12.90it/s]"
     ]
    },
    {
     "name": "stdout",
     "output_type": "stream",
     "text": [
      "Answers saved to outputs_pipeline/article5_answers03_1.json\n",
      "Answers saved to outputs_pipeline/article5_answers03_1.json\n",
      "Answers saved to outputs_pipeline/article5_answers03_1.json\n"
     ]
    },
    {
     "name": "stderr",
     "output_type": "stream",
     "text": [
      "Processing responses:  11%|█▏        | 242/2128 [00:09<02:25, 12.93it/s]"
     ]
    },
    {
     "name": "stdout",
     "output_type": "stream",
     "text": [
      "Answers saved to outputs_pipeline/article5_answers03_1.json\n",
      "Answers saved to outputs_pipeline/article5_answers03_1.json\n",
      "Answers saved to outputs_pipeline/article5_answers03_1.json\n"
     ]
    },
    {
     "name": "stderr",
     "output_type": "stream",
     "text": [
      "Processing responses:  12%|█▏        | 246/2128 [00:09<02:32, 12.36it/s]"
     ]
    },
    {
     "name": "stdout",
     "output_type": "stream",
     "text": [
      "Answers saved to outputs_pipeline/article5_answers03_1.json\n",
      "Answers saved to outputs_pipeline/article5_answers03_1.json\n",
      "Answers saved to outputs_pipeline/article5_answers03_1.json\n"
     ]
    },
    {
     "name": "stderr",
     "output_type": "stream",
     "text": [
      "Processing responses:  12%|█▏        | 248/2128 [00:10<02:32, 12.30it/s]"
     ]
    },
    {
     "name": "stdout",
     "output_type": "stream",
     "text": [
      "Answers saved to outputs_pipeline/article5_answers03_1.json\n",
      "Answers saved to outputs_pipeline/article5_answers03_1.json\n",
      "Answers saved to outputs_pipeline/article5_answers03_1.json\n"
     ]
    },
    {
     "name": "stderr",
     "output_type": "stream",
     "text": [
      "Processing responses:  12%|█▏        | 252/2128 [00:10<02:33, 12.21it/s]"
     ]
    },
    {
     "name": "stdout",
     "output_type": "stream",
     "text": [
      "Answers saved to outputs_pipeline/article5_answers03_1.json\n",
      "Answers saved to outputs_pipeline/article5_answers03_1.json\n",
      "Answers saved to outputs_pipeline/article5_answers03_1.json\n"
     ]
    },
    {
     "name": "stderr",
     "output_type": "stream",
     "text": [
      "Processing responses:  12%|█▏        | 254/2128 [00:10<02:55, 10.69it/s]"
     ]
    },
    {
     "name": "stdout",
     "output_type": "stream",
     "text": [
      "Answers saved to outputs_pipeline/article5_answers03_1.json\n",
      "Answers saved to outputs_pipeline/article5_answers03_1.json\n"
     ]
    },
    {
     "name": "stderr",
     "output_type": "stream",
     "text": [
      "Processing responses:  12%|█▏        | 256/2128 [00:10<02:50, 10.99it/s]"
     ]
    },
    {
     "name": "stdout",
     "output_type": "stream",
     "text": [
      "Answers saved to outputs_pipeline/article5_answers03_1.json\n",
      "Answers saved to outputs_pipeline/article5_answers03_1.json\n",
      "Answers saved to outputs_pipeline/article5_answers03_1.json\n"
     ]
    },
    {
     "name": "stderr",
     "output_type": "stream",
     "text": [
      "Processing responses:  12%|█▏        | 258/2128 [00:10<02:47, 11.15it/s]"
     ]
    },
    {
     "name": "stdout",
     "output_type": "stream",
     "text": [
      "Answers saved to outputs_pipeline/article5_answers03_1.json\n",
      "Answers saved to outputs_pipeline/article5_answers03_1.json\n"
     ]
    },
    {
     "name": "stderr",
     "output_type": "stream",
     "text": [
      "Processing responses:  12%|█▏        | 262/2128 [00:11<02:50, 10.93it/s]"
     ]
    },
    {
     "name": "stdout",
     "output_type": "stream",
     "text": [
      "Answers saved to outputs_pipeline/article5_answers03_1.json\n",
      "Answers saved to outputs_pipeline/article5_answers03_1.json\n",
      "Answers saved to outputs_pipeline/article5_answers03_1.json\n"
     ]
    },
    {
     "name": "stderr",
     "output_type": "stream",
     "text": [
      "Processing responses:  12%|█▏        | 264/2128 [00:11<02:46, 11.18it/s]"
     ]
    },
    {
     "name": "stdout",
     "output_type": "stream",
     "text": [
      "Answers saved to outputs_pipeline/article5_answers03_1.json\n",
      "Answers saved to outputs_pipeline/article5_answers03_1.json\n",
      "Answers saved to outputs_pipeline/article5_answers03_1.json\n"
     ]
    },
    {
     "name": "stderr",
     "output_type": "stream",
     "text": [
      "Processing responses:  13%|█▎        | 268/2128 [00:11<02:43, 11.40it/s]"
     ]
    },
    {
     "name": "stdout",
     "output_type": "stream",
     "text": [
      "Answers saved to outputs_pipeline/article5_answers03_1.json\n",
      "Answers saved to outputs_pipeline/article5_answers03_1.json\n",
      "Answers saved to outputs_pipeline/article5_answers03_1.json\n"
     ]
    },
    {
     "name": "stderr",
     "output_type": "stream",
     "text": [
      "Processing responses:  13%|█▎        | 270/2128 [00:12<02:44, 11.29it/s]"
     ]
    },
    {
     "name": "stdout",
     "output_type": "stream",
     "text": [
      "Answers saved to outputs_pipeline/article5_answers03_1.json\n",
      "Answers saved to outputs_pipeline/article5_answers03_1.json\n",
      "Answers saved to outputs_pipeline/article5_answers03_1.json\n"
     ]
    },
    {
     "name": "stderr",
     "output_type": "stream",
     "text": [
      "Processing responses:  13%|█▎        | 272/2128 [00:12<02:51, 10.81it/s]"
     ]
    },
    {
     "name": "stdout",
     "output_type": "stream",
     "text": [
      "Answers saved to outputs_pipeline/article5_answers03_1.json\n",
      "Answers saved to outputs_pipeline/article5_answers03_1.json\n",
      "Answers saved to outputs_pipeline/article5_answers03_1.json\n"
     ]
    },
    {
     "name": "stderr",
     "output_type": "stream",
     "text": [
      "Processing responses:  13%|█▎        | 276/2128 [00:12<02:50, 10.86it/s]"
     ]
    },
    {
     "name": "stdout",
     "output_type": "stream",
     "text": [
      "Answers saved to outputs_pipeline/article5_answers03_1.json\n",
      "Answers saved to outputs_pipeline/article5_answers03_1.json\n",
      "Answers saved to outputs_pipeline/article5_answers03_1.json\n"
     ]
    },
    {
     "name": "stderr",
     "output_type": "stream",
     "text": [
      "Processing responses:  13%|█▎        | 280/2128 [00:12<02:48, 10.97it/s]"
     ]
    },
    {
     "name": "stdout",
     "output_type": "stream",
     "text": [
      "Answers saved to outputs_pipeline/article5_answers03_1.json\n",
      "Answers saved to outputs_pipeline/article5_answers03_1.json\n",
      "Answers saved to outputs_pipeline/article5_answers03_1.json\n"
     ]
    },
    {
     "name": "stderr",
     "output_type": "stream",
     "text": [
      "Processing responses:  13%|█▎        | 282/2128 [00:13<02:49, 10.89it/s]"
     ]
    },
    {
     "name": "stdout",
     "output_type": "stream",
     "text": [
      "Answers saved to outputs_pipeline/article5_answers03_1.json\n",
      "Answers saved to outputs_pipeline/article5_answers03_1.json\n",
      "Answers saved to outputs_pipeline/article5_answers03_1.json\n"
     ]
    },
    {
     "name": "stderr",
     "output_type": "stream",
     "text": [
      "Processing responses:  13%|█▎        | 284/2128 [00:13<02:49, 10.85it/s]"
     ]
    },
    {
     "name": "stdout",
     "output_type": "stream",
     "text": [
      "Answers saved to outputs_pipeline/article5_answers03_1.json\n",
      "Answers saved to outputs_pipeline/article5_answers03_1.json\n",
      "Answers saved to outputs_pipeline/article5_answers03_1.json\n"
     ]
    },
    {
     "name": "stderr",
     "output_type": "stream",
     "text": [
      "Processing responses:  14%|█▎        | 288/2128 [00:13<02:50, 10.81it/s]"
     ]
    },
    {
     "name": "stdout",
     "output_type": "stream",
     "text": [
      "Answers saved to outputs_pipeline/article5_answers03_1.json\n",
      "Answers saved to outputs_pipeline/article5_answers03_1.json\n",
      "Answers saved to outputs_pipeline/article5_answers03_1.json\n"
     ]
    },
    {
     "name": "stderr",
     "output_type": "stream",
     "text": [
      "Processing responses:  14%|█▎        | 290/2128 [00:13<02:51, 10.71it/s]"
     ]
    },
    {
     "name": "stdout",
     "output_type": "stream",
     "text": [
      "Answers saved to outputs_pipeline/article5_answers03_1.json\n",
      "Answers saved to outputs_pipeline/article5_answers03_1.json\n",
      "Answers saved to outputs_pipeline/article5_answers03_1.json\n"
     ]
    },
    {
     "name": "stderr",
     "output_type": "stream",
     "text": [
      "Processing responses:  14%|█▍        | 294/2128 [00:14<02:58, 10.26it/s]"
     ]
    },
    {
     "name": "stdout",
     "output_type": "stream",
     "text": [
      "Answers saved to outputs_pipeline/article5_answers03_1.json\n",
      "Answers saved to outputs_pipeline/article5_answers03_1.json\n",
      "Answers saved to outputs_pipeline/article5_answers03_1.json\n"
     ]
    },
    {
     "name": "stderr",
     "output_type": "stream",
     "text": [
      "Processing responses:  14%|█▍        | 296/2128 [00:14<02:58, 10.24it/s]"
     ]
    },
    {
     "name": "stdout",
     "output_type": "stream",
     "text": [
      "Answers saved to outputs_pipeline/article5_answers03_1.json\n",
      "Answers saved to outputs_pipeline/article5_answers03_1.json\n",
      "Answers saved to outputs_pipeline/article5_answers03_1.json\n"
     ]
    },
    {
     "name": "stderr",
     "output_type": "stream",
     "text": [
      "Processing responses:  14%|█▍        | 300/2128 [00:14<02:57, 10.32it/s]"
     ]
    },
    {
     "name": "stdout",
     "output_type": "stream",
     "text": [
      "Answers saved to outputs_pipeline/article5_answers03_1.json\n",
      "Answers saved to outputs_pipeline/article5_answers03_1.json\n",
      "Answers saved to outputs_pipeline/article5_answers03_1.json\n"
     ]
    },
    {
     "name": "stderr",
     "output_type": "stream",
     "text": [
      "Processing responses:  14%|█▍        | 302/2128 [00:15<02:57, 10.28it/s]"
     ]
    },
    {
     "name": "stdout",
     "output_type": "stream",
     "text": [
      "Answers saved to outputs_pipeline/article5_answers03_1.json\n",
      "Answers saved to outputs_pipeline/article5_answers03_1.json\n",
      "Answers saved to outputs_pipeline/article5_answers03_1.json\n"
     ]
    },
    {
     "name": "stderr",
     "output_type": "stream",
     "text": [
      "Processing responses:  14%|█▍        | 306/2128 [00:15<03:01, 10.01it/s]"
     ]
    },
    {
     "name": "stdout",
     "output_type": "stream",
     "text": [
      "Answers saved to outputs_pipeline/article5_answers03_1.json\n",
      "Answers saved to outputs_pipeline/article5_answers03_1.json\n"
     ]
    },
    {
     "name": "stderr",
     "output_type": "stream",
     "text": [
      "Processing responses:  14%|█▍        | 308/2128 [00:15<03:07,  9.69it/s]"
     ]
    },
    {
     "name": "stdout",
     "output_type": "stream",
     "text": [
      "Answers saved to outputs_pipeline/article5_answers03_1.json\n",
      "Answers saved to outputs_pipeline/article5_answers03_1.json\n"
     ]
    },
    {
     "name": "stderr",
     "output_type": "stream",
     "text": [
      "Processing responses:  15%|█▍        | 310/2128 [00:15<03:13,  9.38it/s]"
     ]
    },
    {
     "name": "stdout",
     "output_type": "stream",
     "text": [
      "Answers saved to outputs_pipeline/article5_answers03_1.json\n",
      "Answers saved to outputs_pipeline/article5_answers03_1.json\n"
     ]
    },
    {
     "name": "stderr",
     "output_type": "stream",
     "text": [
      "Processing responses:  15%|█▍        | 312/2128 [00:16<03:22,  8.96it/s]"
     ]
    },
    {
     "name": "stdout",
     "output_type": "stream",
     "text": [
      "Answers saved to outputs_pipeline/article5_answers03_1.json\n",
      "Answers saved to outputs_pipeline/article5_answers03_1.json\n"
     ]
    },
    {
     "name": "stderr",
     "output_type": "stream",
     "text": [
      "Processing responses:  15%|█▍        | 314/2128 [00:16<03:27,  8.75it/s]"
     ]
    },
    {
     "name": "stdout",
     "output_type": "stream",
     "text": [
      "Answers saved to outputs_pipeline/article5_answers03_1.json\n",
      "Answers saved to outputs_pipeline/article5_answers03_1.json\n"
     ]
    },
    {
     "name": "stderr",
     "output_type": "stream",
     "text": [
      "Processing responses:  15%|█▍        | 316/2128 [00:16<03:39,  8.25it/s]"
     ]
    },
    {
     "name": "stdout",
     "output_type": "stream",
     "text": [
      "Answers saved to outputs_pipeline/article5_answers03_1.json\n",
      "Answers saved to outputs_pipeline/article5_answers03_1.json\n"
     ]
    },
    {
     "name": "stderr",
     "output_type": "stream",
     "text": [
      "Processing responses:  15%|█▍        | 318/2128 [00:16<03:34,  8.44it/s]"
     ]
    },
    {
     "name": "stdout",
     "output_type": "stream",
     "text": [
      "Answers saved to outputs_pipeline/article5_answers03_1.json\n",
      "Answers saved to outputs_pipeline/article5_answers03_1.json\n"
     ]
    },
    {
     "name": "stderr",
     "output_type": "stream",
     "text": [
      "Processing responses:  15%|█▌        | 320/2128 [00:17<03:36,  8.35it/s]"
     ]
    },
    {
     "name": "stdout",
     "output_type": "stream",
     "text": [
      "Answers saved to outputs_pipeline/article5_answers03_1.json\n",
      "Answers saved to outputs_pipeline/article5_answers03_1.json\n"
     ]
    },
    {
     "name": "stderr",
     "output_type": "stream",
     "text": [
      "Processing responses:  15%|█▌        | 322/2128 [00:17<03:39,  8.22it/s]"
     ]
    },
    {
     "name": "stdout",
     "output_type": "stream",
     "text": [
      "Answers saved to outputs_pipeline/article5_answers03_1.json\n",
      "Answers saved to outputs_pipeline/article5_answers03_1.json\n"
     ]
    },
    {
     "name": "stderr",
     "output_type": "stream",
     "text": [
      "Processing responses:  15%|█▌        | 324/2128 [00:17<03:37,  8.29it/s]"
     ]
    },
    {
     "name": "stdout",
     "output_type": "stream",
     "text": [
      "Answers saved to outputs_pipeline/article5_answers03_1.json\n",
      "Answers saved to outputs_pipeline/article5_answers03_1.json\n"
     ]
    },
    {
     "name": "stderr",
     "output_type": "stream",
     "text": [
      "Processing responses:  15%|█▌        | 326/2128 [00:17<04:01,  7.46it/s]"
     ]
    },
    {
     "name": "stdout",
     "output_type": "stream",
     "text": [
      "Answers saved to outputs_pipeline/article5_answers03_1.json\n",
      "Answers saved to outputs_pipeline/article5_answers03_1.json\n"
     ]
    },
    {
     "name": "stderr",
     "output_type": "stream",
     "text": [
      "Processing responses:  15%|█▌        | 328/2128 [00:18<03:49,  7.83it/s]"
     ]
    },
    {
     "name": "stdout",
     "output_type": "stream",
     "text": [
      "Answers saved to outputs_pipeline/article5_answers03_1.json\n",
      "Answers saved to outputs_pipeline/article5_answers03_1.json\n"
     ]
    },
    {
     "name": "stderr",
     "output_type": "stream",
     "text": [
      "Processing responses:  16%|█▌        | 330/2128 [00:18<03:44,  8.02it/s]"
     ]
    },
    {
     "name": "stdout",
     "output_type": "stream",
     "text": [
      "Answers saved to outputs_pipeline/article5_answers03_1.json\n",
      "Answers saved to outputs_pipeline/article5_answers03_1.json\n"
     ]
    },
    {
     "name": "stderr",
     "output_type": "stream",
     "text": [
      "Processing responses:  16%|█▌        | 332/2128 [00:18<03:41,  8.09it/s]"
     ]
    },
    {
     "name": "stdout",
     "output_type": "stream",
     "text": [
      "Answers saved to outputs_pipeline/article5_answers03_1.json\n",
      "Answers saved to outputs_pipeline/article5_answers03_1.json\n"
     ]
    },
    {
     "name": "stderr",
     "output_type": "stream",
     "text": [
      "Processing responses:  16%|█▌        | 334/2128 [00:18<03:56,  7.60it/s]"
     ]
    },
    {
     "name": "stdout",
     "output_type": "stream",
     "text": [
      "Answers saved to outputs_pipeline/article5_answers03_1.json\n",
      "Answers saved to outputs_pipeline/article5_answers03_1.json\n"
     ]
    },
    {
     "name": "stderr",
     "output_type": "stream",
     "text": [
      "Processing responses:  16%|█▌        | 336/2128 [00:19<03:53,  7.66it/s]"
     ]
    },
    {
     "name": "stdout",
     "output_type": "stream",
     "text": [
      "Answers saved to outputs_pipeline/article5_answers03_1.json\n",
      "Answers saved to outputs_pipeline/article5_answers03_1.json\n"
     ]
    },
    {
     "name": "stderr",
     "output_type": "stream",
     "text": [
      "Processing responses:  16%|█▌        | 338/2128 [00:19<04:18,  6.93it/s]"
     ]
    },
    {
     "name": "stdout",
     "output_type": "stream",
     "text": [
      "Answers saved to outputs_pipeline/article5_answers03_1.json\n",
      "Answers saved to outputs_pipeline/article5_answers03_1.json\n"
     ]
    },
    {
     "name": "stderr",
     "output_type": "stream",
     "text": [
      "Processing responses:  16%|█▌        | 340/2128 [00:19<04:02,  7.37it/s]"
     ]
    },
    {
     "name": "stdout",
     "output_type": "stream",
     "text": [
      "Answers saved to outputs_pipeline/article5_answers03_1.json\n",
      "Answers saved to outputs_pipeline/article5_answers03_1.json\n"
     ]
    },
    {
     "name": "stderr",
     "output_type": "stream",
     "text": [
      "Processing responses:  16%|█▌        | 342/2128 [00:20<03:53,  7.64it/s]"
     ]
    },
    {
     "name": "stdout",
     "output_type": "stream",
     "text": [
      "Answers saved to outputs_pipeline/article5_answers03_1.json\n",
      "Answers saved to outputs_pipeline/article5_answers03_1.json\n"
     ]
    },
    {
     "name": "stderr",
     "output_type": "stream",
     "text": [
      "Processing responses:  16%|█▌        | 344/2128 [00:20<03:51,  7.71it/s]"
     ]
    },
    {
     "name": "stdout",
     "output_type": "stream",
     "text": [
      "Answers saved to outputs_pipeline/article5_answers03_1.json\n",
      "Answers saved to outputs_pipeline/article5_answers03_1.json\n"
     ]
    },
    {
     "name": "stderr",
     "output_type": "stream",
     "text": [
      "Processing responses:  16%|█▋        | 346/2128 [00:20<03:51,  7.69it/s]"
     ]
    },
    {
     "name": "stdout",
     "output_type": "stream",
     "text": [
      "Answers saved to outputs_pipeline/article5_answers03_1.json\n",
      "Answers saved to outputs_pipeline/article5_answers03_1.json\n"
     ]
    },
    {
     "name": "stderr",
     "output_type": "stream",
     "text": [
      "Processing responses:  16%|█▋        | 348/2128 [00:20<04:07,  7.19it/s]"
     ]
    },
    {
     "name": "stdout",
     "output_type": "stream",
     "text": [
      "Answers saved to outputs_pipeline/article5_answers03_1.json\n",
      "Answers saved to outputs_pipeline/article5_answers03_1.json\n"
     ]
    },
    {
     "name": "stderr",
     "output_type": "stream",
     "text": [
      "Processing responses:  16%|█▋        | 350/2128 [00:21<04:14,  6.99it/s]"
     ]
    },
    {
     "name": "stdout",
     "output_type": "stream",
     "text": [
      "Answers saved to outputs_pipeline/article5_answers03_1.json\n",
      "Answers saved to outputs_pipeline/article5_answers03_1.json\n"
     ]
    },
    {
     "name": "stderr",
     "output_type": "stream",
     "text": [
      "Processing responses:  17%|█▋        | 352/2128 [00:21<04:04,  7.26it/s]"
     ]
    },
    {
     "name": "stdout",
     "output_type": "stream",
     "text": [
      "Answers saved to outputs_pipeline/article5_answers03_1.json\n",
      "Answers saved to outputs_pipeline/article5_answers03_1.json\n"
     ]
    },
    {
     "name": "stderr",
     "output_type": "stream",
     "text": [
      "Processing responses:  17%|█▋        | 354/2128 [00:21<04:06,  7.18it/s]"
     ]
    },
    {
     "name": "stdout",
     "output_type": "stream",
     "text": [
      "Answers saved to outputs_pipeline/article5_answers03_1.json\n",
      "Answers saved to outputs_pipeline/article5_answers03_1.json\n"
     ]
    },
    {
     "name": "stderr",
     "output_type": "stream",
     "text": [
      "Processing responses:  17%|█▋        | 355/2128 [00:21<04:03,  7.28it/s]"
     ]
    },
    {
     "name": "stdout",
     "output_type": "stream",
     "text": [
      "Answers saved to outputs_pipeline/article5_answers03_1.json\n"
     ]
    },
    {
     "name": "stderr",
     "output_type": "stream",
     "text": [
      "Processing responses:  17%|█▋        | 357/2128 [00:22<04:37,  6.39it/s]"
     ]
    },
    {
     "name": "stdout",
     "output_type": "stream",
     "text": [
      "Answers saved to outputs_pipeline/article5_answers03_1.json\n",
      "Answers saved to outputs_pipeline/article5_answers03_1.json\n"
     ]
    },
    {
     "name": "stderr",
     "output_type": "stream",
     "text": [
      "Processing responses:  17%|█▋        | 359/2128 [00:22<04:22,  6.74it/s]"
     ]
    },
    {
     "name": "stdout",
     "output_type": "stream",
     "text": [
      "Answers saved to outputs_pipeline/article5_answers03_1.json\n",
      "Answers saved to outputs_pipeline/article5_answers03_1.json\n"
     ]
    },
    {
     "name": "stderr",
     "output_type": "stream",
     "text": [
      "Processing responses:  17%|█▋        | 361/2128 [00:22<04:16,  6.89it/s]"
     ]
    },
    {
     "name": "stdout",
     "output_type": "stream",
     "text": [
      "Answers saved to outputs_pipeline/article5_answers03_1.json\n",
      "Answers saved to outputs_pipeline/article5_answers03_1.json\n"
     ]
    },
    {
     "name": "stderr",
     "output_type": "stream",
     "text": [
      "Processing responses:  17%|█▋        | 363/2128 [00:23<04:12,  6.99it/s]"
     ]
    },
    {
     "name": "stdout",
     "output_type": "stream",
     "text": [
      "Answers saved to outputs_pipeline/article5_answers03_1.json\n",
      "Answers saved to outputs_pipeline/article5_answers03_1.json\n"
     ]
    },
    {
     "name": "stderr",
     "output_type": "stream",
     "text": [
      "Processing responses:  17%|█▋        | 364/2128 [00:23<04:22,  6.72it/s]"
     ]
    },
    {
     "name": "stdout",
     "output_type": "stream",
     "text": [
      "Answers saved to outputs_pipeline/article5_answers03_1.json\n"
     ]
    },
    {
     "name": "stderr",
     "output_type": "stream",
     "text": [
      "Processing responses:  17%|█▋        | 366/2128 [00:23<04:40,  6.28it/s]"
     ]
    },
    {
     "name": "stdout",
     "output_type": "stream",
     "text": [
      "Answers saved to outputs_pipeline/article5_answers03_1.json\n",
      "Answers saved to outputs_pipeline/article5_answers03_1.json\n"
     ]
    },
    {
     "name": "stderr",
     "output_type": "stream",
     "text": [
      "Processing responses:  17%|█▋        | 368/2128 [00:23<04:21,  6.72it/s]"
     ]
    },
    {
     "name": "stdout",
     "output_type": "stream",
     "text": [
      "Answers saved to outputs_pipeline/article5_answers03_1.json\n",
      "Answers saved to outputs_pipeline/article5_answers03_1.json\n"
     ]
    },
    {
     "name": "stderr",
     "output_type": "stream",
     "text": [
      "Processing responses:  17%|█▋        | 370/2128 [00:24<04:17,  6.83it/s]"
     ]
    },
    {
     "name": "stdout",
     "output_type": "stream",
     "text": [
      "Answers saved to outputs_pipeline/article5_answers03_1.json\n",
      "Answers saved to outputs_pipeline/article5_answers03_1.json\n"
     ]
    },
    {
     "name": "stderr",
     "output_type": "stream",
     "text": [
      "Processing responses:  17%|█▋        | 372/2128 [00:24<04:14,  6.90it/s]"
     ]
    },
    {
     "name": "stdout",
     "output_type": "stream",
     "text": [
      "Answers saved to outputs_pipeline/article5_answers03_1.json\n",
      "Answers saved to outputs_pipeline/article5_answers03_1.json\n"
     ]
    },
    {
     "name": "stderr",
     "output_type": "stream",
     "text": [
      "Processing responses:  18%|█▊        | 373/2128 [00:24<04:12,  6.95it/s]"
     ]
    },
    {
     "name": "stdout",
     "output_type": "stream",
     "text": [
      "Answers saved to outputs_pipeline/article5_answers03_1.json\n"
     ]
    },
    {
     "name": "stderr",
     "output_type": "stream",
     "text": [
      "Processing responses:  18%|█▊        | 375/2128 [00:24<04:51,  6.01it/s]"
     ]
    },
    {
     "name": "stdout",
     "output_type": "stream",
     "text": [
      "Answers saved to outputs_pipeline/article5_answers03_1.json\n",
      "Answers saved to outputs_pipeline/article5_answers03_1.json\n"
     ]
    },
    {
     "name": "stderr",
     "output_type": "stream",
     "text": [
      "Processing responses:  18%|█▊        | 377/2128 [00:25<04:33,  6.41it/s]"
     ]
    },
    {
     "name": "stdout",
     "output_type": "stream",
     "text": [
      "Answers saved to outputs_pipeline/article5_answers03_1.json\n",
      "Answers saved to outputs_pipeline/article5_answers03_1.json\n"
     ]
    },
    {
     "name": "stderr",
     "output_type": "stream",
     "text": [
      "Processing responses:  18%|█▊        | 379/2128 [00:25<04:33,  6.40it/s]"
     ]
    },
    {
     "name": "stdout",
     "output_type": "stream",
     "text": [
      "Answers saved to outputs_pipeline/article5_answers03_1.json\n",
      "Answers saved to outputs_pipeline/article5_answers03_1.json\n"
     ]
    },
    {
     "name": "stderr",
     "output_type": "stream",
     "text": [
      "Processing responses:  18%|█▊        | 381/2128 [00:25<04:26,  6.56it/s]"
     ]
    },
    {
     "name": "stdout",
     "output_type": "stream",
     "text": [
      "Answers saved to outputs_pipeline/article5_answers03_1.json\n",
      "Answers saved to outputs_pipeline/article5_answers03_1.json\n"
     ]
    },
    {
     "name": "stderr",
     "output_type": "stream",
     "text": [
      "Processing responses:  18%|█▊        | 382/2128 [00:25<04:22,  6.64it/s]"
     ]
    },
    {
     "name": "stdout",
     "output_type": "stream",
     "text": [
      "Answers saved to outputs_pipeline/article5_answers03_1.json\n"
     ]
    },
    {
     "name": "stderr",
     "output_type": "stream",
     "text": [
      "Processing responses:  18%|█▊        | 384/2128 [00:26<04:40,  6.23it/s]"
     ]
    },
    {
     "name": "stdout",
     "output_type": "stream",
     "text": [
      "Answers saved to outputs_pipeline/article5_answers03_1.json\n",
      "Answers saved to outputs_pipeline/article5_answers03_1.json\n"
     ]
    },
    {
     "name": "stderr",
     "output_type": "stream",
     "text": [
      "Processing responses:  18%|█▊        | 386/2128 [00:26<04:30,  6.45it/s]"
     ]
    },
    {
     "name": "stdout",
     "output_type": "stream",
     "text": [
      "Answers saved to outputs_pipeline/article5_answers03_1.json\n",
      "Answers saved to outputs_pipeline/article5_answers03_1.json\n"
     ]
    },
    {
     "name": "stderr",
     "output_type": "stream",
     "text": [
      "Processing responses:  18%|█▊        | 388/2128 [00:26<04:25,  6.56it/s]"
     ]
    },
    {
     "name": "stdout",
     "output_type": "stream",
     "text": [
      "Answers saved to outputs_pipeline/article5_answers03_1.json\n",
      "Answers saved to outputs_pipeline/article5_answers03_1.json\n"
     ]
    },
    {
     "name": "stderr",
     "output_type": "stream",
     "text": [
      "Processing responses:  18%|█▊        | 390/2128 [00:27<04:25,  6.55it/s]"
     ]
    },
    {
     "name": "stdout",
     "output_type": "stream",
     "text": [
      "Answers saved to outputs_pipeline/article5_answers03_1.json\n",
      "Answers saved to outputs_pipeline/article5_answers03_1.json\n"
     ]
    },
    {
     "name": "stderr",
     "output_type": "stream",
     "text": [
      "Processing responses:  18%|█▊        | 392/2128 [00:27<04:49,  6.00it/s]"
     ]
    },
    {
     "name": "stdout",
     "output_type": "stream",
     "text": [
      "Answers saved to outputs_pipeline/article5_answers03_1.json\n",
      "Answers saved to outputs_pipeline/article5_answers03_1.json\n"
     ]
    },
    {
     "name": "stderr",
     "output_type": "stream",
     "text": [
      "Processing responses:  19%|█▊        | 394/2128 [00:27<04:34,  6.31it/s]"
     ]
    },
    {
     "name": "stdout",
     "output_type": "stream",
     "text": [
      "Answers saved to outputs_pipeline/article5_answers03_1.json\n",
      "Answers saved to outputs_pipeline/article5_answers03_1.json\n"
     ]
    },
    {
     "name": "stderr",
     "output_type": "stream",
     "text": [
      "Processing responses:  19%|█▊        | 396/2128 [00:28<04:38,  6.22it/s]"
     ]
    },
    {
     "name": "stdout",
     "output_type": "stream",
     "text": [
      "Answers saved to outputs_pipeline/article5_answers03_1.json\n",
      "Answers saved to outputs_pipeline/article5_answers03_1.json\n"
     ]
    },
    {
     "name": "stderr",
     "output_type": "stream",
     "text": [
      "Processing responses:  19%|█▊        | 398/2128 [00:28<04:40,  6.16it/s]"
     ]
    },
    {
     "name": "stdout",
     "output_type": "stream",
     "text": [
      "Answers saved to outputs_pipeline/article5_answers03_1.json\n",
      "Answers saved to outputs_pipeline/article5_answers03_1.json\n"
     ]
    },
    {
     "name": "stderr",
     "output_type": "stream",
     "text": [
      "Processing responses:  19%|█▉        | 399/2128 [00:28<04:37,  6.23it/s]"
     ]
    },
    {
     "name": "stdout",
     "output_type": "stream",
     "text": [
      "Answers saved to outputs_pipeline/article5_answers03_1.json\n",
      "Answers saved to outputs_pipeline/article5_answers03_1.json\n"
     ]
    },
    {
     "name": "stderr",
     "output_type": "stream",
     "text": [
      "Processing responses:  19%|█▉        | 402/2128 [00:29<04:43,  6.10it/s]"
     ]
    },
    {
     "name": "stdout",
     "output_type": "stream",
     "text": [
      "Answers saved to outputs_pipeline/article5_answers03_1.json\n",
      "Answers saved to outputs_pipeline/article5_answers03_1.json\n"
     ]
    },
    {
     "name": "stderr",
     "output_type": "stream",
     "text": [
      "Processing responses:  19%|█▉        | 404/2128 [00:29<04:37,  6.20it/s]"
     ]
    },
    {
     "name": "stdout",
     "output_type": "stream",
     "text": [
      "Answers saved to outputs_pipeline/article5_answers03_1.json\n",
      "Answers saved to outputs_pipeline/article5_answers03_1.json\n"
     ]
    },
    {
     "name": "stderr",
     "output_type": "stream",
     "text": [
      "Processing responses:  19%|█▉        | 406/2128 [00:29<04:36,  6.22it/s]"
     ]
    },
    {
     "name": "stdout",
     "output_type": "stream",
     "text": [
      "Answers saved to outputs_pipeline/article5_answers03_1.json\n",
      "Answers saved to outputs_pipeline/article5_answers03_1.json\n"
     ]
    },
    {
     "name": "stderr",
     "output_type": "stream",
     "text": [
      "Processing responses:  19%|█▉        | 408/2128 [00:30<04:36,  6.23it/s]"
     ]
    },
    {
     "name": "stdout",
     "output_type": "stream",
     "text": [
      "Answers saved to outputs_pipeline/article5_answers03_1.json\n",
      "Answers saved to outputs_pipeline/article5_answers03_1.json\n"
     ]
    },
    {
     "name": "stderr",
     "output_type": "stream",
     "text": [
      "Processing responses:  19%|█▉        | 410/2128 [00:30<04:35,  6.23it/s]"
     ]
    },
    {
     "name": "stdout",
     "output_type": "stream",
     "text": [
      "Answers saved to outputs_pipeline/article5_answers03_1.json\n",
      "Answers saved to outputs_pipeline/article5_answers03_1.json\n"
     ]
    },
    {
     "name": "stderr",
     "output_type": "stream",
     "text": [
      "Processing responses:  19%|█▉        | 412/2128 [00:30<04:44,  6.03it/s]"
     ]
    },
    {
     "name": "stdout",
     "output_type": "stream",
     "text": [
      "Answers saved to outputs_pipeline/article5_answers03_1.json\n",
      "Answers saved to outputs_pipeline/article5_answers03_1.json\n"
     ]
    },
    {
     "name": "stderr",
     "output_type": "stream",
     "text": [
      "Processing responses:  19%|█▉        | 414/2128 [00:31<04:43,  6.04it/s]"
     ]
    },
    {
     "name": "stdout",
     "output_type": "stream",
     "text": [
      "Answers saved to outputs_pipeline/article5_answers03_1.json\n",
      "Answers saved to outputs_pipeline/article5_answers03_1.json\n"
     ]
    },
    {
     "name": "stderr",
     "output_type": "stream",
     "text": [
      "Processing responses:  20%|█▉        | 415/2128 [00:31<04:41,  6.08it/s]"
     ]
    },
    {
     "name": "stdout",
     "output_type": "stream",
     "text": [
      "Answers saved to outputs_pipeline/article5_answers03_1.json\n",
      "Answers saved to outputs_pipeline/article5_answers03_1.json\n"
     ]
    },
    {
     "name": "stderr",
     "output_type": "stream",
     "text": [
      "Processing responses:  20%|█▉        | 418/2128 [00:31<04:52,  5.85it/s]"
     ]
    },
    {
     "name": "stdout",
     "output_type": "stream",
     "text": [
      "Answers saved to outputs_pipeline/article5_answers03_1.json\n",
      "Answers saved to outputs_pipeline/article5_answers03_1.json\n"
     ]
    },
    {
     "name": "stderr",
     "output_type": "stream",
     "text": [
      "Processing responses:  20%|█▉        | 420/2128 [00:32<04:46,  5.96it/s]"
     ]
    },
    {
     "name": "stdout",
     "output_type": "stream",
     "text": [
      "Answers saved to outputs_pipeline/article5_answers03_1.json\n",
      "Answers saved to outputs_pipeline/article5_answers03_1.json\n"
     ]
    },
    {
     "name": "stderr",
     "output_type": "stream",
     "text": [
      "Processing responses:  20%|█▉        | 422/2128 [00:32<04:43,  6.02it/s]"
     ]
    },
    {
     "name": "stdout",
     "output_type": "stream",
     "text": [
      "Answers saved to outputs_pipeline/article5_answers03_1.json\n",
      "Answers saved to outputs_pipeline/article5_answers03_1.json\n"
     ]
    },
    {
     "name": "stderr",
     "output_type": "stream",
     "text": [
      "Processing responses:  20%|█▉        | 423/2128 [00:32<04:46,  5.95it/s]"
     ]
    },
    {
     "name": "stdout",
     "output_type": "stream",
     "text": [
      "Answers saved to outputs_pipeline/article5_answers03_1.json\n",
      "Answers saved to outputs_pipeline/article5_answers03_1.json\n"
     ]
    },
    {
     "name": "stderr",
     "output_type": "stream",
     "text": [
      "Processing responses:  20%|██        | 426/2128 [00:33<04:48,  5.90it/s]"
     ]
    },
    {
     "name": "stdout",
     "output_type": "stream",
     "text": [
      "Answers saved to outputs_pipeline/article5_answers03_1.json\n",
      "Answers saved to outputs_pipeline/article5_answers03_1.json\n"
     ]
    },
    {
     "name": "stderr",
     "output_type": "stream",
     "text": [
      "Processing responses:  20%|██        | 428/2128 [00:33<04:54,  5.78it/s]"
     ]
    },
    {
     "name": "stdout",
     "output_type": "stream",
     "text": [
      "Answers saved to outputs_pipeline/article5_answers03_1.json\n",
      "Answers saved to outputs_pipeline/article5_answers03_1.json\n"
     ]
    },
    {
     "name": "stderr",
     "output_type": "stream",
     "text": [
      "Processing responses:  20%|██        | 429/2128 [00:33<04:55,  5.74it/s]"
     ]
    },
    {
     "name": "stdout",
     "output_type": "stream",
     "text": [
      "Answers saved to outputs_pipeline/article5_answers03_1.json\n",
      "Answers saved to outputs_pipeline/article5_answers03_1.json\n"
     ]
    },
    {
     "name": "stderr",
     "output_type": "stream",
     "text": [
      "Processing responses:  20%|██        | 431/2128 [00:34<05:12,  5.43it/s]"
     ]
    },
    {
     "name": "stdout",
     "output_type": "stream",
     "text": [
      "Answers saved to outputs_pipeline/article5_answers03_1.json\n"
     ]
    },
    {
     "name": "stderr",
     "output_type": "stream",
     "text": [
      "Processing responses:  20%|██        | 432/2128 [00:34<05:40,  4.98it/s]"
     ]
    },
    {
     "name": "stdout",
     "output_type": "stream",
     "text": [
      "Answers saved to outputs_pipeline/article5_answers03_1.json\n",
      "Answers saved to outputs_pipeline/article5_answers03_1.json\n"
     ]
    },
    {
     "name": "stderr",
     "output_type": "stream",
     "text": [
      "Processing responses:  20%|██        | 435/2128 [00:34<05:08,  5.49it/s]"
     ]
    },
    {
     "name": "stdout",
     "output_type": "stream",
     "text": [
      "Answers saved to outputs_pipeline/article5_answers03_1.json\n",
      "Answers saved to outputs_pipeline/article5_answers03_1.json\n"
     ]
    },
    {
     "name": "stderr",
     "output_type": "stream",
     "text": [
      "Processing responses:  21%|██        | 437/2128 [00:35<04:55,  5.72it/s]"
     ]
    },
    {
     "name": "stdout",
     "output_type": "stream",
     "text": [
      "Answers saved to outputs_pipeline/article5_answers03_1.json\n",
      "Answers saved to outputs_pipeline/article5_answers03_1.json\n"
     ]
    },
    {
     "name": "stderr",
     "output_type": "stream",
     "text": [
      "Processing responses:  21%|██        | 438/2128 [00:35<04:54,  5.74it/s]"
     ]
    },
    {
     "name": "stdout",
     "output_type": "stream",
     "text": [
      "Answers saved to outputs_pipeline/article5_answers03_1.json\n"
     ]
    },
    {
     "name": "stderr",
     "output_type": "stream",
     "text": [
      "Processing responses:  21%|██        | 440/2128 [00:35<05:28,  5.13it/s]"
     ]
    },
    {
     "name": "stdout",
     "output_type": "stream",
     "text": [
      "Answers saved to outputs_pipeline/article5_answers03_1.json\n",
      "Answers saved to outputs_pipeline/article5_answers03_1.json\n"
     ]
    },
    {
     "name": "stderr",
     "output_type": "stream",
     "text": [
      "Processing responses:  21%|██        | 442/2128 [00:36<05:07,  5.49it/s]"
     ]
    },
    {
     "name": "stdout",
     "output_type": "stream",
     "text": [
      "Answers saved to outputs_pipeline/article5_answers03_1.json\n",
      "Answers saved to outputs_pipeline/article5_answers03_1.json\n"
     ]
    },
    {
     "name": "stderr",
     "output_type": "stream",
     "text": [
      "Processing responses:  21%|██        | 444/2128 [00:36<05:03,  5.54it/s]"
     ]
    },
    {
     "name": "stdout",
     "output_type": "stream",
     "text": [
      "Answers saved to outputs_pipeline/article5_answers03_1.json\n",
      "Answers saved to outputs_pipeline/article5_answers03_1.json\n"
     ]
    },
    {
     "name": "stderr",
     "output_type": "stream",
     "text": [
      "Processing responses:  21%|██        | 446/2128 [00:36<04:56,  5.67it/s]"
     ]
    },
    {
     "name": "stdout",
     "output_type": "stream",
     "text": [
      "Answers saved to outputs_pipeline/article5_answers03_1.json\n",
      "Answers saved to outputs_pipeline/article5_answers03_1.json\n"
     ]
    },
    {
     "name": "stderr",
     "output_type": "stream",
     "text": [
      "Processing responses:  21%|██        | 448/2128 [00:37<05:19,  5.26it/s]"
     ]
    },
    {
     "name": "stdout",
     "output_type": "stream",
     "text": [
      "Answers saved to outputs_pipeline/article5_answers03_1.json\n",
      "Answers saved to outputs_pipeline/article5_answers03_1.json\n"
     ]
    },
    {
     "name": "stderr",
     "output_type": "stream",
     "text": [
      "Processing responses:  21%|██        | 450/2128 [00:37<05:03,  5.52it/s]"
     ]
    },
    {
     "name": "stdout",
     "output_type": "stream",
     "text": [
      "Answers saved to outputs_pipeline/article5_answers03_1.json\n",
      "Answers saved to outputs_pipeline/article5_answers03_1.json\n"
     ]
    },
    {
     "name": "stderr",
     "output_type": "stream",
     "text": [
      "Processing responses:  21%|██        | 451/2128 [00:38<07:38,  3.65it/s]"
     ]
    },
    {
     "name": "stdout",
     "output_type": "stream",
     "text": [
      "Answers saved to outputs_pipeline/article5_answers03_1.json\n",
      "Answers saved to outputs_pipeline/article5_answers03_1.json\n"
     ]
    },
    {
     "name": "stderr",
     "output_type": "stream",
     "text": [
      "Processing responses:  21%|██▏       | 453/2128 [00:38<06:23,  4.37it/s]"
     ]
    },
    {
     "name": "stdout",
     "output_type": "stream",
     "text": [
      "Answers saved to outputs_pipeline/article5_answers03_1.json\n",
      "Answers saved to outputs_pipeline/article5_answers03_1.json\n"
     ]
    },
    {
     "name": "stderr",
     "output_type": "stream",
     "text": [
      "Processing responses:  21%|██▏       | 456/2128 [00:39<05:21,  5.20it/s]"
     ]
    },
    {
     "name": "stdout",
     "output_type": "stream",
     "text": [
      "Answers saved to outputs_pipeline/article5_answers03_1.json\n",
      "Answers saved to outputs_pipeline/article5_answers03_1.json\n"
     ]
    },
    {
     "name": "stderr",
     "output_type": "stream",
     "text": [
      "Processing responses:  22%|██▏       | 458/2128 [00:39<05:01,  5.54it/s]"
     ]
    },
    {
     "name": "stdout",
     "output_type": "stream",
     "text": [
      "Answers saved to outputs_pipeline/article5_answers03_1.json\n",
      "Answers saved to outputs_pipeline/article5_answers03_1.json\n"
     ]
    },
    {
     "name": "stderr",
     "output_type": "stream",
     "text": [
      "Processing responses:  22%|██▏       | 459/2128 [00:39<04:58,  5.60it/s]"
     ]
    },
    {
     "name": "stdout",
     "output_type": "stream",
     "text": [
      "Answers saved to outputs_pipeline/article5_answers03_1.json\n",
      "Answers saved to outputs_pipeline/article5_answers03_1.json\n"
     ]
    },
    {
     "name": "stderr",
     "output_type": "stream",
     "text": [
      "Processing responses:  22%|██▏       | 462/2128 [00:40<04:51,  5.71it/s]"
     ]
    },
    {
     "name": "stdout",
     "output_type": "stream",
     "text": [
      "Answers saved to outputs_pipeline/article5_answers03_1.json\n",
      "Answers saved to outputs_pipeline/article5_answers03_1.json\n"
     ]
    },
    {
     "name": "stderr",
     "output_type": "stream",
     "text": [
      "Processing responses:  22%|██▏       | 463/2128 [00:40<04:51,  5.71it/s]"
     ]
    },
    {
     "name": "stdout",
     "output_type": "stream",
     "text": [
      "Answers saved to outputs_pipeline/article5_answers03_1.json\n",
      "Answers saved to outputs_pipeline/article5_answers03_1.json\n"
     ]
    },
    {
     "name": "stderr",
     "output_type": "stream",
     "text": [
      "Processing responses:  22%|██▏       | 465/2128 [00:40<05:02,  5.50it/s]"
     ]
    },
    {
     "name": "stdout",
     "output_type": "stream",
     "text": [
      "Answers saved to outputs_pipeline/article5_answers03_1.json\n",
      "Answers saved to outputs_pipeline/article5_answers03_1.json\n"
     ]
    },
    {
     "name": "stderr",
     "output_type": "stream",
     "text": [
      "Processing responses:  22%|██▏       | 467/2128 [00:41<04:55,  5.61it/s]"
     ]
    },
    {
     "name": "stdout",
     "output_type": "stream",
     "text": [
      "Answers saved to outputs_pipeline/article5_answers03_1.json\n"
     ]
    },
    {
     "name": "stderr",
     "output_type": "stream",
     "text": [
      "Processing responses:  22%|██▏       | 469/2128 [00:41<06:03,  4.56it/s]"
     ]
    },
    {
     "name": "stdout",
     "output_type": "stream",
     "text": [
      "Answers saved to outputs_pipeline/article5_answers03_1.json\n",
      "Answers saved to outputs_pipeline/article5_answers03_1.json\n"
     ]
    },
    {
     "name": "stderr",
     "output_type": "stream",
     "text": [
      "Processing responses:  22%|██▏       | 470/2128 [00:41<05:41,  4.86it/s]"
     ]
    },
    {
     "name": "stdout",
     "output_type": "stream",
     "text": [
      "Answers saved to outputs_pipeline/article5_answers03_1.json\n",
      "Answers saved to outputs_pipeline/article5_answers03_1.json\n"
     ]
    },
    {
     "name": "stderr",
     "output_type": "stream",
     "text": [
      "Processing responses:  22%|██▏       | 473/2128 [00:42<05:07,  5.38it/s]"
     ]
    },
    {
     "name": "stdout",
     "output_type": "stream",
     "text": [
      "Answers saved to outputs_pipeline/article5_answers03_1.json\n",
      "Answers saved to outputs_pipeline/article5_answers03_1.json\n"
     ]
    },
    {
     "name": "stderr",
     "output_type": "stream",
     "text": [
      "Processing responses:  22%|██▏       | 474/2128 [00:42<05:24,  5.10it/s]"
     ]
    },
    {
     "name": "stdout",
     "output_type": "stream",
     "text": [
      "Answers saved to outputs_pipeline/article5_answers03_1.json\n",
      "Answers saved to outputs_pipeline/article5_answers03_1.json\n"
     ]
    },
    {
     "name": "stderr",
     "output_type": "stream",
     "text": [
      "Processing responses:  22%|██▏       | 477/2128 [00:43<05:08,  5.35it/s]"
     ]
    },
    {
     "name": "stdout",
     "output_type": "stream",
     "text": [
      "Answers saved to outputs_pipeline/article5_answers03_1.json\n",
      "Answers saved to outputs_pipeline/article5_answers03_1.json\n"
     ]
    },
    {
     "name": "stderr",
     "output_type": "stream",
     "text": [
      "Processing responses:  22%|██▏       | 478/2128 [00:43<05:06,  5.39it/s]"
     ]
    },
    {
     "name": "stdout",
     "output_type": "stream",
     "text": [
      "Answers saved to outputs_pipeline/article5_answers03_1.json\n",
      "Answers saved to outputs_pipeline/article5_answers03_1.json\n"
     ]
    },
    {
     "name": "stderr",
     "output_type": "stream",
     "text": [
      "Processing responses:  23%|██▎       | 480/2128 [00:43<05:15,  5.22it/s]"
     ]
    },
    {
     "name": "stdout",
     "output_type": "stream",
     "text": [
      "Answers saved to outputs_pipeline/article5_answers03_1.json\n"
     ]
    },
    {
     "name": "stderr",
     "output_type": "stream",
     "text": [
      "Processing responses:  23%|██▎       | 482/2128 [00:44<05:14,  5.23it/s]"
     ]
    },
    {
     "name": "stdout",
     "output_type": "stream",
     "text": [
      "Answers saved to outputs_pipeline/article5_answers03_1.json\n",
      "Answers saved to outputs_pipeline/article5_answers03_1.json\n"
     ]
    },
    {
     "name": "stderr",
     "output_type": "stream",
     "text": [
      "Processing responses:  23%|██▎       | 483/2128 [00:44<05:15,  5.22it/s]"
     ]
    },
    {
     "name": "stdout",
     "output_type": "stream",
     "text": [
      "Answers saved to outputs_pipeline/article5_answers03_1.json\n",
      "Answers saved to outputs_pipeline/article5_answers03_1.json\n"
     ]
    },
    {
     "name": "stderr",
     "output_type": "stream",
     "text": [
      "Processing responses:  23%|██▎       | 485/2128 [00:44<05:09,  5.31it/s]"
     ]
    },
    {
     "name": "stdout",
     "output_type": "stream",
     "text": [
      "Answers saved to outputs_pipeline/article5_answers03_1.json\n",
      "Answers saved to outputs_pipeline/article5_answers03_1.json\n"
     ]
    },
    {
     "name": "stderr",
     "output_type": "stream",
     "text": [
      "Processing responses:  23%|██▎       | 488/2128 [00:45<05:02,  5.42it/s]"
     ]
    },
    {
     "name": "stdout",
     "output_type": "stream",
     "text": [
      "Answers saved to outputs_pipeline/article5_answers03_1.json\n",
      "Answers saved to outputs_pipeline/article5_answers03_1.json\n"
     ]
    },
    {
     "name": "stderr",
     "output_type": "stream",
     "text": [
      "Processing responses:  23%|██▎       | 489/2128 [00:45<06:00,  4.54it/s]"
     ]
    },
    {
     "name": "stdout",
     "output_type": "stream",
     "text": [
      "Answers saved to outputs_pipeline/article5_answers03_1.json\n",
      "Answers saved to outputs_pipeline/article5_answers03_1.json\n"
     ]
    },
    {
     "name": "stderr",
     "output_type": "stream",
     "text": [
      "Processing responses:  23%|██▎       | 491/2128 [00:45<05:30,  4.96it/s]"
     ]
    },
    {
     "name": "stdout",
     "output_type": "stream",
     "text": [
      "Answers saved to outputs_pipeline/article5_answers03_1.json\n",
      "Answers saved to outputs_pipeline/article5_answers03_1.json\n"
     ]
    },
    {
     "name": "stderr",
     "output_type": "stream",
     "text": [
      "Processing responses:  23%|██▎       | 494/2128 [00:46<05:08,  5.30it/s]"
     ]
    },
    {
     "name": "stdout",
     "output_type": "stream",
     "text": [
      "Answers saved to outputs_pipeline/article5_answers03_1.json\n",
      "Answers saved to outputs_pipeline/article5_answers03_1.json\n"
     ]
    },
    {
     "name": "stderr",
     "output_type": "stream",
     "text": [
      "Processing responses:  23%|██▎       | 495/2128 [00:46<05:42,  4.77it/s]"
     ]
    },
    {
     "name": "stdout",
     "output_type": "stream",
     "text": [
      "Answers saved to outputs_pipeline/article5_answers03_1.json\n"
     ]
    },
    {
     "name": "stderr",
     "output_type": "stream",
     "text": [
      "Processing responses:  23%|██▎       | 496/2128 [00:46<05:57,  4.56it/s]"
     ]
    },
    {
     "name": "stdout",
     "output_type": "stream",
     "text": [
      "Answers saved to outputs_pipeline/article5_answers03_1.json\n",
      "Answers saved to outputs_pipeline/article5_answers03_1.json\n"
     ]
    },
    {
     "name": "stderr",
     "output_type": "stream",
     "text": [
      "Processing responses:  23%|██▎       | 499/2128 [00:47<05:22,  5.05it/s]"
     ]
    },
    {
     "name": "stdout",
     "output_type": "stream",
     "text": [
      "Answers saved to outputs_pipeline/article5_answers03_1.json\n",
      "Answers saved to outputs_pipeline/article5_answers03_1.json\n"
     ]
    },
    {
     "name": "stderr",
     "output_type": "stream",
     "text": [
      "Processing responses:  23%|██▎       | 500/2128 [00:47<05:17,  5.13it/s]"
     ]
    },
    {
     "name": "stdout",
     "output_type": "stream",
     "text": [
      "Answers saved to outputs_pipeline/article5_answers03_1.json\n",
      "Answers saved to outputs_pipeline/article5_answers03_1.json\n"
     ]
    },
    {
     "name": "stderr",
     "output_type": "stream",
     "text": [
      "Processing responses:  24%|██▎       | 503/2128 [00:48<05:09,  5.26it/s]"
     ]
    },
    {
     "name": "stdout",
     "output_type": "stream",
     "text": [
      "Answers saved to outputs_pipeline/article5_answers03_1.json\n",
      "Answers saved to outputs_pipeline/article5_answers03_1.json\n"
     ]
    },
    {
     "name": "stderr",
     "output_type": "stream",
     "text": [
      "Processing responses:  24%|██▎       | 504/2128 [00:48<05:07,  5.27it/s]"
     ]
    },
    {
     "name": "stdout",
     "output_type": "stream",
     "text": [
      "Answers saved to outputs_pipeline/article5_answers03_1.json\n",
      "Answers saved to outputs_pipeline/article5_answers03_1.json\n"
     ]
    },
    {
     "name": "stderr",
     "output_type": "stream",
     "text": [
      "Processing responses:  24%|██▍       | 507/2128 [00:48<05:05,  5.31it/s]"
     ]
    },
    {
     "name": "stdout",
     "output_type": "stream",
     "text": [
      "Answers saved to outputs_pipeline/article5_answers03_1.json\n",
      "Answers saved to outputs_pipeline/article5_answers03_1.json\n"
     ]
    },
    {
     "name": "stderr",
     "output_type": "stream",
     "text": [
      "Processing responses:  24%|██▍       | 508/2128 [00:49<05:08,  5.25it/s]"
     ]
    },
    {
     "name": "stdout",
     "output_type": "stream",
     "text": [
      "Answers saved to outputs_pipeline/article5_answers03_1.json\n",
      "Answers saved to outputs_pipeline/article5_answers03_1.json\n"
     ]
    },
    {
     "name": "stderr",
     "output_type": "stream",
     "text": [
      "Processing responses:  24%|██▍       | 510/2128 [00:49<05:08,  5.24it/s]"
     ]
    },
    {
     "name": "stdout",
     "output_type": "stream",
     "text": [
      "Answers saved to outputs_pipeline/article5_answers03_1.json\n",
      "Answers saved to outputs_pipeline/article5_answers03_1.json\n"
     ]
    },
    {
     "name": "stderr",
     "output_type": "stream",
     "text": [
      "Processing responses:  24%|██▍       | 512/2128 [00:49<05:09,  5.22it/s]"
     ]
    },
    {
     "name": "stdout",
     "output_type": "stream",
     "text": [
      "Answers saved to outputs_pipeline/article5_answers03_1.json\n",
      "Answers saved to outputs_pipeline/article5_answers03_1.json\n"
     ]
    },
    {
     "name": "stderr",
     "output_type": "stream",
     "text": [
      "Processing responses:  24%|██▍       | 514/2128 [00:50<05:09,  5.22it/s]"
     ]
    },
    {
     "name": "stdout",
     "output_type": "stream",
     "text": [
      "Answers saved to outputs_pipeline/article5_answers03_1.json\n",
      "Answers saved to outputs_pipeline/article5_answers03_1.json\n"
     ]
    },
    {
     "name": "stderr",
     "output_type": "stream",
     "text": [
      "Processing responses:  24%|██▍       | 516/2128 [00:50<05:18,  5.05it/s]"
     ]
    },
    {
     "name": "stdout",
     "output_type": "stream",
     "text": [
      "Answers saved to outputs_pipeline/article5_answers03_1.json\n",
      "Answers saved to outputs_pipeline/article5_answers03_1.json\n"
     ]
    },
    {
     "name": "stderr",
     "output_type": "stream",
     "text": [
      "Processing responses:  24%|██▍       | 518/2128 [00:51<05:17,  5.08it/s]"
     ]
    },
    {
     "name": "stdout",
     "output_type": "stream",
     "text": [
      "Answers saved to outputs_pipeline/article5_answers03_1.json\n",
      "Answers saved to outputs_pipeline/article5_answers03_1.json\n"
     ]
    },
    {
     "name": "stderr",
     "output_type": "stream",
     "text": [
      "Processing responses:  24%|██▍       | 520/2128 [00:51<05:14,  5.12it/s]"
     ]
    },
    {
     "name": "stdout",
     "output_type": "stream",
     "text": [
      "Answers saved to outputs_pipeline/article5_answers03_1.json\n",
      "Answers saved to outputs_pipeline/article5_answers03_1.json\n"
     ]
    },
    {
     "name": "stderr",
     "output_type": "stream",
     "text": [
      "Processing responses:  25%|██▍       | 522/2128 [00:51<05:26,  4.91it/s]"
     ]
    },
    {
     "name": "stdout",
     "output_type": "stream",
     "text": [
      "Answers saved to outputs_pipeline/article5_answers03_1.json\n",
      "Answers saved to outputs_pipeline/article5_answers03_1.json\n"
     ]
    },
    {
     "name": "stderr",
     "output_type": "stream",
     "text": [
      "Processing responses:  25%|██▍       | 524/2128 [00:52<05:24,  4.94it/s]"
     ]
    },
    {
     "name": "stdout",
     "output_type": "stream",
     "text": [
      "Answers saved to outputs_pipeline/article5_answers03_1.json\n",
      "Answers saved to outputs_pipeline/article5_answers03_1.json\n"
     ]
    },
    {
     "name": "stderr",
     "output_type": "stream",
     "text": [
      "Processing responses:  25%|██▍       | 526/2128 [00:52<05:20,  4.99it/s]"
     ]
    },
    {
     "name": "stdout",
     "output_type": "stream",
     "text": [
      "Answers saved to outputs_pipeline/article5_answers03_1.json\n",
      "Answers saved to outputs_pipeline/article5_answers03_1.json\n"
     ]
    },
    {
     "name": "stderr",
     "output_type": "stream",
     "text": [
      "Processing responses:  25%|██▍       | 528/2128 [00:53<05:18,  5.02it/s]"
     ]
    },
    {
     "name": "stdout",
     "output_type": "stream",
     "text": [
      "Answers saved to outputs_pipeline/article5_answers03_1.json\n",
      "Answers saved to outputs_pipeline/article5_answers03_1.json\n"
     ]
    },
    {
     "name": "stderr",
     "output_type": "stream",
     "text": [
      "Processing responses:  25%|██▍       | 530/2128 [00:53<06:09,  4.32it/s]"
     ]
    },
    {
     "name": "stdout",
     "output_type": "stream",
     "text": [
      "Answers saved to outputs_pipeline/article5_answers03_1.json\n",
      "Answers saved to outputs_pipeline/article5_answers03_1.json\n"
     ]
    },
    {
     "name": "stderr",
     "output_type": "stream",
     "text": [
      "Processing responses:  25%|██▌       | 532/2128 [00:53<05:46,  4.61it/s]"
     ]
    },
    {
     "name": "stdout",
     "output_type": "stream",
     "text": [
      "Answers saved to outputs_pipeline/article5_answers03_1.json\n",
      "Answers saved to outputs_pipeline/article5_answers03_1.json\n"
     ]
    },
    {
     "name": "stderr",
     "output_type": "stream",
     "text": [
      "Processing responses:  25%|██▌       | 534/2128 [00:54<05:34,  4.77it/s]"
     ]
    },
    {
     "name": "stdout",
     "output_type": "stream",
     "text": [
      "Answers saved to outputs_pipeline/article5_answers03_1.json\n",
      "Answers saved to outputs_pipeline/article5_answers03_1.json\n"
     ]
    },
    {
     "name": "stderr",
     "output_type": "stream",
     "text": [
      "Processing responses:  25%|██▌       | 536/2128 [00:54<05:27,  4.86it/s]"
     ]
    },
    {
     "name": "stdout",
     "output_type": "stream",
     "text": [
      "Answers saved to outputs_pipeline/article5_answers03_1.json\n",
      "Answers saved to outputs_pipeline/article5_answers03_1.json\n"
     ]
    },
    {
     "name": "stderr",
     "output_type": "stream",
     "text": [
      "Processing responses:  25%|██▌       | 538/2128 [00:55<05:31,  4.80it/s]"
     ]
    },
    {
     "name": "stdout",
     "output_type": "stream",
     "text": [
      "Answers saved to outputs_pipeline/article5_answers03_1.json\n"
     ]
    },
    {
     "name": "stderr",
     "output_type": "stream",
     "text": [
      "Processing responses:  25%|██▌       | 539/2128 [00:55<05:31,  4.79it/s]"
     ]
    },
    {
     "name": "stdout",
     "output_type": "stream",
     "text": [
      "Answers saved to outputs_pipeline/article5_answers03_1.json\n"
     ]
    },
    {
     "name": "stderr",
     "output_type": "stream",
     "text": [
      "Processing responses:  25%|██▌       | 540/2128 [00:55<05:44,  4.61it/s]"
     ]
    },
    {
     "name": "stdout",
     "output_type": "stream",
     "text": [
      "Answers saved to outputs_pipeline/article5_answers03_1.json\n"
     ]
    },
    {
     "name": "stderr",
     "output_type": "stream",
     "text": [
      "Processing responses:  25%|██▌       | 541/2128 [00:55<05:56,  4.45it/s]"
     ]
    },
    {
     "name": "stdout",
     "output_type": "stream",
     "text": [
      "Answers saved to outputs_pipeline/article5_answers03_1.json\n"
     ]
    },
    {
     "name": "stderr",
     "output_type": "stream",
     "text": [
      "Processing responses:  25%|██▌       | 542/2128 [00:56<06:07,  4.31it/s]"
     ]
    },
    {
     "name": "stdout",
     "output_type": "stream",
     "text": [
      "Answers saved to outputs_pipeline/article5_answers03_1.json\n",
      "Answers saved to outputs_pipeline/article5_answers03_1.json\n"
     ]
    },
    {
     "name": "stderr",
     "output_type": "stream",
     "text": [
      "Processing responses:  26%|██▌       | 544/2128 [00:56<05:49,  4.54it/s]"
     ]
    },
    {
     "name": "stdout",
     "output_type": "stream",
     "text": [
      "Answers saved to outputs_pipeline/article5_answers03_1.json\n"
     ]
    },
    {
     "name": "stderr",
     "output_type": "stream",
     "text": [
      "Processing responses:  26%|██▌       | 545/2128 [00:56<05:44,  4.60it/s]"
     ]
    },
    {
     "name": "stdout",
     "output_type": "stream",
     "text": [
      "Answers saved to outputs_pipeline/article5_answers03_1.json\n"
     ]
    },
    {
     "name": "stderr",
     "output_type": "stream",
     "text": [
      "Processing responses:  26%|██▌       | 546/2128 [00:56<05:40,  4.65it/s]"
     ]
    },
    {
     "name": "stdout",
     "output_type": "stream",
     "text": [
      "Answers saved to outputs_pipeline/article5_answers03_1.json\n"
     ]
    },
    {
     "name": "stderr",
     "output_type": "stream",
     "text": [
      "Processing responses:  26%|██▌       | 547/2128 [00:57<05:40,  4.64it/s]"
     ]
    },
    {
     "name": "stdout",
     "output_type": "stream",
     "text": [
      "Answers saved to outputs_pipeline/article5_answers03_1.json\n"
     ]
    },
    {
     "name": "stderr",
     "output_type": "stream",
     "text": [
      "Processing responses:  26%|██▌       | 548/2128 [00:57<05:37,  4.68it/s]"
     ]
    },
    {
     "name": "stdout",
     "output_type": "stream",
     "text": [
      "Answers saved to outputs_pipeline/article5_answers03_1.json\n"
     ]
    },
    {
     "name": "stderr",
     "output_type": "stream",
     "text": [
      "Processing responses:  26%|██▌       | 549/2128 [00:57<06:19,  4.16it/s]"
     ]
    },
    {
     "name": "stdout",
     "output_type": "stream",
     "text": [
      "Answers saved to outputs_pipeline/article5_answers03_1.json\n"
     ]
    },
    {
     "name": "stderr",
     "output_type": "stream",
     "text": [
      "Processing responses:  26%|██▌       | 550/2128 [00:57<06:05,  4.32it/s]"
     ]
    },
    {
     "name": "stdout",
     "output_type": "stream",
     "text": [
      "Answers saved to outputs_pipeline/article5_answers03_1.json\n"
     ]
    },
    {
     "name": "stderr",
     "output_type": "stream",
     "text": [
      "Processing responses:  26%|██▌       | 551/2128 [00:58<05:56,  4.42it/s]"
     ]
    },
    {
     "name": "stdout",
     "output_type": "stream",
     "text": [
      "Answers saved to outputs_pipeline/article5_answers03_1.json\n"
     ]
    },
    {
     "name": "stderr",
     "output_type": "stream",
     "text": [
      "Processing responses:  26%|██▌       | 552/2128 [00:58<06:02,  4.34it/s]"
     ]
    },
    {
     "name": "stdout",
     "output_type": "stream",
     "text": [
      "Answers saved to outputs_pipeline/article5_answers03_1.json\n"
     ]
    },
    {
     "name": "stderr",
     "output_type": "stream",
     "text": [
      "Processing responses:  26%|██▌       | 553/2128 [00:58<05:55,  4.43it/s]"
     ]
    },
    {
     "name": "stdout",
     "output_type": "stream",
     "text": [
      "Answers saved to outputs_pipeline/article5_answers03_1.json\n"
     ]
    },
    {
     "name": "stderr",
     "output_type": "stream",
     "text": [
      "Processing responses:  26%|██▌       | 554/2128 [00:58<06:32,  4.01it/s]"
     ]
    },
    {
     "name": "stdout",
     "output_type": "stream",
     "text": [
      "Answers saved to outputs_pipeline/article5_answers03_1.json\n"
     ]
    },
    {
     "name": "stderr",
     "output_type": "stream",
     "text": [
      "Processing responses:  26%|██▌       | 555/2128 [00:59<06:19,  4.15it/s]"
     ]
    },
    {
     "name": "stdout",
     "output_type": "stream",
     "text": [
      "Answers saved to outputs_pipeline/article5_answers03_1.json\n"
     ]
    },
    {
     "name": "stderr",
     "output_type": "stream",
     "text": [
      "Processing responses:  26%|██▌       | 556/2128 [00:59<06:07,  4.28it/s]"
     ]
    },
    {
     "name": "stdout",
     "output_type": "stream",
     "text": [
      "Answers saved to outputs_pipeline/article5_answers03_1.json\n",
      "Answers saved to outputs_pipeline/article5_answers03_1.json\n"
     ]
    },
    {
     "name": "stderr",
     "output_type": "stream",
     "text": [
      "Processing responses:  26%|██▌       | 558/2128 [00:59<05:49,  4.50it/s]"
     ]
    },
    {
     "name": "stdout",
     "output_type": "stream",
     "text": [
      "Answers saved to outputs_pipeline/article5_answers03_1.json\n"
     ]
    },
    {
     "name": "stderr",
     "output_type": "stream",
     "text": [
      "Processing responses:  26%|██▋       | 559/2128 [00:59<05:49,  4.49it/s]"
     ]
    },
    {
     "name": "stdout",
     "output_type": "stream",
     "text": [
      "Answers saved to outputs_pipeline/article5_answers03_1.json\n"
     ]
    },
    {
     "name": "stderr",
     "output_type": "stream",
     "text": [
      "Processing responses:  26%|██▋       | 560/2128 [01:00<05:51,  4.46it/s]"
     ]
    },
    {
     "name": "stdout",
     "output_type": "stream",
     "text": [
      "Answers saved to outputs_pipeline/article5_answers03_1.json\n"
     ]
    },
    {
     "name": "stderr",
     "output_type": "stream",
     "text": [
      "Processing responses:  26%|██▋       | 561/2128 [01:00<05:49,  4.49it/s]"
     ]
    },
    {
     "name": "stdout",
     "output_type": "stream",
     "text": [
      "Answers saved to outputs_pipeline/article5_answers03_1.json\n",
      "Answers saved to outputs_pipeline/article5_answers03_1.json\n"
     ]
    },
    {
     "name": "stderr",
     "output_type": "stream",
     "text": [
      "Processing responses:  26%|██▋       | 563/2128 [01:00<05:42,  4.56it/s]"
     ]
    },
    {
     "name": "stdout",
     "output_type": "stream",
     "text": [
      "Answers saved to outputs_pipeline/article5_answers03_1.json\n"
     ]
    },
    {
     "name": "stderr",
     "output_type": "stream",
     "text": [
      "Processing responses:  27%|██▋       | 564/2128 [01:01<05:41,  4.58it/s]"
     ]
    },
    {
     "name": "stdout",
     "output_type": "stream",
     "text": [
      "Answers saved to outputs_pipeline/article5_answers03_1.json\n"
     ]
    },
    {
     "name": "stderr",
     "output_type": "stream",
     "text": [
      "Processing responses:  27%|██▋       | 565/2128 [01:01<05:41,  4.58it/s]"
     ]
    },
    {
     "name": "stdout",
     "output_type": "stream",
     "text": [
      "Answers saved to outputs_pipeline/article5_answers03_1.json\n",
      "Answers saved to outputs_pipeline/article5_answers03_1.json\n"
     ]
    },
    {
     "name": "stderr",
     "output_type": "stream",
     "text": [
      "Processing responses:  27%|██▋       | 567/2128 [01:01<06:13,  4.18it/s]"
     ]
    },
    {
     "name": "stdout",
     "output_type": "stream",
     "text": [
      "Answers saved to outputs_pipeline/article5_answers03_1.json\n",
      "Answers saved to outputs_pipeline/article5_answers03_1.json\n"
     ]
    },
    {
     "name": "stderr",
     "output_type": "stream",
     "text": [
      "Processing responses:  27%|██▋       | 569/2128 [01:02<05:56,  4.38it/s]"
     ]
    },
    {
     "name": "stdout",
     "output_type": "stream",
     "text": [
      "Answers saved to outputs_pipeline/article5_answers03_1.json\n"
     ]
    },
    {
     "name": "stderr",
     "output_type": "stream",
     "text": [
      "Processing responses:  27%|██▋       | 570/2128 [01:02<05:49,  4.46it/s]"
     ]
    },
    {
     "name": "stdout",
     "output_type": "stream",
     "text": [
      "Answers saved to outputs_pipeline/article5_answers03_1.json\n"
     ]
    },
    {
     "name": "stderr",
     "output_type": "stream",
     "text": [
      "Processing responses:  27%|██▋       | 571/2128 [01:02<05:45,  4.51it/s]"
     ]
    },
    {
     "name": "stdout",
     "output_type": "stream",
     "text": [
      "Answers saved to outputs_pipeline/article5_answers03_1.json\n"
     ]
    },
    {
     "name": "stderr",
     "output_type": "stream",
     "text": [
      "Processing responses:  27%|██▋       | 572/2128 [01:03<08:10,  3.17it/s]"
     ]
    },
    {
     "name": "stdout",
     "output_type": "stream",
     "text": [
      "Answers saved to outputs_pipeline/article5_answers03_1.json\n"
     ]
    },
    {
     "name": "stderr",
     "output_type": "stream",
     "text": [
      "Processing responses:  27%|██▋       | 573/2128 [01:03<07:24,  3.50it/s]"
     ]
    },
    {
     "name": "stdout",
     "output_type": "stream",
     "text": [
      "Answers saved to outputs_pipeline/article5_answers03_1.json\n"
     ]
    },
    {
     "name": "stderr",
     "output_type": "stream",
     "text": [
      "Processing responses:  27%|██▋       | 574/2128 [01:03<06:53,  3.76it/s]"
     ]
    },
    {
     "name": "stdout",
     "output_type": "stream",
     "text": [
      "Answers saved to outputs_pipeline/article5_answers03_1.json\n"
     ]
    },
    {
     "name": "stderr",
     "output_type": "stream",
     "text": [
      "Processing responses:  27%|██▋       | 575/2128 [01:03<06:30,  3.98it/s]"
     ]
    },
    {
     "name": "stdout",
     "output_type": "stream",
     "text": [
      "Answers saved to outputs_pipeline/article5_answers03_1.json\n"
     ]
    },
    {
     "name": "stderr",
     "output_type": "stream",
     "text": [
      "Processing responses:  27%|██▋       | 576/2128 [01:04<06:14,  4.15it/s]"
     ]
    },
    {
     "name": "stdout",
     "output_type": "stream",
     "text": [
      "Answers saved to outputs_pipeline/article5_answers03_1.json\n"
     ]
    },
    {
     "name": "stderr",
     "output_type": "stream",
     "text": [
      "Processing responses:  27%|██▋       | 577/2128 [01:04<06:13,  4.15it/s]"
     ]
    },
    {
     "name": "stdout",
     "output_type": "stream",
     "text": [
      "Answers saved to outputs_pipeline/article5_answers03_1.json\n"
     ]
    },
    {
     "name": "stderr",
     "output_type": "stream",
     "text": [
      "Processing responses:  27%|██▋       | 578/2128 [01:04<06:03,  4.27it/s]"
     ]
    },
    {
     "name": "stdout",
     "output_type": "stream",
     "text": [
      "Answers saved to outputs_pipeline/article5_answers03_1.json\n"
     ]
    },
    {
     "name": "stderr",
     "output_type": "stream",
     "text": [
      "Processing responses:  27%|██▋       | 579/2128 [01:04<05:56,  4.34it/s]"
     ]
    },
    {
     "name": "stdout",
     "output_type": "stream",
     "text": [
      "Answers saved to outputs_pipeline/article5_answers03_1.json\n"
     ]
    },
    {
     "name": "stderr",
     "output_type": "stream",
     "text": [
      "Processing responses:  27%|██▋       | 580/2128 [01:04<06:02,  4.26it/s]"
     ]
    },
    {
     "name": "stdout",
     "output_type": "stream",
     "text": [
      "Answers saved to outputs_pipeline/article5_answers03_1.json\n"
     ]
    },
    {
     "name": "stderr",
     "output_type": "stream",
     "text": [
      "Processing responses:  27%|██▋       | 581/2128 [01:05<05:56,  4.34it/s]"
     ]
    },
    {
     "name": "stdout",
     "output_type": "stream",
     "text": [
      "Answers saved to outputs_pipeline/article5_answers03_1.json\n"
     ]
    },
    {
     "name": "stderr",
     "output_type": "stream",
     "text": [
      "Processing responses:  27%|██▋       | 582/2128 [01:05<05:56,  4.34it/s]"
     ]
    },
    {
     "name": "stdout",
     "output_type": "stream",
     "text": [
      "Answers saved to outputs_pipeline/article5_answers03_1.json\n"
     ]
    },
    {
     "name": "stderr",
     "output_type": "stream",
     "text": [
      "Processing responses:  27%|██▋       | 583/2128 [01:05<05:51,  4.39it/s]"
     ]
    },
    {
     "name": "stdout",
     "output_type": "stream",
     "text": [
      "Answers saved to outputs_pipeline/article5_answers03_1.json\n"
     ]
    },
    {
     "name": "stderr",
     "output_type": "stream",
     "text": [
      "Processing responses:  27%|██▋       | 584/2128 [01:05<05:49,  4.41it/s]"
     ]
    },
    {
     "name": "stdout",
     "output_type": "stream",
     "text": [
      "Answers saved to outputs_pipeline/article5_answers03_1.json\n"
     ]
    },
    {
     "name": "stderr",
     "output_type": "stream",
     "text": [
      "Processing responses:  27%|██▋       | 585/2128 [01:06<05:49,  4.42it/s]"
     ]
    },
    {
     "name": "stdout",
     "output_type": "stream",
     "text": [
      "Answers saved to outputs_pipeline/article5_answers03_1.json\n"
     ]
    },
    {
     "name": "stderr",
     "output_type": "stream",
     "text": [
      "Processing responses:  28%|██▊       | 586/2128 [01:06<05:49,  4.41it/s]"
     ]
    },
    {
     "name": "stdout",
     "output_type": "stream",
     "text": [
      "Answers saved to outputs_pipeline/article5_answers03_1.json\n"
     ]
    },
    {
     "name": "stderr",
     "output_type": "stream",
     "text": [
      "Processing responses:  28%|██▊       | 587/2128 [01:06<05:48,  4.42it/s]"
     ]
    },
    {
     "name": "stdout",
     "output_type": "stream",
     "text": [
      "Answers saved to outputs_pipeline/article5_answers03_1.json\n"
     ]
    },
    {
     "name": "stderr",
     "output_type": "stream",
     "text": [
      "Processing responses:  28%|██▊       | 588/2128 [01:06<05:50,  4.40it/s]"
     ]
    },
    {
     "name": "stdout",
     "output_type": "stream",
     "text": [
      "Answers saved to outputs_pipeline/article5_answers03_1.json\n"
     ]
    },
    {
     "name": "stderr",
     "output_type": "stream",
     "text": [
      "Processing responses:  28%|██▊       | 589/2128 [01:07<06:20,  4.05it/s]"
     ]
    },
    {
     "name": "stdout",
     "output_type": "stream",
     "text": [
      "Answers saved to outputs_pipeline/article5_answers03_1.json\n"
     ]
    },
    {
     "name": "stderr",
     "output_type": "stream",
     "text": [
      "Processing responses:  28%|██▊       | 590/2128 [01:07<06:10,  4.15it/s]"
     ]
    },
    {
     "name": "stdout",
     "output_type": "stream",
     "text": [
      "Answers saved to outputs_pipeline/article5_answers03_1.json\n"
     ]
    },
    {
     "name": "stderr",
     "output_type": "stream",
     "text": [
      "Processing responses:  28%|██▊       | 591/2128 [01:07<06:17,  4.07it/s]"
     ]
    },
    {
     "name": "stdout",
     "output_type": "stream",
     "text": [
      "Answers saved to outputs_pipeline/article5_answers03_1.json\n"
     ]
    },
    {
     "name": "stderr",
     "output_type": "stream",
     "text": [
      "Processing responses:  28%|██▊       | 592/2128 [01:07<06:08,  4.17it/s]"
     ]
    },
    {
     "name": "stdout",
     "output_type": "stream",
     "text": [
      "Answers saved to outputs_pipeline/article5_answers03_1.json\n"
     ]
    },
    {
     "name": "stderr",
     "output_type": "stream",
     "text": [
      "Processing responses:  28%|██▊       | 593/2128 [01:08<06:01,  4.25it/s]"
     ]
    },
    {
     "name": "stdout",
     "output_type": "stream",
     "text": [
      "Answers saved to outputs_pipeline/article5_answers03_1.json\n"
     ]
    },
    {
     "name": "stderr",
     "output_type": "stream",
     "text": [
      "Processing responses:  28%|██▊       | 594/2128 [01:08<05:57,  4.29it/s]"
     ]
    },
    {
     "name": "stdout",
     "output_type": "stream",
     "text": [
      "Answers saved to outputs_pipeline/article5_answers03_1.json\n"
     ]
    },
    {
     "name": "stderr",
     "output_type": "stream",
     "text": [
      "Processing responses:  28%|██▊       | 595/2128 [01:08<07:21,  3.48it/s]"
     ]
    },
    {
     "name": "stdout",
     "output_type": "stream",
     "text": [
      "Answers saved to outputs_pipeline/article5_answers03_1.json\n"
     ]
    },
    {
     "name": "stderr",
     "output_type": "stream",
     "text": [
      "Processing responses:  28%|██▊       | 596/2128 [01:08<06:53,  3.70it/s]"
     ]
    },
    {
     "name": "stdout",
     "output_type": "stream",
     "text": [
      "Answers saved to outputs_pipeline/article5_answers03_1.json\n"
     ]
    },
    {
     "name": "stderr",
     "output_type": "stream",
     "text": [
      "Processing responses:  28%|██▊       | 597/2128 [01:09<06:42,  3.80it/s]"
     ]
    },
    {
     "name": "stdout",
     "output_type": "stream",
     "text": [
      "Answers saved to outputs_pipeline/article5_answers03_1.json\n"
     ]
    },
    {
     "name": "stderr",
     "output_type": "stream",
     "text": [
      "Processing responses:  28%|██▊       | 598/2128 [01:09<06:24,  3.98it/s]"
     ]
    },
    {
     "name": "stdout",
     "output_type": "stream",
     "text": [
      "Answers saved to outputs_pipeline/article5_answers03_1.json\n"
     ]
    },
    {
     "name": "stderr",
     "output_type": "stream",
     "text": [
      "Processing responses:  28%|██▊       | 599/2128 [01:09<06:15,  4.07it/s]"
     ]
    },
    {
     "name": "stdout",
     "output_type": "stream",
     "text": [
      "Answers saved to outputs_pipeline/article5_answers03_1.json\n"
     ]
    },
    {
     "name": "stderr",
     "output_type": "stream",
     "text": [
      "Processing responses:  28%|██▊       | 600/2128 [01:10<07:31,  3.38it/s]"
     ]
    },
    {
     "name": "stdout",
     "output_type": "stream",
     "text": [
      "Answers saved to outputs_pipeline/article5_answers03_1.json\n"
     ]
    },
    {
     "name": "stderr",
     "output_type": "stream",
     "text": [
      "Processing responses:  28%|██▊       | 601/2128 [01:10<07:00,  3.63it/s]"
     ]
    },
    {
     "name": "stdout",
     "output_type": "stream",
     "text": [
      "Answers saved to outputs_pipeline/article5_answers03_1.json\n"
     ]
    },
    {
     "name": "stderr",
     "output_type": "stream",
     "text": [
      "Processing responses:  28%|██▊       | 602/2128 [01:10<06:50,  3.72it/s]"
     ]
    },
    {
     "name": "stdout",
     "output_type": "stream",
     "text": [
      "Answers saved to outputs_pipeline/article5_answers03_1.json\n"
     ]
    },
    {
     "name": "stderr",
     "output_type": "stream",
     "text": [
      "Processing responses:  28%|██▊       | 603/2128 [01:10<06:31,  3.90it/s]"
     ]
    },
    {
     "name": "stdout",
     "output_type": "stream",
     "text": [
      "Answers saved to outputs_pipeline/article5_answers03_1.json\n"
     ]
    },
    {
     "name": "stderr",
     "output_type": "stream",
     "text": [
      "Processing responses:  28%|██▊       | 604/2128 [01:10<06:18,  4.02it/s]"
     ]
    },
    {
     "name": "stdout",
     "output_type": "stream",
     "text": [
      "Answers saved to outputs_pipeline/article5_answers03_1.json\n"
     ]
    },
    {
     "name": "stderr",
     "output_type": "stream",
     "text": [
      "Processing responses:  28%|██▊       | 605/2128 [01:11<06:09,  4.12it/s]"
     ]
    },
    {
     "name": "stdout",
     "output_type": "stream",
     "text": [
      "Answers saved to outputs_pipeline/article5_answers03_1.json\n"
     ]
    },
    {
     "name": "stderr",
     "output_type": "stream",
     "text": [
      "Processing responses:  28%|██▊       | 606/2128 [01:11<06:04,  4.17it/s]"
     ]
    },
    {
     "name": "stdout",
     "output_type": "stream",
     "text": [
      "Answers saved to outputs_pipeline/article5_answers03_1.json\n"
     ]
    },
    {
     "name": "stderr",
     "output_type": "stream",
     "text": [
      "Processing responses:  29%|██▊       | 607/2128 [01:11<06:00,  4.22it/s]"
     ]
    },
    {
     "name": "stdout",
     "output_type": "stream",
     "text": [
      "Answers saved to outputs_pipeline/article5_answers03_1.json\n"
     ]
    },
    {
     "name": "stderr",
     "output_type": "stream",
     "text": [
      "Processing responses:  29%|██▊       | 608/2128 [01:11<05:56,  4.26it/s]"
     ]
    },
    {
     "name": "stdout",
     "output_type": "stream",
     "text": [
      "Answers saved to outputs_pipeline/article5_answers03_1.json\n"
     ]
    },
    {
     "name": "stderr",
     "output_type": "stream",
     "text": [
      "Processing responses:  29%|██▊       | 609/2128 [01:12<05:54,  4.29it/s]"
     ]
    },
    {
     "name": "stdout",
     "output_type": "stream",
     "text": [
      "Answers saved to outputs_pipeline/article5_answers03_1.json\n"
     ]
    },
    {
     "name": "stderr",
     "output_type": "stream",
     "text": [
      "Processing responses:  29%|██▊       | 610/2128 [01:12<05:54,  4.28it/s]"
     ]
    },
    {
     "name": "stdout",
     "output_type": "stream",
     "text": [
      "Answers saved to outputs_pipeline/article5_answers03_1.json\n"
     ]
    },
    {
     "name": "stderr",
     "output_type": "stream",
     "text": [
      "Processing responses:  29%|██▊       | 611/2128 [01:13<11:25,  2.21it/s]"
     ]
    },
    {
     "name": "stdout",
     "output_type": "stream",
     "text": [
      "Answers saved to outputs_pipeline/article5_answers03_1.json\n"
     ]
    },
    {
     "name": "stderr",
     "output_type": "stream",
     "text": [
      "Processing responses:  29%|██▉       | 612/2128 [01:13<09:47,  2.58it/s]"
     ]
    },
    {
     "name": "stdout",
     "output_type": "stream",
     "text": [
      "Answers saved to outputs_pipeline/article5_answers03_1.json\n"
     ]
    },
    {
     "name": "stderr",
     "output_type": "stream",
     "text": [
      "Processing responses:  29%|██▉       | 613/2128 [01:13<09:25,  2.68it/s]"
     ]
    },
    {
     "name": "stdout",
     "output_type": "stream",
     "text": [
      "Answers saved to outputs_pipeline/article5_answers03_1.json\n"
     ]
    },
    {
     "name": "stderr",
     "output_type": "stream",
     "text": [
      "Processing responses:  29%|██▉       | 614/2128 [01:14<08:26,  2.99it/s]"
     ]
    },
    {
     "name": "stdout",
     "output_type": "stream",
     "text": [
      "Answers saved to outputs_pipeline/article5_answers03_1.json\n"
     ]
    },
    {
     "name": "stderr",
     "output_type": "stream",
     "text": [
      "Processing responses:  29%|██▉       | 615/2128 [01:14<07:39,  3.29it/s]"
     ]
    },
    {
     "name": "stdout",
     "output_type": "stream",
     "text": [
      "Answers saved to outputs_pipeline/article5_answers03_1.json\n"
     ]
    },
    {
     "name": "stderr",
     "output_type": "stream",
     "text": [
      "Processing responses:  29%|██▉       | 616/2128 [01:14<07:07,  3.54it/s]"
     ]
    },
    {
     "name": "stdout",
     "output_type": "stream",
     "text": [
      "Answers saved to outputs_pipeline/article5_answers03_1.json\n"
     ]
    },
    {
     "name": "stderr",
     "output_type": "stream",
     "text": [
      "Processing responses:  29%|██▉       | 617/2128 [01:14<06:44,  3.73it/s]"
     ]
    },
    {
     "name": "stdout",
     "output_type": "stream",
     "text": [
      "Answers saved to outputs_pipeline/article5_answers03_1.json\n"
     ]
    },
    {
     "name": "stderr",
     "output_type": "stream",
     "text": [
      "Processing responses:  29%|██▉       | 618/2128 [01:15<06:32,  3.84it/s]"
     ]
    },
    {
     "name": "stdout",
     "output_type": "stream",
     "text": [
      "Answers saved to outputs_pipeline/article5_answers03_1.json\n"
     ]
    },
    {
     "name": "stderr",
     "output_type": "stream",
     "text": [
      "Processing responses:  29%|██▉       | 619/2128 [01:15<07:17,  3.45it/s]"
     ]
    },
    {
     "name": "stdout",
     "output_type": "stream",
     "text": [
      "Answers saved to outputs_pipeline/article5_answers03_1.json\n"
     ]
    },
    {
     "name": "stderr",
     "output_type": "stream",
     "text": [
      "Processing responses:  29%|██▉       | 620/2128 [01:15<06:53,  3.65it/s]"
     ]
    },
    {
     "name": "stdout",
     "output_type": "stream",
     "text": [
      "Answers saved to outputs_pipeline/article5_answers03_1.json\n"
     ]
    },
    {
     "name": "stderr",
     "output_type": "stream",
     "text": [
      "Processing responses:  29%|██▉       | 621/2128 [01:15<06:44,  3.73it/s]"
     ]
    },
    {
     "name": "stdout",
     "output_type": "stream",
     "text": [
      "Answers saved to outputs_pipeline/article5_answers03_1.json\n"
     ]
    },
    {
     "name": "stderr",
     "output_type": "stream",
     "text": [
      "Processing responses:  29%|██▉       | 622/2128 [01:16<06:28,  3.87it/s]"
     ]
    },
    {
     "name": "stdout",
     "output_type": "stream",
     "text": [
      "Answers saved to outputs_pipeline/article5_answers03_1.json\n"
     ]
    },
    {
     "name": "stderr",
     "output_type": "stream",
     "text": [
      "Processing responses:  29%|██▉       | 623/2128 [01:16<06:22,  3.93it/s]"
     ]
    },
    {
     "name": "stdout",
     "output_type": "stream",
     "text": [
      "Answers saved to outputs_pipeline/article5_answers03_1.json\n"
     ]
    },
    {
     "name": "stderr",
     "output_type": "stream",
     "text": [
      "Processing responses:  29%|██▉       | 624/2128 [01:16<06:12,  4.04it/s]"
     ]
    },
    {
     "name": "stdout",
     "output_type": "stream",
     "text": [
      "Answers saved to outputs_pipeline/article5_answers03_1.json\n"
     ]
    },
    {
     "name": "stderr",
     "output_type": "stream",
     "text": [
      "Processing responses:  29%|██▉       | 625/2128 [01:16<06:08,  4.08it/s]"
     ]
    },
    {
     "name": "stdout",
     "output_type": "stream",
     "text": [
      "Answers saved to outputs_pipeline/article5_answers03_1.json\n"
     ]
    },
    {
     "name": "stderr",
     "output_type": "stream",
     "text": [
      "Processing responses:  29%|██▉       | 626/2128 [01:17<06:06,  4.10it/s]"
     ]
    },
    {
     "name": "stdout",
     "output_type": "stream",
     "text": [
      "Answers saved to outputs_pipeline/article5_answers03_1.json\n"
     ]
    },
    {
     "name": "stderr",
     "output_type": "stream",
     "text": [
      "Processing responses:  29%|██▉       | 627/2128 [01:17<06:07,  4.09it/s]"
     ]
    },
    {
     "name": "stdout",
     "output_type": "stream",
     "text": [
      "Answers saved to outputs_pipeline/article5_answers03_1.json\n"
     ]
    },
    {
     "name": "stderr",
     "output_type": "stream",
     "text": [
      "Processing responses:  30%|██▉       | 628/2128 [01:17<06:03,  4.12it/s]"
     ]
    },
    {
     "name": "stdout",
     "output_type": "stream",
     "text": [
      "Answers saved to outputs_pipeline/article5_answers03_1.json\n"
     ]
    },
    {
     "name": "stderr",
     "output_type": "stream",
     "text": [
      "Processing responses:  30%|██▉       | 629/2128 [01:17<06:02,  4.13it/s]"
     ]
    },
    {
     "name": "stdout",
     "output_type": "stream",
     "text": [
      "Answers saved to outputs_pipeline/article5_answers03_1.json\n"
     ]
    },
    {
     "name": "stderr",
     "output_type": "stream",
     "text": [
      "Processing responses:  30%|██▉       | 630/2128 [01:18<06:55,  3.61it/s]"
     ]
    },
    {
     "name": "stdout",
     "output_type": "stream",
     "text": [
      "Answers saved to outputs_pipeline/article5_answers03_1.json\n"
     ]
    },
    {
     "name": "stderr",
     "output_type": "stream",
     "text": [
      "Processing responses:  30%|██▉       | 631/2128 [01:18<06:39,  3.75it/s]"
     ]
    },
    {
     "name": "stdout",
     "output_type": "stream",
     "text": [
      "Answers saved to outputs_pipeline/article5_answers03_1.json\n"
     ]
    },
    {
     "name": "stderr",
     "output_type": "stream",
     "text": [
      "Processing responses:  30%|██▉       | 632/2128 [01:18<06:35,  3.78it/s]"
     ]
    },
    {
     "name": "stdout",
     "output_type": "stream",
     "text": [
      "Answers saved to outputs_pipeline/article5_answers03_1.json\n"
     ]
    },
    {
     "name": "stderr",
     "output_type": "stream",
     "text": [
      "Processing responses:  30%|██▉       | 633/2128 [01:18<06:25,  3.88it/s]"
     ]
    },
    {
     "name": "stdout",
     "output_type": "stream",
     "text": [
      "Answers saved to outputs_pipeline/article5_answers03_1.json\n"
     ]
    },
    {
     "name": "stderr",
     "output_type": "stream",
     "text": [
      "Processing responses:  30%|██▉       | 634/2128 [01:19<06:19,  3.94it/s]"
     ]
    },
    {
     "name": "stdout",
     "output_type": "stream",
     "text": [
      "Answers saved to outputs_pipeline/article5_answers03_1.json\n"
     ]
    },
    {
     "name": "stderr",
     "output_type": "stream",
     "text": [
      "Processing responses:  30%|██▉       | 635/2128 [01:19<06:39,  3.74it/s]"
     ]
    },
    {
     "name": "stdout",
     "output_type": "stream",
     "text": [
      "Answers saved to outputs_pipeline/article5_answers03_1.json\n"
     ]
    },
    {
     "name": "stderr",
     "output_type": "stream",
     "text": [
      "Processing responses:  30%|██▉       | 636/2128 [01:19<06:27,  3.85it/s]"
     ]
    },
    {
     "name": "stdout",
     "output_type": "stream",
     "text": [
      "Answers saved to outputs_pipeline/article5_answers03_1.json\n"
     ]
    },
    {
     "name": "stderr",
     "output_type": "stream",
     "text": [
      "Processing responses:  30%|██▉       | 637/2128 [01:19<06:20,  3.92it/s]"
     ]
    },
    {
     "name": "stdout",
     "output_type": "stream",
     "text": [
      "Answers saved to outputs_pipeline/article5_answers03_1.json\n"
     ]
    },
    {
     "name": "stderr",
     "output_type": "stream",
     "text": [
      "Processing responses:  30%|██▉       | 638/2128 [01:20<06:14,  3.98it/s]"
     ]
    },
    {
     "name": "stdout",
     "output_type": "stream",
     "text": [
      "Answers saved to outputs_pipeline/article5_answers03_1.json\n"
     ]
    },
    {
     "name": "stderr",
     "output_type": "stream",
     "text": [
      "Processing responses:  30%|███       | 639/2128 [01:20<06:11,  4.01it/s]"
     ]
    },
    {
     "name": "stdout",
     "output_type": "stream",
     "text": [
      "Answers saved to outputs_pipeline/article5_answers03_1.json\n"
     ]
    },
    {
     "name": "stderr",
     "output_type": "stream",
     "text": [
      "Processing responses:  30%|███       | 640/2128 [01:20<06:22,  3.89it/s]"
     ]
    },
    {
     "name": "stdout",
     "output_type": "stream",
     "text": [
      "Answers saved to outputs_pipeline/article5_answers03_1.json\n"
     ]
    },
    {
     "name": "stderr",
     "output_type": "stream",
     "text": [
      "Processing responses:  30%|███       | 641/2128 [01:20<06:15,  3.96it/s]"
     ]
    },
    {
     "name": "stdout",
     "output_type": "stream",
     "text": [
      "Answers saved to outputs_pipeline/article5_answers03_1.json\n"
     ]
    },
    {
     "name": "stderr",
     "output_type": "stream",
     "text": [
      "Processing responses:  30%|███       | 642/2128 [01:21<06:14,  3.96it/s]"
     ]
    },
    {
     "name": "stdout",
     "output_type": "stream",
     "text": [
      "Answers saved to outputs_pipeline/article5_answers03_1.json\n"
     ]
    },
    {
     "name": "stderr",
     "output_type": "stream",
     "text": [
      "Processing responses:  30%|███       | 643/2128 [01:21<06:12,  3.98it/s]"
     ]
    },
    {
     "name": "stdout",
     "output_type": "stream",
     "text": [
      "Answers saved to outputs_pipeline/article5_answers03_1.json\n"
     ]
    },
    {
     "name": "stderr",
     "output_type": "stream",
     "text": [
      "Processing responses:  30%|███       | 644/2128 [01:21<06:09,  4.01it/s]"
     ]
    },
    {
     "name": "stdout",
     "output_type": "stream",
     "text": [
      "Answers saved to outputs_pipeline/article5_answers03_1.json\n"
     ]
    },
    {
     "name": "stderr",
     "output_type": "stream",
     "text": [
      "Processing responses:  30%|███       | 645/2128 [01:22<06:58,  3.54it/s]"
     ]
    },
    {
     "name": "stdout",
     "output_type": "stream",
     "text": [
      "Answers saved to outputs_pipeline/article5_answers03_1.json\n"
     ]
    },
    {
     "name": "stderr",
     "output_type": "stream",
     "text": [
      "Processing responses:  30%|███       | 646/2128 [01:22<07:21,  3.36it/s]"
     ]
    },
    {
     "name": "stdout",
     "output_type": "stream",
     "text": [
      "Answers saved to outputs_pipeline/article5_answers03_1.json\n"
     ]
    },
    {
     "name": "stderr",
     "output_type": "stream",
     "text": [
      "Processing responses:  30%|███       | 647/2128 [01:22<06:57,  3.55it/s]"
     ]
    },
    {
     "name": "stdout",
     "output_type": "stream",
     "text": [
      "Answers saved to outputs_pipeline/article5_answers03_1.json\n"
     ]
    },
    {
     "name": "stderr",
     "output_type": "stream",
     "text": [
      "Processing responses:  30%|███       | 648/2128 [01:22<06:43,  3.67it/s]"
     ]
    },
    {
     "name": "stdout",
     "output_type": "stream",
     "text": [
      "Answers saved to outputs_pipeline/article5_answers03_1.json\n"
     ]
    },
    {
     "name": "stderr",
     "output_type": "stream",
     "text": [
      "Processing responses:  30%|███       | 649/2128 [01:23<06:42,  3.68it/s]"
     ]
    },
    {
     "name": "stdout",
     "output_type": "stream",
     "text": [
      "Answers saved to outputs_pipeline/article5_answers03_1.json\n"
     ]
    },
    {
     "name": "stderr",
     "output_type": "stream",
     "text": [
      "Processing responses:  31%|███       | 650/2128 [01:23<06:32,  3.76it/s]"
     ]
    },
    {
     "name": "stdout",
     "output_type": "stream",
     "text": [
      "Answers saved to outputs_pipeline/article5_answers03_1.json\n"
     ]
    },
    {
     "name": "stderr",
     "output_type": "stream",
     "text": [
      "Processing responses:  31%|███       | 651/2128 [01:23<06:26,  3.83it/s]"
     ]
    },
    {
     "name": "stdout",
     "output_type": "stream",
     "text": [
      "Answers saved to outputs_pipeline/article5_answers03_1.json\n"
     ]
    },
    {
     "name": "stderr",
     "output_type": "stream",
     "text": [
      "Processing responses:  31%|███       | 652/2128 [01:23<06:19,  3.89it/s]"
     ]
    },
    {
     "name": "stdout",
     "output_type": "stream",
     "text": [
      "Answers saved to outputs_pipeline/article5_answers03_1.json\n"
     ]
    },
    {
     "name": "stderr",
     "output_type": "stream",
     "text": [
      "Processing responses:  31%|███       | 653/2128 [01:24<06:17,  3.90it/s]"
     ]
    },
    {
     "name": "stdout",
     "output_type": "stream",
     "text": [
      "Answers saved to outputs_pipeline/article5_answers03_1.json\n"
     ]
    },
    {
     "name": "stderr",
     "output_type": "stream",
     "text": [
      "Processing responses:  31%|███       | 654/2128 [01:24<06:15,  3.92it/s]"
     ]
    },
    {
     "name": "stdout",
     "output_type": "stream",
     "text": [
      "Answers saved to outputs_pipeline/article5_answers03_1.json\n"
     ]
    },
    {
     "name": "stderr",
     "output_type": "stream",
     "text": [
      "Processing responses:  31%|███       | 655/2128 [01:24<06:11,  3.97it/s]"
     ]
    },
    {
     "name": "stdout",
     "output_type": "stream",
     "text": [
      "Answers saved to outputs_pipeline/article5_answers03_1.json\n"
     ]
    },
    {
     "name": "stderr",
     "output_type": "stream",
     "text": [
      "Processing responses:  31%|███       | 656/2128 [01:25<06:52,  3.57it/s]"
     ]
    },
    {
     "name": "stdout",
     "output_type": "stream",
     "text": [
      "Answers saved to outputs_pipeline/article5_answers03_1.json\n"
     ]
    },
    {
     "name": "stderr",
     "output_type": "stream",
     "text": [
      "Processing responses:  31%|███       | 657/2128 [01:25<06:41,  3.66it/s]"
     ]
    },
    {
     "name": "stdout",
     "output_type": "stream",
     "text": [
      "Answers saved to outputs_pipeline/article5_answers03_1.json\n"
     ]
    },
    {
     "name": "stderr",
     "output_type": "stream",
     "text": [
      "Processing responses:  31%|███       | 658/2128 [01:25<06:42,  3.65it/s]"
     ]
    },
    {
     "name": "stdout",
     "output_type": "stream",
     "text": [
      "Answers saved to outputs_pipeline/article5_answers03_1.json\n"
     ]
    },
    {
     "name": "stderr",
     "output_type": "stream",
     "text": [
      "Processing responses:  31%|███       | 659/2128 [01:25<06:35,  3.72it/s]"
     ]
    },
    {
     "name": "stdout",
     "output_type": "stream",
     "text": [
      "Answers saved to outputs_pipeline/article5_answers03_1.json\n"
     ]
    },
    {
     "name": "stderr",
     "output_type": "stream",
     "text": [
      "Processing responses:  31%|███       | 660/2128 [01:26<07:10,  3.41it/s]"
     ]
    },
    {
     "name": "stdout",
     "output_type": "stream",
     "text": [
      "Answers saved to outputs_pipeline/article5_answers03_1.json\n"
     ]
    },
    {
     "name": "stderr",
     "output_type": "stream",
     "text": [
      "Processing responses:  31%|███       | 661/2128 [01:26<08:20,  2.93it/s]"
     ]
    },
    {
     "name": "stdout",
     "output_type": "stream",
     "text": [
      "Answers saved to outputs_pipeline/article5_answers03_1.json\n"
     ]
    },
    {
     "name": "stderr",
     "output_type": "stream",
     "text": [
      "Processing responses:  31%|███       | 662/2128 [01:26<07:40,  3.18it/s]"
     ]
    },
    {
     "name": "stdout",
     "output_type": "stream",
     "text": [
      "Answers saved to outputs_pipeline/article5_answers03_1.json\n"
     ]
    },
    {
     "name": "stderr",
     "output_type": "stream",
     "text": [
      "Processing responses:  31%|███       | 663/2128 [01:27<07:13,  3.38it/s]"
     ]
    },
    {
     "name": "stdout",
     "output_type": "stream",
     "text": [
      "Answers saved to outputs_pipeline/article5_answers03_1.json\n"
     ]
    },
    {
     "name": "stderr",
     "output_type": "stream",
     "text": [
      "Processing responses:  31%|███       | 664/2128 [01:27<06:57,  3.51it/s]"
     ]
    },
    {
     "name": "stdout",
     "output_type": "stream",
     "text": [
      "Answers saved to outputs_pipeline/article5_answers03_1.json\n"
     ]
    },
    {
     "name": "stderr",
     "output_type": "stream",
     "text": [
      "Processing responses:  31%|███▏      | 665/2128 [01:27<07:40,  3.18it/s]"
     ]
    },
    {
     "name": "stdout",
     "output_type": "stream",
     "text": [
      "Answers saved to outputs_pipeline/article5_answers03_1.json\n"
     ]
    },
    {
     "name": "stderr",
     "output_type": "stream",
     "text": [
      "Processing responses:  31%|███▏      | 666/2128 [01:28<07:23,  3.30it/s]"
     ]
    },
    {
     "name": "stdout",
     "output_type": "stream",
     "text": [
      "Answers saved to outputs_pipeline/article5_answers03_1.json\n"
     ]
    },
    {
     "name": "stderr",
     "output_type": "stream",
     "text": [
      "Processing responses:  31%|███▏      | 667/2128 [01:28<07:02,  3.46it/s]"
     ]
    },
    {
     "name": "stdout",
     "output_type": "stream",
     "text": [
      "Answers saved to outputs_pipeline/article5_answers03_1.json\n"
     ]
    },
    {
     "name": "stderr",
     "output_type": "stream",
     "text": [
      "Processing responses:  31%|███▏      | 668/2128 [01:28<06:47,  3.58it/s]"
     ]
    },
    {
     "name": "stdout",
     "output_type": "stream",
     "text": [
      "Answers saved to outputs_pipeline/article5_answers03_1.json\n"
     ]
    },
    {
     "name": "stderr",
     "output_type": "stream",
     "text": [
      "Processing responses:  31%|███▏      | 669/2128 [01:28<07:16,  3.34it/s]"
     ]
    },
    {
     "name": "stdout",
     "output_type": "stream",
     "text": [
      "Answers saved to outputs_pipeline/article5_answers03_1.json\n"
     ]
    },
    {
     "name": "stderr",
     "output_type": "stream",
     "text": [
      "Processing responses:  31%|███▏      | 670/2128 [01:29<07:09,  3.40it/s]"
     ]
    },
    {
     "name": "stdout",
     "output_type": "stream",
     "text": [
      "Answers saved to outputs_pipeline/article5_answers03_1.json\n"
     ]
    },
    {
     "name": "stderr",
     "output_type": "stream",
     "text": [
      "Processing responses:  32%|███▏      | 671/2128 [01:29<06:52,  3.53it/s]"
     ]
    },
    {
     "name": "stdout",
     "output_type": "stream",
     "text": [
      "Answers saved to outputs_pipeline/article5_answers03_1.json\n"
     ]
    },
    {
     "name": "stderr",
     "output_type": "stream",
     "text": [
      "Processing responses:  32%|███▏      | 672/2128 [01:29<06:42,  3.62it/s]"
     ]
    },
    {
     "name": "stdout",
     "output_type": "stream",
     "text": [
      "Answers saved to outputs_pipeline/article5_answers03_1.json\n"
     ]
    },
    {
     "name": "stderr",
     "output_type": "stream",
     "text": [
      "Processing responses:  32%|███▏      | 673/2128 [01:29<06:34,  3.69it/s]"
     ]
    },
    {
     "name": "stdout",
     "output_type": "stream",
     "text": [
      "Answers saved to outputs_pipeline/article5_answers03_1.json\n"
     ]
    },
    {
     "name": "stderr",
     "output_type": "stream",
     "text": [
      "Processing responses:  32%|███▏      | 674/2128 [01:30<06:31,  3.72it/s]"
     ]
    },
    {
     "name": "stdout",
     "output_type": "stream",
     "text": [
      "Answers saved to outputs_pipeline/article5_answers03_1.json\n"
     ]
    },
    {
     "name": "stderr",
     "output_type": "stream",
     "text": [
      "Processing responses:  32%|███▏      | 675/2128 [01:30<06:37,  3.65it/s]"
     ]
    },
    {
     "name": "stdout",
     "output_type": "stream",
     "text": [
      "Answers saved to outputs_pipeline/article5_answers03_1.json\n"
     ]
    },
    {
     "name": "stderr",
     "output_type": "stream",
     "text": [
      "Processing responses:  32%|███▏      | 676/2128 [01:30<06:30,  3.71it/s]"
     ]
    },
    {
     "name": "stdout",
     "output_type": "stream",
     "text": [
      "Answers saved to outputs_pipeline/article5_answers03_1.json\n"
     ]
    },
    {
     "name": "stderr",
     "output_type": "stream",
     "text": [
      "Processing responses:  32%|███▏      | 677/2128 [01:31<06:28,  3.73it/s]"
     ]
    },
    {
     "name": "stdout",
     "output_type": "stream",
     "text": [
      "Answers saved to outputs_pipeline/article5_answers03_1.json\n"
     ]
    },
    {
     "name": "stderr",
     "output_type": "stream",
     "text": [
      "Processing responses:  32%|███▏      | 678/2128 [01:31<06:27,  3.74it/s]"
     ]
    },
    {
     "name": "stdout",
     "output_type": "stream",
     "text": [
      "Answers saved to outputs_pipeline/article5_answers03_1.json\n"
     ]
    },
    {
     "name": "stderr",
     "output_type": "stream",
     "text": [
      "Processing responses:  32%|███▏      | 679/2128 [01:31<06:51,  3.52it/s]"
     ]
    },
    {
     "name": "stdout",
     "output_type": "stream",
     "text": [
      "Answers saved to outputs_pipeline/article5_answers03_1.json\n"
     ]
    },
    {
     "name": "stderr",
     "output_type": "stream",
     "text": [
      "Processing responses:  32%|███▏      | 680/2128 [01:31<06:41,  3.61it/s]"
     ]
    },
    {
     "name": "stdout",
     "output_type": "stream",
     "text": [
      "Answers saved to outputs_pipeline/article5_answers03_1.json\n"
     ]
    },
    {
     "name": "stderr",
     "output_type": "stream",
     "text": [
      "Processing responses:  32%|███▏      | 681/2128 [01:32<06:36,  3.65it/s]"
     ]
    },
    {
     "name": "stdout",
     "output_type": "stream",
     "text": [
      "Answers saved to outputs_pipeline/article5_answers03_1.json\n"
     ]
    },
    {
     "name": "stderr",
     "output_type": "stream",
     "text": [
      "Processing responses:  32%|███▏      | 682/2128 [01:32<06:34,  3.67it/s]"
     ]
    },
    {
     "name": "stdout",
     "output_type": "stream",
     "text": [
      "Answers saved to outputs_pipeline/article5_answers03_1.json\n"
     ]
    },
    {
     "name": "stderr",
     "output_type": "stream",
     "text": [
      "Processing responses:  32%|███▏      | 683/2128 [01:32<06:30,  3.70it/s]"
     ]
    },
    {
     "name": "stdout",
     "output_type": "stream",
     "text": [
      "Answers saved to outputs_pipeline/article5_answers03_1.json\n"
     ]
    },
    {
     "name": "stderr",
     "output_type": "stream",
     "text": [
      "Processing responses:  32%|███▏      | 684/2128 [01:32<06:37,  3.63it/s]"
     ]
    },
    {
     "name": "stdout",
     "output_type": "stream",
     "text": [
      "Answers saved to outputs_pipeline/article5_answers03_1.json\n"
     ]
    },
    {
     "name": "stderr",
     "output_type": "stream",
     "text": [
      "Processing responses:  32%|███▏      | 685/2128 [01:33<06:32,  3.67it/s]"
     ]
    },
    {
     "name": "stdout",
     "output_type": "stream",
     "text": [
      "Answers saved to outputs_pipeline/article5_answers03_1.json\n"
     ]
    },
    {
     "name": "stderr",
     "output_type": "stream",
     "text": [
      "Processing responses:  32%|███▏      | 686/2128 [01:33<06:30,  3.70it/s]"
     ]
    },
    {
     "name": "stdout",
     "output_type": "stream",
     "text": [
      "Answers saved to outputs_pipeline/article5_answers03_1.json\n"
     ]
    },
    {
     "name": "stderr",
     "output_type": "stream",
     "text": [
      "Processing responses:  32%|███▏      | 687/2128 [01:33<06:29,  3.70it/s]"
     ]
    },
    {
     "name": "stdout",
     "output_type": "stream",
     "text": [
      "Answers saved to outputs_pipeline/article5_answers03_1.json\n"
     ]
    },
    {
     "name": "stderr",
     "output_type": "stream",
     "text": [
      "Processing responses:  32%|███▏      | 688/2128 [01:34<06:26,  3.72it/s]"
     ]
    },
    {
     "name": "stdout",
     "output_type": "stream",
     "text": [
      "Answers saved to outputs_pipeline/article5_answers03_1.json\n"
     ]
    },
    {
     "name": "stderr",
     "output_type": "stream",
     "text": [
      "Processing responses:  32%|███▏      | 689/2128 [01:34<06:45,  3.55it/s]"
     ]
    },
    {
     "name": "stdout",
     "output_type": "stream",
     "text": [
      "Answers saved to outputs_pipeline/article5_answers03_1.json\n"
     ]
    },
    {
     "name": "stderr",
     "output_type": "stream",
     "text": [
      "Processing responses:  32%|███▏      | 690/2128 [01:34<06:40,  3.59it/s]"
     ]
    },
    {
     "name": "stdout",
     "output_type": "stream",
     "text": [
      "Answers saved to outputs_pipeline/article5_answers03_1.json\n"
     ]
    },
    {
     "name": "stderr",
     "output_type": "stream",
     "text": [
      "Processing responses:  32%|███▏      | 691/2128 [01:34<06:38,  3.61it/s]"
     ]
    },
    {
     "name": "stdout",
     "output_type": "stream",
     "text": [
      "Answers saved to outputs_pipeline/article5_answers03_1.json\n"
     ]
    },
    {
     "name": "stderr",
     "output_type": "stream",
     "text": [
      "Processing responses:  33%|███▎      | 692/2128 [01:35<06:52,  3.48it/s]"
     ]
    },
    {
     "name": "stdout",
     "output_type": "stream",
     "text": [
      "Answers saved to outputs_pipeline/article5_answers03_1.json\n"
     ]
    },
    {
     "name": "stderr",
     "output_type": "stream",
     "text": [
      "Processing responses:  33%|███▎      | 693/2128 [01:35<07:02,  3.40it/s]"
     ]
    },
    {
     "name": "stdout",
     "output_type": "stream",
     "text": [
      "Answers saved to outputs_pipeline/article5_answers03_1.json\n"
     ]
    },
    {
     "name": "stderr",
     "output_type": "stream",
     "text": [
      "Processing responses:  33%|███▎      | 694/2128 [01:35<08:11,  2.92it/s]"
     ]
    },
    {
     "name": "stdout",
     "output_type": "stream",
     "text": [
      "Answers saved to outputs_pipeline/article5_answers03_1.json\n"
     ]
    },
    {
     "name": "stderr",
     "output_type": "stream",
     "text": [
      "Processing responses:  33%|███▎      | 695/2128 [01:36<07:46,  3.07it/s]"
     ]
    },
    {
     "name": "stdout",
     "output_type": "stream",
     "text": [
      "Answers saved to outputs_pipeline/article5_answers03_1.json\n"
     ]
    },
    {
     "name": "stderr",
     "output_type": "stream",
     "text": [
      "Processing responses:  33%|███▎      | 696/2128 [01:36<07:21,  3.24it/s]"
     ]
    },
    {
     "name": "stdout",
     "output_type": "stream",
     "text": [
      "Answers saved to outputs_pipeline/article5_answers03_1.json\n"
     ]
    },
    {
     "name": "stderr",
     "output_type": "stream",
     "text": [
      "Processing responses:  33%|███▎      | 697/2128 [01:36<07:05,  3.36it/s]"
     ]
    },
    {
     "name": "stdout",
     "output_type": "stream",
     "text": [
      "Answers saved to outputs_pipeline/article5_answers03_1.json\n"
     ]
    },
    {
     "name": "stderr",
     "output_type": "stream",
     "text": [
      "Processing responses:  33%|███▎      | 698/2128 [01:37<06:51,  3.48it/s]"
     ]
    },
    {
     "name": "stdout",
     "output_type": "stream",
     "text": [
      "Answers saved to outputs_pipeline/article5_answers03_1.json\n"
     ]
    },
    {
     "name": "stderr",
     "output_type": "stream",
     "text": [
      "Processing responses:  33%|███▎      | 699/2128 [01:37<06:41,  3.56it/s]"
     ]
    },
    {
     "name": "stdout",
     "output_type": "stream",
     "text": [
      "Answers saved to outputs_pipeline/article5_answers03_1.json\n"
     ]
    },
    {
     "name": "stderr",
     "output_type": "stream",
     "text": [
      "Processing responses:  33%|███▎      | 700/2128 [01:37<06:43,  3.54it/s]"
     ]
    },
    {
     "name": "stdout",
     "output_type": "stream",
     "text": [
      "Answers saved to outputs_pipeline/article5_answers03_1.json\n"
     ]
    },
    {
     "name": "stderr",
     "output_type": "stream",
     "text": [
      "Processing responses:  33%|███▎      | 701/2128 [01:37<06:35,  3.61it/s]"
     ]
    },
    {
     "name": "stdout",
     "output_type": "stream",
     "text": [
      "Answers saved to outputs_pipeline/article5_answers03_1.json\n"
     ]
    },
    {
     "name": "stderr",
     "output_type": "stream",
     "text": [
      "Processing responses:  33%|███▎      | 702/2128 [01:38<06:30,  3.65it/s]"
     ]
    },
    {
     "name": "stdout",
     "output_type": "stream",
     "text": [
      "Answers saved to outputs_pipeline/article5_answers03_1.json\n"
     ]
    },
    {
     "name": "stderr",
     "output_type": "stream",
     "text": [
      "Processing responses:  33%|███▎      | 703/2128 [01:38<06:33,  3.62it/s]"
     ]
    },
    {
     "name": "stdout",
     "output_type": "stream",
     "text": [
      "Answers saved to outputs_pipeline/article5_answers03_1.json\n"
     ]
    },
    {
     "name": "stderr",
     "output_type": "stream",
     "text": [
      "Processing responses:  33%|███▎      | 704/2128 [01:38<06:29,  3.66it/s]"
     ]
    },
    {
     "name": "stdout",
     "output_type": "stream",
     "text": [
      "Answers saved to outputs_pipeline/article5_answers03_1.json\n"
     ]
    },
    {
     "name": "stderr",
     "output_type": "stream",
     "text": [
      "Processing responses:  33%|███▎      | 705/2128 [01:38<06:29,  3.65it/s]"
     ]
    },
    {
     "name": "stdout",
     "output_type": "stream",
     "text": [
      "Answers saved to outputs_pipeline/article5_answers03_1.json\n"
     ]
    },
    {
     "name": "stderr",
     "output_type": "stream",
     "text": [
      "Processing responses:  33%|███▎      | 706/2128 [01:39<06:26,  3.68it/s]"
     ]
    },
    {
     "name": "stdout",
     "output_type": "stream",
     "text": [
      "Answers saved to outputs_pipeline/article5_answers03_1.json\n"
     ]
    },
    {
     "name": "stderr",
     "output_type": "stream",
     "text": [
      "Processing responses:  33%|███▎      | 707/2128 [01:39<06:24,  3.69it/s]"
     ]
    },
    {
     "name": "stdout",
     "output_type": "stream",
     "text": [
      "Answers saved to outputs_pipeline/article5_answers03_1.json\n"
     ]
    },
    {
     "name": "stderr",
     "output_type": "stream",
     "text": [
      "Processing responses:  33%|███▎      | 708/2128 [01:39<06:35,  3.59it/s]"
     ]
    },
    {
     "name": "stdout",
     "output_type": "stream",
     "text": [
      "Answers saved to outputs_pipeline/article5_answers03_1.json\n"
     ]
    },
    {
     "name": "stderr",
     "output_type": "stream",
     "text": [
      "Processing responses:  33%|███▎      | 709/2128 [01:40<06:36,  3.58it/s]"
     ]
    },
    {
     "name": "stdout",
     "output_type": "stream",
     "text": [
      "Answers saved to outputs_pipeline/article5_answers03_1.json\n"
     ]
    },
    {
     "name": "stderr",
     "output_type": "stream",
     "text": [
      "Processing responses:  33%|███▎      | 710/2128 [01:40<06:31,  3.62it/s]"
     ]
    },
    {
     "name": "stdout",
     "output_type": "stream",
     "text": [
      "Answers saved to outputs_pipeline/article5_answers03_1.json\n"
     ]
    },
    {
     "name": "stderr",
     "output_type": "stream",
     "text": [
      "Processing responses:  33%|███▎      | 711/2128 [01:40<06:28,  3.64it/s]"
     ]
    },
    {
     "name": "stdout",
     "output_type": "stream",
     "text": [
      "Answers saved to outputs_pipeline/article5_answers03_1.json\n"
     ]
    },
    {
     "name": "stderr",
     "output_type": "stream",
     "text": [
      "Processing responses:  33%|███▎      | 712/2128 [01:40<06:30,  3.63it/s]"
     ]
    },
    {
     "name": "stdout",
     "output_type": "stream",
     "text": [
      "Answers saved to outputs_pipeline/article5_answers03_1.json\n"
     ]
    },
    {
     "name": "stderr",
     "output_type": "stream",
     "text": [
      "Processing responses:  34%|███▎      | 713/2128 [01:41<07:05,  3.32it/s]"
     ]
    },
    {
     "name": "stdout",
     "output_type": "stream",
     "text": [
      "Answers saved to outputs_pipeline/article5_answers03_1.json\n"
     ]
    },
    {
     "name": "stderr",
     "output_type": "stream",
     "text": [
      "Processing responses:  34%|███▎      | 714/2128 [01:41<06:52,  3.42it/s]"
     ]
    },
    {
     "name": "stdout",
     "output_type": "stream",
     "text": [
      "Answers saved to outputs_pipeline/article5_answers03_1.json\n"
     ]
    },
    {
     "name": "stderr",
     "output_type": "stream",
     "text": [
      "Processing responses:  34%|███▎      | 715/2128 [01:41<06:44,  3.49it/s]"
     ]
    },
    {
     "name": "stdout",
     "output_type": "stream",
     "text": [
      "Answers saved to outputs_pipeline/article5_answers03_1.json\n"
     ]
    },
    {
     "name": "stderr",
     "output_type": "stream",
     "text": [
      "Processing responses:  34%|███▎      | 716/2128 [01:42<06:49,  3.45it/s]"
     ]
    },
    {
     "name": "stdout",
     "output_type": "stream",
     "text": [
      "Answers saved to outputs_pipeline/article5_answers03_1.json\n"
     ]
    },
    {
     "name": "stderr",
     "output_type": "stream",
     "text": [
      "Processing responses:  34%|███▎      | 717/2128 [01:42<06:43,  3.50it/s]"
     ]
    },
    {
     "name": "stdout",
     "output_type": "stream",
     "text": [
      "Answers saved to outputs_pipeline/article5_answers03_1.json\n"
     ]
    },
    {
     "name": "stderr",
     "output_type": "stream",
     "text": [
      "Processing responses:  34%|███▎      | 718/2128 [01:42<07:32,  3.11it/s]"
     ]
    },
    {
     "name": "stdout",
     "output_type": "stream",
     "text": [
      "Answers saved to outputs_pipeline/article5_answers03_1.json\n"
     ]
    },
    {
     "name": "stderr",
     "output_type": "stream",
     "text": [
      "Processing responses:  34%|███▍      | 719/2128 [01:43<07:12,  3.26it/s]"
     ]
    },
    {
     "name": "stdout",
     "output_type": "stream",
     "text": [
      "Answers saved to outputs_pipeline/article5_answers03_1.json\n"
     ]
    },
    {
     "name": "stderr",
     "output_type": "stream",
     "text": [
      "Processing responses:  34%|███▍      | 720/2128 [01:43<07:02,  3.34it/s]"
     ]
    },
    {
     "name": "stdout",
     "output_type": "stream",
     "text": [
      "Answers saved to outputs_pipeline/article5_answers03_1.json\n"
     ]
    },
    {
     "name": "stderr",
     "output_type": "stream",
     "text": [
      "Processing responses:  34%|███▍      | 721/2128 [01:43<06:54,  3.39it/s]"
     ]
    },
    {
     "name": "stdout",
     "output_type": "stream",
     "text": [
      "Answers saved to outputs_pipeline/article5_answers03_1.json\n"
     ]
    },
    {
     "name": "stderr",
     "output_type": "stream",
     "text": [
      "Processing responses:  34%|███▍      | 722/2128 [01:43<06:48,  3.44it/s]"
     ]
    },
    {
     "name": "stdout",
     "output_type": "stream",
     "text": [
      "Answers saved to outputs_pipeline/article5_answers03_1.json\n"
     ]
    },
    {
     "name": "stderr",
     "output_type": "stream",
     "text": [
      "Processing responses:  34%|███▍      | 723/2128 [01:44<06:42,  3.49it/s]"
     ]
    },
    {
     "name": "stdout",
     "output_type": "stream",
     "text": [
      "Answers saved to outputs_pipeline/article5_answers03_1.json\n"
     ]
    },
    {
     "name": "stderr",
     "output_type": "stream",
     "text": [
      "Processing responses:  34%|███▍      | 724/2128 [01:44<06:47,  3.44it/s]"
     ]
    },
    {
     "name": "stdout",
     "output_type": "stream",
     "text": [
      "Answers saved to outputs_pipeline/article5_answers03_1.json\n"
     ]
    },
    {
     "name": "stderr",
     "output_type": "stream",
     "text": [
      "Processing responses:  34%|███▍      | 725/2128 [01:44<06:40,  3.50it/s]"
     ]
    },
    {
     "name": "stdout",
     "output_type": "stream",
     "text": [
      "Answers saved to outputs_pipeline/article5_answers03_1.json\n"
     ]
    },
    {
     "name": "stderr",
     "output_type": "stream",
     "text": [
      "Processing responses:  34%|███▍      | 726/2128 [01:45<06:36,  3.53it/s]"
     ]
    },
    {
     "name": "stdout",
     "output_type": "stream",
     "text": [
      "Answers saved to outputs_pipeline/article5_answers03_1.json\n"
     ]
    },
    {
     "name": "stderr",
     "output_type": "stream",
     "text": [
      "Processing responses:  34%|███▍      | 727/2128 [01:45<07:38,  3.06it/s]"
     ]
    },
    {
     "name": "stdout",
     "output_type": "stream",
     "text": [
      "Answers saved to outputs_pipeline/article5_answers03_1.json\n"
     ]
    },
    {
     "name": "stderr",
     "output_type": "stream",
     "text": [
      "Processing responses:  34%|███▍      | 728/2128 [01:45<07:18,  3.19it/s]"
     ]
    },
    {
     "name": "stdout",
     "output_type": "stream",
     "text": [
      "Answers saved to outputs_pipeline/article5_answers03_1.json\n"
     ]
    },
    {
     "name": "stderr",
     "output_type": "stream",
     "text": [
      "Processing responses:  34%|███▍      | 729/2128 [01:46<07:05,  3.29it/s]"
     ]
    },
    {
     "name": "stdout",
     "output_type": "stream",
     "text": [
      "Answers saved to outputs_pipeline/article5_answers03_1.json\n"
     ]
    },
    {
     "name": "stderr",
     "output_type": "stream",
     "text": [
      "Processing responses:  34%|███▍      | 730/2128 [01:46<06:56,  3.36it/s]"
     ]
    },
    {
     "name": "stdout",
     "output_type": "stream",
     "text": [
      "Answers saved to outputs_pipeline/article5_answers03_1.json\n"
     ]
    },
    {
     "name": "stderr",
     "output_type": "stream",
     "text": [
      "Processing responses:  34%|███▍      | 731/2128 [01:46<06:58,  3.34it/s]"
     ]
    },
    {
     "name": "stdout",
     "output_type": "stream",
     "text": [
      "Answers saved to outputs_pipeline/article5_answers03_1.json\n"
     ]
    },
    {
     "name": "stderr",
     "output_type": "stream",
     "text": [
      "Processing responses:  34%|███▍      | 732/2128 [01:46<06:59,  3.33it/s]"
     ]
    },
    {
     "name": "stdout",
     "output_type": "stream",
     "text": [
      "Answers saved to outputs_pipeline/article5_answers03_1.json\n"
     ]
    },
    {
     "name": "stderr",
     "output_type": "stream",
     "text": [
      "Processing responses:  34%|███▍      | 733/2128 [01:47<06:51,  3.39it/s]"
     ]
    },
    {
     "name": "stdout",
     "output_type": "stream",
     "text": [
      "Answers saved to outputs_pipeline/article5_answers03_1.json\n"
     ]
    },
    {
     "name": "stderr",
     "output_type": "stream",
     "text": [
      "Processing responses:  34%|███▍      | 734/2128 [01:47<06:45,  3.44it/s]"
     ]
    },
    {
     "name": "stdout",
     "output_type": "stream",
     "text": [
      "Answers saved to outputs_pipeline/article5_answers03_1.json\n"
     ]
    },
    {
     "name": "stderr",
     "output_type": "stream",
     "text": [
      "Processing responses:  35%|███▍      | 735/2128 [01:47<06:42,  3.46it/s]"
     ]
    },
    {
     "name": "stdout",
     "output_type": "stream",
     "text": [
      "Answers saved to outputs_pipeline/article5_answers03_1.json\n"
     ]
    },
    {
     "name": "stderr",
     "output_type": "stream",
     "text": [
      "Processing responses:  35%|███▍      | 736/2128 [01:48<06:42,  3.46it/s]"
     ]
    },
    {
     "name": "stdout",
     "output_type": "stream",
     "text": [
      "Answers saved to outputs_pipeline/article5_answers03_1.json\n"
     ]
    },
    {
     "name": "stderr",
     "output_type": "stream",
     "text": [
      "Processing responses:  35%|███▍      | 737/2128 [01:48<06:41,  3.47it/s]"
     ]
    },
    {
     "name": "stdout",
     "output_type": "stream",
     "text": [
      "Answers saved to outputs_pipeline/article5_answers03_1.json\n"
     ]
    },
    {
     "name": "stderr",
     "output_type": "stream",
     "text": [
      "Processing responses:  35%|███▍      | 738/2128 [01:48<06:38,  3.49it/s]"
     ]
    },
    {
     "name": "stdout",
     "output_type": "stream",
     "text": [
      "Answers saved to outputs_pipeline/article5_answers03_1.json\n"
     ]
    },
    {
     "name": "stderr",
     "output_type": "stream",
     "text": [
      "Processing responses:  35%|███▍      | 739/2128 [01:48<06:37,  3.50it/s]"
     ]
    },
    {
     "name": "stdout",
     "output_type": "stream",
     "text": [
      "Answers saved to outputs_pipeline/article5_answers03_1.json\n"
     ]
    },
    {
     "name": "stderr",
     "output_type": "stream",
     "text": [
      "Processing responses:  35%|███▍      | 740/2128 [01:49<06:48,  3.40it/s]"
     ]
    },
    {
     "name": "stdout",
     "output_type": "stream",
     "text": [
      "Answers saved to outputs_pipeline/article5_answers03_1.json\n"
     ]
    },
    {
     "name": "stderr",
     "output_type": "stream",
     "text": [
      "Processing responses:  35%|███▍      | 741/2128 [01:49<06:44,  3.43it/s]"
     ]
    },
    {
     "name": "stdout",
     "output_type": "stream",
     "text": [
      "Answers saved to outputs_pipeline/article5_answers03_1.json\n"
     ]
    },
    {
     "name": "stderr",
     "output_type": "stream",
     "text": [
      "Processing responses:  35%|███▍      | 742/2128 [01:49<06:42,  3.45it/s]"
     ]
    },
    {
     "name": "stdout",
     "output_type": "stream",
     "text": [
      "Answers saved to outputs_pipeline/article5_answers03_1.json\n"
     ]
    },
    {
     "name": "stderr",
     "output_type": "stream",
     "text": [
      "Processing responses:  35%|███▍      | 743/2128 [01:50<07:48,  2.95it/s]"
     ]
    },
    {
     "name": "stdout",
     "output_type": "stream",
     "text": [
      "Answers saved to outputs_pipeline/article5_answers03_1.json\n"
     ]
    },
    {
     "name": "stderr",
     "output_type": "stream",
     "text": [
      "Processing responses:  35%|███▍      | 744/2128 [01:50<07:27,  3.09it/s]"
     ]
    },
    {
     "name": "stdout",
     "output_type": "stream",
     "text": [
      "Answers saved to outputs_pipeline/article5_answers03_1.json\n"
     ]
    },
    {
     "name": "stderr",
     "output_type": "stream",
     "text": [
      "Processing responses:  35%|███▌      | 745/2128 [01:50<07:13,  3.19it/s]"
     ]
    },
    {
     "name": "stdout",
     "output_type": "stream",
     "text": [
      "Answers saved to outputs_pipeline/article5_answers03_1.json\n"
     ]
    },
    {
     "name": "stderr",
     "output_type": "stream",
     "text": [
      "Processing responses:  35%|███▌      | 746/2128 [01:51<07:03,  3.26it/s]"
     ]
    },
    {
     "name": "stdout",
     "output_type": "stream",
     "text": [
      "Answers saved to outputs_pipeline/article5_answers03_1.json\n"
     ]
    },
    {
     "name": "stderr",
     "output_type": "stream",
     "text": [
      "Processing responses:  35%|███▌      | 747/2128 [01:51<07:02,  3.27it/s]"
     ]
    },
    {
     "name": "stdout",
     "output_type": "stream",
     "text": [
      "Answers saved to outputs_pipeline/article5_answers03_1.json\n"
     ]
    },
    {
     "name": "stderr",
     "output_type": "stream",
     "text": [
      "Processing responses:  35%|███▌      | 748/2128 [01:51<06:56,  3.31it/s]"
     ]
    },
    {
     "name": "stdout",
     "output_type": "stream",
     "text": [
      "Answers saved to outputs_pipeline/article5_answers03_1.json\n"
     ]
    },
    {
     "name": "stderr",
     "output_type": "stream",
     "text": [
      "Processing responses:  35%|███▌      | 749/2128 [01:52<07:15,  3.16it/s]"
     ]
    },
    {
     "name": "stdout",
     "output_type": "stream",
     "text": [
      "Answers saved to outputs_pipeline/article5_answers03_1.json\n"
     ]
    },
    {
     "name": "stderr",
     "output_type": "stream",
     "text": [
      "Processing responses:  35%|███▌      | 750/2128 [01:52<08:01,  2.86it/s]"
     ]
    },
    {
     "name": "stdout",
     "output_type": "stream",
     "text": [
      "Answers saved to outputs_pipeline/article5_answers03_1.json\n"
     ]
    },
    {
     "name": "stderr",
     "output_type": "stream",
     "text": [
      "Processing responses:  35%|███▌      | 751/2128 [01:52<07:34,  3.03it/s]"
     ]
    },
    {
     "name": "stdout",
     "output_type": "stream",
     "text": [
      "Answers saved to outputs_pipeline/article5_answers03_1.json\n"
     ]
    },
    {
     "name": "stderr",
     "output_type": "stream",
     "text": [
      "Processing responses:  35%|███▌      | 752/2128 [01:53<07:17,  3.14it/s]"
     ]
    },
    {
     "name": "stdout",
     "output_type": "stream",
     "text": [
      "Answers saved to outputs_pipeline/article5_answers03_1.json\n"
     ]
    },
    {
     "name": "stderr",
     "output_type": "stream",
     "text": [
      "Processing responses:  35%|███▌      | 753/2128 [01:53<07:44,  2.96it/s]"
     ]
    },
    {
     "name": "stdout",
     "output_type": "stream",
     "text": [
      "Answers saved to outputs_pipeline/article5_answers03_1.json\n"
     ]
    },
    {
     "name": "stderr",
     "output_type": "stream",
     "text": [
      "Processing responses:  35%|███▌      | 754/2128 [01:53<08:02,  2.85it/s]"
     ]
    },
    {
     "name": "stdout",
     "output_type": "stream",
     "text": [
      "Answers saved to outputs_pipeline/article5_answers03_1.json\n"
     ]
    },
    {
     "name": "stderr",
     "output_type": "stream",
     "text": [
      "Processing responses:  35%|███▌      | 755/2128 [01:54<07:40,  2.98it/s]"
     ]
    },
    {
     "name": "stdout",
     "output_type": "stream",
     "text": [
      "Answers saved to outputs_pipeline/article5_answers03_1.json\n"
     ]
    },
    {
     "name": "stderr",
     "output_type": "stream",
     "text": [
      "Processing responses:  36%|███▌      | 756/2128 [01:54<07:30,  3.05it/s]"
     ]
    },
    {
     "name": "stdout",
     "output_type": "stream",
     "text": [
      "Answers saved to outputs_pipeline/article5_answers03_1.json\n"
     ]
    },
    {
     "name": "stderr",
     "output_type": "stream",
     "text": [
      "Processing responses:  36%|███▌      | 757/2128 [01:54<07:39,  2.99it/s]"
     ]
    },
    {
     "name": "stdout",
     "output_type": "stream",
     "text": [
      "Answers saved to outputs_pipeline/article5_answers03_1.json\n"
     ]
    },
    {
     "name": "stderr",
     "output_type": "stream",
     "text": [
      "Processing responses:  36%|███▌      | 758/2128 [01:55<08:07,  2.81it/s]"
     ]
    },
    {
     "name": "stdout",
     "output_type": "stream",
     "text": [
      "Answers saved to outputs_pipeline/article5_answers03_1.json\n"
     ]
    },
    {
     "name": "stderr",
     "output_type": "stream",
     "text": [
      "Processing responses:  36%|███▌      | 759/2128 [01:55<07:39,  2.98it/s]"
     ]
    },
    {
     "name": "stdout",
     "output_type": "stream",
     "text": [
      "Answers saved to outputs_pipeline/article5_answers03_1.json\n"
     ]
    },
    {
     "name": "stderr",
     "output_type": "stream",
     "text": [
      "Processing responses:  36%|███▌      | 760/2128 [01:55<07:21,  3.10it/s]"
     ]
    },
    {
     "name": "stdout",
     "output_type": "stream",
     "text": [
      "Answers saved to outputs_pipeline/article5_answers03_1.json\n"
     ]
    },
    {
     "name": "stderr",
     "output_type": "stream",
     "text": [
      "Processing responses:  36%|███▌      | 761/2128 [01:56<07:43,  2.95it/s]"
     ]
    },
    {
     "name": "stdout",
     "output_type": "stream",
     "text": [
      "Answers saved to outputs_pipeline/article5_answers03_1.json\n"
     ]
    },
    {
     "name": "stderr",
     "output_type": "stream",
     "text": [
      "Processing responses:  36%|███▌      | 762/2128 [01:56<07:49,  2.91it/s]"
     ]
    },
    {
     "name": "stdout",
     "output_type": "stream",
     "text": [
      "Answers saved to outputs_pipeline/article5_answers03_1.json\n"
     ]
    },
    {
     "name": "stderr",
     "output_type": "stream",
     "text": [
      "Processing responses:  36%|███▌      | 763/2128 [01:56<07:31,  3.02it/s]"
     ]
    },
    {
     "name": "stdout",
     "output_type": "stream",
     "text": [
      "Answers saved to outputs_pipeline/article5_answers03_1.json\n"
     ]
    },
    {
     "name": "stderr",
     "output_type": "stream",
     "text": [
      "Processing responses:  36%|███▌      | 764/2128 [01:57<07:23,  3.07it/s]"
     ]
    },
    {
     "name": "stdout",
     "output_type": "stream",
     "text": [
      "Answers saved to outputs_pipeline/article5_answers03_1.json\n"
     ]
    },
    {
     "name": "stderr",
     "output_type": "stream",
     "text": [
      "Processing responses:  36%|███▌      | 765/2128 [01:57<07:14,  3.14it/s]"
     ]
    },
    {
     "name": "stdout",
     "output_type": "stream",
     "text": [
      "Answers saved to outputs_pipeline/article5_answers03_1.json\n"
     ]
    },
    {
     "name": "stderr",
     "output_type": "stream",
     "text": [
      "Processing responses:  36%|███▌      | 766/2128 [01:57<07:04,  3.21it/s]"
     ]
    },
    {
     "name": "stdout",
     "output_type": "stream",
     "text": [
      "Answers saved to outputs_pipeline/article5_answers03_1.json\n"
     ]
    },
    {
     "name": "stderr",
     "output_type": "stream",
     "text": [
      "Processing responses:  36%|███▌      | 767/2128 [01:57<06:56,  3.27it/s]"
     ]
    },
    {
     "name": "stdout",
     "output_type": "stream",
     "text": [
      "Answers saved to outputs_pipeline/article5_answers03_1.json\n"
     ]
    },
    {
     "name": "stderr",
     "output_type": "stream",
     "text": [
      "Processing responses:  36%|███▌      | 768/2128 [01:58<06:53,  3.29it/s]"
     ]
    },
    {
     "name": "stdout",
     "output_type": "stream",
     "text": [
      "Answers saved to outputs_pipeline/article5_answers03_1.json\n"
     ]
    },
    {
     "name": "stderr",
     "output_type": "stream",
     "text": [
      "Processing responses:  36%|███▌      | 769/2128 [01:58<06:50,  3.31it/s]"
     ]
    },
    {
     "name": "stdout",
     "output_type": "stream",
     "text": [
      "Answers saved to outputs_pipeline/article5_answers03_1.json\n"
     ]
    },
    {
     "name": "stderr",
     "output_type": "stream",
     "text": [
      "Processing responses:  36%|███▌      | 770/2128 [01:58<06:48,  3.32it/s]"
     ]
    },
    {
     "name": "stdout",
     "output_type": "stream",
     "text": [
      "Answers saved to outputs_pipeline/article5_answers03_1.json\n"
     ]
    },
    {
     "name": "stderr",
     "output_type": "stream",
     "text": [
      "Processing responses:  36%|███▌      | 771/2128 [01:59<06:47,  3.33it/s]"
     ]
    },
    {
     "name": "stdout",
     "output_type": "stream",
     "text": [
      "Answers saved to outputs_pipeline/article5_answers03_1.json\n"
     ]
    },
    {
     "name": "stderr",
     "output_type": "stream",
     "text": [
      "Processing responses:  36%|███▋      | 772/2128 [01:59<06:54,  3.27it/s]"
     ]
    },
    {
     "name": "stdout",
     "output_type": "stream",
     "text": [
      "Answers saved to outputs_pipeline/article5_answers03_1.json\n"
     ]
    },
    {
     "name": "stderr",
     "output_type": "stream",
     "text": [
      "Processing responses:  36%|███▋      | 773/2128 [01:59<06:50,  3.30it/s]"
     ]
    },
    {
     "name": "stdout",
     "output_type": "stream",
     "text": [
      "Answers saved to outputs_pipeline/article5_answers03_1.json\n"
     ]
    },
    {
     "name": "stderr",
     "output_type": "stream",
     "text": [
      "Processing responses:  36%|███▋      | 774/2128 [02:00<06:49,  3.31it/s]"
     ]
    },
    {
     "name": "stdout",
     "output_type": "stream",
     "text": [
      "Answers saved to outputs_pipeline/article5_answers03_1.json\n"
     ]
    },
    {
     "name": "stderr",
     "output_type": "stream",
     "text": [
      "Processing responses:  36%|███▋      | 775/2128 [02:00<06:48,  3.31it/s]"
     ]
    },
    {
     "name": "stdout",
     "output_type": "stream",
     "text": [
      "Answers saved to outputs_pipeline/article5_answers03_1.json\n"
     ]
    },
    {
     "name": "stderr",
     "output_type": "stream",
     "text": [
      "Processing responses:  36%|███▋      | 776/2128 [02:00<06:50,  3.29it/s]"
     ]
    },
    {
     "name": "stdout",
     "output_type": "stream",
     "text": [
      "Answers saved to outputs_pipeline/article5_answers03_1.json\n"
     ]
    },
    {
     "name": "stderr",
     "output_type": "stream",
     "text": [
      "Processing responses:  37%|███▋      | 777/2128 [02:01<06:50,  3.29it/s]"
     ]
    },
    {
     "name": "stdout",
     "output_type": "stream",
     "text": [
      "Answers saved to outputs_pipeline/article5_answers03_1.json\n"
     ]
    },
    {
     "name": "stderr",
     "output_type": "stream",
     "text": [
      "Processing responses:  37%|███▋      | 778/2128 [02:01<06:49,  3.29it/s]"
     ]
    },
    {
     "name": "stdout",
     "output_type": "stream",
     "text": [
      "Answers saved to outputs_pipeline/article5_answers03_1.json\n"
     ]
    },
    {
     "name": "stderr",
     "output_type": "stream",
     "text": [
      "Processing responses:  37%|███▋      | 779/2128 [02:01<06:54,  3.25it/s]"
     ]
    },
    {
     "name": "stdout",
     "output_type": "stream",
     "text": [
      "Answers saved to outputs_pipeline/article5_answers03_1.json\n"
     ]
    },
    {
     "name": "stderr",
     "output_type": "stream",
     "text": [
      "Processing responses:  37%|███▋      | 780/2128 [02:01<06:52,  3.27it/s]"
     ]
    },
    {
     "name": "stdout",
     "output_type": "stream",
     "text": [
      "Answers saved to outputs_pipeline/article5_answers03_1.json\n"
     ]
    },
    {
     "name": "stderr",
     "output_type": "stream",
     "text": [
      "Processing responses:  37%|███▋      | 781/2128 [02:02<06:51,  3.27it/s]"
     ]
    },
    {
     "name": "stdout",
     "output_type": "stream",
     "text": [
      "Answers saved to outputs_pipeline/article5_answers03_1.json\n"
     ]
    },
    {
     "name": "stderr",
     "output_type": "stream",
     "text": [
      "Processing responses:  37%|███▋      | 782/2128 [02:02<06:51,  3.27it/s]"
     ]
    },
    {
     "name": "stdout",
     "output_type": "stream",
     "text": [
      "Answers saved to outputs_pipeline/article5_answers03_1.json\n"
     ]
    },
    {
     "name": "stderr",
     "output_type": "stream",
     "text": [
      "Processing responses:  37%|███▋      | 783/2128 [02:02<06:50,  3.27it/s]"
     ]
    },
    {
     "name": "stdout",
     "output_type": "stream",
     "text": [
      "Answers saved to outputs_pipeline/article5_answers03_1.json\n"
     ]
    },
    {
     "name": "stderr",
     "output_type": "stream",
     "text": [
      "Processing responses:  37%|███▋      | 784/2128 [02:03<07:00,  3.20it/s]"
     ]
    },
    {
     "name": "stdout",
     "output_type": "stream",
     "text": [
      "Answers saved to outputs_pipeline/article5_answers03_1.json\n"
     ]
    },
    {
     "name": "stderr",
     "output_type": "stream",
     "text": [
      "Processing responses:  37%|███▋      | 785/2128 [02:03<06:58,  3.21it/s]"
     ]
    },
    {
     "name": "stdout",
     "output_type": "stream",
     "text": [
      "Answers saved to outputs_pipeline/article5_answers03_1.json\n"
     ]
    },
    {
     "name": "stderr",
     "output_type": "stream",
     "text": [
      "Processing responses:  37%|███▋      | 786/2128 [02:03<06:54,  3.24it/s]"
     ]
    },
    {
     "name": "stdout",
     "output_type": "stream",
     "text": [
      "Answers saved to outputs_pipeline/article5_answers03_1.json\n"
     ]
    },
    {
     "name": "stderr",
     "output_type": "stream",
     "text": [
      "Processing responses:  37%|███▋      | 787/2128 [02:04<07:07,  3.14it/s]"
     ]
    },
    {
     "name": "stdout",
     "output_type": "stream",
     "text": [
      "Answers saved to outputs_pipeline/article5_answers03_1.json\n"
     ]
    },
    {
     "name": "stderr",
     "output_type": "stream",
     "text": [
      "Processing responses:  37%|███▋      | 788/2128 [02:04<07:01,  3.18it/s]"
     ]
    },
    {
     "name": "stdout",
     "output_type": "stream",
     "text": [
      "Answers saved to outputs_pipeline/article5_answers03_1.json\n"
     ]
    },
    {
     "name": "stderr",
     "output_type": "stream",
     "text": [
      "Processing responses:  37%|███▋      | 789/2128 [02:04<06:57,  3.21it/s]"
     ]
    },
    {
     "name": "stdout",
     "output_type": "stream",
     "text": [
      "Answers saved to outputs_pipeline/article5_answers03_1.json\n"
     ]
    },
    {
     "name": "stderr",
     "output_type": "stream",
     "text": [
      "Processing responses:  37%|███▋      | 790/2128 [02:05<06:57,  3.21it/s]"
     ]
    },
    {
     "name": "stdout",
     "output_type": "stream",
     "text": [
      "Answers saved to outputs_pipeline/article5_answers03_1.json\n"
     ]
    },
    {
     "name": "stderr",
     "output_type": "stream",
     "text": [
      "Processing responses:  37%|███▋      | 791/2128 [02:05<06:57,  3.20it/s]"
     ]
    },
    {
     "name": "stdout",
     "output_type": "stream",
     "text": [
      "Answers saved to outputs_pipeline/article5_answers03_1.json\n"
     ]
    },
    {
     "name": "stderr",
     "output_type": "stream",
     "text": [
      "Processing responses:  37%|███▋      | 792/2128 [02:05<06:54,  3.22it/s]"
     ]
    },
    {
     "name": "stdout",
     "output_type": "stream",
     "text": [
      "Answers saved to outputs_pipeline/article5_answers03_1.json\n"
     ]
    },
    {
     "name": "stderr",
     "output_type": "stream",
     "text": [
      "Processing responses:  37%|███▋      | 793/2128 [02:05<06:54,  3.22it/s]"
     ]
    },
    {
     "name": "stdout",
     "output_type": "stream",
     "text": [
      "Answers saved to outputs_pipeline/article5_answers03_1.json\n"
     ]
    },
    {
     "name": "stderr",
     "output_type": "stream",
     "text": [
      "Processing responses:  37%|███▋      | 794/2128 [02:06<06:59,  3.18it/s]"
     ]
    },
    {
     "name": "stdout",
     "output_type": "stream",
     "text": [
      "Answers saved to outputs_pipeline/article5_answers03_1.json\n"
     ]
    },
    {
     "name": "stderr",
     "output_type": "stream",
     "text": [
      "Processing responses:  37%|███▋      | 795/2128 [02:06<06:55,  3.20it/s]"
     ]
    },
    {
     "name": "stdout",
     "output_type": "stream",
     "text": [
      "Answers saved to outputs_pipeline/article5_answers03_1.json\n"
     ]
    },
    {
     "name": "stderr",
     "output_type": "stream",
     "text": [
      "Processing responses:  37%|███▋      | 796/2128 [02:06<06:55,  3.20it/s]"
     ]
    },
    {
     "name": "stdout",
     "output_type": "stream",
     "text": [
      "Answers saved to outputs_pipeline/article5_answers03_1.json\n"
     ]
    },
    {
     "name": "stderr",
     "output_type": "stream",
     "text": [
      "Processing responses:  37%|███▋      | 797/2128 [02:07<06:54,  3.21it/s]"
     ]
    },
    {
     "name": "stdout",
     "output_type": "stream",
     "text": [
      "Answers saved to outputs_pipeline/article5_answers03_1.json\n"
     ]
    },
    {
     "name": "stderr",
     "output_type": "stream",
     "text": [
      "Processing responses:  38%|███▊      | 798/2128 [02:07<06:56,  3.19it/s]"
     ]
    },
    {
     "name": "stdout",
     "output_type": "stream",
     "text": [
      "Answers saved to outputs_pipeline/article5_answers03_1.json\n"
     ]
    },
    {
     "name": "stderr",
     "output_type": "stream",
     "text": [
      "Processing responses:  38%|███▊      | 799/2128 [02:07<06:57,  3.18it/s]"
     ]
    },
    {
     "name": "stdout",
     "output_type": "stream",
     "text": [
      "Answers saved to outputs_pipeline/article5_answers03_1.json\n"
     ]
    },
    {
     "name": "stderr",
     "output_type": "stream",
     "text": [
      "Processing responses:  38%|███▊      | 800/2128 [02:08<06:58,  3.17it/s]"
     ]
    },
    {
     "name": "stdout",
     "output_type": "stream",
     "text": [
      "Answers saved to outputs_pipeline/article5_answers03_1.json\n"
     ]
    },
    {
     "name": "stderr",
     "output_type": "stream",
     "text": [
      "Processing responses:  38%|███▊      | 801/2128 [02:08<06:55,  3.20it/s]"
     ]
    },
    {
     "name": "stdout",
     "output_type": "stream",
     "text": [
      "Answers saved to outputs_pipeline/article5_answers03_1.json\n"
     ]
    },
    {
     "name": "stderr",
     "output_type": "stream",
     "text": [
      "Processing responses:  38%|███▊      | 802/2128 [02:08<07:10,  3.08it/s]"
     ]
    },
    {
     "name": "stdout",
     "output_type": "stream",
     "text": [
      "Answers saved to outputs_pipeline/article5_answers03_1.json\n"
     ]
    },
    {
     "name": "stderr",
     "output_type": "stream",
     "text": [
      "Processing responses:  38%|███▊      | 803/2128 [02:09<07:06,  3.11it/s]"
     ]
    },
    {
     "name": "stdout",
     "output_type": "stream",
     "text": [
      "Answers saved to outputs_pipeline/article5_answers03_1.json\n"
     ]
    },
    {
     "name": "stderr",
     "output_type": "stream",
     "text": [
      "Processing responses:  38%|███▊      | 804/2128 [02:09<07:04,  3.12it/s]"
     ]
    },
    {
     "name": "stdout",
     "output_type": "stream",
     "text": [
      "Answers saved to outputs_pipeline/article5_answers03_1.json\n"
     ]
    },
    {
     "name": "stderr",
     "output_type": "stream",
     "text": [
      "Processing responses:  38%|███▊      | 805/2128 [02:09<07:00,  3.14it/s]"
     ]
    },
    {
     "name": "stdout",
     "output_type": "stream",
     "text": [
      "Answers saved to outputs_pipeline/article5_answers03_1.json\n"
     ]
    },
    {
     "name": "stderr",
     "output_type": "stream",
     "text": [
      "Processing responses:  38%|███▊      | 806/2128 [02:10<07:00,  3.14it/s]"
     ]
    },
    {
     "name": "stdout",
     "output_type": "stream",
     "text": [
      "Answers saved to outputs_pipeline/article5_answers03_1.json\n"
     ]
    },
    {
     "name": "stderr",
     "output_type": "stream",
     "text": [
      "Processing responses:  38%|███▊      | 807/2128 [02:10<07:01,  3.13it/s]"
     ]
    },
    {
     "name": "stdout",
     "output_type": "stream",
     "text": [
      "Answers saved to outputs_pipeline/article5_answers03_1.json\n"
     ]
    },
    {
     "name": "stderr",
     "output_type": "stream",
     "text": [
      "Processing responses:  38%|███▊      | 808/2128 [02:10<06:56,  3.17it/s]"
     ]
    },
    {
     "name": "stdout",
     "output_type": "stream",
     "text": [
      "Answers saved to outputs_pipeline/article5_answers03_1.json\n"
     ]
    },
    {
     "name": "stderr",
     "output_type": "stream",
     "text": [
      "Processing responses:  38%|███▊      | 809/2128 [02:11<07:27,  2.95it/s]"
     ]
    },
    {
     "name": "stdout",
     "output_type": "stream",
     "text": [
      "Answers saved to outputs_pipeline/article5_answers03_1.json\n"
     ]
    },
    {
     "name": "stderr",
     "output_type": "stream",
     "text": [
      "Processing responses:  38%|███▊      | 810/2128 [02:11<07:55,  2.77it/s]"
     ]
    },
    {
     "name": "stdout",
     "output_type": "stream",
     "text": [
      "Answers saved to outputs_pipeline/article5_answers03_1.json\n"
     ]
    },
    {
     "name": "stderr",
     "output_type": "stream",
     "text": [
      "Processing responses:  38%|███▊      | 811/2128 [02:11<07:42,  2.85it/s]"
     ]
    },
    {
     "name": "stdout",
     "output_type": "stream",
     "text": [
      "Answers saved to outputs_pipeline/article5_answers03_1.json\n"
     ]
    },
    {
     "name": "stderr",
     "output_type": "stream",
     "text": [
      "Processing responses:  38%|███▊      | 812/2128 [02:12<07:28,  2.93it/s]"
     ]
    },
    {
     "name": "stdout",
     "output_type": "stream",
     "text": [
      "Answers saved to outputs_pipeline/article5_answers03_1.json\n"
     ]
    },
    {
     "name": "stderr",
     "output_type": "stream",
     "text": [
      "Processing responses:  38%|███▊      | 813/2128 [02:12<07:16,  3.01it/s]"
     ]
    },
    {
     "name": "stdout",
     "output_type": "stream",
     "text": [
      "Answers saved to outputs_pipeline/article5_answers03_1.json\n"
     ]
    },
    {
     "name": "stderr",
     "output_type": "stream",
     "text": [
      "Processing responses:  38%|███▊      | 814/2128 [02:12<08:11,  2.67it/s]"
     ]
    },
    {
     "name": "stdout",
     "output_type": "stream",
     "text": [
      "Answers saved to outputs_pipeline/article5_answers03_1.json\n"
     ]
    },
    {
     "name": "stderr",
     "output_type": "stream",
     "text": [
      "Processing responses:  38%|███▊      | 815/2128 [02:13<07:49,  2.80it/s]"
     ]
    },
    {
     "name": "stdout",
     "output_type": "stream",
     "text": [
      "Answers saved to outputs_pipeline/article5_answers03_1.json\n"
     ]
    },
    {
     "name": "stderr",
     "output_type": "stream",
     "text": [
      "Processing responses:  38%|███▊      | 816/2128 [02:13<07:39,  2.85it/s]"
     ]
    },
    {
     "name": "stdout",
     "output_type": "stream",
     "text": [
      "Answers saved to outputs_pipeline/article5_answers03_1.json\n"
     ]
    },
    {
     "name": "stderr",
     "output_type": "stream",
     "text": [
      "Processing responses:  38%|███▊      | 817/2128 [02:13<07:38,  2.86it/s]"
     ]
    },
    {
     "name": "stdout",
     "output_type": "stream",
     "text": [
      "Answers saved to outputs_pipeline/article5_answers03_1.json\n"
     ]
    },
    {
     "name": "stderr",
     "output_type": "stream",
     "text": [
      "Processing responses:  38%|███▊      | 818/2128 [02:14<07:27,  2.93it/s]"
     ]
    },
    {
     "name": "stdout",
     "output_type": "stream",
     "text": [
      "Answers saved to outputs_pipeline/article5_answers03_1.json\n"
     ]
    },
    {
     "name": "stderr",
     "output_type": "stream",
     "text": [
      "Processing responses:  38%|███▊      | 819/2128 [02:14<07:15,  3.00it/s]"
     ]
    },
    {
     "name": "stdout",
     "output_type": "stream",
     "text": [
      "Answers saved to outputs_pipeline/article5_answers03_1.json\n"
     ]
    },
    {
     "name": "stderr",
     "output_type": "stream",
     "text": [
      "Processing responses:  39%|███▊      | 820/2128 [02:14<07:09,  3.05it/s]"
     ]
    },
    {
     "name": "stdout",
     "output_type": "stream",
     "text": [
      "Answers saved to outputs_pipeline/article5_answers03_1.json\n"
     ]
    },
    {
     "name": "stderr",
     "output_type": "stream",
     "text": [
      "Processing responses:  39%|███▊      | 821/2128 [02:15<07:05,  3.07it/s]"
     ]
    },
    {
     "name": "stdout",
     "output_type": "stream",
     "text": [
      "Answers saved to outputs_pipeline/article5_answers03_1.json\n"
     ]
    },
    {
     "name": "stderr",
     "output_type": "stream",
     "text": [
      "Processing responses:  39%|███▊      | 822/2128 [02:15<07:02,  3.09it/s]"
     ]
    },
    {
     "name": "stdout",
     "output_type": "stream",
     "text": [
      "Answers saved to outputs_pipeline/article5_answers03_1.json\n"
     ]
    },
    {
     "name": "stderr",
     "output_type": "stream",
     "text": [
      "Processing responses:  39%|███▊      | 823/2128 [02:15<07:01,  3.09it/s]"
     ]
    },
    {
     "name": "stdout",
     "output_type": "stream",
     "text": [
      "Answers saved to outputs_pipeline/article5_answers03_1.json\n"
     ]
    },
    {
     "name": "stderr",
     "output_type": "stream",
     "text": [
      "Processing responses:  39%|███▊      | 824/2128 [02:16<07:11,  3.02it/s]"
     ]
    },
    {
     "name": "stdout",
     "output_type": "stream",
     "text": [
      "Answers saved to outputs_pipeline/article5_answers03_1.json\n"
     ]
    },
    {
     "name": "stderr",
     "output_type": "stream",
     "text": [
      "Processing responses:  39%|███▉      | 825/2128 [02:16<07:22,  2.95it/s]"
     ]
    },
    {
     "name": "stdout",
     "output_type": "stream",
     "text": [
      "Answers saved to outputs_pipeline/article5_answers03_1.json\n"
     ]
    },
    {
     "name": "stderr",
     "output_type": "stream",
     "text": [
      "Processing responses:  39%|███▉      | 826/2128 [02:17<07:52,  2.76it/s]"
     ]
    },
    {
     "name": "stdout",
     "output_type": "stream",
     "text": [
      "Answers saved to outputs_pipeline/article5_answers03_1.json\n"
     ]
    },
    {
     "name": "stderr",
     "output_type": "stream",
     "text": [
      "Processing responses:  39%|███▉      | 827/2128 [02:17<07:35,  2.86it/s]"
     ]
    },
    {
     "name": "stdout",
     "output_type": "stream",
     "text": [
      "Answers saved to outputs_pipeline/article5_answers03_1.json\n"
     ]
    },
    {
     "name": "stderr",
     "output_type": "stream",
     "text": [
      "Processing responses:  39%|███▉      | 828/2128 [02:17<07:24,  2.92it/s]"
     ]
    },
    {
     "name": "stdout",
     "output_type": "stream",
     "text": [
      "Answers saved to outputs_pipeline/article5_answers03_1.json\n"
     ]
    },
    {
     "name": "stderr",
     "output_type": "stream",
     "text": [
      "Processing responses:  39%|███▉      | 829/2128 [02:17<07:17,  2.97it/s]"
     ]
    },
    {
     "name": "stdout",
     "output_type": "stream",
     "text": [
      "Answers saved to outputs_pipeline/article5_answers03_1.json\n"
     ]
    },
    {
     "name": "stderr",
     "output_type": "stream",
     "text": [
      "Processing responses:  39%|███▉      | 830/2128 [02:18<07:11,  3.01it/s]"
     ]
    },
    {
     "name": "stdout",
     "output_type": "stream",
     "text": [
      "Answers saved to outputs_pipeline/article5_answers03_1.json\n"
     ]
    },
    {
     "name": "stderr",
     "output_type": "stream",
     "text": [
      "Processing responses:  39%|███▉      | 831/2128 [02:18<07:16,  2.97it/s]"
     ]
    },
    {
     "name": "stdout",
     "output_type": "stream",
     "text": [
      "Answers saved to outputs_pipeline/article5_answers03_1.json\n"
     ]
    },
    {
     "name": "stderr",
     "output_type": "stream",
     "text": [
      "Processing responses:  39%|███▉      | 832/2128 [02:18<07:11,  3.00it/s]"
     ]
    },
    {
     "name": "stdout",
     "output_type": "stream",
     "text": [
      "Answers saved to outputs_pipeline/article5_answers03_1.json\n"
     ]
    },
    {
     "name": "stderr",
     "output_type": "stream",
     "text": [
      "Processing responses:  39%|███▉      | 833/2128 [02:19<07:08,  3.02it/s]"
     ]
    },
    {
     "name": "stdout",
     "output_type": "stream",
     "text": [
      "Answers saved to outputs_pipeline/article5_answers03_1.json\n"
     ]
    },
    {
     "name": "stderr",
     "output_type": "stream",
     "text": [
      "Processing responses:  39%|███▉      | 834/2128 [02:19<07:05,  3.04it/s]"
     ]
    },
    {
     "name": "stdout",
     "output_type": "stream",
     "text": [
      "Answers saved to outputs_pipeline/article5_answers03_1.json\n"
     ]
    },
    {
     "name": "stderr",
     "output_type": "stream",
     "text": [
      "Processing responses:  39%|███▉      | 835/2128 [02:19<07:12,  2.99it/s]"
     ]
    },
    {
     "name": "stdout",
     "output_type": "stream",
     "text": [
      "Answers saved to outputs_pipeline/article5_answers03_1.json\n"
     ]
    },
    {
     "name": "stderr",
     "output_type": "stream",
     "text": [
      "Processing responses:  39%|███▉      | 836/2128 [02:20<07:11,  3.00it/s]"
     ]
    },
    {
     "name": "stdout",
     "output_type": "stream",
     "text": [
      "Answers saved to outputs_pipeline/article5_answers03_1.json\n"
     ]
    },
    {
     "name": "stderr",
     "output_type": "stream",
     "text": [
      "Processing responses:  39%|███▉      | 837/2128 [02:20<07:23,  2.91it/s]"
     ]
    },
    {
     "name": "stdout",
     "output_type": "stream",
     "text": [
      "Answers saved to outputs_pipeline/article5_answers03_1.json\n"
     ]
    },
    {
     "name": "stderr",
     "output_type": "stream",
     "text": [
      "Processing responses:  39%|███▉      | 838/2128 [02:21<08:06,  2.65it/s]"
     ]
    },
    {
     "name": "stdout",
     "output_type": "stream",
     "text": [
      "Answers saved to outputs_pipeline/article5_answers03_1.json\n"
     ]
    },
    {
     "name": "stderr",
     "output_type": "stream",
     "text": [
      "Processing responses:  39%|███▉      | 839/2128 [02:21<07:48,  2.75it/s]"
     ]
    },
    {
     "name": "stdout",
     "output_type": "stream",
     "text": [
      "Answers saved to outputs_pipeline/article5_answers03_1.json\n"
     ]
    },
    {
     "name": "stderr",
     "output_type": "stream",
     "text": [
      "Processing responses:  39%|███▉      | 840/2128 [02:21<07:35,  2.83it/s]"
     ]
    },
    {
     "name": "stdout",
     "output_type": "stream",
     "text": [
      "Answers saved to outputs_pipeline/article5_answers03_1.json\n"
     ]
    },
    {
     "name": "stderr",
     "output_type": "stream",
     "text": [
      "Processing responses:  40%|███▉      | 841/2128 [02:22<07:27,  2.88it/s]"
     ]
    },
    {
     "name": "stdout",
     "output_type": "stream",
     "text": [
      "Answers saved to outputs_pipeline/article5_answers03_1.json\n"
     ]
    },
    {
     "name": "stderr",
     "output_type": "stream",
     "text": [
      "Processing responses:  40%|███▉      | 842/2128 [02:22<07:19,  2.93it/s]"
     ]
    },
    {
     "name": "stdout",
     "output_type": "stream",
     "text": [
      "Answers saved to outputs_pipeline/article5_answers03_1.json\n"
     ]
    },
    {
     "name": "stderr",
     "output_type": "stream",
     "text": [
      "Processing responses:  40%|███▉      | 843/2128 [02:22<07:14,  2.96it/s]"
     ]
    },
    {
     "name": "stdout",
     "output_type": "stream",
     "text": [
      "Answers saved to outputs_pipeline/article5_answers03_1.json\n"
     ]
    },
    {
     "name": "stderr",
     "output_type": "stream",
     "text": [
      "Processing responses:  40%|███▉      | 844/2128 [02:23<07:11,  2.97it/s]"
     ]
    },
    {
     "name": "stdout",
     "output_type": "stream",
     "text": [
      "Answers saved to outputs_pipeline/article5_answers03_1.json\n"
     ]
    },
    {
     "name": "stderr",
     "output_type": "stream",
     "text": [
      "Processing responses:  40%|███▉      | 845/2128 [02:23<07:08,  3.00it/s]"
     ]
    },
    {
     "name": "stdout",
     "output_type": "stream",
     "text": [
      "Answers saved to outputs_pipeline/article5_answers03_1.json\n"
     ]
    },
    {
     "name": "stderr",
     "output_type": "stream",
     "text": [
      "Processing responses:  40%|███▉      | 846/2128 [02:23<07:18,  2.92it/s]"
     ]
    },
    {
     "name": "stdout",
     "output_type": "stream",
     "text": [
      "Answers saved to outputs_pipeline/article5_answers03_1.json\n"
     ]
    },
    {
     "name": "stderr",
     "output_type": "stream",
     "text": [
      "Processing responses:  40%|███▉      | 847/2128 [02:24<07:14,  2.95it/s]"
     ]
    },
    {
     "name": "stdout",
     "output_type": "stream",
     "text": [
      "Answers saved to outputs_pipeline/article5_answers03_1.json\n"
     ]
    },
    {
     "name": "stderr",
     "output_type": "stream",
     "text": [
      "Processing responses:  40%|███▉      | 848/2128 [02:24<07:12,  2.96it/s]"
     ]
    },
    {
     "name": "stdout",
     "output_type": "stream",
     "text": [
      "Answers saved to outputs_pipeline/article5_answers03_1.json\n"
     ]
    },
    {
     "name": "stderr",
     "output_type": "stream",
     "text": [
      "Processing responses:  40%|███▉      | 849/2128 [02:24<07:10,  2.97it/s]"
     ]
    },
    {
     "name": "stdout",
     "output_type": "stream",
     "text": [
      "Answers saved to outputs_pipeline/article5_answers03_1.json\n"
     ]
    },
    {
     "name": "stderr",
     "output_type": "stream",
     "text": [
      "Processing responses:  40%|███▉      | 850/2128 [02:25<07:08,  2.98it/s]"
     ]
    },
    {
     "name": "stdout",
     "output_type": "stream",
     "text": [
      "Answers saved to outputs_pipeline/article5_answers03_1.json\n"
     ]
    },
    {
     "name": "stderr",
     "output_type": "stream",
     "text": [
      "Processing responses:  40%|███▉      | 851/2128 [02:25<07:07,  2.99it/s]"
     ]
    },
    {
     "name": "stdout",
     "output_type": "stream",
     "text": [
      "Answers saved to outputs_pipeline/article5_answers03_1.json\n"
     ]
    },
    {
     "name": "stderr",
     "output_type": "stream",
     "text": [
      "Processing responses:  40%|████      | 852/2128 [02:25<07:06,  2.99it/s]"
     ]
    },
    {
     "name": "stdout",
     "output_type": "stream",
     "text": [
      "Answers saved to outputs_pipeline/article5_answers03_1.json\n"
     ]
    },
    {
     "name": "stderr",
     "output_type": "stream",
     "text": [
      "Processing responses:  40%|████      | 853/2128 [02:26<07:17,  2.91it/s]"
     ]
    },
    {
     "name": "stdout",
     "output_type": "stream",
     "text": [
      "Answers saved to outputs_pipeline/article5_answers03_1.json\n"
     ]
    },
    {
     "name": "stderr",
     "output_type": "stream",
     "text": [
      "Processing responses:  40%|████      | 854/2128 [02:26<07:15,  2.93it/s]"
     ]
    },
    {
     "name": "stdout",
     "output_type": "stream",
     "text": [
      "Answers saved to outputs_pipeline/article5_answers03_1.json\n"
     ]
    },
    {
     "name": "stderr",
     "output_type": "stream",
     "text": [
      "Processing responses:  40%|████      | 855/2128 [02:26<07:11,  2.95it/s]"
     ]
    },
    {
     "name": "stdout",
     "output_type": "stream",
     "text": [
      "Answers saved to outputs_pipeline/article5_answers03_1.json\n"
     ]
    },
    {
     "name": "stderr",
     "output_type": "stream",
     "text": [
      "Processing responses:  40%|████      | 856/2128 [02:27<07:11,  2.95it/s]"
     ]
    },
    {
     "name": "stdout",
     "output_type": "stream",
     "text": [
      "Answers saved to outputs_pipeline/article5_answers03_1.json\n"
     ]
    },
    {
     "name": "stderr",
     "output_type": "stream",
     "text": [
      "Processing responses:  40%|████      | 857/2128 [02:27<07:37,  2.78it/s]"
     ]
    },
    {
     "name": "stdout",
     "output_type": "stream",
     "text": [
      "Answers saved to outputs_pipeline/article5_answers03_1.json\n"
     ]
    },
    {
     "name": "stderr",
     "output_type": "stream",
     "text": [
      "Processing responses:  40%|████      | 858/2128 [02:27<07:26,  2.84it/s]"
     ]
    },
    {
     "name": "stdout",
     "output_type": "stream",
     "text": [
      "Answers saved to outputs_pipeline/article5_answers03_1.json\n"
     ]
    },
    {
     "name": "stderr",
     "output_type": "stream",
     "text": [
      "Processing responses:  40%|████      | 859/2128 [02:28<07:19,  2.89it/s]"
     ]
    },
    {
     "name": "stdout",
     "output_type": "stream",
     "text": [
      "Answers saved to outputs_pipeline/article5_answers03_1.json\n"
     ]
    },
    {
     "name": "stderr",
     "output_type": "stream",
     "text": [
      "Processing responses:  40%|████      | 860/2128 [02:28<07:23,  2.86it/s]"
     ]
    },
    {
     "name": "stdout",
     "output_type": "stream",
     "text": [
      "Answers saved to outputs_pipeline/article5_answers03_1.json\n"
     ]
    },
    {
     "name": "stderr",
     "output_type": "stream",
     "text": [
      "Processing responses:  40%|████      | 861/2128 [02:28<07:15,  2.91it/s]"
     ]
    },
    {
     "name": "stdout",
     "output_type": "stream",
     "text": [
      "Answers saved to outputs_pipeline/article5_answers03_1.json\n"
     ]
    },
    {
     "name": "stderr",
     "output_type": "stream",
     "text": [
      "Processing responses:  41%|████      | 862/2128 [02:29<07:21,  2.87it/s]"
     ]
    },
    {
     "name": "stdout",
     "output_type": "stream",
     "text": [
      "Answers saved to outputs_pipeline/article5_answers03_1.json\n"
     ]
    },
    {
     "name": "stderr",
     "output_type": "stream",
     "text": [
      "Processing responses:  41%|████      | 863/2128 [02:29<07:18,  2.89it/s]"
     ]
    },
    {
     "name": "stdout",
     "output_type": "stream",
     "text": [
      "Answers saved to outputs_pipeline/article5_answers03_1.json\n"
     ]
    },
    {
     "name": "stderr",
     "output_type": "stream",
     "text": [
      "Processing responses:  41%|████      | 864/2128 [02:29<07:14,  2.91it/s]"
     ]
    },
    {
     "name": "stdout",
     "output_type": "stream",
     "text": [
      "Answers saved to outputs_pipeline/article5_answers03_1.json\n"
     ]
    },
    {
     "name": "stderr",
     "output_type": "stream",
     "text": [
      "Processing responses:  41%|████      | 865/2128 [02:30<07:19,  2.87it/s]"
     ]
    },
    {
     "name": "stdout",
     "output_type": "stream",
     "text": [
      "Answers saved to outputs_pipeline/article5_answers03_1.json\n"
     ]
    },
    {
     "name": "stderr",
     "output_type": "stream",
     "text": [
      "Processing responses:  41%|████      | 866/2128 [02:30<07:15,  2.90it/s]"
     ]
    },
    {
     "name": "stdout",
     "output_type": "stream",
     "text": [
      "Answers saved to outputs_pipeline/article5_answers03_1.json\n"
     ]
    },
    {
     "name": "stderr",
     "output_type": "stream",
     "text": [
      "Processing responses:  41%|████      | 867/2128 [02:31<07:13,  2.91it/s]"
     ]
    },
    {
     "name": "stdout",
     "output_type": "stream",
     "text": [
      "Answers saved to outputs_pipeline/article5_answers03_1.json\n"
     ]
    },
    {
     "name": "stderr",
     "output_type": "stream",
     "text": [
      "Processing responses:  41%|████      | 868/2128 [02:31<07:21,  2.85it/s]"
     ]
    },
    {
     "name": "stdout",
     "output_type": "stream",
     "text": [
      "Answers saved to outputs_pipeline/article5_answers03_1.json\n"
     ]
    },
    {
     "name": "stderr",
     "output_type": "stream",
     "text": [
      "Processing responses:  41%|████      | 869/2128 [02:31<07:15,  2.89it/s]"
     ]
    },
    {
     "name": "stdout",
     "output_type": "stream",
     "text": [
      "Answers saved to outputs_pipeline/article5_answers03_1.json\n"
     ]
    },
    {
     "name": "stderr",
     "output_type": "stream",
     "text": [
      "Processing responses:  41%|████      | 870/2128 [02:32<07:10,  2.92it/s]"
     ]
    },
    {
     "name": "stdout",
     "output_type": "stream",
     "text": [
      "Answers saved to outputs_pipeline/article5_answers03_1.json\n"
     ]
    },
    {
     "name": "stderr",
     "output_type": "stream",
     "text": [
      "Processing responses:  41%|████      | 871/2128 [02:32<07:08,  2.93it/s]"
     ]
    },
    {
     "name": "stdout",
     "output_type": "stream",
     "text": [
      "Answers saved to outputs_pipeline/article5_answers03_1.json\n"
     ]
    },
    {
     "name": "stderr",
     "output_type": "stream",
     "text": [
      "Processing responses:  41%|████      | 872/2128 [02:32<07:05,  2.95it/s]"
     ]
    },
    {
     "name": "stdout",
     "output_type": "stream",
     "text": [
      "Answers saved to outputs_pipeline/article5_answers03_1.json\n"
     ]
    },
    {
     "name": "stderr",
     "output_type": "stream",
     "text": [
      "Processing responses:  41%|████      | 873/2128 [02:33<08:09,  2.56it/s]"
     ]
    },
    {
     "name": "stdout",
     "output_type": "stream",
     "text": [
      "Answers saved to outputs_pipeline/article5_answers03_1.json\n"
     ]
    },
    {
     "name": "stderr",
     "output_type": "stream",
     "text": [
      "Processing responses:  41%|████      | 874/2128 [02:33<07:57,  2.63it/s]"
     ]
    },
    {
     "name": "stdout",
     "output_type": "stream",
     "text": [
      "Answers saved to outputs_pipeline/article5_answers03_1.json\n"
     ]
    },
    {
     "name": "stderr",
     "output_type": "stream",
     "text": [
      "Processing responses:  41%|████      | 875/2128 [02:33<07:39,  2.73it/s]"
     ]
    },
    {
     "name": "stdout",
     "output_type": "stream",
     "text": [
      "Answers saved to outputs_pipeline/article5_answers03_1.json\n"
     ]
    },
    {
     "name": "stderr",
     "output_type": "stream",
     "text": [
      "Processing responses:  41%|████      | 876/2128 [02:34<07:43,  2.70it/s]"
     ]
    },
    {
     "name": "stdout",
     "output_type": "stream",
     "text": [
      "Answers saved to outputs_pipeline/article5_answers03_1.json\n"
     ]
    },
    {
     "name": "stderr",
     "output_type": "stream",
     "text": [
      "Processing responses:  41%|████      | 877/2128 [02:34<08:11,  2.54it/s]"
     ]
    },
    {
     "name": "stdout",
     "output_type": "stream",
     "text": [
      "Answers saved to outputs_pipeline/article5_answers03_1.json\n"
     ]
    },
    {
     "name": "stderr",
     "output_type": "stream",
     "text": [
      "Processing responses:  41%|████▏     | 878/2128 [02:35<07:55,  2.63it/s]"
     ]
    },
    {
     "name": "stdout",
     "output_type": "stream",
     "text": [
      "Answers saved to outputs_pipeline/article5_answers03_1.json\n"
     ]
    },
    {
     "name": "stderr",
     "output_type": "stream",
     "text": [
      "Processing responses:  41%|████▏     | 879/2128 [02:35<07:40,  2.71it/s]"
     ]
    },
    {
     "name": "stdout",
     "output_type": "stream",
     "text": [
      "Answers saved to outputs_pipeline/article5_answers03_1.json\n"
     ]
    },
    {
     "name": "stderr",
     "output_type": "stream",
     "text": [
      "Processing responses:  41%|████▏     | 880/2128 [02:35<07:31,  2.77it/s]"
     ]
    },
    {
     "name": "stdout",
     "output_type": "stream",
     "text": [
      "Answers saved to outputs_pipeline/article5_answers03_1.json\n"
     ]
    },
    {
     "name": "stderr",
     "output_type": "stream",
     "text": [
      "Processing responses:  41%|████▏     | 881/2128 [02:36<07:32,  2.76it/s]"
     ]
    },
    {
     "name": "stdout",
     "output_type": "stream",
     "text": [
      "Answers saved to outputs_pipeline/article5_answers03_1.json\n"
     ]
    },
    {
     "name": "stderr",
     "output_type": "stream",
     "text": [
      "Processing responses:  41%|████▏     | 882/2128 [02:36<07:26,  2.79it/s]"
     ]
    },
    {
     "name": "stdout",
     "output_type": "stream",
     "text": [
      "Answers saved to outputs_pipeline/article5_answers03_1.json\n"
     ]
    },
    {
     "name": "stderr",
     "output_type": "stream",
     "text": [
      "Processing responses:  41%|████▏     | 883/2128 [02:36<07:21,  2.82it/s]"
     ]
    },
    {
     "name": "stdout",
     "output_type": "stream",
     "text": [
      "Answers saved to outputs_pipeline/article5_answers03_1.json\n"
     ]
    },
    {
     "name": "stderr",
     "output_type": "stream",
     "text": [
      "Processing responses:  42%|████▏     | 884/2128 [02:37<07:19,  2.83it/s]"
     ]
    },
    {
     "name": "stdout",
     "output_type": "stream",
     "text": [
      "Answers saved to outputs_pipeline/article5_answers03_1.json\n"
     ]
    },
    {
     "name": "stderr",
     "output_type": "stream",
     "text": [
      "Processing responses:  42%|████▏     | 885/2128 [02:37<07:16,  2.85it/s]"
     ]
    },
    {
     "name": "stdout",
     "output_type": "stream",
     "text": [
      "Answers saved to outputs_pipeline/article5_answers03_1.json\n"
     ]
    },
    {
     "name": "stderr",
     "output_type": "stream",
     "text": [
      "Processing responses:  42%|████▏     | 886/2128 [02:37<07:14,  2.86it/s]"
     ]
    },
    {
     "name": "stdout",
     "output_type": "stream",
     "text": [
      "Answers saved to outputs_pipeline/article5_answers03_1.json\n"
     ]
    },
    {
     "name": "stderr",
     "output_type": "stream",
     "text": [
      "Processing responses:  42%|████▏     | 887/2128 [02:38<07:16,  2.84it/s]"
     ]
    },
    {
     "name": "stdout",
     "output_type": "stream",
     "text": [
      "Answers saved to outputs_pipeline/article5_answers03_1.json\n"
     ]
    },
    {
     "name": "stderr",
     "output_type": "stream",
     "text": [
      "Processing responses:  42%|████▏     | 888/2128 [02:38<07:29,  2.76it/s]"
     ]
    },
    {
     "name": "stdout",
     "output_type": "stream",
     "text": [
      "Answers saved to outputs_pipeline/article5_answers03_1.json\n"
     ]
    },
    {
     "name": "stderr",
     "output_type": "stream",
     "text": [
      "Processing responses:  42%|████▏     | 889/2128 [02:38<07:24,  2.79it/s]"
     ]
    },
    {
     "name": "stdout",
     "output_type": "stream",
     "text": [
      "Answers saved to outputs_pipeline/article5_answers03_1.json\n"
     ]
    },
    {
     "name": "stderr",
     "output_type": "stream",
     "text": [
      "Processing responses:  42%|████▏     | 890/2128 [02:39<07:20,  2.81it/s]"
     ]
    },
    {
     "name": "stdout",
     "output_type": "stream",
     "text": [
      "Answers saved to outputs_pipeline/article5_answers03_1.json\n"
     ]
    },
    {
     "name": "stderr",
     "output_type": "stream",
     "text": [
      "Processing responses:  42%|████▏     | 891/2128 [02:39<07:48,  2.64it/s]"
     ]
    },
    {
     "name": "stdout",
     "output_type": "stream",
     "text": [
      "Answers saved to outputs_pipeline/article5_answers03_1.json\n"
     ]
    },
    {
     "name": "stderr",
     "output_type": "stream",
     "text": [
      "Processing responses:  42%|████▏     | 892/2128 [02:40<08:42,  2.36it/s]"
     ]
    },
    {
     "name": "stdout",
     "output_type": "stream",
     "text": [
      "Answers saved to outputs_pipeline/article5_answers03_1.json\n"
     ]
    },
    {
     "name": "stderr",
     "output_type": "stream",
     "text": [
      "Processing responses:  42%|████▏     | 893/2128 [02:40<08:15,  2.49it/s]"
     ]
    },
    {
     "name": "stdout",
     "output_type": "stream",
     "text": [
      "Answers saved to outputs_pipeline/article5_answers03_1.json\n"
     ]
    },
    {
     "name": "stderr",
     "output_type": "stream",
     "text": [
      "Processing responses:  42%|████▏     | 894/2128 [02:41<08:05,  2.54it/s]"
     ]
    },
    {
     "name": "stdout",
     "output_type": "stream",
     "text": [
      "Answers saved to outputs_pipeline/article5_answers03_1.json\n"
     ]
    },
    {
     "name": "stderr",
     "output_type": "stream",
     "text": [
      "Processing responses:  42%|████▏     | 895/2128 [02:41<07:50,  2.62it/s]"
     ]
    },
    {
     "name": "stdout",
     "output_type": "stream",
     "text": [
      "Answers saved to outputs_pipeline/article5_answers03_1.json\n"
     ]
    },
    {
     "name": "stderr",
     "output_type": "stream",
     "text": [
      "Processing responses:  42%|████▏     | 896/2128 [02:41<07:38,  2.69it/s]"
     ]
    },
    {
     "name": "stdout",
     "output_type": "stream",
     "text": [
      "Answers saved to outputs_pipeline/article5_answers03_1.json\n"
     ]
    },
    {
     "name": "stderr",
     "output_type": "stream",
     "text": [
      "Processing responses:  42%|████▏     | 897/2128 [02:42<07:31,  2.73it/s]"
     ]
    },
    {
     "name": "stdout",
     "output_type": "stream",
     "text": [
      "Answers saved to outputs_pipeline/article5_answers03_1.json\n"
     ]
    },
    {
     "name": "stderr",
     "output_type": "stream",
     "text": [
      "Processing responses:  42%|████▏     | 898/2128 [02:42<07:40,  2.67it/s]"
     ]
    },
    {
     "name": "stdout",
     "output_type": "stream",
     "text": [
      "Answers saved to outputs_pipeline/article5_answers03_1.json\n"
     ]
    },
    {
     "name": "stderr",
     "output_type": "stream",
     "text": [
      "Processing responses:  42%|████▏     | 899/2128 [02:42<08:11,  2.50it/s]"
     ]
    },
    {
     "name": "stdout",
     "output_type": "stream",
     "text": [
      "Answers saved to outputs_pipeline/article5_answers03_1.json\n"
     ]
    },
    {
     "name": "stderr",
     "output_type": "stream",
     "text": [
      "Processing responses:  42%|████▏     | 900/2128 [02:43<07:56,  2.58it/s]"
     ]
    },
    {
     "name": "stdout",
     "output_type": "stream",
     "text": [
      "Answers saved to outputs_pipeline/article5_answers03_1.json\n"
     ]
    },
    {
     "name": "stderr",
     "output_type": "stream",
     "text": [
      "Processing responses:  42%|████▏     | 901/2128 [02:43<08:01,  2.55it/s]"
     ]
    },
    {
     "name": "stdout",
     "output_type": "stream",
     "text": [
      "Answers saved to outputs_pipeline/article5_answers03_1.json\n"
     ]
    },
    {
     "name": "stderr",
     "output_type": "stream",
     "text": [
      "Processing responses:  42%|████▏     | 902/2128 [02:44<07:44,  2.64it/s]"
     ]
    },
    {
     "name": "stdout",
     "output_type": "stream",
     "text": [
      "Answers saved to outputs_pipeline/article5_answers03_1.json\n"
     ]
    },
    {
     "name": "stderr",
     "output_type": "stream",
     "text": [
      "Processing responses:  42%|████▏     | 903/2128 [02:44<07:30,  2.72it/s]"
     ]
    },
    {
     "name": "stdout",
     "output_type": "stream",
     "text": [
      "Answers saved to outputs_pipeline/article5_answers03_1.json\n"
     ]
    },
    {
     "name": "stderr",
     "output_type": "stream",
     "text": [
      "Processing responses:  42%|████▏     | 904/2128 [02:44<07:23,  2.76it/s]"
     ]
    },
    {
     "name": "stdout",
     "output_type": "stream",
     "text": [
      "Answers saved to outputs_pipeline/article5_answers03_1.json\n"
     ]
    },
    {
     "name": "stderr",
     "output_type": "stream",
     "text": [
      "Processing responses:  43%|████▎     | 905/2128 [02:45<07:19,  2.78it/s]"
     ]
    },
    {
     "name": "stdout",
     "output_type": "stream",
     "text": [
      "Answers saved to outputs_pipeline/article5_answers03_1.json\n"
     ]
    },
    {
     "name": "stderr",
     "output_type": "stream",
     "text": [
      "Processing responses:  43%|████▎     | 906/2128 [02:45<07:12,  2.82it/s]"
     ]
    },
    {
     "name": "stdout",
     "output_type": "stream",
     "text": [
      "Answers saved to outputs_pipeline/article5_answers03_1.json\n"
     ]
    },
    {
     "name": "stderr",
     "output_type": "stream",
     "text": [
      "Processing responses:  43%|████▎     | 907/2128 [02:45<07:17,  2.79it/s]"
     ]
    },
    {
     "name": "stdout",
     "output_type": "stream",
     "text": [
      "Answers saved to outputs_pipeline/article5_answers03_1.json\n"
     ]
    },
    {
     "name": "stderr",
     "output_type": "stream",
     "text": [
      "Processing responses:  43%|████▎     | 908/2128 [02:46<07:17,  2.79it/s]"
     ]
    },
    {
     "name": "stdout",
     "output_type": "stream",
     "text": [
      "Answers saved to outputs_pipeline/article5_answers03_1.json\n"
     ]
    },
    {
     "name": "stderr",
     "output_type": "stream",
     "text": [
      "Processing responses:  43%|████▎     | 909/2128 [02:46<07:13,  2.81it/s]"
     ]
    },
    {
     "name": "stdout",
     "output_type": "stream",
     "text": [
      "Answers saved to outputs_pipeline/article5_answers03_1.json\n"
     ]
    },
    {
     "name": "stderr",
     "output_type": "stream",
     "text": [
      "Processing responses:  43%|████▎     | 910/2128 [02:46<07:18,  2.77it/s]"
     ]
    },
    {
     "name": "stdout",
     "output_type": "stream",
     "text": [
      "Answers saved to outputs_pipeline/article5_answers03_1.json\n"
     ]
    },
    {
     "name": "stderr",
     "output_type": "stream",
     "text": [
      "Processing responses:  43%|████▎     | 911/2128 [02:47<07:19,  2.77it/s]"
     ]
    },
    {
     "name": "stdout",
     "output_type": "stream",
     "text": [
      "Answers saved to outputs_pipeline/article5_answers03_1.json\n"
     ]
    },
    {
     "name": "stderr",
     "output_type": "stream",
     "text": [
      "Processing responses:  43%|████▎     | 912/2128 [02:47<07:21,  2.75it/s]"
     ]
    },
    {
     "name": "stdout",
     "output_type": "stream",
     "text": [
      "Answers saved to outputs_pipeline/article5_answers03_1.json\n"
     ]
    },
    {
     "name": "stderr",
     "output_type": "stream",
     "text": [
      "Processing responses:  43%|████▎     | 913/2128 [02:47<07:19,  2.76it/s]"
     ]
    },
    {
     "name": "stdout",
     "output_type": "stream",
     "text": [
      "Answers saved to outputs_pipeline/article5_answers03_1.json\n"
     ]
    },
    {
     "name": "stderr",
     "output_type": "stream",
     "text": [
      "Processing responses:  43%|████▎     | 914/2128 [02:48<07:33,  2.67it/s]"
     ]
    },
    {
     "name": "stdout",
     "output_type": "stream",
     "text": [
      "Answers saved to outputs_pipeline/article5_answers03_1.json\n"
     ]
    },
    {
     "name": "stderr",
     "output_type": "stream",
     "text": [
      "Processing responses:  43%|████▎     | 915/2128 [02:48<07:26,  2.71it/s]"
     ]
    },
    {
     "name": "stdout",
     "output_type": "stream",
     "text": [
      "Answers saved to outputs_pipeline/article5_answers03_1.json\n"
     ]
    },
    {
     "name": "stderr",
     "output_type": "stream",
     "text": [
      "Processing responses:  43%|████▎     | 916/2128 [02:49<07:24,  2.73it/s]"
     ]
    },
    {
     "name": "stdout",
     "output_type": "stream",
     "text": [
      "Answers saved to outputs_pipeline/article5_answers03_1.json\n"
     ]
    },
    {
     "name": "stderr",
     "output_type": "stream",
     "text": [
      "Processing responses:  43%|████▎     | 917/2128 [02:49<07:26,  2.71it/s]"
     ]
    },
    {
     "name": "stdout",
     "output_type": "stream",
     "text": [
      "Answers saved to outputs_pipeline/article5_answers03_1.json\n"
     ]
    },
    {
     "name": "stderr",
     "output_type": "stream",
     "text": [
      "Processing responses:  43%|████▎     | 918/2128 [02:49<07:19,  2.75it/s]"
     ]
    },
    {
     "name": "stdout",
     "output_type": "stream",
     "text": [
      "Answers saved to outputs_pipeline/article5_answers03_1.json\n"
     ]
    },
    {
     "name": "stderr",
     "output_type": "stream",
     "text": [
      "Processing responses:  43%|████▎     | 919/2128 [02:50<07:16,  2.77it/s]"
     ]
    },
    {
     "name": "stdout",
     "output_type": "stream",
     "text": [
      "Answers saved to outputs_pipeline/article5_answers03_1.json\n"
     ]
    },
    {
     "name": "stderr",
     "output_type": "stream",
     "text": [
      "Processing responses:  43%|████▎     | 920/2128 [02:50<07:15,  2.77it/s]"
     ]
    },
    {
     "name": "stdout",
     "output_type": "stream",
     "text": [
      "Answers saved to outputs_pipeline/article5_answers03_1.json\n"
     ]
    },
    {
     "name": "stderr",
     "output_type": "stream",
     "text": [
      "Processing responses:  43%|████▎     | 921/2128 [02:50<07:17,  2.76it/s]"
     ]
    },
    {
     "name": "stdout",
     "output_type": "stream",
     "text": [
      "Answers saved to outputs_pipeline/article5_answers03_1.json\n"
     ]
    },
    {
     "name": "stderr",
     "output_type": "stream",
     "text": [
      "Processing responses:  43%|████▎     | 922/2128 [02:51<07:14,  2.78it/s]"
     ]
    },
    {
     "name": "stdout",
     "output_type": "stream",
     "text": [
      "Answers saved to outputs_pipeline/article5_answers03_1.json\n"
     ]
    },
    {
     "name": "stderr",
     "output_type": "stream",
     "text": [
      "Processing responses:  43%|████▎     | 923/2128 [02:51<07:11,  2.79it/s]"
     ]
    },
    {
     "name": "stdout",
     "output_type": "stream",
     "text": [
      "Answers saved to outputs_pipeline/article5_answers03_1.json\n"
     ]
    },
    {
     "name": "stderr",
     "output_type": "stream",
     "text": [
      "Processing responses:  43%|████▎     | 924/2128 [02:52<07:34,  2.65it/s]"
     ]
    },
    {
     "name": "stdout",
     "output_type": "stream",
     "text": [
      "Answers saved to outputs_pipeline/article5_answers03_1.json\n"
     ]
    },
    {
     "name": "stderr",
     "output_type": "stream",
     "text": [
      "Processing responses:  43%|████▎     | 925/2128 [02:52<08:37,  2.32it/s]"
     ]
    },
    {
     "name": "stdout",
     "output_type": "stream",
     "text": [
      "Answers saved to outputs_pipeline/article5_answers03_1.json\n"
     ]
    },
    {
     "name": "stderr",
     "output_type": "stream",
     "text": [
      "Processing responses:  44%|████▎     | 926/2128 [02:52<08:09,  2.45it/s]"
     ]
    },
    {
     "name": "stdout",
     "output_type": "stream",
     "text": [
      "Answers saved to outputs_pipeline/article5_answers03_1.json\n"
     ]
    },
    {
     "name": "stderr",
     "output_type": "stream",
     "text": [
      "Processing responses:  44%|████▎     | 927/2128 [02:53<07:59,  2.50it/s]"
     ]
    },
    {
     "name": "stdout",
     "output_type": "stream",
     "text": [
      "Answers saved to outputs_pipeline/article5_answers03_1.json\n"
     ]
    },
    {
     "name": "stderr",
     "output_type": "stream",
     "text": [
      "Processing responses:  44%|████▎     | 928/2128 [02:53<07:42,  2.59it/s]"
     ]
    },
    {
     "name": "stdout",
     "output_type": "stream",
     "text": [
      "Answers saved to outputs_pipeline/article5_answers03_1.json\n"
     ]
    },
    {
     "name": "stderr",
     "output_type": "stream",
     "text": [
      "Processing responses:  44%|████▎     | 929/2128 [02:54<07:33,  2.65it/s]"
     ]
    },
    {
     "name": "stdout",
     "output_type": "stream",
     "text": [
      "Answers saved to outputs_pipeline/article5_answers03_1.json\n"
     ]
    },
    {
     "name": "stderr",
     "output_type": "stream",
     "text": [
      "Processing responses:  44%|████▎     | 930/2128 [02:54<07:27,  2.68it/s]"
     ]
    },
    {
     "name": "stdout",
     "output_type": "stream",
     "text": [
      "Answers saved to outputs_pipeline/article5_answers03_1.json\n"
     ]
    },
    {
     "name": "stderr",
     "output_type": "stream",
     "text": [
      "Processing responses:  44%|████▍     | 931/2128 [02:54<07:27,  2.67it/s]"
     ]
    },
    {
     "name": "stdout",
     "output_type": "stream",
     "text": [
      "Answers saved to outputs_pipeline/article5_answers03_1.json\n"
     ]
    },
    {
     "name": "stderr",
     "output_type": "stream",
     "text": [
      "Processing responses:  44%|████▍     | 932/2128 [02:55<08:41,  2.29it/s]"
     ]
    },
    {
     "name": "stdout",
     "output_type": "stream",
     "text": [
      "Answers saved to outputs_pipeline/article5_answers03_1.json\n"
     ]
    },
    {
     "name": "stderr",
     "output_type": "stream",
     "text": [
      "Processing responses:  44%|████▍     | 933/2128 [02:55<08:26,  2.36it/s]"
     ]
    },
    {
     "name": "stdout",
     "output_type": "stream",
     "text": [
      "Answers saved to outputs_pipeline/article5_answers03_1.json\n"
     ]
    },
    {
     "name": "stderr",
     "output_type": "stream",
     "text": [
      "Processing responses:  44%|████▍     | 934/2128 [02:56<08:09,  2.44it/s]"
     ]
    },
    {
     "name": "stdout",
     "output_type": "stream",
     "text": [
      "Answers saved to outputs_pipeline/article5_answers03_1.json\n"
     ]
    },
    {
     "name": "stderr",
     "output_type": "stream",
     "text": [
      "Processing responses:  44%|████▍     | 935/2128 [02:56<08:31,  2.33it/s]"
     ]
    },
    {
     "name": "stdout",
     "output_type": "stream",
     "text": [
      "Answers saved to outputs_pipeline/article5_answers03_1.json\n"
     ]
    },
    {
     "name": "stderr",
     "output_type": "stream",
     "text": [
      "Processing responses:  44%|████▍     | 936/2128 [02:56<08:09,  2.44it/s]"
     ]
    },
    {
     "name": "stdout",
     "output_type": "stream",
     "text": [
      "Answers saved to outputs_pipeline/article5_answers03_1.json\n"
     ]
    },
    {
     "name": "stderr",
     "output_type": "stream",
     "text": [
      "Processing responses:  44%|████▍     | 937/2128 [02:57<07:52,  2.52it/s]"
     ]
    },
    {
     "name": "stdout",
     "output_type": "stream",
     "text": [
      "Answers saved to outputs_pipeline/article5_answers03_1.json\n"
     ]
    },
    {
     "name": "stderr",
     "output_type": "stream",
     "text": [
      "Processing responses:  44%|████▍     | 938/2128 [02:57<07:41,  2.58it/s]"
     ]
    },
    {
     "name": "stdout",
     "output_type": "stream",
     "text": [
      "Answers saved to outputs_pipeline/article5_answers03_1.json\n"
     ]
    },
    {
     "name": "stderr",
     "output_type": "stream",
     "text": [
      "Processing responses:  44%|████▍     | 939/2128 [02:58<07:40,  2.58it/s]"
     ]
    },
    {
     "name": "stdout",
     "output_type": "stream",
     "text": [
      "Answers saved to outputs_pipeline/article5_answers03_1.json\n"
     ]
    },
    {
     "name": "stderr",
     "output_type": "stream",
     "text": [
      "Processing responses:  44%|████▍     | 940/2128 [02:58<07:31,  2.63it/s]"
     ]
    },
    {
     "name": "stdout",
     "output_type": "stream",
     "text": [
      "Answers saved to outputs_pipeline/article5_answers03_1.json\n"
     ]
    },
    {
     "name": "stderr",
     "output_type": "stream",
     "text": [
      "Processing responses:  44%|████▍     | 941/2128 [02:58<07:37,  2.60it/s]"
     ]
    },
    {
     "name": "stdout",
     "output_type": "stream",
     "text": [
      "Answers saved to outputs_pipeline/article5_answers03_1.json\n"
     ]
    },
    {
     "name": "stderr",
     "output_type": "stream",
     "text": [
      "Processing responses:  44%|████▍     | 942/2128 [02:59<08:19,  2.38it/s]"
     ]
    },
    {
     "name": "stdout",
     "output_type": "stream",
     "text": [
      "Answers saved to outputs_pipeline/article5_answers03_1.json\n"
     ]
    },
    {
     "name": "stderr",
     "output_type": "stream",
     "text": [
      "Processing responses:  44%|████▍     | 943/2128 [02:59<07:58,  2.48it/s]"
     ]
    },
    {
     "name": "stdout",
     "output_type": "stream",
     "text": [
      "Answers saved to outputs_pipeline/article5_answers03_1.json\n"
     ]
    },
    {
     "name": "stderr",
     "output_type": "stream",
     "text": [
      "Processing responses:  44%|████▍     | 944/2128 [03:00<07:44,  2.55it/s]"
     ]
    },
    {
     "name": "stdout",
     "output_type": "stream",
     "text": [
      "Answers saved to outputs_pipeline/article5_answers03_1.json\n"
     ]
    },
    {
     "name": "stderr",
     "output_type": "stream",
     "text": [
      "Processing responses:  44%|████▍     | 945/2128 [03:00<07:46,  2.54it/s]"
     ]
    },
    {
     "name": "stdout",
     "output_type": "stream",
     "text": [
      "Answers saved to outputs_pipeline/article5_answers03_1.json\n"
     ]
    },
    {
     "name": "stderr",
     "output_type": "stream",
     "text": [
      "Processing responses:  44%|████▍     | 946/2128 [03:00<07:39,  2.57it/s]"
     ]
    },
    {
     "name": "stdout",
     "output_type": "stream",
     "text": [
      "Answers saved to outputs_pipeline/article5_answers03_1.json\n"
     ]
    },
    {
     "name": "stderr",
     "output_type": "stream",
     "text": [
      "Processing responses:  45%|████▍     | 947/2128 [03:01<07:32,  2.61it/s]"
     ]
    },
    {
     "name": "stdout",
     "output_type": "stream",
     "text": [
      "Answers saved to outputs_pipeline/article5_answers03_1.json\n"
     ]
    },
    {
     "name": "stderr",
     "output_type": "stream",
     "text": [
      "Processing responses:  45%|████▍     | 948/2128 [03:01<07:26,  2.64it/s]"
     ]
    },
    {
     "name": "stdout",
     "output_type": "stream",
     "text": [
      "Answers saved to outputs_pipeline/article5_answers03_1.json\n"
     ]
    },
    {
     "name": "stderr",
     "output_type": "stream",
     "text": [
      "Processing responses:  45%|████▍     | 949/2128 [03:01<07:23,  2.66it/s]"
     ]
    },
    {
     "name": "stdout",
     "output_type": "stream",
     "text": [
      "Answers saved to outputs_pipeline/article5_answers03_1.json\n"
     ]
    },
    {
     "name": "stderr",
     "output_type": "stream",
     "text": [
      "Processing responses:  45%|████▍     | 950/2128 [03:02<07:21,  2.67it/s]"
     ]
    },
    {
     "name": "stdout",
     "output_type": "stream",
     "text": [
      "Answers saved to outputs_pipeline/article5_answers03_1.json\n"
     ]
    },
    {
     "name": "stderr",
     "output_type": "stream",
     "text": [
      "Processing responses:  45%|████▍     | 951/2128 [03:02<07:30,  2.61it/s]"
     ]
    },
    {
     "name": "stdout",
     "output_type": "stream",
     "text": [
      "Answers saved to outputs_pipeline/article5_answers03_1.json\n"
     ]
    },
    {
     "name": "stderr",
     "output_type": "stream",
     "text": [
      "Processing responses:  45%|████▍     | 952/2128 [03:03<07:28,  2.62it/s]"
     ]
    },
    {
     "name": "stdout",
     "output_type": "stream",
     "text": [
      "Answers saved to outputs_pipeline/article5_answers03_1.json\n"
     ]
    },
    {
     "name": "stderr",
     "output_type": "stream",
     "text": [
      "Processing responses:  45%|████▍     | 953/2128 [03:03<07:25,  2.64it/s]"
     ]
    },
    {
     "name": "stdout",
     "output_type": "stream",
     "text": [
      "Answers saved to outputs_pipeline/article5_answers03_1.json\n"
     ]
    },
    {
     "name": "stderr",
     "output_type": "stream",
     "text": [
      "Processing responses:  45%|████▍     | 954/2128 [03:03<07:24,  2.64it/s]"
     ]
    },
    {
     "name": "stdout",
     "output_type": "stream",
     "text": [
      "Answers saved to outputs_pipeline/article5_answers03_1.json\n"
     ]
    },
    {
     "name": "stderr",
     "output_type": "stream",
     "text": [
      "Processing responses:  45%|████▍     | 955/2128 [03:04<07:22,  2.65it/s]"
     ]
    },
    {
     "name": "stdout",
     "output_type": "stream",
     "text": [
      "Answers saved to outputs_pipeline/article5_answers03_1.json\n"
     ]
    },
    {
     "name": "stderr",
     "output_type": "stream",
     "text": [
      "Processing responses:  45%|████▍     | 956/2128 [03:04<07:21,  2.65it/s]"
     ]
    },
    {
     "name": "stdout",
     "output_type": "stream",
     "text": [
      "Answers saved to outputs_pipeline/article5_answers03_1.json\n"
     ]
    },
    {
     "name": "stderr",
     "output_type": "stream",
     "text": [
      "Processing responses:  45%|████▍     | 957/2128 [03:04<07:27,  2.62it/s]"
     ]
    },
    {
     "name": "stdout",
     "output_type": "stream",
     "text": [
      "Answers saved to outputs_pipeline/article5_answers03_1.json\n"
     ]
    },
    {
     "name": "stderr",
     "output_type": "stream",
     "text": [
      "Processing responses:  45%|████▌     | 958/2128 [03:05<07:30,  2.60it/s]"
     ]
    },
    {
     "name": "stdout",
     "output_type": "stream",
     "text": [
      "Answers saved to outputs_pipeline/article5_answers03_1.json\n"
     ]
    },
    {
     "name": "stderr",
     "output_type": "stream",
     "text": [
      "Processing responses:  45%|████▌     | 959/2128 [03:05<07:25,  2.62it/s]"
     ]
    },
    {
     "name": "stdout",
     "output_type": "stream",
     "text": [
      "Answers saved to outputs_pipeline/article5_answers03_1.json\n"
     ]
    },
    {
     "name": "stderr",
     "output_type": "stream",
     "text": [
      "Processing responses:  45%|████▌     | 960/2128 [03:06<07:22,  2.64it/s]"
     ]
    },
    {
     "name": "stdout",
     "output_type": "stream",
     "text": [
      "Answers saved to outputs_pipeline/article5_answers03_1.json\n"
     ]
    },
    {
     "name": "stderr",
     "output_type": "stream",
     "text": [
      "Processing responses:  45%|████▌     | 961/2128 [03:06<07:18,  2.66it/s]"
     ]
    },
    {
     "name": "stdout",
     "output_type": "stream",
     "text": [
      "Answers saved to outputs_pipeline/article5_answers03_1.json\n"
     ]
    },
    {
     "name": "stderr",
     "output_type": "stream",
     "text": [
      "Processing responses:  45%|████▌     | 962/2128 [03:06<07:15,  2.68it/s]"
     ]
    },
    {
     "name": "stdout",
     "output_type": "stream",
     "text": [
      "Answers saved to outputs_pipeline/article5_answers03_1.json\n"
     ]
    },
    {
     "name": "stderr",
     "output_type": "stream",
     "text": [
      "Processing responses:  45%|████▌     | 963/2128 [03:07<07:25,  2.62it/s]"
     ]
    },
    {
     "name": "stdout",
     "output_type": "stream",
     "text": [
      "Answers saved to outputs_pipeline/article5_answers03_1.json\n"
     ]
    },
    {
     "name": "stderr",
     "output_type": "stream",
     "text": [
      "Processing responses:  45%|████▌     | 964/2128 [03:07<07:23,  2.63it/s]"
     ]
    },
    {
     "name": "stdout",
     "output_type": "stream",
     "text": [
      "Answers saved to outputs_pipeline/article5_answers03_1.json\n"
     ]
    },
    {
     "name": "stderr",
     "output_type": "stream",
     "text": [
      "Processing responses:  45%|████▌     | 965/2128 [03:08<07:21,  2.63it/s]"
     ]
    },
    {
     "name": "stdout",
     "output_type": "stream",
     "text": [
      "Answers saved to outputs_pipeline/article5_answers03_1.json\n"
     ]
    },
    {
     "name": "stderr",
     "output_type": "stream",
     "text": [
      "Processing responses:  45%|████▌     | 966/2128 [03:08<07:45,  2.50it/s]"
     ]
    },
    {
     "name": "stdout",
     "output_type": "stream",
     "text": [
      "Answers saved to outputs_pipeline/article5_answers03_1.json\n"
     ]
    },
    {
     "name": "stderr",
     "output_type": "stream",
     "text": [
      "Processing responses:  45%|████▌     | 967/2128 [03:08<07:35,  2.55it/s]"
     ]
    },
    {
     "name": "stdout",
     "output_type": "stream",
     "text": [
      "Answers saved to outputs_pipeline/article5_answers03_1.json\n"
     ]
    },
    {
     "name": "stderr",
     "output_type": "stream",
     "text": [
      "Processing responses:  45%|████▌     | 968/2128 [03:09<07:29,  2.58it/s]"
     ]
    },
    {
     "name": "stdout",
     "output_type": "stream",
     "text": [
      "Answers saved to outputs_pipeline/article5_answers03_1.json\n"
     ]
    },
    {
     "name": "stderr",
     "output_type": "stream",
     "text": [
      "Processing responses:  46%|████▌     | 969/2128 [03:09<07:29,  2.58it/s]"
     ]
    },
    {
     "name": "stdout",
     "output_type": "stream",
     "text": [
      "Answers saved to outputs_pipeline/article5_answers03_1.json\n"
     ]
    },
    {
     "name": "stderr",
     "output_type": "stream",
     "text": [
      "Processing responses:  46%|████▌     | 970/2128 [03:09<07:24,  2.61it/s]"
     ]
    },
    {
     "name": "stdout",
     "output_type": "stream",
     "text": [
      "Answers saved to outputs_pipeline/article5_answers03_1.json\n"
     ]
    },
    {
     "name": "stderr",
     "output_type": "stream",
     "text": [
      "Processing responses:  46%|████▌     | 971/2128 [03:10<07:21,  2.62it/s]"
     ]
    },
    {
     "name": "stdout",
     "output_type": "stream",
     "text": [
      "Answers saved to outputs_pipeline/article5_answers03_1.json\n"
     ]
    },
    {
     "name": "stderr",
     "output_type": "stream",
     "text": [
      "Processing responses:  46%|████▌     | 972/2128 [03:10<07:19,  2.63it/s]"
     ]
    },
    {
     "name": "stdout",
     "output_type": "stream",
     "text": [
      "Answers saved to outputs_pipeline/article5_answers03_1.json\n"
     ]
    },
    {
     "name": "stderr",
     "output_type": "stream",
     "text": [
      "Processing responses:  46%|████▌     | 973/2128 [03:11<07:18,  2.63it/s]"
     ]
    },
    {
     "name": "stdout",
     "output_type": "stream",
     "text": [
      "Answers saved to outputs_pipeline/article5_answers03_1.json\n"
     ]
    },
    {
     "name": "stderr",
     "output_type": "stream",
     "text": [
      "Processing responses:  46%|████▌     | 974/2128 [03:11<07:18,  2.63it/s]"
     ]
    },
    {
     "name": "stdout",
     "output_type": "stream",
     "text": [
      "Answers saved to outputs_pipeline/article5_answers03_1.json\n"
     ]
    },
    {
     "name": "stderr",
     "output_type": "stream",
     "text": [
      "Processing responses:  46%|████▌     | 975/2128 [03:11<07:29,  2.57it/s]"
     ]
    },
    {
     "name": "stdout",
     "output_type": "stream",
     "text": [
      "Answers saved to outputs_pipeline/article5_answers03_1.json\n"
     ]
    },
    {
     "name": "stderr",
     "output_type": "stream",
     "text": [
      "Processing responses:  46%|████▌     | 976/2128 [03:12<07:25,  2.59it/s]"
     ]
    },
    {
     "name": "stdout",
     "output_type": "stream",
     "text": [
      "Answers saved to outputs_pipeline/article5_answers03_1.json\n"
     ]
    },
    {
     "name": "stderr",
     "output_type": "stream",
     "text": [
      "Processing responses:  46%|████▌     | 977/2128 [03:12<07:22,  2.60it/s]"
     ]
    },
    {
     "name": "stdout",
     "output_type": "stream",
     "text": [
      "Answers saved to outputs_pipeline/article5_answers03_1.json\n"
     ]
    },
    {
     "name": "stderr",
     "output_type": "stream",
     "text": [
      "Processing responses:  46%|████▌     | 978/2128 [03:13<07:21,  2.60it/s]"
     ]
    },
    {
     "name": "stdout",
     "output_type": "stream",
     "text": [
      "Answers saved to outputs_pipeline/article5_answers03_1.json\n"
     ]
    },
    {
     "name": "stderr",
     "output_type": "stream",
     "text": [
      "Processing responses:  46%|████▌     | 979/2128 [03:13<07:20,  2.61it/s]"
     ]
    },
    {
     "name": "stdout",
     "output_type": "stream",
     "text": [
      "Answers saved to outputs_pipeline/article5_answers03_1.json\n"
     ]
    },
    {
     "name": "stderr",
     "output_type": "stream",
     "text": [
      "Processing responses:  46%|████▌     | 980/2128 [03:13<07:26,  2.57it/s]"
     ]
    },
    {
     "name": "stdout",
     "output_type": "stream",
     "text": [
      "Answers saved to outputs_pipeline/article5_answers03_1.json\n"
     ]
    },
    {
     "name": "stderr",
     "output_type": "stream",
     "text": [
      "Processing responses:  46%|████▌     | 981/2128 [03:14<09:26,  2.02it/s]"
     ]
    },
    {
     "name": "stdout",
     "output_type": "stream",
     "text": [
      "Answers saved to outputs_pipeline/article5_answers03_1.json\n"
     ]
    },
    {
     "name": "stderr",
     "output_type": "stream",
     "text": [
      "Processing responses:  46%|████▌     | 982/2128 [03:14<08:47,  2.17it/s]"
     ]
    },
    {
     "name": "stdout",
     "output_type": "stream",
     "text": [
      "Answers saved to outputs_pipeline/article5_answers03_1.json\n"
     ]
    },
    {
     "name": "stderr",
     "output_type": "stream",
     "text": [
      "Processing responses:  46%|████▌     | 983/2128 [03:15<09:18,  2.05it/s]"
     ]
    },
    {
     "name": "stdout",
     "output_type": "stream",
     "text": [
      "Answers saved to outputs_pipeline/article5_answers03_1.json\n"
     ]
    },
    {
     "name": "stderr",
     "output_type": "stream",
     "text": [
      "Processing responses:  46%|████▌     | 984/2128 [03:15<08:42,  2.19it/s]"
     ]
    },
    {
     "name": "stdout",
     "output_type": "stream",
     "text": [
      "Answers saved to outputs_pipeline/article5_answers03_1.json\n"
     ]
    },
    {
     "name": "stderr",
     "output_type": "stream",
     "text": [
      "Processing responses:  46%|████▋     | 985/2128 [03:16<08:21,  2.28it/s]"
     ]
    },
    {
     "name": "stdout",
     "output_type": "stream",
     "text": [
      "Answers saved to outputs_pipeline/article5_answers03_1.json\n"
     ]
    },
    {
     "name": "stderr",
     "output_type": "stream",
     "text": [
      "Processing responses:  46%|████▋     | 986/2128 [03:16<08:02,  2.37it/s]"
     ]
    },
    {
     "name": "stdout",
     "output_type": "stream",
     "text": [
      "Answers saved to outputs_pipeline/article5_answers03_1.json\n"
     ]
    },
    {
     "name": "stderr",
     "output_type": "stream",
     "text": [
      "Processing responses:  46%|████▋     | 987/2128 [03:17<07:54,  2.40it/s]"
     ]
    },
    {
     "name": "stdout",
     "output_type": "stream",
     "text": [
      "Answers saved to outputs_pipeline/article5_answers03_1.json\n"
     ]
    },
    {
     "name": "stderr",
     "output_type": "stream",
     "text": [
      "Processing responses:  46%|████▋     | 988/2128 [03:17<07:43,  2.46it/s]"
     ]
    },
    {
     "name": "stdout",
     "output_type": "stream",
     "text": [
      "Answers saved to outputs_pipeline/article5_answers03_1.json\n"
     ]
    },
    {
     "name": "stderr",
     "output_type": "stream",
     "text": [
      "Processing responses:  46%|████▋     | 989/2128 [03:17<07:36,  2.49it/s]"
     ]
    },
    {
     "name": "stdout",
     "output_type": "stream",
     "text": [
      "Answers saved to outputs_pipeline/article5_answers03_1.json\n"
     ]
    },
    {
     "name": "stderr",
     "output_type": "stream",
     "text": [
      "Processing responses:  47%|████▋     | 990/2128 [03:18<07:33,  2.51it/s]"
     ]
    },
    {
     "name": "stdout",
     "output_type": "stream",
     "text": [
      "Answers saved to outputs_pipeline/article5_answers03_1.json\n"
     ]
    },
    {
     "name": "stderr",
     "output_type": "stream",
     "text": [
      "Processing responses:  47%|████▋     | 991/2128 [03:18<07:31,  2.52it/s]"
     ]
    },
    {
     "name": "stdout",
     "output_type": "stream",
     "text": [
      "Answers saved to outputs_pipeline/article5_answers03_1.json\n"
     ]
    },
    {
     "name": "stderr",
     "output_type": "stream",
     "text": [
      "Processing responses:  47%|████▋     | 992/2128 [03:19<07:27,  2.54it/s]"
     ]
    },
    {
     "name": "stdout",
     "output_type": "stream",
     "text": [
      "Answers saved to outputs_pipeline/article5_answers03_1.json\n"
     ]
    },
    {
     "name": "stderr",
     "output_type": "stream",
     "text": [
      "Processing responses:  47%|████▋     | 993/2128 [03:19<07:42,  2.46it/s]"
     ]
    },
    {
     "name": "stdout",
     "output_type": "stream",
     "text": [
      "Answers saved to outputs_pipeline/article5_answers03_1.json\n"
     ]
    },
    {
     "name": "stderr",
     "output_type": "stream",
     "text": [
      "Processing responses:  47%|████▋     | 994/2128 [03:19<07:38,  2.47it/s]"
     ]
    },
    {
     "name": "stdout",
     "output_type": "stream",
     "text": [
      "Answers saved to outputs_pipeline/article5_answers03_1.json\n"
     ]
    },
    {
     "name": "stderr",
     "output_type": "stream",
     "text": [
      "Processing responses:  47%|████▋     | 995/2128 [03:20<07:34,  2.49it/s]"
     ]
    },
    {
     "name": "stdout",
     "output_type": "stream",
     "text": [
      "Answers saved to outputs_pipeline/article5_answers03_1.json\n"
     ]
    },
    {
     "name": "stderr",
     "output_type": "stream",
     "text": [
      "Processing responses:  47%|████▋     | 996/2128 [03:20<08:02,  2.34it/s]"
     ]
    },
    {
     "name": "stdout",
     "output_type": "stream",
     "text": [
      "Answers saved to outputs_pipeline/article5_answers03_1.json\n"
     ]
    },
    {
     "name": "stderr",
     "output_type": "stream",
     "text": [
      "Processing responses:  47%|████▋     | 997/2128 [03:21<08:21,  2.26it/s]"
     ]
    },
    {
     "name": "stdout",
     "output_type": "stream",
     "text": [
      "Answers saved to outputs_pipeline/article5_answers03_1.json\n"
     ]
    },
    {
     "name": "stderr",
     "output_type": "stream",
     "text": [
      "Processing responses:  47%|████▋     | 998/2128 [03:21<08:00,  2.35it/s]"
     ]
    },
    {
     "name": "stdout",
     "output_type": "stream",
     "text": [
      "Answers saved to outputs_pipeline/article5_answers03_1.json\n"
     ]
    },
    {
     "name": "stderr",
     "output_type": "stream",
     "text": [
      "Processing responses:  47%|████▋     | 999/2128 [03:22<08:30,  2.21it/s]"
     ]
    },
    {
     "name": "stdout",
     "output_type": "stream",
     "text": [
      "Answers saved to outputs_pipeline/article5_answers03_1.json\n"
     ]
    },
    {
     "name": "stderr",
     "output_type": "stream",
     "text": [
      "Processing responses:  47%|████▋     | 1000/2128 [03:22<08:34,  2.19it/s]"
     ]
    },
    {
     "name": "stdout",
     "output_type": "stream",
     "text": [
      "Answers saved to outputs_pipeline/article5_answers03_1.json\n"
     ]
    },
    {
     "name": "stderr",
     "output_type": "stream",
     "text": [
      "Processing responses:  47%|████▋     | 1001/2128 [03:22<08:10,  2.30it/s]"
     ]
    },
    {
     "name": "stdout",
     "output_type": "stream",
     "text": [
      "Answers saved to outputs_pipeline/article5_answers03_1.json\n"
     ]
    },
    {
     "name": "stderr",
     "output_type": "stream",
     "text": [
      "Processing responses:  47%|████▋     | 1002/2128 [03:23<08:03,  2.33it/s]"
     ]
    },
    {
     "name": "stdout",
     "output_type": "stream",
     "text": [
      "Answers saved to outputs_pipeline/article5_answers03_1.json\n"
     ]
    },
    {
     "name": "stderr",
     "output_type": "stream",
     "text": [
      "Processing responses:  47%|████▋     | 1003/2128 [03:23<08:23,  2.23it/s]"
     ]
    },
    {
     "name": "stdout",
     "output_type": "stream",
     "text": [
      "Answers saved to outputs_pipeline/article5_answers03_1.json\n"
     ]
    },
    {
     "name": "stderr",
     "output_type": "stream",
     "text": [
      "Processing responses:  47%|████▋     | 1004/2128 [03:24<08:02,  2.33it/s]"
     ]
    },
    {
     "name": "stdout",
     "output_type": "stream",
     "text": [
      "Answers saved to outputs_pipeline/article5_answers03_1.json\n"
     ]
    },
    {
     "name": "stderr",
     "output_type": "stream",
     "text": [
      "Processing responses:  47%|████▋     | 1005/2128 [03:24<08:00,  2.34it/s]"
     ]
    },
    {
     "name": "stdout",
     "output_type": "stream",
     "text": [
      "Answers saved to outputs_pipeline/article5_answers03_1.json\n"
     ]
    },
    {
     "name": "stderr",
     "output_type": "stream",
     "text": [
      "Processing responses:  47%|████▋     | 1006/2128 [03:25<07:53,  2.37it/s]"
     ]
    },
    {
     "name": "stdout",
     "output_type": "stream",
     "text": [
      "Answers saved to outputs_pipeline/article5_answers03_1.json\n"
     ]
    },
    {
     "name": "stderr",
     "output_type": "stream",
     "text": [
      "Processing responses:  47%|████▋     | 1007/2128 [03:25<07:42,  2.43it/s]"
     ]
    },
    {
     "name": "stdout",
     "output_type": "stream",
     "text": [
      "Answers saved to outputs_pipeline/article5_answers03_1.json\n"
     ]
    },
    {
     "name": "stderr",
     "output_type": "stream",
     "text": [
      "Processing responses:  47%|████▋     | 1008/2128 [03:25<07:33,  2.47it/s]"
     ]
    },
    {
     "name": "stdout",
     "output_type": "stream",
     "text": [
      "Answers saved to outputs_pipeline/article5_answers03_1.json\n"
     ]
    },
    {
     "name": "stderr",
     "output_type": "stream",
     "text": [
      "Processing responses:  47%|████▋     | 1009/2128 [03:26<07:28,  2.49it/s]"
     ]
    },
    {
     "name": "stdout",
     "output_type": "stream",
     "text": [
      "Answers saved to outputs_pipeline/article5_answers03_1.json\n"
     ]
    },
    {
     "name": "stderr",
     "output_type": "stream",
     "text": [
      "Processing responses:  47%|████▋     | 1010/2128 [03:26<07:27,  2.50it/s]"
     ]
    },
    {
     "name": "stdout",
     "output_type": "stream",
     "text": [
      "Answers saved to outputs_pipeline/article5_answers03_1.json\n"
     ]
    },
    {
     "name": "stderr",
     "output_type": "stream",
     "text": [
      "Processing responses:  48%|████▊     | 1011/2128 [03:27<07:34,  2.46it/s]"
     ]
    },
    {
     "name": "stdout",
     "output_type": "stream",
     "text": [
      "Answers saved to outputs_pipeline/article5_answers03_1.json\n"
     ]
    },
    {
     "name": "stderr",
     "output_type": "stream",
     "text": [
      "Processing responses:  48%|████▊     | 1012/2128 [03:27<07:59,  2.33it/s]"
     ]
    },
    {
     "name": "stdout",
     "output_type": "stream",
     "text": [
      "Answers saved to outputs_pipeline/article5_answers03_1.json\n"
     ]
    },
    {
     "name": "stderr",
     "output_type": "stream",
     "text": [
      "Processing responses:  48%|████▊     | 1013/2128 [03:27<07:48,  2.38it/s]"
     ]
    },
    {
     "name": "stdout",
     "output_type": "stream",
     "text": [
      "Answers saved to outputs_pipeline/article5_answers03_1.json\n"
     ]
    },
    {
     "name": "stderr",
     "output_type": "stream",
     "text": [
      "Processing responses:  48%|████▊     | 1014/2128 [03:28<07:40,  2.42it/s]"
     ]
    },
    {
     "name": "stdout",
     "output_type": "stream",
     "text": [
      "Answers saved to outputs_pipeline/article5_answers03_1.json\n"
     ]
    },
    {
     "name": "stderr",
     "output_type": "stream",
     "text": [
      "Processing responses:  48%|████▊     | 1015/2128 [03:28<07:34,  2.45it/s]"
     ]
    },
    {
     "name": "stdout",
     "output_type": "stream",
     "text": [
      "Answers saved to outputs_pipeline/article5_answers03_1.json\n"
     ]
    },
    {
     "name": "stderr",
     "output_type": "stream",
     "text": [
      "Processing responses:  48%|████▊     | 1016/2128 [03:29<07:30,  2.47it/s]"
     ]
    },
    {
     "name": "stdout",
     "output_type": "stream",
     "text": [
      "Answers saved to outputs_pipeline/article5_answers03_1.json\n"
     ]
    },
    {
     "name": "stderr",
     "output_type": "stream",
     "text": [
      "Processing responses:  48%|████▊     | 1017/2128 [03:29<07:38,  2.42it/s]"
     ]
    },
    {
     "name": "stdout",
     "output_type": "stream",
     "text": [
      "Answers saved to outputs_pipeline/article5_answers03_1.json\n"
     ]
    },
    {
     "name": "stderr",
     "output_type": "stream",
     "text": [
      "Processing responses:  48%|████▊     | 1018/2128 [03:29<07:30,  2.46it/s]"
     ]
    },
    {
     "name": "stdout",
     "output_type": "stream",
     "text": [
      "Answers saved to outputs_pipeline/article5_answers03_1.json\n"
     ]
    },
    {
     "name": "stderr",
     "output_type": "stream",
     "text": [
      "Processing responses:  48%|████▊     | 1019/2128 [03:30<07:31,  2.45it/s]"
     ]
    },
    {
     "name": "stdout",
     "output_type": "stream",
     "text": [
      "Answers saved to outputs_pipeline/article5_answers03_1.json\n"
     ]
    },
    {
     "name": "stderr",
     "output_type": "stream",
     "text": [
      "Processing responses:  48%|████▊     | 1020/2128 [03:30<07:30,  2.46it/s]"
     ]
    },
    {
     "name": "stdout",
     "output_type": "stream",
     "text": [
      "Answers saved to outputs_pipeline/article5_answers03_1.json\n"
     ]
    },
    {
     "name": "stderr",
     "output_type": "stream",
     "text": [
      "Processing responses:  48%|████▊     | 1021/2128 [03:31<07:28,  2.47it/s]"
     ]
    },
    {
     "name": "stdout",
     "output_type": "stream",
     "text": [
      "Answers saved to outputs_pipeline/article5_answers03_1.json\n"
     ]
    },
    {
     "name": "stderr",
     "output_type": "stream",
     "text": [
      "Processing responses:  48%|████▊     | 1022/2128 [03:31<07:50,  2.35it/s]"
     ]
    },
    {
     "name": "stdout",
     "output_type": "stream",
     "text": [
      "Answers saved to outputs_pipeline/article5_answers03_1.json\n"
     ]
    },
    {
     "name": "stderr",
     "output_type": "stream",
     "text": [
      "Processing responses:  48%|████▊     | 1023/2128 [03:32<08:34,  2.15it/s]"
     ]
    },
    {
     "name": "stdout",
     "output_type": "stream",
     "text": [
      "Answers saved to outputs_pipeline/article5_answers03_1.json\n"
     ]
    },
    {
     "name": "stderr",
     "output_type": "stream",
     "text": [
      "Processing responses:  48%|████▊     | 1024/2128 [03:32<08:12,  2.24it/s]"
     ]
    },
    {
     "name": "stdout",
     "output_type": "stream",
     "text": [
      "Answers saved to outputs_pipeline/article5_answers03_1.json\n"
     ]
    },
    {
     "name": "stderr",
     "output_type": "stream",
     "text": [
      "Processing responses:  48%|████▊     | 1025/2128 [03:33<08:00,  2.30it/s]"
     ]
    },
    {
     "name": "stdout",
     "output_type": "stream",
     "text": [
      "Answers saved to outputs_pipeline/article5_answers03_1.json\n"
     ]
    },
    {
     "name": "stderr",
     "output_type": "stream",
     "text": [
      "Processing responses:  48%|████▊     | 1026/2128 [03:33<07:49,  2.35it/s]"
     ]
    },
    {
     "name": "stdout",
     "output_type": "stream",
     "text": [
      "Answers saved to outputs_pipeline/article5_answers03_1.json\n"
     ]
    },
    {
     "name": "stderr",
     "output_type": "stream",
     "text": [
      "Processing responses:  48%|████▊     | 1027/2128 [03:33<07:42,  2.38it/s]"
     ]
    },
    {
     "name": "stdout",
     "output_type": "stream",
     "text": [
      "Answers saved to outputs_pipeline/article5_answers03_1.json\n"
     ]
    },
    {
     "name": "stderr",
     "output_type": "stream",
     "text": [
      "Processing responses:  48%|████▊     | 1028/2128 [03:34<07:47,  2.35it/s]"
     ]
    },
    {
     "name": "stdout",
     "output_type": "stream",
     "text": [
      "Answers saved to outputs_pipeline/article5_answers03_1.json\n"
     ]
    },
    {
     "name": "stderr",
     "output_type": "stream",
     "text": [
      "Processing responses:  48%|████▊     | 1029/2128 [03:34<08:11,  2.24it/s]"
     ]
    },
    {
     "name": "stdout",
     "output_type": "stream",
     "text": [
      "Answers saved to outputs_pipeline/article5_answers03_1.json\n"
     ]
    },
    {
     "name": "stderr",
     "output_type": "stream",
     "text": [
      "Processing responses:  48%|████▊     | 1030/2128 [03:35<07:57,  2.30it/s]"
     ]
    },
    {
     "name": "stdout",
     "output_type": "stream",
     "text": [
      "Answers saved to outputs_pipeline/article5_answers03_1.json\n"
     ]
    },
    {
     "name": "stderr",
     "output_type": "stream",
     "text": [
      "Processing responses:  48%|████▊     | 1031/2128 [03:35<09:13,  1.98it/s]"
     ]
    },
    {
     "name": "stdout",
     "output_type": "stream",
     "text": [
      "Answers saved to outputs_pipeline/article5_answers03_1.json\n"
     ]
    },
    {
     "name": "stderr",
     "output_type": "stream",
     "text": [
      "Processing responses:  48%|████▊     | 1032/2128 [03:36<08:41,  2.10it/s]"
     ]
    },
    {
     "name": "stdout",
     "output_type": "stream",
     "text": [
      "Answers saved to outputs_pipeline/article5_answers03_1.json\n"
     ]
    },
    {
     "name": "stderr",
     "output_type": "stream",
     "text": [
      "Processing responses:  49%|████▊     | 1033/2128 [03:36<08:25,  2.17it/s]"
     ]
    },
    {
     "name": "stdout",
     "output_type": "stream",
     "text": [
      "Answers saved to outputs_pipeline/article5_answers03_1.json\n"
     ]
    },
    {
     "name": "stderr",
     "output_type": "stream",
     "text": [
      "Processing responses:  49%|████▊     | 1034/2128 [03:37<08:14,  2.21it/s]"
     ]
    },
    {
     "name": "stdout",
     "output_type": "stream",
     "text": [
      "Answers saved to outputs_pipeline/article5_answers03_1.json\n"
     ]
    },
    {
     "name": "stderr",
     "output_type": "stream",
     "text": [
      "Processing responses:  49%|████▊     | 1035/2128 [03:37<07:56,  2.29it/s]"
     ]
    },
    {
     "name": "stdout",
     "output_type": "stream",
     "text": [
      "Answers saved to outputs_pipeline/article5_answers03_1.json\n"
     ]
    },
    {
     "name": "stderr",
     "output_type": "stream",
     "text": [
      "Processing responses:  49%|████▊     | 1036/2128 [03:37<07:45,  2.35it/s]"
     ]
    },
    {
     "name": "stdout",
     "output_type": "stream",
     "text": [
      "Answers saved to outputs_pipeline/article5_answers03_1.json\n"
     ]
    },
    {
     "name": "stderr",
     "output_type": "stream",
     "text": [
      "Processing responses:  49%|████▊     | 1037/2128 [03:38<07:38,  2.38it/s]"
     ]
    },
    {
     "name": "stdout",
     "output_type": "stream",
     "text": [
      "Answers saved to outputs_pipeline/article5_answers03_1.json\n"
     ]
    },
    {
     "name": "stderr",
     "output_type": "stream",
     "text": [
      "Processing responses:  49%|████▉     | 1038/2128 [03:38<07:33,  2.40it/s]"
     ]
    },
    {
     "name": "stdout",
     "output_type": "stream",
     "text": [
      "Answers saved to outputs_pipeline/article5_answers03_1.json\n"
     ]
    },
    {
     "name": "stderr",
     "output_type": "stream",
     "text": [
      "Processing responses:  49%|████▉     | 1039/2128 [03:39<07:30,  2.42it/s]"
     ]
    },
    {
     "name": "stdout",
     "output_type": "stream",
     "text": [
      "Answers saved to outputs_pipeline/article5_answers03_1.json\n"
     ]
    },
    {
     "name": "stderr",
     "output_type": "stream",
     "text": [
      "Processing responses:  49%|████▉     | 1040/2128 [03:39<07:35,  2.39it/s]"
     ]
    },
    {
     "name": "stdout",
     "output_type": "stream",
     "text": [
      "Answers saved to outputs_pipeline/article5_answers03_1.json\n"
     ]
    },
    {
     "name": "stderr",
     "output_type": "stream",
     "text": [
      "Processing responses:  49%|████▉     | 1041/2128 [03:39<07:32,  2.40it/s]"
     ]
    },
    {
     "name": "stdout",
     "output_type": "stream",
     "text": [
      "Answers saved to outputs_pipeline/article5_answers03_1.json\n"
     ]
    },
    {
     "name": "stderr",
     "output_type": "stream",
     "text": [
      "Processing responses:  49%|████▉     | 1042/2128 [03:40<07:27,  2.43it/s]"
     ]
    },
    {
     "name": "stdout",
     "output_type": "stream",
     "text": [
      "Answers saved to outputs_pipeline/article5_answers03_1.json\n"
     ]
    },
    {
     "name": "stderr",
     "output_type": "stream",
     "text": [
      "Processing responses:  49%|████▉     | 1043/2128 [03:40<07:27,  2.43it/s]"
     ]
    },
    {
     "name": "stdout",
     "output_type": "stream",
     "text": [
      "Answers saved to outputs_pipeline/article5_answers03_1.json\n"
     ]
    },
    {
     "name": "stderr",
     "output_type": "stream",
     "text": [
      "Processing responses:  49%|████▉     | 1044/2128 [03:41<07:27,  2.42it/s]"
     ]
    },
    {
     "name": "stdout",
     "output_type": "stream",
     "text": [
      "Answers saved to outputs_pipeline/article5_answers03_1.json\n"
     ]
    },
    {
     "name": "stderr",
     "output_type": "stream",
     "text": [
      "Processing responses:  49%|████▉     | 1045/2128 [03:41<07:30,  2.40it/s]"
     ]
    },
    {
     "name": "stdout",
     "output_type": "stream",
     "text": [
      "Answers saved to outputs_pipeline/article5_answers03_1.json\n"
     ]
    },
    {
     "name": "stderr",
     "output_type": "stream",
     "text": [
      "Processing responses:  49%|████▉     | 1046/2128 [03:42<07:38,  2.36it/s]"
     ]
    },
    {
     "name": "stdout",
     "output_type": "stream",
     "text": [
      "Answers saved to outputs_pipeline/article5_answers03_1.json\n"
     ]
    },
    {
     "name": "stderr",
     "output_type": "stream",
     "text": [
      "Processing responses:  49%|████▉     | 1047/2128 [03:42<07:52,  2.29it/s]"
     ]
    },
    {
     "name": "stdout",
     "output_type": "stream",
     "text": [
      "Answers saved to outputs_pipeline/article5_answers03_1.json\n"
     ]
    },
    {
     "name": "stderr",
     "output_type": "stream",
     "text": [
      "Processing responses:  49%|████▉     | 1048/2128 [03:43<08:33,  2.11it/s]"
     ]
    },
    {
     "name": "stdout",
     "output_type": "stream",
     "text": [
      "Answers saved to outputs_pipeline/article5_answers03_1.json\n"
     ]
    },
    {
     "name": "stderr",
     "output_type": "stream",
     "text": [
      "Processing responses:  49%|████▉     | 1049/2128 [03:43<08:10,  2.20it/s]"
     ]
    },
    {
     "name": "stdout",
     "output_type": "stream",
     "text": [
      "Answers saved to outputs_pipeline/article5_answers03_1.json\n"
     ]
    },
    {
     "name": "stderr",
     "output_type": "stream",
     "text": [
      "Processing responses:  49%|████▉     | 1050/2128 [03:43<07:55,  2.27it/s]"
     ]
    },
    {
     "name": "stdout",
     "output_type": "stream",
     "text": [
      "Answers saved to outputs_pipeline/article5_answers03_1.json\n"
     ]
    },
    {
     "name": "stderr",
     "output_type": "stream",
     "text": [
      "Processing responses:  49%|████▉     | 1051/2128 [03:44<07:58,  2.25it/s]"
     ]
    },
    {
     "name": "stdout",
     "output_type": "stream",
     "text": [
      "Answers saved to outputs_pipeline/article5_answers03_1.json\n"
     ]
    },
    {
     "name": "stderr",
     "output_type": "stream",
     "text": [
      "Processing responses:  49%|████▉     | 1052/2128 [03:44<07:45,  2.31it/s]"
     ]
    },
    {
     "name": "stdout",
     "output_type": "stream",
     "text": [
      "Answers saved to outputs_pipeline/article5_answers03_1.json\n"
     ]
    },
    {
     "name": "stderr",
     "output_type": "stream",
     "text": [
      "Processing responses:  49%|████▉     | 1053/2128 [03:45<08:06,  2.21it/s]"
     ]
    },
    {
     "name": "stdout",
     "output_type": "stream",
     "text": [
      "Answers saved to outputs_pipeline/article5_answers03_1.json\n"
     ]
    },
    {
     "name": "stderr",
     "output_type": "stream",
     "text": [
      "Processing responses:  50%|████▉     | 1054/2128 [03:45<08:31,  2.10it/s]"
     ]
    },
    {
     "name": "stdout",
     "output_type": "stream",
     "text": [
      "Answers saved to outputs_pipeline/article5_answers03_1.json\n"
     ]
    },
    {
     "name": "stderr",
     "output_type": "stream",
     "text": [
      "Processing responses:  50%|████▉     | 1055/2128 [03:46<08:12,  2.18it/s]"
     ]
    },
    {
     "name": "stdout",
     "output_type": "stream",
     "text": [
      "Answers saved to outputs_pipeline/article5_answers03_1.json\n"
     ]
    },
    {
     "name": "stderr",
     "output_type": "stream",
     "text": [
      "Processing responses:  50%|████▉     | 1056/2128 [03:46<07:58,  2.24it/s]"
     ]
    },
    {
     "name": "stdout",
     "output_type": "stream",
     "text": [
      "Answers saved to outputs_pipeline/article5_answers03_1.json\n"
     ]
    },
    {
     "name": "stderr",
     "output_type": "stream",
     "text": [
      "Processing responses:  50%|████▉     | 1057/2128 [03:47<07:55,  2.25it/s]"
     ]
    },
    {
     "name": "stdout",
     "output_type": "stream",
     "text": [
      "Answers saved to outputs_pipeline/article5_answers03_1.json\n"
     ]
    },
    {
     "name": "stderr",
     "output_type": "stream",
     "text": [
      "Processing responses:  50%|████▉     | 1058/2128 [03:47<07:44,  2.31it/s]"
     ]
    },
    {
     "name": "stdout",
     "output_type": "stream",
     "text": [
      "Answers saved to outputs_pipeline/article5_answers03_1.json\n"
     ]
    },
    {
     "name": "stderr",
     "output_type": "stream",
     "text": [
      "Processing responses:  50%|████▉     | 1059/2128 [03:48<08:12,  2.17it/s]"
     ]
    },
    {
     "name": "stdout",
     "output_type": "stream",
     "text": [
      "Answers saved to outputs_pipeline/article5_answers03_1.json\n"
     ]
    },
    {
     "name": "stderr",
     "output_type": "stream",
     "text": [
      "Processing responses:  50%|████▉     | 1060/2128 [03:48<08:16,  2.15it/s]"
     ]
    },
    {
     "name": "stdout",
     "output_type": "stream",
     "text": [
      "Answers saved to outputs_pipeline/article5_answers03_1.json\n"
     ]
    },
    {
     "name": "stderr",
     "output_type": "stream",
     "text": [
      "Processing responses:  50%|████▉     | 1061/2128 [03:48<08:00,  2.22it/s]"
     ]
    },
    {
     "name": "stdout",
     "output_type": "stream",
     "text": [
      "Answers saved to outputs_pipeline/article5_answers03_1.json\n"
     ]
    },
    {
     "name": "stderr",
     "output_type": "stream",
     "text": [
      "Processing responses:  50%|████▉     | 1062/2128 [03:49<07:52,  2.26it/s]"
     ]
    },
    {
     "name": "stdout",
     "output_type": "stream",
     "text": [
      "Answers saved to outputs_pipeline/article5_answers03_1.json\n"
     ]
    },
    {
     "name": "stderr",
     "output_type": "stream",
     "text": [
      "Processing responses:  50%|████▉     | 1063/2128 [03:49<07:41,  2.31it/s]"
     ]
    },
    {
     "name": "stdout",
     "output_type": "stream",
     "text": [
      "Answers saved to outputs_pipeline/article5_answers03_1.json\n"
     ]
    },
    {
     "name": "stderr",
     "output_type": "stream",
     "text": [
      "Processing responses:  50%|█████     | 1064/2128 [03:50<07:35,  2.33it/s]"
     ]
    },
    {
     "name": "stdout",
     "output_type": "stream",
     "text": [
      "Answers saved to outputs_pipeline/article5_answers03_1.json\n"
     ]
    },
    {
     "name": "stderr",
     "output_type": "stream",
     "text": [
      "Processing responses:  50%|█████     | 1065/2128 [03:50<07:33,  2.35it/s]"
     ]
    },
    {
     "name": "stdout",
     "output_type": "stream",
     "text": [
      "Answers saved to outputs_pipeline/article5_answers03_1.json\n"
     ]
    },
    {
     "name": "stderr",
     "output_type": "stream",
     "text": [
      "Processing responses:  50%|█████     | 1066/2128 [03:51<07:33,  2.34it/s]"
     ]
    },
    {
     "name": "stdout",
     "output_type": "stream",
     "text": [
      "Answers saved to outputs_pipeline/article5_answers03_1.json\n"
     ]
    },
    {
     "name": "stderr",
     "output_type": "stream",
     "text": [
      "Processing responses:  50%|█████     | 1067/2128 [03:51<07:32,  2.35it/s]"
     ]
    },
    {
     "name": "stdout",
     "output_type": "stream",
     "text": [
      "Answers saved to outputs_pipeline/article5_answers03_1.json\n"
     ]
    },
    {
     "name": "stderr",
     "output_type": "stream",
     "text": [
      "Processing responses:  50%|█████     | 1068/2128 [03:51<07:33,  2.34it/s]"
     ]
    },
    {
     "name": "stdout",
     "output_type": "stream",
     "text": [
      "Answers saved to outputs_pipeline/article5_answers03_1.json\n"
     ]
    },
    {
     "name": "stderr",
     "output_type": "stream",
     "text": [
      "Processing responses:  50%|█████     | 1069/2128 [03:52<07:34,  2.33it/s]"
     ]
    },
    {
     "name": "stdout",
     "output_type": "stream",
     "text": [
      "Answers saved to outputs_pipeline/article5_answers03_1.json\n"
     ]
    },
    {
     "name": "stderr",
     "output_type": "stream",
     "text": [
      "Processing responses:  50%|█████     | 1070/2128 [03:52<07:28,  2.36it/s]"
     ]
    },
    {
     "name": "stdout",
     "output_type": "stream",
     "text": [
      "Answers saved to outputs_pipeline/article5_answers03_1.json\n"
     ]
    },
    {
     "name": "stderr",
     "output_type": "stream",
     "text": [
      "Processing responses:  50%|█████     | 1071/2128 [03:53<07:26,  2.37it/s]"
     ]
    },
    {
     "name": "stdout",
     "output_type": "stream",
     "text": [
      "Answers saved to outputs_pipeline/article5_answers03_1.json\n"
     ]
    },
    {
     "name": "stderr",
     "output_type": "stream",
     "text": [
      "Processing responses:  50%|█████     | 1072/2128 [03:53<07:22,  2.39it/s]"
     ]
    },
    {
     "name": "stdout",
     "output_type": "stream",
     "text": [
      "Answers saved to outputs_pipeline/article5_answers03_1.json\n"
     ]
    },
    {
     "name": "stderr",
     "output_type": "stream",
     "text": [
      "Processing responses:  50%|█████     | 1073/2128 [03:53<07:26,  2.36it/s]"
     ]
    },
    {
     "name": "stdout",
     "output_type": "stream",
     "text": [
      "Answers saved to outputs_pipeline/article5_answers03_1.json\n"
     ]
    },
    {
     "name": "stderr",
     "output_type": "stream",
     "text": [
      "Processing responses:  50%|█████     | 1074/2128 [03:54<07:24,  2.37it/s]"
     ]
    },
    {
     "name": "stdout",
     "output_type": "stream",
     "text": [
      "Answers saved to outputs_pipeline/article5_answers03_1.json\n"
     ]
    },
    {
     "name": "stderr",
     "output_type": "stream",
     "text": [
      "Processing responses:  51%|█████     | 1075/2128 [03:54<08:15,  2.12it/s]"
     ]
    },
    {
     "name": "stdout",
     "output_type": "stream",
     "text": [
      "Answers saved to outputs_pipeline/article5_answers03_1.json\n"
     ]
    },
    {
     "name": "stderr",
     "output_type": "stream",
     "text": [
      "Processing responses:  51%|█████     | 1076/2128 [03:55<07:58,  2.20it/s]"
     ]
    },
    {
     "name": "stdout",
     "output_type": "stream",
     "text": [
      "Answers saved to outputs_pipeline/article5_answers03_1.json\n"
     ]
    },
    {
     "name": "stderr",
     "output_type": "stream",
     "text": [
      "Processing responses:  51%|█████     | 1077/2128 [03:55<07:47,  2.25it/s]"
     ]
    },
    {
     "name": "stdout",
     "output_type": "stream",
     "text": [
      "Answers saved to outputs_pipeline/article5_answers03_1.json\n"
     ]
    },
    {
     "name": "stderr",
     "output_type": "stream",
     "text": [
      "Processing responses:  51%|█████     | 1078/2128 [03:56<07:38,  2.29it/s]"
     ]
    },
    {
     "name": "stdout",
     "output_type": "stream",
     "text": [
      "Answers saved to outputs_pipeline/article5_answers03_1.json\n"
     ]
    },
    {
     "name": "stderr",
     "output_type": "stream",
     "text": [
      "Processing responses:  51%|█████     | 1079/2128 [03:56<07:42,  2.27it/s]"
     ]
    },
    {
     "name": "stdout",
     "output_type": "stream",
     "text": [
      "Answers saved to outputs_pipeline/article5_answers03_1.json\n"
     ]
    },
    {
     "name": "stderr",
     "output_type": "stream",
     "text": [
      "Processing responses:  51%|█████     | 1080/2128 [03:57<07:36,  2.29it/s]"
     ]
    },
    {
     "name": "stdout",
     "output_type": "stream",
     "text": [
      "Answers saved to outputs_pipeline/article5_answers03_1.json\n"
     ]
    },
    {
     "name": "stderr",
     "output_type": "stream",
     "text": [
      "Processing responses:  51%|█████     | 1081/2128 [03:57<07:30,  2.32it/s]"
     ]
    },
    {
     "name": "stdout",
     "output_type": "stream",
     "text": [
      "Answers saved to outputs_pipeline/article5_answers03_1.json\n"
     ]
    },
    {
     "name": "stderr",
     "output_type": "stream",
     "text": [
      "Processing responses:  51%|█████     | 1082/2128 [03:57<07:26,  2.34it/s]"
     ]
    },
    {
     "name": "stdout",
     "output_type": "stream",
     "text": [
      "Answers saved to outputs_pipeline/article5_answers03_1.json\n"
     ]
    },
    {
     "name": "stderr",
     "output_type": "stream",
     "text": [
      "Processing responses:  51%|█████     | 1083/2128 [03:58<07:28,  2.33it/s]"
     ]
    },
    {
     "name": "stdout",
     "output_type": "stream",
     "text": [
      "Answers saved to outputs_pipeline/article5_answers03_1.json\n"
     ]
    },
    {
     "name": "stderr",
     "output_type": "stream",
     "text": [
      "Processing responses:  51%|█████     | 1084/2128 [03:58<07:40,  2.27it/s]"
     ]
    },
    {
     "name": "stdout",
     "output_type": "stream",
     "text": [
      "Answers saved to outputs_pipeline/article5_answers03_1.json\n"
     ]
    },
    {
     "name": "stderr",
     "output_type": "stream",
     "text": [
      "Processing responses:  51%|█████     | 1085/2128 [03:59<07:34,  2.29it/s]"
     ]
    },
    {
     "name": "stdout",
     "output_type": "stream",
     "text": [
      "Answers saved to outputs_pipeline/article5_answers03_1.json\n"
     ]
    },
    {
     "name": "stderr",
     "output_type": "stream",
     "text": [
      "Processing responses:  51%|█████     | 1086/2128 [03:59<07:32,  2.30it/s]"
     ]
    },
    {
     "name": "stdout",
     "output_type": "stream",
     "text": [
      "Answers saved to outputs_pipeline/article5_answers03_1.json\n"
     ]
    },
    {
     "name": "stderr",
     "output_type": "stream",
     "text": [
      "Processing responses:  51%|█████     | 1087/2128 [04:00<07:27,  2.32it/s]"
     ]
    },
    {
     "name": "stdout",
     "output_type": "stream",
     "text": [
      "Answers saved to outputs_pipeline/article5_answers03_1.json\n"
     ]
    },
    {
     "name": "stderr",
     "output_type": "stream",
     "text": [
      "Processing responses:  51%|█████     | 1088/2128 [04:00<07:25,  2.33it/s]"
     ]
    },
    {
     "name": "stdout",
     "output_type": "stream",
     "text": [
      "Answers saved to outputs_pipeline/article5_answers03_1.json\n"
     ]
    },
    {
     "name": "stderr",
     "output_type": "stream",
     "text": [
      "Processing responses:  51%|█████     | 1089/2128 [04:00<07:26,  2.33it/s]"
     ]
    },
    {
     "name": "stdout",
     "output_type": "stream",
     "text": [
      "Answers saved to outputs_pipeline/article5_answers03_1.json\n"
     ]
    },
    {
     "name": "stderr",
     "output_type": "stream",
     "text": [
      "Processing responses:  51%|█████     | 1090/2128 [04:01<07:32,  2.29it/s]"
     ]
    },
    {
     "name": "stdout",
     "output_type": "stream",
     "text": [
      "Answers saved to outputs_pipeline/article5_answers03_1.json\n"
     ]
    },
    {
     "name": "stderr",
     "output_type": "stream",
     "text": [
      "Processing responses:  51%|█████▏    | 1091/2128 [04:01<07:29,  2.31it/s]"
     ]
    },
    {
     "name": "stdout",
     "output_type": "stream",
     "text": [
      "Answers saved to outputs_pipeline/article5_answers03_1.json\n"
     ]
    },
    {
     "name": "stderr",
     "output_type": "stream",
     "text": [
      "Processing responses:  51%|█████▏    | 1092/2128 [04:02<07:28,  2.31it/s]"
     ]
    },
    {
     "name": "stdout",
     "output_type": "stream",
     "text": [
      "Answers saved to outputs_pipeline/article5_answers03_1.json\n"
     ]
    },
    {
     "name": "stderr",
     "output_type": "stream",
     "text": [
      "Processing responses:  51%|█████▏    | 1093/2128 [04:02<07:26,  2.32it/s]"
     ]
    },
    {
     "name": "stdout",
     "output_type": "stream",
     "text": [
      "Answers saved to outputs_pipeline/article5_answers03_1.json\n"
     ]
    },
    {
     "name": "stderr",
     "output_type": "stream",
     "text": [
      "Processing responses:  51%|█████▏    | 1094/2128 [04:03<07:26,  2.31it/s]"
     ]
    },
    {
     "name": "stdout",
     "output_type": "stream",
     "text": [
      "Answers saved to outputs_pipeline/article5_answers03_1.json\n"
     ]
    },
    {
     "name": "stderr",
     "output_type": "stream",
     "text": [
      "Processing responses:  51%|█████▏    | 1095/2128 [04:03<07:25,  2.32it/s]"
     ]
    },
    {
     "name": "stdout",
     "output_type": "stream",
     "text": [
      "Answers saved to outputs_pipeline/article5_answers03_1.json\n"
     ]
    },
    {
     "name": "stderr",
     "output_type": "stream",
     "text": [
      "Processing responses:  52%|█████▏    | 1096/2128 [04:04<07:28,  2.30it/s]"
     ]
    },
    {
     "name": "stdout",
     "output_type": "stream",
     "text": [
      "Answers saved to outputs_pipeline/article5_answers03_1.json\n"
     ]
    },
    {
     "name": "stderr",
     "output_type": "stream",
     "text": [
      "Processing responses:  52%|█████▏    | 1097/2128 [04:04<07:25,  2.32it/s]"
     ]
    },
    {
     "name": "stdout",
     "output_type": "stream",
     "text": [
      "Answers saved to outputs_pipeline/article5_answers03_1.json\n"
     ]
    },
    {
     "name": "stderr",
     "output_type": "stream",
     "text": [
      "Processing responses:  52%|█████▏    | 1098/2128 [04:04<07:22,  2.33it/s]"
     ]
    },
    {
     "name": "stdout",
     "output_type": "stream",
     "text": [
      "Answers saved to outputs_pipeline/article5_answers03_1.json\n"
     ]
    },
    {
     "name": "stderr",
     "output_type": "stream",
     "text": [
      "Processing responses:  52%|█████▏    | 1099/2128 [04:05<07:22,  2.32it/s]"
     ]
    },
    {
     "name": "stdout",
     "output_type": "stream",
     "text": [
      "Answers saved to outputs_pipeline/article5_answers03_1.json\n"
     ]
    },
    {
     "name": "stderr",
     "output_type": "stream",
     "text": [
      "Processing responses:  52%|█████▏    | 1100/2128 [04:05<07:22,  2.32it/s]"
     ]
    },
    {
     "name": "stdout",
     "output_type": "stream",
     "text": [
      "Answers saved to outputs_pipeline/article5_answers03_1.json\n"
     ]
    },
    {
     "name": "stderr",
     "output_type": "stream",
     "text": [
      "Processing responses:  52%|█████▏    | 1101/2128 [04:06<07:26,  2.30it/s]"
     ]
    },
    {
     "name": "stdout",
     "output_type": "stream",
     "text": [
      "Answers saved to outputs_pipeline/article5_answers03_1.json\n"
     ]
    },
    {
     "name": "stderr",
     "output_type": "stream",
     "text": [
      "Processing responses:  52%|█████▏    | 1102/2128 [04:06<07:24,  2.31it/s]"
     ]
    },
    {
     "name": "stdout",
     "output_type": "stream",
     "text": [
      "Answers saved to outputs_pipeline/article5_answers03_1.json\n"
     ]
    },
    {
     "name": "stderr",
     "output_type": "stream",
     "text": [
      "Processing responses:  52%|█████▏    | 1103/2128 [04:07<07:50,  2.18it/s]"
     ]
    },
    {
     "name": "stdout",
     "output_type": "stream",
     "text": [
      "Answers saved to outputs_pipeline/article5_answers03_1.json\n"
     ]
    },
    {
     "name": "stderr",
     "output_type": "stream",
     "text": [
      "Processing responses:  52%|█████▏    | 1104/2128 [04:07<08:03,  2.12it/s]"
     ]
    },
    {
     "name": "stdout",
     "output_type": "stream",
     "text": [
      "Answers saved to outputs_pipeline/article5_answers03_1.json\n"
     ]
    },
    {
     "name": "stderr",
     "output_type": "stream",
     "text": [
      "Processing responses:  52%|█████▏    | 1105/2128 [04:08<07:49,  2.18it/s]"
     ]
    },
    {
     "name": "stdout",
     "output_type": "stream",
     "text": [
      "Answers saved to outputs_pipeline/article5_answers03_1.json\n"
     ]
    },
    {
     "name": "stderr",
     "output_type": "stream",
     "text": [
      "Processing responses:  52%|█████▏    | 1106/2128 [04:08<08:31,  2.00it/s]"
     ]
    },
    {
     "name": "stdout",
     "output_type": "stream",
     "text": [
      "Answers saved to outputs_pipeline/article5_answers03_1.json\n"
     ]
    },
    {
     "name": "stderr",
     "output_type": "stream",
     "text": [
      "Processing responses:  52%|█████▏    | 1107/2128 [04:09<08:22,  2.03it/s]"
     ]
    },
    {
     "name": "stdout",
     "output_type": "stream",
     "text": [
      "Answers saved to outputs_pipeline/article5_answers03_1.json\n"
     ]
    },
    {
     "name": "stderr",
     "output_type": "stream",
     "text": [
      "Processing responses:  52%|█████▏    | 1108/2128 [04:09<08:03,  2.11it/s]"
     ]
    },
    {
     "name": "stdout",
     "output_type": "stream",
     "text": [
      "Answers saved to outputs_pipeline/article5_answers03_1.json\n"
     ]
    },
    {
     "name": "stderr",
     "output_type": "stream",
     "text": [
      "Processing responses:  52%|█████▏    | 1109/2128 [04:10<07:50,  2.16it/s]"
     ]
    },
    {
     "name": "stdout",
     "output_type": "stream",
     "text": [
      "Answers saved to outputs_pipeline/article5_answers03_1.json\n"
     ]
    },
    {
     "name": "stderr",
     "output_type": "stream",
     "text": [
      "Processing responses:  52%|█████▏    | 1110/2128 [04:10<07:44,  2.19it/s]"
     ]
    },
    {
     "name": "stdout",
     "output_type": "stream",
     "text": [
      "Answers saved to outputs_pipeline/article5_answers03_1.json\n"
     ]
    },
    {
     "name": "stderr",
     "output_type": "stream",
     "text": [
      "Processing responses:  52%|█████▏    | 1111/2128 [04:10<07:36,  2.23it/s]"
     ]
    },
    {
     "name": "stdout",
     "output_type": "stream",
     "text": [
      "Answers saved to outputs_pipeline/article5_answers03_1.json\n"
     ]
    },
    {
     "name": "stderr",
     "output_type": "stream",
     "text": [
      "Processing responses:  52%|█████▏    | 1112/2128 [04:11<07:45,  2.18it/s]"
     ]
    },
    {
     "name": "stdout",
     "output_type": "stream",
     "text": [
      "Answers saved to outputs_pipeline/article5_answers03_1.json\n"
     ]
    },
    {
     "name": "stderr",
     "output_type": "stream",
     "text": [
      "Processing responses:  52%|█████▏    | 1113/2128 [04:11<07:35,  2.23it/s]"
     ]
    },
    {
     "name": "stdout",
     "output_type": "stream",
     "text": [
      "Answers saved to outputs_pipeline/article5_answers03_1.json\n"
     ]
    },
    {
     "name": "stderr",
     "output_type": "stream",
     "text": [
      "Processing responses:  52%|█████▏    | 1114/2128 [04:12<07:31,  2.25it/s]"
     ]
    },
    {
     "name": "stdout",
     "output_type": "stream",
     "text": [
      "Answers saved to outputs_pipeline/article5_answers03_1.json\n"
     ]
    },
    {
     "name": "stderr",
     "output_type": "stream",
     "text": [
      "Processing responses:  52%|█████▏    | 1115/2128 [04:12<07:27,  2.27it/s]"
     ]
    },
    {
     "name": "stdout",
     "output_type": "stream",
     "text": [
      "Answers saved to outputs_pipeline/article5_answers03_1.json\n"
     ]
    },
    {
     "name": "stderr",
     "output_type": "stream",
     "text": [
      "Processing responses:  52%|█████▏    | 1116/2128 [04:13<07:22,  2.29it/s]"
     ]
    },
    {
     "name": "stdout",
     "output_type": "stream",
     "text": [
      "Answers saved to outputs_pipeline/article5_answers03_1.json\n"
     ]
    },
    {
     "name": "stderr",
     "output_type": "stream",
     "text": [
      "Processing responses:  52%|█████▏    | 1117/2128 [04:13<07:19,  2.30it/s]"
     ]
    },
    {
     "name": "stdout",
     "output_type": "stream",
     "text": [
      "Answers saved to outputs_pipeline/article5_answers03_1.json\n"
     ]
    },
    {
     "name": "stderr",
     "output_type": "stream",
     "text": [
      "Processing responses:  53%|█████▎    | 1118/2128 [04:13<07:26,  2.26it/s]"
     ]
    },
    {
     "name": "stdout",
     "output_type": "stream",
     "text": [
      "Answers saved to outputs_pipeline/article5_answers03_1.json\n"
     ]
    },
    {
     "name": "stderr",
     "output_type": "stream",
     "text": [
      "Processing responses:  53%|█████▎    | 1119/2128 [04:14<08:15,  2.04it/s]"
     ]
    },
    {
     "name": "stdout",
     "output_type": "stream",
     "text": [
      "Answers saved to outputs_pipeline/article5_answers03_1.json\n"
     ]
    },
    {
     "name": "stderr",
     "output_type": "stream",
     "text": [
      "Processing responses:  53%|█████▎    | 1120/2128 [04:15<07:56,  2.12it/s]"
     ]
    },
    {
     "name": "stdout",
     "output_type": "stream",
     "text": [
      "Answers saved to outputs_pipeline/article5_answers03_1.json\n"
     ]
    },
    {
     "name": "stderr",
     "output_type": "stream",
     "text": [
      "Processing responses:  53%|█████▎    | 1121/2128 [04:15<07:50,  2.14it/s]"
     ]
    },
    {
     "name": "stdout",
     "output_type": "stream",
     "text": [
      "Answers saved to outputs_pipeline/article5_answers03_1.json\n"
     ]
    },
    {
     "name": "stderr",
     "output_type": "stream",
     "text": [
      "Processing responses:  53%|█████▎    | 1122/2128 [04:15<07:40,  2.18it/s]"
     ]
    },
    {
     "name": "stdout",
     "output_type": "stream",
     "text": [
      "Answers saved to outputs_pipeline/article5_answers03_1.json\n"
     ]
    },
    {
     "name": "stderr",
     "output_type": "stream",
     "text": [
      "Processing responses:  53%|█████▎    | 1123/2128 [04:16<07:39,  2.19it/s]"
     ]
    },
    {
     "name": "stdout",
     "output_type": "stream",
     "text": [
      "Answers saved to outputs_pipeline/article5_answers03_1.json\n"
     ]
    },
    {
     "name": "stderr",
     "output_type": "stream",
     "text": [
      "Processing responses:  53%|█████▎    | 1124/2128 [04:16<07:33,  2.21it/s]"
     ]
    },
    {
     "name": "stdout",
     "output_type": "stream",
     "text": [
      "Answers saved to outputs_pipeline/article5_answers03_1.json\n"
     ]
    },
    {
     "name": "stderr",
     "output_type": "stream",
     "text": [
      "Processing responses:  53%|█████▎    | 1125/2128 [04:17<07:28,  2.24it/s]"
     ]
    },
    {
     "name": "stdout",
     "output_type": "stream",
     "text": [
      "Answers saved to outputs_pipeline/article5_answers03_1.json\n"
     ]
    },
    {
     "name": "stderr",
     "output_type": "stream",
     "text": [
      "Processing responses:  53%|█████▎    | 1126/2128 [04:17<07:25,  2.25it/s]"
     ]
    },
    {
     "name": "stdout",
     "output_type": "stream",
     "text": [
      "Answers saved to outputs_pipeline/article5_answers03_1.json\n"
     ]
    },
    {
     "name": "stderr",
     "output_type": "stream",
     "text": [
      "Processing responses:  53%|█████▎    | 1127/2128 [04:18<07:22,  2.26it/s]"
     ]
    },
    {
     "name": "stdout",
     "output_type": "stream",
     "text": [
      "Answers saved to outputs_pipeline/article5_answers03_1.json\n"
     ]
    },
    {
     "name": "stderr",
     "output_type": "stream",
     "text": [
      "Processing responses:  53%|█████▎    | 1128/2128 [04:18<07:32,  2.21it/s]"
     ]
    },
    {
     "name": "stdout",
     "output_type": "stream",
     "text": [
      "Answers saved to outputs_pipeline/article5_answers03_1.json\n"
     ]
    },
    {
     "name": "stderr",
     "output_type": "stream",
     "text": [
      "Processing responses:  53%|█████▎    | 1129/2128 [04:19<07:28,  2.23it/s]"
     ]
    },
    {
     "name": "stdout",
     "output_type": "stream",
     "text": [
      "Answers saved to outputs_pipeline/article5_answers03_1.json\n"
     ]
    },
    {
     "name": "stderr",
     "output_type": "stream",
     "text": [
      "Processing responses:  53%|█████▎    | 1130/2128 [04:19<07:24,  2.24it/s]"
     ]
    },
    {
     "name": "stdout",
     "output_type": "stream",
     "text": [
      "Answers saved to outputs_pipeline/article5_answers03_1.json\n"
     ]
    },
    {
     "name": "stderr",
     "output_type": "stream",
     "text": [
      "Processing responses:  53%|█████▎    | 1131/2128 [04:19<07:24,  2.24it/s]"
     ]
    },
    {
     "name": "stdout",
     "output_type": "stream",
     "text": [
      "Answers saved to outputs_pipeline/article5_answers03_1.json\n"
     ]
    },
    {
     "name": "stderr",
     "output_type": "stream",
     "text": [
      "Processing responses:  53%|█████▎    | 1132/2128 [04:20<07:24,  2.24it/s]"
     ]
    },
    {
     "name": "stdout",
     "output_type": "stream",
     "text": [
      "Answers saved to outputs_pipeline/article5_answers03_1.json\n"
     ]
    },
    {
     "name": "stderr",
     "output_type": "stream",
     "text": [
      "Processing responses:  53%|█████▎    | 1133/2128 [04:20<07:23,  2.24it/s]"
     ]
    },
    {
     "name": "stdout",
     "output_type": "stream",
     "text": [
      "Answers saved to outputs_pipeline/article5_answers03_1.json\n"
     ]
    },
    {
     "name": "stderr",
     "output_type": "stream",
     "text": [
      "Processing responses:  53%|█████▎    | 1134/2128 [04:21<07:32,  2.20it/s]"
     ]
    },
    {
     "name": "stdout",
     "output_type": "stream",
     "text": [
      "Answers saved to outputs_pipeline/article5_answers03_1.json\n"
     ]
    },
    {
     "name": "stderr",
     "output_type": "stream",
     "text": [
      "Processing responses:  53%|█████▎    | 1135/2128 [04:21<07:28,  2.21it/s]"
     ]
    },
    {
     "name": "stdout",
     "output_type": "stream",
     "text": [
      "Answers saved to outputs_pipeline/article5_answers03_1.json\n"
     ]
    },
    {
     "name": "stderr",
     "output_type": "stream",
     "text": [
      "Processing responses:  53%|█████▎    | 1136/2128 [04:22<07:24,  2.23it/s]"
     ]
    },
    {
     "name": "stdout",
     "output_type": "stream",
     "text": [
      "Answers saved to outputs_pipeline/article5_answers03_1.json\n"
     ]
    },
    {
     "name": "stderr",
     "output_type": "stream",
     "text": [
      "Processing responses:  53%|█████▎    | 1137/2128 [04:22<07:22,  2.24it/s]"
     ]
    },
    {
     "name": "stdout",
     "output_type": "stream",
     "text": [
      "Answers saved to outputs_pipeline/article5_answers03_1.json\n"
     ]
    },
    {
     "name": "stderr",
     "output_type": "stream",
     "text": [
      "Processing responses:  53%|█████▎    | 1138/2128 [04:23<07:23,  2.23it/s]"
     ]
    },
    {
     "name": "stdout",
     "output_type": "stream",
     "text": [
      "Answers saved to outputs_pipeline/article5_answers03_1.json\n"
     ]
    },
    {
     "name": "stderr",
     "output_type": "stream",
     "text": [
      "Processing responses:  54%|█████▎    | 1139/2128 [04:23<07:31,  2.19it/s]"
     ]
    },
    {
     "name": "stdout",
     "output_type": "stream",
     "text": [
      "Answers saved to outputs_pipeline/article5_answers03_1.json\n"
     ]
    },
    {
     "name": "stderr",
     "output_type": "stream",
     "text": [
      "Processing responses:  54%|█████▎    | 1140/2128 [04:23<07:27,  2.21it/s]"
     ]
    },
    {
     "name": "stdout",
     "output_type": "stream",
     "text": [
      "Answers saved to outputs_pipeline/article5_answers03_1.json\n"
     ]
    },
    {
     "name": "stderr",
     "output_type": "stream",
     "text": [
      "Processing responses:  54%|█████▎    | 1141/2128 [04:24<07:27,  2.21it/s]"
     ]
    },
    {
     "name": "stdout",
     "output_type": "stream",
     "text": [
      "Answers saved to outputs_pipeline/article5_answers03_1.json\n"
     ]
    },
    {
     "name": "stderr",
     "output_type": "stream",
     "text": [
      "Processing responses:  54%|█████▎    | 1142/2128 [04:24<07:25,  2.21it/s]"
     ]
    },
    {
     "name": "stdout",
     "output_type": "stream",
     "text": [
      "Answers saved to outputs_pipeline/article5_answers03_1.json\n"
     ]
    },
    {
     "name": "stderr",
     "output_type": "stream",
     "text": [
      "Processing responses:  54%|█████▎    | 1143/2128 [04:25<07:24,  2.21it/s]"
     ]
    },
    {
     "name": "stdout",
     "output_type": "stream",
     "text": [
      "Answers saved to outputs_pipeline/article5_answers03_1.json\n"
     ]
    },
    {
     "name": "stderr",
     "output_type": "stream",
     "text": [
      "Processing responses:  54%|█████▍    | 1144/2128 [04:25<07:30,  2.18it/s]"
     ]
    },
    {
     "name": "stdout",
     "output_type": "stream",
     "text": [
      "Answers saved to outputs_pipeline/article5_answers03_1.json\n"
     ]
    },
    {
     "name": "stderr",
     "output_type": "stream",
     "text": [
      "Processing responses:  54%|█████▍    | 1145/2128 [04:26<07:25,  2.20it/s]"
     ]
    },
    {
     "name": "stdout",
     "output_type": "stream",
     "text": [
      "Answers saved to outputs_pipeline/article5_answers03_1.json\n"
     ]
    },
    {
     "name": "stderr",
     "output_type": "stream",
     "text": [
      "Processing responses:  54%|█████▍    | 1146/2128 [04:26<07:29,  2.18it/s]"
     ]
    },
    {
     "name": "stdout",
     "output_type": "stream",
     "text": [
      "Answers saved to outputs_pipeline/article5_answers03_1.json\n"
     ]
    },
    {
     "name": "stderr",
     "output_type": "stream",
     "text": [
      "Processing responses:  54%|█████▍    | 1147/2128 [04:27<07:26,  2.20it/s]"
     ]
    },
    {
     "name": "stdout",
     "output_type": "stream",
     "text": [
      "Answers saved to outputs_pipeline/article5_answers03_1.json\n"
     ]
    },
    {
     "name": "stderr",
     "output_type": "stream",
     "text": [
      "Processing responses:  54%|█████▍    | 1148/2128 [04:27<07:25,  2.20it/s]"
     ]
    },
    {
     "name": "stdout",
     "output_type": "stream",
     "text": [
      "Answers saved to outputs_pipeline/article5_answers03_1.json\n"
     ]
    },
    {
     "name": "stderr",
     "output_type": "stream",
     "text": [
      "Processing responses:  54%|█████▍    | 1149/2128 [04:28<07:26,  2.19it/s]"
     ]
    },
    {
     "name": "stdout",
     "output_type": "stream",
     "text": [
      "Answers saved to outputs_pipeline/article5_answers03_1.json\n"
     ]
    },
    {
     "name": "stderr",
     "output_type": "stream",
     "text": [
      "Processing responses:  54%|█████▍    | 1150/2128 [04:28<07:24,  2.20it/s]"
     ]
    },
    {
     "name": "stdout",
     "output_type": "stream",
     "text": [
      "Answers saved to outputs_pipeline/article5_answers03_1.json\n"
     ]
    },
    {
     "name": "stderr",
     "output_type": "stream",
     "text": [
      "Processing responses:  54%|█████▍    | 1151/2128 [04:28<07:20,  2.22it/s]"
     ]
    },
    {
     "name": "stdout",
     "output_type": "stream",
     "text": [
      "Answers saved to outputs_pipeline/article5_answers03_1.json\n"
     ]
    },
    {
     "name": "stderr",
     "output_type": "stream",
     "text": [
      "Processing responses:  54%|█████▍    | 1152/2128 [04:29<07:21,  2.21it/s]"
     ]
    },
    {
     "name": "stdout",
     "output_type": "stream",
     "text": [
      "Answers saved to outputs_pipeline/article5_answers03_1.json\n"
     ]
    },
    {
     "name": "stderr",
     "output_type": "stream",
     "text": [
      "Processing responses:  54%|█████▍    | 1153/2128 [04:29<07:19,  2.22it/s]"
     ]
    },
    {
     "name": "stdout",
     "output_type": "stream",
     "text": [
      "Answers saved to outputs_pipeline/article5_answers03_1.json\n"
     ]
    },
    {
     "name": "stderr",
     "output_type": "stream",
     "text": [
      "Processing responses:  54%|█████▍    | 1154/2128 [04:30<07:28,  2.17it/s]"
     ]
    },
    {
     "name": "stdout",
     "output_type": "stream",
     "text": [
      "Answers saved to outputs_pipeline/article5_answers03_1.json\n"
     ]
    },
    {
     "name": "stderr",
     "output_type": "stream",
     "text": [
      "Processing responses:  54%|█████▍    | 1155/2128 [04:30<07:24,  2.19it/s]"
     ]
    },
    {
     "name": "stdout",
     "output_type": "stream",
     "text": [
      "Answers saved to outputs_pipeline/article5_answers03_1.json\n"
     ]
    },
    {
     "name": "stderr",
     "output_type": "stream",
     "text": [
      "Processing responses:  54%|█████▍    | 1156/2128 [04:31<07:21,  2.20it/s]"
     ]
    },
    {
     "name": "stdout",
     "output_type": "stream",
     "text": [
      "Answers saved to outputs_pipeline/article5_answers03_1.json\n"
     ]
    },
    {
     "name": "stderr",
     "output_type": "stream",
     "text": [
      "Processing responses:  54%|█████▍    | 1157/2128 [04:31<07:22,  2.19it/s]"
     ]
    },
    {
     "name": "stdout",
     "output_type": "stream",
     "text": [
      "Answers saved to outputs_pipeline/article5_answers03_1.json\n"
     ]
    },
    {
     "name": "stderr",
     "output_type": "stream",
     "text": [
      "Processing responses:  54%|█████▍    | 1158/2128 [04:32<07:20,  2.20it/s]"
     ]
    },
    {
     "name": "stdout",
     "output_type": "stream",
     "text": [
      "Answers saved to outputs_pipeline/article5_answers03_1.json\n"
     ]
    },
    {
     "name": "stderr",
     "output_type": "stream",
     "text": [
      "Processing responses:  54%|█████▍    | 1159/2128 [04:32<07:27,  2.17it/s]"
     ]
    },
    {
     "name": "stdout",
     "output_type": "stream",
     "text": [
      "Answers saved to outputs_pipeline/article5_answers03_1.json\n"
     ]
    },
    {
     "name": "stderr",
     "output_type": "stream",
     "text": [
      "Processing responses:  55%|█████▍    | 1160/2128 [04:33<07:25,  2.17it/s]"
     ]
    },
    {
     "name": "stdout",
     "output_type": "stream",
     "text": [
      "Answers saved to outputs_pipeline/article5_answers03_1.json\n"
     ]
    },
    {
     "name": "stderr",
     "output_type": "stream",
     "text": [
      "Processing responses:  55%|█████▍    | 1161/2128 [04:33<07:21,  2.19it/s]"
     ]
    },
    {
     "name": "stdout",
     "output_type": "stream",
     "text": [
      "Answers saved to outputs_pipeline/article5_answers03_1.json\n"
     ]
    },
    {
     "name": "stderr",
     "output_type": "stream",
     "text": [
      "Processing responses:  55%|█████▍    | 1162/2128 [04:34<07:21,  2.19it/s]"
     ]
    },
    {
     "name": "stdout",
     "output_type": "stream",
     "text": [
      "Answers saved to outputs_pipeline/article5_answers03_1.json\n"
     ]
    },
    {
     "name": "stderr",
     "output_type": "stream",
     "text": [
      "Processing responses:  55%|█████▍    | 1163/2128 [04:34<07:20,  2.19it/s]"
     ]
    },
    {
     "name": "stdout",
     "output_type": "stream",
     "text": [
      "Answers saved to outputs_pipeline/article5_answers03_1.json\n"
     ]
    },
    {
     "name": "stderr",
     "output_type": "stream",
     "text": [
      "Processing responses:  55%|█████▍    | 1164/2128 [04:35<08:16,  1.94it/s]"
     ]
    },
    {
     "name": "stdout",
     "output_type": "stream",
     "text": [
      "Answers saved to outputs_pipeline/article5_answers03_1.json\n"
     ]
    },
    {
     "name": "stderr",
     "output_type": "stream",
     "text": [
      "Processing responses:  55%|█████▍    | 1165/2128 [04:35<07:59,  2.01it/s]"
     ]
    },
    {
     "name": "stdout",
     "output_type": "stream",
     "text": [
      "Answers saved to outputs_pipeline/article5_answers03_1.json\n"
     ]
    },
    {
     "name": "stderr",
     "output_type": "stream",
     "text": [
      "Processing responses:  55%|█████▍    | 1166/2128 [04:36<07:47,  2.06it/s]"
     ]
    },
    {
     "name": "stdout",
     "output_type": "stream",
     "text": [
      "Answers saved to outputs_pipeline/article5_answers03_1.json\n"
     ]
    },
    {
     "name": "stderr",
     "output_type": "stream",
     "text": [
      "Processing responses:  55%|█████▍    | 1167/2128 [04:36<07:40,  2.09it/s]"
     ]
    },
    {
     "name": "stdout",
     "output_type": "stream",
     "text": [
      "Answers saved to outputs_pipeline/article5_answers03_1.json\n"
     ]
    },
    {
     "name": "stderr",
     "output_type": "stream",
     "text": [
      "Processing responses:  55%|█████▍    | 1168/2128 [04:36<07:35,  2.11it/s]"
     ]
    },
    {
     "name": "stdout",
     "output_type": "stream",
     "text": [
      "Answers saved to outputs_pipeline/article5_answers03_1.json\n"
     ]
    },
    {
     "name": "stderr",
     "output_type": "stream",
     "text": [
      "Processing responses:  55%|█████▍    | 1169/2128 [04:37<07:41,  2.08it/s]"
     ]
    },
    {
     "name": "stdout",
     "output_type": "stream",
     "text": [
      "Answers saved to outputs_pipeline/article5_answers03_1.json\n"
     ]
    },
    {
     "name": "stderr",
     "output_type": "stream",
     "text": [
      "Processing responses:  55%|█████▍    | 1170/2128 [04:37<07:33,  2.11it/s]"
     ]
    },
    {
     "name": "stdout",
     "output_type": "stream",
     "text": [
      "Answers saved to outputs_pipeline/article5_answers03_1.json\n"
     ]
    },
    {
     "name": "stderr",
     "output_type": "stream",
     "text": [
      "Processing responses:  55%|█████▌    | 1171/2128 [04:38<07:51,  2.03it/s]"
     ]
    },
    {
     "name": "stdout",
     "output_type": "stream",
     "text": [
      "Answers saved to outputs_pipeline/article5_answers03_1.json\n"
     ]
    },
    {
     "name": "stderr",
     "output_type": "stream",
     "text": [
      "Processing responses:  55%|█████▌    | 1172/2128 [04:39<08:18,  1.92it/s]"
     ]
    },
    {
     "name": "stdout",
     "output_type": "stream",
     "text": [
      "Answers saved to outputs_pipeline/article5_answers03_1.json\n"
     ]
    },
    {
     "name": "stderr",
     "output_type": "stream",
     "text": [
      "Processing responses:  55%|█████▌    | 1173/2128 [04:39<08:01,  1.98it/s]"
     ]
    },
    {
     "name": "stdout",
     "output_type": "stream",
     "text": [
      "Answers saved to outputs_pipeline/article5_answers03_1.json\n"
     ]
    },
    {
     "name": "stderr",
     "output_type": "stream",
     "text": [
      "Processing responses:  55%|█████▌    | 1174/2128 [04:39<07:52,  2.02it/s]"
     ]
    },
    {
     "name": "stdout",
     "output_type": "stream",
     "text": [
      "Answers saved to outputs_pipeline/article5_answers03_1.json\n"
     ]
    },
    {
     "name": "stderr",
     "output_type": "stream",
     "text": [
      "Processing responses:  55%|█████▌    | 1175/2128 [04:40<07:48,  2.03it/s]"
     ]
    },
    {
     "name": "stdout",
     "output_type": "stream",
     "text": [
      "Answers saved to outputs_pipeline/article5_answers03_1.json\n"
     ]
    },
    {
     "name": "stderr",
     "output_type": "stream",
     "text": [
      "Processing responses:  55%|█████▌    | 1176/2128 [04:40<07:37,  2.08it/s]"
     ]
    },
    {
     "name": "stdout",
     "output_type": "stream",
     "text": [
      "Answers saved to outputs_pipeline/article5_answers03_1.json\n"
     ]
    },
    {
     "name": "stderr",
     "output_type": "stream",
     "text": [
      "Processing responses:  55%|█████▌    | 1177/2128 [04:41<07:30,  2.11it/s]"
     ]
    },
    {
     "name": "stdout",
     "output_type": "stream",
     "text": [
      "Answers saved to outputs_pipeline/article5_answers03_1.json\n"
     ]
    },
    {
     "name": "stderr",
     "output_type": "stream",
     "text": [
      "Processing responses:  55%|█████▌    | 1178/2128 [04:41<07:25,  2.13it/s]"
     ]
    },
    {
     "name": "stdout",
     "output_type": "stream",
     "text": [
      "Answers saved to outputs_pipeline/article5_answers03_1.json\n"
     ]
    },
    {
     "name": "stderr",
     "output_type": "stream",
     "text": [
      "Processing responses:  55%|█████▌    | 1179/2128 [04:42<07:28,  2.11it/s]"
     ]
    },
    {
     "name": "stdout",
     "output_type": "stream",
     "text": [
      "Answers saved to outputs_pipeline/article5_answers03_1.json\n"
     ]
    },
    {
     "name": "stderr",
     "output_type": "stream",
     "text": [
      "Processing responses:  55%|█████▌    | 1180/2128 [04:42<07:28,  2.12it/s]"
     ]
    },
    {
     "name": "stdout",
     "output_type": "stream",
     "text": [
      "Answers saved to outputs_pipeline/article5_answers03_1.json\n"
     ]
    },
    {
     "name": "stderr",
     "output_type": "stream",
     "text": [
      "Processing responses:  55%|█████▌    | 1181/2128 [04:43<07:22,  2.14it/s]"
     ]
    },
    {
     "name": "stdout",
     "output_type": "stream",
     "text": [
      "Answers saved to outputs_pipeline/article5_answers03_1.json\n"
     ]
    },
    {
     "name": "stderr",
     "output_type": "stream",
     "text": [
      "Processing responses:  56%|█████▌    | 1182/2128 [04:43<07:20,  2.15it/s]"
     ]
    },
    {
     "name": "stdout",
     "output_type": "stream",
     "text": [
      "Answers saved to outputs_pipeline/article5_answers03_1.json\n"
     ]
    },
    {
     "name": "stderr",
     "output_type": "stream",
     "text": [
      "Processing responses:  56%|█████▌    | 1183/2128 [04:44<07:20,  2.15it/s]"
     ]
    },
    {
     "name": "stdout",
     "output_type": "stream",
     "text": [
      "Answers saved to outputs_pipeline/article5_answers03_1.json\n"
     ]
    },
    {
     "name": "stderr",
     "output_type": "stream",
     "text": [
      "Processing responses:  56%|█████▌    | 1184/2128 [04:44<07:24,  2.13it/s]"
     ]
    },
    {
     "name": "stdout",
     "output_type": "stream",
     "text": [
      "Answers saved to outputs_pipeline/article5_answers03_1.json\n"
     ]
    },
    {
     "name": "stderr",
     "output_type": "stream",
     "text": [
      "Processing responses:  56%|█████▌    | 1185/2128 [04:45<07:22,  2.13it/s]"
     ]
    },
    {
     "name": "stdout",
     "output_type": "stream",
     "text": [
      "Answers saved to outputs_pipeline/article5_answers03_1.json\n"
     ]
    },
    {
     "name": "stderr",
     "output_type": "stream",
     "text": [
      "Processing responses:  56%|█████▌    | 1186/2128 [04:45<07:20,  2.14it/s]"
     ]
    },
    {
     "name": "stdout",
     "output_type": "stream",
     "text": [
      "Answers saved to outputs_pipeline/article5_answers03_1.json\n"
     ]
    },
    {
     "name": "stderr",
     "output_type": "stream",
     "text": [
      "Processing responses:  56%|█████▌    | 1187/2128 [04:46<07:20,  2.14it/s]"
     ]
    },
    {
     "name": "stdout",
     "output_type": "stream",
     "text": [
      "Answers saved to outputs_pipeline/article5_answers03_1.json\n"
     ]
    },
    {
     "name": "stderr",
     "output_type": "stream",
     "text": [
      "Processing responses:  56%|█████▌    | 1188/2128 [04:46<07:18,  2.14it/s]"
     ]
    },
    {
     "name": "stdout",
     "output_type": "stream",
     "text": [
      "Answers saved to outputs_pipeline/article5_answers03_1.json\n"
     ]
    },
    {
     "name": "stderr",
     "output_type": "stream",
     "text": [
      "Processing responses:  56%|█████▌    | 1189/2128 [04:46<07:21,  2.13it/s]"
     ]
    },
    {
     "name": "stdout",
     "output_type": "stream",
     "text": [
      "Answers saved to outputs_pipeline/article5_answers03_1.json\n"
     ]
    },
    {
     "name": "stderr",
     "output_type": "stream",
     "text": [
      "Processing responses:  56%|█████▌    | 1190/2128 [04:47<07:21,  2.13it/s]"
     ]
    },
    {
     "name": "stdout",
     "output_type": "stream",
     "text": [
      "Answers saved to outputs_pipeline/article5_answers03_1.json\n"
     ]
    },
    {
     "name": "stderr",
     "output_type": "stream",
     "text": [
      "Processing responses:  56%|█████▌    | 1191/2128 [04:47<07:38,  2.04it/s]"
     ]
    },
    {
     "name": "stdout",
     "output_type": "stream",
     "text": [
      "Answers saved to outputs_pipeline/article5_answers03_1.json\n"
     ]
    },
    {
     "name": "stderr",
     "output_type": "stream",
     "text": [
      "Processing responses:  56%|█████▌    | 1192/2128 [04:48<08:02,  1.94it/s]"
     ]
    },
    {
     "name": "stdout",
     "output_type": "stream",
     "text": [
      "Answers saved to outputs_pipeline/article5_answers03_1.json\n"
     ]
    },
    {
     "name": "stderr",
     "output_type": "stream",
     "text": [
      "Processing responses:  56%|█████▌    | 1193/2128 [04:49<07:49,  1.99it/s]"
     ]
    },
    {
     "name": "stdout",
     "output_type": "stream",
     "text": [
      "Answers saved to outputs_pipeline/article5_answers03_1.json\n"
     ]
    },
    {
     "name": "stderr",
     "output_type": "stream",
     "text": [
      "Processing responses:  56%|█████▌    | 1194/2128 [04:49<07:44,  2.01it/s]"
     ]
    },
    {
     "name": "stdout",
     "output_type": "stream",
     "text": [
      "Answers saved to outputs_pipeline/article5_answers03_1.json\n"
     ]
    },
    {
     "name": "stderr",
     "output_type": "stream",
     "text": [
      "Processing responses:  56%|█████▌    | 1195/2128 [04:49<07:35,  2.05it/s]"
     ]
    },
    {
     "name": "stdout",
     "output_type": "stream",
     "text": [
      "Answers saved to outputs_pipeline/article5_answers03_1.json\n"
     ]
    },
    {
     "name": "stderr",
     "output_type": "stream",
     "text": [
      "Processing responses:  56%|█████▌    | 1196/2128 [04:50<07:33,  2.05it/s]"
     ]
    },
    {
     "name": "stdout",
     "output_type": "stream",
     "text": [
      "Answers saved to outputs_pipeline/article5_answers03_1.json\n"
     ]
    },
    {
     "name": "stderr",
     "output_type": "stream",
     "text": [
      "Processing responses:  56%|█████▋    | 1197/2128 [04:50<07:29,  2.07it/s]"
     ]
    },
    {
     "name": "stdout",
     "output_type": "stream",
     "text": [
      "Answers saved to outputs_pipeline/article5_answers03_1.json\n"
     ]
    },
    {
     "name": "stderr",
     "output_type": "stream",
     "text": [
      "Processing responses:  56%|█████▋    | 1198/2128 [04:51<07:28,  2.07it/s]"
     ]
    },
    {
     "name": "stdout",
     "output_type": "stream",
     "text": [
      "Answers saved to outputs_pipeline/article5_answers03_1.json\n"
     ]
    },
    {
     "name": "stderr",
     "output_type": "stream",
     "text": [
      "Processing responses:  56%|█████▋    | 1199/2128 [04:51<07:31,  2.06it/s]"
     ]
    },
    {
     "name": "stdout",
     "output_type": "stream",
     "text": [
      "Answers saved to outputs_pipeline/article5_answers03_1.json\n"
     ]
    },
    {
     "name": "stderr",
     "output_type": "stream",
     "text": [
      "Processing responses:  56%|█████▋    | 1200/2128 [04:52<07:27,  2.07it/s]"
     ]
    },
    {
     "name": "stdout",
     "output_type": "stream",
     "text": [
      "Answers saved to outputs_pipeline/article5_answers03_1.json\n"
     ]
    },
    {
     "name": "stderr",
     "output_type": "stream",
     "text": [
      "Processing responses:  56%|█████▋    | 1201/2128 [04:52<07:24,  2.09it/s]"
     ]
    },
    {
     "name": "stdout",
     "output_type": "stream",
     "text": [
      "Answers saved to outputs_pipeline/article5_answers03_1.json\n"
     ]
    },
    {
     "name": "stderr",
     "output_type": "stream",
     "text": [
      "Processing responses:  56%|█████▋    | 1202/2128 [04:53<07:22,  2.09it/s]"
     ]
    },
    {
     "name": "stdout",
     "output_type": "stream",
     "text": [
      "Answers saved to outputs_pipeline/article5_answers03_1.json\n"
     ]
    },
    {
     "name": "stderr",
     "output_type": "stream",
     "text": [
      "Processing responses:  57%|█████▋    | 1203/2128 [04:53<07:47,  1.98it/s]"
     ]
    },
    {
     "name": "stdout",
     "output_type": "stream",
     "text": [
      "Answers saved to outputs_pipeline/article5_answers03_1.json\n"
     ]
    },
    {
     "name": "stderr",
     "output_type": "stream",
     "text": [
      "Processing responses:  57%|█████▋    | 1204/2128 [04:54<08:40,  1.77it/s]"
     ]
    },
    {
     "name": "stdout",
     "output_type": "stream",
     "text": [
      "Answers saved to outputs_pipeline/article5_answers03_1.json\n"
     ]
    },
    {
     "name": "stderr",
     "output_type": "stream",
     "text": [
      "Processing responses:  57%|█████▋    | 1205/2128 [04:55<08:14,  1.87it/s]"
     ]
    },
    {
     "name": "stdout",
     "output_type": "stream",
     "text": [
      "Answers saved to outputs_pipeline/article5_answers03_1.json\n"
     ]
    },
    {
     "name": "stderr",
     "output_type": "stream",
     "text": [
      "Processing responses:  57%|█████▋    | 1206/2128 [04:55<08:00,  1.92it/s]"
     ]
    },
    {
     "name": "stdout",
     "output_type": "stream",
     "text": [
      "Answers saved to outputs_pipeline/article5_answers03_1.json\n"
     ]
    },
    {
     "name": "stderr",
     "output_type": "stream",
     "text": [
      "Processing responses:  57%|█████▋    | 1207/2128 [04:56<08:18,  1.85it/s]"
     ]
    },
    {
     "name": "stdout",
     "output_type": "stream",
     "text": [
      "Answers saved to outputs_pipeline/article5_answers03_1.json\n"
     ]
    },
    {
     "name": "stderr",
     "output_type": "stream",
     "text": [
      "Processing responses:  57%|█████▋    | 1208/2128 [04:56<08:04,  1.90it/s]"
     ]
    },
    {
     "name": "stdout",
     "output_type": "stream",
     "text": [
      "Answers saved to outputs_pipeline/article5_answers03_1.json\n"
     ]
    },
    {
     "name": "stderr",
     "output_type": "stream",
     "text": [
      "Processing responses:  57%|█████▋    | 1209/2128 [04:57<08:04,  1.90it/s]"
     ]
    },
    {
     "name": "stdout",
     "output_type": "stream",
     "text": [
      "Answers saved to outputs_pipeline/article5_answers03_1.json\n"
     ]
    },
    {
     "name": "stderr",
     "output_type": "stream",
     "text": [
      "Processing responses:  57%|█████▋    | 1210/2128 [04:57<07:55,  1.93it/s]"
     ]
    },
    {
     "name": "stdout",
     "output_type": "stream",
     "text": [
      "Answers saved to outputs_pipeline/article5_answers03_1.json\n"
     ]
    },
    {
     "name": "stderr",
     "output_type": "stream",
     "text": [
      "Processing responses:  57%|█████▋    | 1211/2128 [04:58<07:47,  1.96it/s]"
     ]
    },
    {
     "name": "stdout",
     "output_type": "stream",
     "text": [
      "Answers saved to outputs_pipeline/article5_answers03_1.json\n"
     ]
    },
    {
     "name": "stderr",
     "output_type": "stream",
     "text": [
      "Processing responses:  57%|█████▋    | 1212/2128 [04:58<07:37,  2.00it/s]"
     ]
    },
    {
     "name": "stdout",
     "output_type": "stream",
     "text": [
      "Answers saved to outputs_pipeline/article5_answers03_1.json\n"
     ]
    },
    {
     "name": "stderr",
     "output_type": "stream",
     "text": [
      "Processing responses:  57%|█████▋    | 1213/2128 [04:59<07:29,  2.04it/s]"
     ]
    },
    {
     "name": "stdout",
     "output_type": "stream",
     "text": [
      "Answers saved to outputs_pipeline/article5_answers03_1.json\n"
     ]
    },
    {
     "name": "stderr",
     "output_type": "stream",
     "text": [
      "Processing responses:  57%|█████▋    | 1214/2128 [04:59<07:23,  2.06it/s]"
     ]
    },
    {
     "name": "stdout",
     "output_type": "stream",
     "text": [
      "Answers saved to outputs_pipeline/article5_answers03_1.json\n"
     ]
    },
    {
     "name": "stderr",
     "output_type": "stream",
     "text": [
      "Processing responses:  57%|█████▋    | 1215/2128 [05:00<07:27,  2.04it/s]"
     ]
    },
    {
     "name": "stdout",
     "output_type": "stream",
     "text": [
      "Answers saved to outputs_pipeline/article5_answers03_1.json\n"
     ]
    },
    {
     "name": "stderr",
     "output_type": "stream",
     "text": [
      "Processing responses:  57%|█████▋    | 1216/2128 [05:00<07:34,  2.01it/s]"
     ]
    },
    {
     "name": "stdout",
     "output_type": "stream",
     "text": [
      "Answers saved to outputs_pipeline/article5_answers03_1.json\n"
     ]
    },
    {
     "name": "stderr",
     "output_type": "stream",
     "text": [
      "Processing responses:  57%|█████▋    | 1217/2128 [05:01<07:30,  2.02it/s]"
     ]
    },
    {
     "name": "stdout",
     "output_type": "stream",
     "text": [
      "Answers saved to outputs_pipeline/article5_answers03_1.json\n"
     ]
    },
    {
     "name": "stderr",
     "output_type": "stream",
     "text": [
      "Processing responses:  57%|█████▋    | 1218/2128 [05:01<07:38,  1.98it/s]"
     ]
    },
    {
     "name": "stdout",
     "output_type": "stream",
     "text": [
      "Answers saved to outputs_pipeline/article5_answers03_1.json\n"
     ]
    },
    {
     "name": "stderr",
     "output_type": "stream",
     "text": [
      "Processing responses:  57%|█████▋    | 1219/2128 [05:02<08:03,  1.88it/s]"
     ]
    },
    {
     "name": "stdout",
     "output_type": "stream",
     "text": [
      "Answers saved to outputs_pipeline/article5_answers03_1.json\n"
     ]
    },
    {
     "name": "stderr",
     "output_type": "stream",
     "text": [
      "Processing responses:  57%|█████▋    | 1220/2128 [05:02<07:51,  1.92it/s]"
     ]
    },
    {
     "name": "stdout",
     "output_type": "stream",
     "text": [
      "Answers saved to outputs_pipeline/article5_answers03_1.json\n"
     ]
    },
    {
     "name": "stderr",
     "output_type": "stream",
     "text": [
      "Processing responses:  57%|█████▋    | 1221/2128 [05:03<07:39,  1.98it/s]"
     ]
    },
    {
     "name": "stdout",
     "output_type": "stream",
     "text": [
      "Answers saved to outputs_pipeline/article5_answers03_1.json\n"
     ]
    },
    {
     "name": "stderr",
     "output_type": "stream",
     "text": [
      "Processing responses:  57%|█████▋    | 1222/2128 [05:03<07:31,  2.01it/s]"
     ]
    },
    {
     "name": "stdout",
     "output_type": "stream",
     "text": [
      "Answers saved to outputs_pipeline/article5_answers03_1.json\n"
     ]
    },
    {
     "name": "stderr",
     "output_type": "stream",
     "text": [
      "Processing responses:  57%|█████▋    | 1223/2128 [05:04<07:29,  2.01it/s]"
     ]
    },
    {
     "name": "stdout",
     "output_type": "stream",
     "text": [
      "Answers saved to outputs_pipeline/article5_answers03_1.json\n"
     ]
    },
    {
     "name": "stderr",
     "output_type": "stream",
     "text": [
      "Processing responses:  58%|█████▊    | 1224/2128 [05:04<07:24,  2.03it/s]"
     ]
    },
    {
     "name": "stdout",
     "output_type": "stream",
     "text": [
      "Answers saved to outputs_pipeline/article5_answers03_1.json\n"
     ]
    },
    {
     "name": "stderr",
     "output_type": "stream",
     "text": [
      "Processing responses:  58%|█████▊    | 1225/2128 [05:05<07:28,  2.01it/s]"
     ]
    },
    {
     "name": "stdout",
     "output_type": "stream",
     "text": [
      "Answers saved to outputs_pipeline/article5_answers03_1.json\n"
     ]
    },
    {
     "name": "stderr",
     "output_type": "stream",
     "text": [
      "Processing responses:  58%|█████▊    | 1226/2128 [05:05<07:52,  1.91it/s]"
     ]
    },
    {
     "name": "stdout",
     "output_type": "stream",
     "text": [
      "Answers saved to outputs_pipeline/article5_answers03_1.json\n"
     ]
    },
    {
     "name": "stderr",
     "output_type": "stream",
     "text": [
      "Processing responses:  58%|█████▊    | 1227/2128 [05:06<08:28,  1.77it/s]"
     ]
    },
    {
     "name": "stdout",
     "output_type": "stream",
     "text": [
      "Answers saved to outputs_pipeline/article5_answers03_1.json\n"
     ]
    },
    {
     "name": "stderr",
     "output_type": "stream",
     "text": [
      "Processing responses:  58%|█████▊    | 1228/2128 [05:06<08:13,  1.82it/s]"
     ]
    },
    {
     "name": "stdout",
     "output_type": "stream",
     "text": [
      "Answers saved to outputs_pipeline/article5_answers03_1.json\n"
     ]
    },
    {
     "name": "stderr",
     "output_type": "stream",
     "text": [
      "Processing responses:  58%|█████▊    | 1229/2128 [05:07<07:55,  1.89it/s]"
     ]
    },
    {
     "name": "stdout",
     "output_type": "stream",
     "text": [
      "Answers saved to outputs_pipeline/article5_answers03_1.json\n"
     ]
    },
    {
     "name": "stderr",
     "output_type": "stream",
     "text": [
      "Processing responses:  58%|█████▊    | 1230/2128 [05:07<07:46,  1.93it/s]"
     ]
    },
    {
     "name": "stdout",
     "output_type": "stream",
     "text": [
      "Answers saved to outputs_pipeline/article5_answers03_1.json\n"
     ]
    },
    {
     "name": "stderr",
     "output_type": "stream",
     "text": [
      "Processing responses:  58%|█████▊    | 1231/2128 [05:08<07:58,  1.87it/s]"
     ]
    },
    {
     "name": "stdout",
     "output_type": "stream",
     "text": [
      "Answers saved to outputs_pipeline/article5_answers03_1.json\n"
     ]
    },
    {
     "name": "stderr",
     "output_type": "stream",
     "text": [
      "Processing responses:  58%|█████▊    | 1232/2128 [05:08<07:55,  1.88it/s]"
     ]
    },
    {
     "name": "stdout",
     "output_type": "stream",
     "text": [
      "Answers saved to outputs_pipeline/article5_answers03_1.json\n"
     ]
    },
    {
     "name": "stderr",
     "output_type": "stream",
     "text": [
      "Processing responses:  58%|█████▊    | 1233/2128 [05:09<07:44,  1.93it/s]"
     ]
    },
    {
     "name": "stdout",
     "output_type": "stream",
     "text": [
      "Answers saved to outputs_pipeline/article5_answers03_1.json\n"
     ]
    },
    {
     "name": "stderr",
     "output_type": "stream",
     "text": [
      "Processing responses:  58%|█████▊    | 1234/2128 [05:09<07:37,  1.96it/s]"
     ]
    },
    {
     "name": "stdout",
     "output_type": "stream",
     "text": [
      "Answers saved to outputs_pipeline/article5_answers03_1.json\n"
     ]
    },
    {
     "name": "stderr",
     "output_type": "stream",
     "text": [
      "Processing responses:  58%|█████▊    | 1235/2128 [05:10<07:33,  1.97it/s]"
     ]
    },
    {
     "name": "stdout",
     "output_type": "stream",
     "text": [
      "Answers saved to outputs_pipeline/article5_answers03_1.json\n"
     ]
    },
    {
     "name": "stderr",
     "output_type": "stream",
     "text": [
      "Processing responses:  58%|█████▊    | 1236/2128 [05:10<07:28,  1.99it/s]"
     ]
    },
    {
     "name": "stdout",
     "output_type": "stream",
     "text": [
      "Answers saved to outputs_pipeline/article5_answers03_1.json\n"
     ]
    },
    {
     "name": "stderr",
     "output_type": "stream",
     "text": [
      "Processing responses:  58%|█████▊    | 1237/2128 [05:11<07:21,  2.02it/s]"
     ]
    },
    {
     "name": "stdout",
     "output_type": "stream",
     "text": [
      "Answers saved to outputs_pipeline/article5_answers03_1.json\n"
     ]
    },
    {
     "name": "stderr",
     "output_type": "stream",
     "text": [
      "Processing responses:  58%|█████▊    | 1238/2128 [05:11<07:19,  2.02it/s]"
     ]
    },
    {
     "name": "stdout",
     "output_type": "stream",
     "text": [
      "Answers saved to outputs_pipeline/article5_answers03_1.json\n"
     ]
    },
    {
     "name": "stderr",
     "output_type": "stream",
     "text": [
      "Processing responses:  58%|█████▊    | 1239/2128 [05:12<07:23,  2.00it/s]"
     ]
    },
    {
     "name": "stdout",
     "output_type": "stream",
     "text": [
      "Answers saved to outputs_pipeline/article5_answers03_1.json\n"
     ]
    },
    {
     "name": "stderr",
     "output_type": "stream",
     "text": [
      "Processing responses:  58%|█████▊    | 1240/2128 [05:12<07:25,  1.99it/s]"
     ]
    },
    {
     "name": "stdout",
     "output_type": "stream",
     "text": [
      "Answers saved to outputs_pipeline/article5_answers03_1.json\n"
     ]
    },
    {
     "name": "stderr",
     "output_type": "stream",
     "text": [
      "Processing responses:  58%|█████▊    | 1241/2128 [05:13<07:29,  1.97it/s]"
     ]
    },
    {
     "name": "stdout",
     "output_type": "stream",
     "text": [
      "Answers saved to outputs_pipeline/article5_answers03_1.json\n"
     ]
    },
    {
     "name": "stderr",
     "output_type": "stream",
     "text": [
      "Processing responses:  58%|█████▊    | 1242/2128 [05:13<07:26,  1.99it/s]"
     ]
    },
    {
     "name": "stdout",
     "output_type": "stream",
     "text": [
      "Answers saved to outputs_pipeline/article5_answers03_1.json\n"
     ]
    },
    {
     "name": "stderr",
     "output_type": "stream",
     "text": [
      "Processing responses:  58%|█████▊    | 1243/2128 [05:14<08:23,  1.76it/s]"
     ]
    },
    {
     "name": "stdout",
     "output_type": "stream",
     "text": [
      "Answers saved to outputs_pipeline/article5_answers03_1.json\n"
     ]
    },
    {
     "name": "stderr",
     "output_type": "stream",
     "text": [
      "Processing responses:  58%|█████▊    | 1244/2128 [05:15<09:01,  1.63it/s]"
     ]
    },
    {
     "name": "stdout",
     "output_type": "stream",
     "text": [
      "Answers saved to outputs_pipeline/article5_answers03_1.json\n"
     ]
    },
    {
     "name": "stderr",
     "output_type": "stream",
     "text": [
      "Processing responses:  59%|█████▊    | 1245/2128 [05:15<08:29,  1.73it/s]"
     ]
    },
    {
     "name": "stdout",
     "output_type": "stream",
     "text": [
      "Answers saved to outputs_pipeline/article5_answers03_1.json\n"
     ]
    },
    {
     "name": "stderr",
     "output_type": "stream",
     "text": [
      "Processing responses:  59%|█████▊    | 1246/2128 [05:16<08:12,  1.79it/s]"
     ]
    },
    {
     "name": "stdout",
     "output_type": "stream",
     "text": [
      "Answers saved to outputs_pipeline/article5_answers03_1.json\n"
     ]
    },
    {
     "name": "stderr",
     "output_type": "stream",
     "text": [
      "Processing responses:  59%|█████▊    | 1247/2128 [05:16<07:57,  1.85it/s]"
     ]
    },
    {
     "name": "stdout",
     "output_type": "stream",
     "text": [
      "Answers saved to outputs_pipeline/article5_answers03_1.json\n"
     ]
    },
    {
     "name": "stderr",
     "output_type": "stream",
     "text": [
      "Processing responses:  59%|█████▊    | 1248/2128 [05:17<07:45,  1.89it/s]"
     ]
    },
    {
     "name": "stdout",
     "output_type": "stream",
     "text": [
      "Answers saved to outputs_pipeline/article5_answers03_1.json\n"
     ]
    },
    {
     "name": "stderr",
     "output_type": "stream",
     "text": [
      "Processing responses:  59%|█████▊    | 1249/2128 [05:17<07:34,  1.93it/s]"
     ]
    },
    {
     "name": "stdout",
     "output_type": "stream",
     "text": [
      "Answers saved to outputs_pipeline/article5_answers03_1.json\n"
     ]
    },
    {
     "name": "stderr",
     "output_type": "stream",
     "text": [
      "Processing responses:  59%|█████▊    | 1250/2128 [05:18<07:25,  1.97it/s]"
     ]
    },
    {
     "name": "stdout",
     "output_type": "stream",
     "text": [
      "Answers saved to outputs_pipeline/article5_answers03_1.json\n"
     ]
    },
    {
     "name": "stderr",
     "output_type": "stream",
     "text": [
      "Processing responses:  59%|█████▉    | 1251/2128 [05:18<07:19,  2.00it/s]"
     ]
    },
    {
     "name": "stdout",
     "output_type": "stream",
     "text": [
      "Answers saved to outputs_pipeline/article5_answers03_1.json\n"
     ]
    },
    {
     "name": "stderr",
     "output_type": "stream",
     "text": [
      "Processing responses:  59%|█████▉    | 1252/2128 [05:19<07:15,  2.01it/s]"
     ]
    },
    {
     "name": "stdout",
     "output_type": "stream",
     "text": [
      "Answers saved to outputs_pipeline/article5_answers03_1.json\n"
     ]
    },
    {
     "name": "stderr",
     "output_type": "stream",
     "text": [
      "Processing responses:  59%|█████▉    | 1253/2128 [05:19<07:11,  2.03it/s]"
     ]
    },
    {
     "name": "stdout",
     "output_type": "stream",
     "text": [
      "Answers saved to outputs_pipeline/article5_answers03_1.json\n"
     ]
    },
    {
     "name": "stderr",
     "output_type": "stream",
     "text": [
      "Processing responses:  59%|█████▉    | 1254/2128 [05:20<07:10,  2.03it/s]"
     ]
    },
    {
     "name": "stdout",
     "output_type": "stream",
     "text": [
      "Answers saved to outputs_pipeline/article5_answers03_1.json\n"
     ]
    },
    {
     "name": "stderr",
     "output_type": "stream",
     "text": [
      "Processing responses:  59%|█████▉    | 1255/2128 [05:20<07:09,  2.03it/s]"
     ]
    },
    {
     "name": "stdout",
     "output_type": "stream",
     "text": [
      "Answers saved to outputs_pipeline/article5_answers03_1.json\n"
     ]
    },
    {
     "name": "stderr",
     "output_type": "stream",
     "text": [
      "Processing responses:  59%|█████▉    | 1256/2128 [05:21<07:07,  2.04it/s]"
     ]
    },
    {
     "name": "stdout",
     "output_type": "stream",
     "text": [
      "Answers saved to outputs_pipeline/article5_answers03_1.json\n"
     ]
    },
    {
     "name": "stderr",
     "output_type": "stream",
     "text": [
      "Processing responses:  59%|█████▉    | 1257/2128 [05:21<07:11,  2.02it/s]"
     ]
    },
    {
     "name": "stdout",
     "output_type": "stream",
     "text": [
      "Answers saved to outputs_pipeline/article5_answers03_1.json\n"
     ]
    },
    {
     "name": "stderr",
     "output_type": "stream",
     "text": [
      "Processing responses:  59%|█████▉    | 1258/2128 [05:22<07:14,  2.00it/s]"
     ]
    },
    {
     "name": "stdout",
     "output_type": "stream",
     "text": [
      "Answers saved to outputs_pipeline/article5_answers03_1.json\n"
     ]
    },
    {
     "name": "stderr",
     "output_type": "stream",
     "text": [
      "Processing responses:  59%|█████▉    | 1259/2128 [05:22<07:10,  2.02it/s]"
     ]
    },
    {
     "name": "stdout",
     "output_type": "stream",
     "text": [
      "Answers saved to outputs_pipeline/article5_answers03_1.json\n"
     ]
    },
    {
     "name": "stderr",
     "output_type": "stream",
     "text": [
      "Processing responses:  59%|█████▉    | 1260/2128 [05:23<07:09,  2.02it/s]"
     ]
    },
    {
     "name": "stdout",
     "output_type": "stream",
     "text": [
      "Answers saved to outputs_pipeline/article5_answers03_1.json\n"
     ]
    },
    {
     "name": "stderr",
     "output_type": "stream",
     "text": [
      "Processing responses:  59%|█████▉    | 1261/2128 [05:23<07:10,  2.01it/s]"
     ]
    },
    {
     "name": "stdout",
     "output_type": "stream",
     "text": [
      "Answers saved to outputs_pipeline/article5_answers03_1.json\n"
     ]
    },
    {
     "name": "stderr",
     "output_type": "stream",
     "text": [
      "Processing responses:  59%|█████▉    | 1262/2128 [05:24<07:17,  1.98it/s]"
     ]
    },
    {
     "name": "stdout",
     "output_type": "stream",
     "text": [
      "Answers saved to outputs_pipeline/article5_answers03_1.json\n"
     ]
    },
    {
     "name": "stderr",
     "output_type": "stream",
     "text": [
      "Processing responses:  59%|█████▉    | 1263/2128 [05:24<07:10,  2.01it/s]"
     ]
    },
    {
     "name": "stdout",
     "output_type": "stream",
     "text": [
      "Answers saved to outputs_pipeline/article5_answers03_1.json\n"
     ]
    },
    {
     "name": "stderr",
     "output_type": "stream",
     "text": [
      "Processing responses:  59%|█████▉    | 1264/2128 [05:25<07:08,  2.02it/s]"
     ]
    },
    {
     "name": "stdout",
     "output_type": "stream",
     "text": [
      "Answers saved to outputs_pipeline/article5_answers03_1.json\n"
     ]
    },
    {
     "name": "stderr",
     "output_type": "stream",
     "text": [
      "Processing responses:  59%|█████▉    | 1265/2128 [05:25<07:07,  2.02it/s]"
     ]
    },
    {
     "name": "stdout",
     "output_type": "stream",
     "text": [
      "Answers saved to outputs_pipeline/article5_answers03_1.json\n"
     ]
    },
    {
     "name": "stderr",
     "output_type": "stream",
     "text": [
      "Processing responses:  59%|█████▉    | 1266/2128 [05:26<07:08,  2.01it/s]"
     ]
    },
    {
     "name": "stdout",
     "output_type": "stream",
     "text": [
      "Answers saved to outputs_pipeline/article5_answers03_1.json\n"
     ]
    },
    {
     "name": "stderr",
     "output_type": "stream",
     "text": [
      "Processing responses:  60%|█████▉    | 1267/2128 [05:26<07:13,  1.99it/s]"
     ]
    },
    {
     "name": "stdout",
     "output_type": "stream",
     "text": [
      "Answers saved to outputs_pipeline/article5_answers03_1.json\n"
     ]
    },
    {
     "name": "stderr",
     "output_type": "stream",
     "text": [
      "Processing responses:  60%|█████▉    | 1268/2128 [05:27<07:09,  2.00it/s]"
     ]
    },
    {
     "name": "stdout",
     "output_type": "stream",
     "text": [
      "Answers saved to outputs_pipeline/article5_answers03_1.json\n"
     ]
    },
    {
     "name": "stderr",
     "output_type": "stream",
     "text": [
      "Processing responses:  60%|█████▉    | 1269/2128 [05:27<07:06,  2.01it/s]"
     ]
    },
    {
     "name": "stdout",
     "output_type": "stream",
     "text": [
      "Answers saved to outputs_pipeline/article5_answers03_1.json\n"
     ]
    },
    {
     "name": "stderr",
     "output_type": "stream",
     "text": [
      "Processing responses:  60%|█████▉    | 1270/2128 [05:28<07:05,  2.02it/s]"
     ]
    },
    {
     "name": "stdout",
     "output_type": "stream",
     "text": [
      "Answers saved to outputs_pipeline/article5_answers03_1.json\n"
     ]
    },
    {
     "name": "stderr",
     "output_type": "stream",
     "text": [
      "Processing responses:  60%|█████▉    | 1271/2128 [05:28<07:06,  2.01it/s]"
     ]
    },
    {
     "name": "stdout",
     "output_type": "stream",
     "text": [
      "Answers saved to outputs_pipeline/article5_answers03_1.json\n"
     ]
    },
    {
     "name": "stderr",
     "output_type": "stream",
     "text": [
      "Processing responses:  60%|█████▉    | 1272/2128 [05:29<07:12,  1.98it/s]"
     ]
    },
    {
     "name": "stdout",
     "output_type": "stream",
     "text": [
      "Answers saved to outputs_pipeline/article5_answers03_1.json\n"
     ]
    },
    {
     "name": "stderr",
     "output_type": "stream",
     "text": [
      "Processing responses:  60%|█████▉    | 1273/2128 [05:29<07:10,  1.99it/s]"
     ]
    },
    {
     "name": "stdout",
     "output_type": "stream",
     "text": [
      "Answers saved to outputs_pipeline/article5_answers03_1.json\n"
     ]
    },
    {
     "name": "stderr",
     "output_type": "stream",
     "text": [
      "Processing responses:  60%|█████▉    | 1274/2128 [05:30<07:08,  2.00it/s]"
     ]
    },
    {
     "name": "stdout",
     "output_type": "stream",
     "text": [
      "Answers saved to outputs_pipeline/article5_answers03_1.json\n"
     ]
    },
    {
     "name": "stderr",
     "output_type": "stream",
     "text": [
      "Processing responses:  60%|█████▉    | 1275/2128 [05:30<07:06,  2.00it/s]"
     ]
    },
    {
     "name": "stdout",
     "output_type": "stream",
     "text": [
      "Answers saved to outputs_pipeline/article5_answers03_1.json\n"
     ]
    },
    {
     "name": "stderr",
     "output_type": "stream",
     "text": [
      "Processing responses:  60%|█████▉    | 1276/2128 [05:31<07:04,  2.01it/s]"
     ]
    },
    {
     "name": "stdout",
     "output_type": "stream",
     "text": [
      "Answers saved to outputs_pipeline/article5_answers03_1.json\n"
     ]
    },
    {
     "name": "stderr",
     "output_type": "stream",
     "text": [
      "Processing responses:  60%|██████    | 1277/2128 [05:31<07:19,  1.93it/s]"
     ]
    },
    {
     "name": "stdout",
     "output_type": "stream",
     "text": [
      "Answers saved to outputs_pipeline/article5_answers03_1.json\n"
     ]
    },
    {
     "name": "stderr",
     "output_type": "stream",
     "text": [
      "Processing responses:  60%|██████    | 1278/2128 [05:32<07:15,  1.95it/s]"
     ]
    },
    {
     "name": "stdout",
     "output_type": "stream",
     "text": [
      "Answers saved to outputs_pipeline/article5_answers03_1.json\n"
     ]
    },
    {
     "name": "stderr",
     "output_type": "stream",
     "text": [
      "Processing responses:  60%|██████    | 1279/2128 [05:32<07:10,  1.97it/s]"
     ]
    },
    {
     "name": "stdout",
     "output_type": "stream",
     "text": [
      "Answers saved to outputs_pipeline/article5_answers03_1.json\n"
     ]
    },
    {
     "name": "stderr",
     "output_type": "stream",
     "text": [
      "Processing responses:  60%|██████    | 1280/2128 [05:33<07:50,  1.80it/s]"
     ]
    },
    {
     "name": "stdout",
     "output_type": "stream",
     "text": [
      "Answers saved to outputs_pipeline/article5_answers03_1.json\n"
     ]
    },
    {
     "name": "stderr",
     "output_type": "stream",
     "text": [
      "Processing responses:  60%|██████    | 1281/2128 [05:34<07:43,  1.83it/s]"
     ]
    },
    {
     "name": "stdout",
     "output_type": "stream",
     "text": [
      "Answers saved to outputs_pipeline/article5_answers03_1.json\n"
     ]
    },
    {
     "name": "stderr",
     "output_type": "stream",
     "text": [
      "Processing responses:  60%|██████    | 1282/2128 [05:34<07:36,  1.85it/s]"
     ]
    },
    {
     "name": "stdout",
     "output_type": "stream",
     "text": [
      "Answers saved to outputs_pipeline/article5_answers03_1.json\n"
     ]
    },
    {
     "name": "stderr",
     "output_type": "stream",
     "text": [
      "Processing responses:  60%|██████    | 1283/2128 [05:35<07:38,  1.84it/s]"
     ]
    },
    {
     "name": "stdout",
     "output_type": "stream",
     "text": [
      "Answers saved to outputs_pipeline/article5_answers03_1.json\n"
     ]
    },
    {
     "name": "stderr",
     "output_type": "stream",
     "text": [
      "Processing responses:  60%|██████    | 1284/2128 [05:35<07:31,  1.87it/s]"
     ]
    },
    {
     "name": "stdout",
     "output_type": "stream",
     "text": [
      "Answers saved to outputs_pipeline/article5_answers03_1.json\n"
     ]
    },
    {
     "name": "stderr",
     "output_type": "stream",
     "text": [
      "Processing responses:  60%|██████    | 1285/2128 [05:36<07:24,  1.89it/s]"
     ]
    },
    {
     "name": "stdout",
     "output_type": "stream",
     "text": [
      "Answers saved to outputs_pipeline/article5_answers03_1.json\n"
     ]
    },
    {
     "name": "stderr",
     "output_type": "stream",
     "text": [
      "Processing responses:  60%|██████    | 1286/2128 [05:36<07:25,  1.89it/s]"
     ]
    },
    {
     "name": "stdout",
     "output_type": "stream",
     "text": [
      "Answers saved to outputs_pipeline/article5_answers03_1.json\n"
     ]
    },
    {
     "name": "stderr",
     "output_type": "stream",
     "text": [
      "Processing responses:  60%|██████    | 1287/2128 [05:37<07:22,  1.90it/s]"
     ]
    },
    {
     "name": "stdout",
     "output_type": "stream",
     "text": [
      "Answers saved to outputs_pipeline/article5_answers03_1.json\n"
     ]
    },
    {
     "name": "stderr",
     "output_type": "stream",
     "text": [
      "Processing responses:  61%|██████    | 1288/2128 [05:37<07:19,  1.91it/s]"
     ]
    },
    {
     "name": "stdout",
     "output_type": "stream",
     "text": [
      "Answers saved to outputs_pipeline/article5_answers03_1.json\n"
     ]
    },
    {
     "name": "stderr",
     "output_type": "stream",
     "text": [
      "Processing responses:  61%|██████    | 1289/2128 [05:38<07:14,  1.93it/s]"
     ]
    },
    {
     "name": "stdout",
     "output_type": "stream",
     "text": [
      "Answers saved to outputs_pipeline/article5_answers03_1.json\n"
     ]
    },
    {
     "name": "stderr",
     "output_type": "stream",
     "text": [
      "Processing responses:  61%|██████    | 1290/2128 [05:38<07:17,  1.92it/s]"
     ]
    },
    {
     "name": "stdout",
     "output_type": "stream",
     "text": [
      "Answers saved to outputs_pipeline/article5_answers03_1.json\n"
     ]
    },
    {
     "name": "stderr",
     "output_type": "stream",
     "text": [
      "Processing responses:  61%|██████    | 1291/2128 [05:39<07:16,  1.92it/s]"
     ]
    },
    {
     "name": "stdout",
     "output_type": "stream",
     "text": [
      "Answers saved to outputs_pipeline/article5_answers03_1.json\n"
     ]
    },
    {
     "name": "stderr",
     "output_type": "stream",
     "text": [
      "Processing responses:  61%|██████    | 1292/2128 [05:39<07:21,  1.90it/s]"
     ]
    },
    {
     "name": "stdout",
     "output_type": "stream",
     "text": [
      "Answers saved to outputs_pipeline/article5_answers03_1.json\n"
     ]
    },
    {
     "name": "stderr",
     "output_type": "stream",
     "text": [
      "Processing responses:  61%|██████    | 1293/2128 [05:40<07:57,  1.75it/s]"
     ]
    },
    {
     "name": "stdout",
     "output_type": "stream",
     "text": [
      "Answers saved to outputs_pipeline/article5_answers03_1.json\n"
     ]
    },
    {
     "name": "stderr",
     "output_type": "stream",
     "text": [
      "Processing responses:  61%|██████    | 1294/2128 [05:40<07:37,  1.82it/s]"
     ]
    },
    {
     "name": "stdout",
     "output_type": "stream",
     "text": [
      "Answers saved to outputs_pipeline/article5_answers03_1.json\n"
     ]
    },
    {
     "name": "stderr",
     "output_type": "stream",
     "text": [
      "Processing responses:  61%|██████    | 1295/2128 [05:41<07:27,  1.86it/s]"
     ]
    },
    {
     "name": "stdout",
     "output_type": "stream",
     "text": [
      "Answers saved to outputs_pipeline/article5_answers03_1.json\n"
     ]
    },
    {
     "name": "stderr",
     "output_type": "stream",
     "text": [
      "Processing responses:  61%|██████    | 1296/2128 [05:41<07:17,  1.90it/s]"
     ]
    },
    {
     "name": "stdout",
     "output_type": "stream",
     "text": [
      "Answers saved to outputs_pipeline/article5_answers03_1.json\n"
     ]
    },
    {
     "name": "stderr",
     "output_type": "stream",
     "text": [
      "Processing responses:  61%|██████    | 1297/2128 [05:42<07:37,  1.82it/s]"
     ]
    },
    {
     "name": "stdout",
     "output_type": "stream",
     "text": [
      "Answers saved to outputs_pipeline/article5_answers03_1.json\n"
     ]
    },
    {
     "name": "stderr",
     "output_type": "stream",
     "text": [
      "Processing responses:  61%|██████    | 1298/2128 [05:43<08:22,  1.65it/s]"
     ]
    },
    {
     "name": "stdout",
     "output_type": "stream",
     "text": [
      "Answers saved to outputs_pipeline/article5_answers03_1.json\n"
     ]
    },
    {
     "name": "stderr",
     "output_type": "stream",
     "text": [
      "Processing responses:  61%|██████    | 1299/2128 [05:43<08:16,  1.67it/s]"
     ]
    },
    {
     "name": "stdout",
     "output_type": "stream",
     "text": [
      "Answers saved to outputs_pipeline/article5_answers03_1.json\n"
     ]
    },
    {
     "name": "stderr",
     "output_type": "stream",
     "text": [
      "Processing responses:  61%|██████    | 1300/2128 [05:44<08:51,  1.56it/s]"
     ]
    },
    {
     "name": "stdout",
     "output_type": "stream",
     "text": [
      "Answers saved to outputs_pipeline/article5_answers03_1.json\n"
     ]
    },
    {
     "name": "stderr",
     "output_type": "stream",
     "text": [
      "Processing responses:  61%|██████    | 1301/2128 [05:45<08:16,  1.66it/s]"
     ]
    },
    {
     "name": "stdout",
     "output_type": "stream",
     "text": [
      "Answers saved to outputs_pipeline/article5_answers03_1.json\n"
     ]
    },
    {
     "name": "stderr",
     "output_type": "stream",
     "text": [
      "Processing responses:  61%|██████    | 1302/2128 [05:45<07:51,  1.75it/s]"
     ]
    },
    {
     "name": "stdout",
     "output_type": "stream",
     "text": [
      "Answers saved to outputs_pipeline/article5_answers03_1.json\n"
     ]
    },
    {
     "name": "stderr",
     "output_type": "stream",
     "text": [
      "Processing responses:  61%|██████    | 1303/2128 [05:46<07:34,  1.81it/s]"
     ]
    },
    {
     "name": "stdout",
     "output_type": "stream",
     "text": [
      "Answers saved to outputs_pipeline/article5_answers03_1.json\n"
     ]
    },
    {
     "name": "stderr",
     "output_type": "stream",
     "text": [
      "Processing responses:  61%|██████▏   | 1304/2128 [05:46<07:30,  1.83it/s]"
     ]
    },
    {
     "name": "stdout",
     "output_type": "stream",
     "text": [
      "Answers saved to outputs_pipeline/article5_answers03_1.json\n"
     ]
    },
    {
     "name": "stderr",
     "output_type": "stream",
     "text": [
      "Processing responses:  61%|██████▏   | 1305/2128 [05:47<07:19,  1.87it/s]"
     ]
    },
    {
     "name": "stdout",
     "output_type": "stream",
     "text": [
      "Answers saved to outputs_pipeline/article5_answers03_1.json\n"
     ]
    },
    {
     "name": "stderr",
     "output_type": "stream",
     "text": [
      "Processing responses:  61%|██████▏   | 1306/2128 [05:47<07:13,  1.89it/s]"
     ]
    },
    {
     "name": "stdout",
     "output_type": "stream",
     "text": [
      "Answers saved to outputs_pipeline/article5_answers03_1.json\n"
     ]
    },
    {
     "name": "stderr",
     "output_type": "stream",
     "text": [
      "Processing responses:  61%|██████▏   | 1307/2128 [05:48<07:07,  1.92it/s]"
     ]
    },
    {
     "name": "stdout",
     "output_type": "stream",
     "text": [
      "Answers saved to outputs_pipeline/article5_answers03_1.json\n"
     ]
    },
    {
     "name": "stderr",
     "output_type": "stream",
     "text": [
      "Processing responses:  61%|██████▏   | 1308/2128 [05:48<07:07,  1.92it/s]"
     ]
    },
    {
     "name": "stdout",
     "output_type": "stream",
     "text": [
      "Answers saved to outputs_pipeline/article5_answers03_1.json\n"
     ]
    },
    {
     "name": "stderr",
     "output_type": "stream",
     "text": [
      "Processing responses:  62%|██████▏   | 1309/2128 [05:49<07:05,  1.93it/s]"
     ]
    },
    {
     "name": "stdout",
     "output_type": "stream",
     "text": [
      "Answers saved to outputs_pipeline/article5_answers03_1.json\n"
     ]
    },
    {
     "name": "stderr",
     "output_type": "stream",
     "text": [
      "Processing responses:  62%|██████▏   | 1310/2128 [05:49<07:04,  1.93it/s]"
     ]
    },
    {
     "name": "stdout",
     "output_type": "stream",
     "text": [
      "Answers saved to outputs_pipeline/article5_answers03_1.json\n"
     ]
    },
    {
     "name": "stderr",
     "output_type": "stream",
     "text": [
      "Processing responses:  62%|██████▏   | 1311/2128 [05:50<07:04,  1.93it/s]"
     ]
    },
    {
     "name": "stdout",
     "output_type": "stream",
     "text": [
      "Answers saved to outputs_pipeline/article5_answers03_1.json\n"
     ]
    },
    {
     "name": "stderr",
     "output_type": "stream",
     "text": [
      "Processing responses:  62%|██████▏   | 1312/2128 [05:50<07:07,  1.91it/s]"
     ]
    },
    {
     "name": "stdout",
     "output_type": "stream",
     "text": [
      "Answers saved to outputs_pipeline/article5_answers03_1.json\n"
     ]
    },
    {
     "name": "stderr",
     "output_type": "stream",
     "text": [
      "Processing responses:  62%|██████▏   | 1313/2128 [05:51<07:10,  1.89it/s]"
     ]
    },
    {
     "name": "stdout",
     "output_type": "stream",
     "text": [
      "Answers saved to outputs_pipeline/article5_answers03_1.json\n"
     ]
    },
    {
     "name": "stderr",
     "output_type": "stream",
     "text": [
      "Processing responses:  62%|██████▏   | 1314/2128 [05:51<07:06,  1.91it/s]"
     ]
    },
    {
     "name": "stdout",
     "output_type": "stream",
     "text": [
      "Answers saved to outputs_pipeline/article5_answers03_1.json\n"
     ]
    },
    {
     "name": "stderr",
     "output_type": "stream",
     "text": [
      "Processing responses:  62%|██████▏   | 1315/2128 [05:52<07:41,  1.76it/s]"
     ]
    },
    {
     "name": "stdout",
     "output_type": "stream",
     "text": [
      "Answers saved to outputs_pipeline/article5_answers03_1.json\n"
     ]
    },
    {
     "name": "stderr",
     "output_type": "stream",
     "text": [
      "Processing responses:  62%|██████▏   | 1316/2128 [05:53<07:26,  1.82it/s]"
     ]
    },
    {
     "name": "stdout",
     "output_type": "stream",
     "text": [
      "Answers saved to outputs_pipeline/article5_answers03_1.json\n"
     ]
    },
    {
     "name": "stderr",
     "output_type": "stream",
     "text": [
      "Processing responses:  62%|██████▏   | 1317/2128 [05:53<07:21,  1.84it/s]"
     ]
    },
    {
     "name": "stdout",
     "output_type": "stream",
     "text": [
      "Answers saved to outputs_pipeline/article5_answers03_1.json\n"
     ]
    },
    {
     "name": "stderr",
     "output_type": "stream",
     "text": [
      "Processing responses:  62%|██████▏   | 1318/2128 [05:54<07:15,  1.86it/s]"
     ]
    },
    {
     "name": "stdout",
     "output_type": "stream",
     "text": [
      "Answers saved to outputs_pipeline/article5_answers03_1.json\n"
     ]
    },
    {
     "name": "stderr",
     "output_type": "stream",
     "text": [
      "Processing responses:  62%|██████▏   | 1319/2128 [05:54<07:08,  1.89it/s]"
     ]
    },
    {
     "name": "stdout",
     "output_type": "stream",
     "text": [
      "Answers saved to outputs_pipeline/article5_answers03_1.json\n"
     ]
    },
    {
     "name": "stderr",
     "output_type": "stream",
     "text": [
      "Processing responses:  62%|██████▏   | 1320/2128 [05:55<07:03,  1.91it/s]"
     ]
    },
    {
     "name": "stdout",
     "output_type": "stream",
     "text": [
      "Answers saved to outputs_pipeline/article5_answers03_1.json\n"
     ]
    },
    {
     "name": "stderr",
     "output_type": "stream",
     "text": [
      "Processing responses:  62%|██████▏   | 1321/2128 [05:55<07:01,  1.91it/s]"
     ]
    },
    {
     "name": "stdout",
     "output_type": "stream",
     "text": [
      "Answers saved to outputs_pipeline/article5_answers03_1.json\n"
     ]
    },
    {
     "name": "stderr",
     "output_type": "stream",
     "text": [
      "Processing responses:  62%|██████▏   | 1322/2128 [05:56<07:08,  1.88it/s]"
     ]
    },
    {
     "name": "stdout",
     "output_type": "stream",
     "text": [
      "Answers saved to outputs_pipeline/article5_answers03_1.json\n"
     ]
    },
    {
     "name": "stderr",
     "output_type": "stream",
     "text": [
      "Processing responses:  62%|██████▏   | 1323/2128 [05:56<07:04,  1.90it/s]"
     ]
    },
    {
     "name": "stdout",
     "output_type": "stream",
     "text": [
      "Answers saved to outputs_pipeline/article5_answers03_1.json\n"
     ]
    },
    {
     "name": "stderr",
     "output_type": "stream",
     "text": [
      "Processing responses:  62%|██████▏   | 1324/2128 [05:57<07:01,  1.91it/s]"
     ]
    },
    {
     "name": "stdout",
     "output_type": "stream",
     "text": [
      "Answers saved to outputs_pipeline/article5_answers03_1.json\n"
     ]
    },
    {
     "name": "stderr",
     "output_type": "stream",
     "text": [
      "Processing responses:  62%|██████▏   | 1325/2128 [05:57<07:07,  1.88it/s]"
     ]
    },
    {
     "name": "stdout",
     "output_type": "stream",
     "text": [
      "Answers saved to outputs_pipeline/article5_answers03_1.json\n"
     ]
    },
    {
     "name": "stderr",
     "output_type": "stream",
     "text": [
      "Processing responses:  62%|██████▏   | 1326/2128 [05:58<07:17,  1.83it/s]"
     ]
    },
    {
     "name": "stdout",
     "output_type": "stream",
     "text": [
      "Answers saved to outputs_pipeline/article5_answers03_1.json\n"
     ]
    },
    {
     "name": "stderr",
     "output_type": "stream",
     "text": [
      "Processing responses:  62%|██████▏   | 1327/2128 [05:59<08:05,  1.65it/s]"
     ]
    },
    {
     "name": "stdout",
     "output_type": "stream",
     "text": [
      "Answers saved to outputs_pipeline/article5_answers03_1.json\n"
     ]
    },
    {
     "name": "stderr",
     "output_type": "stream",
     "text": [
      "Processing responses:  62%|██████▏   | 1328/2128 [05:59<08:06,  1.64it/s]"
     ]
    },
    {
     "name": "stdout",
     "output_type": "stream",
     "text": [
      "Answers saved to outputs_pipeline/article5_answers03_1.json\n"
     ]
    },
    {
     "name": "stderr",
     "output_type": "stream",
     "text": [
      "Processing responses:  62%|██████▏   | 1329/2128 [06:00<07:55,  1.68it/s]"
     ]
    },
    {
     "name": "stdout",
     "output_type": "stream",
     "text": [
      "Answers saved to outputs_pipeline/article5_answers03_1.json\n"
     ]
    },
    {
     "name": "stderr",
     "output_type": "stream",
     "text": [
      "Processing responses:  62%|██████▎   | 1330/2128 [06:00<07:38,  1.74it/s]"
     ]
    },
    {
     "name": "stdout",
     "output_type": "stream",
     "text": [
      "Answers saved to outputs_pipeline/article5_answers03_1.json\n"
     ]
    },
    {
     "name": "stderr",
     "output_type": "stream",
     "text": [
      "Processing responses:  63%|██████▎   | 1331/2128 [06:01<07:33,  1.76it/s]"
     ]
    },
    {
     "name": "stdout",
     "output_type": "stream",
     "text": [
      "Answers saved to outputs_pipeline/article5_answers03_1.json\n"
     ]
    },
    {
     "name": "stderr",
     "output_type": "stream",
     "text": [
      "Processing responses:  63%|██████▎   | 1332/2128 [06:01<07:20,  1.81it/s]"
     ]
    },
    {
     "name": "stdout",
     "output_type": "stream",
     "text": [
      "Answers saved to outputs_pipeline/article5_answers03_1.json\n"
     ]
    },
    {
     "name": "stderr",
     "output_type": "stream",
     "text": [
      "Processing responses:  63%|██████▎   | 1333/2128 [06:02<07:13,  1.83it/s]"
     ]
    },
    {
     "name": "stdout",
     "output_type": "stream",
     "text": [
      "Answers saved to outputs_pipeline/article5_answers03_1.json\n"
     ]
    },
    {
     "name": "stderr",
     "output_type": "stream",
     "text": [
      "Processing responses:  63%|██████▎   | 1334/2128 [06:03<07:27,  1.78it/s]"
     ]
    },
    {
     "name": "stdout",
     "output_type": "stream",
     "text": [
      "Answers saved to outputs_pipeline/article5_answers03_1.json\n"
     ]
    },
    {
     "name": "stderr",
     "output_type": "stream",
     "text": [
      "Processing responses:  63%|██████▎   | 1335/2128 [06:03<08:17,  1.59it/s]"
     ]
    },
    {
     "name": "stdout",
     "output_type": "stream",
     "text": [
      "Answers saved to outputs_pipeline/article5_answers03_1.json\n"
     ]
    },
    {
     "name": "stderr",
     "output_type": "stream",
     "text": [
      "Processing responses:  63%|██████▎   | 1336/2128 [06:04<07:58,  1.66it/s]"
     ]
    },
    {
     "name": "stdout",
     "output_type": "stream",
     "text": [
      "Answers saved to outputs_pipeline/article5_answers03_1.json\n"
     ]
    },
    {
     "name": "stderr",
     "output_type": "stream",
     "text": [
      "Processing responses:  63%|██████▎   | 1337/2128 [06:05<09:15,  1.42it/s]"
     ]
    },
    {
     "name": "stdout",
     "output_type": "stream",
     "text": [
      "Answers saved to outputs_pipeline/article5_answers03_1.json\n"
     ]
    },
    {
     "name": "stderr",
     "output_type": "stream",
     "text": [
      "Processing responses:  63%|██████▎   | 1338/2128 [06:05<08:33,  1.54it/s]"
     ]
    },
    {
     "name": "stdout",
     "output_type": "stream",
     "text": [
      "Answers saved to outputs_pipeline/article5_answers03_1.json\n"
     ]
    },
    {
     "name": "stderr",
     "output_type": "stream",
     "text": [
      "Processing responses:  63%|██████▎   | 1339/2128 [06:06<08:02,  1.63it/s]"
     ]
    },
    {
     "name": "stdout",
     "output_type": "stream",
     "text": [
      "Answers saved to outputs_pipeline/article5_answers03_1.json\n"
     ]
    },
    {
     "name": "stderr",
     "output_type": "stream",
     "text": [
      "Processing responses:  63%|██████▎   | 1340/2128 [06:06<07:45,  1.69it/s]"
     ]
    },
    {
     "name": "stdout",
     "output_type": "stream",
     "text": [
      "Answers saved to outputs_pipeline/article5_answers03_1.json\n"
     ]
    },
    {
     "name": "stderr",
     "output_type": "stream",
     "text": [
      "Processing responses:  63%|██████▎   | 1341/2128 [06:07<07:27,  1.76it/s]"
     ]
    },
    {
     "name": "stdout",
     "output_type": "stream",
     "text": [
      "Answers saved to outputs_pipeline/article5_answers03_1.json\n"
     ]
    },
    {
     "name": "stderr",
     "output_type": "stream",
     "text": [
      "Processing responses:  63%|██████▎   | 1342/2128 [06:07<07:15,  1.81it/s]"
     ]
    },
    {
     "name": "stdout",
     "output_type": "stream",
     "text": [
      "Answers saved to outputs_pipeline/article5_answers03_1.json\n"
     ]
    },
    {
     "name": "stderr",
     "output_type": "stream",
     "text": [
      "Processing responses:  63%|██████▎   | 1343/2128 [06:08<07:06,  1.84it/s]"
     ]
    },
    {
     "name": "stdout",
     "output_type": "stream",
     "text": [
      "Answers saved to outputs_pipeline/article5_answers03_1.json\n"
     ]
    },
    {
     "name": "stderr",
     "output_type": "stream",
     "text": [
      "Processing responses:  63%|██████▎   | 1344/2128 [06:08<07:05,  1.84it/s]"
     ]
    },
    {
     "name": "stdout",
     "output_type": "stream",
     "text": [
      "Answers saved to outputs_pipeline/article5_answers03_1.json\n"
     ]
    },
    {
     "name": "stderr",
     "output_type": "stream",
     "text": [
      "Processing responses:  63%|██████▎   | 1345/2128 [06:09<06:58,  1.87it/s]"
     ]
    },
    {
     "name": "stdout",
     "output_type": "stream",
     "text": [
      "Answers saved to outputs_pipeline/article5_answers03_1.json\n"
     ]
    },
    {
     "name": "stderr",
     "output_type": "stream",
     "text": [
      "Processing responses:  63%|██████▎   | 1346/2128 [06:10<06:55,  1.88it/s]"
     ]
    },
    {
     "name": "stdout",
     "output_type": "stream",
     "text": [
      "Answers saved to outputs_pipeline/article5_answers03_1.json\n"
     ]
    },
    {
     "name": "stderr",
     "output_type": "stream",
     "text": [
      "Processing responses:  63%|██████▎   | 1347/2128 [06:10<06:53,  1.89it/s]"
     ]
    },
    {
     "name": "stdout",
     "output_type": "stream",
     "text": [
      "Answers saved to outputs_pipeline/article5_answers03_1.json\n"
     ]
    },
    {
     "name": "stderr",
     "output_type": "stream",
     "text": [
      "Processing responses:  63%|██████▎   | 1348/2128 [06:11<06:52,  1.89it/s]"
     ]
    },
    {
     "name": "stdout",
     "output_type": "stream",
     "text": [
      "Answers saved to outputs_pipeline/article5_answers03_1.json\n"
     ]
    },
    {
     "name": "stderr",
     "output_type": "stream",
     "text": [
      "Processing responses:  63%|██████▎   | 1349/2128 [06:11<06:55,  1.87it/s]"
     ]
    },
    {
     "name": "stdout",
     "output_type": "stream",
     "text": [
      "Answers saved to outputs_pipeline/article5_answers03_1.json\n"
     ]
    },
    {
     "name": "stderr",
     "output_type": "stream",
     "text": [
      "Processing responses:  63%|██████▎   | 1350/2128 [06:12<07:30,  1.73it/s]"
     ]
    },
    {
     "name": "stdout",
     "output_type": "stream",
     "text": [
      "Answers saved to outputs_pipeline/article5_answers03_1.json\n"
     ]
    },
    {
     "name": "stderr",
     "output_type": "stream",
     "text": [
      "Processing responses:  63%|██████▎   | 1351/2128 [06:12<07:22,  1.76it/s]"
     ]
    },
    {
     "name": "stdout",
     "output_type": "stream",
     "text": [
      "Answers saved to outputs_pipeline/article5_answers03_1.json\n"
     ]
    },
    {
     "name": "stderr",
     "output_type": "stream",
     "text": [
      "Processing responses:  64%|██████▎   | 1352/2128 [06:13<07:09,  1.81it/s]"
     ]
    },
    {
     "name": "stdout",
     "output_type": "stream",
     "text": [
      "Answers saved to outputs_pipeline/article5_answers03_1.json\n"
     ]
    },
    {
     "name": "stderr",
     "output_type": "stream",
     "text": [
      "Processing responses:  64%|██████▎   | 1353/2128 [06:13<07:05,  1.82it/s]"
     ]
    },
    {
     "name": "stdout",
     "output_type": "stream",
     "text": [
      "Answers saved to outputs_pipeline/article5_answers03_1.json\n"
     ]
    },
    {
     "name": "stderr",
     "output_type": "stream",
     "text": [
      "Processing responses:  64%|██████▎   | 1354/2128 [06:14<07:06,  1.81it/s]"
     ]
    },
    {
     "name": "stdout",
     "output_type": "stream",
     "text": [
      "Answers saved to outputs_pipeline/article5_answers03_1.json\n"
     ]
    },
    {
     "name": "stderr",
     "output_type": "stream",
     "text": [
      "Processing responses:  64%|██████▎   | 1355/2128 [06:14<06:58,  1.85it/s]"
     ]
    },
    {
     "name": "stdout",
     "output_type": "stream",
     "text": [
      "Answers saved to outputs_pipeline/article5_answers03_1.json\n"
     ]
    },
    {
     "name": "stderr",
     "output_type": "stream",
     "text": [
      "Processing responses:  64%|██████▎   | 1356/2128 [06:15<06:52,  1.87it/s]"
     ]
    },
    {
     "name": "stdout",
     "output_type": "stream",
     "text": [
      "Answers saved to outputs_pipeline/article5_answers03_1.json\n"
     ]
    },
    {
     "name": "stderr",
     "output_type": "stream",
     "text": [
      "Processing responses:  64%|██████▍   | 1357/2128 [06:16<06:47,  1.89it/s]"
     ]
    },
    {
     "name": "stdout",
     "output_type": "stream",
     "text": [
      "Answers saved to outputs_pipeline/article5_answers03_1.json\n"
     ]
    },
    {
     "name": "stderr",
     "output_type": "stream",
     "text": [
      "Processing responses:  64%|██████▍   | 1358/2128 [06:16<07:04,  1.81it/s]"
     ]
    },
    {
     "name": "stdout",
     "output_type": "stream",
     "text": [
      "Answers saved to outputs_pipeline/article5_answers03_1.json\n"
     ]
    },
    {
     "name": "stderr",
     "output_type": "stream",
     "text": [
      "Processing responses:  64%|██████▍   | 1359/2128 [06:17<07:55,  1.62it/s]"
     ]
    },
    {
     "name": "stdout",
     "output_type": "stream",
     "text": [
      "Answers saved to outputs_pipeline/article5_answers03_1.json\n"
     ]
    },
    {
     "name": "stderr",
     "output_type": "stream",
     "text": [
      "Processing responses:  64%|██████▍   | 1360/2128 [06:17<07:47,  1.64it/s]"
     ]
    },
    {
     "name": "stdout",
     "output_type": "stream",
     "text": [
      "Answers saved to outputs_pipeline/article5_answers03_1.json\n"
     ]
    },
    {
     "name": "stderr",
     "output_type": "stream",
     "text": [
      "Processing responses:  64%|██████▍   | 1361/2128 [06:18<08:05,  1.58it/s]"
     ]
    },
    {
     "name": "stdout",
     "output_type": "stream",
     "text": [
      "Answers saved to outputs_pipeline/article5_answers03_1.json\n"
     ]
    },
    {
     "name": "stderr",
     "output_type": "stream",
     "text": [
      "Processing responses:  64%|██████▍   | 1362/2128 [06:19<08:21,  1.53it/s]"
     ]
    },
    {
     "name": "stdout",
     "output_type": "stream",
     "text": [
      "Answers saved to outputs_pipeline/article5_answers03_1.json\n"
     ]
    },
    {
     "name": "stderr",
     "output_type": "stream",
     "text": [
      "Processing responses:  64%|██████▍   | 1363/2128 [06:19<07:58,  1.60it/s]"
     ]
    },
    {
     "name": "stdout",
     "output_type": "stream",
     "text": [
      "Answers saved to outputs_pipeline/article5_answers03_1.json\n"
     ]
    },
    {
     "name": "stderr",
     "output_type": "stream",
     "text": [
      "Processing responses:  64%|██████▍   | 1364/2128 [06:20<07:35,  1.68it/s]"
     ]
    },
    {
     "name": "stdout",
     "output_type": "stream",
     "text": [
      "Answers saved to outputs_pipeline/article5_answers03_1.json\n"
     ]
    },
    {
     "name": "stderr",
     "output_type": "stream",
     "text": [
      "Processing responses:  64%|██████▍   | 1365/2128 [06:20<07:18,  1.74it/s]"
     ]
    },
    {
     "name": "stdout",
     "output_type": "stream",
     "text": [
      "Answers saved to outputs_pipeline/article5_answers03_1.json\n"
     ]
    },
    {
     "name": "stderr",
     "output_type": "stream",
     "text": [
      "Processing responses:  64%|██████▍   | 1366/2128 [06:21<07:07,  1.78it/s]"
     ]
    },
    {
     "name": "stdout",
     "output_type": "stream",
     "text": [
      "Answers saved to outputs_pipeline/article5_answers03_1.json\n"
     ]
    },
    {
     "name": "stderr",
     "output_type": "stream",
     "text": [
      "Processing responses:  64%|██████▍   | 1367/2128 [06:22<07:05,  1.79it/s]"
     ]
    },
    {
     "name": "stdout",
     "output_type": "stream",
     "text": [
      "Answers saved to outputs_pipeline/article5_answers03_1.json\n"
     ]
    },
    {
     "name": "stderr",
     "output_type": "stream",
     "text": [
      "Processing responses:  64%|██████▍   | 1368/2128 [06:22<07:45,  1.63it/s]"
     ]
    },
    {
     "name": "stdout",
     "output_type": "stream",
     "text": [
      "Answers saved to outputs_pipeline/article5_answers03_1.json\n"
     ]
    },
    {
     "name": "stderr",
     "output_type": "stream",
     "text": [
      "Processing responses:  64%|██████▍   | 1369/2128 [06:23<07:27,  1.70it/s]"
     ]
    },
    {
     "name": "stdout",
     "output_type": "stream",
     "text": [
      "Answers saved to outputs_pipeline/article5_answers03_1.json\n"
     ]
    },
    {
     "name": "stderr",
     "output_type": "stream",
     "text": [
      "Processing responses:  64%|██████▍   | 1370/2128 [06:23<07:13,  1.75it/s]"
     ]
    },
    {
     "name": "stdout",
     "output_type": "stream",
     "text": [
      "Answers saved to outputs_pipeline/article5_answers03_1.json\n"
     ]
    },
    {
     "name": "stderr",
     "output_type": "stream",
     "text": [
      "Processing responses:  64%|██████▍   | 1371/2128 [06:24<07:04,  1.78it/s]"
     ]
    },
    {
     "name": "stdout",
     "output_type": "stream",
     "text": [
      "Answers saved to outputs_pipeline/article5_answers03_1.json\n"
     ]
    },
    {
     "name": "stderr",
     "output_type": "stream",
     "text": [
      "Processing responses:  64%|██████▍   | 1372/2128 [06:24<07:02,  1.79it/s]"
     ]
    },
    {
     "name": "stdout",
     "output_type": "stream",
     "text": [
      "Answers saved to outputs_pipeline/article5_answers03_1.json\n"
     ]
    },
    {
     "name": "stderr",
     "output_type": "stream",
     "text": [
      "Processing responses:  65%|██████▍   | 1373/2128 [06:25<06:56,  1.81it/s]"
     ]
    },
    {
     "name": "stdout",
     "output_type": "stream",
     "text": [
      "Answers saved to outputs_pipeline/article5_answers03_1.json\n"
     ]
    },
    {
     "name": "stderr",
     "output_type": "stream",
     "text": [
      "Processing responses:  65%|██████▍   | 1374/2128 [06:26<06:51,  1.83it/s]"
     ]
    },
    {
     "name": "stdout",
     "output_type": "stream",
     "text": [
      "Answers saved to outputs_pipeline/article5_answers03_1.json\n"
     ]
    },
    {
     "name": "stderr",
     "output_type": "stream",
     "text": [
      "Processing responses:  65%|██████▍   | 1375/2128 [06:26<06:48,  1.84it/s]"
     ]
    },
    {
     "name": "stdout",
     "output_type": "stream",
     "text": [
      "Answers saved to outputs_pipeline/article5_answers03_1.json\n"
     ]
    },
    {
     "name": "stderr",
     "output_type": "stream",
     "text": [
      "Processing responses:  65%|██████▍   | 1376/2128 [06:27<06:54,  1.82it/s]"
     ]
    },
    {
     "name": "stdout",
     "output_type": "stream",
     "text": [
      "Answers saved to outputs_pipeline/article5_answers03_1.json\n"
     ]
    },
    {
     "name": "stderr",
     "output_type": "stream",
     "text": [
      "Processing responses:  65%|██████▍   | 1377/2128 [06:27<06:48,  1.84it/s]"
     ]
    },
    {
     "name": "stdout",
     "output_type": "stream",
     "text": [
      "Answers saved to outputs_pipeline/article5_answers03_1.json\n"
     ]
    },
    {
     "name": "stderr",
     "output_type": "stream",
     "text": [
      "Processing responses:  65%|██████▍   | 1378/2128 [06:28<07:22,  1.70it/s]"
     ]
    },
    {
     "name": "stdout",
     "output_type": "stream",
     "text": [
      "Answers saved to outputs_pipeline/article5_answers03_1.json\n"
     ]
    },
    {
     "name": "stderr",
     "output_type": "stream",
     "text": [
      "Processing responses:  65%|██████▍   | 1379/2128 [06:28<07:07,  1.75it/s]"
     ]
    },
    {
     "name": "stdout",
     "output_type": "stream",
     "text": [
      "Answers saved to outputs_pipeline/article5_answers03_1.json\n"
     ]
    },
    {
     "name": "stderr",
     "output_type": "stream",
     "text": [
      "Processing responses:  65%|██████▍   | 1380/2128 [06:29<07:38,  1.63it/s]"
     ]
    },
    {
     "name": "stdout",
     "output_type": "stream",
     "text": [
      "Answers saved to outputs_pipeline/article5_answers03_1.json\n"
     ]
    },
    {
     "name": "stderr",
     "output_type": "stream",
     "text": [
      "Processing responses:  65%|██████▍   | 1381/2128 [06:30<07:23,  1.68it/s]"
     ]
    },
    {
     "name": "stdout",
     "output_type": "stream",
     "text": [
      "Answers saved to outputs_pipeline/article5_answers03_1.json\n"
     ]
    },
    {
     "name": "stderr",
     "output_type": "stream",
     "text": [
      "Processing responses:  65%|██████▍   | 1382/2128 [06:30<07:08,  1.74it/s]"
     ]
    },
    {
     "name": "stdout",
     "output_type": "stream",
     "text": [
      "Answers saved to outputs_pipeline/article5_answers03_1.json\n"
     ]
    },
    {
     "name": "stderr",
     "output_type": "stream",
     "text": [
      "Processing responses:  65%|██████▍   | 1383/2128 [06:31<06:58,  1.78it/s]"
     ]
    },
    {
     "name": "stdout",
     "output_type": "stream",
     "text": [
      "Answers saved to outputs_pipeline/article5_answers03_1.json\n"
     ]
    },
    {
     "name": "stderr",
     "output_type": "stream",
     "text": [
      "Processing responses:  65%|██████▌   | 1384/2128 [06:31<06:52,  1.81it/s]"
     ]
    },
    {
     "name": "stdout",
     "output_type": "stream",
     "text": [
      "Answers saved to outputs_pipeline/article5_answers03_1.json\n"
     ]
    },
    {
     "name": "stderr",
     "output_type": "stream",
     "text": [
      "Processing responses:  65%|██████▌   | 1385/2128 [06:32<06:50,  1.81it/s]"
     ]
    },
    {
     "name": "stdout",
     "output_type": "stream",
     "text": [
      "Answers saved to outputs_pipeline/article5_answers03_1.json\n"
     ]
    },
    {
     "name": "stderr",
     "output_type": "stream",
     "text": [
      "Processing responses:  65%|██████▌   | 1386/2128 [06:32<06:45,  1.83it/s]"
     ]
    },
    {
     "name": "stdout",
     "output_type": "stream",
     "text": [
      "Answers saved to outputs_pipeline/article5_answers03_1.json\n"
     ]
    },
    {
     "name": "stderr",
     "output_type": "stream",
     "text": [
      "Processing responses:  65%|██████▌   | 1387/2128 [06:33<06:43,  1.83it/s]"
     ]
    },
    {
     "name": "stdout",
     "output_type": "stream",
     "text": [
      "Answers saved to outputs_pipeline/article5_answers03_1.json\n"
     ]
    },
    {
     "name": "stderr",
     "output_type": "stream",
     "text": [
      "Processing responses:  65%|██████▌   | 1388/2128 [06:33<06:39,  1.85it/s]"
     ]
    },
    {
     "name": "stdout",
     "output_type": "stream",
     "text": [
      "Answers saved to outputs_pipeline/article5_answers03_1.json\n"
     ]
    },
    {
     "name": "stderr",
     "output_type": "stream",
     "text": [
      "Processing responses:  65%|██████▌   | 1389/2128 [06:34<06:37,  1.86it/s]"
     ]
    },
    {
     "name": "stdout",
     "output_type": "stream",
     "text": [
      "Answers saved to outputs_pipeline/article5_answers03_1.json\n"
     ]
    },
    {
     "name": "stderr",
     "output_type": "stream",
     "text": [
      "Processing responses:  65%|██████▌   | 1390/2128 [06:34<06:43,  1.83it/s]"
     ]
    },
    {
     "name": "stdout",
     "output_type": "stream",
     "text": [
      "Answers saved to outputs_pipeline/article5_answers03_1.json\n"
     ]
    },
    {
     "name": "stderr",
     "output_type": "stream",
     "text": [
      "Processing responses:  65%|██████▌   | 1391/2128 [06:35<06:41,  1.84it/s]"
     ]
    },
    {
     "name": "stdout",
     "output_type": "stream",
     "text": [
      "Answers saved to outputs_pipeline/article5_answers03_1.json\n"
     ]
    },
    {
     "name": "stderr",
     "output_type": "stream",
     "text": [
      "Processing responses:  65%|██████▌   | 1392/2128 [06:36<06:40,  1.84it/s]"
     ]
    },
    {
     "name": "stdout",
     "output_type": "stream",
     "text": [
      "Answers saved to outputs_pipeline/article5_answers03_1.json\n"
     ]
    },
    {
     "name": "stderr",
     "output_type": "stream",
     "text": [
      "Processing responses:  65%|██████▌   | 1393/2128 [06:36<06:39,  1.84it/s]"
     ]
    },
    {
     "name": "stdout",
     "output_type": "stream",
     "text": [
      "Answers saved to outputs_pipeline/article5_answers03_1.json\n"
     ]
    },
    {
     "name": "stderr",
     "output_type": "stream",
     "text": [
      "Processing responses:  66%|██████▌   | 1394/2128 [06:37<06:43,  1.82it/s]"
     ]
    },
    {
     "name": "stdout",
     "output_type": "stream",
     "text": [
      "Answers saved to outputs_pipeline/article5_answers03_1.json\n"
     ]
    },
    {
     "name": "stderr",
     "output_type": "stream",
     "text": [
      "Processing responses:  66%|██████▌   | 1395/2128 [06:37<06:40,  1.83it/s]"
     ]
    },
    {
     "name": "stdout",
     "output_type": "stream",
     "text": [
      "Answers saved to outputs_pipeline/article5_answers03_1.json\n"
     ]
    },
    {
     "name": "stderr",
     "output_type": "stream",
     "text": [
      "Processing responses:  66%|██████▌   | 1396/2128 [06:38<06:39,  1.83it/s]"
     ]
    },
    {
     "name": "stdout",
     "output_type": "stream",
     "text": [
      "Answers saved to outputs_pipeline/article5_answers03_1.json\n"
     ]
    },
    {
     "name": "stderr",
     "output_type": "stream",
     "text": [
      "Processing responses:  66%|██████▌   | 1397/2128 [06:38<06:39,  1.83it/s]"
     ]
    },
    {
     "name": "stdout",
     "output_type": "stream",
     "text": [
      "Answers saved to outputs_pipeline/article5_answers03_1.json\n"
     ]
    },
    {
     "name": "stderr",
     "output_type": "stream",
     "text": [
      "Processing responses:  66%|██████▌   | 1398/2128 [06:39<06:42,  1.81it/s]"
     ]
    },
    {
     "name": "stdout",
     "output_type": "stream",
     "text": [
      "Answers saved to outputs_pipeline/article5_answers03_1.json\n"
     ]
    },
    {
     "name": "stderr",
     "output_type": "stream",
     "text": [
      "Processing responses:  66%|██████▌   | 1399/2128 [06:39<06:42,  1.81it/s]"
     ]
    },
    {
     "name": "stdout",
     "output_type": "stream",
     "text": [
      "Answers saved to outputs_pipeline/article5_answers03_1.json\n"
     ]
    },
    {
     "name": "stderr",
     "output_type": "stream",
     "text": [
      "Processing responses:  66%|██████▌   | 1400/2128 [06:40<06:38,  1.83it/s]"
     ]
    },
    {
     "name": "stdout",
     "output_type": "stream",
     "text": [
      "Answers saved to outputs_pipeline/article5_answers03_1.json\n"
     ]
    },
    {
     "name": "stderr",
     "output_type": "stream",
     "text": [
      "Processing responses:  66%|██████▌   | 1401/2128 [06:40<06:37,  1.83it/s]"
     ]
    },
    {
     "name": "stdout",
     "output_type": "stream",
     "text": [
      "Answers saved to outputs_pipeline/article5_answers03_1.json\n"
     ]
    },
    {
     "name": "stderr",
     "output_type": "stream",
     "text": [
      "Processing responses:  66%|██████▌   | 1402/2128 [06:41<06:38,  1.82it/s]"
     ]
    },
    {
     "name": "stdout",
     "output_type": "stream",
     "text": [
      "Answers saved to outputs_pipeline/article5_answers03_1.json\n"
     ]
    },
    {
     "name": "stderr",
     "output_type": "stream",
     "text": [
      "Processing responses:  66%|██████▌   | 1403/2128 [06:42<06:37,  1.82it/s]"
     ]
    },
    {
     "name": "stdout",
     "output_type": "stream",
     "text": [
      "Answers saved to outputs_pipeline/article5_answers03_1.json\n"
     ]
    },
    {
     "name": "stderr",
     "output_type": "stream",
     "text": [
      "Processing responses:  66%|██████▌   | 1404/2128 [06:42<06:37,  1.82it/s]"
     ]
    },
    {
     "name": "stdout",
     "output_type": "stream",
     "text": [
      "Answers saved to outputs_pipeline/article5_answers03_1.json\n"
     ]
    },
    {
     "name": "stderr",
     "output_type": "stream",
     "text": [
      "Processing responses:  66%|██████▌   | 1405/2128 [06:43<06:35,  1.83it/s]"
     ]
    },
    {
     "name": "stdout",
     "output_type": "stream",
     "text": [
      "Answers saved to outputs_pipeline/article5_answers03_1.json\n"
     ]
    },
    {
     "name": "stderr",
     "output_type": "stream",
     "text": [
      "Processing responses:  66%|██████▌   | 1406/2128 [06:43<06:34,  1.83it/s]"
     ]
    },
    {
     "name": "stdout",
     "output_type": "stream",
     "text": [
      "Answers saved to outputs_pipeline/article5_answers03_1.json\n"
     ]
    },
    {
     "name": "stderr",
     "output_type": "stream",
     "text": [
      "Processing responses:  66%|██████▌   | 1407/2128 [06:44<06:33,  1.83it/s]"
     ]
    },
    {
     "name": "stdout",
     "output_type": "stream",
     "text": [
      "Answers saved to outputs_pipeline/article5_answers03_1.json\n"
     ]
    },
    {
     "name": "stderr",
     "output_type": "stream",
     "text": [
      "Processing responses:  66%|██████▌   | 1408/2128 [06:44<06:39,  1.80it/s]"
     ]
    },
    {
     "name": "stdout",
     "output_type": "stream",
     "text": [
      "Answers saved to outputs_pipeline/article5_answers03_1.json\n"
     ]
    },
    {
     "name": "stderr",
     "output_type": "stream",
     "text": [
      "Processing responses:  66%|██████▌   | 1409/2128 [06:45<06:35,  1.82it/s]"
     ]
    },
    {
     "name": "stdout",
     "output_type": "stream",
     "text": [
      "Answers saved to outputs_pipeline/article5_answers03_1.json\n"
     ]
    },
    {
     "name": "stderr",
     "output_type": "stream",
     "text": [
      "Processing responses:  66%|██████▋   | 1410/2128 [06:45<06:33,  1.83it/s]"
     ]
    },
    {
     "name": "stdout",
     "output_type": "stream",
     "text": [
      "Answers saved to outputs_pipeline/article5_answers03_1.json\n"
     ]
    },
    {
     "name": "stderr",
     "output_type": "stream",
     "text": [
      "Processing responses:  66%|██████▋   | 1411/2128 [06:46<06:32,  1.83it/s]"
     ]
    },
    {
     "name": "stdout",
     "output_type": "stream",
     "text": [
      "Answers saved to outputs_pipeline/article5_answers03_1.json\n"
     ]
    },
    {
     "name": "stderr",
     "output_type": "stream",
     "text": [
      "Processing responses:  66%|██████▋   | 1412/2128 [06:47<07:06,  1.68it/s]"
     ]
    },
    {
     "name": "stdout",
     "output_type": "stream",
     "text": [
      "Answers saved to outputs_pipeline/article5_answers03_1.json\n"
     ]
    },
    {
     "name": "stderr",
     "output_type": "stream",
     "text": [
      "Processing responses:  66%|██████▋   | 1413/2128 [06:47<06:55,  1.72it/s]"
     ]
    },
    {
     "name": "stdout",
     "output_type": "stream",
     "text": [
      "Answers saved to outputs_pipeline/article5_answers03_1.json\n"
     ]
    },
    {
     "name": "stderr",
     "output_type": "stream",
     "text": [
      "Processing responses:  66%|██████▋   | 1414/2128 [06:48<06:48,  1.75it/s]"
     ]
    },
    {
     "name": "stdout",
     "output_type": "stream",
     "text": [
      "Answers saved to outputs_pipeline/article5_answers03_1.json\n"
     ]
    },
    {
     "name": "stderr",
     "output_type": "stream",
     "text": [
      "Processing responses:  66%|██████▋   | 1415/2128 [06:48<06:42,  1.77it/s]"
     ]
    },
    {
     "name": "stdout",
     "output_type": "stream",
     "text": [
      "Answers saved to outputs_pipeline/article5_answers03_1.json\n"
     ]
    },
    {
     "name": "stderr",
     "output_type": "stream",
     "text": [
      "Processing responses:  67%|██████▋   | 1416/2128 [06:49<06:38,  1.79it/s]"
     ]
    },
    {
     "name": "stdout",
     "output_type": "stream",
     "text": [
      "Answers saved to outputs_pipeline/article5_answers03_1.json\n"
     ]
    },
    {
     "name": "stderr",
     "output_type": "stream",
     "text": [
      "Processing responses:  67%|██████▋   | 1417/2128 [06:49<06:40,  1.78it/s]"
     ]
    },
    {
     "name": "stdout",
     "output_type": "stream",
     "text": [
      "Answers saved to outputs_pipeline/article5_answers03_1.json\n"
     ]
    },
    {
     "name": "stderr",
     "output_type": "stream",
     "text": [
      "Processing responses:  67%|██████▋   | 1418/2128 [06:50<06:37,  1.79it/s]"
     ]
    },
    {
     "name": "stdout",
     "output_type": "stream",
     "text": [
      "Answers saved to outputs_pipeline/article5_answers03_1.json\n"
     ]
    },
    {
     "name": "stderr",
     "output_type": "stream",
     "text": [
      "Processing responses:  67%|██████▋   | 1419/2128 [06:51<06:34,  1.80it/s]"
     ]
    },
    {
     "name": "stdout",
     "output_type": "stream",
     "text": [
      "Answers saved to outputs_pipeline/article5_answers03_1.json\n"
     ]
    },
    {
     "name": "stderr",
     "output_type": "stream",
     "text": [
      "Processing responses:  67%|██████▋   | 1420/2128 [06:51<06:32,  1.80it/s]"
     ]
    },
    {
     "name": "stdout",
     "output_type": "stream",
     "text": [
      "Answers saved to outputs_pipeline/article5_answers03_1.json\n"
     ]
    },
    {
     "name": "stderr",
     "output_type": "stream",
     "text": [
      "Processing responses:  67%|██████▋   | 1421/2128 [06:52<06:35,  1.79it/s]"
     ]
    },
    {
     "name": "stdout",
     "output_type": "stream",
     "text": [
      "Answers saved to outputs_pipeline/article5_answers03_1.json\n"
     ]
    },
    {
     "name": "stderr",
     "output_type": "stream",
     "text": [
      "Processing responses:  67%|██████▋   | 1422/2128 [06:52<06:32,  1.80it/s]"
     ]
    },
    {
     "name": "stdout",
     "output_type": "stream",
     "text": [
      "Answers saved to outputs_pipeline/article5_answers03_1.json\n"
     ]
    },
    {
     "name": "stderr",
     "output_type": "stream",
     "text": [
      "Processing responses:  67%|██████▋   | 1423/2128 [06:53<06:32,  1.79it/s]"
     ]
    },
    {
     "name": "stdout",
     "output_type": "stream",
     "text": [
      "Answers saved to outputs_pipeline/article5_answers03_1.json\n"
     ]
    },
    {
     "name": "stderr",
     "output_type": "stream",
     "text": [
      "Processing responses:  67%|██████▋   | 1424/2128 [06:53<06:34,  1.79it/s]"
     ]
    },
    {
     "name": "stdout",
     "output_type": "stream",
     "text": [
      "Answers saved to outputs_pipeline/article5_answers03_1.json\n"
     ]
    },
    {
     "name": "stderr",
     "output_type": "stream",
     "text": [
      "Processing responses:  67%|██████▋   | 1425/2128 [06:54<06:34,  1.78it/s]"
     ]
    },
    {
     "name": "stdout",
     "output_type": "stream",
     "text": [
      "Answers saved to outputs_pipeline/article5_answers03_1.json\n"
     ]
    },
    {
     "name": "stderr",
     "output_type": "stream",
     "text": [
      "Processing responses:  67%|██████▋   | 1426/2128 [06:54<06:30,  1.80it/s]"
     ]
    },
    {
     "name": "stdout",
     "output_type": "stream",
     "text": [
      "Answers saved to outputs_pipeline/article5_answers03_1.json\n"
     ]
    },
    {
     "name": "stderr",
     "output_type": "stream",
     "text": [
      "Processing responses:  67%|██████▋   | 1427/2128 [06:55<06:25,  1.82it/s]"
     ]
    },
    {
     "name": "stdout",
     "output_type": "stream",
     "text": [
      "Answers saved to outputs_pipeline/article5_answers03_1.json\n"
     ]
    },
    {
     "name": "stderr",
     "output_type": "stream",
     "text": [
      "Processing responses:  67%|██████▋   | 1428/2128 [06:56<06:26,  1.81it/s]"
     ]
    },
    {
     "name": "stdout",
     "output_type": "stream",
     "text": [
      "Answers saved to outputs_pipeline/article5_answers03_1.json\n"
     ]
    },
    {
     "name": "stderr",
     "output_type": "stream",
     "text": [
      "Processing responses:  67%|██████▋   | 1429/2128 [06:56<06:24,  1.82it/s]"
     ]
    },
    {
     "name": "stdout",
     "output_type": "stream",
     "text": [
      "Answers saved to outputs_pipeline/article5_answers03_1.json\n"
     ]
    },
    {
     "name": "stderr",
     "output_type": "stream",
     "text": [
      "Processing responses:  67%|██████▋   | 1430/2128 [06:57<06:28,  1.80it/s]"
     ]
    },
    {
     "name": "stdout",
     "output_type": "stream",
     "text": [
      "Answers saved to outputs_pipeline/article5_answers03_1.json\n"
     ]
    },
    {
     "name": "stderr",
     "output_type": "stream",
     "text": [
      "Processing responses:  67%|██████▋   | 1431/2128 [06:57<06:25,  1.81it/s]"
     ]
    },
    {
     "name": "stdout",
     "output_type": "stream",
     "text": [
      "Answers saved to outputs_pipeline/article5_answers03_1.json\n"
     ]
    },
    {
     "name": "stderr",
     "output_type": "stream",
     "text": [
      "Processing responses:  67%|██████▋   | 1432/2128 [06:58<06:24,  1.81it/s]"
     ]
    },
    {
     "name": "stdout",
     "output_type": "stream",
     "text": [
      "Answers saved to outputs_pipeline/article5_answers03_1.json\n"
     ]
    },
    {
     "name": "stderr",
     "output_type": "stream",
     "text": [
      "Processing responses:  67%|██████▋   | 1433/2128 [06:58<06:23,  1.81it/s]"
     ]
    },
    {
     "name": "stdout",
     "output_type": "stream",
     "text": [
      "Answers saved to outputs_pipeline/article5_answers03_1.json\n"
     ]
    },
    {
     "name": "stderr",
     "output_type": "stream",
     "text": [
      "Processing responses:  67%|██████▋   | 1434/2128 [06:59<06:26,  1.79it/s]"
     ]
    },
    {
     "name": "stdout",
     "output_type": "stream",
     "text": [
      "Answers saved to outputs_pipeline/article5_answers03_1.json\n"
     ]
    },
    {
     "name": "stderr",
     "output_type": "stream",
     "text": [
      "Processing responses:  67%|██████▋   | 1435/2128 [06:59<06:25,  1.80it/s]"
     ]
    },
    {
     "name": "stdout",
     "output_type": "stream",
     "text": [
      "Answers saved to outputs_pipeline/article5_answers03_1.json\n"
     ]
    },
    {
     "name": "stderr",
     "output_type": "stream",
     "text": [
      "Processing responses:  67%|██████▋   | 1436/2128 [07:00<06:24,  1.80it/s]"
     ]
    },
    {
     "name": "stdout",
     "output_type": "stream",
     "text": [
      "Answers saved to outputs_pipeline/article5_answers03_1.json\n"
     ]
    },
    {
     "name": "stderr",
     "output_type": "stream",
     "text": [
      "Processing responses:  68%|██████▊   | 1437/2128 [07:01<06:24,  1.80it/s]"
     ]
    },
    {
     "name": "stdout",
     "output_type": "stream",
     "text": [
      "Answers saved to outputs_pipeline/article5_answers03_1.json\n"
     ]
    },
    {
     "name": "stderr",
     "output_type": "stream",
     "text": [
      "Processing responses:  68%|██████▊   | 1438/2128 [07:01<06:43,  1.71it/s]"
     ]
    },
    {
     "name": "stdout",
     "output_type": "stream",
     "text": [
      "Answers saved to outputs_pipeline/article5_answers03_1.json\n"
     ]
    },
    {
     "name": "stderr",
     "output_type": "stream",
     "text": [
      "Processing responses:  68%|██████▊   | 1439/2128 [07:02<06:56,  1.65it/s]"
     ]
    },
    {
     "name": "stdout",
     "output_type": "stream",
     "text": [
      "Answers saved to outputs_pipeline/article5_answers03_1.json\n"
     ]
    },
    {
     "name": "stderr",
     "output_type": "stream",
     "text": [
      "Processing responses:  68%|██████▊   | 1440/2128 [07:02<06:58,  1.64it/s]"
     ]
    },
    {
     "name": "stdout",
     "output_type": "stream",
     "text": [
      "Answers saved to outputs_pipeline/article5_answers03_1.json\n"
     ]
    },
    {
     "name": "stderr",
     "output_type": "stream",
     "text": [
      "Processing responses:  68%|██████▊   | 1441/2128 [07:03<07:39,  1.50it/s]"
     ]
    },
    {
     "name": "stdout",
     "output_type": "stream",
     "text": [
      "Answers saved to outputs_pipeline/article5_answers03_1.json\n"
     ]
    },
    {
     "name": "stderr",
     "output_type": "stream",
     "text": [
      "Processing responses:  68%|██████▊   | 1442/2128 [07:04<07:35,  1.51it/s]"
     ]
    },
    {
     "name": "stdout",
     "output_type": "stream",
     "text": [
      "Answers saved to outputs_pipeline/article5_answers03_1.json\n"
     ]
    },
    {
     "name": "stderr",
     "output_type": "stream",
     "text": [
      "Processing responses:  68%|██████▊   | 1443/2128 [07:05<07:31,  1.52it/s]"
     ]
    },
    {
     "name": "stdout",
     "output_type": "stream",
     "text": [
      "Answers saved to outputs_pipeline/article5_answers03_1.json\n"
     ]
    },
    {
     "name": "stderr",
     "output_type": "stream",
     "text": [
      "Processing responses:  68%|██████▊   | 1444/2128 [07:05<07:43,  1.47it/s]"
     ]
    },
    {
     "name": "stdout",
     "output_type": "stream",
     "text": [
      "Answers saved to outputs_pipeline/article5_answers03_1.json\n"
     ]
    },
    {
     "name": "stderr",
     "output_type": "stream",
     "text": [
      "Processing responses:  68%|██████▊   | 1445/2128 [07:06<07:17,  1.56it/s]"
     ]
    },
    {
     "name": "stdout",
     "output_type": "stream",
     "text": [
      "Answers saved to outputs_pipeline/article5_answers03_1.json\n"
     ]
    },
    {
     "name": "stderr",
     "output_type": "stream",
     "text": [
      "Processing responses:  68%|██████▊   | 1446/2128 [07:06<06:59,  1.63it/s]"
     ]
    },
    {
     "name": "stdout",
     "output_type": "stream",
     "text": [
      "Answers saved to outputs_pipeline/article5_answers03_1.json\n"
     ]
    },
    {
     "name": "stderr",
     "output_type": "stream",
     "text": [
      "Processing responses:  68%|██████▊   | 1447/2128 [07:07<06:51,  1.65it/s]"
     ]
    },
    {
     "name": "stdout",
     "output_type": "stream",
     "text": [
      "Answers saved to outputs_pipeline/article5_answers03_1.json\n"
     ]
    },
    {
     "name": "stderr",
     "output_type": "stream",
     "text": [
      "Processing responses:  68%|██████▊   | 1448/2128 [07:08<06:42,  1.69it/s]"
     ]
    },
    {
     "name": "stdout",
     "output_type": "stream",
     "text": [
      "Answers saved to outputs_pipeline/article5_answers03_1.json\n"
     ]
    },
    {
     "name": "stderr",
     "output_type": "stream",
     "text": [
      "Processing responses:  68%|██████▊   | 1449/2128 [07:08<06:34,  1.72it/s]"
     ]
    },
    {
     "name": "stdout",
     "output_type": "stream",
     "text": [
      "Answers saved to outputs_pipeline/article5_answers03_1.json\n"
     ]
    },
    {
     "name": "stderr",
     "output_type": "stream",
     "text": [
      "Processing responses:  68%|██████▊   | 1450/2128 [07:09<06:29,  1.74it/s]"
     ]
    },
    {
     "name": "stdout",
     "output_type": "stream",
     "text": [
      "Answers saved to outputs_pipeline/article5_answers03_1.json\n"
     ]
    },
    {
     "name": "stderr",
     "output_type": "stream",
     "text": [
      "Processing responses:  68%|██████▊   | 1451/2128 [07:09<06:37,  1.70it/s]"
     ]
    },
    {
     "name": "stdout",
     "output_type": "stream",
     "text": [
      "Answers saved to outputs_pipeline/article5_answers03_1.json\n"
     ]
    },
    {
     "name": "stderr",
     "output_type": "stream",
     "text": [
      "Processing responses:  68%|██████▊   | 1452/2128 [07:10<07:01,  1.60it/s]"
     ]
    },
    {
     "name": "stdout",
     "output_type": "stream",
     "text": [
      "Answers saved to outputs_pipeline/article5_answers03_1.json\n"
     ]
    },
    {
     "name": "stderr",
     "output_type": "stream",
     "text": [
      "Processing responses:  68%|██████▊   | 1453/2128 [07:11<06:51,  1.64it/s]"
     ]
    },
    {
     "name": "stdout",
     "output_type": "stream",
     "text": [
      "Answers saved to outputs_pipeline/article5_answers03_1.json\n"
     ]
    },
    {
     "name": "stderr",
     "output_type": "stream",
     "text": [
      "Processing responses:  68%|██████▊   | 1454/2128 [07:11<06:41,  1.68it/s]"
     ]
    },
    {
     "name": "stdout",
     "output_type": "stream",
     "text": [
      "Answers saved to outputs_pipeline/article5_answers03_1.json\n"
     ]
    },
    {
     "name": "stderr",
     "output_type": "stream",
     "text": [
      "Processing responses:  68%|██████▊   | 1455/2128 [07:12<06:34,  1.71it/s]"
     ]
    },
    {
     "name": "stdout",
     "output_type": "stream",
     "text": [
      "Answers saved to outputs_pipeline/article5_answers03_1.json\n"
     ]
    },
    {
     "name": "stderr",
     "output_type": "stream",
     "text": [
      "Processing responses:  68%|██████▊   | 1456/2128 [07:12<06:31,  1.72it/s]"
     ]
    },
    {
     "name": "stdout",
     "output_type": "stream",
     "text": [
      "Answers saved to outputs_pipeline/article5_answers03_1.json\n"
     ]
    },
    {
     "name": "stderr",
     "output_type": "stream",
     "text": [
      "Processing responses:  68%|██████▊   | 1457/2128 [07:13<06:26,  1.74it/s]"
     ]
    },
    {
     "name": "stdout",
     "output_type": "stream",
     "text": [
      "Answers saved to outputs_pipeline/article5_answers03_1.json\n"
     ]
    },
    {
     "name": "stderr",
     "output_type": "stream",
     "text": [
      "Processing responses:  69%|██████▊   | 1458/2128 [07:13<06:37,  1.68it/s]"
     ]
    },
    {
     "name": "stdout",
     "output_type": "stream",
     "text": [
      "Answers saved to outputs_pipeline/article5_answers03_1.json\n"
     ]
    },
    {
     "name": "stderr",
     "output_type": "stream",
     "text": [
      "Processing responses:  69%|██████▊   | 1459/2128 [07:14<06:31,  1.71it/s]"
     ]
    },
    {
     "name": "stdout",
     "output_type": "stream",
     "text": [
      "Answers saved to outputs_pipeline/article5_answers03_1.json\n"
     ]
    },
    {
     "name": "stderr",
     "output_type": "stream",
     "text": [
      "Processing responses:  69%|██████▊   | 1460/2128 [07:15<06:28,  1.72it/s]"
     ]
    },
    {
     "name": "stdout",
     "output_type": "stream",
     "text": [
      "Answers saved to outputs_pipeline/article5_answers03_1.json\n"
     ]
    },
    {
     "name": "stderr",
     "output_type": "stream",
     "text": [
      "Processing responses:  69%|██████▊   | 1461/2128 [07:15<06:23,  1.74it/s]"
     ]
    },
    {
     "name": "stdout",
     "output_type": "stream",
     "text": [
      "Answers saved to outputs_pipeline/article5_answers03_1.json\n"
     ]
    },
    {
     "name": "stderr",
     "output_type": "stream",
     "text": [
      "Processing responses:  69%|██████▊   | 1462/2128 [07:16<06:30,  1.70it/s]"
     ]
    },
    {
     "name": "stdout",
     "output_type": "stream",
     "text": [
      "Answers saved to outputs_pipeline/article5_answers03_1.json\n"
     ]
    },
    {
     "name": "stderr",
     "output_type": "stream",
     "text": [
      "Processing responses:  69%|██████▉   | 1463/2128 [07:16<06:23,  1.73it/s]"
     ]
    },
    {
     "name": "stdout",
     "output_type": "stream",
     "text": [
      "Answers saved to outputs_pipeline/article5_answers03_1.json\n"
     ]
    },
    {
     "name": "stderr",
     "output_type": "stream",
     "text": [
      "Processing responses:  69%|██████▉   | 1464/2128 [07:17<06:18,  1.75it/s]"
     ]
    },
    {
     "name": "stdout",
     "output_type": "stream",
     "text": [
      "Answers saved to outputs_pipeline/article5_answers03_1.json\n"
     ]
    },
    {
     "name": "stderr",
     "output_type": "stream",
     "text": [
      "Processing responses:  69%|██████▉   | 1465/2128 [07:18<06:40,  1.66it/s]"
     ]
    },
    {
     "name": "stdout",
     "output_type": "stream",
     "text": [
      "Answers saved to outputs_pipeline/article5_answers03_1.json\n"
     ]
    },
    {
     "name": "stderr",
     "output_type": "stream",
     "text": [
      "Processing responses:  69%|██████▉   | 1466/2128 [07:18<06:57,  1.59it/s]"
     ]
    },
    {
     "name": "stdout",
     "output_type": "stream",
     "text": [
      "Answers saved to outputs_pipeline/article5_answers03_1.json\n"
     ]
    },
    {
     "name": "stderr",
     "output_type": "stream",
     "text": [
      "Processing responses:  69%|██████▉   | 1467/2128 [07:19<07:00,  1.57it/s]"
     ]
    },
    {
     "name": "stdout",
     "output_type": "stream",
     "text": [
      "Answers saved to outputs_pipeline/article5_answers03_1.json\n"
     ]
    },
    {
     "name": "stderr",
     "output_type": "stream",
     "text": [
      "Processing responses:  69%|██████▉   | 1468/2128 [07:20<07:01,  1.56it/s]"
     ]
    },
    {
     "name": "stdout",
     "output_type": "stream",
     "text": [
      "Answers saved to outputs_pipeline/article5_answers03_1.json\n"
     ]
    },
    {
     "name": "stderr",
     "output_type": "stream",
     "text": [
      "Processing responses:  69%|██████▉   | 1469/2128 [07:20<06:58,  1.58it/s]"
     ]
    },
    {
     "name": "stdout",
     "output_type": "stream",
     "text": [
      "Answers saved to outputs_pipeline/article5_answers03_1.json\n"
     ]
    },
    {
     "name": "stderr",
     "output_type": "stream",
     "text": [
      "Processing responses:  69%|██████▉   | 1470/2128 [07:21<07:29,  1.46it/s]"
     ]
    },
    {
     "name": "stdout",
     "output_type": "stream",
     "text": [
      "Answers saved to outputs_pipeline/article5_answers03_1.json\n"
     ]
    },
    {
     "name": "stderr",
     "output_type": "stream",
     "text": [
      "Processing responses:  69%|██████▉   | 1471/2128 [07:22<07:07,  1.54it/s]"
     ]
    },
    {
     "name": "stdout",
     "output_type": "stream",
     "text": [
      "Answers saved to outputs_pipeline/article5_answers03_1.json\n"
     ]
    },
    {
     "name": "stderr",
     "output_type": "stream",
     "text": [
      "Processing responses:  69%|██████▉   | 1472/2128 [07:22<06:50,  1.60it/s]"
     ]
    },
    {
     "name": "stdout",
     "output_type": "stream",
     "text": [
      "Answers saved to outputs_pipeline/article5_answers03_1.json\n"
     ]
    },
    {
     "name": "stderr",
     "output_type": "stream",
     "text": [
      "Processing responses:  69%|██████▉   | 1473/2128 [07:23<06:39,  1.64it/s]"
     ]
    },
    {
     "name": "stdout",
     "output_type": "stream",
     "text": [
      "Answers saved to outputs_pipeline/article5_answers03_1.json\n"
     ]
    },
    {
     "name": "stderr",
     "output_type": "stream",
     "text": [
      "Processing responses:  69%|██████▉   | 1474/2128 [07:23<06:34,  1.66it/s]"
     ]
    },
    {
     "name": "stdout",
     "output_type": "stream",
     "text": [
      "Answers saved to outputs_pipeline/article5_answers03_1.json\n"
     ]
    },
    {
     "name": "stderr",
     "output_type": "stream",
     "text": [
      "Processing responses:  69%|██████▉   | 1475/2128 [07:24<06:27,  1.69it/s]"
     ]
    },
    {
     "name": "stdout",
     "output_type": "stream",
     "text": [
      "Answers saved to outputs_pipeline/article5_answers03_1.json\n"
     ]
    },
    {
     "name": "stderr",
     "output_type": "stream",
     "text": [
      "Processing responses:  69%|██████▉   | 1476/2128 [07:25<06:53,  1.58it/s]"
     ]
    },
    {
     "name": "stdout",
     "output_type": "stream",
     "text": [
      "Answers saved to outputs_pipeline/article5_answers03_1.json\n"
     ]
    },
    {
     "name": "stderr",
     "output_type": "stream",
     "text": [
      "Processing responses:  69%|██████▉   | 1477/2128 [07:25<06:39,  1.63it/s]"
     ]
    },
    {
     "name": "stdout",
     "output_type": "stream",
     "text": [
      "Answers saved to outputs_pipeline/article5_answers03_1.json\n"
     ]
    },
    {
     "name": "stderr",
     "output_type": "stream",
     "text": [
      "Processing responses:  69%|██████▉   | 1478/2128 [07:26<06:29,  1.67it/s]"
     ]
    },
    {
     "name": "stdout",
     "output_type": "stream",
     "text": [
      "Answers saved to outputs_pipeline/article5_answers03_1.json\n"
     ]
    },
    {
     "name": "stderr",
     "output_type": "stream",
     "text": [
      "Processing responses:  70%|██████▉   | 1479/2128 [07:26<06:23,  1.69it/s]"
     ]
    },
    {
     "name": "stdout",
     "output_type": "stream",
     "text": [
      "Answers saved to outputs_pipeline/article5_answers03_1.json\n"
     ]
    },
    {
     "name": "stderr",
     "output_type": "stream",
     "text": [
      "Processing responses:  70%|██████▉   | 1480/2128 [07:27<06:20,  1.70it/s]"
     ]
    },
    {
     "name": "stdout",
     "output_type": "stream",
     "text": [
      "Answers saved to outputs_pipeline/article5_answers03_1.json\n"
     ]
    },
    {
     "name": "stderr",
     "output_type": "stream",
     "text": [
      "Processing responses:  70%|██████▉   | 1481/2128 [07:27<06:15,  1.72it/s]"
     ]
    },
    {
     "name": "stdout",
     "output_type": "stream",
     "text": [
      "Answers saved to outputs_pipeline/article5_answers03_1.json\n"
     ]
    },
    {
     "name": "stderr",
     "output_type": "stream",
     "text": [
      "Processing responses:  70%|██████▉   | 1482/2128 [07:28<06:13,  1.73it/s]"
     ]
    },
    {
     "name": "stdout",
     "output_type": "stream",
     "text": [
      "Answers saved to outputs_pipeline/article5_answers03_1.json\n"
     ]
    },
    {
     "name": "stderr",
     "output_type": "stream",
     "text": [
      "Processing responses:  70%|██████▉   | 1483/2128 [07:29<06:11,  1.74it/s]"
     ]
    },
    {
     "name": "stdout",
     "output_type": "stream",
     "text": [
      "Answers saved to outputs_pipeline/article5_answers03_1.json\n"
     ]
    },
    {
     "name": "stderr",
     "output_type": "stream",
     "text": [
      "Processing responses:  70%|██████▉   | 1484/2128 [07:29<06:08,  1.75it/s]"
     ]
    },
    {
     "name": "stdout",
     "output_type": "stream",
     "text": [
      "Answers saved to outputs_pipeline/article5_answers03_1.json\n"
     ]
    },
    {
     "name": "stderr",
     "output_type": "stream",
     "text": [
      "Processing responses:  70%|██████▉   | 1485/2128 [07:30<06:09,  1.74it/s]"
     ]
    },
    {
     "name": "stdout",
     "output_type": "stream",
     "text": [
      "Answers saved to outputs_pipeline/article5_answers03_1.json\n"
     ]
    },
    {
     "name": "stderr",
     "output_type": "stream",
     "text": [
      "Processing responses:  70%|██████▉   | 1486/2128 [07:31<06:56,  1.54it/s]"
     ]
    },
    {
     "name": "stdout",
     "output_type": "stream",
     "text": [
      "Answers saved to outputs_pipeline/article5_answers03_1.json\n"
     ]
    },
    {
     "name": "stderr",
     "output_type": "stream",
     "text": [
      "Processing responses:  70%|██████▉   | 1487/2128 [07:31<06:41,  1.60it/s]"
     ]
    },
    {
     "name": "stdout",
     "output_type": "stream",
     "text": [
      "Answers saved to outputs_pipeline/article5_answers03_1.json\n"
     ]
    },
    {
     "name": "stderr",
     "output_type": "stream",
     "text": [
      "Processing responses:  70%|██████▉   | 1488/2128 [07:32<06:30,  1.64it/s]"
     ]
    },
    {
     "name": "stdout",
     "output_type": "stream",
     "text": [
      "Answers saved to outputs_pipeline/article5_answers03_1.json\n"
     ]
    },
    {
     "name": "stderr",
     "output_type": "stream",
     "text": [
      "Processing responses:  70%|██████▉   | 1489/2128 [07:32<06:21,  1.68it/s]"
     ]
    },
    {
     "name": "stdout",
     "output_type": "stream",
     "text": [
      "Answers saved to outputs_pipeline/article5_answers03_1.json\n"
     ]
    },
    {
     "name": "stderr",
     "output_type": "stream",
     "text": [
      "Processing responses:  70%|███████   | 1490/2128 [07:33<06:17,  1.69it/s]"
     ]
    },
    {
     "name": "stdout",
     "output_type": "stream",
     "text": [
      "Answers saved to outputs_pipeline/article5_answers03_1.json\n"
     ]
    },
    {
     "name": "stderr",
     "output_type": "stream",
     "text": [
      "Processing responses:  70%|███████   | 1491/2128 [07:33<06:17,  1.69it/s]"
     ]
    },
    {
     "name": "stdout",
     "output_type": "stream",
     "text": [
      "Answers saved to outputs_pipeline/article5_answers03_1.json\n"
     ]
    },
    {
     "name": "stderr",
     "output_type": "stream",
     "text": [
      "Processing responses:  70%|███████   | 1492/2128 [07:34<06:17,  1.69it/s]"
     ]
    },
    {
     "name": "stdout",
     "output_type": "stream",
     "text": [
      "Answers saved to outputs_pipeline/article5_answers03_1.json\n"
     ]
    },
    {
     "name": "stderr",
     "output_type": "stream",
     "text": [
      "Processing responses:  70%|███████   | 1493/2128 [07:35<06:12,  1.70it/s]"
     ]
    },
    {
     "name": "stdout",
     "output_type": "stream",
     "text": [
      "Answers saved to outputs_pipeline/article5_answers03_1.json\n"
     ]
    },
    {
     "name": "stderr",
     "output_type": "stream",
     "text": [
      "Processing responses:  70%|███████   | 1494/2128 [07:35<06:10,  1.71it/s]"
     ]
    },
    {
     "name": "stdout",
     "output_type": "stream",
     "text": [
      "Answers saved to outputs_pipeline/article5_answers03_1.json\n"
     ]
    },
    {
     "name": "stderr",
     "output_type": "stream",
     "text": [
      "Processing responses:  70%|███████   | 1495/2128 [07:36<06:08,  1.72it/s]"
     ]
    },
    {
     "name": "stdout",
     "output_type": "stream",
     "text": [
      "Answers saved to outputs_pipeline/article5_answers03_1.json\n"
     ]
    },
    {
     "name": "stderr",
     "output_type": "stream",
     "text": [
      "Processing responses:  70%|███████   | 1496/2128 [07:36<06:09,  1.71it/s]"
     ]
    },
    {
     "name": "stdout",
     "output_type": "stream",
     "text": [
      "Answers saved to outputs_pipeline/article5_answers03_1.json\n"
     ]
    },
    {
     "name": "stderr",
     "output_type": "stream",
     "text": [
      "Processing responses:  70%|███████   | 1497/2128 [07:37<06:07,  1.72it/s]"
     ]
    },
    {
     "name": "stdout",
     "output_type": "stream",
     "text": [
      "Answers saved to outputs_pipeline/article5_answers03_1.json\n"
     ]
    },
    {
     "name": "stderr",
     "output_type": "stream",
     "text": [
      "Processing responses:  70%|███████   | 1498/2128 [07:38<06:08,  1.71it/s]"
     ]
    },
    {
     "name": "stdout",
     "output_type": "stream",
     "text": [
      "Answers saved to outputs_pipeline/article5_answers03_1.json\n"
     ]
    },
    {
     "name": "stderr",
     "output_type": "stream",
     "text": [
      "Processing responses:  70%|███████   | 1499/2128 [07:38<06:06,  1.72it/s]"
     ]
    },
    {
     "name": "stdout",
     "output_type": "stream",
     "text": [
      "Answers saved to outputs_pipeline/article5_answers03_1.json\n"
     ]
    },
    {
     "name": "stderr",
     "output_type": "stream",
     "text": [
      "Processing responses:  70%|███████   | 1500/2128 [07:39<06:05,  1.72it/s]"
     ]
    },
    {
     "name": "stdout",
     "output_type": "stream",
     "text": [
      "Answers saved to outputs_pipeline/article5_answers03_1.json\n"
     ]
    },
    {
     "name": "stderr",
     "output_type": "stream",
     "text": [
      "Processing responses:  71%|███████   | 1501/2128 [07:39<06:02,  1.73it/s]"
     ]
    },
    {
     "name": "stdout",
     "output_type": "stream",
     "text": [
      "Answers saved to outputs_pipeline/article5_answers03_1.json\n"
     ]
    },
    {
     "name": "stderr",
     "output_type": "stream",
     "text": [
      "Processing responses:  71%|███████   | 1502/2128 [07:40<06:01,  1.73it/s]"
     ]
    },
    {
     "name": "stdout",
     "output_type": "stream",
     "text": [
      "Answers saved to outputs_pipeline/article5_answers03_1.json\n"
     ]
    },
    {
     "name": "stderr",
     "output_type": "stream",
     "text": [
      "Processing responses:  71%|███████   | 1503/2128 [07:40<06:03,  1.72it/s]"
     ]
    },
    {
     "name": "stdout",
     "output_type": "stream",
     "text": [
      "Answers saved to outputs_pipeline/article5_answers03_1.json\n"
     ]
    },
    {
     "name": "stderr",
     "output_type": "stream",
     "text": [
      "Processing responses:  71%|███████   | 1504/2128 [07:41<06:07,  1.70it/s]"
     ]
    },
    {
     "name": "stdout",
     "output_type": "stream",
     "text": [
      "Answers saved to outputs_pipeline/article5_answers03_1.json\n"
     ]
    },
    {
     "name": "stderr",
     "output_type": "stream",
     "text": [
      "Processing responses:  71%|███████   | 1505/2128 [07:42<06:36,  1.57it/s]"
     ]
    },
    {
     "name": "stdout",
     "output_type": "stream",
     "text": [
      "Answers saved to outputs_pipeline/article5_answers03_1.json\n"
     ]
    },
    {
     "name": "stderr",
     "output_type": "stream",
     "text": [
      "Processing responses:  71%|███████   | 1506/2128 [07:42<06:24,  1.62it/s]"
     ]
    },
    {
     "name": "stdout",
     "output_type": "stream",
     "text": [
      "Answers saved to outputs_pipeline/article5_answers03_1.json\n"
     ]
    },
    {
     "name": "stderr",
     "output_type": "stream",
     "text": [
      "Processing responses:  71%|███████   | 1507/2128 [07:43<06:17,  1.65it/s]"
     ]
    },
    {
     "name": "stdout",
     "output_type": "stream",
     "text": [
      "Answers saved to outputs_pipeline/article5_answers03_1.json\n"
     ]
    },
    {
     "name": "stderr",
     "output_type": "stream",
     "text": [
      "Processing responses:  71%|███████   | 1508/2128 [07:43<06:13,  1.66it/s]"
     ]
    },
    {
     "name": "stdout",
     "output_type": "stream",
     "text": [
      "Answers saved to outputs_pipeline/article5_answers03_1.json\n"
     ]
    },
    {
     "name": "stderr",
     "output_type": "stream",
     "text": [
      "Processing responses:  71%|███████   | 1509/2128 [07:44<06:09,  1.68it/s]"
     ]
    },
    {
     "name": "stdout",
     "output_type": "stream",
     "text": [
      "Answers saved to outputs_pipeline/article5_answers03_1.json\n"
     ]
    },
    {
     "name": "stderr",
     "output_type": "stream",
     "text": [
      "Processing responses:  71%|███████   | 1510/2128 [07:45<06:48,  1.51it/s]"
     ]
    },
    {
     "name": "stdout",
     "output_type": "stream",
     "text": [
      "Answers saved to outputs_pipeline/article5_answers03_1.json\n"
     ]
    },
    {
     "name": "stderr",
     "output_type": "stream",
     "text": [
      "Processing responses:  71%|███████   | 1511/2128 [07:45<06:34,  1.57it/s]"
     ]
    },
    {
     "name": "stdout",
     "output_type": "stream",
     "text": [
      "Answers saved to outputs_pipeline/article5_answers03_1.json\n"
     ]
    },
    {
     "name": "stderr",
     "output_type": "stream",
     "text": [
      "Processing responses:  71%|███████   | 1512/2128 [07:46<06:25,  1.60it/s]"
     ]
    },
    {
     "name": "stdout",
     "output_type": "stream",
     "text": [
      "Answers saved to outputs_pipeline/article5_answers03_1.json\n"
     ]
    },
    {
     "name": "stderr",
     "output_type": "stream",
     "text": [
      "Processing responses:  71%|███████   | 1513/2128 [07:47<07:00,  1.46it/s]"
     ]
    },
    {
     "name": "stdout",
     "output_type": "stream",
     "text": [
      "Answers saved to outputs_pipeline/article5_answers03_1.json\n"
     ]
    },
    {
     "name": "stderr",
     "output_type": "stream",
     "text": [
      "Processing responses:  71%|███████   | 1514/2128 [07:48<06:45,  1.51it/s]"
     ]
    },
    {
     "name": "stdout",
     "output_type": "stream",
     "text": [
      "Answers saved to outputs_pipeline/article5_answers03_1.json\n"
     ]
    },
    {
     "name": "stderr",
     "output_type": "stream",
     "text": [
      "Processing responses:  71%|███████   | 1515/2128 [07:48<07:09,  1.43it/s]"
     ]
    },
    {
     "name": "stdout",
     "output_type": "stream",
     "text": [
      "Answers saved to outputs_pipeline/article5_answers03_1.json\n"
     ]
    },
    {
     "name": "stderr",
     "output_type": "stream",
     "text": [
      "Processing responses:  71%|███████   | 1516/2128 [07:49<06:45,  1.51it/s]"
     ]
    },
    {
     "name": "stdout",
     "output_type": "stream",
     "text": [
      "Answers saved to outputs_pipeline/article5_answers03_1.json\n"
     ]
    },
    {
     "name": "stderr",
     "output_type": "stream",
     "text": [
      "Processing responses:  71%|███████▏  | 1517/2128 [07:49<06:29,  1.57it/s]"
     ]
    },
    {
     "name": "stdout",
     "output_type": "stream",
     "text": [
      "Answers saved to outputs_pipeline/article5_answers03_1.json\n"
     ]
    },
    {
     "name": "stderr",
     "output_type": "stream",
     "text": [
      "Processing responses:  71%|███████▏  | 1518/2128 [07:50<06:19,  1.61it/s]"
     ]
    },
    {
     "name": "stdout",
     "output_type": "stream",
     "text": [
      "Answers saved to outputs_pipeline/article5_answers03_1.json\n"
     ]
    },
    {
     "name": "stderr",
     "output_type": "stream",
     "text": [
      "Processing responses:  71%|███████▏  | 1519/2128 [07:51<06:11,  1.64it/s]"
     ]
    },
    {
     "name": "stdout",
     "output_type": "stream",
     "text": [
      "Answers saved to outputs_pipeline/article5_answers03_1.json\n"
     ]
    },
    {
     "name": "stderr",
     "output_type": "stream",
     "text": [
      "Processing responses:  71%|███████▏  | 1520/2128 [07:51<06:06,  1.66it/s]"
     ]
    },
    {
     "name": "stdout",
     "output_type": "stream",
     "text": [
      "Answers saved to outputs_pipeline/article5_answers03_1.json\n"
     ]
    },
    {
     "name": "stderr",
     "output_type": "stream",
     "text": [
      "Processing responses:  71%|███████▏  | 1521/2128 [07:52<06:08,  1.65it/s]"
     ]
    },
    {
     "name": "stdout",
     "output_type": "stream",
     "text": [
      "Answers saved to outputs_pipeline/article5_answers03_1.json\n"
     ]
    },
    {
     "name": "stderr",
     "output_type": "stream",
     "text": [
      "Processing responses:  72%|███████▏  | 1522/2128 [07:52<06:04,  1.66it/s]"
     ]
    },
    {
     "name": "stdout",
     "output_type": "stream",
     "text": [
      "Answers saved to outputs_pipeline/article5_answers03_1.json\n"
     ]
    },
    {
     "name": "stderr",
     "output_type": "stream",
     "text": [
      "Processing responses:  72%|███████▏  | 1523/2128 [07:53<06:00,  1.68it/s]"
     ]
    },
    {
     "name": "stdout",
     "output_type": "stream",
     "text": [
      "Answers saved to outputs_pipeline/article5_answers03_1.json\n"
     ]
    },
    {
     "name": "stderr",
     "output_type": "stream",
     "text": [
      "Processing responses:  72%|███████▏  | 1524/2128 [07:54<05:58,  1.69it/s]"
     ]
    },
    {
     "name": "stdout",
     "output_type": "stream",
     "text": [
      "Answers saved to outputs_pipeline/article5_answers03_1.json\n"
     ]
    },
    {
     "name": "stderr",
     "output_type": "stream",
     "text": [
      "Processing responses:  72%|███████▏  | 1525/2128 [07:54<05:56,  1.69it/s]"
     ]
    },
    {
     "name": "stdout",
     "output_type": "stream",
     "text": [
      "Answers saved to outputs_pipeline/article5_answers03_1.json\n"
     ]
    },
    {
     "name": "stderr",
     "output_type": "stream",
     "text": [
      "Processing responses:  72%|███████▏  | 1526/2128 [07:55<05:59,  1.67it/s]"
     ]
    },
    {
     "name": "stdout",
     "output_type": "stream",
     "text": [
      "Answers saved to outputs_pipeline/article5_answers03_1.json\n"
     ]
    },
    {
     "name": "stderr",
     "output_type": "stream",
     "text": [
      "Processing responses:  72%|███████▏  | 1527/2128 [07:55<05:56,  1.69it/s]"
     ]
    },
    {
     "name": "stdout",
     "output_type": "stream",
     "text": [
      "Answers saved to outputs_pipeline/article5_answers03_1.json\n"
     ]
    },
    {
     "name": "stderr",
     "output_type": "stream",
     "text": [
      "Processing responses:  72%|███████▏  | 1528/2128 [07:56<05:55,  1.69it/s]"
     ]
    },
    {
     "name": "stdout",
     "output_type": "stream",
     "text": [
      "Answers saved to outputs_pipeline/article5_answers03_1.json\n"
     ]
    },
    {
     "name": "stderr",
     "output_type": "stream",
     "text": [
      "Processing responses:  72%|███████▏  | 1529/2128 [07:57<05:53,  1.69it/s]"
     ]
    },
    {
     "name": "stdout",
     "output_type": "stream",
     "text": [
      "Answers saved to outputs_pipeline/article5_answers03_1.json\n"
     ]
    },
    {
     "name": "stderr",
     "output_type": "stream",
     "text": [
      "Processing responses:  72%|███████▏  | 1530/2128 [07:57<05:59,  1.66it/s]"
     ]
    },
    {
     "name": "stdout",
     "output_type": "stream",
     "text": [
      "Answers saved to outputs_pipeline/article5_answers03_1.json\n"
     ]
    },
    {
     "name": "stderr",
     "output_type": "stream",
     "text": [
      "Processing responses:  72%|███████▏  | 1531/2128 [07:58<05:55,  1.68it/s]"
     ]
    },
    {
     "name": "stdout",
     "output_type": "stream",
     "text": [
      "Answers saved to outputs_pipeline/article5_answers03_1.json\n"
     ]
    },
    {
     "name": "stderr",
     "output_type": "stream",
     "text": [
      "Processing responses:  72%|███████▏  | 1532/2128 [07:58<06:18,  1.58it/s]"
     ]
    },
    {
     "name": "stdout",
     "output_type": "stream",
     "text": [
      "Answers saved to outputs_pipeline/article5_answers03_1.json\n"
     ]
    },
    {
     "name": "stderr",
     "output_type": "stream",
     "text": [
      "Processing responses:  72%|███████▏  | 1533/2128 [07:59<06:26,  1.54it/s]"
     ]
    },
    {
     "name": "stdout",
     "output_type": "stream",
     "text": [
      "Answers saved to outputs_pipeline/article5_answers03_1.json\n"
     ]
    },
    {
     "name": "stderr",
     "output_type": "stream",
     "text": [
      "Processing responses:  72%|███████▏  | 1534/2128 [08:00<06:15,  1.58it/s]"
     ]
    },
    {
     "name": "stdout",
     "output_type": "stream",
     "text": [
      "Answers saved to outputs_pipeline/article5_answers03_1.json\n"
     ]
    },
    {
     "name": "stderr",
     "output_type": "stream",
     "text": [
      "Processing responses:  72%|███████▏  | 1535/2128 [08:00<06:35,  1.50it/s]"
     ]
    },
    {
     "name": "stdout",
     "output_type": "stream",
     "text": [
      "Answers saved to outputs_pipeline/article5_answers03_1.json\n"
     ]
    },
    {
     "name": "stderr",
     "output_type": "stream",
     "text": [
      "Processing responses:  72%|███████▏  | 1536/2128 [08:01<06:22,  1.55it/s]"
     ]
    },
    {
     "name": "stdout",
     "output_type": "stream",
     "text": [
      "Answers saved to outputs_pipeline/article5_answers03_1.json\n"
     ]
    },
    {
     "name": "stderr",
     "output_type": "stream",
     "text": [
      "Processing responses:  72%|███████▏  | 1537/2128 [08:02<06:16,  1.57it/s]"
     ]
    },
    {
     "name": "stdout",
     "output_type": "stream",
     "text": [
      "Answers saved to outputs_pipeline/article5_answers03_1.json\n"
     ]
    },
    {
     "name": "stderr",
     "output_type": "stream",
     "text": [
      "Processing responses:  72%|███████▏  | 1538/2128 [08:02<06:10,  1.59it/s]"
     ]
    },
    {
     "name": "stdout",
     "output_type": "stream",
     "text": [
      "Answers saved to outputs_pipeline/article5_answers03_1.json\n"
     ]
    },
    {
     "name": "stderr",
     "output_type": "stream",
     "text": [
      "Processing responses:  72%|███████▏  | 1539/2128 [08:03<06:03,  1.62it/s]"
     ]
    },
    {
     "name": "stdout",
     "output_type": "stream",
     "text": [
      "Answers saved to outputs_pipeline/article5_answers03_1.json\n"
     ]
    },
    {
     "name": "stderr",
     "output_type": "stream",
     "text": [
      "Processing responses:  72%|███████▏  | 1540/2128 [08:03<05:57,  1.64it/s]"
     ]
    },
    {
     "name": "stdout",
     "output_type": "stream",
     "text": [
      "Answers saved to outputs_pipeline/article5_answers03_1.json\n"
     ]
    },
    {
     "name": "stderr",
     "output_type": "stream",
     "text": [
      "Processing responses:  72%|███████▏  | 1541/2128 [08:04<05:54,  1.66it/s]"
     ]
    },
    {
     "name": "stdout",
     "output_type": "stream",
     "text": [
      "Answers saved to outputs_pipeline/article5_answers03_1.json\n"
     ]
    },
    {
     "name": "stderr",
     "output_type": "stream",
     "text": [
      "Processing responses:  72%|███████▏  | 1542/2128 [08:05<05:55,  1.65it/s]"
     ]
    },
    {
     "name": "stdout",
     "output_type": "stream",
     "text": [
      "Answers saved to outputs_pipeline/article5_answers03_1.json\n"
     ]
    },
    {
     "name": "stderr",
     "output_type": "stream",
     "text": [
      "Processing responses:  73%|███████▎  | 1543/2128 [08:05<05:57,  1.64it/s]"
     ]
    },
    {
     "name": "stdout",
     "output_type": "stream",
     "text": [
      "Answers saved to outputs_pipeline/article5_answers03_1.json\n"
     ]
    },
    {
     "name": "stderr",
     "output_type": "stream",
     "text": [
      "Processing responses:  73%|███████▎  | 1544/2128 [08:06<05:55,  1.64it/s]"
     ]
    },
    {
     "name": "stdout",
     "output_type": "stream",
     "text": [
      "Answers saved to outputs_pipeline/article5_answers03_1.json\n"
     ]
    },
    {
     "name": "stderr",
     "output_type": "stream",
     "text": [
      "Processing responses:  73%|███████▎  | 1545/2128 [08:07<05:52,  1.65it/s]"
     ]
    },
    {
     "name": "stdout",
     "output_type": "stream",
     "text": [
      "Answers saved to outputs_pipeline/article5_answers03_1.json\n"
     ]
    },
    {
     "name": "stderr",
     "output_type": "stream",
     "text": [
      "Processing responses:  73%|███████▎  | 1546/2128 [08:07<06:44,  1.44it/s]"
     ]
    },
    {
     "name": "stdout",
     "output_type": "stream",
     "text": [
      "Answers saved to outputs_pipeline/article5_answers03_1.json\n"
     ]
    },
    {
     "name": "stderr",
     "output_type": "stream",
     "text": [
      "Processing responses:  73%|███████▎  | 1547/2128 [08:08<06:27,  1.50it/s]"
     ]
    },
    {
     "name": "stdout",
     "output_type": "stream",
     "text": [
      "Answers saved to outputs_pipeline/article5_answers03_1.json\n"
     ]
    },
    {
     "name": "stderr",
     "output_type": "stream",
     "text": [
      "Processing responses:  73%|███████▎  | 1548/2128 [08:09<06:16,  1.54it/s]"
     ]
    },
    {
     "name": "stdout",
     "output_type": "stream",
     "text": [
      "Answers saved to outputs_pipeline/article5_answers03_1.json\n"
     ]
    },
    {
     "name": "stderr",
     "output_type": "stream",
     "text": [
      "Processing responses:  73%|███████▎  | 1549/2128 [08:09<06:24,  1.51it/s]"
     ]
    },
    {
     "name": "stdout",
     "output_type": "stream",
     "text": [
      "Answers saved to outputs_pipeline/article5_answers03_1.json\n"
     ]
    },
    {
     "name": "stderr",
     "output_type": "stream",
     "text": [
      "Processing responses:  73%|███████▎  | 1550/2128 [08:10<07:03,  1.37it/s]"
     ]
    },
    {
     "name": "stdout",
     "output_type": "stream",
     "text": [
      "Answers saved to outputs_pipeline/article5_answers03_1.json\n"
     ]
    },
    {
     "name": "stderr",
     "output_type": "stream",
     "text": [
      "Processing responses:  73%|███████▎  | 1551/2128 [08:11<06:38,  1.45it/s]"
     ]
    },
    {
     "name": "stdout",
     "output_type": "stream",
     "text": [
      "Answers saved to outputs_pipeline/article5_answers03_1.json\n"
     ]
    },
    {
     "name": "stderr",
     "output_type": "stream",
     "text": [
      "Processing responses:  73%|███████▎  | 1552/2128 [08:11<06:21,  1.51it/s]"
     ]
    },
    {
     "name": "stdout",
     "output_type": "stream",
     "text": [
      "Answers saved to outputs_pipeline/article5_answers03_1.json\n"
     ]
    },
    {
     "name": "stderr",
     "output_type": "stream",
     "text": [
      "Processing responses:  73%|███████▎  | 1553/2128 [08:12<06:22,  1.51it/s]"
     ]
    },
    {
     "name": "stdout",
     "output_type": "stream",
     "text": [
      "Answers saved to outputs_pipeline/article5_answers03_1.json\n"
     ]
    },
    {
     "name": "stderr",
     "output_type": "stream",
     "text": [
      "Processing responses:  73%|███████▎  | 1554/2128 [08:13<06:21,  1.50it/s]"
     ]
    },
    {
     "name": "stdout",
     "output_type": "stream",
     "text": [
      "Answers saved to outputs_pipeline/article5_answers03_1.json\n"
     ]
    },
    {
     "name": "stderr",
     "output_type": "stream",
     "text": [
      "Processing responses:  73%|███████▎  | 1555/2128 [08:13<06:25,  1.48it/s]"
     ]
    },
    {
     "name": "stdout",
     "output_type": "stream",
     "text": [
      "Answers saved to outputs_pipeline/article5_answers03_1.json\n"
     ]
    },
    {
     "name": "stderr",
     "output_type": "stream",
     "text": [
      "Processing responses:  73%|███████▎  | 1556/2128 [08:14<06:39,  1.43it/s]"
     ]
    },
    {
     "name": "stdout",
     "output_type": "stream",
     "text": [
      "Answers saved to outputs_pipeline/article5_answers03_1.json\n"
     ]
    },
    {
     "name": "stderr",
     "output_type": "stream",
     "text": [
      "Processing responses:  73%|███████▎  | 1557/2128 [08:15<06:21,  1.50it/s]"
     ]
    },
    {
     "name": "stdout",
     "output_type": "stream",
     "text": [
      "Answers saved to outputs_pipeline/article5_answers03_1.json\n"
     ]
    },
    {
     "name": "stderr",
     "output_type": "stream",
     "text": [
      "Processing responses:  73%|███████▎  | 1558/2128 [08:15<06:10,  1.54it/s]"
     ]
    },
    {
     "name": "stdout",
     "output_type": "stream",
     "text": [
      "Answers saved to outputs_pipeline/article5_answers03_1.json\n"
     ]
    },
    {
     "name": "stderr",
     "output_type": "stream",
     "text": [
      "Processing responses:  73%|███████▎  | 1559/2128 [08:16<06:05,  1.56it/s]"
     ]
    },
    {
     "name": "stdout",
     "output_type": "stream",
     "text": [
      "Answers saved to outputs_pipeline/article5_answers03_1.json\n"
     ]
    },
    {
     "name": "stderr",
     "output_type": "stream",
     "text": [
      "Processing responses:  73%|███████▎  | 1560/2128 [08:17<06:00,  1.57it/s]"
     ]
    },
    {
     "name": "stdout",
     "output_type": "stream",
     "text": [
      "Answers saved to outputs_pipeline/article5_answers03_1.json\n"
     ]
    },
    {
     "name": "stderr",
     "output_type": "stream",
     "text": [
      "Processing responses:  73%|███████▎  | 1561/2128 [08:17<05:52,  1.61it/s]"
     ]
    },
    {
     "name": "stdout",
     "output_type": "stream",
     "text": [
      "Answers saved to outputs_pipeline/article5_answers03_1.json\n"
     ]
    },
    {
     "name": "stderr",
     "output_type": "stream",
     "text": [
      "Processing responses:  73%|███████▎  | 1562/2128 [08:18<05:48,  1.62it/s]"
     ]
    },
    {
     "name": "stdout",
     "output_type": "stream",
     "text": [
      "Answers saved to outputs_pipeline/article5_answers03_1.json\n"
     ]
    },
    {
     "name": "stderr",
     "output_type": "stream",
     "text": [
      "Processing responses:  73%|███████▎  | 1563/2128 [08:18<05:46,  1.63it/s]"
     ]
    },
    {
     "name": "stdout",
     "output_type": "stream",
     "text": [
      "Answers saved to outputs_pipeline/article5_answers03_1.json\n"
     ]
    },
    {
     "name": "stderr",
     "output_type": "stream",
     "text": [
      "Processing responses:  73%|███████▎  | 1564/2128 [08:19<06:09,  1.53it/s]"
     ]
    },
    {
     "name": "stdout",
     "output_type": "stream",
     "text": [
      "Answers saved to outputs_pipeline/article5_answers03_1.json\n"
     ]
    },
    {
     "name": "stderr",
     "output_type": "stream",
     "text": [
      "Processing responses:  74%|███████▎  | 1565/2128 [08:20<06:01,  1.56it/s]"
     ]
    },
    {
     "name": "stdout",
     "output_type": "stream",
     "text": [
      "Answers saved to outputs_pipeline/article5_answers03_1.json\n"
     ]
    },
    {
     "name": "stderr",
     "output_type": "stream",
     "text": [
      "Processing responses:  74%|███████▎  | 1566/2128 [08:20<05:54,  1.58it/s]"
     ]
    },
    {
     "name": "stdout",
     "output_type": "stream",
     "text": [
      "Answers saved to outputs_pipeline/article5_answers03_1.json\n"
     ]
    },
    {
     "name": "stderr",
     "output_type": "stream",
     "text": [
      "Processing responses:  74%|███████▎  | 1567/2128 [08:21<05:49,  1.61it/s]"
     ]
    },
    {
     "name": "stdout",
     "output_type": "stream",
     "text": [
      "Answers saved to outputs_pipeline/article5_answers03_1.json\n"
     ]
    },
    {
     "name": "stderr",
     "output_type": "stream",
     "text": [
      "Processing responses:  74%|███████▎  | 1568/2128 [08:22<05:45,  1.62it/s]"
     ]
    },
    {
     "name": "stdout",
     "output_type": "stream",
     "text": [
      "Answers saved to outputs_pipeline/article5_answers03_1.json\n"
     ]
    },
    {
     "name": "stderr",
     "output_type": "stream",
     "text": [
      "Processing responses:  74%|███████▎  | 1569/2128 [08:22<05:42,  1.63it/s]"
     ]
    },
    {
     "name": "stdout",
     "output_type": "stream",
     "text": [
      "Answers saved to outputs_pipeline/article5_answers03_1.json\n"
     ]
    },
    {
     "name": "stderr",
     "output_type": "stream",
     "text": [
      "Processing responses:  74%|███████▍  | 1570/2128 [08:23<05:43,  1.62it/s]"
     ]
    },
    {
     "name": "stdout",
     "output_type": "stream",
     "text": [
      "Answers saved to outputs_pipeline/article5_answers03_1.json\n"
     ]
    },
    {
     "name": "stderr",
     "output_type": "stream",
     "text": [
      "Processing responses:  74%|███████▍  | 1571/2128 [08:23<05:39,  1.64it/s]"
     ]
    },
    {
     "name": "stdout",
     "output_type": "stream",
     "text": [
      "Answers saved to outputs_pipeline/article5_answers03_1.json\n"
     ]
    },
    {
     "name": "stderr",
     "output_type": "stream",
     "text": [
      "Processing responses:  74%|███████▍  | 1572/2128 [08:24<05:41,  1.63it/s]"
     ]
    },
    {
     "name": "stdout",
     "output_type": "stream",
     "text": [
      "Answers saved to outputs_pipeline/article5_answers03_1.json\n"
     ]
    },
    {
     "name": "stderr",
     "output_type": "stream",
     "text": [
      "Processing responses:  74%|███████▍  | 1573/2128 [08:25<05:38,  1.64it/s]"
     ]
    },
    {
     "name": "stdout",
     "output_type": "stream",
     "text": [
      "Answers saved to outputs_pipeline/article5_answers03_1.json\n"
     ]
    },
    {
     "name": "stderr",
     "output_type": "stream",
     "text": [
      "Processing responses:  74%|███████▍  | 1574/2128 [08:25<05:37,  1.64it/s]"
     ]
    },
    {
     "name": "stdout",
     "output_type": "stream",
     "text": [
      "Answers saved to outputs_pipeline/article5_answers03_1.json\n"
     ]
    },
    {
     "name": "stderr",
     "output_type": "stream",
     "text": [
      "Processing responses:  74%|███████▍  | 1575/2128 [08:26<05:36,  1.64it/s]"
     ]
    },
    {
     "name": "stdout",
     "output_type": "stream",
     "text": [
      "Answers saved to outputs_pipeline/article5_answers03_1.json\n"
     ]
    },
    {
     "name": "stderr",
     "output_type": "stream",
     "text": [
      "Processing responses:  74%|███████▍  | 1576/2128 [08:26<05:35,  1.65it/s]"
     ]
    },
    {
     "name": "stdout",
     "output_type": "stream",
     "text": [
      "Answers saved to outputs_pipeline/article5_answers03_1.json\n"
     ]
    },
    {
     "name": "stderr",
     "output_type": "stream",
     "text": [
      "Processing responses:  74%|███████▍  | 1577/2128 [08:27<05:43,  1.61it/s]"
     ]
    },
    {
     "name": "stdout",
     "output_type": "stream",
     "text": [
      "Answers saved to outputs_pipeline/article5_answers03_1.json\n"
     ]
    },
    {
     "name": "stderr",
     "output_type": "stream",
     "text": [
      "Processing responses:  74%|███████▍  | 1578/2128 [08:28<05:39,  1.62it/s]"
     ]
    },
    {
     "name": "stdout",
     "output_type": "stream",
     "text": [
      "Answers saved to outputs_pipeline/article5_answers03_1.json\n"
     ]
    },
    {
     "name": "stderr",
     "output_type": "stream",
     "text": [
      "Processing responses:  74%|███████▍  | 1579/2128 [08:28<05:50,  1.57it/s]"
     ]
    },
    {
     "name": "stdout",
     "output_type": "stream",
     "text": [
      "Answers saved to outputs_pipeline/article5_answers03_1.json\n"
     ]
    },
    {
     "name": "stderr",
     "output_type": "stream",
     "text": [
      "Processing responses:  74%|███████▍  | 1580/2128 [08:29<06:16,  1.46it/s]"
     ]
    },
    {
     "name": "stdout",
     "output_type": "stream",
     "text": [
      "Answers saved to outputs_pipeline/article5_answers03_1.json\n"
     ]
    },
    {
     "name": "stderr",
     "output_type": "stream",
     "text": [
      "Processing responses:  74%|███████▍  | 1581/2128 [08:30<06:03,  1.51it/s]"
     ]
    },
    {
     "name": "stdout",
     "output_type": "stream",
     "text": [
      "Answers saved to outputs_pipeline/article5_answers03_1.json\n"
     ]
    },
    {
     "name": "stderr",
     "output_type": "stream",
     "text": [
      "Processing responses:  74%|███████▍  | 1582/2128 [08:30<05:56,  1.53it/s]"
     ]
    },
    {
     "name": "stdout",
     "output_type": "stream",
     "text": [
      "Answers saved to outputs_pipeline/article5_answers03_1.json\n"
     ]
    },
    {
     "name": "stderr",
     "output_type": "stream",
     "text": [
      "Processing responses:  74%|███████▍  | 1583/2128 [08:31<06:04,  1.50it/s]"
     ]
    },
    {
     "name": "stdout",
     "output_type": "stream",
     "text": [
      "Answers saved to outputs_pipeline/article5_answers03_1.json\n"
     ]
    },
    {
     "name": "stderr",
     "output_type": "stream",
     "text": [
      "Processing responses:  74%|███████▍  | 1584/2128 [08:32<06:14,  1.45it/s]"
     ]
    },
    {
     "name": "stdout",
     "output_type": "stream",
     "text": [
      "Answers saved to outputs_pipeline/article5_answers03_1.json\n"
     ]
    },
    {
     "name": "stderr",
     "output_type": "stream",
     "text": [
      "Processing responses:  74%|███████▍  | 1585/2128 [08:33<06:01,  1.50it/s]"
     ]
    },
    {
     "name": "stdout",
     "output_type": "stream",
     "text": [
      "Answers saved to outputs_pipeline/article5_answers03_1.json\n"
     ]
    },
    {
     "name": "stderr",
     "output_type": "stream",
     "text": [
      "Processing responses:  75%|███████▍  | 1586/2128 [08:33<05:56,  1.52it/s]"
     ]
    },
    {
     "name": "stdout",
     "output_type": "stream",
     "text": [
      "Answers saved to outputs_pipeline/article5_answers03_1.json\n"
     ]
    },
    {
     "name": "stderr",
     "output_type": "stream",
     "text": [
      "Processing responses:  75%|███████▍  | 1587/2128 [08:34<05:46,  1.56it/s]"
     ]
    },
    {
     "name": "stdout",
     "output_type": "stream",
     "text": [
      "Answers saved to outputs_pipeline/article5_answers03_1.json\n"
     ]
    },
    {
     "name": "stderr",
     "output_type": "stream",
     "text": [
      "Processing responses:  75%|███████▍  | 1588/2128 [08:34<05:40,  1.58it/s]"
     ]
    },
    {
     "name": "stdout",
     "output_type": "stream",
     "text": [
      "Answers saved to outputs_pipeline/article5_answers03_1.json\n"
     ]
    },
    {
     "name": "stderr",
     "output_type": "stream",
     "text": [
      "Processing responses:  75%|███████▍  | 1589/2128 [08:35<05:43,  1.57it/s]"
     ]
    },
    {
     "name": "stdout",
     "output_type": "stream",
     "text": [
      "Answers saved to outputs_pipeline/article5_answers03_1.json\n"
     ]
    },
    {
     "name": "stderr",
     "output_type": "stream",
     "text": [
      "Processing responses:  75%|███████▍  | 1590/2128 [08:36<05:39,  1.58it/s]"
     ]
    },
    {
     "name": "stdout",
     "output_type": "stream",
     "text": [
      "Answers saved to outputs_pipeline/article5_answers03_1.json\n"
     ]
    },
    {
     "name": "stderr",
     "output_type": "stream",
     "text": [
      "Processing responses:  75%|███████▍  | 1591/2128 [08:36<05:36,  1.60it/s]"
     ]
    },
    {
     "name": "stdout",
     "output_type": "stream",
     "text": [
      "Answers saved to outputs_pipeline/article5_answers03_1.json\n"
     ]
    },
    {
     "name": "stderr",
     "output_type": "stream",
     "text": [
      "Processing responses:  75%|███████▍  | 1592/2128 [08:37<06:00,  1.49it/s]"
     ]
    },
    {
     "name": "stdout",
     "output_type": "stream",
     "text": [
      "Answers saved to outputs_pipeline/article5_answers03_1.json\n"
     ]
    },
    {
     "name": "stderr",
     "output_type": "stream",
     "text": [
      "Processing responses:  75%|███████▍  | 1593/2128 [08:38<05:51,  1.52it/s]"
     ]
    },
    {
     "name": "stdout",
     "output_type": "stream",
     "text": [
      "Answers saved to outputs_pipeline/article5_answers03_1.json\n"
     ]
    },
    {
     "name": "stderr",
     "output_type": "stream",
     "text": [
      "Processing responses:  75%|███████▍  | 1594/2128 [08:38<05:46,  1.54it/s]"
     ]
    },
    {
     "name": "stdout",
     "output_type": "stream",
     "text": [
      "Answers saved to outputs_pipeline/article5_answers03_1.json\n"
     ]
    },
    {
     "name": "stderr",
     "output_type": "stream",
     "text": [
      "Processing responses:  75%|███████▍  | 1595/2128 [08:39<05:40,  1.57it/s]"
     ]
    },
    {
     "name": "stdout",
     "output_type": "stream",
     "text": [
      "Answers saved to outputs_pipeline/article5_answers03_1.json\n"
     ]
    },
    {
     "name": "stderr",
     "output_type": "stream",
     "text": [
      "Processing responses:  75%|███████▌  | 1596/2128 [08:40<05:35,  1.59it/s]"
     ]
    },
    {
     "name": "stdout",
     "output_type": "stream",
     "text": [
      "Answers saved to outputs_pipeline/article5_answers03_1.json\n"
     ]
    },
    {
     "name": "stderr",
     "output_type": "stream",
     "text": [
      "Processing responses:  75%|███████▌  | 1597/2128 [08:40<05:32,  1.60it/s]"
     ]
    },
    {
     "name": "stdout",
     "output_type": "stream",
     "text": [
      "Answers saved to outputs_pipeline/article5_answers03_1.json\n"
     ]
    },
    {
     "name": "stderr",
     "output_type": "stream",
     "text": [
      "Processing responses:  75%|███████▌  | 1598/2128 [08:41<05:29,  1.61it/s]"
     ]
    },
    {
     "name": "stdout",
     "output_type": "stream",
     "text": [
      "Answers saved to outputs_pipeline/article5_answers03_1.json\n"
     ]
    },
    {
     "name": "stderr",
     "output_type": "stream",
     "text": [
      "Processing responses:  75%|███████▌  | 1599/2128 [08:41<05:28,  1.61it/s]"
     ]
    },
    {
     "name": "stdout",
     "output_type": "stream",
     "text": [
      "Answers saved to outputs_pipeline/article5_answers03_1.json\n"
     ]
    },
    {
     "name": "stderr",
     "output_type": "stream",
     "text": [
      "Processing responses:  75%|███████▌  | 1600/2128 [08:42<05:54,  1.49it/s]"
     ]
    },
    {
     "name": "stdout",
     "output_type": "stream",
     "text": [
      "Answers saved to outputs_pipeline/article5_answers03_1.json\n"
     ]
    },
    {
     "name": "stderr",
     "output_type": "stream",
     "text": [
      "Processing responses:  75%|███████▌  | 1601/2128 [08:43<05:45,  1.53it/s]"
     ]
    },
    {
     "name": "stdout",
     "output_type": "stream",
     "text": [
      "Answers saved to outputs_pipeline/article5_answers03_1.json\n"
     ]
    },
    {
     "name": "stderr",
     "output_type": "stream",
     "text": [
      "Processing responses:  75%|███████▌  | 1602/2128 [08:43<05:53,  1.49it/s]"
     ]
    },
    {
     "name": "stdout",
     "output_type": "stream",
     "text": [
      "Answers saved to outputs_pipeline/article5_answers03_1.json\n"
     ]
    },
    {
     "name": "stderr",
     "output_type": "stream",
     "text": [
      "Processing responses:  75%|███████▌  | 1603/2128 [08:44<05:44,  1.53it/s]"
     ]
    },
    {
     "name": "stdout",
     "output_type": "stream",
     "text": [
      "Answers saved to outputs_pipeline/article5_answers03_1.json\n"
     ]
    },
    {
     "name": "stderr",
     "output_type": "stream",
     "text": [
      "Processing responses:  75%|███████▌  | 1604/2128 [08:45<05:48,  1.51it/s]"
     ]
    },
    {
     "name": "stdout",
     "output_type": "stream",
     "text": [
      "Answers saved to outputs_pipeline/article5_answers03_1.json\n"
     ]
    },
    {
     "name": "stderr",
     "output_type": "stream",
     "text": [
      "Processing responses:  75%|███████▌  | 1605/2128 [08:45<05:39,  1.54it/s]"
     ]
    },
    {
     "name": "stdout",
     "output_type": "stream",
     "text": [
      "Answers saved to outputs_pipeline/article5_answers03_1.json\n"
     ]
    },
    {
     "name": "stderr",
     "output_type": "stream",
     "text": [
      "Processing responses:  75%|███████▌  | 1606/2128 [08:46<05:57,  1.46it/s]"
     ]
    },
    {
     "name": "stdout",
     "output_type": "stream",
     "text": [
      "Answers saved to outputs_pipeline/article5_answers03_1.json\n"
     ]
    },
    {
     "name": "stderr",
     "output_type": "stream",
     "text": [
      "Processing responses:  76%|███████▌  | 1607/2128 [08:48<08:40,  1.00it/s]"
     ]
    },
    {
     "name": "stdout",
     "output_type": "stream",
     "text": [
      "Answers saved to outputs_pipeline/article5_answers03_1.json\n"
     ]
    },
    {
     "name": "stderr",
     "output_type": "stream",
     "text": [
      "Processing responses:  76%|███████▌  | 1608/2128 [08:49<07:44,  1.12it/s]"
     ]
    },
    {
     "name": "stdout",
     "output_type": "stream",
     "text": [
      "Answers saved to outputs_pipeline/article5_answers03_1.json\n"
     ]
    },
    {
     "name": "stderr",
     "output_type": "stream",
     "text": [
      "Processing responses:  76%|███████▌  | 1609/2128 [08:49<06:59,  1.24it/s]"
     ]
    },
    {
     "name": "stdout",
     "output_type": "stream",
     "text": [
      "Answers saved to outputs_pipeline/article5_answers03_1.json\n"
     ]
    },
    {
     "name": "stderr",
     "output_type": "stream",
     "text": [
      "Processing responses:  76%|███████▌  | 1610/2128 [08:50<06:30,  1.33it/s]"
     ]
    },
    {
     "name": "stdout",
     "output_type": "stream",
     "text": [
      "Answers saved to outputs_pipeline/article5_answers03_1.json\n"
     ]
    },
    {
     "name": "stderr",
     "output_type": "stream",
     "text": [
      "Processing responses:  76%|███████▌  | 1611/2128 [08:50<06:08,  1.40it/s]"
     ]
    },
    {
     "name": "stdout",
     "output_type": "stream",
     "text": [
      "Answers saved to outputs_pipeline/article5_answers03_1.json\n"
     ]
    },
    {
     "name": "stderr",
     "output_type": "stream",
     "text": [
      "Processing responses:  76%|███████▌  | 1612/2128 [08:51<05:57,  1.44it/s]"
     ]
    },
    {
     "name": "stdout",
     "output_type": "stream",
     "text": [
      "Answers saved to outputs_pipeline/article5_answers03_1.json\n"
     ]
    },
    {
     "name": "stderr",
     "output_type": "stream",
     "text": [
      "Processing responses:  76%|███████▌  | 1613/2128 [08:52<05:45,  1.49it/s]"
     ]
    },
    {
     "name": "stdout",
     "output_type": "stream",
     "text": [
      "Answers saved to outputs_pipeline/article5_answers03_1.json\n"
     ]
    },
    {
     "name": "stderr",
     "output_type": "stream",
     "text": [
      "Processing responses:  76%|███████▌  | 1614/2128 [08:52<05:37,  1.52it/s]"
     ]
    },
    {
     "name": "stdout",
     "output_type": "stream",
     "text": [
      "Answers saved to outputs_pipeline/article5_answers03_1.json\n"
     ]
    },
    {
     "name": "stderr",
     "output_type": "stream",
     "text": [
      "Processing responses:  76%|███████▌  | 1615/2128 [08:53<05:32,  1.54it/s]"
     ]
    },
    {
     "name": "stdout",
     "output_type": "stream",
     "text": [
      "Answers saved to outputs_pipeline/article5_answers03_1.json\n"
     ]
    },
    {
     "name": "stderr",
     "output_type": "stream",
     "text": [
      "Processing responses:  76%|███████▌  | 1616/2128 [08:54<05:28,  1.56it/s]"
     ]
    },
    {
     "name": "stdout",
     "output_type": "stream",
     "text": [
      "Answers saved to outputs_pipeline/article5_answers03_1.json\n"
     ]
    },
    {
     "name": "stderr",
     "output_type": "stream",
     "text": [
      "Processing responses:  76%|███████▌  | 1617/2128 [08:54<05:27,  1.56it/s]"
     ]
    },
    {
     "name": "stdout",
     "output_type": "stream",
     "text": [
      "Answers saved to outputs_pipeline/article5_answers03_1.json\n"
     ]
    },
    {
     "name": "stderr",
     "output_type": "stream",
     "text": [
      "Processing responses:  76%|███████▌  | 1618/2128 [08:55<05:24,  1.57it/s]"
     ]
    },
    {
     "name": "stdout",
     "output_type": "stream",
     "text": [
      "Answers saved to outputs_pipeline/article5_answers03_1.json\n"
     ]
    },
    {
     "name": "stderr",
     "output_type": "stream",
     "text": [
      "Processing responses:  76%|███████▌  | 1619/2128 [08:55<05:22,  1.58it/s]"
     ]
    },
    {
     "name": "stdout",
     "output_type": "stream",
     "text": [
      "Answers saved to outputs_pipeline/article5_answers03_1.json\n"
     ]
    },
    {
     "name": "stderr",
     "output_type": "stream",
     "text": [
      "Processing responses:  76%|███████▌  | 1620/2128 [08:56<05:44,  1.47it/s]"
     ]
    },
    {
     "name": "stdout",
     "output_type": "stream",
     "text": [
      "Answers saved to outputs_pipeline/article5_answers03_1.json\n"
     ]
    },
    {
     "name": "stderr",
     "output_type": "stream",
     "text": [
      "Processing responses:  76%|███████▌  | 1621/2128 [08:57<05:40,  1.49it/s]"
     ]
    },
    {
     "name": "stdout",
     "output_type": "stream",
     "text": [
      "Answers saved to outputs_pipeline/article5_answers03_1.json\n"
     ]
    },
    {
     "name": "stderr",
     "output_type": "stream",
     "text": [
      "Processing responses:  76%|███████▌  | 1622/2128 [08:58<05:32,  1.52it/s]"
     ]
    },
    {
     "name": "stdout",
     "output_type": "stream",
     "text": [
      "Answers saved to outputs_pipeline/article5_answers03_1.json\n"
     ]
    },
    {
     "name": "stderr",
     "output_type": "stream",
     "text": [
      "Processing responses:  76%|███████▋  | 1623/2128 [08:58<05:27,  1.54it/s]"
     ]
    },
    {
     "name": "stdout",
     "output_type": "stream",
     "text": [
      "Answers saved to outputs_pipeline/article5_answers03_1.json\n"
     ]
    },
    {
     "name": "stderr",
     "output_type": "stream",
     "text": [
      "Processing responses:  76%|███████▋  | 1624/2128 [08:59<05:22,  1.56it/s]"
     ]
    },
    {
     "name": "stdout",
     "output_type": "stream",
     "text": [
      "Answers saved to outputs_pipeline/article5_answers03_1.json\n"
     ]
    },
    {
     "name": "stderr",
     "output_type": "stream",
     "text": [
      "Processing responses:  76%|███████▋  | 1625/2128 [08:59<05:22,  1.56it/s]"
     ]
    },
    {
     "name": "stdout",
     "output_type": "stream",
     "text": [
      "Answers saved to outputs_pipeline/article5_answers03_1.json\n"
     ]
    },
    {
     "name": "stderr",
     "output_type": "stream",
     "text": [
      "Processing responses:  76%|███████▋  | 1626/2128 [09:00<05:21,  1.56it/s]"
     ]
    },
    {
     "name": "stdout",
     "output_type": "stream",
     "text": [
      "Answers saved to outputs_pipeline/article5_answers03_1.json\n"
     ]
    },
    {
     "name": "stderr",
     "output_type": "stream",
     "text": [
      "Processing responses:  76%|███████▋  | 1627/2128 [09:01<05:19,  1.57it/s]"
     ]
    },
    {
     "name": "stdout",
     "output_type": "stream",
     "text": [
      "Answers saved to outputs_pipeline/article5_answers03_1.json\n"
     ]
    },
    {
     "name": "stderr",
     "output_type": "stream",
     "text": [
      "Processing responses:  77%|███████▋  | 1628/2128 [09:01<05:16,  1.58it/s]"
     ]
    },
    {
     "name": "stdout",
     "output_type": "stream",
     "text": [
      "Answers saved to outputs_pipeline/article5_answers03_1.json\n"
     ]
    },
    {
     "name": "stderr",
     "output_type": "stream",
     "text": [
      "Processing responses:  77%|███████▋  | 1629/2128 [09:02<05:20,  1.56it/s]"
     ]
    },
    {
     "name": "stdout",
     "output_type": "stream",
     "text": [
      "Answers saved to outputs_pipeline/article5_answers03_1.json\n"
     ]
    },
    {
     "name": "stderr",
     "output_type": "stream",
     "text": [
      "Processing responses:  77%|███████▋  | 1630/2128 [09:03<05:23,  1.54it/s]"
     ]
    },
    {
     "name": "stdout",
     "output_type": "stream",
     "text": [
      "Answers saved to outputs_pipeline/article5_answers03_1.json\n"
     ]
    },
    {
     "name": "stderr",
     "output_type": "stream",
     "text": [
      "Processing responses:  77%|███████▋  | 1631/2128 [09:03<05:20,  1.55it/s]"
     ]
    },
    {
     "name": "stdout",
     "output_type": "stream",
     "text": [
      "Answers saved to outputs_pipeline/article5_answers03_1.json\n"
     ]
    },
    {
     "name": "stderr",
     "output_type": "stream",
     "text": [
      "Processing responses:  77%|███████▋  | 1632/2128 [09:04<05:19,  1.55it/s]"
     ]
    },
    {
     "name": "stdout",
     "output_type": "stream",
     "text": [
      "Answers saved to outputs_pipeline/article5_answers03_1.json\n"
     ]
    },
    {
     "name": "stderr",
     "output_type": "stream",
     "text": [
      "Processing responses:  77%|███████▋  | 1633/2128 [09:05<05:22,  1.53it/s]"
     ]
    },
    {
     "name": "stdout",
     "output_type": "stream",
     "text": [
      "Answers saved to outputs_pipeline/article5_answers03_1.json\n"
     ]
    },
    {
     "name": "stderr",
     "output_type": "stream",
     "text": [
      "Processing responses:  77%|███████▋  | 1634/2128 [09:05<05:57,  1.38it/s]"
     ]
    },
    {
     "name": "stdout",
     "output_type": "stream",
     "text": [
      "Answers saved to outputs_pipeline/article5_answers03_1.json\n"
     ]
    },
    {
     "name": "stderr",
     "output_type": "stream",
     "text": [
      "Processing responses:  77%|███████▋  | 1635/2128 [09:06<05:44,  1.43it/s]"
     ]
    },
    {
     "name": "stdout",
     "output_type": "stream",
     "text": [
      "Answers saved to outputs_pipeline/article5_answers03_1.json\n"
     ]
    },
    {
     "name": "stderr",
     "output_type": "stream",
     "text": [
      "Processing responses:  77%|███████▋  | 1636/2128 [09:07<05:35,  1.47it/s]"
     ]
    },
    {
     "name": "stdout",
     "output_type": "stream",
     "text": [
      "Answers saved to outputs_pipeline/article5_answers03_1.json\n"
     ]
    },
    {
     "name": "stderr",
     "output_type": "stream",
     "text": [
      "Processing responses:  77%|███████▋  | 1637/2128 [09:07<05:26,  1.50it/s]"
     ]
    },
    {
     "name": "stdout",
     "output_type": "stream",
     "text": [
      "Answers saved to outputs_pipeline/article5_answers03_1.json\n"
     ]
    },
    {
     "name": "stderr",
     "output_type": "stream",
     "text": [
      "Processing responses:  77%|███████▋  | 1638/2128 [09:08<05:21,  1.53it/s]"
     ]
    },
    {
     "name": "stdout",
     "output_type": "stream",
     "text": [
      "Answers saved to outputs_pipeline/article5_answers03_1.json\n"
     ]
    },
    {
     "name": "stderr",
     "output_type": "stream",
     "text": [
      "Processing responses:  77%|███████▋  | 1639/2128 [09:09<05:17,  1.54it/s]"
     ]
    },
    {
     "name": "stdout",
     "output_type": "stream",
     "text": [
      "Answers saved to outputs_pipeline/article5_answers03_1.json\n"
     ]
    },
    {
     "name": "stderr",
     "output_type": "stream",
     "text": [
      "Processing responses:  77%|███████▋  | 1640/2128 [09:09<05:17,  1.54it/s]"
     ]
    },
    {
     "name": "stdout",
     "output_type": "stream",
     "text": [
      "Answers saved to outputs_pipeline/article5_answers03_1.json\n"
     ]
    },
    {
     "name": "stderr",
     "output_type": "stream",
     "text": [
      "Processing responses:  77%|███████▋  | 1641/2128 [09:10<05:14,  1.55it/s]"
     ]
    },
    {
     "name": "stdout",
     "output_type": "stream",
     "text": [
      "Answers saved to outputs_pipeline/article5_answers03_1.json\n"
     ]
    },
    {
     "name": "stderr",
     "output_type": "stream",
     "text": [
      "Processing responses:  77%|███████▋  | 1642/2128 [09:11<05:11,  1.56it/s]"
     ]
    },
    {
     "name": "stdout",
     "output_type": "stream",
     "text": [
      "Answers saved to outputs_pipeline/article5_answers03_1.json\n"
     ]
    },
    {
     "name": "stderr",
     "output_type": "stream",
     "text": [
      "Processing responses:  77%|███████▋  | 1643/2128 [09:11<05:11,  1.56it/s]"
     ]
    },
    {
     "name": "stdout",
     "output_type": "stream",
     "text": [
      "Answers saved to outputs_pipeline/article5_answers03_1.json\n"
     ]
    },
    {
     "name": "stderr",
     "output_type": "stream",
     "text": [
      "Processing responses:  77%|███████▋  | 1644/2128 [09:12<05:13,  1.55it/s]"
     ]
    },
    {
     "name": "stdout",
     "output_type": "stream",
     "text": [
      "Answers saved to outputs_pipeline/article5_answers03_1.json\n"
     ]
    },
    {
     "name": "stderr",
     "output_type": "stream",
     "text": [
      "Processing responses:  77%|███████▋  | 1645/2128 [09:12<05:12,  1.55it/s]"
     ]
    },
    {
     "name": "stdout",
     "output_type": "stream",
     "text": [
      "Answers saved to outputs_pipeline/article5_answers03_1.json\n"
     ]
    },
    {
     "name": "stderr",
     "output_type": "stream",
     "text": [
      "Processing responses:  77%|███████▋  | 1646/2128 [09:13<05:10,  1.55it/s]"
     ]
    },
    {
     "name": "stdout",
     "output_type": "stream",
     "text": [
      "Answers saved to outputs_pipeline/article5_answers03_1.json\n"
     ]
    },
    {
     "name": "stderr",
     "output_type": "stream",
     "text": [
      "Processing responses:  77%|███████▋  | 1647/2128 [09:14<05:32,  1.45it/s]"
     ]
    },
    {
     "name": "stdout",
     "output_type": "stream",
     "text": [
      "Answers saved to outputs_pipeline/article5_answers03_1.json\n"
     ]
    },
    {
     "name": "stderr",
     "output_type": "stream",
     "text": [
      "Processing responses:  77%|███████▋  | 1648/2128 [09:15<05:29,  1.46it/s]"
     ]
    },
    {
     "name": "stdout",
     "output_type": "stream",
     "text": [
      "Answers saved to outputs_pipeline/article5_answers03_1.json\n"
     ]
    },
    {
     "name": "stderr",
     "output_type": "stream",
     "text": [
      "Processing responses:  77%|███████▋  | 1649/2128 [09:15<05:22,  1.49it/s]"
     ]
    },
    {
     "name": "stdout",
     "output_type": "stream",
     "text": [
      "Answers saved to outputs_pipeline/article5_answers03_1.json\n"
     ]
    },
    {
     "name": "stderr",
     "output_type": "stream",
     "text": [
      "Processing responses:  78%|███████▊  | 1650/2128 [09:16<05:17,  1.51it/s]"
     ]
    },
    {
     "name": "stdout",
     "output_type": "stream",
     "text": [
      "Answers saved to outputs_pipeline/article5_answers03_1.json\n"
     ]
    },
    {
     "name": "stderr",
     "output_type": "stream",
     "text": [
      "Processing responses:  78%|███████▊  | 1651/2128 [09:17<05:16,  1.51it/s]"
     ]
    },
    {
     "name": "stdout",
     "output_type": "stream",
     "text": [
      "Answers saved to outputs_pipeline/article5_answers03_1.json\n"
     ]
    },
    {
     "name": "stderr",
     "output_type": "stream",
     "text": [
      "Processing responses:  78%|███████▊  | 1652/2128 [09:17<05:11,  1.53it/s]"
     ]
    },
    {
     "name": "stdout",
     "output_type": "stream",
     "text": [
      "Answers saved to outputs_pipeline/article5_answers03_1.json\n"
     ]
    },
    {
     "name": "stderr",
     "output_type": "stream",
     "text": [
      "Processing responses:  78%|███████▊  | 1653/2128 [09:18<05:08,  1.54it/s]"
     ]
    },
    {
     "name": "stdout",
     "output_type": "stream",
     "text": [
      "Answers saved to outputs_pipeline/article5_answers03_1.json\n"
     ]
    },
    {
     "name": "stderr",
     "output_type": "stream",
     "text": [
      "Processing responses:  78%|███████▊  | 1654/2128 [09:18<05:07,  1.54it/s]"
     ]
    },
    {
     "name": "stdout",
     "output_type": "stream",
     "text": [
      "Answers saved to outputs_pipeline/article5_answers03_1.json\n"
     ]
    },
    {
     "name": "stderr",
     "output_type": "stream",
     "text": [
      "Processing responses:  78%|███████▊  | 1655/2128 [09:19<05:11,  1.52it/s]"
     ]
    },
    {
     "name": "stdout",
     "output_type": "stream",
     "text": [
      "Answers saved to outputs_pipeline/article5_answers03_1.json\n"
     ]
    },
    {
     "name": "stderr",
     "output_type": "stream",
     "text": [
      "Processing responses:  78%|███████▊  | 1656/2128 [09:20<05:07,  1.53it/s]"
     ]
    },
    {
     "name": "stdout",
     "output_type": "stream",
     "text": [
      "Answers saved to outputs_pipeline/article5_answers03_1.json\n"
     ]
    },
    {
     "name": "stderr",
     "output_type": "stream",
     "text": [
      "Processing responses:  78%|███████▊  | 1657/2128 [09:20<05:06,  1.54it/s]"
     ]
    },
    {
     "name": "stdout",
     "output_type": "stream",
     "text": [
      "Answers saved to outputs_pipeline/article5_answers03_1.json\n"
     ]
    },
    {
     "name": "stderr",
     "output_type": "stream",
     "text": [
      "Processing responses:  78%|███████▊  | 1658/2128 [09:21<05:07,  1.53it/s]"
     ]
    },
    {
     "name": "stdout",
     "output_type": "stream",
     "text": [
      "Answers saved to outputs_pipeline/article5_answers03_1.json\n"
     ]
    },
    {
     "name": "stderr",
     "output_type": "stream",
     "text": [
      "Processing responses:  78%|███████▊  | 1659/2128 [09:22<05:04,  1.54it/s]"
     ]
    },
    {
     "name": "stdout",
     "output_type": "stream",
     "text": [
      "Answers saved to outputs_pipeline/article5_answers03_1.json\n"
     ]
    },
    {
     "name": "stderr",
     "output_type": "stream",
     "text": [
      "Processing responses:  78%|███████▊  | 1660/2128 [09:22<05:03,  1.54it/s]"
     ]
    },
    {
     "name": "stdout",
     "output_type": "stream",
     "text": [
      "Answers saved to outputs_pipeline/article5_answers03_1.json\n"
     ]
    },
    {
     "name": "stderr",
     "output_type": "stream",
     "text": [
      "Processing responses:  78%|███████▊  | 1661/2128 [09:23<05:04,  1.53it/s]"
     ]
    },
    {
     "name": "stdout",
     "output_type": "stream",
     "text": [
      "Answers saved to outputs_pipeline/article5_answers03_1.json\n"
     ]
    },
    {
     "name": "stderr",
     "output_type": "stream",
     "text": [
      "Processing responses:  78%|███████▊  | 1662/2128 [09:24<05:08,  1.51it/s]"
     ]
    },
    {
     "name": "stdout",
     "output_type": "stream",
     "text": [
      "Answers saved to outputs_pipeline/article5_answers03_1.json\n"
     ]
    },
    {
     "name": "stderr",
     "output_type": "stream",
     "text": [
      "Processing responses:  78%|███████▊  | 1663/2128 [09:24<05:06,  1.52it/s]"
     ]
    },
    {
     "name": "stdout",
     "output_type": "stream",
     "text": [
      "Answers saved to outputs_pipeline/article5_answers03_1.json\n"
     ]
    },
    {
     "name": "stderr",
     "output_type": "stream",
     "text": [
      "Processing responses:  78%|███████▊  | 1664/2128 [09:25<05:07,  1.51it/s]"
     ]
    },
    {
     "name": "stdout",
     "output_type": "stream",
     "text": [
      "Answers saved to outputs_pipeline/article5_answers03_1.json\n"
     ]
    },
    {
     "name": "stderr",
     "output_type": "stream",
     "text": [
      "Processing responses:  78%|███████▊  | 1665/2128 [09:26<05:06,  1.51it/s]"
     ]
    },
    {
     "name": "stdout",
     "output_type": "stream",
     "text": [
      "Answers saved to outputs_pipeline/article5_answers03_1.json\n"
     ]
    },
    {
     "name": "stderr",
     "output_type": "stream",
     "text": [
      "Processing responses:  78%|███████▊  | 1666/2128 [09:26<05:04,  1.52it/s]"
     ]
    },
    {
     "name": "stdout",
     "output_type": "stream",
     "text": [
      "Answers saved to outputs_pipeline/article5_answers03_1.json\n"
     ]
    },
    {
     "name": "stderr",
     "output_type": "stream",
     "text": [
      "Processing responses:  78%|███████▊  | 1667/2128 [09:27<05:04,  1.51it/s]"
     ]
    },
    {
     "name": "stdout",
     "output_type": "stream",
     "text": [
      "Answers saved to outputs_pipeline/article5_answers03_1.json\n"
     ]
    },
    {
     "name": "stderr",
     "output_type": "stream",
     "text": [
      "Processing responses:  78%|███████▊  | 1668/2128 [09:28<05:02,  1.52it/s]"
     ]
    },
    {
     "name": "stdout",
     "output_type": "stream",
     "text": [
      "Answers saved to outputs_pipeline/article5_answers03_1.json\n"
     ]
    },
    {
     "name": "stderr",
     "output_type": "stream",
     "text": [
      "Processing responses:  78%|███████▊  | 1669/2128 [09:28<05:11,  1.47it/s]"
     ]
    },
    {
     "name": "stdout",
     "output_type": "stream",
     "text": [
      "Answers saved to outputs_pipeline/article5_answers03_1.json\n"
     ]
    },
    {
     "name": "stderr",
     "output_type": "stream",
     "text": [
      "Processing responses:  78%|███████▊  | 1670/2128 [09:29<05:34,  1.37it/s]"
     ]
    },
    {
     "name": "stdout",
     "output_type": "stream",
     "text": [
      "Answers saved to outputs_pipeline/article5_answers03_1.json\n"
     ]
    },
    {
     "name": "stderr",
     "output_type": "stream",
     "text": [
      "Processing responses:  79%|███████▊  | 1671/2128 [09:30<05:30,  1.38it/s]"
     ]
    },
    {
     "name": "stdout",
     "output_type": "stream",
     "text": [
      "Answers saved to outputs_pipeline/article5_answers03_1.json\n"
     ]
    },
    {
     "name": "stderr",
     "output_type": "stream",
     "text": [
      "Processing responses:  79%|███████▊  | 1672/2128 [09:31<05:21,  1.42it/s]"
     ]
    },
    {
     "name": "stdout",
     "output_type": "stream",
     "text": [
      "Answers saved to outputs_pipeline/article5_answers03_1.json\n"
     ]
    },
    {
     "name": "stderr",
     "output_type": "stream",
     "text": [
      "Processing responses:  79%|███████▊  | 1673/2128 [09:31<05:12,  1.46it/s]"
     ]
    },
    {
     "name": "stdout",
     "output_type": "stream",
     "text": [
      "Answers saved to outputs_pipeline/article5_answers03_1.json\n"
     ]
    },
    {
     "name": "stderr",
     "output_type": "stream",
     "text": [
      "Processing responses:  79%|███████▊  | 1674/2128 [09:32<05:29,  1.38it/s]"
     ]
    },
    {
     "name": "stdout",
     "output_type": "stream",
     "text": [
      "Answers saved to outputs_pipeline/article5_answers03_1.json\n"
     ]
    },
    {
     "name": "stderr",
     "output_type": "stream",
     "text": [
      "Processing responses:  79%|███████▊  | 1675/2128 [09:33<05:18,  1.42it/s]"
     ]
    },
    {
     "name": "stdout",
     "output_type": "stream",
     "text": [
      "Answers saved to outputs_pipeline/article5_answers03_1.json\n"
     ]
    },
    {
     "name": "stderr",
     "output_type": "stream",
     "text": [
      "Processing responses:  79%|███████▉  | 1676/2128 [09:33<05:15,  1.43it/s]"
     ]
    },
    {
     "name": "stdout",
     "output_type": "stream",
     "text": [
      "Answers saved to outputs_pipeline/article5_answers03_1.json\n"
     ]
    },
    {
     "name": "stderr",
     "output_type": "stream",
     "text": [
      "Processing responses:  79%|███████▉  | 1677/2128 [09:34<05:08,  1.46it/s]"
     ]
    },
    {
     "name": "stdout",
     "output_type": "stream",
     "text": [
      "Answers saved to outputs_pipeline/article5_answers03_1.json\n"
     ]
    },
    {
     "name": "stderr",
     "output_type": "stream",
     "text": [
      "Processing responses:  79%|███████▉  | 1678/2128 [09:35<05:06,  1.47it/s]"
     ]
    },
    {
     "name": "stdout",
     "output_type": "stream",
     "text": [
      "Answers saved to outputs_pipeline/article5_answers03_1.json\n"
     ]
    },
    {
     "name": "stderr",
     "output_type": "stream",
     "text": [
      "Processing responses:  79%|███████▉  | 1679/2128 [09:35<05:03,  1.48it/s]"
     ]
    },
    {
     "name": "stdout",
     "output_type": "stream",
     "text": [
      "Answers saved to outputs_pipeline/article5_answers03_1.json\n"
     ]
    },
    {
     "name": "stderr",
     "output_type": "stream",
     "text": [
      "Processing responses:  79%|███████▉  | 1680/2128 [09:36<05:02,  1.48it/s]"
     ]
    },
    {
     "name": "stdout",
     "output_type": "stream",
     "text": [
      "Answers saved to outputs_pipeline/article5_answers03_1.json\n"
     ]
    },
    {
     "name": "stderr",
     "output_type": "stream",
     "text": [
      "Processing responses:  79%|███████▉  | 1681/2128 [09:37<04:57,  1.50it/s]"
     ]
    },
    {
     "name": "stdout",
     "output_type": "stream",
     "text": [
      "Answers saved to outputs_pipeline/article5_answers03_1.json\n"
     ]
    },
    {
     "name": "stderr",
     "output_type": "stream",
     "text": [
      "Processing responses:  79%|███████▉  | 1682/2128 [09:37<04:55,  1.51it/s]"
     ]
    },
    {
     "name": "stdout",
     "output_type": "stream",
     "text": [
      "Answers saved to outputs_pipeline/article5_answers03_1.json\n"
     ]
    },
    {
     "name": "stderr",
     "output_type": "stream",
     "text": [
      "Processing responses:  79%|███████▉  | 1683/2128 [09:38<04:58,  1.49it/s]"
     ]
    },
    {
     "name": "stdout",
     "output_type": "stream",
     "text": [
      "Answers saved to outputs_pipeline/article5_answers03_1.json\n"
     ]
    },
    {
     "name": "stderr",
     "output_type": "stream",
     "text": [
      "Processing responses:  79%|███████▉  | 1684/2128 [09:39<04:55,  1.50it/s]"
     ]
    },
    {
     "name": "stdout",
     "output_type": "stream",
     "text": [
      "Answers saved to outputs_pipeline/article5_answers03_1.json\n"
     ]
    },
    {
     "name": "stderr",
     "output_type": "stream",
     "text": [
      "Processing responses:  79%|███████▉  | 1685/2128 [09:39<04:55,  1.50it/s]"
     ]
    },
    {
     "name": "stdout",
     "output_type": "stream",
     "text": [
      "Answers saved to outputs_pipeline/article5_answers03_1.json\n"
     ]
    },
    {
     "name": "stderr",
     "output_type": "stream",
     "text": [
      "Processing responses:  79%|███████▉  | 1686/2128 [09:40<04:56,  1.49it/s]"
     ]
    },
    {
     "name": "stdout",
     "output_type": "stream",
     "text": [
      "Answers saved to outputs_pipeline/article5_answers03_1.json\n"
     ]
    },
    {
     "name": "stderr",
     "output_type": "stream",
     "text": [
      "Processing responses:  79%|███████▉  | 1687/2128 [09:41<04:54,  1.50it/s]"
     ]
    },
    {
     "name": "stdout",
     "output_type": "stream",
     "text": [
      "Answers saved to outputs_pipeline/article5_answers03_1.json\n"
     ]
    },
    {
     "name": "stderr",
     "output_type": "stream",
     "text": [
      "Processing responses:  79%|███████▉  | 1688/2128 [09:41<04:54,  1.50it/s]"
     ]
    },
    {
     "name": "stdout",
     "output_type": "stream",
     "text": [
      "Answers saved to outputs_pipeline/article5_answers03_1.json\n"
     ]
    },
    {
     "name": "stderr",
     "output_type": "stream",
     "text": [
      "Processing responses:  79%|███████▉  | 1689/2128 [09:42<04:51,  1.51it/s]"
     ]
    },
    {
     "name": "stdout",
     "output_type": "stream",
     "text": [
      "Answers saved to outputs_pipeline/article5_answers03_1.json\n"
     ]
    },
    {
     "name": "stderr",
     "output_type": "stream",
     "text": [
      "Processing responses:  79%|███████▉  | 1690/2128 [09:43<04:53,  1.49it/s]"
     ]
    },
    {
     "name": "stdout",
     "output_type": "stream",
     "text": [
      "Answers saved to outputs_pipeline/article5_answers03_1.json\n"
     ]
    },
    {
     "name": "stderr",
     "output_type": "stream",
     "text": [
      "Processing responses:  79%|███████▉  | 1691/2128 [09:43<05:00,  1.46it/s]"
     ]
    },
    {
     "name": "stdout",
     "output_type": "stream",
     "text": [
      "Answers saved to outputs_pipeline/article5_answers03_1.json\n"
     ]
    },
    {
     "name": "stderr",
     "output_type": "stream",
     "text": [
      "Processing responses:  80%|███████▉  | 1692/2128 [09:44<05:11,  1.40it/s]"
     ]
    },
    {
     "name": "stdout",
     "output_type": "stream",
     "text": [
      "Answers saved to outputs_pipeline/article5_answers03_1.json\n"
     ]
    },
    {
     "name": "stderr",
     "output_type": "stream",
     "text": [
      "Processing responses:  80%|███████▉  | 1693/2128 [09:45<05:06,  1.42it/s]"
     ]
    },
    {
     "name": "stdout",
     "output_type": "stream",
     "text": [
      "Answers saved to outputs_pipeline/article5_answers03_1.json\n"
     ]
    },
    {
     "name": "stderr",
     "output_type": "stream",
     "text": [
      "Processing responses:  80%|███████▉  | 1694/2128 [09:46<05:00,  1.44it/s]"
     ]
    },
    {
     "name": "stdout",
     "output_type": "stream",
     "text": [
      "Answers saved to outputs_pipeline/article5_answers03_1.json\n"
     ]
    },
    {
     "name": "stderr",
     "output_type": "stream",
     "text": [
      "Processing responses:  80%|███████▉  | 1695/2128 [09:46<04:57,  1.46it/s]"
     ]
    },
    {
     "name": "stdout",
     "output_type": "stream",
     "text": [
      "Answers saved to outputs_pipeline/article5_answers03_1.json\n"
     ]
    },
    {
     "name": "stderr",
     "output_type": "stream",
     "text": [
      "Processing responses:  80%|███████▉  | 1696/2128 [09:47<04:55,  1.46it/s]"
     ]
    },
    {
     "name": "stdout",
     "output_type": "stream",
     "text": [
      "Answers saved to outputs_pipeline/article5_answers03_1.json\n"
     ]
    },
    {
     "name": "stderr",
     "output_type": "stream",
     "text": [
      "Processing responses:  80%|███████▉  | 1697/2128 [09:48<04:55,  1.46it/s]"
     ]
    },
    {
     "name": "stdout",
     "output_type": "stream",
     "text": [
      "Answers saved to outputs_pipeline/article5_answers03_1.json\n"
     ]
    },
    {
     "name": "stderr",
     "output_type": "stream",
     "text": [
      "Processing responses:  80%|███████▉  | 1698/2128 [09:48<04:53,  1.47it/s]"
     ]
    },
    {
     "name": "stdout",
     "output_type": "stream",
     "text": [
      "Answers saved to outputs_pipeline/article5_answers03_1.json\n"
     ]
    },
    {
     "name": "stderr",
     "output_type": "stream",
     "text": [
      "Processing responses:  80%|███████▉  | 1699/2128 [09:49<04:53,  1.46it/s]"
     ]
    },
    {
     "name": "stdout",
     "output_type": "stream",
     "text": [
      "Answers saved to outputs_pipeline/article5_answers03_1.json\n"
     ]
    },
    {
     "name": "stderr",
     "output_type": "stream",
     "text": [
      "Processing responses:  80%|███████▉  | 1700/2128 [09:50<05:14,  1.36it/s]"
     ]
    },
    {
     "name": "stdout",
     "output_type": "stream",
     "text": [
      "Answers saved to outputs_pipeline/article5_answers03_1.json\n"
     ]
    },
    {
     "name": "stderr",
     "output_type": "stream",
     "text": [
      "Processing responses:  80%|███████▉  | 1701/2128 [09:51<05:08,  1.39it/s]"
     ]
    },
    {
     "name": "stdout",
     "output_type": "stream",
     "text": [
      "Answers saved to outputs_pipeline/article5_answers03_1.json\n"
     ]
    },
    {
     "name": "stderr",
     "output_type": "stream",
     "text": [
      "Processing responses:  80%|███████▉  | 1702/2128 [09:51<05:01,  1.41it/s]"
     ]
    },
    {
     "name": "stdout",
     "output_type": "stream",
     "text": [
      "Answers saved to outputs_pipeline/article5_answers03_1.json\n"
     ]
    },
    {
     "name": "stderr",
     "output_type": "stream",
     "text": [
      "Processing responses:  80%|████████  | 1703/2128 [09:52<04:56,  1.43it/s]"
     ]
    },
    {
     "name": "stdout",
     "output_type": "stream",
     "text": [
      "Answers saved to outputs_pipeline/article5_answers03_1.json\n"
     ]
    },
    {
     "name": "stderr",
     "output_type": "stream",
     "text": [
      "Processing responses:  80%|████████  | 1704/2128 [09:53<04:55,  1.44it/s]"
     ]
    },
    {
     "name": "stdout",
     "output_type": "stream",
     "text": [
      "Answers saved to outputs_pipeline/article5_answers03_1.json\n"
     ]
    },
    {
     "name": "stderr",
     "output_type": "stream",
     "text": [
      "Processing responses:  80%|████████  | 1705/2128 [09:53<04:50,  1.45it/s]"
     ]
    },
    {
     "name": "stdout",
     "output_type": "stream",
     "text": [
      "Answers saved to outputs_pipeline/article5_answers03_1.json\n"
     ]
    },
    {
     "name": "stderr",
     "output_type": "stream",
     "text": [
      "Processing responses:  80%|████████  | 1706/2128 [09:54<04:50,  1.46it/s]"
     ]
    },
    {
     "name": "stdout",
     "output_type": "stream",
     "text": [
      "Answers saved to outputs_pipeline/article5_answers03_1.json\n"
     ]
    },
    {
     "name": "stderr",
     "output_type": "stream",
     "text": [
      "Processing responses:  80%|████████  | 1707/2128 [09:55<04:48,  1.46it/s]"
     ]
    },
    {
     "name": "stdout",
     "output_type": "stream",
     "text": [
      "Answers saved to outputs_pipeline/article5_answers03_1.json\n"
     ]
    },
    {
     "name": "stderr",
     "output_type": "stream",
     "text": [
      "Processing responses:  80%|████████  | 1708/2128 [09:55<04:51,  1.44it/s]"
     ]
    },
    {
     "name": "stdout",
     "output_type": "stream",
     "text": [
      "Answers saved to outputs_pipeline/article5_answers03_1.json\n"
     ]
    },
    {
     "name": "stderr",
     "output_type": "stream",
     "text": [
      "Processing responses:  80%|████████  | 1709/2128 [09:56<04:48,  1.45it/s]"
     ]
    },
    {
     "name": "stdout",
     "output_type": "stream",
     "text": [
      "Answers saved to outputs_pipeline/article5_answers03_1.json\n"
     ]
    },
    {
     "name": "stderr",
     "output_type": "stream",
     "text": [
      "Processing responses:  80%|████████  | 1710/2128 [09:57<04:47,  1.45it/s]"
     ]
    },
    {
     "name": "stdout",
     "output_type": "stream",
     "text": [
      "Answers saved to outputs_pipeline/article5_answers03_1.json\n"
     ]
    },
    {
     "name": "stderr",
     "output_type": "stream",
     "text": [
      "Processing responses:  80%|████████  | 1711/2128 [09:57<04:46,  1.45it/s]"
     ]
    },
    {
     "name": "stdout",
     "output_type": "stream",
     "text": [
      "Answers saved to outputs_pipeline/article5_answers03_1.json\n"
     ]
    },
    {
     "name": "stderr",
     "output_type": "stream",
     "text": [
      "Processing responses:  80%|████████  | 1712/2128 [09:58<04:47,  1.45it/s]"
     ]
    },
    {
     "name": "stdout",
     "output_type": "stream",
     "text": [
      "Answers saved to outputs_pipeline/article5_answers03_1.json\n"
     ]
    },
    {
     "name": "stderr",
     "output_type": "stream",
     "text": [
      "Processing responses:  80%|████████  | 1713/2128 [09:59<04:46,  1.45it/s]"
     ]
    },
    {
     "name": "stdout",
     "output_type": "stream",
     "text": [
      "Answers saved to outputs_pipeline/article5_answers03_1.json\n"
     ]
    },
    {
     "name": "stderr",
     "output_type": "stream",
     "text": [
      "Processing responses:  81%|████████  | 1714/2128 [09:59<04:44,  1.45it/s]"
     ]
    },
    {
     "name": "stdout",
     "output_type": "stream",
     "text": [
      "Answers saved to outputs_pipeline/article5_answers03_1.json\n"
     ]
    },
    {
     "name": "stderr",
     "output_type": "stream",
     "text": [
      "Processing responses:  81%|████████  | 1715/2128 [10:00<04:47,  1.44it/s]"
     ]
    },
    {
     "name": "stdout",
     "output_type": "stream",
     "text": [
      "Answers saved to outputs_pipeline/article5_answers03_1.json\n"
     ]
    },
    {
     "name": "stderr",
     "output_type": "stream",
     "text": [
      "Processing responses:  81%|████████  | 1716/2128 [10:01<04:47,  1.43it/s]"
     ]
    },
    {
     "name": "stdout",
     "output_type": "stream",
     "text": [
      "Answers saved to outputs_pipeline/article5_answers03_1.json\n"
     ]
    },
    {
     "name": "stderr",
     "output_type": "stream",
     "text": [
      "Processing responses:  81%|████████  | 1717/2128 [10:02<04:44,  1.45it/s]"
     ]
    },
    {
     "name": "stdout",
     "output_type": "stream",
     "text": [
      "Answers saved to outputs_pipeline/article5_answers03_1.json\n"
     ]
    },
    {
     "name": "stderr",
     "output_type": "stream",
     "text": [
      "Processing responses:  81%|████████  | 1718/2128 [10:02<04:48,  1.42it/s]"
     ]
    },
    {
     "name": "stdout",
     "output_type": "stream",
     "text": [
      "Answers saved to outputs_pipeline/article5_answers03_1.json\n"
     ]
    },
    {
     "name": "stderr",
     "output_type": "stream",
     "text": [
      "Processing responses:  81%|████████  | 1719/2128 [10:03<04:43,  1.44it/s]"
     ]
    },
    {
     "name": "stdout",
     "output_type": "stream",
     "text": [
      "Answers saved to outputs_pipeline/article5_answers03_1.json\n"
     ]
    },
    {
     "name": "stderr",
     "output_type": "stream",
     "text": [
      "Processing responses:  81%|████████  | 1720/2128 [10:04<04:41,  1.45it/s]"
     ]
    },
    {
     "name": "stdout",
     "output_type": "stream",
     "text": [
      "Answers saved to outputs_pipeline/article5_answers03_1.json\n"
     ]
    },
    {
     "name": "stderr",
     "output_type": "stream",
     "text": [
      "Processing responses:  81%|████████  | 1721/2128 [10:04<04:42,  1.44it/s]"
     ]
    },
    {
     "name": "stdout",
     "output_type": "stream",
     "text": [
      "Answers saved to outputs_pipeline/article5_answers03_1.json\n"
     ]
    },
    {
     "name": "stderr",
     "output_type": "stream",
     "text": [
      "Processing responses:  81%|████████  | 1722/2128 [10:05<04:40,  1.45it/s]"
     ]
    },
    {
     "name": "stdout",
     "output_type": "stream",
     "text": [
      "Answers saved to outputs_pipeline/article5_answers03_1.json\n"
     ]
    },
    {
     "name": "stderr",
     "output_type": "stream",
     "text": [
      "Processing responses:  81%|████████  | 1723/2128 [10:06<04:40,  1.45it/s]"
     ]
    },
    {
     "name": "stdout",
     "output_type": "stream",
     "text": [
      "Answers saved to outputs_pipeline/article5_answers03_1.json\n"
     ]
    },
    {
     "name": "stderr",
     "output_type": "stream",
     "text": [
      "Processing responses:  81%|████████  | 1724/2128 [10:06<04:41,  1.44it/s]"
     ]
    },
    {
     "name": "stdout",
     "output_type": "stream",
     "text": [
      "Answers saved to outputs_pipeline/article5_answers03_1.json\n"
     ]
    },
    {
     "name": "stderr",
     "output_type": "stream",
     "text": [
      "Processing responses:  81%|████████  | 1725/2128 [10:07<04:42,  1.43it/s]"
     ]
    },
    {
     "name": "stdout",
     "output_type": "stream",
     "text": [
      "Answers saved to outputs_pipeline/article5_answers03_1.json\n"
     ]
    },
    {
     "name": "stderr",
     "output_type": "stream",
     "text": [
      "Processing responses:  81%|████████  | 1726/2128 [10:08<05:01,  1.33it/s]"
     ]
    },
    {
     "name": "stdout",
     "output_type": "stream",
     "text": [
      "Answers saved to outputs_pipeline/article5_answers03_1.json\n"
     ]
    },
    {
     "name": "stderr",
     "output_type": "stream",
     "text": [
      "Processing responses:  81%|████████  | 1727/2128 [10:09<04:52,  1.37it/s]"
     ]
    },
    {
     "name": "stdout",
     "output_type": "stream",
     "text": [
      "Answers saved to outputs_pipeline/article5_answers03_1.json\n"
     ]
    },
    {
     "name": "stderr",
     "output_type": "stream",
     "text": [
      "Processing responses:  81%|████████  | 1728/2128 [10:09<04:46,  1.40it/s]"
     ]
    },
    {
     "name": "stdout",
     "output_type": "stream",
     "text": [
      "Answers saved to outputs_pipeline/article5_answers03_1.json\n"
     ]
    },
    {
     "name": "stderr",
     "output_type": "stream",
     "text": [
      "Processing responses:  81%|████████▏ | 1729/2128 [10:10<04:41,  1.42it/s]"
     ]
    },
    {
     "name": "stdout",
     "output_type": "stream",
     "text": [
      "Answers saved to outputs_pipeline/article5_answers03_1.json\n"
     ]
    },
    {
     "name": "stderr",
     "output_type": "stream",
     "text": [
      "Processing responses:  81%|████████▏ | 1730/2128 [10:11<04:39,  1.43it/s]"
     ]
    },
    {
     "name": "stdout",
     "output_type": "stream",
     "text": [
      "Answers saved to outputs_pipeline/article5_answers03_1.json\n"
     ]
    },
    {
     "name": "stderr",
     "output_type": "stream",
     "text": [
      "Processing responses:  81%|████████▏ | 1731/2128 [10:11<04:38,  1.43it/s]"
     ]
    },
    {
     "name": "stdout",
     "output_type": "stream",
     "text": [
      "Answers saved to outputs_pipeline/article5_answers03_1.json\n"
     ]
    },
    {
     "name": "stderr",
     "output_type": "stream",
     "text": [
      "Processing responses:  81%|████████▏ | 1732/2128 [10:12<04:39,  1.42it/s]"
     ]
    },
    {
     "name": "stdout",
     "output_type": "stream",
     "text": [
      "Answers saved to outputs_pipeline/article5_answers03_1.json\n"
     ]
    },
    {
     "name": "stderr",
     "output_type": "stream",
     "text": [
      "Processing responses:  81%|████████▏ | 1733/2128 [10:13<04:41,  1.40it/s]"
     ]
    },
    {
     "name": "stdout",
     "output_type": "stream",
     "text": [
      "Answers saved to outputs_pipeline/article5_answers03_1.json\n"
     ]
    },
    {
     "name": "stderr",
     "output_type": "stream",
     "text": [
      "Processing responses:  81%|████████▏ | 1734/2128 [10:14<04:38,  1.42it/s]"
     ]
    },
    {
     "name": "stdout",
     "output_type": "stream",
     "text": [
      "Answers saved to outputs_pipeline/article5_answers03_1.json\n"
     ]
    },
    {
     "name": "stderr",
     "output_type": "stream",
     "text": [
      "Processing responses:  82%|████████▏ | 1735/2128 [10:14<04:36,  1.42it/s]"
     ]
    },
    {
     "name": "stdout",
     "output_type": "stream",
     "text": [
      "Answers saved to outputs_pipeline/article5_answers03_1.json\n"
     ]
    },
    {
     "name": "stderr",
     "output_type": "stream",
     "text": [
      "Processing responses:  82%|████████▏ | 1736/2128 [10:15<04:38,  1.41it/s]"
     ]
    },
    {
     "name": "stdout",
     "output_type": "stream",
     "text": [
      "Answers saved to outputs_pipeline/article5_answers03_1.json\n"
     ]
    },
    {
     "name": "stderr",
     "output_type": "stream",
     "text": [
      "Processing responses:  82%|████████▏ | 1737/2128 [10:16<04:34,  1.43it/s]"
     ]
    },
    {
     "name": "stdout",
     "output_type": "stream",
     "text": [
      "Answers saved to outputs_pipeline/article5_answers03_1.json\n"
     ]
    },
    {
     "name": "stderr",
     "output_type": "stream",
     "text": [
      "Processing responses:  82%|████████▏ | 1738/2128 [10:16<04:32,  1.43it/s]"
     ]
    },
    {
     "name": "stdout",
     "output_type": "stream",
     "text": [
      "Answers saved to outputs_pipeline/article5_answers03_1.json\n"
     ]
    },
    {
     "name": "stderr",
     "output_type": "stream",
     "text": [
      "Processing responses:  82%|████████▏ | 1739/2128 [10:17<04:32,  1.43it/s]"
     ]
    },
    {
     "name": "stdout",
     "output_type": "stream",
     "text": [
      "Answers saved to outputs_pipeline/article5_answers03_1.json\n"
     ]
    },
    {
     "name": "stderr",
     "output_type": "stream",
     "text": [
      "Processing responses:  82%|████████▏ | 1740/2128 [10:18<04:29,  1.44it/s]"
     ]
    },
    {
     "name": "stdout",
     "output_type": "stream",
     "text": [
      "Answers saved to outputs_pipeline/article5_answers03_1.json\n"
     ]
    },
    {
     "name": "stderr",
     "output_type": "stream",
     "text": [
      "Processing responses:  82%|████████▏ | 1741/2128 [10:18<04:28,  1.44it/s]"
     ]
    },
    {
     "name": "stdout",
     "output_type": "stream",
     "text": [
      "Answers saved to outputs_pipeline/article5_answers03_1.json\n"
     ]
    },
    {
     "name": "stderr",
     "output_type": "stream",
     "text": [
      "Processing responses:  82%|████████▏ | 1742/2128 [10:19<04:27,  1.44it/s]"
     ]
    },
    {
     "name": "stdout",
     "output_type": "stream",
     "text": [
      "Answers saved to outputs_pipeline/article5_answers03_1.json\n"
     ]
    },
    {
     "name": "stderr",
     "output_type": "stream",
     "text": [
      "Processing responses:  82%|████████▏ | 1743/2128 [10:20<04:27,  1.44it/s]"
     ]
    },
    {
     "name": "stdout",
     "output_type": "stream",
     "text": [
      "Answers saved to outputs_pipeline/article5_answers03_1.json\n"
     ]
    },
    {
     "name": "stderr",
     "output_type": "stream",
     "text": [
      "Processing responses:  82%|████████▏ | 1744/2128 [10:21<04:26,  1.44it/s]"
     ]
    },
    {
     "name": "stdout",
     "output_type": "stream",
     "text": [
      "Answers saved to outputs_pipeline/article5_answers03_1.json\n"
     ]
    },
    {
     "name": "stderr",
     "output_type": "stream",
     "text": [
      "Processing responses:  82%|████████▏ | 1745/2128 [10:21<04:25,  1.44it/s]"
     ]
    },
    {
     "name": "stdout",
     "output_type": "stream",
     "text": [
      "Answers saved to outputs_pipeline/article5_answers03_1.json\n"
     ]
    },
    {
     "name": "stderr",
     "output_type": "stream",
     "text": [
      "Processing responses:  82%|████████▏ | 1746/2128 [10:22<04:26,  1.43it/s]"
     ]
    },
    {
     "name": "stdout",
     "output_type": "stream",
     "text": [
      "Answers saved to outputs_pipeline/article5_answers03_1.json\n"
     ]
    },
    {
     "name": "stderr",
     "output_type": "stream",
     "text": [
      "Processing responses:  82%|████████▏ | 1747/2128 [10:23<04:28,  1.42it/s]"
     ]
    },
    {
     "name": "stdout",
     "output_type": "stream",
     "text": [
      "Answers saved to outputs_pipeline/article5_answers03_1.json\n"
     ]
    },
    {
     "name": "stderr",
     "output_type": "stream",
     "text": [
      "Processing responses:  82%|████████▏ | 1748/2128 [10:23<04:25,  1.43it/s]"
     ]
    },
    {
     "name": "stdout",
     "output_type": "stream",
     "text": [
      "Answers saved to outputs_pipeline/article5_answers03_1.json\n"
     ]
    },
    {
     "name": "stderr",
     "output_type": "stream",
     "text": [
      "Processing responses:  82%|████████▏ | 1749/2128 [10:24<04:27,  1.42it/s]"
     ]
    },
    {
     "name": "stdout",
     "output_type": "stream",
     "text": [
      "Answers saved to outputs_pipeline/article5_answers03_1.json\n"
     ]
    },
    {
     "name": "stderr",
     "output_type": "stream",
     "text": [
      "Processing responses:  82%|████████▏ | 1750/2128 [10:25<04:23,  1.43it/s]"
     ]
    },
    {
     "name": "stdout",
     "output_type": "stream",
     "text": [
      "Answers saved to outputs_pipeline/article5_answers03_1.json\n"
     ]
    },
    {
     "name": "stderr",
     "output_type": "stream",
     "text": [
      "Processing responses:  82%|████████▏ | 1751/2128 [10:26<05:15,  1.20it/s]"
     ]
    },
    {
     "name": "stdout",
     "output_type": "stream",
     "text": [
      "Answers saved to outputs_pipeline/article5_answers03_1.json\n"
     ]
    },
    {
     "name": "stderr",
     "output_type": "stream",
     "text": [
      "Processing responses:  82%|████████▏ | 1752/2128 [10:27<04:59,  1.25it/s]"
     ]
    },
    {
     "name": "stdout",
     "output_type": "stream",
     "text": [
      "Answers saved to outputs_pipeline/article5_answers03_1.json\n"
     ]
    },
    {
     "name": "stderr",
     "output_type": "stream",
     "text": [
      "Processing responses:  82%|████████▏ | 1753/2128 [10:27<04:49,  1.29it/s]"
     ]
    },
    {
     "name": "stdout",
     "output_type": "stream",
     "text": [
      "Answers saved to outputs_pipeline/article5_answers03_1.json\n"
     ]
    },
    {
     "name": "stderr",
     "output_type": "stream",
     "text": [
      "Processing responses:  82%|████████▏ | 1754/2128 [10:28<04:40,  1.33it/s]"
     ]
    },
    {
     "name": "stdout",
     "output_type": "stream",
     "text": [
      "Answers saved to outputs_pipeline/article5_answers03_1.json\n"
     ]
    },
    {
     "name": "stderr",
     "output_type": "stream",
     "text": [
      "Processing responses:  82%|████████▏ | 1755/2128 [10:29<04:34,  1.36it/s]"
     ]
    },
    {
     "name": "stdout",
     "output_type": "stream",
     "text": [
      "Answers saved to outputs_pipeline/article5_answers03_1.json\n"
     ]
    },
    {
     "name": "stderr",
     "output_type": "stream",
     "text": [
      "Processing responses:  83%|████████▎ | 1756/2128 [10:29<04:32,  1.36it/s]"
     ]
    },
    {
     "name": "stdout",
     "output_type": "stream",
     "text": [
      "Answers saved to outputs_pipeline/article5_answers03_1.json\n"
     ]
    },
    {
     "name": "stderr",
     "output_type": "stream",
     "text": [
      "Processing responses:  83%|████████▎ | 1757/2128 [10:30<04:31,  1.36it/s]"
     ]
    },
    {
     "name": "stdout",
     "output_type": "stream",
     "text": [
      "Answers saved to outputs_pipeline/article5_answers03_1.json\n"
     ]
    },
    {
     "name": "stderr",
     "output_type": "stream",
     "text": [
      "Processing responses:  83%|████████▎ | 1758/2128 [10:31<04:38,  1.33it/s]"
     ]
    },
    {
     "name": "stdout",
     "output_type": "stream",
     "text": [
      "Answers saved to outputs_pipeline/article5_answers03_1.json\n"
     ]
    },
    {
     "name": "stderr",
     "output_type": "stream",
     "text": [
      "Processing responses:  83%|████████▎ | 1759/2128 [10:32<05:09,  1.19it/s]"
     ]
    },
    {
     "name": "stdout",
     "output_type": "stream",
     "text": [
      "Answers saved to outputs_pipeline/article5_answers03_1.json\n"
     ]
    },
    {
     "name": "stderr",
     "output_type": "stream",
     "text": [
      "Processing responses:  83%|████████▎ | 1760/2128 [10:33<05:41,  1.08it/s]"
     ]
    },
    {
     "name": "stdout",
     "output_type": "stream",
     "text": [
      "Answers saved to outputs_pipeline/article5_answers03_1.json\n"
     ]
    },
    {
     "name": "stderr",
     "output_type": "stream",
     "text": [
      "Processing responses:  83%|████████▎ | 1761/2128 [10:34<05:58,  1.02it/s]"
     ]
    },
    {
     "name": "stdout",
     "output_type": "stream",
     "text": [
      "Answers saved to outputs_pipeline/article5_answers03_1.json\n"
     ]
    },
    {
     "name": "stderr",
     "output_type": "stream",
     "text": [
      "Processing responses:  83%|████████▎ | 1762/2128 [10:35<05:59,  1.02it/s]"
     ]
    },
    {
     "name": "stdout",
     "output_type": "stream",
     "text": [
      "Answers saved to outputs_pipeline/article5_answers03_1.json\n"
     ]
    },
    {
     "name": "stderr",
     "output_type": "stream",
     "text": [
      "Processing responses:  83%|████████▎ | 1763/2128 [10:36<05:55,  1.03it/s]"
     ]
    },
    {
     "name": "stdout",
     "output_type": "stream",
     "text": [
      "Answers saved to outputs_pipeline/article5_answers03_1.json\n"
     ]
    },
    {
     "name": "stderr",
     "output_type": "stream",
     "text": [
      "Processing responses:  83%|████████▎ | 1764/2128 [10:37<05:34,  1.09it/s]"
     ]
    },
    {
     "name": "stdout",
     "output_type": "stream",
     "text": [
      "Answers saved to outputs_pipeline/article5_answers03_1.json\n"
     ]
    },
    {
     "name": "stderr",
     "output_type": "stream",
     "text": [
      "Processing responses:  83%|████████▎ | 1765/2128 [10:38<05:31,  1.09it/s]"
     ]
    },
    {
     "name": "stdout",
     "output_type": "stream",
     "text": [
      "Answers saved to outputs_pipeline/article5_answers03_1.json\n"
     ]
    },
    {
     "name": "stderr",
     "output_type": "stream",
     "text": [
      "Processing responses:  83%|████████▎ | 1766/2128 [10:39<05:26,  1.11it/s]"
     ]
    },
    {
     "name": "stdout",
     "output_type": "stream",
     "text": [
      "Answers saved to outputs_pipeline/article5_answers03_1.json\n"
     ]
    },
    {
     "name": "stderr",
     "output_type": "stream",
     "text": [
      "Processing responses:  83%|████████▎ | 1767/2128 [10:39<05:05,  1.18it/s]"
     ]
    },
    {
     "name": "stdout",
     "output_type": "stream",
     "text": [
      "Answers saved to outputs_pipeline/article5_answers03_1.json\n"
     ]
    },
    {
     "name": "stderr",
     "output_type": "stream",
     "text": [
      "Processing responses:  83%|████████▎ | 1768/2128 [10:40<05:18,  1.13it/s]"
     ]
    },
    {
     "name": "stdout",
     "output_type": "stream",
     "text": [
      "Answers saved to outputs_pipeline/article5_answers03_1.json\n"
     ]
    },
    {
     "name": "stderr",
     "output_type": "stream",
     "text": [
      "Processing responses:  83%|████████▎ | 1769/2128 [10:41<05:27,  1.10it/s]"
     ]
    },
    {
     "name": "stdout",
     "output_type": "stream",
     "text": [
      "Answers saved to outputs_pipeline/article5_answers03_1.json\n"
     ]
    },
    {
     "name": "stderr",
     "output_type": "stream",
     "text": [
      "Processing responses:  83%|████████▎ | 1770/2128 [10:42<05:18,  1.12it/s]"
     ]
    },
    {
     "name": "stdout",
     "output_type": "stream",
     "text": [
      "Answers saved to outputs_pipeline/article5_answers03_1.json\n"
     ]
    },
    {
     "name": "stderr",
     "output_type": "stream",
     "text": [
      "Processing responses:  83%|████████▎ | 1771/2128 [10:43<05:22,  1.11it/s]"
     ]
    },
    {
     "name": "stdout",
     "output_type": "stream",
     "text": [
      "Answers saved to outputs_pipeline/article5_answers03_1.json\n"
     ]
    },
    {
     "name": "stderr",
     "output_type": "stream",
     "text": [
      "Processing responses:  83%|████████▎ | 1772/2128 [10:44<05:30,  1.08it/s]"
     ]
    },
    {
     "name": "stdout",
     "output_type": "stream",
     "text": [
      "Answers saved to outputs_pipeline/article5_answers03_1.json\n"
     ]
    },
    {
     "name": "stderr",
     "output_type": "stream",
     "text": [
      "Processing responses:  83%|████████▎ | 1773/2128 [10:45<05:13,  1.13it/s]"
     ]
    },
    {
     "name": "stdout",
     "output_type": "stream",
     "text": [
      "Answers saved to outputs_pipeline/article5_answers03_1.json\n"
     ]
    },
    {
     "name": "stderr",
     "output_type": "stream",
     "text": [
      "Processing responses:  83%|████████▎ | 1774/2128 [10:46<05:18,  1.11it/s]"
     ]
    },
    {
     "name": "stdout",
     "output_type": "stream",
     "text": [
      "Answers saved to outputs_pipeline/article5_answers03_1.json\n"
     ]
    },
    {
     "name": "stderr",
     "output_type": "stream",
     "text": [
      "Processing responses:  83%|████████▎ | 1775/2128 [10:47<05:18,  1.11it/s]"
     ]
    },
    {
     "name": "stdout",
     "output_type": "stream",
     "text": [
      "Answers saved to outputs_pipeline/article5_answers03_1.json\n"
     ]
    },
    {
     "name": "stderr",
     "output_type": "stream",
     "text": [
      "Processing responses:  83%|████████▎ | 1776/2128 [10:48<05:42,  1.03it/s]"
     ]
    },
    {
     "name": "stdout",
     "output_type": "stream",
     "text": [
      "Answers saved to outputs_pipeline/article5_answers03_1.json\n"
     ]
    },
    {
     "name": "stderr",
     "output_type": "stream",
     "text": [
      "Processing responses:  84%|████████▎ | 1777/2128 [10:49<05:32,  1.05it/s]"
     ]
    },
    {
     "name": "stdout",
     "output_type": "stream",
     "text": [
      "Answers saved to outputs_pipeline/article5_answers03_1.json\n"
     ]
    },
    {
     "name": "stderr",
     "output_type": "stream",
     "text": [
      "Processing responses:  84%|████████▎ | 1778/2128 [10:50<05:37,  1.04it/s]"
     ]
    },
    {
     "name": "stdout",
     "output_type": "stream",
     "text": [
      "Answers saved to outputs_pipeline/article5_answers03_1.json\n"
     ]
    },
    {
     "name": "stderr",
     "output_type": "stream",
     "text": [
      "Processing responses:  84%|████████▎ | 1779/2128 [10:51<05:40,  1.03it/s]"
     ]
    },
    {
     "name": "stdout",
     "output_type": "stream",
     "text": [
      "Answers saved to outputs_pipeline/article5_answers03_1.json\n"
     ]
    },
    {
     "name": "stderr",
     "output_type": "stream",
     "text": [
      "Processing responses:  84%|████████▎ | 1780/2128 [10:52<05:24,  1.07it/s]"
     ]
    },
    {
     "name": "stdout",
     "output_type": "stream",
     "text": [
      "Answers saved to outputs_pipeline/article5_answers03_1.json\n"
     ]
    },
    {
     "name": "stderr",
     "output_type": "stream",
     "text": [
      "Processing responses:  84%|████████▎ | 1781/2128 [10:53<05:28,  1.06it/s]"
     ]
    },
    {
     "name": "stdout",
     "output_type": "stream",
     "text": [
      "Answers saved to outputs_pipeline/article5_answers03_1.json\n"
     ]
    },
    {
     "name": "stderr",
     "output_type": "stream",
     "text": [
      "Processing responses:  84%|████████▎ | 1782/2128 [10:54<05:26,  1.06it/s]"
     ]
    },
    {
     "name": "stdout",
     "output_type": "stream",
     "text": [
      "Answers saved to outputs_pipeline/article5_answers03_1.json\n"
     ]
    },
    {
     "name": "stderr",
     "output_type": "stream",
     "text": [
      "Processing responses:  84%|████████▍ | 1783/2128 [10:54<05:15,  1.09it/s]"
     ]
    },
    {
     "name": "stdout",
     "output_type": "stream",
     "text": [
      "Answers saved to outputs_pipeline/article5_answers03_1.json\n"
     ]
    },
    {
     "name": "stderr",
     "output_type": "stream",
     "text": [
      "Processing responses:  84%|████████▍ | 1784/2128 [10:55<05:01,  1.14it/s]"
     ]
    },
    {
     "name": "stdout",
     "output_type": "stream",
     "text": [
      "Answers saved to outputs_pipeline/article5_answers03_1.json\n"
     ]
    },
    {
     "name": "stderr",
     "output_type": "stream",
     "text": [
      "Processing responses:  84%|████████▍ | 1785/2128 [10:56<05:14,  1.09it/s]"
     ]
    },
    {
     "name": "stdout",
     "output_type": "stream",
     "text": [
      "Answers saved to outputs_pipeline/article5_answers03_1.json\n"
     ]
    },
    {
     "name": "stderr",
     "output_type": "stream",
     "text": [
      "Processing responses:  84%|████████▍ | 1786/2128 [10:57<05:17,  1.08it/s]"
     ]
    },
    {
     "name": "stdout",
     "output_type": "stream",
     "text": [
      "Answers saved to outputs_pipeline/article5_answers03_1.json\n"
     ]
    },
    {
     "name": "stderr",
     "output_type": "stream",
     "text": [
      "Processing responses:  84%|████████▍ | 1787/2128 [10:58<05:01,  1.13it/s]"
     ]
    },
    {
     "name": "stdout",
     "output_type": "stream",
     "text": [
      "Answers saved to outputs_pipeline/article5_answers03_1.json\n"
     ]
    },
    {
     "name": "stderr",
     "output_type": "stream",
     "text": [
      "Processing responses:  84%|████████▍ | 1788/2128 [10:59<04:42,  1.20it/s]"
     ]
    },
    {
     "name": "stdout",
     "output_type": "stream",
     "text": [
      "Answers saved to outputs_pipeline/article5_answers03_1.json\n"
     ]
    },
    {
     "name": "stderr",
     "output_type": "stream",
     "text": [
      "Processing responses:  84%|████████▍ | 1789/2128 [11:00<04:59,  1.13it/s]"
     ]
    },
    {
     "name": "stdout",
     "output_type": "stream",
     "text": [
      "Answers saved to outputs_pipeline/article5_answers03_1.json\n"
     ]
    },
    {
     "name": "stderr",
     "output_type": "stream",
     "text": [
      "Processing responses:  84%|████████▍ | 1790/2128 [11:01<05:06,  1.10it/s]"
     ]
    },
    {
     "name": "stdout",
     "output_type": "stream",
     "text": [
      "Answers saved to outputs_pipeline/article5_answers03_1.json\n"
     ]
    },
    {
     "name": "stderr",
     "output_type": "stream",
     "text": [
      "Processing responses:  84%|████████▍ | 1791/2128 [11:01<04:45,  1.18it/s]"
     ]
    },
    {
     "name": "stdout",
     "output_type": "stream",
     "text": [
      "Answers saved to outputs_pipeline/article5_answers03_1.json\n"
     ]
    },
    {
     "name": "stderr",
     "output_type": "stream",
     "text": [
      "Processing responses:  84%|████████▍ | 1792/2128 [11:02<04:53,  1.14it/s]"
     ]
    },
    {
     "name": "stdout",
     "output_type": "stream",
     "text": [
      "Answers saved to outputs_pipeline/article5_answers03_1.json\n"
     ]
    },
    {
     "name": "stderr",
     "output_type": "stream",
     "text": [
      "Processing responses:  84%|████████▍ | 1793/2128 [11:03<05:01,  1.11it/s]"
     ]
    },
    {
     "name": "stdout",
     "output_type": "stream",
     "text": [
      "Answers saved to outputs_pipeline/article5_answers03_1.json\n"
     ]
    },
    {
     "name": "stderr",
     "output_type": "stream",
     "text": [
      "Processing responses:  84%|████████▍ | 1794/2128 [11:04<04:54,  1.14it/s]"
     ]
    },
    {
     "name": "stdout",
     "output_type": "stream",
     "text": [
      "Answers saved to outputs_pipeline/article5_answers03_1.json\n"
     ]
    },
    {
     "name": "stderr",
     "output_type": "stream",
     "text": [
      "Processing responses:  84%|████████▍ | 1795/2128 [11:05<04:38,  1.20it/s]"
     ]
    },
    {
     "name": "stdout",
     "output_type": "stream",
     "text": [
      "Answers saved to outputs_pipeline/article5_answers03_1.json\n"
     ]
    },
    {
     "name": "stderr",
     "output_type": "stream",
     "text": [
      "Processing responses:  84%|████████▍ | 1796/2128 [11:06<04:53,  1.13it/s]"
     ]
    },
    {
     "name": "stdout",
     "output_type": "stream",
     "text": [
      "Answers saved to outputs_pipeline/article5_answers03_1.json\n"
     ]
    },
    {
     "name": "stderr",
     "output_type": "stream",
     "text": [
      "Processing responses:  84%|████████▍ | 1797/2128 [11:07<04:53,  1.13it/s]"
     ]
    },
    {
     "name": "stdout",
     "output_type": "stream",
     "text": [
      "Answers saved to outputs_pipeline/article5_answers03_1.json\n"
     ]
    },
    {
     "name": "stderr",
     "output_type": "stream",
     "text": [
      "Processing responses:  84%|████████▍ | 1798/2128 [11:08<04:56,  1.11it/s]"
     ]
    },
    {
     "name": "stdout",
     "output_type": "stream",
     "text": [
      "Answers saved to outputs_pipeline/article5_answers03_1.json\n"
     ]
    },
    {
     "name": "stderr",
     "output_type": "stream",
     "text": [
      "Processing responses:  85%|████████▍ | 1799/2128 [11:08<04:51,  1.13it/s]"
     ]
    },
    {
     "name": "stdout",
     "output_type": "stream",
     "text": [
      "Answers saved to outputs_pipeline/article5_answers03_1.json\n"
     ]
    },
    {
     "name": "stderr",
     "output_type": "stream",
     "text": [
      "Processing responses:  85%|████████▍ | 1800/2128 [11:09<04:34,  1.19it/s]"
     ]
    },
    {
     "name": "stdout",
     "output_type": "stream",
     "text": [
      "Answers saved to outputs_pipeline/article5_answers03_1.json\n"
     ]
    },
    {
     "name": "stderr",
     "output_type": "stream",
     "text": [
      "Processing responses:  85%|████████▍ | 1801/2128 [11:11<05:24,  1.01it/s]"
     ]
    },
    {
     "name": "stdout",
     "output_type": "stream",
     "text": [
      "Answers saved to outputs_pipeline/article5_answers03_1.json\n"
     ]
    },
    {
     "name": "stderr",
     "output_type": "stream",
     "text": [
      "Processing responses:  85%|████████▍ | 1802/2128 [11:11<05:06,  1.06it/s]"
     ]
    },
    {
     "name": "stdout",
     "output_type": "stream",
     "text": [
      "Answers saved to outputs_pipeline/article5_answers03_1.json\n"
     ]
    },
    {
     "name": "stderr",
     "output_type": "stream",
     "text": [
      "Processing responses:  85%|████████▍ | 1803/2128 [11:13<05:22,  1.01it/s]"
     ]
    },
    {
     "name": "stdout",
     "output_type": "stream",
     "text": [
      "Answers saved to outputs_pipeline/article5_answers03_1.json\n"
     ]
    },
    {
     "name": "stderr",
     "output_type": "stream",
     "text": [
      "Processing responses:  85%|████████▍ | 1804/2128 [11:14<06:31,  1.21s/it]"
     ]
    },
    {
     "name": "stdout",
     "output_type": "stream",
     "text": [
      "Answers saved to outputs_pipeline/article5_answers03_1.json\n"
     ]
    },
    {
     "name": "stderr",
     "output_type": "stream",
     "text": [
      "Processing responses:  85%|████████▍ | 1805/2128 [11:15<06:08,  1.14s/it]"
     ]
    },
    {
     "name": "stdout",
     "output_type": "stream",
     "text": [
      "Answers saved to outputs_pipeline/article5_answers03_1.json\n"
     ]
    },
    {
     "name": "stderr",
     "output_type": "stream",
     "text": [
      "Processing responses:  85%|████████▍ | 1806/2128 [11:16<06:09,  1.15s/it]"
     ]
    },
    {
     "name": "stdout",
     "output_type": "stream",
     "text": [
      "Answers saved to outputs_pipeline/article5_answers03_1.json\n"
     ]
    },
    {
     "name": "stderr",
     "output_type": "stream",
     "text": [
      "Processing responses:  85%|████████▍ | 1807/2128 [11:17<05:35,  1.05s/it]"
     ]
    },
    {
     "name": "stdout",
     "output_type": "stream",
     "text": [
      "Answers saved to outputs_pipeline/article5_answers03_1.json\n"
     ]
    },
    {
     "name": "stderr",
     "output_type": "stream",
     "text": [
      "Processing responses:  85%|████████▍ | 1808/2128 [11:18<05:21,  1.00s/it]"
     ]
    },
    {
     "name": "stdout",
     "output_type": "stream",
     "text": [
      "Answers saved to outputs_pipeline/article5_answers03_1.json\n"
     ]
    },
    {
     "name": "stderr",
     "output_type": "stream",
     "text": [
      "Processing responses:  85%|████████▌ | 1809/2128 [11:19<05:19,  1.00s/it]"
     ]
    },
    {
     "name": "stdout",
     "output_type": "stream",
     "text": [
      "Answers saved to outputs_pipeline/article5_answers03_1.json\n"
     ]
    },
    {
     "name": "stderr",
     "output_type": "stream",
     "text": [
      "Processing responses:  85%|████████▌ | 1810/2128 [11:20<05:06,  1.04it/s]"
     ]
    },
    {
     "name": "stdout",
     "output_type": "stream",
     "text": [
      "Answers saved to outputs_pipeline/article5_answers03_1.json\n"
     ]
    },
    {
     "name": "stderr",
     "output_type": "stream",
     "text": [
      "Processing responses:  85%|████████▌ | 1811/2128 [11:21<04:50,  1.09it/s]"
     ]
    },
    {
     "name": "stdout",
     "output_type": "stream",
     "text": [
      "Answers saved to outputs_pipeline/article5_answers03_1.json\n"
     ]
    },
    {
     "name": "stderr",
     "output_type": "stream",
     "text": [
      "Processing responses:  85%|████████▌ | 1812/2128 [11:22<04:48,  1.09it/s]"
     ]
    },
    {
     "name": "stdout",
     "output_type": "stream",
     "text": [
      "Answers saved to outputs_pipeline/article5_answers03_1.json\n"
     ]
    },
    {
     "name": "stderr",
     "output_type": "stream",
     "text": [
      "Processing responses:  85%|████████▌ | 1813/2128 [11:23<04:44,  1.11it/s]"
     ]
    },
    {
     "name": "stdout",
     "output_type": "stream",
     "text": [
      "Answers saved to outputs_pipeline/article5_answers03_1.json\n"
     ]
    },
    {
     "name": "stderr",
     "output_type": "stream",
     "text": [
      "Processing responses:  85%|████████▌ | 1814/2128 [11:23<04:34,  1.15it/s]"
     ]
    },
    {
     "name": "stdout",
     "output_type": "stream",
     "text": [
      "Answers saved to outputs_pipeline/article5_answers03_1.json\n"
     ]
    },
    {
     "name": "stderr",
     "output_type": "stream",
     "text": [
      "Processing responses:  85%|████████▌ | 1815/2128 [11:24<04:58,  1.05it/s]"
     ]
    },
    {
     "name": "stdout",
     "output_type": "stream",
     "text": [
      "Answers saved to outputs_pipeline/article5_answers03_1.json\n"
     ]
    },
    {
     "name": "stderr",
     "output_type": "stream",
     "text": [
      "Processing responses:  85%|████████▌ | 1816/2128 [11:26<05:07,  1.02it/s]"
     ]
    },
    {
     "name": "stdout",
     "output_type": "stream",
     "text": [
      "Answers saved to outputs_pipeline/article5_answers03_1.json\n"
     ]
    },
    {
     "name": "stderr",
     "output_type": "stream",
     "text": [
      "Processing responses:  85%|████████▌ | 1817/2128 [11:26<04:58,  1.04it/s]"
     ]
    },
    {
     "name": "stdout",
     "output_type": "stream",
     "text": [
      "Answers saved to outputs_pipeline/article5_answers03_1.json\n"
     ]
    },
    {
     "name": "stderr",
     "output_type": "stream",
     "text": [
      "Processing responses:  85%|████████▌ | 1818/2128 [11:27<04:41,  1.10it/s]"
     ]
    },
    {
     "name": "stdout",
     "output_type": "stream",
     "text": [
      "Answers saved to outputs_pipeline/article5_answers03_1.json\n"
     ]
    },
    {
     "name": "stderr",
     "output_type": "stream",
     "text": [
      "Processing responses:  85%|████████▌ | 1819/2128 [11:28<04:33,  1.13it/s]"
     ]
    },
    {
     "name": "stdout",
     "output_type": "stream",
     "text": [
      "Answers saved to outputs_pipeline/article5_answers03_1.json\n"
     ]
    },
    {
     "name": "stderr",
     "output_type": "stream",
     "text": [
      "Processing responses:  86%|████████▌ | 1820/2128 [11:29<04:19,  1.19it/s]"
     ]
    },
    {
     "name": "stdout",
     "output_type": "stream",
     "text": [
      "Answers saved to outputs_pipeline/article5_answers03_1.json\n"
     ]
    },
    {
     "name": "stderr",
     "output_type": "stream",
     "text": [
      "Processing responses:  86%|████████▌ | 1821/2128 [11:30<04:12,  1.21it/s]"
     ]
    },
    {
     "name": "stdout",
     "output_type": "stream",
     "text": [
      "Answers saved to outputs_pipeline/article5_answers03_1.json\n"
     ]
    },
    {
     "name": "stderr",
     "output_type": "stream",
     "text": [
      "Processing responses:  86%|████████▌ | 1822/2128 [11:30<04:10,  1.22it/s]"
     ]
    },
    {
     "name": "stdout",
     "output_type": "stream",
     "text": [
      "Answers saved to outputs_pipeline/article5_answers03_1.json\n"
     ]
    },
    {
     "name": "stderr",
     "output_type": "stream",
     "text": [
      "Processing responses:  86%|████████▌ | 1823/2128 [11:31<04:14,  1.20it/s]"
     ]
    },
    {
     "name": "stdout",
     "output_type": "stream",
     "text": [
      "Answers saved to outputs_pipeline/article5_answers03_1.json\n"
     ]
    },
    {
     "name": "stderr",
     "output_type": "stream",
     "text": [
      "Processing responses:  86%|████████▌ | 1824/2128 [11:32<04:38,  1.09it/s]"
     ]
    },
    {
     "name": "stdout",
     "output_type": "stream",
     "text": [
      "Answers saved to outputs_pipeline/article5_answers03_1.json\n"
     ]
    },
    {
     "name": "stderr",
     "output_type": "stream",
     "text": [
      "Processing responses:  86%|████████▌ | 1825/2128 [11:33<04:36,  1.10it/s]"
     ]
    },
    {
     "name": "stdout",
     "output_type": "stream",
     "text": [
      "Answers saved to outputs_pipeline/article5_answers03_1.json\n"
     ]
    },
    {
     "name": "stderr",
     "output_type": "stream",
     "text": [
      "Processing responses:  86%|████████▌ | 1826/2128 [11:35<05:03,  1.01s/it]"
     ]
    },
    {
     "name": "stdout",
     "output_type": "stream",
     "text": [
      "Answers saved to outputs_pipeline/article5_answers03_1.json\n"
     ]
    },
    {
     "name": "stderr",
     "output_type": "stream",
     "text": [
      "Processing responses:  86%|████████▌ | 1827/2128 [11:35<04:46,  1.05it/s]"
     ]
    },
    {
     "name": "stdout",
     "output_type": "stream",
     "text": [
      "Answers saved to outputs_pipeline/article5_answers03_1.json\n"
     ]
    },
    {
     "name": "stderr",
     "output_type": "stream",
     "text": [
      "Processing responses:  86%|████████▌ | 1828/2128 [11:36<04:52,  1.02it/s]"
     ]
    },
    {
     "name": "stdout",
     "output_type": "stream",
     "text": [
      "Answers saved to outputs_pipeline/article5_answers03_1.json\n"
     ]
    },
    {
     "name": "stderr",
     "output_type": "stream",
     "text": [
      "Processing responses:  86%|████████▌ | 1829/2128 [11:37<04:30,  1.11it/s]"
     ]
    },
    {
     "name": "stdout",
     "output_type": "stream",
     "text": [
      "Answers saved to outputs_pipeline/article5_answers03_1.json\n"
     ]
    },
    {
     "name": "stderr",
     "output_type": "stream",
     "text": [
      "Processing responses:  86%|████████▌ | 1830/2128 [11:38<04:24,  1.13it/s]"
     ]
    },
    {
     "name": "stdout",
     "output_type": "stream",
     "text": [
      "Answers saved to outputs_pipeline/article5_answers03_1.json\n"
     ]
    },
    {
     "name": "stderr",
     "output_type": "stream",
     "text": [
      "Processing responses:  86%|████████▌ | 1831/2128 [11:39<04:22,  1.13it/s]"
     ]
    },
    {
     "name": "stdout",
     "output_type": "stream",
     "text": [
      "Answers saved to outputs_pipeline/article5_answers03_1.json\n"
     ]
    },
    {
     "name": "stderr",
     "output_type": "stream",
     "text": [
      "Processing responses:  86%|████████▌ | 1832/2128 [11:40<04:19,  1.14it/s]"
     ]
    },
    {
     "name": "stdout",
     "output_type": "stream",
     "text": [
      "Answers saved to outputs_pipeline/article5_answers03_1.json\n"
     ]
    },
    {
     "name": "stderr",
     "output_type": "stream",
     "text": [
      "Processing responses:  86%|████████▌ | 1833/2128 [11:40<04:09,  1.18it/s]"
     ]
    },
    {
     "name": "stdout",
     "output_type": "stream",
     "text": [
      "Answers saved to outputs_pipeline/article5_answers03_1.json\n"
     ]
    },
    {
     "name": "stderr",
     "output_type": "stream",
     "text": [
      "Processing responses:  86%|████████▌ | 1834/2128 [11:41<04:01,  1.22it/s]"
     ]
    },
    {
     "name": "stdout",
     "output_type": "stream",
     "text": [
      "Answers saved to outputs_pipeline/article5_answers03_1.json\n"
     ]
    },
    {
     "name": "stderr",
     "output_type": "stream",
     "text": [
      "Processing responses:  86%|████████▌ | 1835/2128 [11:42<04:07,  1.18it/s]"
     ]
    },
    {
     "name": "stdout",
     "output_type": "stream",
     "text": [
      "Answers saved to outputs_pipeline/article5_answers03_1.json\n"
     ]
    },
    {
     "name": "stderr",
     "output_type": "stream",
     "text": [
      "Processing responses:  86%|████████▋ | 1836/2128 [11:43<04:41,  1.04it/s]"
     ]
    },
    {
     "name": "stdout",
     "output_type": "stream",
     "text": [
      "Answers saved to outputs_pipeline/article5_answers03_1.json\n"
     ]
    },
    {
     "name": "stderr",
     "output_type": "stream",
     "text": [
      "Processing responses:  86%|████████▋ | 1837/2128 [11:44<04:41,  1.04it/s]"
     ]
    },
    {
     "name": "stdout",
     "output_type": "stream",
     "text": [
      "Answers saved to outputs_pipeline/article5_answers03_1.json\n"
     ]
    },
    {
     "name": "stderr",
     "output_type": "stream",
     "text": [
      "Processing responses:  86%|████████▋ | 1838/2128 [11:45<04:51,  1.01s/it]"
     ]
    },
    {
     "name": "stdout",
     "output_type": "stream",
     "text": [
      "Answers saved to outputs_pipeline/article5_answers03_1.json\n"
     ]
    },
    {
     "name": "stderr",
     "output_type": "stream",
     "text": [
      "Processing responses:  86%|████████▋ | 1839/2128 [11:46<04:45,  1.01it/s]"
     ]
    },
    {
     "name": "stdout",
     "output_type": "stream",
     "text": [
      "Answers saved to outputs_pipeline/article5_answers03_1.json\n"
     ]
    },
    {
     "name": "stderr",
     "output_type": "stream",
     "text": [
      "Processing responses:  86%|████████▋ | 1840/2128 [11:47<04:36,  1.04it/s]"
     ]
    },
    {
     "name": "stdout",
     "output_type": "stream",
     "text": [
      "Answers saved to outputs_pipeline/article5_answers03_1.json\n"
     ]
    },
    {
     "name": "stderr",
     "output_type": "stream",
     "text": [
      "Processing responses:  87%|████████▋ | 1841/2128 [11:48<04:18,  1.11it/s]"
     ]
    },
    {
     "name": "stdout",
     "output_type": "stream",
     "text": [
      "Answers saved to outputs_pipeline/article5_answers03_1.json\n"
     ]
    },
    {
     "name": "stderr",
     "output_type": "stream",
     "text": [
      "Processing responses:  87%|████████▋ | 1842/2128 [11:49<04:20,  1.10it/s]"
     ]
    },
    {
     "name": "stdout",
     "output_type": "stream",
     "text": [
      "Answers saved to outputs_pipeline/article5_answers03_1.json\n"
     ]
    },
    {
     "name": "stderr",
     "output_type": "stream",
     "text": [
      "Processing responses:  87%|████████▋ | 1843/2128 [11:50<04:32,  1.05it/s]"
     ]
    },
    {
     "name": "stdout",
     "output_type": "stream",
     "text": [
      "Answers saved to outputs_pipeline/article5_answers03_1.json\n"
     ]
    },
    {
     "name": "stderr",
     "output_type": "stream",
     "text": [
      "Processing responses:  87%|████████▋ | 1844/2128 [11:51<04:27,  1.06it/s]"
     ]
    },
    {
     "name": "stdout",
     "output_type": "stream",
     "text": [
      "Answers saved to outputs_pipeline/article5_answers03_1.json\n"
     ]
    },
    {
     "name": "stderr",
     "output_type": "stream",
     "text": [
      "Processing responses:  87%|████████▋ | 1845/2128 [11:52<04:27,  1.06it/s]"
     ]
    },
    {
     "name": "stdout",
     "output_type": "stream",
     "text": [
      "Answers saved to outputs_pipeline/article5_answers03_1.json\n"
     ]
    },
    {
     "name": "stderr",
     "output_type": "stream",
     "text": [
      "Processing responses:  87%|████████▋ | 1846/2128 [11:53<04:24,  1.07it/s]"
     ]
    },
    {
     "name": "stdout",
     "output_type": "stream",
     "text": [
      "Answers saved to outputs_pipeline/article5_answers03_1.json\n"
     ]
    },
    {
     "name": "stderr",
     "output_type": "stream",
     "text": [
      "Processing responses:  87%|████████▋ | 1847/2128 [11:54<04:36,  1.02it/s]"
     ]
    },
    {
     "name": "stdout",
     "output_type": "stream",
     "text": [
      "Answers saved to outputs_pipeline/article5_answers03_1.json\n"
     ]
    },
    {
     "name": "stderr",
     "output_type": "stream",
     "text": [
      "Processing responses:  87%|████████▋ | 1848/2128 [11:55<04:26,  1.05it/s]"
     ]
    },
    {
     "name": "stdout",
     "output_type": "stream",
     "text": [
      "Answers saved to outputs_pipeline/article5_answers03_1.json\n"
     ]
    },
    {
     "name": "stderr",
     "output_type": "stream",
     "text": [
      "Processing responses:  87%|████████▋ | 1849/2128 [11:56<04:28,  1.04it/s]"
     ]
    },
    {
     "name": "stdout",
     "output_type": "stream",
     "text": [
      "Answers saved to outputs_pipeline/article5_answers03_1.json\n"
     ]
    },
    {
     "name": "stderr",
     "output_type": "stream",
     "text": [
      "Processing responses:  87%|████████▋ | 1850/2128 [11:57<04:41,  1.01s/it]"
     ]
    },
    {
     "name": "stdout",
     "output_type": "stream",
     "text": [
      "Answers saved to outputs_pipeline/article5_answers03_1.json\n"
     ]
    },
    {
     "name": "stderr",
     "output_type": "stream",
     "text": [
      "Processing responses:  87%|████████▋ | 1851/2128 [11:58<04:25,  1.04it/s]"
     ]
    },
    {
     "name": "stdout",
     "output_type": "stream",
     "text": [
      "Answers saved to outputs_pipeline/article5_answers03_1.json\n"
     ]
    },
    {
     "name": "stderr",
     "output_type": "stream",
     "text": [
      "Processing responses:  87%|████████▋ | 1852/2128 [11:59<04:35,  1.00it/s]"
     ]
    },
    {
     "name": "stdout",
     "output_type": "stream",
     "text": [
      "Answers saved to outputs_pipeline/article5_answers03_1.json\n"
     ]
    },
    {
     "name": "stderr",
     "output_type": "stream",
     "text": [
      "Processing responses:  87%|████████▋ | 1853/2128 [12:00<04:22,  1.05it/s]"
     ]
    },
    {
     "name": "stdout",
     "output_type": "stream",
     "text": [
      "Answers saved to outputs_pipeline/article5_answers03_1.json\n"
     ]
    },
    {
     "name": "stderr",
     "output_type": "stream",
     "text": [
      "Processing responses:  87%|████████▋ | 1854/2128 [12:01<04:21,  1.05it/s]"
     ]
    },
    {
     "name": "stdout",
     "output_type": "stream",
     "text": [
      "Answers saved to outputs_pipeline/article5_answers03_1.json\n"
     ]
    },
    {
     "name": "stderr",
     "output_type": "stream",
     "text": [
      "Processing responses:  87%|████████▋ | 1855/2128 [12:01<04:04,  1.12it/s]"
     ]
    },
    {
     "name": "stdout",
     "output_type": "stream",
     "text": [
      "Answers saved to outputs_pipeline/article5_answers03_1.json\n"
     ]
    },
    {
     "name": "stderr",
     "output_type": "stream",
     "text": [
      "Processing responses:  87%|████████▋ | 1856/2128 [12:03<04:24,  1.03it/s]"
     ]
    },
    {
     "name": "stdout",
     "output_type": "stream",
     "text": [
      "Answers saved to outputs_pipeline/article5_answers03_1.json\n"
     ]
    },
    {
     "name": "stderr",
     "output_type": "stream",
     "text": [
      "Processing responses:  87%|████████▋ | 1857/2128 [12:04<04:23,  1.03it/s]"
     ]
    },
    {
     "name": "stdout",
     "output_type": "stream",
     "text": [
      "Answers saved to outputs_pipeline/article5_answers03_1.json\n"
     ]
    },
    {
     "name": "stderr",
     "output_type": "stream",
     "text": [
      "Processing responses:  87%|████████▋ | 1858/2128 [12:04<04:08,  1.09it/s]"
     ]
    },
    {
     "name": "stdout",
     "output_type": "stream",
     "text": [
      "Answers saved to outputs_pipeline/article5_answers03_1.json\n"
     ]
    },
    {
     "name": "stderr",
     "output_type": "stream",
     "text": [
      "Processing responses:  87%|████████▋ | 1859/2128 [12:05<04:18,  1.04it/s]"
     ]
    },
    {
     "name": "stdout",
     "output_type": "stream",
     "text": [
      "Answers saved to outputs_pipeline/article5_answers03_1.json\n"
     ]
    },
    {
     "name": "stderr",
     "output_type": "stream",
     "text": [
      "Processing responses:  87%|████████▋ | 1860/2128 [12:06<04:24,  1.01it/s]"
     ]
    },
    {
     "name": "stdout",
     "output_type": "stream",
     "text": [
      "Answers saved to outputs_pipeline/article5_answers03_1.json\n"
     ]
    },
    {
     "name": "stderr",
     "output_type": "stream",
     "text": [
      "Processing responses:  87%|████████▋ | 1861/2128 [12:08<04:44,  1.06s/it]"
     ]
    },
    {
     "name": "stdout",
     "output_type": "stream",
     "text": [
      "Answers saved to outputs_pipeline/article5_answers03_1.json\n"
     ]
    },
    {
     "name": "stderr",
     "output_type": "stream",
     "text": [
      "Processing responses:  88%|████████▊ | 1862/2128 [12:09<04:42,  1.06s/it]"
     ]
    },
    {
     "name": "stdout",
     "output_type": "stream",
     "text": [
      "Answers saved to outputs_pipeline/article5_answers03_1.json\n"
     ]
    },
    {
     "name": "stderr",
     "output_type": "stream",
     "text": [
      "Processing responses:  88%|████████▊ | 1863/2128 [12:10<04:37,  1.05s/it]"
     ]
    },
    {
     "name": "stdout",
     "output_type": "stream",
     "text": [
      "Answers saved to outputs_pipeline/article5_answers03_1.json\n"
     ]
    },
    {
     "name": "stderr",
     "output_type": "stream",
     "text": [
      "Processing responses:  88%|████████▊ | 1864/2128 [12:11<04:34,  1.04s/it]"
     ]
    },
    {
     "name": "stdout",
     "output_type": "stream",
     "text": [
      "Answers saved to outputs_pipeline/article5_answers03_1.json\n"
     ]
    },
    {
     "name": "stderr",
     "output_type": "stream",
     "text": [
      "Processing responses:  88%|████████▊ | 1865/2128 [12:12<04:57,  1.13s/it]"
     ]
    },
    {
     "name": "stdout",
     "output_type": "stream",
     "text": [
      "Answers saved to outputs_pipeline/article5_answers03_1.json\n"
     ]
    },
    {
     "name": "stderr",
     "output_type": "stream",
     "text": [
      "Processing responses:  88%|████████▊ | 1866/2128 [12:13<04:42,  1.08s/it]"
     ]
    },
    {
     "name": "stdout",
     "output_type": "stream",
     "text": [
      "Answers saved to outputs_pipeline/article5_answers03_1.json\n"
     ]
    },
    {
     "name": "stderr",
     "output_type": "stream",
     "text": [
      "Processing responses:  88%|████████▊ | 1867/2128 [12:14<04:23,  1.01s/it]"
     ]
    },
    {
     "name": "stdout",
     "output_type": "stream",
     "text": [
      "Answers saved to outputs_pipeline/article5_answers03_1.json\n"
     ]
    },
    {
     "name": "stderr",
     "output_type": "stream",
     "text": [
      "Processing responses:  88%|████████▊ | 1868/2128 [12:15<04:02,  1.07it/s]"
     ]
    },
    {
     "name": "stdout",
     "output_type": "stream",
     "text": [
      "Answers saved to outputs_pipeline/article5_answers03_1.json\n"
     ]
    },
    {
     "name": "stderr",
     "output_type": "stream",
     "text": [
      "Processing responses:  88%|████████▊ | 1869/2128 [12:16<04:09,  1.04it/s]"
     ]
    },
    {
     "name": "stdout",
     "output_type": "stream",
     "text": [
      "Answers saved to outputs_pipeline/article5_answers03_1.json\n"
     ]
    },
    {
     "name": "stderr",
     "output_type": "stream",
     "text": [
      "Processing responses:  88%|████████▊ | 1870/2128 [12:17<04:23,  1.02s/it]"
     ]
    },
    {
     "name": "stdout",
     "output_type": "stream",
     "text": [
      "Answers saved to outputs_pipeline/article5_answers03_1.json\n"
     ]
    },
    {
     "name": "stderr",
     "output_type": "stream",
     "text": [
      "Processing responses:  88%|████████▊ | 1871/2128 [12:18<04:04,  1.05it/s]"
     ]
    },
    {
     "name": "stdout",
     "output_type": "stream",
     "text": [
      "Answers saved to outputs_pipeline/article5_answers03_1.json\n"
     ]
    },
    {
     "name": "stderr",
     "output_type": "stream",
     "text": [
      "Processing responses:  88%|████████▊ | 1872/2128 [12:18<03:54,  1.09it/s]"
     ]
    },
    {
     "name": "stdout",
     "output_type": "stream",
     "text": [
      "Answers saved to outputs_pipeline/article5_answers03_1.json\n"
     ]
    },
    {
     "name": "stderr",
     "output_type": "stream",
     "text": [
      "Processing responses:  88%|████████▊ | 1873/2128 [12:20<04:05,  1.04it/s]"
     ]
    },
    {
     "name": "stdout",
     "output_type": "stream",
     "text": [
      "Answers saved to outputs_pipeline/article5_answers03_1.json\n"
     ]
    },
    {
     "name": "stderr",
     "output_type": "stream",
     "text": [
      "Processing responses:  88%|████████▊ | 1874/2128 [12:21<04:28,  1.06s/it]"
     ]
    },
    {
     "name": "stdout",
     "output_type": "stream",
     "text": [
      "Answers saved to outputs_pipeline/article5_answers03_1.json\n"
     ]
    },
    {
     "name": "stderr",
     "output_type": "stream",
     "text": [
      "Processing responses:  88%|████████▊ | 1875/2128 [12:22<04:19,  1.03s/it]"
     ]
    },
    {
     "name": "stdout",
     "output_type": "stream",
     "text": [
      "Answers saved to outputs_pipeline/article5_answers03_1.json\n"
     ]
    },
    {
     "name": "stderr",
     "output_type": "stream",
     "text": [
      "Processing responses:  88%|████████▊ | 1876/2128 [12:23<04:06,  1.02it/s]"
     ]
    },
    {
     "name": "stdout",
     "output_type": "stream",
     "text": [
      "Answers saved to outputs_pipeline/article5_answers03_1.json\n"
     ]
    },
    {
     "name": "stderr",
     "output_type": "stream",
     "text": [
      "Processing responses:  88%|████████▊ | 1877/2128 [12:24<03:59,  1.05it/s]"
     ]
    },
    {
     "name": "stdout",
     "output_type": "stream",
     "text": [
      "Answers saved to outputs_pipeline/article5_answers03_1.json\n"
     ]
    },
    {
     "name": "stderr",
     "output_type": "stream",
     "text": [
      "Processing responses:  88%|████████▊ | 1878/2128 [12:25<04:01,  1.03it/s]"
     ]
    },
    {
     "name": "stdout",
     "output_type": "stream",
     "text": [
      "Answers saved to outputs_pipeline/article5_answers03_1.json\n"
     ]
    },
    {
     "name": "stderr",
     "output_type": "stream",
     "text": [
      "Processing responses:  88%|████████▊ | 1879/2128 [12:26<04:04,  1.02it/s]"
     ]
    },
    {
     "name": "stdout",
     "output_type": "stream",
     "text": [
      "Answers saved to outputs_pipeline/article5_answers03_1.json\n"
     ]
    },
    {
     "name": "stderr",
     "output_type": "stream",
     "text": [
      "Processing responses:  88%|████████▊ | 1880/2128 [12:26<03:45,  1.10it/s]"
     ]
    },
    {
     "name": "stdout",
     "output_type": "stream",
     "text": [
      "Answers saved to outputs_pipeline/article5_answers03_1.json\n"
     ]
    },
    {
     "name": "stderr",
     "output_type": "stream",
     "text": [
      "Processing responses:  88%|████████▊ | 1881/2128 [12:27<03:51,  1.07it/s]"
     ]
    },
    {
     "name": "stdout",
     "output_type": "stream",
     "text": [
      "Answers saved to outputs_pipeline/article5_answers03_1.json\n"
     ]
    },
    {
     "name": "stderr",
     "output_type": "stream",
     "text": [
      "Processing responses:  88%|████████▊ | 1882/2128 [12:28<03:46,  1.08it/s]"
     ]
    },
    {
     "name": "stdout",
     "output_type": "stream",
     "text": [
      "Answers saved to outputs_pipeline/article5_answers03_1.json\n"
     ]
    },
    {
     "name": "stderr",
     "output_type": "stream",
     "text": [
      "Processing responses:  88%|████████▊ | 1883/2128 [12:29<03:45,  1.09it/s]"
     ]
    },
    {
     "name": "stdout",
     "output_type": "stream",
     "text": [
      "Answers saved to outputs_pipeline/article5_answers03_1.json\n"
     ]
    },
    {
     "name": "stderr",
     "output_type": "stream",
     "text": [
      "Processing responses:  89%|████████▊ | 1884/2128 [12:30<03:39,  1.11it/s]"
     ]
    },
    {
     "name": "stdout",
     "output_type": "stream",
     "text": [
      "Answers saved to outputs_pipeline/article5_answers03_1.json\n"
     ]
    },
    {
     "name": "stderr",
     "output_type": "stream",
     "text": [
      "Processing responses:  89%|████████▊ | 1885/2128 [12:31<03:28,  1.17it/s]"
     ]
    },
    {
     "name": "stdout",
     "output_type": "stream",
     "text": [
      "Answers saved to outputs_pipeline/article5_answers03_1.json\n"
     ]
    },
    {
     "name": "stderr",
     "output_type": "stream",
     "text": [
      "Processing responses:  89%|████████▊ | 1886/2128 [12:32<03:32,  1.14it/s]"
     ]
    },
    {
     "name": "stdout",
     "output_type": "stream",
     "text": [
      "Answers saved to outputs_pipeline/article5_answers03_1.json\n"
     ]
    },
    {
     "name": "stderr",
     "output_type": "stream",
     "text": [
      "Processing responses:  89%|████████▊ | 1887/2128 [12:33<03:35,  1.12it/s]"
     ]
    },
    {
     "name": "stdout",
     "output_type": "stream",
     "text": [
      "Answers saved to outputs_pipeline/article5_answers03_1.json\n"
     ]
    },
    {
     "name": "stderr",
     "output_type": "stream",
     "text": [
      "Processing responses:  89%|████████▊ | 1888/2128 [12:33<03:29,  1.15it/s]"
     ]
    },
    {
     "name": "stdout",
     "output_type": "stream",
     "text": [
      "Answers saved to outputs_pipeline/article5_answers03_1.json\n"
     ]
    },
    {
     "name": "stderr",
     "output_type": "stream",
     "text": [
      "Processing responses:  89%|████████▉ | 1889/2128 [12:34<03:22,  1.18it/s]"
     ]
    },
    {
     "name": "stdout",
     "output_type": "stream",
     "text": [
      "Answers saved to outputs_pipeline/article5_answers03_1.json\n"
     ]
    },
    {
     "name": "stderr",
     "output_type": "stream",
     "text": [
      "Processing responses:  89%|████████▉ | 1890/2128 [12:35<03:21,  1.18it/s]"
     ]
    },
    {
     "name": "stdout",
     "output_type": "stream",
     "text": [
      "Answers saved to outputs_pipeline/article5_answers03_1.json\n"
     ]
    },
    {
     "name": "stderr",
     "output_type": "stream",
     "text": [
      "Processing responses:  89%|████████▉ | 1891/2128 [12:36<03:22,  1.17it/s]"
     ]
    },
    {
     "name": "stdout",
     "output_type": "stream",
     "text": [
      "Answers saved to outputs_pipeline/article5_answers03_1.json\n"
     ]
    },
    {
     "name": "stderr",
     "output_type": "stream",
     "text": [
      "Processing responses:  89%|████████▉ | 1892/2128 [12:37<03:18,  1.19it/s]"
     ]
    },
    {
     "name": "stdout",
     "output_type": "stream",
     "text": [
      "Answers saved to outputs_pipeline/article5_answers03_1.json\n"
     ]
    },
    {
     "name": "stderr",
     "output_type": "stream",
     "text": [
      "Processing responses:  89%|████████▉ | 1893/2128 [12:38<03:33,  1.10it/s]"
     ]
    },
    {
     "name": "stdout",
     "output_type": "stream",
     "text": [
      "Answers saved to outputs_pipeline/article5_answers03_1.json\n"
     ]
    },
    {
     "name": "stderr",
     "output_type": "stream",
     "text": [
      "Processing responses:  89%|████████▉ | 1894/2128 [12:39<03:46,  1.03it/s]"
     ]
    },
    {
     "name": "stdout",
     "output_type": "stream",
     "text": [
      "Answers saved to outputs_pipeline/article5_answers03_1.json\n"
     ]
    },
    {
     "name": "stderr",
     "output_type": "stream",
     "text": [
      "Processing responses:  89%|████████▉ | 1895/2128 [12:40<03:29,  1.11it/s]"
     ]
    },
    {
     "name": "stdout",
     "output_type": "stream",
     "text": [
      "Answers saved to outputs_pipeline/article5_answers03_1.json\n"
     ]
    },
    {
     "name": "stderr",
     "output_type": "stream",
     "text": [
      "Processing responses:  89%|████████▉ | 1896/2128 [12:43<06:15,  1.62s/it]"
     ]
    },
    {
     "name": "stdout",
     "output_type": "stream",
     "text": [
      "Answers saved to outputs_pipeline/article5_answers03_1.json\n"
     ]
    },
    {
     "name": "stderr",
     "output_type": "stream",
     "text": [
      "Processing responses:  89%|████████▉ | 1897/2128 [12:44<05:41,  1.48s/it]"
     ]
    },
    {
     "name": "stdout",
     "output_type": "stream",
     "text": [
      "Answers saved to outputs_pipeline/article5_answers03_1.json\n"
     ]
    },
    {
     "name": "stderr",
     "output_type": "stream",
     "text": [
      "Processing responses:  89%|████████▉ | 1898/2128 [12:45<05:00,  1.30s/it]"
     ]
    },
    {
     "name": "stdout",
     "output_type": "stream",
     "text": [
      "Answers saved to outputs_pipeline/article5_answers03_1.json\n"
     ]
    },
    {
     "name": "stderr",
     "output_type": "stream",
     "text": [
      "Processing responses:  89%|████████▉ | 1899/2128 [12:46<04:35,  1.20s/it]"
     ]
    },
    {
     "name": "stdout",
     "output_type": "stream",
     "text": [
      "Answers saved to outputs_pipeline/article5_answers03_1.json\n"
     ]
    },
    {
     "name": "stderr",
     "output_type": "stream",
     "text": [
      "Processing responses:  89%|████████▉ | 1900/2128 [12:47<04:16,  1.12s/it]"
     ]
    },
    {
     "name": "stdout",
     "output_type": "stream",
     "text": [
      "Answers saved to outputs_pipeline/article5_answers03_1.json\n"
     ]
    },
    {
     "name": "stderr",
     "output_type": "stream",
     "text": [
      "Processing responses:  89%|████████▉ | 1901/2128 [12:48<04:09,  1.10s/it]"
     ]
    },
    {
     "name": "stdout",
     "output_type": "stream",
     "text": [
      "Answers saved to outputs_pipeline/article5_answers03_1.json\n"
     ]
    },
    {
     "name": "stderr",
     "output_type": "stream",
     "text": [
      "Processing responses:  89%|████████▉ | 1902/2128 [12:49<04:05,  1.09s/it]"
     ]
    },
    {
     "name": "stdout",
     "output_type": "stream",
     "text": [
      "Answers saved to outputs_pipeline/article5_answers03_1.json\n"
     ]
    },
    {
     "name": "stderr",
     "output_type": "stream",
     "text": [
      "Processing responses:  89%|████████▉ | 1903/2128 [12:50<03:52,  1.03s/it]"
     ]
    },
    {
     "name": "stdout",
     "output_type": "stream",
     "text": [
      "Answers saved to outputs_pipeline/article5_answers03_1.json\n"
     ]
    },
    {
     "name": "stderr",
     "output_type": "stream",
     "text": [
      "Processing responses:  89%|████████▉ | 1904/2128 [12:51<03:46,  1.01s/it]"
     ]
    },
    {
     "name": "stdout",
     "output_type": "stream",
     "text": [
      "Answers saved to outputs_pipeline/article5_answers03_1.json\n"
     ]
    },
    {
     "name": "stderr",
     "output_type": "stream",
     "text": [
      "Processing responses:  90%|████████▉ | 1905/2128 [12:52<03:43,  1.00s/it]"
     ]
    },
    {
     "name": "stdout",
     "output_type": "stream",
     "text": [
      "Answers saved to outputs_pipeline/article5_answers03_1.json\n"
     ]
    },
    {
     "name": "stderr",
     "output_type": "stream",
     "text": [
      "Processing responses:  90%|████████▉ | 1906/2128 [12:53<03:29,  1.06it/s]"
     ]
    },
    {
     "name": "stdout",
     "output_type": "stream",
     "text": [
      "Answers saved to outputs_pipeline/article5_answers03_1.json\n"
     ]
    },
    {
     "name": "stderr",
     "output_type": "stream",
     "text": [
      "Processing responses:  90%|████████▉ | 1907/2128 [12:54<03:33,  1.04it/s]"
     ]
    },
    {
     "name": "stdout",
     "output_type": "stream",
     "text": [
      "Answers saved to outputs_pipeline/article5_answers03_1.json\n"
     ]
    },
    {
     "name": "stderr",
     "output_type": "stream",
     "text": [
      "Processing responses:  90%|████████▉ | 1908/2128 [12:55<03:32,  1.04it/s]"
     ]
    },
    {
     "name": "stdout",
     "output_type": "stream",
     "text": [
      "Answers saved to outputs_pipeline/article5_answers03_1.json\n"
     ]
    },
    {
     "name": "stderr",
     "output_type": "stream",
     "text": [
      "Processing responses:  90%|████████▉ | 1909/2128 [12:56<03:48,  1.05s/it]"
     ]
    },
    {
     "name": "stdout",
     "output_type": "stream",
     "text": [
      "Answers saved to outputs_pipeline/article5_answers03_1.json\n"
     ]
    },
    {
     "name": "stderr",
     "output_type": "stream",
     "text": [
      "Processing responses:  90%|████████▉ | 1910/2128 [12:57<03:55,  1.08s/it]"
     ]
    },
    {
     "name": "stdout",
     "output_type": "stream",
     "text": [
      "Answers saved to outputs_pipeline/article5_answers03_1.json\n"
     ]
    },
    {
     "name": "stderr",
     "output_type": "stream",
     "text": [
      "Processing responses:  90%|████████▉ | 1911/2128 [12:58<03:52,  1.07s/it]"
     ]
    },
    {
     "name": "stdout",
     "output_type": "stream",
     "text": [
      "Answers saved to outputs_pipeline/article5_answers03_1.json\n"
     ]
    },
    {
     "name": "stderr",
     "output_type": "stream",
     "text": [
      "Processing responses:  90%|████████▉ | 1912/2128 [12:59<03:31,  1.02it/s]"
     ]
    },
    {
     "name": "stdout",
     "output_type": "stream",
     "text": [
      "Answers saved to outputs_pipeline/article5_answers03_1.json\n"
     ]
    },
    {
     "name": "stderr",
     "output_type": "stream",
     "text": [
      "Processing responses:  90%|████████▉ | 1913/2128 [13:00<03:28,  1.03it/s]"
     ]
    },
    {
     "name": "stdout",
     "output_type": "stream",
     "text": [
      "Answers saved to outputs_pipeline/article5_answers03_1.json\n"
     ]
    },
    {
     "name": "stderr",
     "output_type": "stream",
     "text": [
      "Processing responses:  90%|████████▉ | 1914/2128 [13:02<04:28,  1.25s/it]"
     ]
    },
    {
     "name": "stdout",
     "output_type": "stream",
     "text": [
      "Answers saved to outputs_pipeline/article5_answers03_1.json\n"
     ]
    },
    {
     "name": "stderr",
     "output_type": "stream",
     "text": [
      "Processing responses:  90%|████████▉ | 1915/2128 [13:03<04:09,  1.17s/it]"
     ]
    },
    {
     "name": "stdout",
     "output_type": "stream",
     "text": [
      "Answers saved to outputs_pipeline/article5_answers03_1.json\n"
     ]
    },
    {
     "name": "stderr",
     "output_type": "stream",
     "text": [
      "Processing responses:  90%|█████████ | 1916/2128 [13:04<03:56,  1.12s/it]"
     ]
    },
    {
     "name": "stdout",
     "output_type": "stream",
     "text": [
      "Answers saved to outputs_pipeline/article5_answers03_1.json\n"
     ]
    },
    {
     "name": "stderr",
     "output_type": "stream",
     "text": [
      "Processing responses:  90%|█████████ | 1917/2128 [13:05<04:23,  1.25s/it]"
     ]
    },
    {
     "name": "stdout",
     "output_type": "stream",
     "text": [
      "Answers saved to outputs_pipeline/article5_answers03_1.json\n"
     ]
    },
    {
     "name": "stderr",
     "output_type": "stream",
     "text": [
      "Processing responses:  90%|█████████ | 1918/2128 [13:06<03:57,  1.13s/it]"
     ]
    },
    {
     "name": "stdout",
     "output_type": "stream",
     "text": [
      "Answers saved to outputs_pipeline/article5_answers03_1.json\n"
     ]
    },
    {
     "name": "stderr",
     "output_type": "stream",
     "text": [
      "Processing responses:  90%|█████████ | 1919/2128 [13:08<04:40,  1.34s/it]"
     ]
    },
    {
     "name": "stdout",
     "output_type": "stream",
     "text": [
      "Answers saved to outputs_pipeline/article5_answers03_1.json\n"
     ]
    },
    {
     "name": "stderr",
     "output_type": "stream",
     "text": [
      "Processing responses:  90%|█████████ | 1920/2128 [13:09<04:26,  1.28s/it]"
     ]
    },
    {
     "name": "stdout",
     "output_type": "stream",
     "text": [
      "Answers saved to outputs_pipeline/article5_answers03_1.json\n"
     ]
    },
    {
     "name": "stderr",
     "output_type": "stream",
     "text": [
      "Processing responses:  90%|█████████ | 1921/2128 [13:13<07:20,  2.13s/it]"
     ]
    },
    {
     "name": "stdout",
     "output_type": "stream",
     "text": [
      "Answers saved to outputs_pipeline/article5_answers03_1.json\n"
     ]
    },
    {
     "name": "stderr",
     "output_type": "stream",
     "text": [
      "Processing responses:  90%|█████████ | 1922/2128 [13:14<06:20,  1.85s/it]"
     ]
    },
    {
     "name": "stdout",
     "output_type": "stream",
     "text": [
      "Answers saved to outputs_pipeline/article5_answers03_1.json\n"
     ]
    },
    {
     "name": "stderr",
     "output_type": "stream",
     "text": [
      "Processing responses:  90%|█████████ | 1923/2128 [13:15<05:33,  1.63s/it]"
     ]
    },
    {
     "name": "stdout",
     "output_type": "stream",
     "text": [
      "Answers saved to outputs_pipeline/article5_answers03_1.json\n"
     ]
    },
    {
     "name": "stderr",
     "output_type": "stream",
     "text": [
      "Processing responses:  90%|█████████ | 1924/2128 [13:16<04:39,  1.37s/it]"
     ]
    },
    {
     "name": "stdout",
     "output_type": "stream",
     "text": [
      "Answers saved to outputs_pipeline/article5_answers03_1.json\n"
     ]
    },
    {
     "name": "stderr",
     "output_type": "stream",
     "text": [
      "Processing responses:  90%|█████████ | 1925/2128 [13:17<04:06,  1.21s/it]"
     ]
    },
    {
     "name": "stdout",
     "output_type": "stream",
     "text": [
      "Answers saved to outputs_pipeline/article5_answers03_1.json\n"
     ]
    },
    {
     "name": "stderr",
     "output_type": "stream",
     "text": [
      "Processing responses:  91%|█████████ | 1926/2128 [13:18<03:36,  1.07s/it]"
     ]
    },
    {
     "name": "stdout",
     "output_type": "stream",
     "text": [
      "Answers saved to outputs_pipeline/article5_answers03_1.json\n"
     ]
    },
    {
     "name": "stderr",
     "output_type": "stream",
     "text": [
      "Processing responses:  91%|█████████ | 1927/2128 [13:19<03:16,  1.02it/s]"
     ]
    },
    {
     "name": "stdout",
     "output_type": "stream",
     "text": [
      "Answers saved to outputs_pipeline/article5_answers03_1.json\n"
     ]
    },
    {
     "name": "stderr",
     "output_type": "stream",
     "text": [
      "Processing responses:  91%|█████████ | 1928/2128 [13:19<03:12,  1.04it/s]"
     ]
    },
    {
     "name": "stdout",
     "output_type": "stream",
     "text": [
      "Answers saved to outputs_pipeline/article5_answers03_1.json\n"
     ]
    },
    {
     "name": "stderr",
     "output_type": "stream",
     "text": [
      "Processing responses:  91%|█████████ | 1929/2128 [13:20<02:58,  1.12it/s]"
     ]
    },
    {
     "name": "stdout",
     "output_type": "stream",
     "text": [
      "Answers saved to outputs_pipeline/article5_answers03_1.json\n"
     ]
    },
    {
     "name": "stderr",
     "output_type": "stream",
     "text": [
      "Processing responses:  91%|█████████ | 1930/2128 [13:21<02:56,  1.12it/s]"
     ]
    },
    {
     "name": "stdout",
     "output_type": "stream",
     "text": [
      "Answers saved to outputs_pipeline/article5_answers03_1.json\n"
     ]
    },
    {
     "name": "stderr",
     "output_type": "stream",
     "text": [
      "Processing responses:  91%|█████████ | 1931/2128 [13:22<03:10,  1.03it/s]"
     ]
    },
    {
     "name": "stdout",
     "output_type": "stream",
     "text": [
      "Answers saved to outputs_pipeline/article5_answers03_1.json\n"
     ]
    },
    {
     "name": "stderr",
     "output_type": "stream",
     "text": [
      "Processing responses:  91%|█████████ | 1932/2128 [13:23<03:16,  1.01s/it]"
     ]
    },
    {
     "name": "stdout",
     "output_type": "stream",
     "text": [
      "Answers saved to outputs_pipeline/article5_answers03_1.json\n"
     ]
    },
    {
     "name": "stderr",
     "output_type": "stream",
     "text": [
      "Processing responses:  91%|█████████ | 1933/2128 [13:25<03:38,  1.12s/it]"
     ]
    },
    {
     "name": "stdout",
     "output_type": "stream",
     "text": [
      "Answers saved to outputs_pipeline/article5_answers03_1.json\n"
     ]
    },
    {
     "name": "stderr",
     "output_type": "stream",
     "text": [
      "Processing responses:  91%|█████████ | 1934/2128 [13:26<03:32,  1.10s/it]"
     ]
    },
    {
     "name": "stdout",
     "output_type": "stream",
     "text": [
      "Answers saved to outputs_pipeline/article5_answers03_1.json\n"
     ]
    },
    {
     "name": "stderr",
     "output_type": "stream",
     "text": [
      "Processing responses:  91%|█████████ | 1935/2128 [13:27<03:25,  1.07s/it]"
     ]
    },
    {
     "name": "stdout",
     "output_type": "stream",
     "text": [
      "Answers saved to outputs_pipeline/article5_answers03_1.json\n"
     ]
    },
    {
     "name": "stderr",
     "output_type": "stream",
     "text": [
      "Processing responses:  91%|█████████ | 1936/2128 [13:28<03:15,  1.02s/it]"
     ]
    },
    {
     "name": "stdout",
     "output_type": "stream",
     "text": [
      "Answers saved to outputs_pipeline/article5_answers03_1.json\n"
     ]
    },
    {
     "name": "stderr",
     "output_type": "stream",
     "text": [
      "Processing responses:  91%|█████████ | 1937/2128 [13:29<03:29,  1.10s/it]"
     ]
    },
    {
     "name": "stdout",
     "output_type": "stream",
     "text": [
      "Answers saved to outputs_pipeline/article5_answers03_1.json\n"
     ]
    },
    {
     "name": "stderr",
     "output_type": "stream",
     "text": [
      "Processing responses:  91%|█████████ | 1938/2128 [13:30<03:33,  1.12s/it]"
     ]
    },
    {
     "name": "stdout",
     "output_type": "stream",
     "text": [
      "Answers saved to outputs_pipeline/article5_answers03_1.json\n"
     ]
    },
    {
     "name": "stderr",
     "output_type": "stream",
     "text": [
      "Processing responses:  91%|█████████ | 1939/2128 [13:31<03:21,  1.07s/it]"
     ]
    },
    {
     "name": "stdout",
     "output_type": "stream",
     "text": [
      "Answers saved to outputs_pipeline/article5_answers03_1.json\n"
     ]
    },
    {
     "name": "stderr",
     "output_type": "stream",
     "text": [
      "Processing responses:  91%|█████████ | 1940/2128 [13:32<03:23,  1.09s/it]"
     ]
    },
    {
     "name": "stdout",
     "output_type": "stream",
     "text": [
      "Answers saved to outputs_pipeline/article5_answers03_1.json\n"
     ]
    },
    {
     "name": "stderr",
     "output_type": "stream",
     "text": [
      "Processing responses:  91%|█████████ | 1941/2128 [13:33<03:22,  1.08s/it]"
     ]
    },
    {
     "name": "stdout",
     "output_type": "stream",
     "text": [
      "Answers saved to outputs_pipeline/article5_answers03_1.json\n"
     ]
    },
    {
     "name": "stderr",
     "output_type": "stream",
     "text": [
      "Processing responses:  91%|█████████▏| 1942/2128 [13:34<03:24,  1.10s/it]"
     ]
    },
    {
     "name": "stdout",
     "output_type": "stream",
     "text": [
      "Answers saved to outputs_pipeline/article5_answers03_1.json\n"
     ]
    },
    {
     "name": "stderr",
     "output_type": "stream",
     "text": [
      "Processing responses:  91%|█████████▏| 1943/2128 [13:36<04:13,  1.37s/it]"
     ]
    },
    {
     "name": "stdout",
     "output_type": "stream",
     "text": [
      "Answers saved to outputs_pipeline/article5_answers03_1.json\n"
     ]
    },
    {
     "name": "stderr",
     "output_type": "stream",
     "text": [
      "Processing responses:  91%|█████████▏| 1944/2128 [13:38<04:27,  1.46s/it]"
     ]
    },
    {
     "name": "stdout",
     "output_type": "stream",
     "text": [
      "Answers saved to outputs_pipeline/article5_answers03_1.json\n"
     ]
    },
    {
     "name": "stderr",
     "output_type": "stream",
     "text": [
      "Processing responses:  91%|█████████▏| 1945/2128 [13:39<03:49,  1.25s/it]"
     ]
    },
    {
     "name": "stdout",
     "output_type": "stream",
     "text": [
      "Answers saved to outputs_pipeline/article5_answers03_1.json\n"
     ]
    },
    {
     "name": "stderr",
     "output_type": "stream",
     "text": [
      "Processing responses:  91%|█████████▏| 1946/2128 [13:40<03:22,  1.11s/it]"
     ]
    },
    {
     "name": "stdout",
     "output_type": "stream",
     "text": [
      "Answers saved to outputs_pipeline/article5_answers03_1.json\n"
     ]
    },
    {
     "name": "stderr",
     "output_type": "stream",
     "text": [
      "Processing responses:  91%|█████████▏| 1947/2128 [13:40<03:03,  1.01s/it]"
     ]
    },
    {
     "name": "stdout",
     "output_type": "stream",
     "text": [
      "Answers saved to outputs_pipeline/article5_answers03_1.json\n"
     ]
    },
    {
     "name": "stderr",
     "output_type": "stream",
     "text": [
      "Processing responses:  92%|█████████▏| 1948/2128 [13:41<02:55,  1.02it/s]"
     ]
    },
    {
     "name": "stdout",
     "output_type": "stream",
     "text": [
      "Answers saved to outputs_pipeline/article5_answers03_1.json\n"
     ]
    },
    {
     "name": "stderr",
     "output_type": "stream",
     "text": [
      "Processing responses:  92%|█████████▏| 1949/2128 [13:42<02:43,  1.09it/s]"
     ]
    },
    {
     "name": "stdout",
     "output_type": "stream",
     "text": [
      "Answers saved to outputs_pipeline/article5_answers03_1.json\n"
     ]
    },
    {
     "name": "stderr",
     "output_type": "stream",
     "text": [
      "Processing responses:  92%|█████████▏| 1950/2128 [13:43<02:34,  1.15it/s]"
     ]
    },
    {
     "name": "stdout",
     "output_type": "stream",
     "text": [
      "Answers saved to outputs_pipeline/article5_answers03_1.json\n"
     ]
    },
    {
     "name": "stderr",
     "output_type": "stream",
     "text": [
      "Processing responses:  92%|█████████▏| 1951/2128 [13:44<02:40,  1.10it/s]"
     ]
    },
    {
     "name": "stdout",
     "output_type": "stream",
     "text": [
      "Answers saved to outputs_pipeline/article5_answers03_1.json\n"
     ]
    },
    {
     "name": "stderr",
     "output_type": "stream",
     "text": [
      "Processing responses:  92%|█████████▏| 1952/2128 [13:45<02:42,  1.08it/s]"
     ]
    },
    {
     "name": "stdout",
     "output_type": "stream",
     "text": [
      "Answers saved to outputs_pipeline/article5_answers03_1.json\n"
     ]
    },
    {
     "name": "stderr",
     "output_type": "stream",
     "text": [
      "Processing responses:  92%|█████████▏| 1953/2128 [13:46<02:45,  1.06it/s]"
     ]
    },
    {
     "name": "stdout",
     "output_type": "stream",
     "text": [
      "Answers saved to outputs_pipeline/article5_answers03_1.json\n"
     ]
    },
    {
     "name": "stderr",
     "output_type": "stream",
     "text": [
      "Processing responses:  92%|█████████▏| 1954/2128 [13:47<02:40,  1.08it/s]"
     ]
    },
    {
     "name": "stdout",
     "output_type": "stream",
     "text": [
      "Answers saved to outputs_pipeline/article5_answers03_1.json\n"
     ]
    },
    {
     "name": "stderr",
     "output_type": "stream",
     "text": [
      "Processing responses:  92%|█████████▏| 1955/2128 [13:47<02:31,  1.14it/s]"
     ]
    },
    {
     "name": "stdout",
     "output_type": "stream",
     "text": [
      "Answers saved to outputs_pipeline/article5_answers03_1.json\n"
     ]
    },
    {
     "name": "stderr",
     "output_type": "stream",
     "text": [
      "Processing responses:  92%|█████████▏| 1956/2128 [13:48<02:27,  1.17it/s]"
     ]
    },
    {
     "name": "stdout",
     "output_type": "stream",
     "text": [
      "Answers saved to outputs_pipeline/article5_answers03_1.json\n"
     ]
    },
    {
     "name": "stderr",
     "output_type": "stream",
     "text": [
      "Processing responses:  92%|█████████▏| 1957/2128 [13:49<02:25,  1.18it/s]"
     ]
    },
    {
     "name": "stdout",
     "output_type": "stream",
     "text": [
      "Answers saved to outputs_pipeline/article5_answers03_1.json\n"
     ]
    },
    {
     "name": "stderr",
     "output_type": "stream",
     "text": [
      "Processing responses:  92%|█████████▏| 1958/2128 [13:50<02:23,  1.19it/s]"
     ]
    },
    {
     "name": "stdout",
     "output_type": "stream",
     "text": [
      "Answers saved to outputs_pipeline/article5_answers03_1.json\n"
     ]
    },
    {
     "name": "stderr",
     "output_type": "stream",
     "text": [
      "Processing responses:  92%|█████████▏| 1959/2128 [13:51<02:29,  1.13it/s]"
     ]
    },
    {
     "name": "stdout",
     "output_type": "stream",
     "text": [
      "Answers saved to outputs_pipeline/article5_answers03_1.json\n"
     ]
    },
    {
     "name": "stderr",
     "output_type": "stream",
     "text": [
      "Processing responses:  92%|█████████▏| 1960/2128 [13:52<02:22,  1.18it/s]"
     ]
    },
    {
     "name": "stdout",
     "output_type": "stream",
     "text": [
      "Answers saved to outputs_pipeline/article5_answers03_1.json\n"
     ]
    },
    {
     "name": "stderr",
     "output_type": "stream",
     "text": [
      "Processing responses:  92%|█████████▏| 1961/2128 [13:52<02:17,  1.22it/s]"
     ]
    },
    {
     "name": "stdout",
     "output_type": "stream",
     "text": [
      "Answers saved to outputs_pipeline/article5_answers03_1.json\n"
     ]
    },
    {
     "name": "stderr",
     "output_type": "stream",
     "text": [
      "Processing responses:  92%|█████████▏| 1962/2128 [13:53<02:15,  1.22it/s]"
     ]
    },
    {
     "name": "stdout",
     "output_type": "stream",
     "text": [
      "Answers saved to outputs_pipeline/article5_answers03_1.json\n"
     ]
    },
    {
     "name": "stderr",
     "output_type": "stream",
     "text": [
      "Processing responses:  92%|█████████▏| 1963/2128 [13:54<02:20,  1.18it/s]"
     ]
    },
    {
     "name": "stdout",
     "output_type": "stream",
     "text": [
      "Answers saved to outputs_pipeline/article5_answers03_1.json\n"
     ]
    },
    {
     "name": "stderr",
     "output_type": "stream",
     "text": [
      "Processing responses:  92%|█████████▏| 1964/2128 [13:55<02:16,  1.20it/s]"
     ]
    },
    {
     "name": "stdout",
     "output_type": "stream",
     "text": [
      "Answers saved to outputs_pipeline/article5_answers03_1.json\n"
     ]
    },
    {
     "name": "stderr",
     "output_type": "stream",
     "text": [
      "Processing responses:  92%|█████████▏| 1965/2128 [13:56<02:12,  1.23it/s]"
     ]
    },
    {
     "name": "stdout",
     "output_type": "stream",
     "text": [
      "Answers saved to outputs_pipeline/article5_answers03_1.json\n"
     ]
    },
    {
     "name": "stderr",
     "output_type": "stream",
     "text": [
      "Processing responses:  92%|█████████▏| 1966/2128 [13:57<02:19,  1.16it/s]"
     ]
    },
    {
     "name": "stdout",
     "output_type": "stream",
     "text": [
      "Answers saved to outputs_pipeline/article5_answers03_1.json\n"
     ]
    },
    {
     "name": "stderr",
     "output_type": "stream",
     "text": [
      "Processing responses:  92%|█████████▏| 1967/2128 [13:58<02:17,  1.17it/s]"
     ]
    },
    {
     "name": "stdout",
     "output_type": "stream",
     "text": [
      "Answers saved to outputs_pipeline/article5_answers03_1.json\n"
     ]
    },
    {
     "name": "stderr",
     "output_type": "stream",
     "text": [
      "Processing responses:  92%|█████████▏| 1968/2128 [13:58<02:13,  1.20it/s]"
     ]
    },
    {
     "name": "stdout",
     "output_type": "stream",
     "text": [
      "Answers saved to outputs_pipeline/article5_answers03_1.json\n"
     ]
    },
    {
     "name": "stderr",
     "output_type": "stream",
     "text": [
      "Processing responses:  93%|█████████▎| 1969/2128 [13:59<02:09,  1.23it/s]"
     ]
    },
    {
     "name": "stdout",
     "output_type": "stream",
     "text": [
      "Answers saved to outputs_pipeline/article5_answers03_1.json\n"
     ]
    },
    {
     "name": "stderr",
     "output_type": "stream",
     "text": [
      "Processing responses:  93%|█████████▎| 1970/2128 [14:00<02:07,  1.24it/s]"
     ]
    },
    {
     "name": "stdout",
     "output_type": "stream",
     "text": [
      "Answers saved to outputs_pipeline/article5_answers03_1.json\n"
     ]
    },
    {
     "name": "stderr",
     "output_type": "stream",
     "text": [
      "Processing responses:  93%|█████████▎| 1971/2128 [14:01<02:11,  1.19it/s]"
     ]
    },
    {
     "name": "stdout",
     "output_type": "stream",
     "text": [
      "Answers saved to outputs_pipeline/article5_answers03_1.json\n"
     ]
    },
    {
     "name": "stderr",
     "output_type": "stream",
     "text": [
      "Processing responses:  93%|█████████▎| 1972/2128 [14:02<02:08,  1.21it/s]"
     ]
    },
    {
     "name": "stdout",
     "output_type": "stream",
     "text": [
      "Answers saved to outputs_pipeline/article5_answers03_1.json\n"
     ]
    },
    {
     "name": "stderr",
     "output_type": "stream",
     "text": [
      "Processing responses:  93%|█████████▎| 1973/2128 [14:02<02:06,  1.23it/s]"
     ]
    },
    {
     "name": "stdout",
     "output_type": "stream",
     "text": [
      "Answers saved to outputs_pipeline/article5_answers03_1.json\n"
     ]
    },
    {
     "name": "stderr",
     "output_type": "stream",
     "text": [
      "Processing responses:  93%|█████████▎| 1974/2128 [14:03<02:02,  1.26it/s]"
     ]
    },
    {
     "name": "stdout",
     "output_type": "stream",
     "text": [
      "Answers saved to outputs_pipeline/article5_answers03_1.json\n"
     ]
    },
    {
     "name": "stderr",
     "output_type": "stream",
     "text": [
      "Processing responses:  93%|█████████▎| 1975/2128 [14:04<02:03,  1.24it/s]"
     ]
    },
    {
     "name": "stdout",
     "output_type": "stream",
     "text": [
      "Answers saved to outputs_pipeline/article5_answers03_1.json\n"
     ]
    },
    {
     "name": "stderr",
     "output_type": "stream",
     "text": [
      "Processing responses:  93%|█████████▎| 1976/2128 [14:05<02:00,  1.26it/s]"
     ]
    },
    {
     "name": "stdout",
     "output_type": "stream",
     "text": [
      "Answers saved to outputs_pipeline/article5_answers03_1.json\n"
     ]
    },
    {
     "name": "stderr",
     "output_type": "stream",
     "text": [
      "Processing responses:  93%|█████████▎| 1977/2128 [14:06<02:00,  1.26it/s]"
     ]
    },
    {
     "name": "stdout",
     "output_type": "stream",
     "text": [
      "Answers saved to outputs_pipeline/article5_answers03_1.json\n"
     ]
    },
    {
     "name": "stderr",
     "output_type": "stream",
     "text": [
      "Processing responses:  93%|█████████▎| 1978/2128 [14:06<02:00,  1.25it/s]"
     ]
    },
    {
     "name": "stdout",
     "output_type": "stream",
     "text": [
      "Answers saved to outputs_pipeline/article5_answers03_1.json\n"
     ]
    },
    {
     "name": "stderr",
     "output_type": "stream",
     "text": [
      "Processing responses:  93%|█████████▎| 1979/2128 [14:07<01:59,  1.25it/s]"
     ]
    },
    {
     "name": "stdout",
     "output_type": "stream",
     "text": [
      "Answers saved to outputs_pipeline/article5_answers03_1.json\n"
     ]
    },
    {
     "name": "stderr",
     "output_type": "stream",
     "text": [
      "Processing responses:  93%|█████████▎| 1980/2128 [14:08<01:57,  1.26it/s]"
     ]
    },
    {
     "name": "stdout",
     "output_type": "stream",
     "text": [
      "Answers saved to outputs_pipeline/article5_answers03_1.json\n"
     ]
    },
    {
     "name": "stderr",
     "output_type": "stream",
     "text": [
      "Processing responses:  93%|█████████▎| 1981/2128 [14:09<01:56,  1.26it/s]"
     ]
    },
    {
     "name": "stdout",
     "output_type": "stream",
     "text": [
      "Answers saved to outputs_pipeline/article5_answers03_1.json\n"
     ]
    },
    {
     "name": "stderr",
     "output_type": "stream",
     "text": [
      "Processing responses:  93%|█████████▎| 1982/2128 [14:09<01:54,  1.27it/s]"
     ]
    },
    {
     "name": "stdout",
     "output_type": "stream",
     "text": [
      "Answers saved to outputs_pipeline/article5_answers03_1.json\n"
     ]
    },
    {
     "name": "stderr",
     "output_type": "stream",
     "text": [
      "Processing responses:  93%|█████████▎| 1983/2128 [14:10<01:54,  1.27it/s]"
     ]
    },
    {
     "name": "stdout",
     "output_type": "stream",
     "text": [
      "Answers saved to outputs_pipeline/article5_answers03_1.json\n"
     ]
    },
    {
     "name": "stderr",
     "output_type": "stream",
     "text": [
      "Processing responses:  93%|█████████▎| 1984/2128 [14:11<01:52,  1.28it/s]"
     ]
    },
    {
     "name": "stdout",
     "output_type": "stream",
     "text": [
      "Answers saved to outputs_pipeline/article5_answers03_1.json\n"
     ]
    },
    {
     "name": "stderr",
     "output_type": "stream",
     "text": [
      "Processing responses:  93%|█████████▎| 1985/2128 [14:12<01:51,  1.28it/s]"
     ]
    },
    {
     "name": "stdout",
     "output_type": "stream",
     "text": [
      "Answers saved to outputs_pipeline/article5_answers03_1.json\n"
     ]
    },
    {
     "name": "stderr",
     "output_type": "stream",
     "text": [
      "Processing responses:  93%|█████████▎| 1986/2128 [14:13<01:51,  1.28it/s]"
     ]
    },
    {
     "name": "stdout",
     "output_type": "stream",
     "text": [
      "Answers saved to outputs_pipeline/article5_answers03_1.json\n"
     ]
    },
    {
     "name": "stderr",
     "output_type": "stream",
     "text": [
      "Processing responses:  93%|█████████▎| 1987/2128 [14:13<01:50,  1.27it/s]"
     ]
    },
    {
     "name": "stdout",
     "output_type": "stream",
     "text": [
      "Answers saved to outputs_pipeline/article5_answers03_1.json\n"
     ]
    },
    {
     "name": "stderr",
     "output_type": "stream",
     "text": [
      "Processing responses:  93%|█████████▎| 1988/2128 [14:14<01:49,  1.28it/s]"
     ]
    },
    {
     "name": "stdout",
     "output_type": "stream",
     "text": [
      "Answers saved to outputs_pipeline/article5_answers03_1.json\n"
     ]
    },
    {
     "name": "stderr",
     "output_type": "stream",
     "text": [
      "Processing responses:  93%|█████████▎| 1989/2128 [14:15<01:55,  1.21it/s]"
     ]
    },
    {
     "name": "stdout",
     "output_type": "stream",
     "text": [
      "Answers saved to outputs_pipeline/article5_answers03_1.json\n"
     ]
    },
    {
     "name": "stderr",
     "output_type": "stream",
     "text": [
      "Processing responses:  94%|█████████▎| 1990/2128 [14:16<01:52,  1.23it/s]"
     ]
    },
    {
     "name": "stdout",
     "output_type": "stream",
     "text": [
      "Answers saved to outputs_pipeline/article5_answers03_1.json\n"
     ]
    },
    {
     "name": "stderr",
     "output_type": "stream",
     "text": [
      "Processing responses:  94%|█████████▎| 1991/2128 [14:17<01:53,  1.21it/s]"
     ]
    },
    {
     "name": "stdout",
     "output_type": "stream",
     "text": [
      "Answers saved to outputs_pipeline/article5_answers03_1.json\n"
     ]
    },
    {
     "name": "stderr",
     "output_type": "stream",
     "text": [
      "Processing responses:  94%|█████████▎| 1992/2128 [14:18<01:50,  1.24it/s]"
     ]
    },
    {
     "name": "stdout",
     "output_type": "stream",
     "text": [
      "Answers saved to outputs_pipeline/article5_answers03_1.json\n"
     ]
    },
    {
     "name": "stderr",
     "output_type": "stream",
     "text": [
      "Processing responses:  94%|█████████▎| 1993/2128 [14:18<01:47,  1.25it/s]"
     ]
    },
    {
     "name": "stdout",
     "output_type": "stream",
     "text": [
      "Answers saved to outputs_pipeline/article5_answers03_1.json\n"
     ]
    },
    {
     "name": "stderr",
     "output_type": "stream",
     "text": [
      "Processing responses:  94%|█████████▎| 1994/2128 [14:19<01:47,  1.25it/s]"
     ]
    },
    {
     "name": "stdout",
     "output_type": "stream",
     "text": [
      "Answers saved to outputs_pipeline/article5_answers03_1.json\n"
     ]
    },
    {
     "name": "stderr",
     "output_type": "stream",
     "text": [
      "Processing responses:  94%|█████████▍| 1995/2128 [14:20<01:47,  1.24it/s]"
     ]
    },
    {
     "name": "stdout",
     "output_type": "stream",
     "text": [
      "Answers saved to outputs_pipeline/article5_answers03_1.json\n"
     ]
    },
    {
     "name": "stderr",
     "output_type": "stream",
     "text": [
      "Processing responses:  94%|█████████▍| 1996/2128 [14:21<01:51,  1.18it/s]"
     ]
    },
    {
     "name": "stdout",
     "output_type": "stream",
     "text": [
      "Answers saved to outputs_pipeline/article5_answers03_1.json\n"
     ]
    },
    {
     "name": "stderr",
     "output_type": "stream",
     "text": [
      "Processing responses:  94%|█████████▍| 1997/2128 [14:22<01:47,  1.21it/s]"
     ]
    },
    {
     "name": "stdout",
     "output_type": "stream",
     "text": [
      "Answers saved to outputs_pipeline/article5_answers03_1.json\n"
     ]
    },
    {
     "name": "stderr",
     "output_type": "stream",
     "text": [
      "Processing responses:  94%|█████████▍| 1998/2128 [14:22<01:45,  1.23it/s]"
     ]
    },
    {
     "name": "stdout",
     "output_type": "stream",
     "text": [
      "Answers saved to outputs_pipeline/article5_answers03_1.json\n"
     ]
    },
    {
     "name": "stderr",
     "output_type": "stream",
     "text": [
      "Processing responses:  94%|█████████▍| 1999/2128 [14:23<01:45,  1.23it/s]"
     ]
    },
    {
     "name": "stdout",
     "output_type": "stream",
     "text": [
      "Answers saved to outputs_pipeline/article5_answers03_1.json\n"
     ]
    },
    {
     "name": "stderr",
     "output_type": "stream",
     "text": [
      "Processing responses:  94%|█████████▍| 2000/2128 [14:24<01:42,  1.25it/s]"
     ]
    },
    {
     "name": "stdout",
     "output_type": "stream",
     "text": [
      "Answers saved to outputs_pipeline/article5_answers03_1.json\n"
     ]
    },
    {
     "name": "stderr",
     "output_type": "stream",
     "text": [
      "Processing responses:  94%|█████████▍| 2001/2128 [14:25<01:56,  1.09it/s]"
     ]
    },
    {
     "name": "stdout",
     "output_type": "stream",
     "text": [
      "Answers saved to outputs_pipeline/article5_answers03_1.json\n"
     ]
    },
    {
     "name": "stderr",
     "output_type": "stream",
     "text": [
      "Processing responses:  94%|█████████▍| 2002/2128 [14:26<01:50,  1.14it/s]"
     ]
    },
    {
     "name": "stdout",
     "output_type": "stream",
     "text": [
      "Answers saved to outputs_pipeline/article5_answers03_1.json\n"
     ]
    },
    {
     "name": "stderr",
     "output_type": "stream",
     "text": [
      "Processing responses:  94%|█████████▍| 2003/2128 [14:27<01:45,  1.18it/s]"
     ]
    },
    {
     "name": "stdout",
     "output_type": "stream",
     "text": [
      "Answers saved to outputs_pipeline/article5_answers03_1.json\n"
     ]
    },
    {
     "name": "stderr",
     "output_type": "stream",
     "text": [
      "Processing responses:  94%|█████████▍| 2004/2128 [14:28<01:45,  1.18it/s]"
     ]
    },
    {
     "name": "stdout",
     "output_type": "stream",
     "text": [
      "Answers saved to outputs_pipeline/article5_answers03_1.json\n"
     ]
    },
    {
     "name": "stderr",
     "output_type": "stream",
     "text": [
      "Processing responses:  94%|█████████▍| 2005/2128 [14:28<01:41,  1.21it/s]"
     ]
    },
    {
     "name": "stdout",
     "output_type": "stream",
     "text": [
      "Answers saved to outputs_pipeline/article5_answers03_1.json\n"
     ]
    },
    {
     "name": "stderr",
     "output_type": "stream",
     "text": [
      "Processing responses:  94%|█████████▍| 2006/2128 [14:29<01:39,  1.22it/s]"
     ]
    },
    {
     "name": "stdout",
     "output_type": "stream",
     "text": [
      "Answers saved to outputs_pipeline/article5_answers03_1.json\n"
     ]
    },
    {
     "name": "stderr",
     "output_type": "stream",
     "text": [
      "Processing responses:  94%|█████████▍| 2007/2128 [14:30<01:38,  1.23it/s]"
     ]
    },
    {
     "name": "stdout",
     "output_type": "stream",
     "text": [
      "Answers saved to outputs_pipeline/article5_answers03_1.json\n"
     ]
    },
    {
     "name": "stderr",
     "output_type": "stream",
     "text": [
      "Processing responses:  94%|█████████▍| 2008/2128 [14:31<01:38,  1.22it/s]"
     ]
    },
    {
     "name": "stdout",
     "output_type": "stream",
     "text": [
      "Answers saved to outputs_pipeline/article5_answers03_1.json\n"
     ]
    },
    {
     "name": "stderr",
     "output_type": "stream",
     "text": [
      "Processing responses:  94%|█████████▍| 2009/2128 [14:32<01:36,  1.24it/s]"
     ]
    },
    {
     "name": "stdout",
     "output_type": "stream",
     "text": [
      "Answers saved to outputs_pipeline/article5_answers03_1.json\n"
     ]
    },
    {
     "name": "stderr",
     "output_type": "stream",
     "text": [
      "Processing responses:  94%|█████████▍| 2010/2128 [14:32<01:34,  1.25it/s]"
     ]
    },
    {
     "name": "stdout",
     "output_type": "stream",
     "text": [
      "Answers saved to outputs_pipeline/article5_answers03_1.json\n"
     ]
    },
    {
     "name": "stderr",
     "output_type": "stream",
     "text": [
      "Processing responses:  95%|█████████▍| 2011/2128 [14:33<01:38,  1.19it/s]"
     ]
    },
    {
     "name": "stdout",
     "output_type": "stream",
     "text": [
      "Answers saved to outputs_pipeline/article5_answers03_1.json\n"
     ]
    },
    {
     "name": "stderr",
     "output_type": "stream",
     "text": [
      "Processing responses:  95%|█████████▍| 2012/2128 [14:34<01:37,  1.19it/s]"
     ]
    },
    {
     "name": "stdout",
     "output_type": "stream",
     "text": [
      "Answers saved to outputs_pipeline/article5_answers03_1.json\n"
     ]
    },
    {
     "name": "stderr",
     "output_type": "stream",
     "text": [
      "Processing responses:  95%|█████████▍| 2013/2128 [14:35<01:34,  1.21it/s]"
     ]
    },
    {
     "name": "stdout",
     "output_type": "stream",
     "text": [
      "Answers saved to outputs_pipeline/article5_answers03_1.json\n"
     ]
    },
    {
     "name": "stderr",
     "output_type": "stream",
     "text": [
      "Processing responses:  95%|█████████▍| 2014/2128 [14:36<01:37,  1.17it/s]"
     ]
    },
    {
     "name": "stdout",
     "output_type": "stream",
     "text": [
      "Answers saved to outputs_pipeline/article5_answers03_1.json\n"
     ]
    },
    {
     "name": "stderr",
     "output_type": "stream",
     "text": [
      "Processing responses:  95%|█████████▍| 2015/2128 [14:37<01:35,  1.19it/s]"
     ]
    },
    {
     "name": "stdout",
     "output_type": "stream",
     "text": [
      "Answers saved to outputs_pipeline/article5_answers03_1.json\n"
     ]
    },
    {
     "name": "stderr",
     "output_type": "stream",
     "text": [
      "Processing responses:  95%|█████████▍| 2016/2128 [14:37<01:33,  1.19it/s]"
     ]
    },
    {
     "name": "stdout",
     "output_type": "stream",
     "text": [
      "Answers saved to outputs_pipeline/article5_answers03_1.json\n"
     ]
    },
    {
     "name": "stderr",
     "output_type": "stream",
     "text": [
      "Processing responses:  95%|█████████▍| 2017/2128 [14:38<01:31,  1.22it/s]"
     ]
    },
    {
     "name": "stdout",
     "output_type": "stream",
     "text": [
      "Answers saved to outputs_pipeline/article5_answers03_1.json\n"
     ]
    },
    {
     "name": "stderr",
     "output_type": "stream",
     "text": [
      "Processing responses:  95%|█████████▍| 2018/2128 [14:39<01:28,  1.24it/s]"
     ]
    },
    {
     "name": "stdout",
     "output_type": "stream",
     "text": [
      "Answers saved to outputs_pipeline/article5_answers03_1.json\n"
     ]
    },
    {
     "name": "stderr",
     "output_type": "stream",
     "text": [
      "Processing responses:  95%|█████████▍| 2019/2128 [14:41<01:53,  1.04s/it]"
     ]
    },
    {
     "name": "stdout",
     "output_type": "stream",
     "text": [
      "Answers saved to outputs_pipeline/article5_answers03_1.json\n"
     ]
    },
    {
     "name": "stderr",
     "output_type": "stream",
     "text": [
      "Processing responses:  95%|█████████▍| 2020/2128 [14:41<01:44,  1.03it/s]"
     ]
    },
    {
     "name": "stdout",
     "output_type": "stream",
     "text": [
      "Answers saved to outputs_pipeline/article5_answers03_1.json\n"
     ]
    },
    {
     "name": "stderr",
     "output_type": "stream",
     "text": [
      "Processing responses:  95%|█████████▍| 2021/2128 [14:42<01:37,  1.09it/s]"
     ]
    },
    {
     "name": "stdout",
     "output_type": "stream",
     "text": [
      "Answers saved to outputs_pipeline/article5_answers03_1.json\n"
     ]
    },
    {
     "name": "stderr",
     "output_type": "stream",
     "text": [
      "Processing responses:  95%|█████████▌| 2022/2128 [14:43<01:32,  1.14it/s]"
     ]
    },
    {
     "name": "stdout",
     "output_type": "stream",
     "text": [
      "Answers saved to outputs_pipeline/article5_answers03_1.json\n"
     ]
    },
    {
     "name": "stderr",
     "output_type": "stream",
     "text": [
      "Processing responses:  95%|█████████▌| 2023/2128 [14:45<01:52,  1.07s/it]"
     ]
    },
    {
     "name": "stdout",
     "output_type": "stream",
     "text": [
      "Answers saved to outputs_pipeline/article5_answers03_1.json\n"
     ]
    },
    {
     "name": "stderr",
     "output_type": "stream",
     "text": [
      "Processing responses:  95%|█████████▌| 2024/2128 [14:45<01:47,  1.04s/it]"
     ]
    },
    {
     "name": "stdout",
     "output_type": "stream",
     "text": [
      "Answers saved to outputs_pipeline/article5_answers03_1.json\n"
     ]
    },
    {
     "name": "stderr",
     "output_type": "stream",
     "text": [
      "Processing responses:  95%|█████████▌| 2025/2128 [14:46<01:38,  1.04it/s]"
     ]
    },
    {
     "name": "stdout",
     "output_type": "stream",
     "text": [
      "Answers saved to outputs_pipeline/article5_answers03_1.json\n"
     ]
    },
    {
     "name": "stderr",
     "output_type": "stream",
     "text": [
      "Processing responses:  95%|█████████▌| 2026/2128 [14:47<01:32,  1.10it/s]"
     ]
    },
    {
     "name": "stdout",
     "output_type": "stream",
     "text": [
      "Answers saved to outputs_pipeline/article5_answers03_1.json\n"
     ]
    },
    {
     "name": "stderr",
     "output_type": "stream",
     "text": [
      "Processing responses:  95%|█████████▌| 2027/2128 [14:48<01:27,  1.15it/s]"
     ]
    },
    {
     "name": "stdout",
     "output_type": "stream",
     "text": [
      "Answers saved to outputs_pipeline/article5_answers03_1.json\n"
     ]
    },
    {
     "name": "stderr",
     "output_type": "stream",
     "text": [
      "Processing responses:  95%|█████████▌| 2028/2128 [14:49<01:25,  1.17it/s]"
     ]
    },
    {
     "name": "stdout",
     "output_type": "stream",
     "text": [
      "Answers saved to outputs_pipeline/article5_answers03_1.json\n"
     ]
    },
    {
     "name": "stderr",
     "output_type": "stream",
     "text": [
      "Processing responses:  95%|█████████▌| 2029/2128 [14:49<01:22,  1.20it/s]"
     ]
    },
    {
     "name": "stdout",
     "output_type": "stream",
     "text": [
      "Answers saved to outputs_pipeline/article5_answers03_1.json\n"
     ]
    },
    {
     "name": "stderr",
     "output_type": "stream",
     "text": [
      "Processing responses:  95%|█████████▌| 2030/2128 [14:50<01:20,  1.22it/s]"
     ]
    },
    {
     "name": "stdout",
     "output_type": "stream",
     "text": [
      "Answers saved to outputs_pipeline/article5_answers03_1.json\n"
     ]
    },
    {
     "name": "stderr",
     "output_type": "stream",
     "text": [
      "Processing responses:  95%|█████████▌| 2031/2128 [14:51<01:18,  1.23it/s]"
     ]
    },
    {
     "name": "stdout",
     "output_type": "stream",
     "text": [
      "Answers saved to outputs_pipeline/article5_answers03_1.json\n"
     ]
    },
    {
     "name": "stderr",
     "output_type": "stream",
     "text": [
      "Processing responses:  95%|█████████▌| 2032/2128 [14:52<01:18,  1.22it/s]"
     ]
    },
    {
     "name": "stdout",
     "output_type": "stream",
     "text": [
      "Answers saved to outputs_pipeline/article5_answers03_1.json\n"
     ]
    },
    {
     "name": "stderr",
     "output_type": "stream",
     "text": [
      "Processing responses:  96%|█████████▌| 2033/2128 [14:53<01:21,  1.17it/s]"
     ]
    },
    {
     "name": "stdout",
     "output_type": "stream",
     "text": [
      "Answers saved to outputs_pipeline/article5_answers03_1.json\n"
     ]
    },
    {
     "name": "stderr",
     "output_type": "stream",
     "text": [
      "Processing responses:  96%|█████████▌| 2034/2128 [14:54<01:18,  1.20it/s]"
     ]
    },
    {
     "name": "stdout",
     "output_type": "stream",
     "text": [
      "Answers saved to outputs_pipeline/article5_answers03_1.json\n"
     ]
    },
    {
     "name": "stderr",
     "output_type": "stream",
     "text": [
      "Processing responses:  96%|█████████▌| 2035/2128 [14:54<01:17,  1.20it/s]"
     ]
    },
    {
     "name": "stdout",
     "output_type": "stream",
     "text": [
      "Answers saved to outputs_pipeline/article5_answers03_1.json\n"
     ]
    },
    {
     "name": "stderr",
     "output_type": "stream",
     "text": [
      "Processing responses:  96%|█████████▌| 2036/2128 [14:55<01:16,  1.20it/s]"
     ]
    },
    {
     "name": "stdout",
     "output_type": "stream",
     "text": [
      "Answers saved to outputs_pipeline/article5_answers03_1.json\n"
     ]
    },
    {
     "name": "stderr",
     "output_type": "stream",
     "text": [
      "Processing responses:  96%|█████████▌| 2037/2128 [14:56<01:14,  1.22it/s]"
     ]
    },
    {
     "name": "stdout",
     "output_type": "stream",
     "text": [
      "Answers saved to outputs_pipeline/article5_answers03_1.json\n"
     ]
    },
    {
     "name": "stderr",
     "output_type": "stream",
     "text": [
      "Processing responses:  96%|█████████▌| 2038/2128 [14:57<01:13,  1.23it/s]"
     ]
    },
    {
     "name": "stdout",
     "output_type": "stream",
     "text": [
      "Answers saved to outputs_pipeline/article5_answers03_1.json\n"
     ]
    },
    {
     "name": "stderr",
     "output_type": "stream",
     "text": [
      "Processing responses:  96%|█████████▌| 2039/2128 [14:58<01:12,  1.23it/s]"
     ]
    },
    {
     "name": "stdout",
     "output_type": "stream",
     "text": [
      "Answers saved to outputs_pipeline/article5_answers03_1.json\n"
     ]
    },
    {
     "name": "stderr",
     "output_type": "stream",
     "text": [
      "Processing responses:  96%|█████████▌| 2040/2128 [14:58<01:11,  1.23it/s]"
     ]
    },
    {
     "name": "stdout",
     "output_type": "stream",
     "text": [
      "Answers saved to outputs_pipeline/article5_answers03_1.json\n"
     ]
    },
    {
     "name": "stderr",
     "output_type": "stream",
     "text": [
      "Processing responses:  96%|█████████▌| 2041/2128 [14:59<01:12,  1.20it/s]"
     ]
    },
    {
     "name": "stdout",
     "output_type": "stream",
     "text": [
      "Answers saved to outputs_pipeline/article5_answers03_1.json\n"
     ]
    },
    {
     "name": "stderr",
     "output_type": "stream",
     "text": [
      "Processing responses:  96%|█████████▌| 2042/2128 [15:00<01:17,  1.11it/s]"
     ]
    },
    {
     "name": "stdout",
     "output_type": "stream",
     "text": [
      "Answers saved to outputs_pipeline/article5_answers03_1.json\n"
     ]
    },
    {
     "name": "stderr",
     "output_type": "stream",
     "text": [
      "Processing responses:  96%|█████████▌| 2043/2128 [15:01<01:16,  1.10it/s]"
     ]
    },
    {
     "name": "stdout",
     "output_type": "stream",
     "text": [
      "Answers saved to outputs_pipeline/article5_answers03_1.json\n"
     ]
    },
    {
     "name": "stderr",
     "output_type": "stream",
     "text": [
      "Processing responses:  96%|█████████▌| 2044/2128 [15:02<01:13,  1.14it/s]"
     ]
    },
    {
     "name": "stdout",
     "output_type": "stream",
     "text": [
      "Answers saved to outputs_pipeline/article5_answers03_1.json\n"
     ]
    },
    {
     "name": "stderr",
     "output_type": "stream",
     "text": [
      "Processing responses:  96%|█████████▌| 2045/2128 [15:03<01:10,  1.18it/s]"
     ]
    },
    {
     "name": "stdout",
     "output_type": "stream",
     "text": [
      "Answers saved to outputs_pipeline/article5_answers03_1.json\n"
     ]
    },
    {
     "name": "stderr",
     "output_type": "stream",
     "text": [
      "Processing responses:  96%|█████████▌| 2046/2128 [15:04<01:08,  1.20it/s]"
     ]
    },
    {
     "name": "stdout",
     "output_type": "stream",
     "text": [
      "Answers saved to outputs_pipeline/article5_answers03_1.json\n"
     ]
    },
    {
     "name": "stderr",
     "output_type": "stream",
     "text": [
      "Processing responses:  96%|█████████▌| 2047/2128 [15:05<01:06,  1.21it/s]"
     ]
    },
    {
     "name": "stdout",
     "output_type": "stream",
     "text": [
      "Answers saved to outputs_pipeline/article5_answers03_1.json\n"
     ]
    },
    {
     "name": "stderr",
     "output_type": "stream",
     "text": [
      "Processing responses:  96%|█████████▌| 2048/2128 [15:05<01:05,  1.22it/s]"
     ]
    },
    {
     "name": "stdout",
     "output_type": "stream",
     "text": [
      "Answers saved to outputs_pipeline/article5_answers03_1.json\n"
     ]
    },
    {
     "name": "stderr",
     "output_type": "stream",
     "text": [
      "Processing responses:  96%|█████████▋| 2049/2128 [15:06<01:03,  1.24it/s]"
     ]
    },
    {
     "name": "stdout",
     "output_type": "stream",
     "text": [
      "Answers saved to outputs_pipeline/article5_answers03_1.json\n"
     ]
    },
    {
     "name": "stderr",
     "output_type": "stream",
     "text": [
      "Processing responses:  96%|█████████▋| 2050/2128 [15:07<01:03,  1.24it/s]"
     ]
    },
    {
     "name": "stdout",
     "output_type": "stream",
     "text": [
      "Answers saved to outputs_pipeline/article5_answers03_1.json\n"
     ]
    },
    {
     "name": "stderr",
     "output_type": "stream",
     "text": [
      "Processing responses:  96%|█████████▋| 2051/2128 [15:08<01:01,  1.25it/s]"
     ]
    },
    {
     "name": "stdout",
     "output_type": "stream",
     "text": [
      "Answers saved to outputs_pipeline/article5_answers03_1.json\n"
     ]
    },
    {
     "name": "stderr",
     "output_type": "stream",
     "text": [
      "Processing responses:  96%|█████████▋| 2052/2128 [15:09<01:02,  1.22it/s]"
     ]
    },
    {
     "name": "stdout",
     "output_type": "stream",
     "text": [
      "Answers saved to outputs_pipeline/article5_answers03_1.json\n"
     ]
    },
    {
     "name": "stderr",
     "output_type": "stream",
     "text": [
      "Processing responses:  96%|█████████▋| 2053/2128 [15:09<01:00,  1.23it/s]"
     ]
    },
    {
     "name": "stdout",
     "output_type": "stream",
     "text": [
      "Answers saved to outputs_pipeline/article5_answers03_1.json\n"
     ]
    },
    {
     "name": "stderr",
     "output_type": "stream",
     "text": [
      "Processing responses:  97%|█████████▋| 2054/2128 [15:10<01:03,  1.16it/s]"
     ]
    },
    {
     "name": "stdout",
     "output_type": "stream",
     "text": [
      "Answers saved to outputs_pipeline/article5_answers03_1.json\n"
     ]
    },
    {
     "name": "stderr",
     "output_type": "stream",
     "text": [
      "Processing responses:  97%|█████████▋| 2055/2128 [15:11<01:03,  1.15it/s]"
     ]
    },
    {
     "name": "stdout",
     "output_type": "stream",
     "text": [
      "Answers saved to outputs_pipeline/article5_answers03_1.json\n"
     ]
    },
    {
     "name": "stderr",
     "output_type": "stream",
     "text": [
      "Processing responses:  97%|█████████▋| 2056/2128 [15:12<01:01,  1.17it/s]"
     ]
    },
    {
     "name": "stdout",
     "output_type": "stream",
     "text": [
      "Answers saved to outputs_pipeline/article5_answers03_1.json\n"
     ]
    },
    {
     "name": "stderr",
     "output_type": "stream",
     "text": [
      "Processing responses:  97%|█████████▋| 2057/2128 [15:13<01:10,  1.01it/s]"
     ]
    },
    {
     "name": "stdout",
     "output_type": "stream",
     "text": [
      "Answers saved to outputs_pipeline/article5_answers03_1.json\n"
     ]
    },
    {
     "name": "stderr",
     "output_type": "stream",
     "text": [
      "Processing responses:  97%|█████████▋| 2058/2128 [15:14<01:05,  1.07it/s]"
     ]
    },
    {
     "name": "stdout",
     "output_type": "stream",
     "text": [
      "Answers saved to outputs_pipeline/article5_answers03_1.json\n"
     ]
    },
    {
     "name": "stderr",
     "output_type": "stream",
     "text": [
      "Processing responses:  97%|█████████▋| 2059/2128 [15:15<01:02,  1.11it/s]"
     ]
    },
    {
     "name": "stdout",
     "output_type": "stream",
     "text": [
      "Answers saved to outputs_pipeline/article5_answers03_1.json\n"
     ]
    },
    {
     "name": "stderr",
     "output_type": "stream",
     "text": [
      "Processing responses:  97%|█████████▋| 2060/2128 [15:16<01:00,  1.13it/s]"
     ]
    },
    {
     "name": "stdout",
     "output_type": "stream",
     "text": [
      "Answers saved to outputs_pipeline/article5_answers03_1.json\n"
     ]
    },
    {
     "name": "stderr",
     "output_type": "stream",
     "text": [
      "Processing responses:  97%|█████████▋| 2061/2128 [15:17<00:58,  1.15it/s]"
     ]
    },
    {
     "name": "stdout",
     "output_type": "stream",
     "text": [
      "Answers saved to outputs_pipeline/article5_answers03_1.json\n"
     ]
    },
    {
     "name": "stderr",
     "output_type": "stream",
     "text": [
      "Processing responses:  97%|█████████▋| 2062/2128 [15:18<00:56,  1.17it/s]"
     ]
    },
    {
     "name": "stdout",
     "output_type": "stream",
     "text": [
      "Answers saved to outputs_pipeline/article5_answers03_1.json\n"
     ]
    },
    {
     "name": "stderr",
     "output_type": "stream",
     "text": [
      "Processing responses:  97%|█████████▋| 2063/2128 [15:18<00:54,  1.19it/s]"
     ]
    },
    {
     "name": "stdout",
     "output_type": "stream",
     "text": [
      "Answers saved to outputs_pipeline/article5_answers03_1.json\n"
     ]
    },
    {
     "name": "stderr",
     "output_type": "stream",
     "text": [
      "Processing responses:  97%|█████████▋| 2064/2128 [15:19<00:53,  1.19it/s]"
     ]
    },
    {
     "name": "stdout",
     "output_type": "stream",
     "text": [
      "Answers saved to outputs_pipeline/article5_answers03_1.json\n"
     ]
    },
    {
     "name": "stderr",
     "output_type": "stream",
     "text": [
      "Processing responses:  97%|█████████▋| 2065/2128 [15:20<00:52,  1.21it/s]"
     ]
    },
    {
     "name": "stdout",
     "output_type": "stream",
     "text": [
      "Answers saved to outputs_pipeline/article5_answers03_1.json\n"
     ]
    },
    {
     "name": "stderr",
     "output_type": "stream",
     "text": [
      "Processing responses:  97%|█████████▋| 2066/2128 [15:21<00:50,  1.22it/s]"
     ]
    },
    {
     "name": "stdout",
     "output_type": "stream",
     "text": [
      "Answers saved to outputs_pipeline/article5_answers03_1.json\n"
     ]
    },
    {
     "name": "stderr",
     "output_type": "stream",
     "text": [
      "Processing responses:  97%|█████████▋| 2067/2128 [15:22<00:49,  1.23it/s]"
     ]
    },
    {
     "name": "stdout",
     "output_type": "stream",
     "text": [
      "Answers saved to outputs_pipeline/article5_answers03_1.json\n"
     ]
    },
    {
     "name": "stderr",
     "output_type": "stream",
     "text": [
      "Processing responses:  97%|█████████▋| 2068/2128 [15:22<00:49,  1.21it/s]"
     ]
    },
    {
     "name": "stdout",
     "output_type": "stream",
     "text": [
      "Answers saved to outputs_pipeline/article5_answers03_1.json\n"
     ]
    },
    {
     "name": "stderr",
     "output_type": "stream",
     "text": [
      "Processing responses:  97%|█████████▋| 2069/2128 [15:23<00:48,  1.22it/s]"
     ]
    },
    {
     "name": "stdout",
     "output_type": "stream",
     "text": [
      "Answers saved to outputs_pipeline/article5_answers03_1.json\n"
     ]
    },
    {
     "name": "stderr",
     "output_type": "stream",
     "text": [
      "Processing responses:  97%|█████████▋| 2070/2128 [15:24<00:47,  1.22it/s]"
     ]
    },
    {
     "name": "stdout",
     "output_type": "stream",
     "text": [
      "Answers saved to outputs_pipeline/article5_answers03_1.json\n"
     ]
    },
    {
     "name": "stderr",
     "output_type": "stream",
     "text": [
      "Processing responses:  97%|█████████▋| 2071/2128 [15:25<00:46,  1.21it/s]"
     ]
    },
    {
     "name": "stdout",
     "output_type": "stream",
     "text": [
      "Answers saved to outputs_pipeline/article5_answers03_1.json\n"
     ]
    },
    {
     "name": "stderr",
     "output_type": "stream",
     "text": [
      "Processing responses:  97%|█████████▋| 2072/2128 [15:26<00:46,  1.19it/s]"
     ]
    },
    {
     "name": "stdout",
     "output_type": "stream",
     "text": [
      "Answers saved to outputs_pipeline/article5_answers03_1.json\n"
     ]
    },
    {
     "name": "stderr",
     "output_type": "stream",
     "text": [
      "Processing responses:  97%|█████████▋| 2073/2128 [15:27<00:45,  1.21it/s]"
     ]
    },
    {
     "name": "stdout",
     "output_type": "stream",
     "text": [
      "Answers saved to outputs_pipeline/article5_answers03_1.json\n"
     ]
    },
    {
     "name": "stderr",
     "output_type": "stream",
     "text": [
      "Processing responses:  97%|█████████▋| 2074/2128 [15:27<00:44,  1.21it/s]"
     ]
    },
    {
     "name": "stdout",
     "output_type": "stream",
     "text": [
      "Answers saved to outputs_pipeline/article5_answers03_1.json\n"
     ]
    },
    {
     "name": "stderr",
     "output_type": "stream",
     "text": [
      "Processing responses:  98%|█████████▊| 2075/2128 [15:28<00:46,  1.14it/s]"
     ]
    },
    {
     "name": "stdout",
     "output_type": "stream",
     "text": [
      "Answers saved to outputs_pipeline/article5_answers03_1.json\n"
     ]
    },
    {
     "name": "stderr",
     "output_type": "stream",
     "text": [
      "Processing responses:  98%|█████████▊| 2076/2128 [15:29<00:44,  1.16it/s]"
     ]
    },
    {
     "name": "stdout",
     "output_type": "stream",
     "text": [
      "Answers saved to outputs_pipeline/article5_answers03_1.json\n"
     ]
    },
    {
     "name": "stderr",
     "output_type": "stream",
     "text": [
      "Processing responses:  98%|█████████▊| 2077/2128 [15:30<00:43,  1.18it/s]"
     ]
    },
    {
     "name": "stdout",
     "output_type": "stream",
     "text": [
      "Answers saved to outputs_pipeline/article5_answers03_1.json\n"
     ]
    },
    {
     "name": "stderr",
     "output_type": "stream",
     "text": [
      "Processing responses:  98%|█████████▊| 2078/2128 [15:31<00:41,  1.19it/s]"
     ]
    },
    {
     "name": "stdout",
     "output_type": "stream",
     "text": [
      "Answers saved to outputs_pipeline/article5_answers03_1.json\n"
     ]
    },
    {
     "name": "stderr",
     "output_type": "stream",
     "text": [
      "Processing responses:  98%|█████████▊| 2079/2128 [15:32<00:41,  1.17it/s]"
     ]
    },
    {
     "name": "stdout",
     "output_type": "stream",
     "text": [
      "Answers saved to outputs_pipeline/article5_answers03_1.json\n"
     ]
    },
    {
     "name": "stderr",
     "output_type": "stream",
     "text": [
      "Processing responses:  98%|█████████▊| 2080/2128 [15:33<00:40,  1.17it/s]"
     ]
    },
    {
     "name": "stdout",
     "output_type": "stream",
     "text": [
      "Answers saved to outputs_pipeline/article5_answers03_1.json\n"
     ]
    },
    {
     "name": "stderr",
     "output_type": "stream",
     "text": [
      "Processing responses:  98%|█████████▊| 2081/2128 [15:33<00:39,  1.18it/s]"
     ]
    },
    {
     "name": "stdout",
     "output_type": "stream",
     "text": [
      "Answers saved to outputs_pipeline/article5_answers03_1.json\n"
     ]
    },
    {
     "name": "stderr",
     "output_type": "stream",
     "text": [
      "Processing responses:  98%|█████████▊| 2082/2128 [15:34<00:38,  1.20it/s]"
     ]
    },
    {
     "name": "stdout",
     "output_type": "stream",
     "text": [
      "Answers saved to outputs_pipeline/article5_answers03_1.json\n"
     ]
    },
    {
     "name": "stderr",
     "output_type": "stream",
     "text": [
      "Processing responses:  98%|█████████▊| 2083/2128 [15:35<00:37,  1.20it/s]"
     ]
    },
    {
     "name": "stdout",
     "output_type": "stream",
     "text": [
      "Answers saved to outputs_pipeline/article5_answers03_1.json\n"
     ]
    },
    {
     "name": "stderr",
     "output_type": "stream",
     "text": [
      "Processing responses:  98%|█████████▊| 2084/2128 [15:36<00:36,  1.20it/s]"
     ]
    },
    {
     "name": "stdout",
     "output_type": "stream",
     "text": [
      "Answers saved to outputs_pipeline/article5_answers03_1.json\n"
     ]
    },
    {
     "name": "stderr",
     "output_type": "stream",
     "text": [
      "Processing responses:  98%|█████████▊| 2085/2128 [15:37<00:35,  1.21it/s]"
     ]
    },
    {
     "name": "stdout",
     "output_type": "stream",
     "text": [
      "Answers saved to outputs_pipeline/article5_answers03_1.json\n"
     ]
    },
    {
     "name": "stderr",
     "output_type": "stream",
     "text": [
      "Processing responses:  98%|█████████▊| 2086/2128 [15:37<00:34,  1.21it/s]"
     ]
    },
    {
     "name": "stdout",
     "output_type": "stream",
     "text": [
      "Answers saved to outputs_pipeline/article5_answers03_1.json\n"
     ]
    },
    {
     "name": "stderr",
     "output_type": "stream",
     "text": [
      "Processing responses:  98%|█████████▊| 2087/2128 [15:38<00:34,  1.18it/s]"
     ]
    },
    {
     "name": "stdout",
     "output_type": "stream",
     "text": [
      "Answers saved to outputs_pipeline/article5_answers03_1.json\n"
     ]
    },
    {
     "name": "stderr",
     "output_type": "stream",
     "text": [
      "Processing responses:  98%|█████████▊| 2088/2128 [15:39<00:33,  1.18it/s]"
     ]
    },
    {
     "name": "stdout",
     "output_type": "stream",
     "text": [
      "Answers saved to outputs_pipeline/article5_answers03_1.json\n"
     ]
    },
    {
     "name": "stderr",
     "output_type": "stream",
     "text": [
      "Processing responses:  98%|█████████▊| 2089/2128 [15:40<00:32,  1.20it/s]"
     ]
    },
    {
     "name": "stdout",
     "output_type": "stream",
     "text": [
      "Answers saved to outputs_pipeline/article5_answers03_1.json\n"
     ]
    },
    {
     "name": "stderr",
     "output_type": "stream",
     "text": [
      "Processing responses:  98%|█████████▊| 2090/2128 [15:41<00:31,  1.21it/s]"
     ]
    },
    {
     "name": "stdout",
     "output_type": "stream",
     "text": [
      "Answers saved to outputs_pipeline/article5_answers03_1.json\n"
     ]
    },
    {
     "name": "stderr",
     "output_type": "stream",
     "text": [
      "Processing responses:  98%|█████████▊| 2091/2128 [15:42<00:30,  1.21it/s]"
     ]
    },
    {
     "name": "stdout",
     "output_type": "stream",
     "text": [
      "Answers saved to outputs_pipeline/article5_answers03_1.json\n"
     ]
    },
    {
     "name": "stderr",
     "output_type": "stream",
     "text": [
      "Processing responses:  98%|█████████▊| 2092/2128 [15:43<00:29,  1.20it/s]"
     ]
    },
    {
     "name": "stdout",
     "output_type": "stream",
     "text": [
      "Answers saved to outputs_pipeline/article5_answers03_1.json\n"
     ]
    },
    {
     "name": "stderr",
     "output_type": "stream",
     "text": [
      "Processing responses:  98%|█████████▊| 2093/2128 [15:43<00:29,  1.19it/s]"
     ]
    },
    {
     "name": "stdout",
     "output_type": "stream",
     "text": [
      "Answers saved to outputs_pipeline/article5_answers03_1.json\n"
     ]
    },
    {
     "name": "stderr",
     "output_type": "stream",
     "text": [
      "Processing responses:  98%|█████████▊| 2094/2128 [15:44<00:28,  1.19it/s]"
     ]
    },
    {
     "name": "stdout",
     "output_type": "stream",
     "text": [
      "Answers saved to outputs_pipeline/article5_answers03_1.json\n"
     ]
    },
    {
     "name": "stderr",
     "output_type": "stream",
     "text": [
      "Processing responses:  98%|█████████▊| 2095/2128 [15:45<00:27,  1.20it/s]"
     ]
    },
    {
     "name": "stdout",
     "output_type": "stream",
     "text": [
      "Answers saved to outputs_pipeline/article5_answers03_1.json\n"
     ]
    },
    {
     "name": "stderr",
     "output_type": "stream",
     "text": [
      "Processing responses:  98%|█████████▊| 2096/2128 [15:46<00:26,  1.21it/s]"
     ]
    },
    {
     "name": "stdout",
     "output_type": "stream",
     "text": [
      "Answers saved to outputs_pipeline/article5_answers03_1.json\n"
     ]
    },
    {
     "name": "stderr",
     "output_type": "stream",
     "text": [
      "Processing responses:  99%|█████████▊| 2097/2128 [15:47<00:27,  1.14it/s]"
     ]
    },
    {
     "name": "stdout",
     "output_type": "stream",
     "text": [
      "Answers saved to outputs_pipeline/article5_answers03_1.json\n"
     ]
    },
    {
     "name": "stderr",
     "output_type": "stream",
     "text": [
      "Processing responses:  99%|█████████▊| 2098/2128 [15:48<00:25,  1.17it/s]"
     ]
    },
    {
     "name": "stdout",
     "output_type": "stream",
     "text": [
      "Answers saved to outputs_pipeline/article5_answers03_1.json\n"
     ]
    },
    {
     "name": "stderr",
     "output_type": "stream",
     "text": [
      "Processing responses:  99%|█████████▊| 2099/2128 [15:48<00:24,  1.18it/s]"
     ]
    },
    {
     "name": "stdout",
     "output_type": "stream",
     "text": [
      "Answers saved to outputs_pipeline/article5_answers03_1.json\n"
     ]
    },
    {
     "name": "stderr",
     "output_type": "stream",
     "text": [
      "Processing responses:  99%|█████████▊| 2100/2128 [15:50<00:26,  1.07it/s]"
     ]
    },
    {
     "name": "stdout",
     "output_type": "stream",
     "text": [
      "Answers saved to outputs_pipeline/article5_answers03_1.json\n"
     ]
    },
    {
     "name": "stderr",
     "output_type": "stream",
     "text": [
      "Processing responses:  99%|█████████▊| 2101/2128 [15:50<00:24,  1.11it/s]"
     ]
    },
    {
     "name": "stdout",
     "output_type": "stream",
     "text": [
      "Answers saved to outputs_pipeline/article5_answers03_1.json\n"
     ]
    },
    {
     "name": "stderr",
     "output_type": "stream",
     "text": [
      "Processing responses:  99%|█████████▉| 2102/2128 [15:51<00:22,  1.14it/s]"
     ]
    },
    {
     "name": "stdout",
     "output_type": "stream",
     "text": [
      "Answers saved to outputs_pipeline/article5_answers03_1.json\n"
     ]
    },
    {
     "name": "stderr",
     "output_type": "stream",
     "text": [
      "Processing responses:  99%|█████████▉| 2103/2128 [15:52<00:21,  1.14it/s]"
     ]
    },
    {
     "name": "stdout",
     "output_type": "stream",
     "text": [
      "Answers saved to outputs_pipeline/article5_answers03_1.json\n"
     ]
    },
    {
     "name": "stderr",
     "output_type": "stream",
     "text": [
      "Processing responses:  99%|█████████▉| 2104/2128 [15:53<00:20,  1.17it/s]"
     ]
    },
    {
     "name": "stdout",
     "output_type": "stream",
     "text": [
      "Answers saved to outputs_pipeline/article5_answers03_1.json\n"
     ]
    },
    {
     "name": "stderr",
     "output_type": "stream",
     "text": [
      "Processing responses:  99%|█████████▉| 2105/2128 [15:54<00:19,  1.18it/s]"
     ]
    },
    {
     "name": "stdout",
     "output_type": "stream",
     "text": [
      "Answers saved to outputs_pipeline/article5_answers03_1.json\n"
     ]
    },
    {
     "name": "stderr",
     "output_type": "stream",
     "text": [
      "Processing responses:  99%|█████████▉| 2106/2128 [15:55<00:18,  1.19it/s]"
     ]
    },
    {
     "name": "stdout",
     "output_type": "stream",
     "text": [
      "Answers saved to outputs_pipeline/article5_answers03_1.json\n"
     ]
    },
    {
     "name": "stderr",
     "output_type": "stream",
     "text": [
      "Processing responses:  99%|█████████▉| 2107/2128 [15:55<00:17,  1.20it/s]"
     ]
    },
    {
     "name": "stdout",
     "output_type": "stream",
     "text": [
      "Answers saved to outputs_pipeline/article5_answers03_1.json\n"
     ]
    },
    {
     "name": "stderr",
     "output_type": "stream",
     "text": [
      "Processing responses:  99%|█████████▉| 2108/2128 [15:56<00:16,  1.20it/s]"
     ]
    },
    {
     "name": "stdout",
     "output_type": "stream",
     "text": [
      "Answers saved to outputs_pipeline/article5_answers03_1.json\n"
     ]
    },
    {
     "name": "stderr",
     "output_type": "stream",
     "text": [
      "Processing responses:  99%|█████████▉| 2109/2128 [15:57<00:15,  1.19it/s]"
     ]
    },
    {
     "name": "stdout",
     "output_type": "stream",
     "text": [
      "Answers saved to outputs_pipeline/article5_answers03_1.json\n"
     ]
    },
    {
     "name": "stderr",
     "output_type": "stream",
     "text": [
      "Processing responses:  99%|█████████▉| 2110/2128 [15:58<00:15,  1.20it/s]"
     ]
    },
    {
     "name": "stdout",
     "output_type": "stream",
     "text": [
      "Answers saved to outputs_pipeline/article5_answers03_1.json\n"
     ]
    },
    {
     "name": "stderr",
     "output_type": "stream",
     "text": [
      "Processing responses:  99%|█████████▉| 2111/2128 [15:59<00:14,  1.20it/s]"
     ]
    },
    {
     "name": "stdout",
     "output_type": "stream",
     "text": [
      "Answers saved to outputs_pipeline/article5_answers03_1.json\n"
     ]
    },
    {
     "name": "stderr",
     "output_type": "stream",
     "text": [
      "Processing responses:  99%|█████████▉| 2112/2128 [16:00<00:13,  1.18it/s]"
     ]
    },
    {
     "name": "stdout",
     "output_type": "stream",
     "text": [
      "Answers saved to outputs_pipeline/article5_answers03_1.json\n"
     ]
    },
    {
     "name": "stderr",
     "output_type": "stream",
     "text": [
      "Processing responses:  99%|█████████▉| 2113/2128 [16:00<00:12,  1.18it/s]"
     ]
    },
    {
     "name": "stdout",
     "output_type": "stream",
     "text": [
      "Answers saved to outputs_pipeline/article5_answers03_1.json\n"
     ]
    },
    {
     "name": "stderr",
     "output_type": "stream",
     "text": [
      "Processing responses:  99%|█████████▉| 2114/2128 [16:01<00:11,  1.18it/s]"
     ]
    },
    {
     "name": "stdout",
     "output_type": "stream",
     "text": [
      "Answers saved to outputs_pipeline/article5_answers03_1.json\n"
     ]
    },
    {
     "name": "stderr",
     "output_type": "stream",
     "text": [
      "Processing responses:  99%|█████████▉| 2115/2128 [16:02<00:11,  1.17it/s]"
     ]
    },
    {
     "name": "stdout",
     "output_type": "stream",
     "text": [
      "Answers saved to outputs_pipeline/article5_answers03_1.json\n"
     ]
    },
    {
     "name": "stderr",
     "output_type": "stream",
     "text": [
      "Processing responses:  99%|█████████▉| 2116/2128 [16:03<00:10,  1.17it/s]"
     ]
    },
    {
     "name": "stdout",
     "output_type": "stream",
     "text": [
      "Answers saved to outputs_pipeline/article5_answers03_1.json\n"
     ]
    },
    {
     "name": "stderr",
     "output_type": "stream",
     "text": [
      "Processing responses:  99%|█████████▉| 2117/2128 [16:04<00:09,  1.18it/s]"
     ]
    },
    {
     "name": "stdout",
     "output_type": "stream",
     "text": [
      "Answers saved to outputs_pipeline/article5_answers03_1.json\n"
     ]
    },
    {
     "name": "stderr",
     "output_type": "stream",
     "text": [
      "Processing responses: 100%|█████████▉| 2118/2128 [16:05<00:09,  1.11it/s]"
     ]
    },
    {
     "name": "stdout",
     "output_type": "stream",
     "text": [
      "Answers saved to outputs_pipeline/article5_answers03_1.json\n"
     ]
    },
    {
     "name": "stderr",
     "output_type": "stream",
     "text": [
      "Processing responses: 100%|█████████▉| 2119/2128 [16:06<00:08,  1.12it/s]"
     ]
    },
    {
     "name": "stdout",
     "output_type": "stream",
     "text": [
      "Answers saved to outputs_pipeline/article5_answers03_1.json\n"
     ]
    },
    {
     "name": "stderr",
     "output_type": "stream",
     "text": [
      "Processing responses: 100%|█████████▉| 2120/2128 [16:07<00:07,  1.10it/s]"
     ]
    },
    {
     "name": "stdout",
     "output_type": "stream",
     "text": [
      "Answers saved to outputs_pipeline/article5_answers03_1.json\n"
     ]
    },
    {
     "name": "stderr",
     "output_type": "stream",
     "text": [
      "Processing responses: 100%|█████████▉| 2121/2128 [16:08<00:06,  1.12it/s]"
     ]
    },
    {
     "name": "stdout",
     "output_type": "stream",
     "text": [
      "Answers saved to outputs_pipeline/article5_answers03_1.json\n"
     ]
    },
    {
     "name": "stderr",
     "output_type": "stream",
     "text": [
      "Processing responses: 100%|█████████▉| 2122/2128 [16:08<00:05,  1.15it/s]"
     ]
    },
    {
     "name": "stdout",
     "output_type": "stream",
     "text": [
      "Answers saved to outputs_pipeline/article5_answers03_1.json\n"
     ]
    },
    {
     "name": "stderr",
     "output_type": "stream",
     "text": [
      "Processing responses: 100%|█████████▉| 2123/2128 [16:09<00:04,  1.18it/s]"
     ]
    },
    {
     "name": "stdout",
     "output_type": "stream",
     "text": [
      "Answers saved to outputs_pipeline/article5_answers03_1.json\n"
     ]
    },
    {
     "name": "stderr",
     "output_type": "stream",
     "text": [
      "Processing responses: 100%|█████████▉| 2124/2128 [16:10<00:03,  1.16it/s]"
     ]
    },
    {
     "name": "stdout",
     "output_type": "stream",
     "text": [
      "Answers saved to outputs_pipeline/article5_answers03_1.json\n"
     ]
    },
    {
     "name": "stderr",
     "output_type": "stream",
     "text": [
      "Processing responses: 100%|█████████▉| 2125/2128 [16:11<00:02,  1.18it/s]"
     ]
    },
    {
     "name": "stdout",
     "output_type": "stream",
     "text": [
      "Answers saved to outputs_pipeline/article5_answers03_1.json\n"
     ]
    },
    {
     "name": "stderr",
     "output_type": "stream",
     "text": [
      "Processing responses: 100%|█████████▉| 2126/2128 [16:12<00:01,  1.19it/s]"
     ]
    },
    {
     "name": "stdout",
     "output_type": "stream",
     "text": [
      "Answers saved to outputs_pipeline/article5_answers03_1.json\n"
     ]
    },
    {
     "name": "stderr",
     "output_type": "stream",
     "text": [
      "Processing responses: 100%|█████████▉| 2127/2128 [16:13<00:00,  1.17it/s]"
     ]
    },
    {
     "name": "stdout",
     "output_type": "stream",
     "text": [
      "Answers saved to outputs_pipeline/article5_answers03_1.json\n"
     ]
    },
    {
     "name": "stderr",
     "output_type": "stream",
     "text": [
      "Processing responses: 100%|██████████| 2128/2128 [16:13<00:00,  2.19it/s]"
     ]
    },
    {
     "name": "stdout",
     "output_type": "stream",
     "text": [
      "Answers saved to outputs_pipeline/article5_answers03_1.json\n",
      "处理完成，结果已保存到 outputs_pipeline/article5_answers03_1.json\n"
     ]
    },
    {
     "name": "stderr",
     "output_type": "stream",
     "text": [
      "\n"
     ]
    }
   ],
   "source": [
    "from utils.answer_generation_v2 import process_response_file\n",
    "response_file_path = \"outputs_pipeline/response3_answer03_1.jsonl\"  # 响应结果文件\n",
    "questions_path = \"outputs_pipeline/article4_question_with_topic03.json\"  # 原始问题文件\n",
    "answers_path = \"outputs_pipeline/article5_answers03_1.json\"   # 结果保存路径\n",
    "# 执行处理\n",
    "process_response_file(response_file_path, questions_path, answers_path)"
   ]
  },
  {
   "cell_type": "code",
   "execution_count": 3,
   "id": "f4764c46",
   "metadata": {},
   "outputs": [
    {
     "name": "stdout",
     "output_type": "stream",
     "text": [
      "Syndatas saved to outputs_pipeline/syndatas03_1.json\n",
      "Syndatas saved to outputs_pipeline/syndatas03_1_instruction.json\n",
      "done 有机电致发光器件的热学特性分析_张稳稳_llm_correct.md syndata.\n",
      "Syndatas saved to outputs_pipeline/syndatas03_1.json\n",
      "Syndatas saved to outputs_pipeline/syndatas03_1_instruction.json\n",
      "done PrF_3阳极缓冲层对OLED器件性能的影响_廖亚琴_llm_correct.md syndata.\n",
      "Syndatas saved to outputs_pipeline/syndatas03_1.json\n",
      "Syndatas saved to outputs_pipeline/syndatas03_1_instruction.json\n",
      "done 基于光刻工艺的高分辨全彩QLED器件制备与性能优化_高宏锦_llm_correct.md syndata.\n",
      "Syndatas saved to outputs_pipeline/syndatas03_1.json\n",
      "Syndatas saved to outputs_pipeline/syndatas03_1_instruction.json\n",
      "done 开发TFT-LCD用玻璃基板技术思考_李绍丰_llm_correct.md syndata.\n",
      "Syndatas saved to outputs_pipeline/syndatas03_1.json\n",
      "Syndatas saved to outputs_pipeline/syndatas03_1_instruction.json\n",
      "done InGaZnO薄膜晶体管背板的栅极驱动电路静电释放失效研究-马群刚_llm_correct.md syndata.\n",
      "Syndatas saved to outputs_pipeline/syndatas03_1.json\n",
      "Syndatas saved to outputs_pipeline/syndatas03_1_instruction.json\n",
      "done 基于SPI的OLED显示技术_吴敏波_llm_correct.md syndata.\n",
      "Syndatas saved to outputs_pipeline/syndatas03_1.json\n",
      "Syndatas saved to outputs_pipeline/syndatas03_1_instruction.json\n",
      "done 平板显示器件与数字投影技术概览_陈滋莘_llm_correct.md syndata.\n",
      "Syndatas saved to outputs_pipeline/syndatas03_1.json\n",
      "Syndatas saved to outputs_pipeline/syndatas03_1_instruction.json\n",
      "done 具有行为效应的TFT-LCD模块组装多目标调度研究_吴思思_llm_correct.md syndata.\n",
      "Syndatas saved to outputs_pipeline/syndatas03_1.json\n",
      "Syndatas saved to outputs_pipeline/syndatas03_1_instruction.json\n",
      "done TBPe作蓝光材料的双层白色有机电致发光器件的性能_牛霞_llm_correct.md syndata.\n",
      "Syndatas saved to outputs_pipeline/syndatas03_1.json\n",
      "Syndatas saved to outputs_pipeline/syndatas03_1_instruction.json\n",
      "done High performa...ure oxide TFT_Rui Geng_llm_correct.md syndata.\n",
      "Syndatas saved to outputs_pipeline/syndatas03_1.json\n",
      "Syndatas saved to outputs_pipeline/syndatas03_1_instruction.json\n",
      "done 一种性能优越的液晶材料及显示技术_闻建勋_llm_correct.md syndata.\n",
      "Syndatas saved to outputs_pipeline/syndatas03_1.json\n",
      "Syndatas saved to outputs_pipeline/syndatas03_1_instruction.json\n",
      "done 微纳结构光电子物理与器件_黄翊东_llm_correct.md syndata.\n",
      "Syndatas saved to outputs_pipeline/syndatas03_1.json\n",
      "Syndatas saved to outputs_pipeline/syndatas03_1_instruction.json\n",
      "done Cd_xZn_(1-x)O...的制备及非线性光学特性研究_张继德_llm_correct.md syndata.\n",
      "Syndatas saved to outputs_pipeline/syndatas03_1.json\n",
      "Syndatas saved to outputs_pipeline/syndatas03_1_instruction.json\n",
      "done 携手努力__共话OLED未...新之路——OLED论坛侧记_许瑞鹏_llm_correct.md syndata.\n",
      "Syndatas saved to outputs_pipeline/syndatas03_1.json\n",
      "Syndatas saved to outputs_pipeline/syndatas03_1_instruction.json\n",
      "done 含氟液晶材料的研究进展_谢段燕_llm_correct.md syndata.\n",
      "Syndatas saved to outputs_pipeline/syndatas03_1.json\n",
      "Syndatas saved to outputs_pipeline/syndatas03_1_instruction.json\n",
      "done 基于大面积TFT和PVDF薄膜的表面形貌无损探测技术_尚飞_llm_correct.md syndata.\n",
      "Syndatas saved to outputs_pipeline/syndatas03_1.json\n",
      "Syndatas saved to outputs_pipeline/syndatas03_1_instruction.json\n",
      "done 单栅和双栅多晶硅薄膜晶体管的二维器件仿真_邓婉玲_llm_correct.md syndata.\n",
      "Syndatas saved to outputs_pipeline/syndatas03_1.json\n",
      "Syndatas saved to outputs_pipeline/syndatas03_1_instruction.json\n",
      "done 基于高迁移率微晶硅的薄膜晶体管(英文)_CHAN Kah-Yoong_llm_correct.md syndata.\n",
      "Syndatas saved to outputs_pipeline/syndatas03_1.json\n",
      "Syndatas saved to outputs_pipeline/syndatas03_1_instruction.json\n",
      "done 基于新型螺氧杂蒽主体的高效...磷光有机发光二极管（英文）_关玉巧_llm_correct.md syndata.\n",
      "Syndatas saved to outputs_pipeline/syndatas03_1.json\n",
      "Syndatas saved to outputs_pipeline/syndatas03_1_instruction.json\n",
      "done 克服材料问题OLED_TV惊艳现身_卢家浩_llm_correct.md syndata.\n",
      "Syndatas saved to outputs_pipeline/syndatas03_1.json\n",
      "Syndatas saved to outputs_pipeline/syndatas03_1_instruction.json\n",
      "done OLED技术现状与在消费电子市场发展动态_路绳立_llm_correct.md syndata.\n",
      "Syndatas saved to outputs_pipeline/syndatas03_1.json\n",
      "Syndatas saved to outputs_pipeline/syndatas03_1_instruction.json\n",
      "done 中国内地加入TFT-LCD战局直接挑战五代线_李俊毅_llm_correct.md syndata.\n",
      "Syndatas saved to outputs_pipeline/syndatas03_1.json\n",
      "Syndatas saved to outputs_pipeline/syndatas03_1_instruction.json\n",
      "done TFT-LCD制造过程中的盒厚控制工艺研究_邱永亮_llm_correct.md syndata.\n",
      "Syndatas saved to outputs_pipeline/syndatas03_1.json\n",
      "Syndatas saved to outputs_pipeline/syndatas03_1_instruction.json\n",
      "done 有机发光显示的几项新技术_陈飞_llm_correct.md syndata.\n",
      "Syndatas saved to outputs_pipeline/syndatas03_1.json\n",
      "Syndatas saved to outputs_pipeline/syndatas03_1_instruction.json\n",
      "done 基于陷落电荷效应的非晶硅TFT的开态电流模型_何红宇_llm_correct.md syndata.\n",
      "Syndatas saved to outputs_pipeline/syndatas03_1.json\n",
      "Syndatas saved to outputs_pipeline/syndatas03_1_instruction.json\n",
      "done PTCDA表面射频磁控溅射ITO薄膜的特性研究_孙硕_llm_correct.md syndata.\n",
      "Syndatas saved to outputs_pipeline/syndatas03_1.json\n",
      "Syndatas saved to outputs_pipeline/syndatas03_1_instruction.json\n",
      "done TFT-LCD_Mura缺陷机器视觉检测方法研究_卢小鹏_llm_correct.md syndata.\n",
      "Syndatas saved to outputs_pipeline/syndatas03_1.json\n",
      "Syndatas saved to outputs_pipeline/syndatas03_1_instruction.json\n",
      "done A new AC driv...ission AMOLED_张勇文_llm_correct.md syndata.\n",
      "Syndatas saved to outputs_pipeline/syndatas03_1.json\n",
      "Syndatas saved to outputs_pipeline/syndatas03_1_instruction.json\n",
      "done 有机发光二极管(OLED)顶发射器件的透明电极_吕方_llm_correct.md syndata.\n",
      "Syndatas saved to outputs_pipeline/syndatas03_1.json\n",
      "Syndatas saved to outputs_pipeline/syndatas03_1_instruction.json\n",
      "done 显示技术的发展_黄锡珉_llm_correct.md syndata.\n",
      "Syndatas saved to outputs_pipeline/syndatas03_1.json\n",
      "Syndatas saved to outputs_pipeline/syndatas03_1_instruction.json\n",
      "done OLED显示技术综述_冯迪砂_llm_correct.md syndata.\n",
      "Syndatas saved to outputs_pipeline/syndatas03_1.json\n",
      "Syndatas saved to outputs_pipeline/syndatas03_1_instruction.json\n",
      "done 有源层厚度对氧化铟镓锌薄膜晶体管性能的影响_吴捷_llm_correct.md syndata.\n",
      "Syndatas saved to outputs_pipeline/syndatas03_1.json\n",
      "Syndatas saved to outputs_pipeline/syndatas03_1_instruction.json\n",
      "done 基于红外热像与电学测试法的OLED热学分析_杨连乔_llm_correct.md syndata.\n",
      "Syndatas saved to outputs_pipeline/syndatas03_1.json\n",
      "Syndatas saved to outputs_pipeline/syndatas03_1_instruction.json\n",
      "done 柔性非晶铟镓锌氧薄膜晶体管栅绝缘层的研究_刘国超_llm_correct.md syndata.\n",
      "Syndatas saved to outputs_pipeline/syndatas03_1.json\n",
      "Syndatas saved to outputs_pipeline/syndatas03_1_instruction.json\n",
      "done 日本微电子和光电子工业中激光组装技术的应用及展望_王立斌_llm_correct.md syndata.\n",
      "Syndatas saved to outputs_pipeline/syndatas03_1.json\n",
      "Syndatas saved to outputs_pipeline/syndatas03_1_instruction.json\n",
      "done OLED显示技术专利分析_段珂瑜_llm_correct.md syndata.\n",
      "Syndatas saved to outputs_pipeline/syndatas03_1.json\n",
      "Syndatas saved to outputs_pipeline/syndatas03_1_instruction.json\n",
      "done 氢化非晶硅叠层薄膜对单晶硅表面钝化研究_丁月珂_llm_correct.md syndata.\n",
      "Syndatas saved to outputs_pipeline/syndatas03_1.json\n",
      "Syndatas saved to outputs_pipeline/syndatas03_1_instruction.json\n",
      "done 基于多项式曲面拟合的TFT...LCD斑痕缺陷自动检测技术_张昱_llm_correct.md syndata.\n",
      "Syndatas saved to outputs_pipeline/syndatas03_1.json\n",
      "Syndatas saved to outputs_pipeline/syndatas03_1_instruction.json\n",
      "done 扫描电镜的原理及TFT-LCD生产中的应用_张新言_llm_correct.md syndata.\n",
      "Syndatas saved to outputs_pipeline/syndatas03_1.json\n",
      "Syndatas saved to outputs_pipeline/syndatas03_1_instruction.json\n",
      "done 有机发光二极管展示美好_余艳玲_llm_correct.md syndata.\n",
      "Syndatas saved to outputs_pipeline/syndatas03_1.json\n",
      "Syndatas saved to outputs_pipeline/syndatas03_1_instruction.json\n",
      "done 加固液晶显示器TCON板设计_马剑锋_llm_correct.md syndata.\n",
      "Syndatas saved to outputs_pipeline/syndatas03_1.json\n",
      "Syndatas saved to outputs_pipeline/syndatas03_1_instruction.json\n",
      "done 喷墨打印PVP绝缘层柔性薄膜晶体管研究_陶洪_llm_correct.md syndata.\n",
      "Syndatas saved to outputs_pipeline/syndatas03_1.json\n",
      "Syndatas saved to outputs_pipeline/syndatas03_1_instruction.json\n",
      "done 含有不同氮原子取向的大分子...料的制备及电致发光性能研究_吴德晗_llm_correct.md syndata.\n",
      "Syndatas saved to outputs_pipeline/syndatas03_1.json\n",
      "Syndatas saved to outputs_pipeline/syndatas03_1_instruction.json\n",
      "done PECVD分层结构对提高氢化非晶硅TFT迁移率的影响_于遥_llm_correct.md syndata.\n",
      "Syndatas saved to outputs_pipeline/syndatas03_1.json\n",
      "Syndatas saved to outputs_pipeline/syndatas03_1_instruction.json\n",
      "done OLED成长的烦恼_崔澎_llm_correct.md syndata.\n",
      "Syndatas saved to outputs_pipeline/syndatas03_1.json\n",
      "Syndatas saved to outputs_pipeline/syndatas03_1_instruction.json\n",
      "done TFT_LCD常见点缺陷的检测与修复_黄雅纹_llm_correct.md syndata.\n",
      "Syndatas saved to outputs_pipeline/syndatas03_1.json\n",
      "Syndatas saved to outputs_pipeline/syndatas03_1_instruction.json\n",
      "done 平板显示器件、固体摄象器件...应用技术学术会议在南京召开_崔广钧_llm_correct.md syndata.\n",
      "Syndatas saved to outputs_pipeline/syndatas03_1.json\n",
      "Syndatas saved to outputs_pipeline/syndatas03_1_instruction.json\n",
      "done TFT_LCD电性能测试ITO短路缺陷检测研究_刘志军_llm_correct.md syndata.\n",
      "Syndatas saved to outputs_pipeline/syndatas03_1.json\n",
      "Syndatas saved to outputs_pipeline/syndatas03_1_instruction.json\n",
      "done 培养液晶显示专业人才的方案设计与实践_张方辉_llm_correct.md syndata.\n",
      "Syndatas saved to outputs_pipeline/syndatas03_1.json\n",
      "Syndatas saved to outputs_pipeline/syndatas03_1_instruction.json\n",
      "done 一种针对AMOLED器件劣化的电学补偿技术_解红军_llm_correct.md syndata.\n",
      "Syndatas saved to outputs_pipeline/syndatas03_1.json\n",
      "Syndatas saved to outputs_pipeline/syndatas03_1_instruction.json\n",
      "done 基底温度对射频磁控溅射PI基ITO薄膜的影响_刘祖一_llm_correct.md syndata.\n",
      "Syndatas saved to outputs_pipeline/syndatas03_1.json\n",
      "Syndatas saved to outputs_pipeline/syndatas03_1_instruction.json\n",
      "done 反射型硅基液晶显示模式_范伟_llm_correct.md syndata.\n",
      "Syndatas saved to outputs_pipeline/syndatas03_1.json\n",
      "Syndatas saved to outputs_pipeline/syndatas03_1_instruction.json\n",
      "done TFT-LCD滤色器用三色感光剂研究_徐良波_llm_correct.md syndata.\n",
      "Syndatas saved to outputs_pipeline/syndatas03_1.json\n",
      "Syndatas saved to outputs_pipeline/syndatas03_1_instruction.json\n",
      "done 柔板显示技术研究进展_王秀峰_llm_correct.md syndata.\n",
      "Syndatas saved to outputs_pipeline/syndatas03_1.json\n",
      "Syndatas saved to outputs_pipeline/syndatas03_1_instruction.json\n",
      "done CM33-ZOC1007L...液晶材料HTNLCD的特性_梁兆颜_llm_correct.md syndata.\n",
      "Syndatas saved to outputs_pipeline/syndatas03_1.json\n",
      "Syndatas saved to outputs_pipeline/syndatas03_1_instruction.json\n",
      "done AM－LCD用TFT有源矩阵的性能研究_张凤_llm_correct.md syndata.\n",
      "Syndatas saved to outputs_pipeline/syndatas03_1.json\n",
      "Syndatas saved to outputs_pipeline/syndatas03_1_instruction.json\n",
      "done OLED应用于照明的发展现状及前景_刘陈_llm_correct.md syndata.\n",
      "Syndatas saved to outputs_pipeline/syndatas03_1.json\n",
      "Syndatas saved to outputs_pipeline/syndatas03_1_instruction.json\n",
      "done 关于TFT-LCD中一种偏光片相关不良的研究_刘杰_llm_correct.md syndata.\n",
      "Syndatas saved to outputs_pipeline/syndatas03_1.json\n",
      "Syndatas saved to outputs_pipeline/syndatas03_1_instruction.json\n",
      "done 射频磁控溅射低温制备ITO薄膜_王秀娟_llm_correct.md syndata.\n",
      "Syndatas saved to outputs_pipeline/syndatas03_1.json\n",
      "Syndatas saved to outputs_pipeline/syndatas03_1_instruction.json\n",
      "done 大信息容量液晶显示技术_沈春林_llm_correct.md syndata.\n",
      "Syndatas saved to outputs_pipeline/syndatas03_1.json\n",
      "Syndatas saved to outputs_pipeline/syndatas03_1_instruction.json\n",
      "done 一种激光测照器用OLED显示模块_和婷_llm_correct.md syndata.\n",
      "Syndatas saved to outputs_pipeline/syndatas03_1.json\n",
      "Syndatas saved to outputs_pipeline/syndatas03_1_instruction.json\n",
      "done 显示技术发展水平及趋势_张戊寅_llm_correct.md syndata.\n",
      "Syndatas saved to outputs_pipeline/syndatas03_1.json\n",
      "Syndatas saved to outputs_pipeline/syndatas03_1_instruction.json\n",
      "done TFT-LCD取向层表面的针孔缺陷分析(英文)_黄东升_llm_correct.md syndata.\n",
      "Syndatas saved to outputs_pipeline/syndatas03_1.json\n",
      "Syndatas saved to outputs_pipeline/syndatas03_1_instruction.json\n",
      "done 新型显示器技术亮相SID展_AlixL Paultre_llm_correct.md syndata.\n",
      "Syndatas saved to outputs_pipeline/syndatas03_1.json\n",
      "Syndatas saved to outputs_pipeline/syndatas03_1_instruction.json\n",
      "done 国内外OLED市场及研发初探_万勇_llm_correct.md syndata.\n",
      "Syndatas saved to outputs_pipeline/syndatas03_1.json\n",
      "Syndatas saved to outputs_pipeline/syndatas03_1_instruction.json\n",
      "done 印刷型设备产生配向膜Mura研究_王丹_llm_correct.md syndata.\n",
      "Syndatas saved to outputs_pipeline/syndatas03_1.json\n",
      "Syndatas saved to outputs_pipeline/syndatas03_1_instruction.json\n",
      "done OLED技术专利态势分析_郭晨_llm_correct.md syndata.\n",
      "Syndatas saved to outputs_pipeline/syndatas03_1.json\n",
      "Syndatas saved to outputs_pipeline/syndatas03_1_instruction.json\n",
      "done 含氟液晶材料概述_王刚_llm_correct.md syndata.\n",
      "Syndatas saved to outputs_pipeline/syndatas03_1.json\n",
      "Syndatas saved to outputs_pipeline/syndatas03_1_instruction.json\n",
      "done 中大尺寸TFT-LCD液晶...自动分断工艺设备研究与应用_高艳_llm_correct.md syndata.\n",
      "Syndatas saved to outputs_pipeline/syndatas03_1.json\n",
      "Syndatas saved to outputs_pipeline/syndatas03_1_instruction.json\n",
      "done 天下为“宽”__宽屏液晶显示器专题评测(下)_吕华威_llm_correct.md syndata.\n",
      "Syndatas saved to outputs_pipeline/syndatas03_1.json\n",
      "Syndatas saved to outputs_pipeline/syndatas03_1_instruction.json\n",
      "done 松果状纳米氧化铁对液晶电光性能的影响_王猛_llm_correct.md syndata.\n",
      "Syndatas saved to outputs_pipeline/syndatas03_1.json\n",
      "Syndatas saved to outputs_pipeline/syndatas03_1_instruction.json\n",
      "done 基于DMAIC的彩色滤光片产品的质量改进研究_华缜_llm_correct.md syndata.\n",
      "Syndatas saved to outputs_pipeline/syndatas03_1.json\n",
      "Syndatas saved to outputs_pipeline/syndatas03_1_instruction.json\n",
      "done Calculation a...ency of OLEDs_llm_correct.md syndata.\n",
      "Syndatas saved to outputs_pipeline/syndatas03_1.json\n",
      "Syndatas saved to outputs_pipeline/syndatas03_1_instruction.json\n",
      "done 掺杂的有机薄膜电致发光_刘祖刚_llm_correct.md syndata.\n",
      "Syndatas saved to outputs_pipeline/syndatas03_1.json\n",
      "Syndatas saved to outputs_pipeline/syndatas03_1_instruction.json\n",
      "done p-Si_TFT的电场增强MILC制备技术_曾祥斌_llm_correct.md syndata.\n",
      "Syndatas saved to outputs_pipeline/syndatas03_1.json\n",
      "Syndatas saved to outputs_pipeline/syndatas03_1_instruction.json\n",
      "done TFT_LCD——未来主流显示技术_黄锡珉_llm_correct.md syndata.\n",
      "Syndatas saved to outputs_pipeline/syndatas03_1.json\n",
      "Syndatas saved to outputs_pipeline/syndatas03_1_instruction.json\n",
      "done OLED将走向全彩化技术_吴腾奇_llm_correct.md syndata.\n",
      "Syndatas saved to outputs_pipeline/syndatas03_1.json\n",
      "Syndatas saved to outputs_pipeline/syndatas03_1_instruction.json\n",
      "done Tracepro在OLED微透镜设计中的应用_吴非_llm_correct.md syndata.\n",
      "Syndatas saved to outputs_pipeline/syndatas03_1.json\n",
      "Syndatas saved to outputs_pipeline/syndatas03_1_instruction.json\n",
      "done 新时代OLED的应用研究_雷慧茹_llm_correct.md syndata.\n",
      "Syndatas saved to outputs_pipeline/syndatas03_1.json\n",
      "Syndatas saved to outputs_pipeline/syndatas03_1_instruction.json\n",
      "done ■面InGaN量子阱中的静...光发光二极管光电性能的影响_尹瑞梅_llm_correct.md syndata.\n",
      "Syndatas saved to outputs_pipeline/syndatas03_1.json\n",
      "Syndatas saved to outputs_pipeline/syndatas03_1_instruction.json\n",
      "done 有机-无机钙钛矿作为有源层的薄膜晶体管制备_陈知新_llm_correct.md syndata.\n",
      "Syndatas saved to outputs_pipeline/syndatas03_1.json\n",
      "Syndatas saved to outputs_pipeline/syndatas03_1_instruction.json\n",
      "done 无机EL显示技术研究和开发进展_林明通_llm_correct.md syndata.\n",
      "Syndatas saved to outputs_pipeline/syndatas03_1.json\n",
      "Syndatas saved to outputs_pipeline/syndatas03_1_instruction.json\n",
      "done 基于磷光超薄层和掺杂层的高性能白色有机电致发光器件_程泽远_llm_correct.md syndata.\n",
      "Syndatas saved to outputs_pipeline/syndatas03_1.json\n",
      "Syndatas saved to outputs_pipeline/syndatas03_1_instruction.json\n",
      "done 向列型液晶显示器件的工作特性.md0000_llm_correct.md syndata.\n",
      "Syndatas saved to outputs_pipeline/syndatas03_1.json\n",
      "Syndatas saved to outputs_pipeline/syndatas03_1_instruction.json\n",
      "done 大尺寸TFT_LCD面板短路环切割质量提升研究_罗超龙_llm_correct.md syndata.\n",
      "Syndatas saved to outputs_pipeline/syndatas03_1.json\n",
      "Syndatas saved to outputs_pipeline/syndatas03_1_instruction.json\n",
      "done Alq_3有机发光二极管中的正负磁电导转变_张勇_llm_correct.md syndata.\n",
      "Syndatas saved to outputs_pipeline/syndatas03_1.json\n",
      "Syndatas saved to outputs_pipeline/syndatas03_1_instruction.json\n",
      "done OLED材料中间体的纯化方法研究_韩朝刚_llm_correct.md syndata.\n",
      "Syndatas saved to outputs_pipeline/syndatas03_1.json\n",
      "Syndatas saved to outputs_pipeline/syndatas03_1_instruction.json\n",
      "done InGaN量子点红光Micro-LED研究_余鹿鸣_llm_correct.md syndata.\n",
      "Syndatas saved to outputs_pipeline/syndatas03_1.json\n",
      "Syndatas saved to outputs_pipeline/syndatas03_1_instruction.json\n",
      "done 基于TFT-LCD下的Flicker研究与优化_李东华_llm_correct.md syndata.\n",
      "Syndatas saved to outputs_pipeline/syndatas03_1.json\n",
      "Syndatas saved to outputs_pipeline/syndatas03_1_instruction.json\n",
      "done 室温下溅射法制备高迁移率氧化锌薄膜晶体管_刘玉荣_llm_correct.md syndata.\n",
      "Syndatas saved to outputs_pipeline/syndatas03_1.json\n",
      "Syndatas saved to outputs_pipeline/syndatas03_1_instruction.json\n",
      "done p型多晶硅薄膜应变因子与掺杂浓度关系理论研究_王健_llm_correct.md syndata.\n",
      "Syndatas saved to outputs_pipeline/syndatas03_1.json\n",
      "Syndatas saved to outputs_pipeline/syndatas03_1_instruction.json\n",
      "done 有机发光显示器及材料现状研究_刘红丽_llm_correct.md syndata.\n",
      "Syndatas saved to outputs_pipeline/syndatas03_1.json\n",
      "Syndatas saved to outputs_pipeline/syndatas03_1_instruction.json\n",
      "done PET基片上射频磁控溅射不...厚度ITO薄膜的光电学特性_郑卫峰_llm_correct.md syndata.\n",
      "Syndatas saved to outputs_pipeline/syndatas03_1.json\n",
      "Syndatas saved to outputs_pipeline/syndatas03_1_instruction.json\n",
      "done OLED封装专利技术综述_钱丹娜_llm_correct.md syndata.\n",
      "Syndatas saved to outputs_pipeline/syndatas03_1.json\n",
      "Syndatas saved to outputs_pipeline/syndatas03_1_instruction.json\n",
      "done Micro_LED当前面临的瓶颈及技术进展_周佳_llm_correct.md syndata.\n",
      "Syndatas saved to outputs_pipeline/syndatas03_1.json\n",
      "Syndatas saved to outputs_pipeline/syndatas03_1_instruction.json\n",
      "done 基于非晶硅薄膜晶体管的室温红外探测器_董良_llm_correct.md syndata.\n",
      "Syndatas saved to outputs_pipeline/syndatas03_1.json\n",
      "Syndatas saved to outputs_pipeline/syndatas03_1_instruction.json\n",
      "done 柔性显示器件国际标准研究进展_党鹏乐_llm_correct.md syndata.\n",
      "Syndatas saved to outputs_pipeline/syndatas03_1.json\n",
      "Syndatas saved to outputs_pipeline/syndatas03_1_instruction.json\n",
      "done BCP的厚度对OLED性能的影响_王静_llm_correct.md syndata.\n",
      "Syndatas saved to outputs_pipeline/syndatas03_1.json\n",
      "Syndatas saved to outputs_pipeline/syndatas03_1_instruction.json\n",
      "done AMOLED子像素渲染算法研究_徐京_llm_correct.md syndata.\n",
      "Syndatas saved to outputs_pipeline/syndatas03_1.json\n",
      "Syndatas saved to outputs_pipeline/syndatas03_1_instruction.json\n",
      "done PCI结构TFT-LCD产...ra不良机理分析及改善研究_郭志轩_llm_correct.md syndata.\n",
      "Syndatas saved to outputs_pipeline/syndatas03_1.json\n",
      "Syndatas saved to outputs_pipeline/syndatas03_1_instruction.json\n",
      "done TFT-LCD摩擦工艺过程...静电放电不良分析及改善设计_王国磊_llm_correct.md syndata.\n",
      "Syndatas saved to outputs_pipeline/syndatas03_1.json\n",
      "Syndatas saved to outputs_pipeline/syndatas03_1_instruction.json\n",
      "done 柔性显示的研究进展_刘国柱_llm_correct.md syndata.\n",
      "Syndatas saved to outputs_pipeline/syndatas03_1.json\n",
      "Syndatas saved to outputs_pipeline/syndatas03_1_instruction.json\n",
      "done 利用FastTFT进行快速土方量计算的方法探讨_董明照_llm_correct.md syndata.\n",
      "Syndatas saved to outputs_pipeline/syndatas03_1.json\n",
      "Syndatas saved to outputs_pipeline/syndatas03_1_instruction.json\n",
      "done 新型显示偏光片光学膜的加工-结构-性能关系_韩雪晴_llm_correct.md syndata.\n",
      "Syndatas saved to outputs_pipeline/syndatas03_1.json\n",
      "Syndatas saved to outputs_pipeline/syndatas03_1_instruction.json\n",
      "done FOLED薄膜封装技术研究进展_曾克俭_llm_correct.md syndata.\n",
      "Syndatas saved to outputs_pipeline/syndatas03_1.json\n",
      "Syndatas saved to outputs_pipeline/syndatas03_1_instruction.json\n",
      "done 光配向技术在TFT-LCD中的应用_马国靖_llm_correct.md syndata.\n",
      "Syndatas saved to outputs_pipeline/syndatas03_1.json\n",
      "Syndatas saved to outputs_pipeline/syndatas03_1_instruction.json\n",
      "done TFT-LCD用彩色滤光片_李宏彦_llm_correct.md syndata.\n",
      "Syndatas saved to outputs_pipeline/syndatas03_1.json\n",
      "Syndatas saved to outputs_pipeline/syndatas03_1_instruction.json\n",
      "done 无机电致发光平板显示器的老化工艺_张羿_llm_correct.md syndata.\n",
      "Syndatas saved to outputs_pipeline/syndatas03_1.json\n",
      "Syndatas saved to outputs_pipeline/syndatas03_1_instruction.json\n",
      "done PECVD制备富硅氮化硅薄膜的工艺条件及其性质的研究_张龙龙_llm_correct.md syndata.\n",
      "Syndatas saved to outputs_pipeline/syndatas03_1.json\n",
      "Syndatas saved to outputs_pipeline/syndatas03_1_instruction.json\n",
      "done 基于专利视角的我国OLED照明技术发展态势分析_刘刚_llm_correct.md syndata.\n",
      "Syndatas saved to outputs_pipeline/syndatas03_1.json\n",
      "Syndatas saved to outputs_pipeline/syndatas03_1_instruction.json\n",
      "done LED灯珠峰值波长对液晶显示设备色彩的影响_刘发达_llm_correct.md syndata.\n",
      "Syndatas saved to outputs_pipeline/syndatas03_1.json\n",
      "Syndatas saved to outputs_pipeline/syndatas03_1_instruction.json\n",
      "done Mobility impa...ing IGZO TFTs_Congwei Liao_llm_correct.md syndata.\n",
      "Syndatas saved to outputs_pipeline/syndatas03_1.json\n",
      "Syndatas saved to outputs_pipeline/syndatas03_1_instruction.json\n",
      "done 氢稀释对FTS沉积a-Si∶H薄膜结构特性的影响_于威_llm_correct.md syndata.\n",
      "Syndatas saved to outputs_pipeline/syndatas03_1.json\n",
      "Syndatas saved to outputs_pipeline/syndatas03_1_instruction.json\n",
      "done 基于TFT-LCD工厂为中心的区域应急救援队建设_朱振师_llm_correct.md syndata.\n",
      "Syndatas saved to outputs_pipeline/syndatas03_1.json\n",
      "Syndatas saved to outputs_pipeline/syndatas03_1_instruction.json\n",
      "done 利用CF_4等离子体制作高...口率TFT-LCD(英文)_金奉柱_llm_correct.md syndata.\n",
      "Syndatas saved to outputs_pipeline/syndatas03_1.json\n",
      "Syndatas saved to outputs_pipeline/syndatas03_1_instruction.json\n",
      "done 有机量子阱结构发光器件的研究进展_朱海娜_llm_correct.md syndata.\n",
      "Syndatas saved to outputs_pipeline/syndatas03_1.json\n",
      "Syndatas saved to outputs_pipeline/syndatas03_1_instruction.json\n",
      "done 新型有机光电功能薄膜的电致发光研究_吴鹏_llm_correct.md syndata.\n",
      "Syndatas saved to outputs_pipeline/syndatas03_1.json\n",
      "Syndatas saved to outputs_pipeline/syndatas03_1_instruction.json\n",
      "done TFT光刻平面补偿优化_张玉虎_llm_correct.md syndata.\n",
      "Syndatas saved to outputs_pipeline/syndatas03_1.json\n",
      "Syndatas saved to outputs_pipeline/syndatas03_1_instruction.json\n",
      "done 基于深蓝光激基复合物构筑的OLED植物照明光源_孙阿辉_llm_correct.md syndata.\n",
      "Syndatas saved to outputs_pipeline/syndatas03_1.json\n",
      "Syndatas saved to outputs_pipeline/syndatas03_1_instruction.json\n",
      "done TFT-LCD屏亮度指标测量不确定度的分析_刘淑英_llm_correct.md syndata.\n",
      "Syndatas saved to outputs_pipeline/syndatas03_1.json\n",
      "Syndatas saved to outputs_pipeline/syndatas03_1_instruction.json\n",
      "done 基于自适应模板匹配阈值选取算法的显示器件多目标定位_齐昕雨_llm_correct.md syndata.\n",
      "Syndatas saved to outputs_pipeline/syndatas03_1.json\n",
      "Syndatas saved to outputs_pipeline/syndatas03_1_instruction.json\n",
      "done 9款38cm(15英寸)TFT_LCD显示器横向评测_张韬_llm_correct.md syndata.\n",
      "Syndatas saved to outputs_pipeline/syndatas03_1.json\n",
      "Syndatas saved to outputs_pipeline/syndatas03_1_instruction.json\n",
      "done 整车背光指示灯漏光问题分析与优化讨论_李月清_llm_correct.md syndata.\n",
      "Syndatas saved to outputs_pipeline/syndatas03_1.json\n",
      "Syndatas saved to outputs_pipeline/syndatas03_1_instruction.json\n",
      "done 关于高端显示技术OLED的研究_王志奇_llm_correct.md syndata.\n",
      "Syndatas saved to outputs_pipeline/syndatas03_1.json\n",
      "Syndatas saved to outputs_pipeline/syndatas03_1_instruction.json\n",
      "done OLED的中国小伙伴_姜中介_llm_correct.md syndata.\n",
      "Syndatas saved to outputs_pipeline/syndatas03_1.json\n",
      "Syndatas saved to outputs_pipeline/syndatas03_1_instruction.json\n",
      "done 基于LTPS制程工艺的LC...ED显示用玻璃基板发展综述_田英良_llm_correct.md syndata.\n",
      "Syndatas saved to outputs_pipeline/syndatas03_1.json\n",
      "Syndatas saved to outputs_pipeline/syndatas03_1_instruction.json\n",
      "done 微杯型电泳显示器的研究进展_谢建宇_llm_correct.md syndata.\n",
      "Syndatas saved to outputs_pipeline/syndatas03_1.json\n",
      "Syndatas saved to outputs_pipeline/syndatas03_1_instruction.json\n",
      "done 新加坡瞄准了OLEDs_Adrian PBurden_llm_correct.md syndata.\n",
      "Syndatas saved to outputs_pipeline/syndatas03_1.json\n",
      "Syndatas saved to outputs_pipeline/syndatas03_1_instruction.json\n",
      "done TFT-LCD黑Gap分析及改善研究_熊奇_llm_correct.md syndata.\n",
      "Syndatas saved to outputs_pipeline/syndatas03_1.json\n",
      "Syndatas saved to outputs_pipeline/syndatas03_1_instruction.json\n",
      "done 先进微电子与光电子材料与器件.md0000_llm_correct.md syndata.\n",
      "Syndatas saved to outputs_pipeline/syndatas03_1.json\n",
      "Syndatas saved to outputs_pipeline/syndatas03_1_instruction.json\n",
      "done 基于机器视觉的液晶屏Mura缺陷检测方法_钱基德_llm_correct.md syndata.\n",
      "Syndatas saved to outputs_pipeline/syndatas03_1.json\n",
      "Syndatas saved to outputs_pipeline/syndatas03_1_instruction.json\n",
      "done 双层有源层非晶铟镓锌氧化物薄膜晶体管的仿真_彭云霞_llm_correct.md syndata.\n",
      "Syndatas saved to outputs_pipeline/syndatas03_1.json\n",
      "Syndatas saved to outputs_pipeline/syndatas03_1_instruction.json\n",
      "done IGZO型TFT图形设计优化_王国志_llm_correct.md syndata.\n",
      "Syndatas saved to outputs_pipeline/syndatas03_1.json\n",
      "Syndatas saved to outputs_pipeline/syndatas03_1_instruction.json\n",
      "done 平面显示技术的应用探讨_梁柱杰_llm_correct.md syndata.\n",
      "Syndatas saved to outputs_pipeline/syndatas03_1.json\n",
      "Syndatas saved to outputs_pipeline/syndatas03_1_instruction.json\n",
      "done 微波退火法制备多晶硅薄膜的电学特性研究_饶瑞_llm_correct.md syndata.\n",
      "Syndatas saved to outputs_pipeline/syndatas03_1.json\n",
      "Syndatas saved to outputs_pipeline/syndatas03_1_instruction.json\n",
      "done 场时序彩色液晶显示器技术_耿卫东_llm_correct.md syndata.\n",
      "Syndatas saved to outputs_pipeline/syndatas03_1.json\n",
      "Syndatas saved to outputs_pipeline/syndatas03_1_instruction.json\n",
      "done B掺杂ZnO纳米薄膜的结构和光学特性研究_化麒麟_llm_correct.md syndata.\n",
      "Syndatas saved to outputs_pipeline/syndatas03_1.json\n",
      "Syndatas saved to outputs_pipeline/syndatas03_1_instruction.json\n",
      "done B_2O_3对LTPS用基板玻璃结构和黏温性能的影响_杨国洪_llm_correct.md syndata.\n",
      "Syndatas saved to outputs_pipeline/syndatas03_1.json\n",
      "Syndatas saved to outputs_pipeline/syndatas03_1_instruction.json\n",
      "done TFT-LCD显示驱动技术的发展_夏炎_llm_correct.md syndata.\n",
      "Syndatas saved to outputs_pipeline/syndatas03_1.json\n",
      "Syndatas saved to outputs_pipeline/syndatas03_1_instruction.json\n",
      "done Effects of or... OLED devices_胡俊涛_llm_correct.md syndata.\n",
      "Syndatas saved to outputs_pipeline/syndatas03_1.json\n",
      "Syndatas saved to outputs_pipeline/syndatas03_1_instruction.json\n",
      "done 基于Alq_3的有机发光二极管中的瞬时荧光与延迟荧光_张勇_llm_correct.md syndata.\n",
      "Syndatas saved to outputs_pipeline/syndatas03_1.json\n",
      "Syndatas saved to outputs_pipeline/syndatas03_1_instruction.json\n",
      "done 柔性OLED用高耐热聚酰亚胺薄膜的制备与性能_矫龙_llm_correct.md syndata.\n",
      "Syndatas saved to outputs_pipeline/syndatas03_1.json\n",
      "Syndatas saved to outputs_pipeline/syndatas03_1_instruction.json\n",
      "done TFT-LCD屏的Flic...er和DC残留的研究及改善_叶纯_llm_correct.md syndata.\n",
      "Syndatas saved to outputs_pipeline/syndatas03_1.json\n",
      "Syndatas saved to outputs_pipeline/syndatas03_1_instruction.json\n",
      "done 9英寸MIM矩阵式液晶显示器件_陈树民_llm_correct.md syndata.\n",
      "Syndatas saved to outputs_pipeline/syndatas03_1.json\n",
      "Syndatas saved to outputs_pipeline/syndatas03_1_instruction.json\n",
      "done 大型液晶显示用COF带的细节距线路形成_蔡积庆_llm_correct.md syndata.\n",
      "Syndatas saved to outputs_pipeline/syndatas03_1.json\n",
      "Syndatas saved to outputs_pipeline/syndatas03_1_instruction.json\n",
      "done 有机发光器件平板显示及彩色象元实现方案_宋登元_llm_correct.md syndata.\n",
      "Syndatas saved to outputs_pipeline/syndatas03_1.json\n",
      "Syndatas saved to outputs_pipeline/syndatas03_1_instruction.json\n",
      "done 数字电视时代的显示器件_万建_llm_correct.md syndata.\n",
      "Syndatas saved to outputs_pipeline/syndatas03_1.json\n",
      "Syndatas saved to outputs_pipeline/syndatas03_1_instruction.json\n",
      "done 平板显示器件的新进展及其应用潜力_Tatsuo Uchida_llm_correct.md syndata.\n",
      "Syndatas saved to outputs_pipeline/syndatas03_1.json\n",
      "Syndatas saved to outputs_pipeline/syndatas03_1_instruction.json\n",
      "done TFT_LCD响应时间的影响因素及技术突破_陈玲玲_llm_correct.md syndata.\n",
      "Syndatas saved to outputs_pipeline/syndatas03_1.json\n",
      "Syndatas saved to outputs_pipeline/syndatas03_1_instruction.json\n",
      "done 介观光学结构提高蓝色顶发射有机电致发光器件效率_钟耀贤_llm_correct.md syndata.\n",
      "Syndatas saved to outputs_pipeline/syndatas03_1.json\n",
      "Syndatas saved to outputs_pipeline/syndatas03_1_instruction.json\n",
      "done 对液晶电视动态画面响应的测试研究_徐涛_llm_correct.md syndata.\n",
      "Syndatas saved to outputs_pipeline/syndatas03_1.json\n",
      "Syndatas saved to outputs_pipeline/syndatas03_1_instruction.json\n",
      "done 基于TFT-LCD工艺变更的分级评审模型研究应用_刘虎军_llm_correct.md syndata.\n",
      "Syndatas saved to outputs_pipeline/syndatas03_1.json\n",
      "Syndatas saved to outputs_pipeline/syndatas03_1_instruction.json\n",
      "done 新型LCD显示屏技术_llm_correct.md syndata.\n",
      "Syndatas saved to outputs_pipeline/syndatas03_1.json\n",
      "Syndatas saved to outputs_pipeline/syndatas03_1_instruction.json\n",
      "done 平板显示中的双稳态技术_现状与进展(三)_黄子强_llm_correct.md syndata.\n",
      "Syndatas saved to outputs_pipeline/syndatas03_1.json\n",
      "Syndatas saved to outputs_pipeline/syndatas03_1_instruction.json\n",
      "done 基底加热温度对ITO薄膜的性能影响研究_王欣月_llm_correct.md syndata.\n",
      "Syndatas saved to outputs_pipeline/syndatas03_1.json\n",
      "Syndatas saved to outputs_pipeline/syndatas03_1_instruction.json\n",
      "done 柔性显示器件挺度测量方法研究_刘艳玲_llm_correct.md syndata.\n",
      "Syndatas saved to outputs_pipeline/syndatas03_1.json\n",
      "Syndatas saved to outputs_pipeline/syndatas03_1_instruction.json\n",
      "done 基于TFT-LCD的动态星模拟器星点位置修正方法_王俣_llm_correct.md syndata.\n",
      "Syndatas saved to outputs_pipeline/syndatas03_1.json\n",
      "Syndatas saved to outputs_pipeline/syndatas03_1_instruction.json\n",
      "done TFT-LCD显色恒定性与独立性研究_吴文明_llm_correct.md syndata.\n",
      "Syndatas saved to outputs_pipeline/syndatas03_1.json\n",
      "Syndatas saved to outputs_pipeline/syndatas03_1_instruction.json\n",
      "done OLED平面电致发光器件在照明领域的应用展望_蔡伟新_llm_correct.md syndata.\n",
      "Syndatas saved to outputs_pipeline/syndatas03_1.json\n",
      "Syndatas saved to outputs_pipeline/syndatas03_1_instruction.json\n",
      "done TFT-LCD工业中竖纹不良的研究与改善_贾宜訸_llm_correct.md syndata.\n",
      "Syndatas saved to outputs_pipeline/syndatas03_1.json\n",
      "Syndatas saved to outputs_pipeline/syndatas03_1_instruction.json\n",
      "done OLED的最新消息_海信_llm_correct.md syndata.\n",
      "Syndatas saved to outputs_pipeline/syndatas03_1.json\n",
      "Syndatas saved to outputs_pipeline/syndatas03_1_instruction.json\n",
      "done 显示技术的现状和将来发展趋势_张圻_llm_correct.md syndata.\n",
      "Syndatas saved to outputs_pipeline/syndatas03_1.json\n",
      "Syndatas saved to outputs_pipeline/syndatas03_1_instruction.json\n",
      "done A Method for OLED Test_llm_correct.md syndata.\n",
      "Syndatas saved to outputs_pipeline/syndatas03_1.json\n",
      "Syndatas saved to outputs_pipeline/syndatas03_1_instruction.json\n",
      "done 基于K-means聚类和L...络的_OLED缺陷像素识别_纪艳玲_llm_correct.md syndata.\n",
      "Syndatas saved to outputs_pipeline/syndatas03_1.json\n",
      "Syndatas saved to outputs_pipeline/syndatas03_1_instruction.json\n",
      "done 机器视觉在TFT-LCD暗画面缺陷检测中的应用_顾杰_llm_correct.md syndata.\n",
      "Syndatas saved to outputs_pipeline/syndatas03_1.json\n",
      "Syndatas saved to outputs_pipeline/syndatas03_1_instruction.json\n",
      "done TFT_AMLCD像素矩阵电路中栅延迟的模拟研究_李牧菊_llm_correct.md syndata.\n",
      "Syndatas saved to outputs_pipeline/syndatas03_1.json\n",
      "Syndatas saved to outputs_pipeline/syndatas03_1_instruction.json\n",
      "done 低温多晶硅薄膜晶体管液晶显示器的驱动条件_偰正才_llm_correct.md syndata.\n",
      "Syndatas saved to outputs_pipeline/syndatas03_1.json\n",
      "Syndatas saved to outputs_pipeline/syndatas03_1_instruction.json\n",
      "done 使用铜源漏电极的非晶氧化铟锌薄膜晶体管的研究_徐瑞霞_llm_correct.md syndata.\n",
      "Syndatas saved to outputs_pipeline/syndatas03_1.json\n",
      "Syndatas saved to outputs_pipeline/syndatas03_1_instruction.json\n",
      "done 双面显示技术的进展(续)_陈禹翔.md0000_llm_correct.md syndata.\n",
      "Syndatas saved to outputs_pipeline/syndatas03_1.json\n",
      "Syndatas saved to outputs_pipeline/syndatas03_1_instruction.json\n",
      "done 未来半导体材料在柔性显示屏技术中的创新与应用_吕岳敏_llm_correct.md syndata.\n",
      "Syndatas saved to outputs_pipeline/syndatas03_1.json\n",
      "Syndatas saved to outputs_pipeline/syndatas03_1_instruction.json\n",
      "done 检测OLED显示器的工作台_llm_correct.md syndata.\n",
      "Syndatas saved to outputs_pipeline/syndatas03_1.json\n",
      "Syndatas saved to outputs_pipeline/syndatas03_1_instruction.json\n",
      "done 平板显示技术的新进展_谢智波_llm_correct.md syndata.\n",
      "Syndatas saved to outputs_pipeline/syndatas03_1.json\n",
      "Syndatas saved to outputs_pipeline/syndatas03_1_instruction.json\n",
      "done 某大型TFT液晶面板厂结构设计_邓宇强_llm_correct.md syndata.\n",
      "Syndatas saved to outputs_pipeline/syndatas03_1.json\n",
      "Syndatas saved to outputs_pipeline/syndatas03_1_instruction.json\n",
      "done 印刷电子技术在OLED显示器件中的应用_郑华_llm_correct.md syndata.\n",
      "Syndatas saved to outputs_pipeline/syndatas03_1.json\n",
      "Syndatas saved to outputs_pipeline/syndatas03_1_instruction.json\n",
      "done 固体纳秒激光器应用于非晶硅薄膜结晶的研究_王帅_llm_correct.md syndata.\n",
      "Syndatas saved to outputs_pipeline/syndatas03_1.json\n",
      "Syndatas saved to outputs_pipeline/syndatas03_1_instruction.json\n",
      "done TFT-LCD一种条纹Mura的研究与改善_张正林_llm_correct.md syndata.\n",
      "Syndatas saved to outputs_pipeline/syndatas03_1.json\n",
      "Syndatas saved to outputs_pipeline/syndatas03_1_instruction.json\n",
      "done Langmuir探针对以S...积多晶硅薄膜过程的在线检测_祝祖送_llm_correct.md syndata.\n",
      "Syndatas saved to outputs_pipeline/syndatas03_1.json\n",
      "Syndatas saved to outputs_pipeline/syndatas03_1_instruction.json\n",
      "done OLED应用与市场_张瑞君_llm_correct.md syndata.\n",
      "Syndatas saved to outputs_pipeline/syndatas03_1.json\n",
      "Syndatas saved to outputs_pipeline/syndatas03_1_instruction.json\n",
      "done 基于表面势的氢化非晶硅薄膜晶体管直流特性研究_陈晓雪_llm_correct.md syndata.\n",
      "Syndatas saved to outputs_pipeline/syndatas03_1.json\n",
      "Syndatas saved to outputs_pipeline/syndatas03_1_instruction.json\n",
      "done TFT基板玻璃通道铂铑热电偶温度波动现象分析和对策_王庚_llm_correct.md syndata.\n",
      "Syndatas saved to outputs_pipeline/syndatas03_1.json\n",
      "Syndatas saved to outputs_pipeline/syndatas03_1_instruction.json\n",
      "done OLED概念股谁最抢眼__昝立永_llm_correct.md syndata.\n",
      "Syndatas saved to outputs_pipeline/syndatas03_1.json\n",
      "Syndatas saved to outputs_pipeline/syndatas03_1_instruction.json\n",
      "done 手机OLED屏幕子像素排布的观察与颜色合成实验_王希成_llm_correct.md syndata.\n",
      "Syndatas saved to outputs_pipeline/syndatas03_1.json\n",
      "Syndatas saved to outputs_pipeline/syndatas03_1_instruction.json\n",
      "done 多晶硅TFT及其在AMLCD中的应用_饶瑞_llm_correct.md syndata.\n",
      "Syndatas saved to outputs_pipeline/syndatas03_1.json\n",
      "Syndatas saved to outputs_pipeline/syndatas03_1_instruction.json\n",
      "done OLED面板的彩色显示驱动技术研究_卢贵主_llm_correct.md syndata.\n",
      "Syndatas saved to outputs_pipeline/syndatas03_1.json\n",
      "Syndatas saved to outputs_pipeline/syndatas03_1_instruction.json\n",
      "done OLED显示产业渐行渐热_llm_correct.md syndata.\n",
      "Syndatas saved to outputs_pipeline/syndatas03_1.json\n",
      "Syndatas saved to outputs_pipeline/syndatas03_1_instruction.json\n",
      "done OLED平板显示技术原理与应用_苗英恺_llm_correct.md syndata.\n",
      "Syndatas saved to outputs_pipeline/syndatas03_1.json\n",
      "Syndatas saved to outputs_pipeline/syndatas03_1_instruction.json\n",
      "done 有机EL——下一代显示技术及其产业发展_张兴科_llm_correct.md syndata.\n",
      "Syndatas saved to outputs_pipeline/syndatas03_1.json\n",
      "Syndatas saved to outputs_pipeline/syndatas03_1_instruction.json\n",
      "done 大开眼界__ViewSon..._VX2640W液晶显示器_吕华威_llm_correct.md syndata.\n",
      "Syndatas saved to outputs_pipeline/syndatas03_1.json\n",
      "Syndatas saved to outputs_pipeline/syndatas03_1_instruction.json\n",
      "done 北京科技大学研制成功聚合物...光材料单层白光OLED器件_新型_llm_correct.md syndata.\n",
      "Syndatas saved to outputs_pipeline/syndatas03_1.json\n",
      "Syndatas saved to outputs_pipeline/syndatas03_1_instruction.json\n",
      "done LED光电显示器件用双组分有机硅灌封胶的研制_熊婷_llm_correct.md syndata.\n",
      "Syndatas saved to outputs_pipeline/syndatas03_1.json\n",
      "Syndatas saved to outputs_pipeline/syndatas03_1_instruction.json\n",
      "done 多通道OLED器件寿命分析测试系统研制_余树福_llm_correct.md syndata.\n",
      "Syndatas saved to outputs_pipeline/syndatas03_1.json\n",
      "Syndatas saved to outputs_pipeline/syndatas03_1_instruction.json\n",
      "done 快速光热退火法制备多晶硅薄膜的研究_冯团辉_llm_correct.md syndata.\n",
      "Syndatas saved to outputs_pipeline/syndatas03_1.json\n",
      "Syndatas saved to outputs_pipeline/syndatas03_1_instruction.json\n",
      "done 射频磁控溅射ITO薄膜中沉积温度对膜特性影响_赵透玲_llm_correct.md syndata.\n",
      "Syndatas saved to outputs_pipeline/syndatas03_1.json\n",
      "Syndatas saved to outputs_pipeline/syndatas03_1_instruction.json\n",
      "done 显示器件用导热聚酯涂料的研究_杨庆浩_llm_correct.md syndata.\n",
      "Syndatas saved to outputs_pipeline/syndatas03_1.json\n",
      "Syndatas saved to outputs_pipeline/syndatas03_1_instruction.json\n",
      "done 光配向技术在液晶电视面板中的应用_周刘飞_llm_correct.md syndata.\n",
      "Syndatas saved to outputs_pipeline/syndatas03_1.json\n",
      "Syndatas saved to outputs_pipeline/syndatas03_1_instruction.json\n",
      "done 有助于OLED产业化的可溶解工艺_William Feehery_llm_correct.md syndata.\n",
      "Syndatas saved to outputs_pipeline/syndatas03_1.json\n",
      "Syndatas saved to outputs_pipeline/syndatas03_1_instruction.json\n",
      "done 一种新型平板彩色显示器件的制备和光谱分析_牛连斌_llm_correct.md syndata.\n",
      "Syndatas saved to outputs_pipeline/syndatas03_1.json\n",
      "Syndatas saved to outputs_pipeline/syndatas03_1_instruction.json\n",
      "done PEN有助于制造柔性OLED显示屏_llm_correct.md syndata.\n",
      "Syndatas saved to outputs_pipeline/syndatas03_1.json\n",
      "Syndatas saved to outputs_pipeline/syndatas03_1_instruction.json\n",
      "done 微显示器件中的边缘场效应及其改善方法_刘绍锦_llm_correct.md syndata.\n",
      "Syndatas saved to outputs_pipeline/syndatas03_1.json\n",
      "Syndatas saved to outputs_pipeline/syndatas03_1_instruction.json\n",
      "done AMOLED头盔显示器光学系统设计及视空间评价_范海英_llm_correct.md syndata.\n",
      "Syndatas saved to outputs_pipeline/syndatas03_1.json\n",
      "Syndatas saved to outputs_pipeline/syndatas03_1_instruction.json\n",
      "done LED背光对LCD色彩的影响探讨_魏欢欢_llm_correct.md syndata.\n",
      "Syndatas saved to outputs_pipeline/syndatas03_1.json\n",
      "Syndatas saved to outputs_pipeline/syndatas03_1_instruction.json\n",
      "done LCD液晶显示模块在工程装备计时系统中应用_袁建虎_llm_correct.md syndata.\n",
      "Syndatas saved to outputs_pipeline/syndatas03_1.json\n",
      "Syndatas saved to outputs_pipeline/syndatas03_1_instruction.json\n",
      "done 平板显示产业发展新动能_陈曦_llm_correct.md syndata.\n",
      "Syndatas saved to outputs_pipeline/syndatas03_1.json\n",
      "Syndatas saved to outputs_pipeline/syndatas03_1_instruction.json\n",
      "done 放眼天地宽__21.6_2...英寸宽屏液晶显示器专题评测_吕华威_llm_correct.md syndata.\n",
      "Syndatas saved to outputs_pipeline/syndatas03_1.json\n",
      "Syndatas saved to outputs_pipeline/syndatas03_1_instruction.json\n",
      "done 基于TADF共掺杂的蓝光OLED器件性能研究_王豪杰_llm_correct.md syndata.\n",
      "Syndatas saved to outputs_pipeline/syndatas03_1.json\n",
      "Syndatas saved to outputs_pipeline/syndatas03_1_instruction.json\n",
      "done 2005_OLED行业一瞥_王力_llm_correct.md syndata.\n",
      "Syndatas saved to outputs_pipeline/syndatas03_1.json\n",
      "Syndatas saved to outputs_pipeline/syndatas03_1_instruction.json\n",
      "done STN型液晶显示用聚酰亚胺表面取向材料的性能_梁晓_llm_correct.md syndata.\n",
      "Syndatas saved to outputs_pipeline/syndatas03_1.json\n",
      "Syndatas saved to outputs_pipeline/syndatas03_1_instruction.json\n",
      "done 基于Pb和LiF复合阴极的高对比度有机电致发光器件_丛杨_llm_correct.md syndata.\n",
      "Syndatas saved to outputs_pipeline/syndatas03_1.json\n",
      "Syndatas saved to outputs_pipeline/syndatas03_1_instruction.json\n",
      "done 有机发光二极管的热分析与热设计_杨连乔_llm_correct.md syndata.\n",
      "Syndatas saved to outputs_pipeline/syndatas03_1.json\n",
      "Syndatas saved to outputs_pipeline/syndatas03_1_instruction.json\n",
      "done 新型半导体材料在柔性显示屏应用中的展望_张启华_llm_correct.md syndata.\n",
      "Syndatas saved to outputs_pipeline/syndatas03_1.json\n",
      "Syndatas saved to outputs_pipeline/syndatas03_1_instruction.json\n",
      "done OLED电视的发展潜力和应用前景_Tetsuo Urabe_llm_correct.md syndata.\n",
      "Syndatas saved to outputs_pipeline/syndatas03_1.json\n",
      "Syndatas saved to outputs_pipeline/syndatas03_1_instruction.json\n",
      "done 快速光热退火制备多晶硅薄膜_张宇翔_llm_correct.md syndata.\n",
      "Syndatas saved to outputs_pipeline/syndatas03_1.json\n",
      "Syndatas saved to outputs_pipeline/syndatas03_1_instruction.json\n",
      "done Rubbing_Mura不良的研究与改善_王昌银_llm_correct.md syndata.\n",
      "Syndatas saved to outputs_pipeline/syndatas03_1.json\n",
      "Syndatas saved to outputs_pipeline/syndatas03_1_instruction.json\n",
      "done OLED在汽车领域中的应用_田沛东_llm_correct.md syndata.\n",
      "Syndatas saved to outputs_pipeline/syndatas03_1.json\n",
      "Syndatas saved to outputs_pipeline/syndatas03_1_instruction.json\n",
      "done OLED电视战__提前打响_郭荣村_llm_correct.md syndata.\n",
      "Syndatas saved to outputs_pipeline/syndatas03_1.json\n",
      "Syndatas saved to outputs_pipeline/syndatas03_1_instruction.json\n",
      "done 一种基于DSP和KS0107B的液晶显示_杨桦_llm_correct.md syndata.\n",
      "Syndatas saved to outputs_pipeline/syndatas03_1.json\n",
      "Syndatas saved to outputs_pipeline/syndatas03_1_instruction.json\n",
      "done 《显示器能效限定值及能效等级》标准解析_吴蔚华_llm_correct.md syndata.\n",
      "Syndatas saved to outputs_pipeline/syndatas03_1.json\n",
      "Syndatas saved to outputs_pipeline/syndatas03_1_instruction.json\n",
      "done 中国OLED企业的机遇和挑战_语安_llm_correct.md syndata.\n",
      "Syndatas saved to outputs_pipeline/syndatas03_1.json\n",
      "Syndatas saved to outputs_pipeline/syndatas03_1_instruction.json\n",
      "done 基于透明OLED显示技术的车窗在城轨交通中的应用_贾涛_llm_correct.md syndata.\n",
      "Syndatas saved to outputs_pipeline/syndatas03_1.json\n",
      "Syndatas saved to outputs_pipeline/syndatas03_1_instruction.json\n",
      "done 中科院院士、华南理工大学曹...报纸一样印出有机发光显示屏_叶青_llm_correct.md syndata.\n",
      "Syndatas saved to outputs_pipeline/syndatas03_1.json\n",
      "Syndatas saved to outputs_pipeline/syndatas03_1_instruction.json\n",
      "done 一种两叠层结构TFT-LCD的端子腐蚀研究_仵向理_llm_correct.md syndata.\n",
      "Syndatas saved to outputs_pipeline/syndatas03_1.json\n",
      "Syndatas saved to outputs_pipeline/syndatas03_1_instruction.json\n",
      "done 工业控制用液晶显示模块_llm_correct.md syndata.\n",
      "Syndatas saved to outputs_pipeline/syndatas03_1.json\n",
      "Syndatas saved to outputs_pipeline/syndatas03_1_instruction.json\n",
      "done 一种使用聚酰亚胺的新型有机发光二极管的研究_王建浦_llm_correct.md syndata.\n",
      "Syndatas saved to outputs_pipeline/syndatas03_1.json\n",
      "Syndatas saved to outputs_pipeline/syndatas03_1_instruction.json\n",
      "done 反射式液晶显示光学的理论计算_王谦_llm_correct.md syndata.\n",
      "Syndatas saved to outputs_pipeline/syndatas03_1.json\n",
      "Syndatas saved to outputs_pipeline/syndatas03_1_instruction.json\n",
      "done a-Si∶H-TFT阈值电...动OLED显示中的补偿设计_刘金娥_llm_correct.md syndata.\n",
      "Syndatas saved to outputs_pipeline/syndatas03_1.json\n",
      "Syndatas saved to outputs_pipeline/syndatas03_1_instruction.json\n",
      "done 一种大尺寸双冗余机载液晶显示器的设计_金诗玮_llm_correct.md syndata.\n",
      "Syndatas saved to outputs_pipeline/syndatas03_1.json\n",
      "Syndatas saved to outputs_pipeline/syndatas03_1_instruction.json\n",
      "done 共面转换液晶显示器中获得对比度高于1_600的新技术_Jae Hyun Kim_llm_correct.md syndata.\n",
      "Syndatas saved to outputs_pipeline/syndatas03_1.json\n",
      "Syndatas saved to outputs_pipeline/syndatas03_1_instruction.json\n",
      "done 各类液晶显示模块的比较研究_陈羽_llm_correct.md syndata.\n",
      "Syndatas saved to outputs_pipeline/syndatas03_1.json\n",
      "Syndatas saved to outputs_pipeline/syndatas03_1_instruction.json\n",
      "done OLED作为操作面板的多级功能菜单设计_李艺_llm_correct.md syndata.\n",
      "Syndatas saved to outputs_pipeline/syndatas03_1.json\n",
      "Syndatas saved to outputs_pipeline/syndatas03_1_instruction.json\n",
      "done 一个非晶InGaZnO薄膜...体管线性区陷阱态的提取方法_徐飘荣_llm_correct.md syndata.\n",
      "Syndatas saved to outputs_pipeline/syndatas03_1.json\n",
      "Syndatas saved to outputs_pipeline/syndatas03_1_instruction.json\n",
      "done SID_2013__LGD展示多种下一代显示技术_llm_correct.md syndata.\n",
      "Syndatas saved to outputs_pipeline/syndatas03_1.json\n",
      "Syndatas saved to outputs_pipeline/syndatas03_1_instruction.json\n",
      "done 有机电致发光显示技术综述_李维諟_llm_correct.md syndata.\n",
      "Syndatas saved to outputs_pipeline/syndatas03_1.json\n",
      "Syndatas saved to outputs_pipeline/syndatas03_1_instruction.json\n",
      "done 氟化钙在TFT基板玻璃中的应用研究_舒众众_llm_correct.md syndata.\n",
      "Syndatas saved to outputs_pipeline/syndatas03_1.json\n",
      "Syndatas saved to outputs_pipeline/syndatas03_1_instruction.json\n",
      "done OLED_LCD器件中的γ校正_杨虹_llm_correct.md syndata.\n",
      "Syndatas saved to outputs_pipeline/syndatas03_1.json\n",
      "Syndatas saved to outputs_pipeline/syndatas03_1_instruction.json\n",
      "done TFT-LCD彩膜工艺宏观缺陷自动化修补的探究_毛继禹_llm_correct.md syndata.\n",
      "Syndatas saved to outputs_pipeline/syndatas03_1.json\n",
      "Syndatas saved to outputs_pipeline/syndatas03_1_instruction.json\n",
      "done 日本人为降低AM-TFT-LCDs的成本而战_郭淑慈_llm_correct.md syndata.\n",
      "Syndatas saved to outputs_pipeline/syndatas03_1.json\n",
      "Syndatas saved to outputs_pipeline/syndatas03_1_instruction.json\n",
      "done OLED商业化路漫漫_陶海青_llm_correct.md syndata.\n",
      "Syndatas saved to outputs_pipeline/syndatas03_1.json\n",
      "Syndatas saved to outputs_pipeline/syndatas03_1_instruction.json\n",
      "done OLED显示器的SMBus接口软硬件实现_孙庆_llm_correct.md syndata.\n",
      "Syndatas saved to outputs_pipeline/syndatas03_1.json\n",
      "Syndatas saved to outputs_pipeline/syndatas03_1_instruction.json\n",
      "done 折叠屏高增长利好OLED、UTG_刘吉洪_llm_correct.md syndata.\n",
      "Syndatas saved to outputs_pipeline/syndatas03_1.json\n",
      "Syndatas saved to outputs_pipeline/syndatas03_1_instruction.json\n",
      "done TFT-LCD横纹不良研究与改善_王超_llm_correct.md syndata.\n",
      "Syndatas saved to outputs_pipeline/syndatas03_1.json\n",
      "Syndatas saved to outputs_pipeline/syndatas03_1_instruction.json\n",
      "done 彩色薄膜晶体管液晶显示器(...T-LCD)基本原理与动态_林志刚_llm_correct.md syndata.\n",
      "Syndatas saved to outputs_pipeline/syndatas03_1.json\n",
      "Syndatas saved to outputs_pipeline/syndatas03_1_instruction.json\n",
      "done 大尺寸TFT-LCD_GO...nel_CD管控方案的研究_熊嘉琪_llm_correct.md syndata.\n",
      "Syndatas saved to outputs_pipeline/syndatas03_1.json\n",
      "Syndatas saved to outputs_pipeline/syndatas03_1_instruction.json\n",
      "done 基于JAS膜技术下TFT-...像素电压串扰的影响因素研究_姚家俊_llm_correct.md syndata.\n",
      "Syndatas saved to outputs_pipeline/syndatas03_1.json\n",
      "Syndatas saved to outputs_pipeline/syndatas03_1_instruction.json\n",
      "done NTC热敏电阻在液晶显示中的应用_贾金萍_llm_correct.md syndata.\n",
      "Syndatas saved to outputs_pipeline/syndatas03_1.json\n",
      "Syndatas saved to outputs_pipeline/syndatas03_1_instruction.json\n",
      "done 数码摄影师的色彩管理讲座(...色彩模式、色彩空间和色域”_吴启海_llm_correct.md syndata.\n",
      "Syndatas saved to outputs_pipeline/syndatas03_1.json\n",
      "Syndatas saved to outputs_pipeline/syndatas03_1_instruction.json\n",
      "done TFT-LCD模组制造生产效率与品质提升的研究_袁博_llm_correct.md syndata.\n",
      "Syndatas saved to outputs_pipeline/syndatas03_1.json\n",
      "Syndatas saved to outputs_pipeline/syndatas03_1_instruction.json\n",
      "done 平板显示中的双稳态技术_现状与进展(二)_黄子强_llm_correct.md syndata.\n",
      "Syndatas saved to outputs_pipeline/syndatas03_1.json\n",
      "Syndatas saved to outputs_pipeline/syndatas03_1_instruction.json\n",
      "done 对“剖析液晶屏逻辑板TFT...电路”一文的一点看法(中)_郝铭_llm_correct.md syndata.\n",
      "Syndatas saved to outputs_pipeline/syndatas03_1.json\n",
      "Syndatas saved to outputs_pipeline/syndatas03_1_instruction.json\n",
      "done 有关TFT-LCD液晶显示光线利用效率探索_王艳卿_llm_correct.md syndata.\n",
      "Syndatas saved to outputs_pipeline/syndatas03_1.json\n",
      "Syndatas saved to outputs_pipeline/syndatas03_1_instruction.json\n",
      "done 双面显示技术的进展_陈禹翔_llm_correct.md syndata.\n",
      "Syndatas saved to outputs_pipeline/syndatas03_1.json\n",
      "Syndatas saved to outputs_pipeline/syndatas03_1_instruction.json\n",
      "done 基于Alq_3的有机发光二极管的磁电导效应_张勇_llm_correct.md syndata.\n",
      "Syndatas saved to outputs_pipeline/syndatas03_1.json\n",
      "Syndatas saved to outputs_pipeline/syndatas03_1_instruction.json\n",
      "done 大幅面柔性屏的喷墨印刷_冉紫媛_llm_correct.md syndata.\n",
      "Syndatas saved to outputs_pipeline/syndatas03_1.json\n",
      "Syndatas saved to outputs_pipeline/syndatas03_1_instruction.json\n",
      "done OLED电视市场化暂难突破上下游厂商借4K产品救市_余骅_llm_correct.md syndata.\n",
      "Syndatas saved to outputs_pipeline/syndatas03_1.json\n",
      "Syndatas saved to outputs_pipeline/syndatas03_1_instruction.json\n",
      "done 平板显示技术标准工作组2011年工作概况_赵英_llm_correct.md syndata.\n",
      "Syndatas saved to outputs_pipeline/syndatas03_1.json\n",
      "Syndatas saved to outputs_pipeline/syndatas03_1_instruction.json\n",
      "done 中国推出全彩OLED__市...限__第三代显示器欲展宏图_华民_llm_correct.md syndata.\n",
      "Syndatas saved to outputs_pipeline/syndatas03_1.json\n",
      "Syndatas saved to outputs_pipeline/syndatas03_1_instruction.json\n",
      "done 供液晶显示器件用的对称方波发生器_毛欣_llm_correct.md syndata.\n",
      "Syndatas saved to outputs_pipeline/syndatas03_1.json\n",
      "Syndatas saved to outputs_pipeline/syndatas03_1_instruction.json\n",
      "done 新型液晶微光学器件—分子取向的设计和先进光刻技术_新型_llm_correct.md syndata.\n",
      "Syndatas saved to outputs_pipeline/syndatas03_1.json\n",
      "Syndatas saved to outputs_pipeline/syndatas03_1_instruction.json\n",
      "done TCL科技收购茂佳国际背后...__印刷OLED产业化加速_林然_llm_correct.md syndata.\n",
      "Syndatas saved to outputs_pipeline/syndatas03_1.json\n",
      "Syndatas saved to outputs_pipeline/syndatas03_1_instruction.json\n",
      "done 基于半导体光电子学课程的新型教学模式研究_王祥传_llm_correct.md syndata.\n",
      "Syndatas saved to outputs_pipeline/syndatas03_1.json\n",
      "Syndatas saved to outputs_pipeline/syndatas03_1_instruction.json\n",
      "done 国内液晶显示面板行业发展中存在的问题及解决对策_龚耕_llm_correct.md syndata.\n",
      "Syndatas saved to outputs_pipeline/syndatas03_1.json\n",
      "Syndatas saved to outputs_pipeline/syndatas03_1_instruction.json\n",
      "done LED背光对LCD色彩的影响_程鸿飞_llm_correct.md syndata.\n",
      "Syndatas saved to outputs_pipeline/syndatas03_1.json\n",
      "Syndatas saved to outputs_pipeline/syndatas03_1_instruction.json\n",
      "done OLED产业应用实例_宋佳楠_llm_correct.md syndata.\n",
      "Syndatas saved to outputs_pipeline/syndatas03_1.json\n",
      "Syndatas saved to outputs_pipeline/syndatas03_1_instruction.json\n",
      "done PHOLED显示技术_Stanley Chen_llm_correct.md syndata.\n",
      "Syndatas saved to outputs_pipeline/syndatas03_1.json\n",
      "Syndatas saved to outputs_pipeline/syndatas03_1_instruction.json\n",
      "done 增亮分级不会虚——飞利浦显亮3显示器107F4_王琨月_llm_correct.md syndata.\n",
      "Syndatas saved to outputs_pipeline/syndatas03_1.json\n",
      "Syndatas saved to outputs_pipeline/syndatas03_1_instruction.json\n",
      "done 有机发光二极管OLED专利图表及分析_范文_llm_correct.md syndata.\n",
      "Syndatas saved to outputs_pipeline/syndatas03_1.json\n",
      "Syndatas saved to outputs_pipeline/syndatas03_1_instruction.json\n",
      "done 医用仪器液晶显示器常见故障诊断及维修_李辉_llm_correct.md syndata.\n",
      "Syndatas saved to outputs_pipeline/syndatas03_1.json\n",
      "Syndatas saved to outputs_pipeline/syndatas03_1_instruction.json\n",
      "done 国内首款30.5_cm全彩AMOLED显示屏研制成功_llm_correct.md syndata.\n",
      "Syndatas saved to outputs_pipeline/syndatas03_1.json\n",
      "Syndatas saved to outputs_pipeline/syndatas03_1_instruction.json\n",
      "done TFT工艺中的反应性离子刻蚀_柳江虹_llm_correct.md syndata.\n",
      "Syndatas saved to outputs_pipeline/syndatas03_1.json\n",
      "Syndatas saved to outputs_pipeline/syndatas03_1_instruction.json\n",
      "done OLED显示开发的最新进展_李文连_llm_correct.md syndata.\n",
      "Syndatas saved to outputs_pipeline/syndatas03_1.json\n",
      "Syndatas saved to outputs_pipeline/syndatas03_1_instruction.json\n",
      "done 三菱电机开发出15.6_in曲面型TFT液晶模块_llm_correct.md syndata.\n",
      "Syndatas saved to outputs_pipeline/syndatas03_1.json\n",
      "Syndatas saved to outputs_pipeline/syndatas03_1_instruction.json\n",
      "done 具有宽而均匀视角特性的同心圆摩擦液晶显示器件_才勇_llm_correct.md syndata.\n",
      "Syndatas saved to outputs_pipeline/syndatas03_1.json\n",
      "Syndatas saved to outputs_pipeline/syndatas03_1_instruction.json\n",
      "done 发展中的平板显示技术_姜西娟_llm_correct.md syndata.\n",
      "Syndatas saved to outputs_pipeline/syndatas03_1.json\n",
      "Syndatas saved to outputs_pipeline/syndatas03_1_instruction.json\n",
      "done 显示器新技术之比较——设计...为某项应用选择最佳的显示器_Anthony Vilgiate_llm_correct.md syndata.\n",
      "Syndatas saved to outputs_pipeline/syndatas03_1.json\n",
      "Syndatas saved to outputs_pipeline/syndatas03_1_instruction.json\n",
      "done 华南理工大学成功研制出国内...彩色柔性AMOLED显示屏_llm_correct.md syndata.\n",
      "Syndatas saved to outputs_pipeline/syndatas03_1.json\n",
      "Syndatas saved to outputs_pipeline/syndatas03_1_instruction.json\n",
      "done 有机发光显示器前途无量_邱勇_llm_correct.md syndata.\n",
      "Syndatas saved to outputs_pipeline/syndatas03_1.json\n",
      "Syndatas saved to outputs_pipeline/syndatas03_1_instruction.json\n",
      "done 先进LCD和OLED显示对...试精度和灵敏度提出更高要求_Charles Cimino_llm_correct.md syndata.\n",
      "Syndatas saved to outputs_pipeline/syndatas03_1.json\n",
      "Syndatas saved to outputs_pipeline/syndatas03_1_instruction.json\n",
      "done 中国台湾与韩国TFT-LC...业比较及其对中国大陆的启示_董彦良_llm_correct.md syndata.\n",
      "Syndatas saved to outputs_pipeline/syndatas03_1.json\n",
      "Syndatas saved to outputs_pipeline/syndatas03_1_instruction.json\n",
      "done 平板显示行业TFT自动光学检测技术研究_王雨_llm_correct.md syndata.\n",
      "Syndatas saved to outputs_pipeline/syndatas03_1.json\n",
      "Syndatas saved to outputs_pipeline/syndatas03_1_instruction.json\n",
      "done LPCVD多晶硅薄膜缺陷的形成及消除措施_王胜强_llm_correct.md syndata.\n",
      "Syndatas saved to outputs_pipeline/syndatas03_1.json\n",
      "Syndatas saved to outputs_pipeline/syndatas03_1_instruction.json\n",
      "done OLED技术在电视领域的应用_梁平茂_llm_correct.md syndata.\n",
      "Syndatas saved to outputs_pipeline/syndatas03_1.json\n",
      "Syndatas saved to outputs_pipeline/syndatas03_1_instruction.json\n",
      "done 广州南沙打造“粉末冶金完整...”填补“柔性显示产业”空白_编辑部_llm_correct.md syndata.\n",
      "Syndatas saved to outputs_pipeline/syndatas03_1.json\n",
      "Syndatas saved to outputs_pipeline/syndatas03_1_instruction.json\n",
      "done 传统液晶面板受挑战,OLED开新路_llm_correct.md syndata.\n",
      "Syndatas saved to outputs_pipeline/syndatas03_1.json\n",
      "Syndatas saved to outputs_pipeline/syndatas03_1_instruction.json\n",
      "done 新力量涌入OLED赛道__电视企业需合力向前_丁少将_llm_correct.md syndata.\n",
      "Syndatas saved to outputs_pipeline/syndatas03_1.json\n",
      "Syndatas saved to outputs_pipeline/syndatas03_1_instruction.json\n",
      "done 多晶硅薄膜制备工艺及其应用发展_董培讲_llm_correct.md syndata.\n",
      "Syndatas saved to outputs_pipeline/syndatas03_1.json\n",
      "Syndatas saved to outputs_pipeline/syndatas03_1_instruction.json\n",
      "done 显示器色彩管理具体实现办法_蔡加三_llm_correct.md syndata.\n"
     ]
    }
   ],
   "source": [
    "from utils.data_synthesis_v2 import syn_data\n",
    "answers_path = \"outputs_pipeline/article5_answers03_1.json\" \n",
    "syndatas_path = \"outputs_pipeline/syndatas03_1.json\" \n",
    "syn_data(answers_path, syndatas_path)"
   ]
  },
  {
   "cell_type": "code",
   "execution_count": null,
   "id": "02b03442",
   "metadata": {},
   "outputs": [],
   "source": [
    "from utils.data_trans import trans_syn2excel\n",
    "syndata_path = \"outputs_pipeline/syndatas03_1.json\" \n",
    "output_path = \"outputs_excel/syndata_eval03_1.xlsx\"\n",
    "trans_syn2excel(syndata_path, output_path)"
   ]
  },
  {
   "cell_type": "code",
   "execution_count": null,
   "id": "60284710",
   "metadata": {},
   "outputs": [],
   "source": [
    "from utils.data_eval import excel_to_jsonl\n",
    "input_excel_path = \"outputs_excel/syndata_eval03_1.xlsx\" \n",
    "output_jsonl_path = \"outputs_excel/syndata_eval_request03_1_v1.jsonl\"\n",
    "excel_to_jsonl(input_excel_path, output_jsonl_path, prompt_version=\"v1\")"
   ]
  },
  {
   "cell_type": "code",
   "execution_count": null,
   "id": "25429fc4",
   "metadata": {},
   "outputs": [],
   "source": [
    "from utils.data_eval import excel_to_jsonl\n",
    "input_excel_path = \"outputs_excel/syndata_eval03_1.xlsx\" \n",
    "output_jsonl_path = \"outputs_excel/syndata_eval_request03_1_v2.jsonl\"\n",
    "excel_to_jsonl(input_excel_path, output_jsonl_path, prompt_version=\"v2\")"
   ]
  },
  {
   "cell_type": "code",
   "execution_count": null,
   "id": "cafebd72",
   "metadata": {},
   "outputs": [],
   "source": [
    "from utils.data_eval import show_quality\n",
    "jsonl_file = 'outputs_excel/results03_1_v2.jsonl'  # 替换为您的jsonl文件路径\n",
    "show_quality(jsonl_file)"
   ]
  },
  {
   "cell_type": "code",
   "execution_count": null,
   "id": "5444ffca",
   "metadata": {},
   "outputs": [],
   "source": [
    "from utils.data_eval import show_quality\n",
    "jsonl_file = 'outputs_excel/results03_1_v1.jsonl'  # 替换为您的jsonl文件路径\n",
    "show_quality(jsonl_file)"
   ]
  }
 ],
 "metadata": {
  "kernelspec": {
   "display_name": "raft",
   "language": "python",
   "name": "python3"
  },
  "language_info": {
   "codemirror_mode": {
    "name": "ipython",
    "version": 3
   },
   "file_extension": ".py",
   "mimetype": "text/x-python",
   "name": "python",
   "nbconvert_exporter": "python",
   "pygments_lexer": "ipython3",
   "version": "3.10.17"
  }
 },
 "nbformat": 4,
 "nbformat_minor": 5
}
