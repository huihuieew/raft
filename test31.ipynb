{
 "cells": [
  {
   "cell_type": "markdown",
   "id": "913d72bd",
   "metadata": {},
   "source": [
    "# 按照批量生成的方式，依据pipeline重新一遍\n",
    "1. chunks, chunk4, topics, questions, answers, syndatas \n",
    "2. 批量接口，批量topics，批量questions，批量answers\n",
    "3. 串起来所有的流程\n",
    "4. 将其中 由web页面进行 批量任务的过程，改进成 代码实现的方式\n",
    "方便全程自动化进行\n",
    "5. 批量生成，也可以分成多个批次的pipeline同时进行"
   ]
  },
  {
   "cell_type": "markdown",
   "id": "041a4980",
   "metadata": {},
   "source": [
    "--chunks_path \"outputs_chunks/article_chunks18.json\" --chunk4_path \"outputs_chunk4/article_chunk4_18.json\" --topics_path \"outputs_topics/article_topics18.json\" --questions_path \"outputs_questions/article_question_with_topic18.json\" --answers_path \"outputs_answers/article_answers_18.json\" --syndatas_path \"outputs_syndatas/syndatas18.json\" --start_idx 36 --end_idx 38"
   ]
  },
  {
   "cell_type": "code",
   "execution_count": null,
   "id": "64703e99",
   "metadata": {},
   "outputs": [
    {
     "name": "stdout",
     "output_type": "stream",
     "text": [
      "len(file_names): 3373\n"
     ]
    },
    {
     "name": "stderr",
     "output_type": "stream",
     "text": [
      "Chunking: 100%|██████████| 1/1 [00:00<00:00, 40.88file/s, chunks=34]\n"
     ]
    },
    {
     "name": "stdout",
     "output_type": "stream",
     "text": [
      "Chunks saved to outputs_pipeline/article1_chunks01.json\n"
     ]
    },
    {
     "name": "stderr",
     "output_type": "stream",
     "text": [
      "Chunking: 100%|██████████| 1/1 [00:00<00:00, 499.92file/s, chunks=26]\n"
     ]
    },
    {
     "name": "stdout",
     "output_type": "stream",
     "text": [
      "Chunks saved to outputs_pipeline/article1_chunks01.json\n"
     ]
    },
    {
     "name": "stderr",
     "output_type": "stream",
     "text": [
      "Chunking: 100%|██████████| 1/1 [00:00<00:00, 249.99file/s, chunks=37]\n"
     ]
    },
    {
     "name": "stdout",
     "output_type": "stream",
     "text": [
      "Chunks saved to outputs_pipeline/article1_chunks01.json\n"
     ]
    },
    {
     "name": "stderr",
     "output_type": "stream",
     "text": [
      "Chunking: 100%|██████████| 1/1 [00:00<00:00, 111.12file/s, chunks=24]\n"
     ]
    },
    {
     "name": "stdout",
     "output_type": "stream",
     "text": [
      "Chunks saved to outputs_pipeline/article1_chunks01.json\n"
     ]
    },
    {
     "name": "stderr",
     "output_type": "stream",
     "text": [
      "Chunking: 100%|██████████| 1/1 [00:00<00:00, 250.27file/s, chunks=25]"
     ]
    },
    {
     "name": "stdout",
     "output_type": "stream",
     "text": [
      "Chunks saved to outputs_pipeline/article1_chunks01.json\n",
      "all chunks: 146\n"
     ]
    },
    {
     "name": "stderr",
     "output_type": "stream",
     "text": [
      "\n"
     ]
    },
    {
     "data": {
      "text/plain": [
       "{}"
      ]
     },
     "execution_count": 1,
     "metadata": {},
     "output_type": "execute_result"
    }
   ],
   "source": [
    "from utils.article_chunks_v2 import gen_chunks\n",
    "data_dir = \"data\"\n",
    "chunks_path = \"outputs_pipeline/article1_chunks01.json\"\n",
    "start_idx = 0\n",
    "end_idx = 5\n",
    "gen_chunks(data_dir, chunks_path, start_idx, end_idx)"
   ]
  },
  {
   "cell_type": "code",
   "execution_count": null,
   "id": "ba44f63d",
   "metadata": {},
   "outputs": [],
   "source": [
    "from utils.article_chunks_v2 import gen_chunks_v2\n",
    "data_dir = \"data\"\n",
    "chunks_path = \"outputs_pipeline/article1_chunks01.json\"\n",
    "input_file=\"selected_papers.txt\"\n",
    "gen_chunks_v2(data_dir, chunks_path, input_file, start_idx=0, end_idx=100)\n"
   ]
  },
  {
   "cell_type": "code",
   "execution_count": 2,
   "id": "8dbd8d2c",
   "metadata": {},
   "outputs": [
    {
     "data": {
      "text/plain": [
       "[1, 2, 3]"
      ]
     },
     "execution_count": 2,
     "metadata": {},
     "output_type": "execute_result"
    }
   ],
   "source": [
    "a = [1,2,3]\n",
    "start, end = None, 5\n",
    "a[start: end]"
   ]
  },
  {
   "cell_type": "code",
   "execution_count": 2,
   "id": "99f0edb1",
   "metadata": {},
   "outputs": [
    {
     "name": "stdout",
     "output_type": "stream",
     "text": [
      "resource module not available on Windows\n"
     ]
    },
    {
     "name": "stderr",
     "output_type": "stream",
     "text": [
      "d:\\Miniconda3\\envs\\raft\\lib\\site-packages\\tqdm\\auto.py:21: TqdmWarning: IProgress not found. Please update jupyter and ipywidgets. See https://ipywidgets.readthedocs.io/en/stable/user_install.html\n",
      "  from .autonotebook import tqdm as notebook_tqdm\n"
     ]
    },
    {
     "name": "stdout",
     "output_type": "stream",
     "text": [
      "Chunk4 saved to outputs_pipeline/article2_chunk4_01.json\n",
      "done 1,8-萘酰亚胺类有机小分子电致发光材料的研究进展_王启_llm_correct.md chunk4.\n",
      "Chunk4 saved to outputs_pipeline/article2_chunk4_01.json\n",
      "done 10万象素a-Si_TFT有源矩阵的优化技术_徐重阳_llm_correct.md chunk4.\n",
      "Chunk4 saved to outputs_pipeline/article2_chunk4_01.json\n",
      "done 10大新显示技术_llm_correct.md chunk4.\n",
      "Chunk4 saved to outputs_pipeline/article2_chunk4_01.json\n",
      "done 12.7cm彩色AM-OLED显示器分场驱动研究_沈亮_llm_correct.md chunk4.\n",
      "Chunk4 saved to outputs_pipeline/article2_chunk4_01.json\n",
      "done 12.7cm彩色AM-OLED显示屏的驱动模块_张繁_llm_correct.md chunk4.\n"
     ]
    }
   ],
   "source": [
    "from utils.topic_concepts_v2 import trans_chunk4\n",
    "chunks_path = \"outputs_pipeline/article1_chunks01.json\"\n",
    "chunk4_path = \"outputs_pipeline/article2_chunk4_01.json\" \n",
    "trans_chunk4(chunks_path, chunk4_path)"
   ]
  },
  {
   "cell_type": "code",
   "execution_count": null,
   "id": "b4cb5755",
   "metadata": {},
   "outputs": [],
   "source": [
    "from utils.common_utils import build_openai_client_chat\n",
    "from utils.topic_concepts_v2 import gen_topics\n",
    "chunk4_path = \"outputs_pipeline/article2_chunk4_01.json\" \n",
    "topics_path = \"outputs_pipeline/article3_topics01.json\" \n",
    "chat_model = build_openai_client_chat()\n",
    "gen_topics(chunk4_path, topics_path, chat_model)"
   ]
  },
  {
   "cell_type": "code",
   "execution_count": null,
   "id": "16d28934",
   "metadata": {},
   "outputs": [
    {
     "name": "stdout",
     "output_type": "stream",
     "text": [
      "resource module not available on Windows\n"
     ]
    },
    {
     "name": "stderr",
     "output_type": "stream",
     "text": [
      "d:\\Miniconda3\\envs\\raft\\lib\\site-packages\\tqdm\\auto.py:21: TqdmWarning: IProgress not found. Please update jupyter and ipywidgets. See https://ipywidgets.readthedocs.io/en/stable/user_install.html\n",
      "  from .autonotebook import tqdm as notebook_tqdm\n"
     ]
    },
    {
     "name": "stdout",
     "output_type": "stream",
     "text": [
      "转换完成，结果已保存到 outputs_pipeline/request1_topic_request_01.jsonl\n"
     ]
    }
   ],
   "source": [
    "# 得到 gen_topic 任务的请求文件jsonl\n",
    "from utils.topic_concepts_v2 import chunk4_to_jsonl\n",
    "# 输入文件路径（假设是包含chunk4数据的JSON文件）\n",
    "input_chunk4_path = \"outputs_pipeline/article2_chunk4_01.json\" \n",
    "# 输出文件路径\n",
    "output_request_path = \"outputs_pipeline/request1_topic_01.jsonl\"\n",
    "# 执行转换\n",
    "chunk4_to_jsonl(input_chunk4_path, output_request_path)\n",
    "# 剩下的任务在 火山平台 桶列表 和 批量推理列表中完成，并取到推理结果文件"
   ]
  },
  {
   "cell_type": "code",
   "execution_count": 1,
   "id": "296f6c40",
   "metadata": {},
   "outputs": [
    {
     "name": "stdout",
     "output_type": "stream",
     "text": [
      "resource module not available on Windows\n"
     ]
    },
    {
     "name": "stderr",
     "output_type": "stream",
     "text": [
      "d:\\Miniconda3\\envs\\raft\\lib\\site-packages\\tqdm\\auto.py:21: TqdmWarning: IProgress not found. Please update jupyter and ipywidgets. See https://ipywidgets.readthedocs.io/en/stable/user_install.html\n",
      "  from .autonotebook import tqdm as notebook_tqdm\n",
      "Processing responses: 100%|██████████| 20/20 [00:00<?, ?it/s]"
     ]
    },
    {
     "name": "stdout",
     "output_type": "stream",
     "text": [
      "处理完成，结果已保存到 outputs_pipeline/article3_topics01.json\n"
     ]
    },
    {
     "name": "stderr",
     "output_type": "stream",
     "text": [
      "\n"
     ]
    }
   ],
   "source": [
    "# 根据 gen_topic 请求任务 获取 topic_path 结果文件\n",
    "from utils.topic_concepts_v2 import process_response_file\n",
    "# 响应结果文件路径（jsonl格式）\n",
    "response_file_path = \"outputs_pipeline/response1_topic_01.jsonl\"\n",
    "# 原始chunk4数据文件路径\n",
    "chunk4_file_path = \"outputs_pipeline/article2_chunk4_01.json\" \n",
    "# 结果保存路径\n",
    "topics_output_path = \"outputs_pipeline/article3_topics01.json\" \n",
    "# 执行处理\n",
    "process_response_file(response_file_path, chunk4_file_path, topics_output_path)"
   ]
  },
  {
   "cell_type": "code",
   "execution_count": 1,
   "id": "448f66a1",
   "metadata": {},
   "outputs": [
    {
     "name": "stdout",
     "output_type": "stream",
     "text": [
      "resource module not available on Windows\n"
     ]
    },
    {
     "name": "stderr",
     "output_type": "stream",
     "text": [
      "d:\\Miniconda3\\envs\\raft\\lib\\site-packages\\tqdm\\auto.py:21: TqdmWarning: IProgress not found. Please update jupyter and ipywidgets. See https://ipywidgets.readthedocs.io/en/stable/user_install.html\n",
      "  from .autonotebook import tqdm as notebook_tqdm\n",
      "Processing 10大新显示技术_llm_correct.md: 100%|██████████| 5/5 [00:00<?, ?it/s]\n",
      "Processing 1,8-萘酰亚胺类有机小分子电致发光材料的研究进展_王启_llm_correct.md: 100%|██████████| 5/5 [00:00<00:00, 5000.36it/s]\n",
      "Processing 12.7cm彩色AM-OLED显示器分场驱动研究_沈亮_llm_correct.md: 100%|██████████| 3/3 [00:00<00:00, 2995.93it/s]\n",
      "Processing 12.7cm彩色AM-OLED显示屏的驱动模块_张繁_llm_correct.md: 100%|██████████| 3/3 [00:00<00:00, 3000.93it/s]\n",
      "Processing 10万象素a-Si_TFT有源矩阵的优化技术_徐重阳_llm_correct.md: 100%|██████████| 4/4 [00:00<00:00, 4000.29it/s]"
     ]
    },
    {
     "name": "stdout",
     "output_type": "stream",
     "text": [
      "成功将 outputs_pipeline/article3_topics01.json 转换为 outputs_pipeline/request2_question_01.jsonl\n"
     ]
    },
    {
     "name": "stderr",
     "output_type": "stream",
     "text": [
      "\n"
     ]
    }
   ],
   "source": [
    "from utils.topic_concepts_v2 import convert_topics_to_jsonl\n",
    "topics_path = \"outputs_pipeline/article3_topics01.json\" \n",
    "question_request_path = \"outputs_pipeline/request2_question_01.jsonl\"\n",
    "convert_topics_to_jsonl(topics_path, question_request_path)"
   ]
  },
  {
   "cell_type": "code",
   "execution_count": 1,
   "id": "f53f6949",
   "metadata": {},
   "outputs": [
    {
     "name": "stdout",
     "output_type": "stream",
     "text": [
      "resource module not available on Windows\n"
     ]
    },
    {
     "name": "stderr",
     "output_type": "stream",
     "text": [
      "d:\\Miniconda3\\envs\\raft\\lib\\site-packages\\tqdm\\auto.py:21: TqdmWarning: IProgress not found. Please update jupyter and ipywidgets. See https://ipywidgets.readthedocs.io/en/stable/user_install.html\n",
      "  from .autonotebook import tqdm as notebook_tqdm\n",
      "Processing responses:  65%|██████▌   | 13/20 [00:00<00:00, 119.26it/s]"
     ]
    },
    {
     "name": "stdout",
     "output_type": "stream",
     "text": [
      "all chunks - chunk4_list: 116\n",
      "Questions saved to outputs_pipeline/article4_question_with_topic01.json\n",
      "all chunks - chunk4_list: 102\n",
      "Questions saved to outputs_pipeline/article4_question_with_topic01.json\n",
      "all chunks - chunk4_list: 102\n",
      "Questions saved to outputs_pipeline/article4_question_with_topic01.json\n",
      "all chunks - chunk4_list: 103\n",
      "Questions saved to outputs_pipeline/article4_question_with_topic01.json\n",
      "all chunks - chunk4_list: 111\n",
      "Questions saved to outputs_pipeline/article4_question_with_topic01.json\n",
      "all chunks - chunk4_list: 103\n",
      "Questions saved to outputs_pipeline/article4_question_with_topic01.json\n",
      "all chunks - chunk4_list: 103\n",
      "Questions saved to outputs_pipeline/article4_question_with_topic01.json\n",
      "all chunks - chunk4_list: 111\n",
      "Questions saved to outputs_pipeline/article4_question_with_topic01.json\n",
      "all chunks - chunk4_list: 102\n",
      "Questions saved to outputs_pipeline/article4_question_with_topic01.json\n",
      "all chunks - chunk4_list: 116\n",
      "Questions saved to outputs_pipeline/article4_question_with_topic01.json\n",
      "all chunks - chunk4_list: 103\n",
      "Questions saved to outputs_pipeline/article4_question_with_topic01.json\n",
      "all chunks - chunk4_list: 103\n",
      "Questions saved to outputs_pipeline/article4_question_with_topic01.json\n",
      "all chunks - chunk4_list: 111\n",
      "Questions saved to outputs_pipeline/article4_question_with_topic01.json\n",
      "all chunks - chunk4_list: 102\n",
      "Questions saved to outputs_pipeline/article4_question_with_topic01.json\n",
      "all chunks - chunk4_list: 116\n",
      "Questions saved to outputs_pipeline/article4_question_with_topic01.json\n",
      "all chunks - chunk4_list: 116\n",
      "Questions saved to outputs_pipeline/article4_question_with_topic01.json\n",
      "all chunks - chunk4_list: 102\n",
      "Questions saved to outputs_pipeline/article4_question_with_topic01.json\n",
      "all chunks - chunk4_list: 116\n",
      "Questions saved to outputs_pipeline/article4_question_with_topic01.json\n",
      "all chunks - chunk4_list: 111\n",
      "Questions saved to outputs_pipeline/article4_question_with_topic01.json\n",
      "all chunks - chunk4_list: 116\n",
      "Questions saved to outputs_pipeline/article4_question_with_topic01.json\n"
     ]
    },
    {
     "name": "stderr",
     "output_type": "stream",
     "text": [
      "Processing responses: 100%|██████████| 20/20 [00:00<00:00, 102.22it/s]\n"
     ]
    }
   ],
   "source": [
    "from utils.topic_concepts_v2 import process_response_and_save\n",
    "response_path = \"outputs_pipeline/response2_question_01.jsonl\"  # 响应结果文件\n",
    "topics_path = \"outputs_pipeline/article3_topics01.json\"       # 原始topics文件\n",
    "question_path = \"outputs_pipeline/article4_question_with_topic01.json\"    # 输出question文件\n",
    "chunk4_path = \"outputs_pipeline/article2_chunk4_01.json\"             # chunk4路径\n",
    "process_response_and_save(response_path, topics_path, question_path, chunk4_path)"
   ]
  },
  {
   "cell_type": "code",
   "execution_count": 1,
   "id": "dfccb73e",
   "metadata": {},
   "outputs": [
    {
     "name": "stdout",
     "output_type": "stream",
     "text": [
      "resource module not available on Windows\n"
     ]
    },
    {
     "name": "stderr",
     "output_type": "stream",
     "text": [
      "d:\\Miniconda3\\envs\\raft\\lib\\site-packages\\tqdm\\auto.py:21: TqdmWarning: IProgress not found. Please update jupyter and ipywidgets. See https://ipywidgets.readthedocs.io/en/stable/user_install.html\n",
      "  from .autonotebook import tqdm as notebook_tqdm\n",
      "question_ele: 100%|██████████| 6/6 [00:35<00:00,  5.87s/it]\n",
      "question_ele: 100%|██████████| 10/10 [00:44<00:00,  4.47s/it]\n",
      "question_ele: 100%|██████████| 10/10 [00:48<00:00,  4.87s/it]\n",
      "question_ele: 100%|██████████| 8/8 [00:39<00:00,  4.88s/it]t]\n",
      "question_ele: 100%|██████████| 6/6 [00:27<00:00,  4.63s/it]t]\n",
      "Sorted chunks.: 100%|██████████| 5/5 [03:15<00:00, 39.08s/it]"
     ]
    },
    {
     "name": "stdout",
     "output_type": "stream",
     "text": [
      "转换sorted_chunks成功。\n"
     ]
    },
    {
     "name": "stderr",
     "output_type": "stream",
     "text": [
      "\n"
     ]
    }
   ],
   "source": [
    "from utils.topic_concepts_v2 import sort_noisy_chunks\n",
    "question_path = \"outputs_pipeline/article4_question_with_topic01.json\" \n",
    "sort_noisy_chunks(question_path)"
   ]
  },
  {
   "cell_type": "code",
   "execution_count": null,
   "id": "07a3b78f",
   "metadata": {},
   "outputs": [],
   "source": [
    "from utils.topic_concepts_v2 import gen_questions_with_topic_v3, sort_noisy_chunks\n",
    "from utils.common_utils import build_openai_client_chat\n",
    "topics_path = \"outputs_pipeline/article3_topics01.json\" \n",
    "questions_path = \"outputs_pipeline/article4_question_with_topic01.json\" \n",
    "chunk4_path = \"outputs_pipeline/article2_chunk4_01.json\" \n",
    "chat_model = build_openai_client_chat()\n",
    "gen_questions_with_topic_v3(topics_path, questions_path, chat_model, chunk4_path)\n",
    "sort_noisy_chunks(questions_path)"
   ]
  },
  {
   "cell_type": "code",
   "execution_count": null,
   "id": "5f156a0b",
   "metadata": {},
   "outputs": [
    {
     "name": "stdout",
     "output_type": "stream",
     "text": [
      "resource module not available on Windows\n"
     ]
    },
    {
     "name": "stderr",
     "output_type": "stream",
     "text": [
      "d:\\Miniconda3\\envs\\raft\\lib\\site-packages\\tqdm\\auto.py:21: TqdmWarning: IProgress not found. Please update jupyter and ipywidgets. See https://ipywidgets.readthedocs.io/en/stable/user_install.html\n",
      "  from .autonotebook import tqdm as notebook_tqdm\n"
     ]
    },
    {
     "name": "stdout",
     "output_type": "stream",
     "text": [
      "转换完成，结果已保存到 outputs_pipeline/request3_answer_02.jsonl\n"
     ]
    },
    {
     "ename": "",
     "evalue": "",
     "output_type": "error",
     "traceback": [
      "\u001b[1;31mThe Kernel crashed while executing code in the current cell or a previous cell. \n",
      "\u001b[1;31mPlease review the code in the cell(s) to identify a possible cause of the failure. \n",
      "\u001b[1;31mClick <a href='https://aka.ms/vscodeJupyterKernelCrash'>here</a> for more info. \n",
      "\u001b[1;31mView Jupyter <a href='command:jupyter.viewOutput'>log</a> for further details."
     ]
    }
   ],
   "source": [
    "from utils.answer_generation_v2 import convert_to_jsonl\n",
    "# 输入输出路径\n",
    "questions_path = \"outputs_pipeline/article4_question_with_topic01.json\"   # 替换为实际路径\n",
    "question_request_path = \"outputs_pipeline/request3_answer_02.jsonl\"\n",
    "# 执行转换\n",
    "convert_to_jsonl(questions_path, question_request_path)"
   ]
  },
  {
   "cell_type": "code",
   "execution_count": null,
   "id": "3edf51aa",
   "metadata": {},
   "outputs": [
    {
     "name": "stdout",
     "output_type": "stream",
     "text": [
      "resource module not available on Windows\n",
      "转换完成，结果已保存到 outputs_pipeline/request3_answer_03.jsonl\n"
     ]
    }
   ],
   "source": [
    "from utils.answer_generation_v2 import convert_to_jsonl\n",
    "# 输入输出路径\n",
    "questions_path = \"outputs_pipeline/article4_question_with_topic01.json\"   # 替换为实际路径\n",
    "question_request_path = \"outputs_pipeline/request3_answer_03.jsonl\"  # 请求结果文件\n",
    "# 执行转换\n",
    "convert_to_jsonl(questions_path, question_request_path)"
   ]
  },
  {
   "cell_type": "code",
   "execution_count": 2,
   "id": "782ea9a0",
   "metadata": {},
   "outputs": [
    {
     "name": "stderr",
     "output_type": "stream",
     "text": [
      "Processing responses:  60%|██████    | 24/40 [00:00<00:00, 223.10it/s]"
     ]
    },
    {
     "name": "stdout",
     "output_type": "stream",
     "text": [
      "Answers saved to outputs_pipeline/article5_answers_03.json\n",
      "Answers saved to outputs_pipeline/article5_answers_03.json\n",
      "Answers saved to outputs_pipeline/article5_answers_03.json\n",
      "Answers saved to outputs_pipeline/article5_answers_03.json\n",
      "Answers saved to outputs_pipeline/article5_answers_03.json\n",
      "Answers saved to outputs_pipeline/article5_answers_03.json\n",
      "Answers saved to outputs_pipeline/article5_answers_03.json\n",
      "Answers saved to outputs_pipeline/article5_answers_03.json\n",
      "Answers saved to outputs_pipeline/article5_answers_03.json\n",
      "Answers saved to outputs_pipeline/article5_answers_03.json\n",
      "Answers saved to outputs_pipeline/article5_answers_03.json\n",
      "Answers saved to outputs_pipeline/article5_answers_03.json\n",
      "Answers saved to outputs_pipeline/article5_answers_03.json\n",
      "Answers saved to outputs_pipeline/article5_answers_03.json\n",
      "Answers saved to outputs_pipeline/article5_answers_03.json\n",
      "Answers saved to outputs_pipeline/article5_answers_03.json\n",
      "Answers saved to outputs_pipeline/article5_answers_03.json\n",
      "Answers saved to outputs_pipeline/article5_answers_03.json\n",
      "Answers saved to outputs_pipeline/article5_answers_03.json\n",
      "Answers saved to outputs_pipeline/article5_answers_03.json\n",
      "Answers saved to outputs_pipeline/article5_answers_03.json\n",
      "Answers saved to outputs_pipeline/article5_answers_03.json\n",
      "Answers saved to outputs_pipeline/article5_answers_03.json\n",
      "Answers saved to outputs_pipeline/article5_answers_03.json\n",
      "Answers saved to outputs_pipeline/article5_answers_03.json\n",
      "Answers saved to outputs_pipeline/article5_answers_03.json\n",
      "Answers saved to outputs_pipeline/article5_answers_03.json\n",
      "Answers saved to outputs_pipeline/article5_answers_03.json\n",
      "Answers saved to outputs_pipeline/article5_answers_03.json\n",
      "Answers saved to outputs_pipeline/article5_answers_03.json\n",
      "Answers saved to outputs_pipeline/article5_answers_03.json\n",
      "Answers saved to outputs_pipeline/article5_answers_03.json\n"
     ]
    },
    {
     "name": "stderr",
     "output_type": "stream",
     "text": [
      "Processing responses: 100%|██████████| 40/40 [00:00<00:00, 125.94it/s]"
     ]
    },
    {
     "name": "stdout",
     "output_type": "stream",
     "text": [
      "Answers saved to outputs_pipeline/article5_answers_03.json\n",
      "Answers saved to outputs_pipeline/article5_answers_03.json\n",
      "Answers saved to outputs_pipeline/article5_answers_03.json\n",
      "Answers saved to outputs_pipeline/article5_answers_03.json\n",
      "Answers saved to outputs_pipeline/article5_answers_03.json\n",
      "Answers saved to outputs_pipeline/article5_answers_03.json\n",
      "Answers saved to outputs_pipeline/article5_answers_03.json\n",
      "Answers saved to outputs_pipeline/article5_answers_03.json\n",
      "处理完成，结果已保存到 outputs_pipeline/article5_answers_03.json\n"
     ]
    },
    {
     "name": "stderr",
     "output_type": "stream",
     "text": [
      "\n"
     ]
    }
   ],
   "source": [
    "from utils.answer_generation_v2 import process_response_file\n",
    "response_file_path = \"outputs_pipeline/response3_answer_03.jsonl\"  # 响应结果文件\n",
    "questions_path = \"outputs_pipeline/article4_question_with_topic01.json\"  # 原始问题文件\n",
    "answers_path = \"outputs_pipeline/article5_answers_03.json\"   # 结果保存路径\n",
    "# 执行处理\n",
    "process_response_file(response_file_path, questions_path, answers_path)"
   ]
  },
  {
   "cell_type": "code",
   "execution_count": null,
   "id": "0f52d884",
   "metadata": {},
   "outputs": [
    {
     "name": "stdout",
     "output_type": "stream",
     "text": [
      "resource module not available on Windows\n"
     ]
    },
    {
     "name": "stderr",
     "output_type": "stream",
     "text": [
      "d:\\Miniconda3\\envs\\raft\\lib\\site-packages\\tqdm\\auto.py:21: TqdmWarning: IProgress not found. Please update jupyter and ipywidgets. See https://ipywidgets.readthedocs.io/en/stable/user_install.html\n",
      "  from .autonotebook import tqdm as notebook_tqdm\n",
      "Processing responses:  32%|███▎      | 13/40 [00:00<00:00, 127.57it/s]"
     ]
    },
    {
     "name": "stdout",
     "output_type": "stream",
     "text": [
      "Answers saved to outputs_pipeline/article5_answers_02.json\n",
      "Answers saved to outputs_pipeline/article5_answers_02.json\n",
      "Answers saved to outputs_pipeline/article5_answers_02.json\n",
      "Answers saved to outputs_pipeline/article5_answers_02.json\n",
      "Answers saved to outputs_pipeline/article5_answers_02.json\n",
      "Answers saved to outputs_pipeline/article5_answers_02.json\n",
      "Answers saved to outputs_pipeline/article5_answers_02.json\n",
      "Answers saved to outputs_pipeline/article5_answers_02.json\n",
      "Answers saved to outputs_pipeline/article5_answers_02.json\n",
      "Answers saved to outputs_pipeline/article5_answers_02.json\n",
      "Answers saved to outputs_pipeline/article5_answers_02.json\n",
      "Answers saved to outputs_pipeline/article5_answers_02.json\n",
      "Answers saved to outputs_pipeline/article5_answers_02.json\n",
      "Answers saved to outputs_pipeline/article5_answers_02.json\n",
      "Answers saved to outputs_pipeline/article5_answers_02.json\n",
      "Answers saved to outputs_pipeline/article5_answers_02.json\n",
      "Answers saved to outputs_pipeline/article5_answers_02.json\n",
      "Answers saved to outputs_pipeline/article5_answers_02.json\n",
      "Answers saved to outputs_pipeline/article5_answers_02.json\n",
      "Answers saved to outputs_pipeline/article5_answers_02.json\n",
      "Answers saved to outputs_pipeline/article5_answers_02.json\n",
      "Answers saved to outputs_pipeline/article5_answers_02.json\n",
      "Answers saved to outputs_pipeline/article5_answers_02.json\n",
      "Answers saved to outputs_pipeline/article5_answers_02.json\n",
      "Answers saved to outputs_pipeline/article5_answers_02.json\n",
      "Answers saved to outputs_pipeline/article5_answers_02.json\n"
     ]
    },
    {
     "name": "stderr",
     "output_type": "stream",
     "text": [
      "Processing responses:  68%|██████▊   | 27/40 [00:00<00:00, 127.39it/s]"
     ]
    },
    {
     "name": "stdout",
     "output_type": "stream",
     "text": [
      "Answers saved to outputs_pipeline/article5_answers_02.json\n",
      "Answers saved to outputs_pipeline/article5_answers_02.json\n",
      "Answers saved to outputs_pipeline/article5_answers_02.json\n",
      "Answers saved to outputs_pipeline/article5_answers_02.json\n",
      "Answers saved to outputs_pipeline/article5_answers_02.json\n",
      "Answers saved to outputs_pipeline/article5_answers_02.json\n",
      "Answers saved to outputs_pipeline/article5_answers_02.json\n",
      "Answers saved to outputs_pipeline/article5_answers_02.json\n",
      "Answers saved to outputs_pipeline/article5_answers_02.json\n",
      "Answers saved to outputs_pipeline/article5_answers_02.json\n",
      "Answers saved to outputs_pipeline/article5_answers_02.json\n",
      "Answers saved to outputs_pipeline/article5_answers_02.json\n",
      "Answers saved to outputs_pipeline/article5_answers_02.json\n",
      "Answers saved to outputs_pipeline/article5_answers_02.json\n"
     ]
    },
    {
     "name": "stderr",
     "output_type": "stream",
     "text": [
      "Processing responses: 100%|██████████| 40/40 [00:00<00:00, 97.52it/s] "
     ]
    },
    {
     "name": "stdout",
     "output_type": "stream",
     "text": [
      "处理完成，结果已保存到 outputs_pipeline/article5_answers_02.json\n"
     ]
    },
    {
     "name": "stderr",
     "output_type": "stream",
     "text": [
      "\n"
     ]
    }
   ],
   "source": [
    "from utils.answer_generation_v2 import process_response_file\n",
    "response_file_path = \"outputs_pipeline/response3_answer_02.jsonl\"  # 响应结果文件\n",
    "questions_path = \"outputs_pipeline/article4_question_with_topic01.json\"  # 原始问题文件\n",
    "answers_path = \"outputs_pipeline/article5_answers_02.json\"   # 结果保存路径\n",
    "# 执行处理\n",
    "process_response_file(response_file_path, questions_path, answers_path)"
   ]
  },
  {
   "cell_type": "code",
   "execution_count": null,
   "id": "3a3f3da5",
   "metadata": {},
   "outputs": [],
   "source": [
    "from utils.answer_generation import gen_answer_v3\n",
    "from utils.common_utils import build_openai_client_chat\n",
    "chat_model = build_openai_client_chat()\n",
    "questions_path = \"outputs_pipeline/article4_question_with_topic01.json\" \n",
    "answers_path = \"outputs_pipeline/article5_answers_01.json\" \n",
    "gen_answer_v3(questions_path, chat_model, answers_path)"
   ]
  },
  {
   "cell_type": "code",
   "execution_count": 3,
   "id": "0ed2d1f3",
   "metadata": {},
   "outputs": [
    {
     "name": "stdout",
     "output_type": "stream",
     "text": [
      "Syndatas saved to outputs_pipeline/syndatas02.json\n",
      "Syndatas saved to outputs_pipeline/syndatas02_instruction.json\n",
      "done 10万象素a-Si_TFT有源矩阵的优化技术_徐重阳_llm_correct.md syndata.\n",
      "Syndatas saved to outputs_pipeline/syndatas02.json\n",
      "Syndatas saved to outputs_pipeline/syndatas02_instruction.json\n",
      "done 1,8-萘酰亚胺类有机小分子电致发光材料的研究进展_王启_llm_correct.md syndata.\n",
      "Syndatas saved to outputs_pipeline/syndatas02.json\n",
      "Syndatas saved to outputs_pipeline/syndatas02_instruction.json\n",
      "done 12.7cm彩色AM-OLED显示器分场驱动研究_沈亮_llm_correct.md syndata.\n",
      "Syndatas saved to outputs_pipeline/syndatas02.json\n",
      "Syndatas saved to outputs_pipeline/syndatas02_instruction.json\n",
      "done 10大新显示技术_llm_correct.md syndata.\n",
      "Syndatas saved to outputs_pipeline/syndatas02.json\n",
      "Syndatas saved to outputs_pipeline/syndatas02_instruction.json\n",
      "done 12.7cm彩色AM-OLED显示屏的驱动模块_张繁_llm_correct.md syndata.\n"
     ]
    }
   ],
   "source": [
    "from utils.data_synthesis_v2 import syn_data\n",
    "answers_path = \"outputs_pipeline/article5_answers_03.json\" \n",
    "syndatas_path = \"outputs_pipeline/syndatas02.json\" \n",
    "syn_data(answers_path, syndatas_path)"
   ]
  },
  {
   "cell_type": "code",
   "execution_count": 3,
   "id": "c7e76f11",
   "metadata": {},
   "outputs": [
    {
     "name": "stdout",
     "output_type": "stream",
     "text": [
      "Syndatas saved to outputs_pipeline/syndatas01.json\n",
      "Syndatas saved to outputs_pipeline/syndatas01_instruction.json\n",
      "done 1,8-萘酰亚胺类有机小分子电致发光材料的研究进展_王启_llm_correct.md syndata.\n",
      "Syndatas saved to outputs_pipeline/syndatas01.json\n",
      "Syndatas saved to outputs_pipeline/syndatas01_instruction.json\n",
      "done 12.7cm彩色AM-OLED显示屏的驱动模块_张繁_llm_correct.md syndata.\n",
      "Syndatas saved to outputs_pipeline/syndatas01.json\n",
      "Syndatas saved to outputs_pipeline/syndatas01_instruction.json\n",
      "done 10万象素a-Si_TFT有源矩阵的优化技术_徐重阳_llm_correct.md syndata.\n",
      "Syndatas saved to outputs_pipeline/syndatas01.json\n",
      "Syndatas saved to outputs_pipeline/syndatas01_instruction.json\n",
      "done 10大新显示技术_llm_correct.md syndata.\n",
      "Syndatas saved to outputs_pipeline/syndatas01.json\n",
      "Syndatas saved to outputs_pipeline/syndatas01_instruction.json\n",
      "done 12.7cm彩色AM-OLED显示器分场驱动研究_沈亮_llm_correct.md syndata.\n"
     ]
    }
   ],
   "source": [
    "from utils.data_synthesis_v2 import syn_data\n",
    "answers_path = \"outputs_pipeline/article5_answers_02.json\" \n",
    "syndatas_path = \"outputs_pipeline/syndatas01.json\" \n",
    "syn_data(answers_path, syndatas_path)"
   ]
  },
  {
   "cell_type": "code",
   "execution_count": null,
   "id": "c4001e8a",
   "metadata": {},
   "outputs": [],
   "source": [
    "from utils.data_synthesis import syn_data_v2\n",
    "answers_path = \"outputs_pipeline/article5_answers_01.json\" \n",
    "syndatas_path = \"outputs_pipeline/syndatas01.json\" \n",
    "syn_data_v2(answers_path, syndatas_path)\n"
   ]
  },
  {
   "cell_type": "code",
   "execution_count": 4,
   "id": "685f1e36",
   "metadata": {},
   "outputs": [
    {
     "name": "stdout",
     "output_type": "stream",
     "text": [
      "Excel文件已生成: outputs_excel/syndata_eval02.xlsx\n",
      "总处理条目数: 40\n"
     ]
    }
   ],
   "source": [
    "from utils.data_trans import trans_syn2excel\n",
    "syndata_path = \"outputs_pipeline/syndatas02.json\" \n",
    "output_path = \"outputs_excel/syndata_eval02.xlsx\"\n",
    "trans_syn2excel(syndata_path, output_path)"
   ]
  },
  {
   "cell_type": "code",
   "execution_count": 4,
   "id": "8032e0aa",
   "metadata": {},
   "outputs": [
    {
     "name": "stdout",
     "output_type": "stream",
     "text": [
      "Excel文件已生成: outputs_excel/syndata_eval01.xlsx\n",
      "总处理条目数: 40\n"
     ]
    }
   ],
   "source": [
    "from utils.data_trans import trans_syn2excel\n",
    "syndata_path = \"outputs_pipeline/syndatas01.json\" \n",
    "output_path = \"outputs_excel/syndata_eval01.xlsx\"\n",
    "trans_syn2excel(syndata_path, output_path)"
   ]
  },
  {
   "cell_type": "code",
   "execution_count": 5,
   "id": "83e1f96a",
   "metadata": {},
   "outputs": [
    {
     "name": "stdout",
     "output_type": "stream",
     "text": [
      "转换完成，结果已保存到 outputs_excel/syndata_eval_request02_v1.jsonl\n"
     ]
    }
   ],
   "source": [
    "from utils.data_eval import excel_to_jsonl\n",
    "input_excel_path = \"outputs_excel/syndata_eval02.xlsx\" \n",
    "output_jsonl_path = \"outputs_excel/syndata_eval_request02_v1.jsonl\"\n",
    "excel_to_jsonl(input_excel_path, output_jsonl_path, prompt_version=\"v1\")"
   ]
  },
  {
   "cell_type": "code",
   "execution_count": 6,
   "id": "9256484c",
   "metadata": {},
   "outputs": [
    {
     "name": "stdout",
     "output_type": "stream",
     "text": [
      "转换完成，结果已保存到 outputs_excel/syndata_eval_request02_v2.jsonl\n"
     ]
    }
   ],
   "source": [
    "from utils.data_eval import excel_to_jsonl\n",
    "input_excel_path = \"outputs_excel/syndata_eval02.xlsx\" \n",
    "output_jsonl_path = \"outputs_excel/syndata_eval_request02_v2.jsonl\"\n",
    "excel_to_jsonl(input_excel_path, output_jsonl_path, prompt_version=\"v2\")"
   ]
  },
  {
   "cell_type": "code",
   "execution_count": null,
   "id": "180d36aa",
   "metadata": {},
   "outputs": [
    {
     "name": "stdout",
     "output_type": "stream",
     "text": [
      "转换完成，结果已保存到 outputs_excel/syndata_eval_request01_v1.jsonl\n"
     ]
    }
   ],
   "source": [
    "from utils.data_eval import excel_to_jsonl\n",
    "input_excel_path = \"outputs_excel/syndata_eval01.xlsx\" \n",
    "output_jsonl_path = \"outputs_excel/syndata_eval_request01_v1.jsonl\"\n",
    "excel_to_jsonl(input_excel_path, output_jsonl_path, prompt_version=\"v1\")"
   ]
  },
  {
   "cell_type": "code",
   "execution_count": 6,
   "id": "cb90f5b2",
   "metadata": {},
   "outputs": [
    {
     "name": "stdout",
     "output_type": "stream",
     "text": [
      "转换完成，结果已保存到 outputs_excel/syndata_eval_request01_v2.jsonl\n"
     ]
    }
   ],
   "source": [
    "from utils.data_eval import excel_to_jsonl\n",
    "input_excel_path = \"outputs_excel/syndata_eval01.xlsx\" \n",
    "output_jsonl_path = \"outputs_excel/syndata_eval_request01_v2.jsonl\"\n",
    "excel_to_jsonl(input_excel_path, output_jsonl_path, prompt_version=\"v2\")"
   ]
  },
  {
   "cell_type": "markdown",
   "id": "3ef9397a",
   "metadata": {},
   "source": [
    "## 新一轮，从gen_answer开始，到质量评估为止的流程"
   ]
  },
  {
   "cell_type": "code",
   "execution_count": 7,
   "id": "026ea6b5",
   "metadata": {},
   "outputs": [
    {
     "name": "stdout",
     "output_type": "stream",
     "text": [
      "转换完成，结果已保存到 outputs_pipeline/request3_answer_04.jsonl\n"
     ]
    }
   ],
   "source": [
    "from utils.answer_generation_v2 import convert_to_jsonl\n",
    "# 输入输出路径\n",
    "questions_path = \"outputs_pipeline/article4_question_with_topic01.json\"   # 替换为实际路径\n",
    "question_request_path = \"outputs_pipeline/request3_answer_04.jsonl\"  # 请求结果文件\n",
    "# 执行转换\n",
    "convert_to_jsonl(questions_path, question_request_path)"
   ]
  },
  {
   "cell_type": "code",
   "execution_count": 8,
   "id": "39b85655",
   "metadata": {},
   "outputs": [
    {
     "name": "stderr",
     "output_type": "stream",
     "text": [
      "Processing responses:  60%|██████    | 24/40 [00:00<00:00, 125.01it/s]"
     ]
    },
    {
     "name": "stdout",
     "output_type": "stream",
     "text": [
      "Answers saved to outputs_pipeline/article5_answers_04.json\n",
      "Answers saved to outputs_pipeline/article5_answers_04.json\n",
      "Answers saved to outputs_pipeline/article5_answers_04.json\n",
      "Answers saved to outputs_pipeline/article5_answers_04.json\n",
      "Answers saved to outputs_pipeline/article5_answers_04.json\n",
      "Answers saved to outputs_pipeline/article5_answers_04.json\n",
      "Answers saved to outputs_pipeline/article5_answers_04.json\n",
      "Answers saved to outputs_pipeline/article5_answers_04.json\n",
      "Answers saved to outputs_pipeline/article5_answers_04.json\n",
      "Answers saved to outputs_pipeline/article5_answers_04.json\n",
      "Answers saved to outputs_pipeline/article5_answers_04.json\n",
      "Answers saved to outputs_pipeline/article5_answers_04.json\n",
      "Answers saved to outputs_pipeline/article5_answers_04.json\n",
      "Answers saved to outputs_pipeline/article5_answers_04.json\n",
      "Answers saved to outputs_pipeline/article5_answers_04.json\n",
      "Answers saved to outputs_pipeline/article5_answers_04.json\n",
      "Answers saved to outputs_pipeline/article5_answers_04.json\n",
      "Answers saved to outputs_pipeline/article5_answers_04.json\n",
      "Answers saved to outputs_pipeline/article5_answers_04.json\n",
      "Answers saved to outputs_pipeline/article5_answers_04.json\n",
      "Answers saved to outputs_pipeline/article5_answers_04.json\n",
      "Answers saved to outputs_pipeline/article5_answers_04.json\n",
      "Answers saved to outputs_pipeline/article5_answers_04.json\n",
      "Answers saved to outputs_pipeline/article5_answers_04.json\n",
      "Answers saved to outputs_pipeline/article5_answers_04.json\n",
      "Answers saved to outputs_pipeline/article5_answers_04.json\n",
      "Answers saved to outputs_pipeline/article5_answers_04.json\n",
      "Answers saved to outputs_pipeline/article5_answers_04.json\n",
      "Answers saved to outputs_pipeline/article5_answers_04.json\n",
      "Answers saved to outputs_pipeline/article5_answers_04.json\n",
      "Answers saved to outputs_pipeline/article5_answers_04.json\n",
      "Answers saved to outputs_pipeline/article5_answers_04.json\n",
      "Answers saved to outputs_pipeline/article5_answers_04.json\n",
      "Answers saved to outputs_pipeline/article5_answers_04.json\n",
      "Answers saved to outputs_pipeline/article5_answers_04.json\n"
     ]
    },
    {
     "name": "stderr",
     "output_type": "stream",
     "text": [
      "Processing responses: 100%|██████████| 40/40 [00:00<00:00, 99.91it/s] "
     ]
    },
    {
     "name": "stdout",
     "output_type": "stream",
     "text": [
      "Answers saved to outputs_pipeline/article5_answers_04.json\n",
      "Answers saved to outputs_pipeline/article5_answers_04.json\n",
      "Answers saved to outputs_pipeline/article5_answers_04.json\n",
      "Answers saved to outputs_pipeline/article5_answers_04.json\n",
      "Answers saved to outputs_pipeline/article5_answers_04.json\n",
      "处理完成，结果已保存到 outputs_pipeline/article5_answers_04.json\n"
     ]
    },
    {
     "name": "stderr",
     "output_type": "stream",
     "text": [
      "\n"
     ]
    }
   ],
   "source": [
    "from utils.answer_generation_v2 import process_response_file\n",
    "response_file_path = \"outputs_pipeline/response3_answer_04.jsonl\"  # 响应结果文件\n",
    "questions_path = \"outputs_pipeline/article4_question_with_topic01.json\"  # 原始问题文件\n",
    "answers_path = \"outputs_pipeline/article5_answers_04.json\"   # 结果保存路径\n",
    "# 执行处理\n",
    "process_response_file(response_file_path, questions_path, answers_path)"
   ]
  },
  {
   "cell_type": "code",
   "execution_count": 9,
   "id": "54e5b518",
   "metadata": {},
   "outputs": [
    {
     "name": "stdout",
     "output_type": "stream",
     "text": [
      "Syndatas saved to outputs_pipeline/syndatas03.json\n",
      "Syndatas saved to outputs_pipeline/syndatas03_instruction.json\n",
      "done 12.7cm彩色AM-OLED显示器分场驱动研究_沈亮_llm_correct.md syndata.\n",
      "Syndatas saved to outputs_pipeline/syndatas03.json\n",
      "Syndatas saved to outputs_pipeline/syndatas03_instruction.json\n",
      "done 10万象素a-Si_TFT有源矩阵的优化技术_徐重阳_llm_correct.md syndata.\n",
      "Syndatas saved to outputs_pipeline/syndatas03.json\n",
      "Syndatas saved to outputs_pipeline/syndatas03_instruction.json\n",
      "done 1,8-萘酰亚胺类有机小分子电致发光材料的研究进展_王启_llm_correct.md syndata.\n",
      "Syndatas saved to outputs_pipeline/syndatas03.json\n",
      "Syndatas saved to outputs_pipeline/syndatas03_instruction.json\n",
      "done 10大新显示技术_llm_correct.md syndata.\n",
      "Syndatas saved to outputs_pipeline/syndatas03.json\n",
      "Syndatas saved to outputs_pipeline/syndatas03_instruction.json\n",
      "done 12.7cm彩色AM-OLED显示屏的驱动模块_张繁_llm_correct.md syndata.\n"
     ]
    }
   ],
   "source": [
    "from utils.data_synthesis_v2 import syn_data\n",
    "answers_path = \"outputs_pipeline/article5_answers_04.json\" \n",
    "syndatas_path = \"outputs_pipeline/syndatas03.json\" \n",
    "syn_data(answers_path, syndatas_path)"
   ]
  },
  {
   "cell_type": "code",
   "execution_count": 10,
   "id": "5c51670b",
   "metadata": {},
   "outputs": [
    {
     "name": "stdout",
     "output_type": "stream",
     "text": [
      "Excel文件已生成: outputs_excel/syndata_eval03.xlsx\n",
      "总处理条目数: 40\n"
     ]
    }
   ],
   "source": [
    "from utils.data_trans import trans_syn2excel\n",
    "syndata_path = \"outputs_pipeline/syndatas03.json\" \n",
    "output_path = \"outputs_excel/syndata_eval03.xlsx\"\n",
    "trans_syn2excel(syndata_path, output_path)"
   ]
  },
  {
   "cell_type": "code",
   "execution_count": 11,
   "id": "46034365",
   "metadata": {},
   "outputs": [
    {
     "name": "stdout",
     "output_type": "stream",
     "text": [
      "转换完成，结果已保存到 outputs_excel/syndata_eval_request03_v1.jsonl\n"
     ]
    }
   ],
   "source": [
    "from utils.data_eval import excel_to_jsonl\n",
    "input_excel_path = \"outputs_excel/syndata_eval03.xlsx\" \n",
    "output_jsonl_path = \"outputs_excel/syndata_eval_request03_v1.jsonl\"\n",
    "excel_to_jsonl(input_excel_path, output_jsonl_path, prompt_version=\"v1\")"
   ]
  },
  {
   "cell_type": "code",
   "execution_count": 12,
   "id": "13b2b967",
   "metadata": {},
   "outputs": [
    {
     "name": "stdout",
     "output_type": "stream",
     "text": [
      "转换完成，结果已保存到 outputs_excel/syndata_eval_request03_v2.jsonl\n"
     ]
    }
   ],
   "source": [
    "from utils.data_eval import excel_to_jsonl\n",
    "input_excel_path = \"outputs_excel/syndata_eval03.xlsx\" \n",
    "output_jsonl_path = \"outputs_excel/syndata_eval_request03_v2.jsonl\"\n",
    "excel_to_jsonl(input_excel_path, output_jsonl_path, prompt_version=\"v2\")"
   ]
  },
  {
   "cell_type": "code",
   "execution_count": 1,
   "id": "f75e84b8",
   "metadata": {},
   "outputs": [
    {
     "name": "stdout",
     "output_type": "stream",
     "text": [
      "Total entries processed: 40\n",
      "Successfully parsed: 40\n",
      "Parse errors: 0\n",
      "\n",
      "Quality Statistics:\n",
      "Medium: Count = 19, Percentage = 47.50%\n",
      "High: Count = 21, Percentage = 52.50%\n"
     ]
    },
    {
     "data": {
      "image/png": "[encoded data removed]",
      "text/plain": [
       "<Figure size 1400x600 with 2 Axes>"
      ]
     },
     "metadata": {},
     "output_type": "display_data"
    }
   ],
   "source": [
    "from utils.data_eval import show_quality\n",
    "jsonl_file = 'outputs_excel/results_v2_03.jsonl'  # 替换为您的jsonl文件路径\n",
    "show_quality(jsonl_file)"
   ]
  },
  {
   "cell_type": "code",
   "execution_count": 2,
   "id": "0b9959ba",
   "metadata": {},
   "outputs": [
    {
     "name": "stdout",
     "output_type": "stream",
     "text": [
      "Total entries processed: 40\n",
      "Successfully parsed: 40\n",
      "Parse errors: 0\n",
      "\n",
      "Quality Statistics:\n",
      "High: Count = 33, Percentage = 82.50%\n",
      "Medium: Count = 7, Percentage = 17.50%\n"
     ]
    },
    {
     "data": {
      "image/png": "[encoded data removed]",
      "text/plain": [
       "<Figure size 1400x600 with 2 Axes>"
      ]
     },
     "metadata": {},
     "output_type": "display_data"
    }
   ],
   "source": [
    "from utils.data_eval import show_quality\n",
    "jsonl_file = 'outputs_excel/results_v1_03.jsonl'  # 替换为您的jsonl文件路径\n",
    "show_quality(jsonl_file)"
   ]
  },
  {
   "cell_type": "markdown",
   "id": "3aa6599e",
   "metadata": {},
   "source": [
    "## 新一轮，从gen_chunk开始，到质量评估为止的流程"
   ]
  },
  {
   "cell_type": "code",
   "execution_count": 1,
   "id": "0229f3c2",
   "metadata": {},
   "outputs": [
    {
     "name": "stdout",
     "output_type": "stream",
     "text": [
      "成功从 selected_papers.txt 读取 397 篇论文标题\n",
      "filenames: 100\n"
     ]
    },
    {
     "name": "stderr",
     "output_type": "stream",
     "text": [
      "Chunking: 100%|██████████| 1/1 [00:00<00:00, 66.67file/s, chunks=38]\n"
     ]
    },
    {
     "name": "stdout",
     "output_type": "stream",
     "text": [
      "Chunks saved to outputs_pipeline/article1_chunks02.json\n"
     ]
    },
    {
     "name": "stderr",
     "output_type": "stream",
     "text": [
      "Chunking: 100%|██████████| 1/1 [00:00<00:00, 124.84file/s, chunks=24]\n"
     ]
    },
    {
     "name": "stdout",
     "output_type": "stream",
     "text": [
      "Chunks saved to outputs_pipeline/article1_chunks02.json\n"
     ]
    },
    {
     "name": "stderr",
     "output_type": "stream",
     "text": [
      "Chunking: 100%|██████████| 1/1 [00:00<00:00, 43.46file/s, chunks=20]\n"
     ]
    },
    {
     "name": "stdout",
     "output_type": "stream",
     "text": [
      "Chunks saved to outputs_pipeline/article1_chunks02.json\n"
     ]
    },
    {
     "name": "stderr",
     "output_type": "stream",
     "text": [
      "Chunking: 100%|██████████| 1/1 [00:00<00:00, 83.27file/s, chunks=11]\n"
     ]
    },
    {
     "name": "stdout",
     "output_type": "stream",
     "text": [
      "Chunks saved to outputs_pipeline/article1_chunks02.json\n"
     ]
    },
    {
     "name": "stderr",
     "output_type": "stream",
     "text": [
      "Chunking: 100%|██████████| 1/1 [00:00<00:00, 83.36file/s, chunks=23]\n"
     ]
    },
    {
     "name": "stdout",
     "output_type": "stream",
     "text": [
      "Chunks saved to outputs_pipeline/article1_chunks02.json\n"
     ]
    },
    {
     "name": "stderr",
     "output_type": "stream",
     "text": [
      "Chunking: 100%|██████████| 1/1 [00:00<00:00, 500.27file/s, chunks=25]\n"
     ]
    },
    {
     "name": "stdout",
     "output_type": "stream",
     "text": [
      "Chunks saved to outputs_pipeline/article1_chunks02.json\n"
     ]
    },
    {
     "name": "stderr",
     "output_type": "stream",
     "text": [
      "Chunking: 100%|██████████| 1/1 [00:00<00:00, 1000.07file/s, chunks=24]\n"
     ]
    },
    {
     "name": "stdout",
     "output_type": "stream",
     "text": [
      "Chunks saved to outputs_pipeline/article1_chunks02.json\n"
     ]
    },
    {
     "name": "stderr",
     "output_type": "stream",
     "text": [
      "Chunking: 100%|██████████| 1/1 [00:00<00:00, 83.29file/s, chunks=40]\n"
     ]
    },
    {
     "name": "stdout",
     "output_type": "stream",
     "text": [
      "Chunks saved to outputs_pipeline/article1_chunks02.json\n"
     ]
    },
    {
     "name": "stderr",
     "output_type": "stream",
     "text": [
      "Chunking: 100%|██████████| 1/1 [00:00<00:00, 499.92file/s, chunks=23]\n"
     ]
    },
    {
     "name": "stdout",
     "output_type": "stream",
     "text": [
      "Chunks saved to outputs_pipeline/article1_chunks02.json\n"
     ]
    },
    {
     "name": "stderr",
     "output_type": "stream",
     "text": [
      "Chunking: 100%|██████████| 1/1 [00:00<00:00, 500.16file/s, chunks=21]\n"
     ]
    },
    {
     "name": "stdout",
     "output_type": "stream",
     "text": [
      "Chunks saved to outputs_pipeline/article1_chunks02.json\n"
     ]
    },
    {
     "name": "stderr",
     "output_type": "stream",
     "text": [
      "Chunking: 100%|██████████| 1/1 [00:00<00:00, 333.44file/s, chunks=18]\n"
     ]
    },
    {
     "name": "stdout",
     "output_type": "stream",
     "text": [
      "Chunks saved to outputs_pipeline/article1_chunks02.json\n"
     ]
    },
    {
     "name": "stderr",
     "output_type": "stream",
     "text": [
      "Chunking: 100%|██████████| 1/1 [00:00<00:00, 333.30file/s, chunks=25]\n"
     ]
    },
    {
     "name": "stdout",
     "output_type": "stream",
     "text": [
      "Chunks saved to outputs_pipeline/article1_chunks02.json\n"
     ]
    },
    {
     "name": "stderr",
     "output_type": "stream",
     "text": [
      "Chunking: 100%|██████████| 1/1 [00:00<00:00, 55.55file/s, chunks=54]\n"
     ]
    },
    {
     "name": "stdout",
     "output_type": "stream",
     "text": [
      "Chunks saved to outputs_pipeline/article1_chunks02.json\n"
     ]
    },
    {
     "name": "stderr",
     "output_type": "stream",
     "text": [
      "Chunking: 100%|██████████| 1/1 [00:00<00:00, 76.92file/s, chunks=23]\n"
     ]
    },
    {
     "name": "stdout",
     "output_type": "stream",
     "text": [
      "Chunks saved to outputs_pipeline/article1_chunks02.json\n"
     ]
    },
    {
     "name": "stderr",
     "output_type": "stream",
     "text": [
      "Chunking: 100%|██████████| 1/1 [00:00<00:00, 83.33file/s, chunks=41]\n"
     ]
    },
    {
     "name": "stdout",
     "output_type": "stream",
     "text": [
      "Chunks saved to outputs_pipeline/article1_chunks02.json\n"
     ]
    },
    {
     "name": "stderr",
     "output_type": "stream",
     "text": [
      "Chunking: 100%|██████████| 1/1 [00:00<00:00, 76.92file/s, chunks=50]\n"
     ]
    },
    {
     "name": "stdout",
     "output_type": "stream",
     "text": [
      "Chunks saved to outputs_pipeline/article1_chunks02.json\n"
     ]
    },
    {
     "name": "stderr",
     "output_type": "stream",
     "text": [
      "Chunking: 100%|██████████| 1/1 [00:00<00:00, 76.91file/s, chunks=14]"
     ]
    },
    {
     "name": "stdout",
     "output_type": "stream",
     "text": [
      "Chunks saved to outputs_pipeline/article1_chunks02.json"
     ]
    },
    {
     "name": "stderr",
     "output_type": "stream",
     "text": [
      "\n"
     ]
    },
    {
     "name": "stdout",
     "output_type": "stream",
     "text": [
      "\n"
     ]
    },
    {
     "name": "stderr",
     "output_type": "stream",
     "text": [
      "Chunking: 100%|██████████| 1/1 [00:00<00:00, 333.23file/s, chunks=38]\n"
     ]
    },
    {
     "name": "stdout",
     "output_type": "stream",
     "text": [
      "Chunks saved to outputs_pipeline/article1_chunks02.json\n"
     ]
    },
    {
     "name": "stderr",
     "output_type": "stream",
     "text": [
      "Chunking: 100%|██████████| 1/1 [00:00<00:00, 76.92file/s, chunks=17]\n"
     ]
    },
    {
     "name": "stdout",
     "output_type": "stream",
     "text": [
      "Chunks saved to outputs_pipeline/article1_chunks02.json\n"
     ]
    },
    {
     "name": "stderr",
     "output_type": "stream",
     "text": [
      "Chunking: 100%|██████████| 1/1 [00:00<00:00, 76.93file/s, chunks=8]\n"
     ]
    },
    {
     "name": "stdout",
     "output_type": "stream",
     "text": [
      "Chunks saved to outputs_pipeline/article1_chunks02.json\n"
     ]
    },
    {
     "name": "stderr",
     "output_type": "stream",
     "text": [
      "Chunking: 100%|██████████| 1/1 [00:00<00:00, 111.10file/s, chunks=45]\n"
     ]
    },
    {
     "name": "stdout",
     "output_type": "stream",
     "text": [
      "Chunks saved to outputs_pipeline/article1_chunks02.json\n"
     ]
    },
    {
     "name": "stderr",
     "output_type": "stream",
     "text": [
      "Chunking: 100%|██████████| 1/1 [00:00<00:00, 83.33file/s, chunks=4]\n"
     ]
    },
    {
     "name": "stdout",
     "output_type": "stream",
     "text": [
      "Chunks saved to outputs_pipeline/article1_chunks02.json\n"
     ]
    },
    {
     "name": "stderr",
     "output_type": "stream",
     "text": [
      "Chunking: 100%|██████████| 1/1 [00:00<00:00, 499.98file/s, chunks=12]\n"
     ]
    },
    {
     "name": "stdout",
     "output_type": "stream",
     "text": [
      "Chunks saved to outputs_pipeline/article1_chunks02.json\n"
     ]
    },
    {
     "name": "stderr",
     "output_type": "stream",
     "text": [
      "Chunking: 100%|██████████| 1/1 [00:00<00:00, 200.03file/s, chunks=19]"
     ]
    },
    {
     "name": "stdout",
     "output_type": "stream",
     "text": [
      "Chunks saved to outputs_pipeline/article1_chunks02.json"
     ]
    },
    {
     "name": "stderr",
     "output_type": "stream",
     "text": [
      "\n"
     ]
    },
    {
     "name": "stdout",
     "output_type": "stream",
     "text": [
      "\n"
     ]
    },
    {
     "name": "stderr",
     "output_type": "stream",
     "text": [
      "Chunking: 100%|██████████| 1/1 [00:00<00:00, 499.92file/s, chunks=9]\n"
     ]
    },
    {
     "name": "stdout",
     "output_type": "stream",
     "text": [
      "Chunks saved to outputs_pipeline/article1_chunks02.json\n"
     ]
    },
    {
     "name": "stderr",
     "output_type": "stream",
     "text": [
      "Chunking: 100%|██████████| 1/1 [00:00<00:00, 76.93file/s, chunks=18]"
     ]
    },
    {
     "name": "stdout",
     "output_type": "stream",
     "text": [
      "Chunks saved to outputs_pipeline/article1_chunks02.json"
     ]
    },
    {
     "name": "stderr",
     "output_type": "stream",
     "text": [
      "\n"
     ]
    },
    {
     "name": "stdout",
     "output_type": "stream",
     "text": [
      "\n"
     ]
    },
    {
     "name": "stderr",
     "output_type": "stream",
     "text": [
      "Chunking: 100%|██████████| 1/1 [00:00<00:00, 499.62file/s, chunks=13]\n"
     ]
    },
    {
     "name": "stdout",
     "output_type": "stream",
     "text": [
      "Chunks saved to outputs_pipeline/article1_chunks02.json\n"
     ]
    },
    {
     "name": "stderr",
     "output_type": "stream",
     "text": [
      "Chunking: 100%|██████████| 1/1 [00:00<00:00, 500.27file/s, chunks=25]\n"
     ]
    },
    {
     "name": "stdout",
     "output_type": "stream",
     "text": [
      "Chunks saved to outputs_pipeline/article1_chunks02.json\n"
     ]
    },
    {
     "name": "stderr",
     "output_type": "stream",
     "text": [
      "Chunking: 100%|██████████| 1/1 [00:00<00:00, 90.91file/s, chunks=16]\n"
     ]
    },
    {
     "name": "stdout",
     "output_type": "stream",
     "text": [
      "Chunks saved to outputs_pipeline/article1_chunks02.json\n"
     ]
    },
    {
     "name": "stderr",
     "output_type": "stream",
     "text": [
      "Chunking: 100%|██████████| 1/1 [00:00<00:00, 76.92file/s, chunks=32]\n"
     ]
    },
    {
     "name": "stdout",
     "output_type": "stream",
     "text": [
      "Chunks saved to outputs_pipeline/article1_chunks02.json\n"
     ]
    },
    {
     "name": "stderr",
     "output_type": "stream",
     "text": [
      "Chunking: 100%|██████████| 1/1 [00:00<00:00, 76.92file/s, chunks=23]\n"
     ]
    },
    {
     "name": "stdout",
     "output_type": "stream",
     "text": [
      "Chunks saved to outputs_pipeline/article1_chunks02.json\n"
     ]
    },
    {
     "name": "stderr",
     "output_type": "stream",
     "text": [
      "Chunking: 100%|██████████| 1/1 [00:00<00:00, 76.92file/s, chunks=33]"
     ]
    },
    {
     "name": "stdout",
     "output_type": "stream",
     "text": [
      "Chunks saved to outputs_pipeline/article1_chunks02.json\n"
     ]
    },
    {
     "name": "stderr",
     "output_type": "stream",
     "text": [
      "\n",
      "Chunking: 100%|██████████| 1/1 [00:00<00:00, 90.92file/s, chunks=18]\n"
     ]
    },
    {
     "name": "stdout",
     "output_type": "stream",
     "text": [
      "Chunks saved to outputs_pipeline/article1_chunks02.json\n"
     ]
    },
    {
     "name": "stderr",
     "output_type": "stream",
     "text": [
      "Chunking: 100%|██████████| 1/1 [00:00<00:00, 500.81file/s, chunks=34]\n"
     ]
    },
    {
     "name": "stdout",
     "output_type": "stream",
     "text": [
      "Chunks saved to outputs_pipeline/article1_chunks02.json\n"
     ]
    },
    {
     "name": "stderr",
     "output_type": "stream",
     "text": [
      "Chunking: 100%|██████████| 1/1 [00:00<00:00, 100.00file/s, chunks=20]\n"
     ]
    },
    {
     "name": "stdout",
     "output_type": "stream",
     "text": [
      "Chunks saved to outputs_pipeline/article1_chunks02.json\n"
     ]
    },
    {
     "name": "stderr",
     "output_type": "stream",
     "text": [
      "Chunking: 100%|██████████| 1/1 [00:00<00:00, 500.04file/s, chunks=9]\n"
     ]
    },
    {
     "name": "stdout",
     "output_type": "stream",
     "text": [
      "Chunks saved to outputs_pipeline/article1_chunks02.json\n"
     ]
    },
    {
     "name": "stderr",
     "output_type": "stream",
     "text": [
      "Chunking: 100%|██████████| 1/1 [00:00<00:00, 499.44file/s, chunks=22]\n"
     ]
    },
    {
     "name": "stdout",
     "output_type": "stream",
     "text": [
      "Chunks saved to outputs_pipeline/article1_chunks02.json\n"
     ]
    },
    {
     "name": "stderr",
     "output_type": "stream",
     "text": [
      "Chunking: 100%|██████████| 1/1 [00:00<00:00, 90.83file/s, chunks=25]\n"
     ]
    },
    {
     "name": "stdout",
     "output_type": "stream",
     "text": [
      "Chunks saved to outputs_pipeline/article1_chunks02.json\n"
     ]
    },
    {
     "name": "stderr",
     "output_type": "stream",
     "text": [
      "Chunking: 100%|██████████| 1/1 [00:00<00:00, 500.10file/s, chunks=29]\n"
     ]
    },
    {
     "name": "stdout",
     "output_type": "stream",
     "text": [
      "Chunks saved to outputs_pipeline/article1_chunks02.json\n"
     ]
    },
    {
     "name": "stderr",
     "output_type": "stream",
     "text": [
      "Chunking: 100%|██████████| 1/1 [00:00<00:00, 111.00file/s, chunks=28]\n"
     ]
    },
    {
     "name": "stdout",
     "output_type": "stream",
     "text": [
      "Chunks saved to outputs_pipeline/article1_chunks02.json\n"
     ]
    },
    {
     "name": "stderr",
     "output_type": "stream",
     "text": [
      "Chunking: 100%|██████████| 1/1 [00:00<00:00, 111.11file/s, chunks=26]\n"
     ]
    },
    {
     "name": "stdout",
     "output_type": "stream",
     "text": [
      "Chunks saved to outputs_pipeline/article1_chunks02.json\n"
     ]
    },
    {
     "name": "stderr",
     "output_type": "stream",
     "text": [
      "Chunking: 100%|██████████| 1/1 [00:00<00:00, 500.10file/s, chunks=26]\n"
     ]
    },
    {
     "name": "stdout",
     "output_type": "stream",
     "text": [
      "Chunks saved to outputs_pipeline/article1_chunks02.json\n"
     ]
    },
    {
     "name": "stderr",
     "output_type": "stream",
     "text": [
      "Chunking: 100%|██████████| 1/1 [00:00<00:00, 499.98file/s, chunks=15]\n"
     ]
    },
    {
     "name": "stdout",
     "output_type": "stream",
     "text": [
      "Chunks saved to outputs_pipeline/article1_chunks02.json\n"
     ]
    },
    {
     "name": "stderr",
     "output_type": "stream",
     "text": [
      "Chunking: 100%|██████████| 1/1 [00:00<00:00, 499.92file/s, chunks=11]"
     ]
    },
    {
     "name": "stdout",
     "output_type": "stream",
     "text": [
      "Chunks saved to outputs_pipeline/article1_chunks02.json"
     ]
    },
    {
     "name": "stderr",
     "output_type": "stream",
     "text": [
      "\n"
     ]
    },
    {
     "name": "stdout",
     "output_type": "stream",
     "text": [
      "\n"
     ]
    },
    {
     "name": "stderr",
     "output_type": "stream",
     "text": [
      "Chunking: 100%|██████████| 1/1 [00:00<00:00, 499.92file/s, chunks=8]"
     ]
    },
    {
     "name": "stdout",
     "output_type": "stream",
     "text": [
      "Chunks saved to outputs_pipeline/article1_chunks02.json"
     ]
    },
    {
     "name": "stderr",
     "output_type": "stream",
     "text": [
      "\n"
     ]
    },
    {
     "name": "stdout",
     "output_type": "stream",
     "text": [
      "\n"
     ]
    },
    {
     "name": "stderr",
     "output_type": "stream",
     "text": [
      "Chunking: 100%|██████████| 1/1 [00:00<00:00, 499.98file/s, chunks=28]\n"
     ]
    },
    {
     "name": "stdout",
     "output_type": "stream",
     "text": [
      "Chunks saved to outputs_pipeline/article1_chunks02.json\n"
     ]
    },
    {
     "name": "stderr",
     "output_type": "stream",
     "text": [
      "Chunking: 100%|██████████| 1/1 [00:00<00:00, 500.45file/s, chunks=6]\n"
     ]
    },
    {
     "name": "stdout",
     "output_type": "stream",
     "text": [
      "Chunks saved to outputs_pipeline/article1_chunks02.json\n"
     ]
    },
    {
     "name": "stderr",
     "output_type": "stream",
     "text": [
      "Chunking: 100%|██████████| 1/1 [00:00<00:00, 500.16file/s, chunks=48]\n"
     ]
    },
    {
     "name": "stdout",
     "output_type": "stream",
     "text": [
      "Chunks saved to outputs_pipeline/article1_chunks02.json\n"
     ]
    },
    {
     "name": "stderr",
     "output_type": "stream",
     "text": [
      "Chunking: 100%|██████████| 1/1 [00:00<00:00, 83.32file/s, chunks=18]"
     ]
    },
    {
     "name": "stdout",
     "output_type": "stream",
     "text": [
      "Chunks saved to outputs_pipeline/article1_chunks02.json"
     ]
    },
    {
     "name": "stderr",
     "output_type": "stream",
     "text": [
      "\n"
     ]
    },
    {
     "name": "stdout",
     "output_type": "stream",
     "text": [
      "\n"
     ]
    },
    {
     "name": "stderr",
     "output_type": "stream",
     "text": [
      "Chunking: 100%|██████████| 1/1 [00:00<00:00, 76.87file/s, chunks=46]\n"
     ]
    },
    {
     "name": "stdout",
     "output_type": "stream",
     "text": [
      "Chunks saved to outputs_pipeline/article1_chunks02.json\n"
     ]
    },
    {
     "name": "stderr",
     "output_type": "stream",
     "text": [
      "Chunking: 100%|██████████| 1/1 [00:00<00:00, 500.10file/s, chunks=32]\n"
     ]
    },
    {
     "name": "stdout",
     "output_type": "stream",
     "text": [
      "Chunks saved to outputs_pipeline/article1_chunks02.json\n"
     ]
    },
    {
     "name": "stderr",
     "output_type": "stream",
     "text": [
      "Chunking: 100%|██████████| 1/1 [00:00<00:00, 62.47file/s, chunks=62]"
     ]
    },
    {
     "name": "stdout",
     "output_type": "stream",
     "text": [
      "Chunks saved to outputs_pipeline/article1_chunks02.json"
     ]
    },
    {
     "name": "stderr",
     "output_type": "stream",
     "text": [
      "\n"
     ]
    },
    {
     "name": "stdout",
     "output_type": "stream",
     "text": [
      "\n"
     ]
    },
    {
     "name": "stderr",
     "output_type": "stream",
     "text": [
      "Chunking: 100%|██████████| 1/1 [00:00<00:00, 125.01file/s, chunks=80]"
     ]
    },
    {
     "name": "stdout",
     "output_type": "stream",
     "text": [
      "Chunks saved to outputs_pipeline/article1_chunks02.json"
     ]
    },
    {
     "name": "stderr",
     "output_type": "stream",
     "text": [
      "\n"
     ]
    },
    {
     "name": "stdout",
     "output_type": "stream",
     "text": [
      "\n"
     ]
    },
    {
     "name": "stderr",
     "output_type": "stream",
     "text": [
      "Chunking: 100%|██████████| 1/1 [00:00<00:00, 142.82file/s, chunks=25]\n"
     ]
    },
    {
     "name": "stdout",
     "output_type": "stream",
     "text": [
      "Chunks saved to outputs_pipeline/article1_chunks02.json\n"
     ]
    },
    {
     "name": "stderr",
     "output_type": "stream",
     "text": [
      "Chunking: 100%|██████████| 1/1 [00:00<00:00, 333.57file/s, chunks=29]\n"
     ]
    },
    {
     "name": "stdout",
     "output_type": "stream",
     "text": [
      "Chunks saved to outputs_pipeline/article1_chunks02.json\n"
     ]
    },
    {
     "name": "stderr",
     "output_type": "stream",
     "text": [
      "Chunking: 100%|██████████| 1/1 [00:00<00:00, 142.90file/s, chunks=9]\n"
     ]
    },
    {
     "name": "stdout",
     "output_type": "stream",
     "text": [
      "Chunks saved to outputs_pipeline/article1_chunks02.json\n"
     ]
    },
    {
     "name": "stderr",
     "output_type": "stream",
     "text": [
      "Chunking: 100%|██████████| 1/1 [00:00<00:00, 500.22file/s, chunks=40]\n"
     ]
    },
    {
     "name": "stdout",
     "output_type": "stream",
     "text": [
      "Chunks saved to outputs_pipeline/article1_chunks02.json\n"
     ]
    },
    {
     "name": "stderr",
     "output_type": "stream",
     "text": [
      "Chunking: 100%|██████████| 1/1 [00:00<00:00, 52.63file/s, chunks=32]"
     ]
    },
    {
     "name": "stdout",
     "output_type": "stream",
     "text": [
      "Chunks saved to outputs_pipeline/article1_chunks02.json\n"
     ]
    },
    {
     "name": "stderr",
     "output_type": "stream",
     "text": [
      "\n",
      "Chunking: 100%|██████████| 1/1 [00:00<00:00, 199.96file/s, chunks=35]"
     ]
    },
    {
     "name": "stdout",
     "output_type": "stream",
     "text": [
      "Chunks saved to outputs_pipeline/article1_chunks02.json"
     ]
    },
    {
     "name": "stderr",
     "output_type": "stream",
     "text": [
      "\n"
     ]
    },
    {
     "name": "stdout",
     "output_type": "stream",
     "text": [
      "\n"
     ]
    },
    {
     "name": "stderr",
     "output_type": "stream",
     "text": [
      "Chunking: 100%|██████████| 1/1 [00:00<00:00, 250.08file/s, chunks=73]\n"
     ]
    },
    {
     "name": "stdout",
     "output_type": "stream",
     "text": [
      "Chunks saved to outputs_pipeline/article1_chunks02.json\n"
     ]
    },
    {
     "name": "stderr",
     "output_type": "stream",
     "text": [
      "Chunking: 100%|██████████| 1/1 [00:00<00:00, 83.36file/s, chunks=84]\n"
     ]
    },
    {
     "name": "stdout",
     "output_type": "stream",
     "text": [
      "Chunks saved to outputs_pipeline/article1_chunks02.json\n"
     ]
    },
    {
     "name": "stderr",
     "output_type": "stream",
     "text": [
      "Chunking: 100%|██████████| 1/1 [00:00<00:00, 333.68file/s, chunks=43]\n"
     ]
    },
    {
     "name": "stdout",
     "output_type": "stream",
     "text": [
      "Chunks saved to outputs_pipeline/article1_chunks02.json\n"
     ]
    },
    {
     "name": "stderr",
     "output_type": "stream",
     "text": [
      "Chunking: 100%|██████████| 1/1 [00:00<00:00, 500.33file/s, chunks=5]\n"
     ]
    },
    {
     "name": "stdout",
     "output_type": "stream",
     "text": [
      "Chunks saved to outputs_pipeline/article1_chunks02.json\n"
     ]
    },
    {
     "name": "stderr",
     "output_type": "stream",
     "text": [
      "Chunking: 100%|██████████| 1/1 [00:00<00:00, 499.98file/s, chunks=35]"
     ]
    },
    {
     "name": "stdout",
     "output_type": "stream",
     "text": [
      "Chunks saved to outputs_pipeline/article1_chunks02.json"
     ]
    },
    {
     "name": "stderr",
     "output_type": "stream",
     "text": [
      "\n"
     ]
    },
    {
     "name": "stdout",
     "output_type": "stream",
     "text": [
      "\n"
     ]
    },
    {
     "name": "stderr",
     "output_type": "stream",
     "text": [
      "Chunking: 100%|██████████| 1/1 [00:00<00:00, 64.90file/s, chunks=72]\n"
     ]
    },
    {
     "name": "stdout",
     "output_type": "stream",
     "text": [
      "Chunks saved to outputs_pipeline/article1_chunks02.json\n"
     ]
    },
    {
     "name": "stderr",
     "output_type": "stream",
     "text": [
      "Chunking: 100%|██████████| 1/1 [00:00<00:00, 499.56file/s, chunks=20]\n"
     ]
    },
    {
     "name": "stdout",
     "output_type": "stream",
     "text": [
      "Chunks saved to outputs_pipeline/article1_chunks02.json\n"
     ]
    },
    {
     "name": "stderr",
     "output_type": "stream",
     "text": [
      "Chunking: 100%|██████████| 1/1 [00:00<00:00, 76.85file/s, chunks=32]\n"
     ]
    },
    {
     "name": "stdout",
     "output_type": "stream",
     "text": [
      "Chunks saved to outputs_pipeline/article1_chunks02.json\n"
     ]
    },
    {
     "name": "stderr",
     "output_type": "stream",
     "text": [
      "Chunking: 100%|██████████| 1/1 [00:00<00:00, 499.92file/s, chunks=19]\n"
     ]
    },
    {
     "name": "stdout",
     "output_type": "stream",
     "text": [
      "Chunks saved to outputs_pipeline/article1_chunks02.json\n"
     ]
    },
    {
     "name": "stderr",
     "output_type": "stream",
     "text": [
      "Chunking: 100%|██████████| 1/1 [00:00<00:00, 117.66file/s, chunks=80]"
     ]
    },
    {
     "name": "stdout",
     "output_type": "stream",
     "text": [
      "Chunks saved to outputs_pipeline/article1_chunks02.json\n"
     ]
    },
    {
     "name": "stderr",
     "output_type": "stream",
     "text": [
      "\n",
      "Chunking: 100%|██████████| 1/1 [00:00<00:00, 333.12file/s, chunks=37]\n"
     ]
    },
    {
     "name": "stdout",
     "output_type": "stream",
     "text": [
      "Chunks saved to outputs_pipeline/article1_chunks02.json\n"
     ]
    },
    {
     "name": "stderr",
     "output_type": "stream",
     "text": [
      "Chunking: 100%|██████████| 1/1 [00:00<00:00, 500.16file/s, chunks=19]\n"
     ]
    },
    {
     "name": "stdout",
     "output_type": "stream",
     "text": [
      "Chunks saved to outputs_pipeline/article1_chunks02.json\n"
     ]
    },
    {
     "name": "stderr",
     "output_type": "stream",
     "text": [
      "Chunking: 100%|██████████| 1/1 [00:00<00:00, 1000.07file/s, chunks=30]\n"
     ]
    },
    {
     "name": "stdout",
     "output_type": "stream",
     "text": [
      "Chunks saved to outputs_pipeline/article1_chunks02.json\n"
     ]
    },
    {
     "name": "stderr",
     "output_type": "stream",
     "text": [
      "Chunking: 100%|██████████| 1/1 [00:00<00:00, 500.39file/s, chunks=22]\n"
     ]
    },
    {
     "name": "stdout",
     "output_type": "stream",
     "text": [
      "Chunks saved to outputs_pipeline/article1_chunks02.json\n"
     ]
    },
    {
     "name": "stderr",
     "output_type": "stream",
     "text": [
      "Chunking: 100%|██████████| 1/1 [00:00<00:00, 62.48file/s, chunks=90]\n"
     ]
    },
    {
     "name": "stdout",
     "output_type": "stream",
     "text": [
      "Chunks saved to outputs_pipeline/article1_chunks02.json\n"
     ]
    },
    {
     "name": "stderr",
     "output_type": "stream",
     "text": [
      "Chunking: 100%|██████████| 1/1 [00:00<00:00, 499.80file/s, chunks=28]\n"
     ]
    },
    {
     "name": "stdout",
     "output_type": "stream",
     "text": [
      "Chunks saved to outputs_pipeline/article1_chunks02.json\n"
     ]
    },
    {
     "name": "stderr",
     "output_type": "stream",
     "text": [
      "Chunking: 100%|██████████| 1/1 [00:00<00:00, 500.39file/s, chunks=17]\n"
     ]
    },
    {
     "name": "stdout",
     "output_type": "stream",
     "text": [
      "Chunks saved to outputs_pipeline/article1_chunks02.json\n"
     ]
    },
    {
     "name": "stderr",
     "output_type": "stream",
     "text": [
      "Chunking: 100%|██████████| 1/1 [00:00<00:00, 38.45file/s, chunks=35]"
     ]
    },
    {
     "name": "stdout",
     "output_type": "stream",
     "text": [
      "Chunks saved to outputs_pipeline/article1_chunks02.json"
     ]
    },
    {
     "name": "stderr",
     "output_type": "stream",
     "text": [
      "\n"
     ]
    },
    {
     "name": "stdout",
     "output_type": "stream",
     "text": [
      "\n"
     ]
    },
    {
     "name": "stderr",
     "output_type": "stream",
     "text": [
      "Chunking: 100%|██████████| 1/1 [00:00<00:00, 100.00file/s, chunks=29]"
     ]
    },
    {
     "name": "stdout",
     "output_type": "stream",
     "text": [
      "Chunks saved to outputs_pipeline/article1_chunks02.json\n"
     ]
    },
    {
     "name": "stderr",
     "output_type": "stream",
     "text": [
      "\n",
      "Chunking: 100%|██████████| 1/1 [00:00<00:00, 499.68file/s, chunks=30]\n"
     ]
    },
    {
     "name": "stdout",
     "output_type": "stream",
     "text": [
      "Chunks saved to outputs_pipeline/article1_chunks02.json\n"
     ]
    },
    {
     "name": "stderr",
     "output_type": "stream",
     "text": [
      "Chunking: 100%|██████████| 1/1 [00:00<00:00, 333.33file/s, chunks=55]\n"
     ]
    },
    {
     "name": "stdout",
     "output_type": "stream",
     "text": [
      "Chunks saved to outputs_pipeline/article1_chunks02.json\n"
     ]
    },
    {
     "name": "stderr",
     "output_type": "stream",
     "text": [
      "Chunking: 100%|██████████| 1/1 [00:00<00:00, 500.10file/s, chunks=24]\n"
     ]
    },
    {
     "name": "stdout",
     "output_type": "stream",
     "text": [
      "Chunks saved to outputs_pipeline/article1_chunks02.json\n"
     ]
    },
    {
     "name": "stderr",
     "output_type": "stream",
     "text": [
      "Chunking: 100%|██████████| 1/1 [00:00<00:00, 499.92file/s, chunks=14]\n"
     ]
    },
    {
     "name": "stdout",
     "output_type": "stream",
     "text": [
      "Chunks saved to outputs_pipeline/article1_chunks02.json\n"
     ]
    },
    {
     "name": "stderr",
     "output_type": "stream",
     "text": [
      "Chunking: 100%|██████████| 1/1 [00:00<00:00, 108.27file/s, chunks=14]\n"
     ]
    },
    {
     "name": "stdout",
     "output_type": "stream",
     "text": [
      "Chunks saved to outputs_pipeline/article1_chunks02.json\n"
     ]
    },
    {
     "name": "stderr",
     "output_type": "stream",
     "text": [
      "Chunking: 100%|██████████| 1/1 [00:00<00:00, 32.25file/s, chunks=16]\n"
     ]
    },
    {
     "name": "stdout",
     "output_type": "stream",
     "text": [
      "Chunks saved to outputs_pipeline/article1_chunks02.json\n"
     ]
    },
    {
     "name": "stderr",
     "output_type": "stream",
     "text": [
      "Chunking: 100%|██████████| 1/1 [00:00<00:00, 45.45file/s, chunks=16]\n"
     ]
    },
    {
     "name": "stdout",
     "output_type": "stream",
     "text": [
      "Chunks saved to outputs_pipeline/article1_chunks02.json\n"
     ]
    },
    {
     "name": "stderr",
     "output_type": "stream",
     "text": [
      "Chunking: 100%|██████████| 1/1 [00:00<00:00, 62.50file/s, chunks=65]"
     ]
    },
    {
     "name": "stdout",
     "output_type": "stream",
     "text": [
      "Chunks saved to outputs_pipeline/article1_chunks02.json"
     ]
    },
    {
     "name": "stderr",
     "output_type": "stream",
     "text": [
      "\n"
     ]
    },
    {
     "name": "stdout",
     "output_type": "stream",
     "text": [
      "\n"
     ]
    },
    {
     "name": "stderr",
     "output_type": "stream",
     "text": [
      "Chunking: 100%|██████████| 1/1 [00:00<00:00, 200.02file/s, chunks=52]\n"
     ]
    },
    {
     "name": "stdout",
     "output_type": "stream",
     "text": [
      "Chunks saved to outputs_pipeline/article1_chunks02.json\n"
     ]
    },
    {
     "name": "stderr",
     "output_type": "stream",
     "text": [
      "Chunking: 100%|██████████| 1/1 [00:00<00:00, 499.74file/s, chunks=9]\n"
     ]
    },
    {
     "name": "stdout",
     "output_type": "stream",
     "text": [
      "Chunks saved to outputs_pipeline/article1_chunks02.json\n"
     ]
    },
    {
     "name": "stderr",
     "output_type": "stream",
     "text": [
      "Chunking: 100%|██████████| 1/1 [00:00<00:00, 333.28file/s, chunks=40]\n"
     ]
    },
    {
     "name": "stdout",
     "output_type": "stream",
     "text": [
      "Chunks saved to outputs_pipeline/article1_chunks02.json\n"
     ]
    },
    {
     "name": "stderr",
     "output_type": "stream",
     "text": [
      "Chunking: 100%|██████████| 1/1 [00:00<00:00, 500.45file/s, chunks=3]\n"
     ]
    },
    {
     "name": "stdout",
     "output_type": "stream",
     "text": [
      "Chunks saved to outputs_pipeline/article1_chunks02.json\n"
     ]
    },
    {
     "name": "stderr",
     "output_type": "stream",
     "text": [
      "Chunking: 100%|██████████| 1/1 [00:00<00:00, 500.22file/s, chunks=32]\n"
     ]
    },
    {
     "name": "stdout",
     "output_type": "stream",
     "text": [
      "Chunks saved to outputs_pipeline/article1_chunks02.json\n"
     ]
    },
    {
     "name": "stderr",
     "output_type": "stream",
     "text": [
      "Chunking: 100%|██████████| 1/1 [00:00<00:00, 500.16file/s, chunks=58]\n"
     ]
    },
    {
     "name": "stdout",
     "output_type": "stream",
     "text": [
      "Chunks saved to outputs_pipeline/article1_chunks02.json\n"
     ]
    },
    {
     "name": "stderr",
     "output_type": "stream",
     "text": [
      "Chunking: 100%|██████████| 1/1 [00:00<00:00, 999.36file/s, chunks=11]\n"
     ]
    },
    {
     "name": "stdout",
     "output_type": "stream",
     "text": [
      "Chunks saved to outputs_pipeline/article1_chunks02.json\n"
     ]
    },
    {
     "name": "stderr",
     "output_type": "stream",
     "text": [
      "Chunking: 100%|██████████| 1/1 [00:00<00:00, 333.38file/s, chunks=36]\n"
     ]
    },
    {
     "name": "stdout",
     "output_type": "stream",
     "text": [
      "Chunks saved to outputs_pipeline/article1_chunks02.json\n"
     ]
    },
    {
     "name": "stderr",
     "output_type": "stream",
     "text": [
      "Chunking: 100%|██████████| 1/1 [00:00<00:00, 199.53file/s, chunks=22]\n"
     ]
    },
    {
     "name": "stdout",
     "output_type": "stream",
     "text": [
      "Chunks saved to outputs_pipeline/article1_chunks02.json\n"
     ]
    },
    {
     "name": "stderr",
     "output_type": "stream",
     "text": [
      "Chunking: 100%|██████████| 1/1 [00:00<00:00, 52.61file/s, chunks=50]\n"
     ]
    },
    {
     "name": "stdout",
     "output_type": "stream",
     "text": [
      "Chunks saved to outputs_pipeline/article1_chunks02.json\n"
     ]
    },
    {
     "name": "stderr",
     "output_type": "stream",
     "text": [
      "Chunking: 100%|██████████| 1/1 [00:00<00:00, 250.05file/s, chunks=79]\n"
     ]
    },
    {
     "name": "stdout",
     "output_type": "stream",
     "text": [
      "Chunks saved to outputs_pipeline/article1_chunks02.json\n"
     ]
    },
    {
     "name": "stderr",
     "output_type": "stream",
     "text": [
      "Chunking: 100%|██████████| 1/1 [00:00<00:00, 41.63file/s, chunks=44]\n"
     ]
    },
    {
     "name": "stdout",
     "output_type": "stream",
     "text": [
      "Chunks saved to outputs_pipeline/article1_chunks02.json\n"
     ]
    },
    {
     "name": "stderr",
     "output_type": "stream",
     "text": [
      "Chunking: 100%|██████████| 1/1 [00:00<00:00, 90.89file/s, chunks=98]\n"
     ]
    },
    {
     "name": "stdout",
     "output_type": "stream",
     "text": [
      "Chunks saved to outputs_pipeline/article1_chunks02.json\n"
     ]
    },
    {
     "name": "stderr",
     "output_type": "stream",
     "text": [
      "Chunking: 100%|██████████| 1/1 [00:00<00:00, 502.73file/s, chunks=17]\n"
     ]
    },
    {
     "name": "stdout",
     "output_type": "stream",
     "text": [
      "Chunks saved to outputs_pipeline/article1_chunks02.json\n",
      "all chunks: 3102\n"
     ]
    },
    {
     "data": {
      "text/plain": [
       "{}"
      ]
     },
     "execution_count": 1,
     "metadata": {},
     "output_type": "execute_result"
    }
   ],
   "source": [
    "from utils.article_chunks_v2 import gen_chunks_v2\n",
    "data_dir = \"data\"\n",
    "chunks_path = \"outputs_pipeline/article1_chunks02.json\"\n",
    "input_file=\"selected_papers.txt\"\n",
    "gen_chunks_v2(data_dir, chunks_path, input_file, start_idx=0, end_idx=100)"
   ]
  },
  {
   "cell_type": "code",
   "execution_count": 2,
   "id": "36928a02",
   "metadata": {},
   "outputs": [
    {
     "name": "stdout",
     "output_type": "stream",
     "text": [
      "resource module not available on Windows\n",
      "Chunk4 saved to outputs_pipeline/article2_chunk4_02.json\n",
      "done 一种被动矩阵OLED的混合控制驱动方法(英文)_唐智杰_llm_correct.md chunk4.\n",
      "Chunk4 saved to outputs_pipeline/article2_chunk4_02.json\n",
      "done 内藏液晶显示控制器T6963C与DSP的接口应用_何轩_llm_correct.md chunk4.\n",
      "Chunk4 saved to outputs_pipeline/article2_chunk4_02.json\n",
      "done 一种集成于I_O的段码式LCD驱动IP核设计_陈洁_llm_correct.md chunk4.\n",
      "Chunk4 saved to outputs_pipeline/article2_chunk4_02.json\n",
      "done 基于51单片机的TFT液晶显示设计分析_李梦_llm_correct.md chunk4.\n",
      "Chunk4 saved to outputs_pipeline/article2_chunk4_02.json\n",
      "done 基于PXA310和WINCE的LCD驱动移植开发_敬铅_llm_correct.md chunk4.\n",
      "Chunk4 saved to outputs_pipeline/article2_chunk4_02.json\n",
      "done 一种非规则TFT-LCD的...及其时序控制的FPGA实现_程松华_llm_correct.md chunk4.\n",
      "Chunk4 saved to outputs_pipeline/article2_chunk4_02.json\n",
      "done 一种抑制AMOLED显示中电流震荡的新型GOA电路研究-张留旗_llm_correct.md chunk4.\n",
      "Chunk4 saved to outputs_pipeline/article2_chunk4_02.json\n",
      "done Micro-LED显示及驱动IC技术_张丽_llm_correct.md chunk4.\n",
      "Chunk4 saved to outputs_pipeline/article2_chunk4_02.json\n",
      "done 基于S3C2410的TFT-LCD驱动电路设计_刘立涛_llm_correct.md chunk4.\n",
      "Chunk4 saved to outputs_pipeline/article2_chunk4_02.json\n",
      "done 一种TFT_LCD数字源驱动芯片的设计_张媛_llm_correct.md chunk4.\n",
      "Chunk4 saved to outputs_pipeline/article2_chunk4_02.json\n",
      "done 基于OLED的图形发生器信号主机硬件设计与研究_甘霞_llm_correct.md chunk4.\n",
      "Chunk4 saved to outputs_pipeline/article2_chunk4_02.json\n",
      "done 一种应用于OLED显示驱动芯片的负压型电荷泵设计_庞遵林_llm_correct.md chunk4.\n",
      "Chunk4 saved to outputs_pipeline/article2_chunk4_02.json\n",
      "done 低功耗硅基OLED微显示器的区域梯度调光策略_季渊_llm_correct.md chunk4.\n",
      "Chunk4 saved to outputs_pipeline/article2_chunk4_02.json\n",
      "done OLED微显示器驱动控制电路研究_陈建军_llm_correct.md chunk4.\n",
      "Chunk4 saved to outputs_pipeline/article2_chunk4_02.json\n",
      "done AMOLED像素电路的设计与仿真研究_沈匿_llm_correct.md chunk4.\n",
      "Chunk4 saved to outputs_pipeline/article2_chunk4_02.json\n",
      "done 应用于AMOLED源极驱动...DAC功能的输出缓冲器设计_孙蕊_llm_correct.md chunk4.\n",
      "Chunk4 saved to outputs_pipeline/article2_chunk4_02.json\n",
      "done 基于FPGA显示屏控制驱动系统设计_李权_llm_correct.md chunk4.\n",
      "Chunk4 saved to outputs_pipeline/article2_chunk4_02.json\n",
      "done 基于labVIEW的AM-OLED显示屏测试系统_马雪雪_llm_correct.md chunk4.\n",
      "Chunk4 saved to outputs_pipeline/article2_chunk4_02.json\n",
      "done 一种使用LTPS_TFT的新型DC-DC转换器_Shin-HungYeh_llm_correct.md chunk4.\n",
      "Chunk4 saved to outputs_pipeline/article2_chunk4_02.json\n",
      "done 3英寸黑白a-siTFT-LCD驱动系统_孙明峰_llm_correct.md chunk4.\n",
      "Chunk4 saved to outputs_pipeline/article2_chunk4_02.json\n",
      "done TFT-LCD驱动芯片内置电源电路IP核设计_魏廷存_llm_correct.md chunk4.\n",
      "Chunk4 saved to outputs_pipeline/article2_chunk4_02.json\n",
      "done 德州仪器面向OLED与白光...用推出双通道输出升压转换器_llm_correct.md chunk4.\n",
      "Chunk4 saved to outputs_pipeline/article2_chunk4_02.json\n",
      "done 基于LM3S1138的OLED寿命检测仪_党宏社_llm_correct.md chunk4.\n",
      "Chunk4 saved to outputs_pipeline/article2_chunk4_02.json\n",
      "done SED1330液晶显示控制器原理及应用_赵伟群_llm_correct.md chunk4.\n",
      "Chunk4 saved to outputs_pipeline/article2_chunk4_02.json\n",
      "done PMP_LCD驱动电路设计_马涛_llm_correct.md chunk4.\n",
      "Chunk4 saved to outputs_pipeline/article2_chunk4_02.json\n",
      "done 基于USB和OLED的分布式多屏电子公告系统设计_曹双贵_llm_correct.md chunk4.\n",
      "Chunk4 saved to outputs_pipeline/article2_chunk4_02.json\n",
      "done 基于TPS65105的TFT-LCD电源设计_于春涛_llm_correct.md chunk4.\n",
      "Chunk4 saved to outputs_pipeline/article2_chunk4_02.json\n",
      "done TFT-LCD驱动芯片内置SRAM的低功耗设计_程艳_llm_correct.md chunk4.\n",
      "Chunk4 saved to outputs_pipeline/article2_chunk4_02.json\n",
      "done TFT_LCD驱动芯片GA...CE静电保护电路设计与实现_唐建东_llm_correct.md chunk4.\n",
      "Chunk4 saved to outputs_pipeline/article2_chunk4_02.json\n",
      "done Dual-Gate_TFT...D抖动算法FRC研究与实现_齐郾琴_llm_correct.md chunk4.\n",
      "Chunk4 saved to outputs_pipeline/article2_chunk4_02.json\n",
      "done LCD驱动中调制算法的应用与实现研究_刘翼_llm_correct.md chunk4.\n",
      "Chunk4 saved to outputs_pipeline/article2_chunk4_02.json\n",
      "done 基于IGZO的5.5_in...cell触控FFS面板设计_王鸣昕_llm_correct.md chunk4.\n",
      "Chunk4 saved to outputs_pipeline/article2_chunk4_02.json\n",
      "done TFT液晶显示屏驱动器技术发展趋势_林咏_llm_correct.md chunk4.\n",
      "Chunk4 saved to outputs_pipeline/article2_chunk4_02.json\n",
      "done 一种基于ARM9的彩色TFT-LCD模块设计及实现_马舜峰_llm_correct.md chunk4.\n",
      "Chunk4 saved to outputs_pipeline/article2_chunk4_02.json\n",
      "done 基于ARM_Cortex_...核TFT触摸屏无线遥控设计_李金赐_llm_correct.md chunk4.\n",
      "Chunk4 saved to outputs_pipeline/article2_chunk4_02.json\n",
      "done TFT-LCD驱动芯片内置电源电路IP核设计_刘岩_llm_correct.md chunk4.\n",
      "Chunk4 saved to outputs_pipeline/article2_chunk4_02.json\n",
      "done TFT液晶显示驱动电路与电源优化设计方法_高潮_llm_correct.md chunk4.\n",
      "Chunk4 saved to outputs_pipeline/article2_chunk4_02.json\n",
      "done OCB液晶显示的动态驱动特性_蒋昌伟_llm_correct.md chunk4.\n",
      "Chunk4 saved to outputs_pipeline/article2_chunk4_02.json\n",
      "done 一种1024级灰度大电容负载的LCD驱动芯片设计_尹东辉_llm_correct.md chunk4.\n",
      "Chunk4 saved to outputs_pipeline/article2_chunk4_02.json\n",
      "done 640×480像素矩阵OL...ilicon微显示芯片设计_陆超_llm_correct.md chunk4.\n",
      "Chunk4 saved to outputs_pipeline/article2_chunk4_02.json\n",
      "done 基于STM32的FSMC接口驱动TFT彩屏设计_汤莉莉_llm_correct.md chunk4.\n",
      "Chunk4 saved to outputs_pipeline/article2_chunk4_02.json\n",
      "done 基于ARM处理器S3C2440的VGA显示技术_方鹏_llm_correct.md chunk4.\n",
      "Chunk4 saved to outputs_pipeline/article2_chunk4_02.json\n",
      "done 基于ARM9的液晶显示驱动实验设计_漆强_llm_correct.md chunk4.\n",
      "Chunk4 saved to outputs_pipeline/article2_chunk4_02.json\n",
      "done 基于FPGA的TFT-LCD控制器IP核设计_蔡肯_llm_correct.md chunk4.\n",
      "Chunk4 saved to outputs_pipeline/article2_chunk4_02.json\n",
      "done 一种基于单片机的OLED驱动控制电路的设计_赵展_llm_correct.md chunk4.\n",
      "Chunk4 saved to outputs_pipeline/article2_chunk4_02.json\n",
      "done AM-OLED驱动控制芯片中电荷泵的设计_周静_llm_correct.md chunk4.\n",
      "Chunk4 saved to outputs_pipeline/article2_chunk4_02.json\n",
      "done 基于单片机的OLED显示终端设计分析与研究_杨欣_llm_correct.md chunk4.\n",
      "Chunk4 saved to outputs_pipeline/article2_chunk4_02.json\n",
      "done 一种结构简单的IGZO_T..._AMOLED像素补偿电路_王兰兰_llm_correct.md chunk4.\n",
      "Chunk4 saved to outputs_pipeline/article2_chunk4_02.json\n",
      "done 平板显示器驱动电路_狄亮_llm_correct.md chunk4.\n",
      "Chunk4 saved to outputs_pipeline/article2_chunk4_02.json\n",
      "done 有机发光二极管中ADN掺杂....54μm电致发光(英文)_屈海京_llm_correct.md chunk4.\n",
      "Chunk4 saved to outputs_pipeline/article2_chunk4_02.json\n",
      "done 一种新型结构的黄光有机电致发光器件_马晨_llm_correct.md chunk4.\n",
      "Chunk4 saved to outputs_pipeline/article2_chunk4_02.json\n",
      "done 有机电致发光器件(OLED)的制备方法和工艺_杨辉_llm_correct.md chunk4.\n",
      "Chunk4 saved to outputs_pipeline/article2_chunk4_02.json\n",
      "done 有机发光晶体管的关键材料和器件研究_高海阔_llm_correct.md chunk4.\n",
      "Chunk4 saved to outputs_pipeline/article2_chunk4_02.json\n",
      "done 掺杂荧光染料的高亮度有机蓝光电致发光器件_丁桂英_llm_correct.md chunk4.\n",
      "Chunk4 saved to outputs_pipeline/article2_chunk4_02.json\n",
      "done 有机发光器件光输出效率分析_徐艳梅_llm_correct.md chunk4.\n",
      "Chunk4 saved to outputs_pipeline/article2_chunk4_02.json\n",
      "done 应用于OLED的铱类有机电致磷光材料_万国君_llm_correct.md chunk4.\n",
      "Chunk4 saved to outputs_pipeline/article2_chunk4_02.json\n",
      "done Alq_3光学特性研究的综合实验设计_杨凤_llm_correct.md chunk4.\n",
      "Chunk4 saved to outputs_pipeline/article2_chunk4_02.json\n",
      "done 有机电致发光器件薄层掺杂对复合区位置的影响_彭应全_llm_correct.md chunk4.\n",
      "Chunk4 saved to outputs_pipeline/article2_chunk4_02.json\n",
      "done MOCVD法制备的p-Zn...异质结器件及其电致发光性能_史志锋_llm_correct.md chunk4.\n",
      "Chunk4 saved to outputs_pipeline/article2_chunk4_02.json\n",
      "done 有机发光二极管显示屏的喷墨打印研究与展望_刘欣_llm_correct.md chunk4.\n",
      "Chunk4 saved to outputs_pipeline/article2_chunk4_02.json\n",
      "done 有机发光材料与器件研究进展_段炼_llm_correct.md chunk4.\n",
      "Chunk4 saved to outputs_pipeline/article2_chunk4_02.json\n",
      "done 有机发光器件中非对称金属微腔的光学特性_吴鹏_llm_correct.md chunk4.\n",
      "Chunk4 saved to outputs_pipeline/article2_chunk4_02.json\n",
      "done 有机发光二极管诱人的应用前景·OLED显示技术之三·_朱旭明_llm_correct.md chunk4.\n",
      "Chunk4 saved to outputs_pipeline/article2_chunk4_02.json\n",
      "done 平面涂层的白光LED封装技术_万远涛_llm_correct.md chunk4.\n",
      "Chunk4 saved to outputs_pipeline/article2_chunk4_02.json\n",
      "done 新型有机发光二极管器件的研究进展_徐汀_llm_correct.md chunk4.\n",
      "Chunk4 saved to outputs_pipeline/article2_chunk4_02.json\n",
      "done 有机高分子电致发光显示器件的研制_赵博选_llm_correct.md chunk4.\n",
      "Chunk4 saved to outputs_pipeline/article2_chunk4_02.json\n",
      "done 有机电致发光器件封装技术的研究进展_王宏智_llm_correct.md chunk4.\n",
      "Chunk4 saved to outputs_pipeline/article2_chunk4_02.json\n",
      "done 有机发光材料领域专利分析与中国企业的应对策略_狄延鑫_llm_correct.md chunk4.\n",
      "Chunk4 saved to outputs_pipeline/article2_chunk4_02.json\n",
      "done 咔唑及其衍生物在蓝光OLED中的应用_苏玉苗_llm_correct.md chunk4.\n",
      "Chunk4 saved to outputs_pipeline/article2_chunk4_02.json\n",
      "done 新型双空穴注入型高效有机电致发光二极管_丁磊_llm_correct.md chunk4.\n",
      "Chunk4 saved to outputs_pipeline/article2_chunk4_02.json\n",
      "done 有机发光二极管空穴传输层探究_王志奇_llm_correct.md chunk4.\n",
      "Chunk4 saved to outputs_pipeline/article2_chunk4_02.json\n",
      "done 基于Cs_2CO_3_Al结构的蓝光OLED器件_张静_llm_correct.md chunk4.\n",
      "Chunk4 saved to outputs_pipeline/article2_chunk4_02.json\n",
      "done 一种计算有机发光二极管体电势的方法_许雪梅_llm_correct.md chunk4.\n",
      "Chunk4 saved to outputs_pipeline/article2_chunk4_02.json\n",
      "done 利用原子层沉积技术实现有机电致发光器件的薄膜封装_刘春艳_llm_correct.md chunk4.\n",
      "Chunk4 saved to outputs_pipeline/article2_chunk4_02.json\n",
      "done 功能层界面制备方法对OLED性能的影响_牟强_llm_correct.md chunk4.\n",
      "Chunk4 saved to outputs_pipeline/article2_chunk4_02.json\n",
      "done 小分子OLED器件的制作_盖鑫玮_llm_correct.md chunk4.\n",
      "Chunk4 saved to outputs_pipeline/article2_chunk4_02.json\n",
      "done 基于连续性掺杂的高效全荧光白色有机电致发光器件的研究_吴清洋_llm_correct.md chunk4.\n",
      "Chunk4 saved to outputs_pipeline/article2_chunk4_02.json\n",
      "done 复合布拉格反射镜高亮度AlGaInP发光二极管_于晓东_llm_correct.md chunk4.\n",
      "Chunk4 saved to outputs_pipeline/article2_chunk4_02.json\n",
      "done 基于MAM的白光OLED恒定应力加速寿命试验研究_张建平_llm_correct.md chunk4.\n",
      "Chunk4 saved to outputs_pipeline/article2_chunk4_02.json\n",
      "done 以聚乙烯亚胺作为电子注入层的有机-无机复合发光器件_雷勇_llm_correct.md chunk4.\n",
      "Chunk4 saved to outputs_pipeline/article2_chunk4_02.json\n",
      "done 含有芘基团的电致发光材料的研究进展_薛震_llm_correct.md chunk4.\n",
      "Chunk4 saved to outputs_pipeline/article2_chunk4_02.json\n",
      "done 有机、无机复合膜在电致发光器件中的应用_刘红君_llm_correct.md chunk4.\n",
      "Chunk4 saved to outputs_pipeline/article2_chunk4_02.json\n",
      "done 发光与发光器件_llm_correct.md chunk4.\n",
      "Chunk4 saved to outputs_pipeline/article2_chunk4_02.json\n",
      "done 一种有机发光二极管的电路仿真宏模型_王颖_llm_correct.md chunk4.\n",
      "Chunk4 saved to outputs_pipeline/article2_chunk4_02.json\n",
      "done 共轭聚合物电致发光材料专利技术综述_项睿_llm_correct.md chunk4.\n",
      "Chunk4 saved to outputs_pipeline/article2_chunk4_02.json\n",
      "done 基于激基复合物主体的高效T...磷光杂化白光有机发光二极管_张渊博_llm_correct.md chunk4.\n",
      "Chunk4 saved to outputs_pipeline/article2_chunk4_02.json\n",
      "done 柔性有机电致发光器件的研究进展_文尚胜_llm_correct.md chunk4.\n",
      "Chunk4 saved to outputs_pipeline/article2_chunk4_02.json\n",
      "done 应用于OLED的铱类有机电致磷光材料分析_陈倩倩_llm_correct.md chunk4.\n",
      "Chunk4 saved to outputs_pipeline/article2_chunk4_02.json\n",
      "done 基于闭环二苯醚与磷氧基团的...磷光有机发光二极管中的应用_袁晓冬_llm_correct.md chunk4.\n",
      "Chunk4 saved to outputs_pipeline/article2_chunk4_02.json\n",
      "done 北京大学化学学院黄春辉课题...蓝光OLED研究中取得突破_llm_correct.md chunk4.\n",
      "Chunk4 saved to outputs_pipeline/article2_chunk4_02.json\n",
      "done 掺杂Cu_2O纳米粒子的近...相液晶显示器件的电-光特性_刘发顺_llm_correct.md chunk4.\n",
      "Chunk4 saved to outputs_pipeline/article2_chunk4_02.json\n",
      "done 有机发光器件(OLED)中的界面研究_许并社_llm_correct.md chunk4.\n",
      "Chunk4 saved to outputs_pipeline/article2_chunk4_02.json\n",
      "done 新型半导体光电子器件的发展动向_方忠_llm_correct.md chunk4.\n",
      "Chunk4 saved to outputs_pipeline/article2_chunk4_02.json\n",
      "done 导电聚合物有序超薄膜的合成...有机电致发光器件空穴注入层_徐建华_llm_correct.md chunk4.\n",
      "Chunk4 saved to outputs_pipeline/article2_chunk4_02.json\n",
      "done 固态发光器件前景光明_李卓_llm_correct.md chunk4.\n",
      "Chunk4 saved to outputs_pipeline/article2_chunk4_02.json\n",
      "done 基于Alq_3掺杂Bphe...电子传输层的有机发光二极管_袁桃利_llm_correct.md chunk4.\n",
      "Chunk4 saved to outputs_pipeline/article2_chunk4_02.json\n",
      "done 有机发光二极管老化机制_牛泉_llm_correct.md chunk4.\n",
      "Chunk4 saved to outputs_pipeline/article2_chunk4_02.json\n",
      "done 双量子阱OLED正负磁电阻的调控_常喜_llm_correct.md chunk4.\n",
      "Chunk4 saved to outputs_pipeline/article2_chunk4_02.json\n",
      "done 有机自旋光电子学的基本过程_何磊_llm_correct.md chunk4.\n",
      "Chunk4 saved to outputs_pipeline/article2_chunk4_02.json\n",
      "done Se掺杂制备电致发光器件的研究_周婷_llm_correct.md chunk4.\n"
     ]
    }
   ],
   "source": [
    "from utils.topic_concepts_v2 import trans_chunk4\n",
    "chunks_path = \"outputs_pipeline/article1_chunks02.json\"\n",
    "chunk4_path = \"outputs_pipeline/article2_chunk4_02.json\" \n",
    "trans_chunk4(chunks_path, chunk4_path)"
   ]
  },
  {
   "cell_type": "code",
   "execution_count": 3,
   "id": "c0ba31cc",
   "metadata": {},
   "outputs": [
    {
     "name": "stdout",
     "output_type": "stream",
     "text": [
      "转换完成，结果已保存到 outputs_pipeline/request1_topic_02.jsonl\n"
     ]
    }
   ],
   "source": [
    "# 得到 gen_topic 任务的请求文件jsonl\n",
    "from utils.topic_concepts_v2 import chunk4_to_jsonl\n",
    "# 输入文件路径（假设是包含chunk4数据的JSON文件）\n",
    "input_chunk4_path = \"outputs_pipeline/article2_chunk4_02.json\" \n",
    "# 输出文件路径\n",
    "output_request_path = \"outputs_pipeline/request1_topic_02.jsonl\"\n",
    "# 执行转换\n",
    "chunk4_to_jsonl(input_chunk4_path, output_request_path)\n",
    "# 剩下的任务在 火山平台 桶列表 和 批量推理列表中完成，并取到推理结果文件"
   ]
  },
  {
   "cell_type": "code",
   "execution_count": 4,
   "id": "b5450661",
   "metadata": {},
   "outputs": [
    {
     "name": "stderr",
     "output_type": "stream",
     "text": [
      "Processing responses: 100%|██████████| 424/424 [00:00<00:00, 211914.31it/s]"
     ]
    },
    {
     "name": "stdout",
     "output_type": "stream",
     "text": [
      "处理完成，结果已保存到 outputs_pipeline/article3_topics02.json\n"
     ]
    },
    {
     "name": "stderr",
     "output_type": "stream",
     "text": [
      "\n"
     ]
    }
   ],
   "source": [
    "# 根据 gen_topic 请求任务 获取 topic_path 结果文件\n",
    "from utils.topic_concepts_v2 import process_response_file\n",
    "# 响应结果文件路径（jsonl格式）\n",
    "response_file_path = \"outputs_pipeline/response1_topic_02.jsonl\"\n",
    "# 原始chunk4数据文件路径\n",
    "chunk4_file_path = \"outputs_pipeline/article2_chunk4_02.json\" \n",
    "# 结果保存路径\n",
    "topics_output_path = \"outputs_pipeline/article3_topics02.json\" \n",
    "# 执行处理\n",
    "process_response_file(response_file_path, chunk4_file_path, topics_output_path)"
   ]
  },
  {
   "cell_type": "code",
   "execution_count": 5,
   "id": "d0fddbb7",
   "metadata": {},
   "outputs": [
    {
     "name": "stderr",
     "output_type": "stream",
     "text": [
      "Processing 新型有机发光二极管器件的研究进展_徐汀_llm_correct.md: 100%|██████████| 10/10 [00:00<00:00, 3333.84it/s]\n",
      "Processing AMOLED像素电路的设计与仿真研究_沈匿_llm_correct.md: 100%|██████████| 6/6 [00:00<00:00, 6003.30it/s]\n",
      "Processing 有机发光二极管空穴传输层探究_王志奇_llm_correct.md: 100%|██████████| 3/3 [00:00<00:00, 3011.71it/s]\n",
      "Processing 有机电致发光器件(OLED)的制备方法和工艺_杨辉_llm_correct.md: 100%|██████████| 9/9 [00:00<00:00, 9030.80it/s]\n",
      "Processing 有机自旋光电子学的基本过程_何磊_llm_correct.md: 100%|██████████| 14/14 [00:00<00:00, 932.22it/s]\n",
      "Processing 基于激基复合物主体的高效T...磷光杂化白光有机发光二极管_张渊博_llm_correct.md: 100%|██████████| 9/9 [00:00<00:00, 4505.70it/s]\n",
      "Processing 应用于AMOLED源极驱动...DAC功能的输出缓冲器设计_孙蕊_llm_correct.md: 100%|██████████| 7/7 [00:00<00:00, 7007.19it/s]\n",
      "Processing TFT液晶显示驱动电路与电源优化设计方法_高潮_llm_correct.md: 100%|██████████| 3/3 [00:00<?, ?it/s]\n",
      "Processing 双量子阱OLED正负磁电阻的调控_常喜_llm_correct.md: 100%|██████████| 6/6 [00:00<00:00, 5999.00it/s]\n",
      "Processing 有机发光器件(OLED)中的界面研究_许并社_llm_correct.md: 100%|██████████| 8/8 [00:00<00:00, 8000.58it/s]\n",
      "Processing 有机发光器件中非对称金属微腔的光学特性_吴鹏_llm_correct.md: 100%|██████████| 6/6 [00:00<00:00, 5997.57it/s]\n",
      "Processing 有机发光二极管老化机制_牛泉_llm_correct.md: 100%|██████████| 11/11 [00:00<00:00, 5497.12it/s]\n",
      "Processing 有机发光二极管中ADN掺杂....54μm电致发光(英文)_屈海京_llm_correct.md: 100%|██████████| 6/6 [00:00<00:00, 6027.74it/s]\n",
      "Processing 基于STM32的FSMC接口驱动TFT彩屏设计_汤莉莉_llm_correct.md: 100%|██████████| 4/4 [00:00<00:00, 266.67it/s]\n",
      "Processing 一种被动矩阵OLED的混合控制驱动方法(英文)_唐智杰_llm_correct.md: 100%|██████████| 5/5 [00:00<?, ?it/s]\n",
      "Processing TFT-LCD驱动芯片内置电源电路IP核设计_刘岩_llm_correct.md: 100%|██████████| 1/1 [00:00<00:00, 998.17it/s]\n",
      "Processing TFT液晶显示屏驱动器技术发展趋势_林咏_llm_correct.md: 100%|██████████| 2/2 [00:00<00:00, 1996.81it/s]\n",
      "Processing 咔唑及其衍生物在蓝光OLED中的应用_苏玉苗_llm_correct.md: 100%|██████████| 11/11 [00:00<00:00, 11003.42it/s]\n",
      "Processing 新型半导体光电子器件的发展动向_方忠_llm_correct.md: 100%|██████████| 1/1 [00:00<00:00, 1002.22it/s]\n",
      "Processing 基于labVIEW的AM-OLED显示屏测试系统_马雪雪_llm_correct.md: 100%|██████████| 5/5 [00:00<00:00, 5002.75it/s]\n",
      "Processing 基于PXA310和WINCE的LCD驱动移植开发_敬铅_llm_correct.md: 100%|██████████| 3/3 [00:00<00:00, 3002.37it/s]\n",
      "Processing 一种基于ARM9的彩色TFT-LCD模块设计及实现_马舜峰_llm_correct.md: 100%|██████████| 5/5 [00:00<00:00, 5006.33it/s]\n",
      "Processing 基于ARM9的液晶显示驱动实验设计_漆强_llm_correct.md: 100%|██████████| 2/2 [00:00<00:00, 2002.05it/s]\n",
      "Processing 固态发光器件前景光明_李卓_llm_correct.md: 100%|██████████| 3/3 [00:00<00:00, 2998.79it/s]\n",
      "Processing 一种使用LTPS_TFT的新型DC-DC转换器_Shin-HungYeh_llm_correct.md: 100%|██████████| 2/2 [00:00<?, ?it/s]\n",
      "Processing 有机发光晶体管的关键材料和器件研究_高海阔_llm_correct.md: 100%|██████████| 11/11 [00:00<00:00, 5501.05it/s]\n",
      "Processing 一种结构简单的IGZO_T..._AMOLED像素补偿电路_王兰兰_llm_correct.md: 100%|██████████| 7/7 [00:00<00:00, 3496.09it/s]\n",
      "Processing 有机发光材料与器件研究进展_段炼_llm_correct.md: 100%|██████████| 12/12 [00:00<00:00, 10313.86it/s]\n",
      "Processing 一种1024级灰度大电容负载的LCD驱动芯片设计_尹东辉_llm_correct.md: 100%|██████████| 4/4 [00:00<?, ?it/s]\n",
      "Processing 利用原子层沉积技术实现有机电致发光器件的薄膜封装_刘春艳_llm_correct.md: 100%|██████████| 13/13 [00:00<00:00, 6493.50it/s]\n",
      "Processing MOCVD法制备的p-Zn...异质结器件及其电致发光性能_史志锋_llm_correct.md: 100%|██████████| 5/5 [00:00<?, ?it/s]\n",
      "Processing 掺杂荧光染料的高亮度有机蓝光电致发光器件_丁桂英_llm_correct.md: 100%|██████████| 3/3 [00:00<?, ?it/s]\n",
      "Processing 有机发光材料领域专利分析与中国企业的应对策略_狄延鑫_llm_correct.md: 100%|██████████| 3/3 [00:00<00:00, 3000.93it/s]\n",
      "Processing 基于闭环二苯醚与磷氧基团的...磷光有机发光二极管中的应用_袁晓冬_llm_correct.md: 100%|██████████| 6/6 [00:00<00:00, 6009.03it/s]\n",
      "Processing 基于MAM的白光OLED恒定应力加速寿命试验研究_张建平_llm_correct.md: 100%|██████████| 4/4 [00:00<00:00, 3998.38it/s]\n",
      "Processing 新型双空穴注入型高效有机电致发光二极管_丁磊_llm_correct.md: 100%|██████████| 5/5 [00:00<00:00, 4989.66it/s]\n",
      "Processing 有机电致发光器件封装技术的研究进展_王宏智_llm_correct.md: 100%|██████████| 4/4 [00:00<00:00, 3998.38it/s]\n",
      "Processing 基于单片机的OLED显示终端设计分析与研究_杨欣_llm_correct.md: 100%|██████████| 1/1 [00:00<?, ?it/s]\n",
      "Processing 基于IGZO的5.5_in...cell触控FFS面板设计_王鸣昕_llm_correct.md: 100%|██████████| 5/5 [00:00<00:00, 5000.36it/s]\n",
      "Processing 一种有机发光二极管的电路仿真宏模型_王颖_llm_correct.md: 100%|██████████| 2/2 [00:00<00:00, 1965.01it/s]\n",
      "Processing 一种非规则TFT-LCD的...及其时序控制的FPGA实现_程松华_llm_correct.md: 100%|██████████| 3/3 [00:00<00:00, 2999.50it/s]\n",
      "Processing 基于Alq_3掺杂Bphe...电子传输层的有机发光二极管_袁桃利_llm_correct.md: 100%|██████████| 7/7 [00:00<00:00, 6992.17it/s]\n",
      "Processing OCB液晶显示的动态驱动特性_蒋昌伟_llm_correct.md: 100%|██████████| 3/3 [00:00<00:00, 3002.37it/s]\n",
      "Processing 有机发光二极管显示屏的喷墨打印研究与展望_刘欣_llm_correct.md: 100%|██████████| 10/10 [00:00<00:00, 4997.98it/s]\n",
      "Processing 基于连续性掺杂的高效全荧光白色有机电致发光器件的研究_吴清洋_llm_correct.md: 100%|██████████| 5/5 [00:00<00:00, 4999.17it/s]\n",
      "Processing 应用于OLED的铱类有机电致磷光材料分析_陈倩倩_llm_correct.md: 100%|██████████| 1/1 [00:00<?, ?it/s]\n",
      "Processing 一种TFT_LCD数字源驱动芯片的设计_张媛_llm_correct.md: 100%|██████████| 3/3 [00:00<00:00, 2994.51it/s]\n",
      "Processing 平面涂层的白光LED封装技术_万远涛_llm_correct.md: 100%|██████████| 5/5 [00:00<00:00, 5002.75it/s]\n",
      "Processing 掺杂Cu_2O纳米粒子的近...相液晶显示器件的电-光特性_刘发顺_llm_correct.md: 100%|██████████| 4/4 [00:00<00:00, 4002.20it/s]\n",
      "Processing 有机电致发光器件薄层掺杂对复合区位置的影响_彭应全_llm_correct.md: 100%|██████████| 4/4 [00:00<00:00, 1999.19it/s]\n",
      "Processing 有机发光器件光输出效率分析_徐艳梅_llm_correct.md: 100%|██████████| 4/4 [00:00<00:00, 3990.77it/s]\n",
      "Processing 柔性有机电致发光器件的研究进展_文尚胜_llm_correct.md: 100%|██████████| 7/7 [00:00<00:00, 5944.55it/s]\n",
      "Processing 含有芘基团的电致发光材料的研究进展_薛震_llm_correct.md: 100%|██████████| 3/3 [00:00<00:00, 2990.95it/s]\n",
      "Processing 复合布拉格反射镜高亮度AlGaInP发光二极管_于晓东_llm_correct.md: 100%|██████████| 4/4 [00:00<00:00, 4002.20it/s]\n",
      "Processing 基于Cs_2CO_3_Al结构的蓝光OLED器件_张静_llm_correct.md: 100%|██████████| 4/4 [00:00<00:00, 3996.48it/s]\n",
      "Processing 基于ARM处理器S3C2440的VGA显示技术_方鹏_llm_correct.md: 100%|██████████| 4/4 [00:00<00:00, 2000.38it/s]\n",
      "Processing Alq_3光学特性研究的综合实验设计_杨凤_llm_correct.md: 100%|██████████| 6/6 [00:00<00:00, 2994.51it/s]\n",
      "Processing Micro-LED显示及驱动IC技术_张丽_llm_correct.md: 100%|██████████| 6/6 [00:00<00:00, 5987.59it/s]\n",
      "Processing 基于USB和OLED的分布式多屏电子公告系统设计_曹双贵_llm_correct.md: 100%|██████████| 2/2 [00:00<00:00, 1999.19it/s]\n",
      "Processing TFT-LCD驱动芯片内置SRAM的低功耗设计_程艳_llm_correct.md: 100%|██████████| 3/3 [00:00<00:00, 3000.22it/s]\n",
      "Processing 一种集成于I_O的段码式LCD驱动IP核设计_陈洁_llm_correct.md: 100%|██████████| 3/3 [00:00<?, ?it/s]\n",
      "Processing 基于S3C2410的TFT-LCD驱动电路设计_刘立涛_llm_correct.md: 100%|██████████| 3/3 [00:00<00:00, 2993.79it/s]\n",
      "Processing TFT-LCD驱动芯片内置电源电路IP核设计_魏廷存_llm_correct.md: 100%|██████████| 6/6 [00:00<00:00, 6001.87it/s]\n",
      "Processing 一种应用于OLED显示驱动芯片的负压型电荷泵设计_庞遵林_llm_correct.md: 100%|██████████| 3/3 [00:00<?, ?it/s]\n",
      "Processing Dual-Gate_TFT...D抖动算法FRC研究与实现_齐郾琴_llm_correct.md: 100%|██████████| 4/4 [00:00<00:00, 3986.03it/s]\n",
      "Processing 导电聚合物有序超薄膜的合成...有机电致发光器件空穴注入层_徐建华_llm_correct.md: 100%|██████████| 5/5 [00:00<00:00, 5001.55it/s]\n",
      "Processing 以聚乙烯亚胺作为电子注入层的有机-无机复合发光器件_雷勇_llm_correct.md: 100%|██████████| 8/8 [00:00<00:00, 8027.38it/s]\n",
      "Processing 基于OLED的图形发生器信号主机硬件设计与研究_甘霞_llm_correct.md: 100%|██████████| 2/2 [00:00<00:00, 1001.03it/s]\n",
      "Processing 功能层界面制备方法对OLED性能的影响_牟强_llm_correct.md: 100%|██████████| 4/4 [00:00<00:00, 3995.53it/s]\n",
      "Processing 一种抑制AMOLED显示中电流震荡的新型GOA电路研究-张留旗_llm_correct.md: 100%|██████████| 3/3 [00:00<?, ?it/s]\n",
      "Processing 基于TPS65105的TFT-LCD电源设计_于春涛_llm_correct.md: 100%|██████████| 2/2 [00:00<00:00, 2001.10it/s]\n",
      "Processing 低功耗硅基OLED微显示器的区域梯度调光策略_季渊_llm_correct.md: 100%|██████████| 8/8 [00:00<00:00, 7991.05it/s]\n",
      "Processing 基于LM3S1138的OLED寿命检测仪_党宏社_llm_correct.md: 100%|██████████| 2/2 [00:00<?, ?it/s]\n",
      "Processing AM-OLED驱动控制芯片中电荷泵的设计_周静_llm_correct.md: 100%|██████████| 4/4 [00:00<00:00, 4000.29it/s]\n",
      "Processing LCD驱动中调制算法的应用与实现研究_刘翼_llm_correct.md: 100%|██████████| 3/3 [00:00<?, ?it/s]\n",
      "Processing OLED微显示器驱动控制电路研究_陈建军_llm_correct.md: 100%|██████████| 3/3 [00:00<00:00, 3005.23it/s]\n",
      "Processing 一种新型结构的黄光有机电致发光器件_马晨_llm_correct.md: 100%|██████████| 4/4 [00:00<?, ?it/s]\n",
      "Processing 内藏液晶显示控制器T6963C与DSP的接口应用_何轩_llm_correct.md: 100%|██████████| 3/3 [00:00<?, ?it/s]\n",
      "Processing 基于ARM_Cortex_...核TFT触摸屏无线遥控设计_李金赐_llm_correct.md: 100%|██████████| 3/3 [00:00<00:00, 2999.50it/s]\n",
      "Processing TFT_LCD驱动芯片GA...CE静电保护电路设计与实现_唐建东_llm_correct.md: 100%|██████████| 2/2 [00:00<00:00, 1997.76it/s]\n",
      "Processing 有机高分子电致发光显示器件的研制_赵博选_llm_correct.md: 100%|██████████| 3/3 [00:00<00:00, 3007.39it/s]\n",
      "Processing 基于FPGA的TFT-LCD控制器IP核设计_蔡肯_llm_correct.md: 100%|██████████| 1/1 [00:00<?, ?it/s]\n",
      "Processing SED1330液晶显示控制器原理及应用_赵伟群_llm_correct.md: 100%|██████████| 3/3 [00:00<00:00, 3002.37it/s]\n",
      "Processing 有机发光二极管诱人的应用前景·OLED显示技术之三·_朱旭明_llm_correct.md: 100%|██████████| 1/1 [00:00<?, ?it/s]\n",
      "Processing 有机、无机复合膜在电致发光器件中的应用_刘红君_llm_correct.md: 100%|██████████| 2/2 [00:00<?, ?it/s]\n",
      "Processing 640×480像素矩阵OL...ilicon微显示芯片设计_陆超_llm_correct.md: 100%|██████████| 4/4 [00:00<?, ?it/s]\n",
      "Processing Se掺杂制备电致发光器件的研究_周婷_llm_correct.md: 100%|██████████| 2/2 [00:00<?, ?it/s]\n",
      "Processing 一种计算有机发光二极管体电势的方法_许雪梅_llm_correct.md: 100%|██████████| 3/3 [00:00<00:00, 3003.08it/s]\n",
      "Processing 一种基于单片机的OLED驱动控制电路的设计_赵展_llm_correct.md: 100%|██████████| 1/1 [00:00<00:00, 998.41it/s]\n",
      "Processing 基于FPGA显示屏控制驱动系统设计_李权_llm_correct.md: 100%|██████████| 2/2 [00:00<?, ?it/s]\n",
      "Processing 发光与发光器件_llm_correct.md: 100%|██████████| 2/2 [00:00<?, ?it/s]\n",
      "Processing 平板显示器驱动电路_狄亮_llm_correct.md: 100%|██████████| 2/2 [00:00<00:00, 1999.67it/s]\n",
      "Processing 小分子OLED器件的制作_盖鑫玮_llm_correct.md: 100%|██████████| 2/2 [00:00<00:00, 2000.62it/s]\n",
      "Processing 基于51单片机的TFT液晶显示设计分析_李梦_llm_correct.md: 100%|██████████| 1/1 [00:00<?, ?it/s]\n",
      "Processing 3英寸黑白a-siTFT-LCD驱动系统_孙明峰_llm_correct.md: 100%|██████████| 1/1 [00:00<00:00, 1000.31it/s]\n",
      "Processing 应用于OLED的铱类有机电致磷光材料_万国君_llm_correct.md: 100%|██████████| 1/1 [00:00<?, ?it/s]\n",
      "Processing PMP_LCD驱动电路设计_马涛_llm_correct.md: 100%|██████████| 1/1 [00:00<?, ?it/s]\n",
      "Processing 共轭聚合物电致发光材料专利技术综述_项睿_llm_correct.md: 100%|██████████| 2/2 [00:00<?, ?it/s]"
     ]
    },
    {
     "name": "stdout",
     "output_type": "stream",
     "text": [
      "成功将 outputs_pipeline/article3_topics02.json 转换为 outputs_pipeline/request2_question_02.jsonl\n"
     ]
    },
    {
     "name": "stderr",
     "output_type": "stream",
     "text": [
      "\n"
     ]
    }
   ],
   "source": [
    "from utils.topic_concepts_v2 import convert_topics_to_jsonl\n",
    "topics_path = \"outputs_pipeline/article3_topics02.json\" \n",
    "question_request_path = \"outputs_pipeline/request2_question_02.jsonl\"\n",
    "convert_topics_to_jsonl(topics_path, question_request_path)"
   ]
  },
  {
   "cell_type": "code",
   "execution_count": 1,
   "id": "88f1c674",
   "metadata": {},
   "outputs": [
    {
     "name": "stdout",
     "output_type": "stream",
     "text": [
      "resource module not available on Windows\n",
      "device: cuda\n"
     ]
    },
    {
     "name": "stderr",
     "output_type": "stream",
     "text": [
      "Processing responses:  47%|████▋     | 198/424 [00:14<00:20, 10.82it/s]"
     ]
    },
    {
     "name": "stdout",
     "output_type": "stream",
     "text": [
      "初始 JSON 解析错误: <string>:7 Unexpected \"1\" at column 59\n",
      "尝试修复常见问题...\n",
      "最终 JSON 解析失败: <string>:7 Unexpected \"1\" at column 59\n",
      "Failed to parse questions for request-144\n",
      "初始 JSON 解析错误: <string>:12 Unexpected \"-\" at column 1\n",
      "尝试修复常见问题...\n",
      "最终 JSON 解析失败: <string>:12 Unexpected \"-\" at column 1\n",
      "Failed to parse questions for request-150\n"
     ]
    },
    {
     "name": "stderr",
     "output_type": "stream",
     "text": [
      "Processing responses: 100%|██████████| 424/424 [00:54<00:00,  7.79it/s]\n"
     ]
    }
   ],
   "source": [
    "from utils.topic_concepts_v2 import process_response_and_save\n",
    "response_path = \"outputs_pipeline/response2_question_02.jsonl\"  # 响应结果文件\n",
    "topics_path = \"outputs_pipeline/article3_topics02.json\"       # 原始topics文件\n",
    "question_path = \"outputs_pipeline/article4_question_with_topic02.json\"    # 输出question文件\n",
    "chunk4_path = \"outputs_pipeline/article2_chunk4_02.json\"             # chunk4路径\n",
    "process_response_and_save(response_path, topics_path, question_path, chunk4_path)"
   ]
  },
  {
   "cell_type": "code",
   "execution_count": 2,
   "id": "d4d7bff3",
   "metadata": {},
   "outputs": [
    {
     "name": "stderr",
     "output_type": "stream",
     "text": [
      "question_ele: 100%|██████████| 8/8 [00:07<00:00,  1.04it/s]\n",
      "question_ele: 100%|██████████| 4/4 [00:03<00:00,  1.28it/s]it]\n",
      "question_ele: 100%|██████████| 4/4 [00:03<00:00,  1.30it/s]it]\n",
      "question_ele: 100%|██████████| 28/28 [00:24<00:00,  1.15it/s]]\n",
      "question_ele: 100%|██████████| 4/4 [00:03<00:00,  1.24it/s]it]\n",
      "question_ele: 100%|██████████| 24/24 [00:18<00:00,  1.32it/s]]\n",
      "question_ele: 100%|██████████| 8/8 [00:06<00:00,  1.20it/s]it]\n",
      "question_ele: 100%|██████████| 10/10 [00:07<00:00,  1.27it/s]]\n",
      "question_ele: 100%|██████████| 6/6 [00:04<00:00,  1.38it/s]it]\n",
      "question_ele: 100%|██████████| 12/12 [00:09<00:00,  1.22it/s]]\n",
      "question_ele: 100%|██████████| 14/14 [00:11<00:00,  1.25it/s]t]\n",
      "question_ele: 100%|██████████| 10/10 [00:07<00:00,  1.30it/s]t]\n",
      "question_ele: 100%|██████████| 4/4 [00:03<00:00,  1.11it/s]/it]\n",
      "question_ele: 100%|██████████| 4/4 [00:03<00:00,  1.33it/s]/it]\n",
      "question_ele: 100%|██████████| 18/18 [00:13<00:00,  1.35it/s]t]\n",
      "question_ele: 100%|██████████| 10/10 [00:07<00:00,  1.36it/s]t]\n",
      "question_ele: 100%|██████████| 6/6 [00:05<00:00,  1.20it/s]/it]\n",
      "question_ele: 100%|██████████| 8/8 [00:06<00:00,  1.29it/s]/it]\n",
      "question_ele: 100%|██████████| 2/2 [00:01<00:00,  1.42it/s]/it]\n",
      "question_ele: 100%|██████████| 2/2 [00:01<00:00,  1.22it/s]/it]\n",
      "question_ele: 100%|██████████| 6/6 [00:05<00:00,  1.13it/s]/it]\n",
      "question_ele: 100%|██████████| 4/4 [00:02<00:00,  1.50it/s]/it]\n",
      "question_ele: 100%|██████████| 26/26 [00:21<00:00,  1.22it/s]t]\n",
      "question_ele: 100%|██████████| 6/6 [00:04<00:00,  1.33it/s]/it]\n",
      "question_ele: 100%|██████████| 6/6 [00:04<00:00,  1.41it/s]/it]\n",
      "question_ele: 100%|██████████| 12/12 [00:09<00:00,  1.28it/s]t]\n",
      "question_ele: 100%|██████████| 4/4 [00:03<00:00,  1.18it/s]/it]\n",
      "question_ele: 100%|██████████| 12/12 [00:08<00:00,  1.47it/s]t]\n",
      "question_ele: 100%|██████████| 8/8 [00:06<00:00,  1.24it/s]/it]\n",
      "question_ele: 100%|██████████| 6/6 [00:05<00:00,  1.11it/s]/it]\n",
      "question_ele: 100%|██████████| 16/16 [00:11<00:00,  1.40it/s]t]\n",
      "question_ele: 100%|██████████| 10/10 [00:07<00:00,  1.28it/s]t]\n",
      "question_ele: 100%|██████████| 8/8 [00:05<00:00,  1.43it/s]/it]\n",
      "question_ele: 100%|██████████| 22/22 [00:16<00:00,  1.32it/s]t]\n",
      "question_ele: 100%|██████████| 8/8 [00:06<00:00,  1.25it/s]/it]\n",
      "question_ele: 100%|██████████| 20/20 [00:14<00:00,  1.36it/s]t]\n",
      "question_ele: 100%|██████████| 10/10 [00:07<00:00,  1.33it/s]t]\n",
      "question_ele: 100%|██████████| 6/6 [00:04<00:00,  1.29it/s]/it]\n",
      "question_ele: 100%|██████████| 6/6 [00:05<00:00,  1.20it/s]/it]\n",
      "question_ele: 100%|██████████| 16/16 [00:12<00:00,  1.32it/s]t]\n",
      "question_ele: 100%|██████████| 14/14 [00:10<00:00,  1.30it/s]t]\n",
      "question_ele: 100%|██████████| 18/18 [00:14<00:00,  1.26it/s]t]\n",
      "question_ele: 100%|██████████| 8/8 [00:06<00:00,  1.24it/s]/it]\n",
      "question_ele: 100%|██████████| 4/4 [00:03<00:00,  1.26it/s]/it]\n",
      "question_ele: 100%|██████████| 16/16 [00:10<00:00,  1.57it/s]t]\n",
      "question_ele: 100%|██████████| 12/12 [00:08<00:00,  1.42it/s]t]\n",
      "question_ele: 100%|██████████| 6/6 [00:04<00:00,  1.23it/s]/it]\n",
      "question_ele: 100%|██████████| 6/6 [00:05<00:00,  1.18it/s]/it]\n",
      "question_ele: 100%|██████████| 14/14 [00:10<00:00,  1.29it/s]t]\n",
      "question_ele: 100%|██████████| 10/10 [00:06<00:00,  1.52it/s]t]\n",
      "question_ele: 100%|██████████| 18/18 [00:13<00:00,  1.38it/s]t]\n",
      "question_ele: 100%|██████████| 6/6 [00:04<00:00,  1.31it/s]/it]\n",
      "question_ele: 100%|██████████| 10/10 [00:08<00:00,  1.20it/s]t]\n",
      "question_ele: 100%|██████████| 20/20 [00:15<00:00,  1.32it/s]t]\n",
      "question_ele: 100%|██████████| 8/8 [00:05<00:00,  1.46it/s]/it]\n",
      "question_ele: 100%|██████████| 12/12 [00:08<00:00,  1.37it/s]t]\n",
      "question_ele: 100%|██████████| 12/12 [00:09<00:00,  1.27it/s]t]\n",
      "question_ele: 100%|██████████| 8/8 [00:06<00:00,  1.21it/s]/it]\n",
      "question_ele: 100%|██████████| 4/4 [00:03<00:00,  1.32it/s]/it]\n",
      "question_ele: 100%|██████████| 8/8 [00:05<00:00,  1.54it/s]/it]\n",
      "question_ele: 100%|██████████| 6/6 [00:04<00:00,  1.21it/s]/it]\n",
      "question_ele: 100%|██████████| 6/6 [00:04<00:00,  1.49it/s]/it]\n",
      "question_ele: 100%|██████████| 6/6 [00:04<00:00,  1.48it/s]/it]\n",
      "question_ele: 100%|██████████| 4/4 [00:02<00:00,  1.36it/s]/it]\n",
      "question_ele: 100%|██████████| 6/6 [00:04<00:00,  1.35it/s]/it]\n",
      "question_ele: 100%|██████████| 6/6 [00:04<00:00,  1.29it/s]/it]\n",
      "question_ele: 100%|██████████| 12/12 [00:09<00:00,  1.31it/s]t]\n",
      "question_ele: 100%|██████████| 12/12 [00:09<00:00,  1.24it/s]t]\n",
      "question_ele: 100%|██████████| 4/4 [00:03<00:00,  1.30it/s]/it]\n",
      "question_ele: 100%|██████████| 8/8 [00:06<00:00,  1.20it/s]/it]\n",
      "question_ele: 100%|██████████| 2/2 [00:01<00:00,  1.37it/s]/it]\n",
      "question_ele: 100%|██████████| 10/10 [00:08<00:00,  1.25it/s]t]\n",
      "question_ele: 100%|██████████| 6/6 [00:05<00:00,  1.20it/s]/it]\n",
      "question_ele: 100%|██████████| 22/22 [00:18<00:00,  1.22it/s]t]\n",
      "question_ele: 100%|██████████| 14/14 [00:11<00:00,  1.24it/s]t]\n",
      "question_ele: 100%|██████████| 2/2 [00:01<00:00,  1.36it/s]/it]\n",
      "question_ele: 100%|██████████| 6/6 [00:04<00:00,  1.29it/s]/it]\n",
      "question_ele: 100%|██████████| 8/8 [00:05<00:00,  1.37it/s]/it]\n",
      "question_ele: 100%|██████████| 4/4 [00:02<00:00,  1.39it/s]/it]\n",
      "question_ele: 100%|██████████| 2/2 [00:01<00:00,  1.21it/s]/it]\n",
      "question_ele: 100%|██████████| 8/8 [00:06<00:00,  1.28it/s]/it]\n",
      "question_ele: 100%|██████████| 6/6 [00:05<00:00,  1.06it/s]/it]\n",
      "question_ele: 100%|██████████| 4/4 [00:03<00:00,  1.15it/s]/it]\n",
      "question_ele: 100%|██████████| 6/6 [00:04<00:00,  1.28it/s]/it]\n",
      "question_ele: 100%|██████████| 6/6 [00:04<00:00,  1.29it/s]/it]\n",
      "question_ele: 100%|██████████| 8/8 [00:06<00:00,  1.18it/s]/it]\n",
      "question_ele: 100%|██████████| 10/10 [00:06<00:00,  1.54it/s]t]\n",
      "question_ele: 100%|██████████| 4/4 [00:03<00:00,  1.22it/s]/it]\n",
      "question_ele: 100%|██████████| 4/4 [00:02<00:00,  1.34it/s]/it]\n",
      "question_ele: 100%|██████████| 4/4 [00:03<00:00,  1.12it/s]/it]\n",
      "question_ele: 100%|██████████| 2/2 [00:01<00:00,  1.75it/s]/it]\n",
      "question_ele: 100%|██████████| 8/8 [00:06<00:00,  1.26it/s]/it]\n",
      "question_ele: 100%|██████████| 6/6 [00:04<00:00,  1.26it/s]/it]\n",
      "question_ele: 100%|██████████| 2/2 [00:01<00:00,  1.31it/s]/it]\n",
      "question_ele: 100%|██████████| 2/2 [00:01<00:00,  1.22it/s]/it]\n",
      "question_ele: 100%|██████████| 2/2 [00:01<00:00,  1.77it/s]/it]\n",
      "question_ele: 100%|██████████| 2/2 [00:01<00:00,  1.14it/s]/it]\n",
      "question_ele: 100%|██████████| 2/2 [00:01<00:00,  1.19it/s]/it]\n",
      "Sorted chunks.: 100%|██████████| 98/98 [10:54<00:00,  6.68s/it]"
     ]
    },
    {
     "name": "stdout",
     "output_type": "stream",
     "text": [
      "转换sorted_chunks成功。\n"
     ]
    },
    {
     "name": "stderr",
     "output_type": "stream",
     "text": [
      "\n"
     ]
    }
   ],
   "source": [
    "from utils.topic_concepts_v2 import sort_noisy_chunks\n",
    "question_path = \"outputs_pipeline/article4_question_with_topic02.json\" \n",
    "sort_noisy_chunks(question_path)"
   ]
  },
  {
   "cell_type": "code",
   "execution_count": 1,
   "id": "f4bd0f7f",
   "metadata": {},
   "outputs": [
    {
     "name": "stdout",
     "output_type": "stream",
     "text": [
      "resource module not available on Windows\n",
      "device: cuda\n",
      "转换完成，结果已保存到 outputs_pipeline/request3_answer02_1.jsonl\n"
     ]
    }
   ],
   "source": [
    "from utils.answer_generation_v2 import convert_to_jsonl\n",
    "# 输入输出路径\n",
    "questions_path = \"outputs_pipeline/article4_question_with_topic02.json\"   # 替换为实际路径\n",
    "answer_request_path = \"outputs_pipeline/request3_answer02_1.jsonl\"\n",
    "# 执行转换\n",
    "convert_to_jsonl(questions_path, answer_request_path)"
   ]
  },
  {
   "cell_type": "code",
   "execution_count": 2,
   "id": "4ae7bfd0",
   "metadata": {},
   "outputs": [
    {
     "ename": "FileNotFoundError",
     "evalue": "[Errno 2] No such file or directory: 'outputs_pipeline/response3_answer02_1.jsonl'",
     "output_type": "error",
     "traceback": [
      "\u001b[1;31m---------------------------------------------------------------------------\u001b[0m",
      "\u001b[1;31mFileNotFoundError\u001b[0m                         Traceback (most recent call last)",
      "Cell \u001b[1;32mIn[2], line 6\u001b[0m\n\u001b[0;32m      4\u001b[0m answers_path \u001b[38;5;241m=\u001b[39m \u001b[38;5;124m\"\u001b[39m\u001b[38;5;124moutputs_pipeline/article5_answers02_1.json\u001b[39m\u001b[38;5;124m\"\u001b[39m   \u001b[38;5;66;03m# 结果保存路径\u001b[39;00m\n\u001b[0;32m      5\u001b[0m \u001b[38;5;66;03m# 执行处理\u001b[39;00m\n\u001b[1;32m----> 6\u001b[0m \u001b[43mprocess_response_file\u001b[49m\u001b[43m(\u001b[49m\u001b[43mresponse_file_path\u001b[49m\u001b[43m,\u001b[49m\u001b[43m \u001b[49m\u001b[43mquestions_path\u001b[49m\u001b[43m,\u001b[49m\u001b[43m \u001b[49m\u001b[43manswers_path\u001b[49m\u001b[43m)\u001b[49m\n",
      "File \u001b[1;32me:\\my_desktop\\code0528\\raft\\utils\\answer_generation_v2.py:372\u001b[0m, in \u001b[0;36mprocess_response_file\u001b[1;34m(response_file_path, questions_path, answers_path)\u001b[0m\n\u001b[0;32m    370\u001b[0m \u001b[38;5;66;03m# 读取响应结果文件\u001b[39;00m\n\u001b[0;32m    371\u001b[0m responses \u001b[38;5;241m=\u001b[39m []\n\u001b[1;32m--> 372\u001b[0m \u001b[38;5;28;01mwith\u001b[39;00m \u001b[38;5;28;43mopen\u001b[39;49m\u001b[43m(\u001b[49m\u001b[43mresponse_file_path\u001b[49m\u001b[43m,\u001b[49m\u001b[43m \u001b[49m\u001b[38;5;124;43m'\u001b[39;49m\u001b[38;5;124;43mr\u001b[39;49m\u001b[38;5;124;43m'\u001b[39;49m\u001b[43m,\u001b[49m\u001b[43m \u001b[49m\u001b[43mencoding\u001b[49m\u001b[38;5;241;43m=\u001b[39;49m\u001b[38;5;124;43m'\u001b[39;49m\u001b[38;5;124;43mutf-8\u001b[39;49m\u001b[38;5;124;43m'\u001b[39;49m\u001b[43m)\u001b[49m \u001b[38;5;28;01mas\u001b[39;00m f:\n\u001b[0;32m    373\u001b[0m     \u001b[38;5;28;01mfor\u001b[39;00m line \u001b[38;5;129;01min\u001b[39;00m f:\n\u001b[0;32m    374\u001b[0m         responses\u001b[38;5;241m.\u001b[39mappend(json\u001b[38;5;241m.\u001b[39mloads(line\u001b[38;5;241m.\u001b[39mstrip()))\n",
      "\u001b[1;31mFileNotFoundError\u001b[0m: [Errno 2] No such file or directory: 'outputs_pipeline/response3_answer02_1.jsonl'"
     ]
    }
   ],
   "source": [
    "from utils.answer_generation_v2 import process_response_file\n",
    "response_file_path = \"outputs_pipeline/response3_answer02_1.jsonl\"  # 响应结果文件\n",
    "questions_path = \"outputs_pipeline/article4_question_with_topic02.json\"  # 原始问题文件\n",
    "answers_path = \"outputs_pipeline/article5_answers02_1.json\"   # 结果保存路径\n",
    "# 执行处理\n",
    "process_response_file(response_file_path, questions_path, answers_path)"
   ]
  },
  {
   "cell_type": "code",
   "execution_count": null,
   "id": "9118f04a",
   "metadata": {},
   "outputs": [],
   "source": [
    "from utils.data_synthesis_v2 import syn_data\n",
    "answers_path = \"outputs_pipeline/article5_answers02_1.json\" \n",
    "syndatas_path = \"outputs_pipeline/syndatas02_1.json\" \n",
    "syn_data(answers_path, syndatas_path)"
   ]
  },
  {
   "cell_type": "code",
   "execution_count": null,
   "id": "5009ed3f",
   "metadata": {},
   "outputs": [],
   "source": [
    "from utils.data_trans import trans_syn2excel\n",
    "syndata_path = \"outputs_pipeline/syndatas02_1.json\" \n",
    "output_path = \"outputs_excel/syndata_eval02_1.xlsx\"\n",
    "trans_syn2excel(syndata_path, output_path)"
   ]
  },
  {
   "cell_type": "code",
   "execution_count": null,
   "id": "e8718411",
   "metadata": {},
   "outputs": [],
   "source": [
    "from utils.data_eval import excel_to_jsonl\n",
    "input_excel_path = \"outputs_excel/syndata_eval02_1.xlsx\" \n",
    "output_jsonl_path = \"outputs_excel/syndata_eval_request02_1_v1.jsonl\"\n",
    "excel_to_jsonl(input_excel_path, output_jsonl_path, prompt_version=\"v1\")"
   ]
  },
  {
   "cell_type": "code",
   "execution_count": null,
   "id": "0e77310e",
   "metadata": {},
   "outputs": [],
   "source": [
    "from utils.data_eval import excel_to_jsonl\n",
    "input_excel_path = \"outputs_excel/syndata_eval02_1.xlsx\" \n",
    "output_jsonl_path = \"outputs_excel/syndata_eval_request02_1_v2.jsonl\"\n",
    "excel_to_jsonl(input_excel_path, output_jsonl_path, prompt_version=\"v2\")"
   ]
  },
  {
   "cell_type": "code",
   "execution_count": null,
   "id": "7eb78570",
   "metadata": {},
   "outputs": [],
   "source": [
    "from utils.data_eval import show_quality\n",
    "jsonl_file = 'outputs_excel/results02_1_v2.jsonl'  # 替换为您的jsonl文件路径\n",
    "show_quality(jsonl_file)"
   ]
  },
  {
   "cell_type": "code",
   "execution_count": null,
   "id": "cf720a85",
   "metadata": {},
   "outputs": [],
   "source": [
    "from utils.data_eval import show_quality\n",
    "jsonl_file = 'outputs_excel/results02_1_v1.jsonl'  # 替换为您的jsonl文件路径\n",
    "show_quality(jsonl_file)"
   ]
  }
 ],
 "metadata": {
  "kernelspec": {
   "display_name": "raft",
   "language": "python",
   "name": "python3"
  },
  "language_info": {
   "codemirror_mode": {
    "name": "ipython",
    "version": 3
   },
   "file_extension": ".py",
   "mimetype": "text/x-python",
   "name": "python",
   "nbconvert_exporter": "python",
   "pygments_lexer": "ipython3",
   "version": "3.10.17"
  }
 },
 "nbformat": 4,
 "nbformat_minor": 5
}
