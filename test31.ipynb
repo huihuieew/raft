{
 "cells": [
  {
   "cell_type": "markdown",
   "id": "913d72bd",
   "metadata": {},
   "source": [
    "# 按照批量生成的方式，依据pipeline重新一遍\n",
    "1. chunks, chunk4, topics, questions, answers, syndatas \n",
    "2. 批量接口，批量topics，批量questions，批量answers\n",
    "3. 串起来所有的流程"
   ]
  },
  {
   "cell_type": "markdown",
   "id": "041a4980",
   "metadata": {},
   "source": [
    "--chunks_path \"outputs_chunks/article_chunks18.json\" --chunk4_path \"outputs_chunk4/article_chunk4_18.json\" --topics_path \"outputs_topics/article_topics18.json\" --questions_path \"outputs_questions/article_question_with_topic18.json\" --answers_path \"outputs_answers/article_answers_18.json\" --syndatas_path \"outputs_syndatas/syndatas18.json\" --start_idx 36 --end_idx 38"
   ]
  },
  {
   "cell_type": "code",
   "execution_count": null,
   "id": "64703e99",
   "metadata": {},
   "outputs": [
    {
     "name": "stdout",
     "output_type": "stream",
     "text": [
      "len(file_names): 3373\n"
     ]
    },
    {
     "name": "stderr",
     "output_type": "stream",
     "text": [
      "Chunking: 100%|██████████| 1/1 [00:00<00:00, 40.88file/s, chunks=34]\n"
     ]
    },
    {
     "name": "stdout",
     "output_type": "stream",
     "text": [
      "Chunks saved to outputs_pipeline/article1_chunks01.json\n"
     ]
    },
    {
     "name": "stderr",
     "output_type": "stream",
     "text": [
      "Chunking: 100%|██████████| 1/1 [00:00<00:00, 499.92file/s, chunks=26]\n"
     ]
    },
    {
     "name": "stdout",
     "output_type": "stream",
     "text": [
      "Chunks saved to outputs_pipeline/article1_chunks01.json\n"
     ]
    },
    {
     "name": "stderr",
     "output_type": "stream",
     "text": [
      "Chunking: 100%|██████████| 1/1 [00:00<00:00, 249.99file/s, chunks=37]\n"
     ]
    },
    {
     "name": "stdout",
     "output_type": "stream",
     "text": [
      "Chunks saved to outputs_pipeline/article1_chunks01.json\n"
     ]
    },
    {
     "name": "stderr",
     "output_type": "stream",
     "text": [
      "Chunking: 100%|██████████| 1/1 [00:00<00:00, 111.12file/s, chunks=24]\n"
     ]
    },
    {
     "name": "stdout",
     "output_type": "stream",
     "text": [
      "Chunks saved to outputs_pipeline/article1_chunks01.json\n"
     ]
    },
    {
     "name": "stderr",
     "output_type": "stream",
     "text": [
      "Chunking: 100%|██████████| 1/1 [00:00<00:00, 250.27file/s, chunks=25]"
     ]
    },
    {
     "name": "stdout",
     "output_type": "stream",
     "text": [
      "Chunks saved to outputs_pipeline/article1_chunks01.json\n",
      "all chunks: 146\n"
     ]
    },
    {
     "name": "stderr",
     "output_type": "stream",
     "text": [
      "\n"
     ]
    },
    {
     "data": {
      "text/plain": [
       "{}"
      ]
     },
     "execution_count": 1,
     "metadata": {},
     "output_type": "execute_result"
    }
   ],
   "source": [
    "from utils.article_chunks_v2 import gen_chunks\n",
    "data_dir = \"data\"\n",
    "chunks_path = \"outputs_pipeline/article1_chunks01.json\"\n",
    "start_idx = 0\n",
    "end_idx = 5\n",
    "gen_chunks(data_dir, chunks_path, start_idx, end_idx)"
   ]
  },
  {
   "cell_type": "code",
   "execution_count": 2,
   "id": "99f0edb1",
   "metadata": {},
   "outputs": [
    {
     "name": "stdout",
     "output_type": "stream",
     "text": [
      "resource module not available on Windows\n"
     ]
    },
    {
     "name": "stderr",
     "output_type": "stream",
     "text": [
      "d:\\Miniconda3\\envs\\raft\\lib\\site-packages\\tqdm\\auto.py:21: TqdmWarning: IProgress not found. Please update jupyter and ipywidgets. See https://ipywidgets.readthedocs.io/en/stable/user_install.html\n",
      "  from .autonotebook import tqdm as notebook_tqdm\n"
     ]
    },
    {
     "name": "stdout",
     "output_type": "stream",
     "text": [
      "Chunk4 saved to outputs_pipeline/article2_chunk4_01.json\n",
      "done 1,8-萘酰亚胺类有机小分子电致发光材料的研究进展_王启_llm_correct.md chunk4.\n",
      "Chunk4 saved to outputs_pipeline/article2_chunk4_01.json\n",
      "done 10万象素a-Si_TFT有源矩阵的优化技术_徐重阳_llm_correct.md chunk4.\n",
      "Chunk4 saved to outputs_pipeline/article2_chunk4_01.json\n",
      "done 10大新显示技术_llm_correct.md chunk4.\n",
      "Chunk4 saved to outputs_pipeline/article2_chunk4_01.json\n",
      "done 12.7cm彩色AM-OLED显示器分场驱动研究_沈亮_llm_correct.md chunk4.\n",
      "Chunk4 saved to outputs_pipeline/article2_chunk4_01.json\n",
      "done 12.7cm彩色AM-OLED显示屏的驱动模块_张繁_llm_correct.md chunk4.\n"
     ]
    }
   ],
   "source": [
    "from utils.topic_concepts_v2 import trans_chunk4\n",
    "chunks_path = \"outputs_pipeline/article1_chunks01.json\"\n",
    "chunk4_path = \"outputs_pipeline/article2_chunk4_01.json\" \n",
    "trans_chunk4(chunks_path, chunk4_path)"
   ]
  },
  {
   "cell_type": "code",
   "execution_count": null,
   "id": "b4cb5755",
   "metadata": {},
   "outputs": [],
   "source": [
    "from utils.common_utils import build_openai_client_chat\n",
    "from utils.topic_concepts_v2 import gen_topics\n",
    "chunk4_path = \"outputs_pipeline/article2_chunk4_01.json\" \n",
    "topics_path = \"outputs_pipeline/article3_topics01.json\" \n",
    "chat_model = build_openai_client_chat()\n",
    "gen_topics(chunk4_path, topics_path, chat_model)"
   ]
  },
  {
   "cell_type": "code",
   "execution_count": null,
   "id": "16d28934",
   "metadata": {},
   "outputs": [
    {
     "name": "stdout",
     "output_type": "stream",
     "text": [
      "resource module not available on Windows\n"
     ]
    },
    {
     "name": "stderr",
     "output_type": "stream",
     "text": [
      "d:\\Miniconda3\\envs\\raft\\lib\\site-packages\\tqdm\\auto.py:21: TqdmWarning: IProgress not found. Please update jupyter and ipywidgets. See https://ipywidgets.readthedocs.io/en/stable/user_install.html\n",
      "  from .autonotebook import tqdm as notebook_tqdm\n"
     ]
    },
    {
     "name": "stdout",
     "output_type": "stream",
     "text": [
      "转换完成，结果已保存到 outputs_pipeline/request1_topic_request_01.jsonl\n"
     ]
    }
   ],
   "source": [
    "# 得到 gen_topic 任务的请求文件jsonl\n",
    "from utils.topic_concepts_v2 import chunk4_to_jsonl\n",
    "# 输入文件路径（假设是包含chunk4数据的JSON文件）\n",
    "input_chunk4_path = \"outputs_pipeline/article2_chunk4_01.json\" \n",
    "# 输出文件路径\n",
    "output_request_path = \"outputs_pipeline/request1_topic_01.jsonl\"\n",
    "# 执行转换\n",
    "chunk4_to_jsonl(input_chunk4_path, output_request_path)\n",
    "# 剩下的任务在 火山平台 桶列表 和 批量推理列表中完成，并取到推理结果文件"
   ]
  },
  {
   "cell_type": "code",
   "execution_count": null,
   "id": "296f6c40",
   "metadata": {},
   "outputs": [],
   "source": [
    "# 根据 gen_topic 请求任务 获取 topic_path 结果文件\n",
    "from utils.topic_concepts_v2 import process_response_file\n",
    "# 响应结果文件路径（jsonl格式）\n",
    "response_file_path = \"outputs_pipeline/response1_topic_01.jsonl\"\n",
    "# 原始chunk4数据文件路径\n",
    "chunk4_file_path = \"outputs_pipeline/article2_chunk4_01.json\" \n",
    "# 结果保存路径\n",
    "topics_output_path = \"outputs_pipeline/article3_topics01.json\" \n",
    "# 执行处理\n",
    "process_response_file(response_file_path, chunk4_file_path, topics_output_path)"
   ]
  },
  {
   "cell_type": "code",
   "execution_count": null,
   "id": "07a3b78f",
   "metadata": {},
   "outputs": [],
   "source": [
    "from utils.topic_concepts_v2 import gen_questions_with_topic_v3, sort_noisy_chunks\n",
    "from utils.common_utils import build_openai_client_chat\n",
    "topics_path = \"outputs_pipeline/article3_topics01.json\" \n",
    "questions_path = \"outputs_pipeline/article4_question_with_topic01.json\" \n",
    "chunk4_path = \"outputs_pipeline/article2_chunk4_01.json\" \n",
    "chat_model = build_openai_client_chat()\n",
    "gen_questions_with_topic_v3(topics_path, questions_path, chat_model, chunk4_path)\n",
    "sort_noisy_chunks(questions_path)"
   ]
  },
  {
   "cell_type": "code",
   "execution_count": null,
   "id": "3a3f3da5",
   "metadata": {},
   "outputs": [],
   "source": [
    "from utils.answer_generation import gen_answer_v3\n",
    "from utils.common_utils import build_openai_client_chat\n",
    "chat_model = build_openai_client_chat()\n",
    "questions_path = \"outputs_pipeline/article4_question_with_topic01.json\" \n",
    "answers_path = \"outputs_pipeline/article_answers_01.json\" \n",
    "gen_answer_v3(questions_path, chat_model, answers_path)"
   ]
  },
  {
   "cell_type": "code",
   "execution_count": null,
   "id": "c4001e8a",
   "metadata": {},
   "outputs": [],
   "source": [
    "from utils.data_synthesis import syn_data_v2\n",
    "answers_path = \"outputs_pipeline/article_answers_01.json\" \n",
    "syndatas_path = \"outputs_pipeline/syndatas01.json\" \n",
    "syn_data_v2(answers_path, syndatas_path)\n"
   ]
  }
 ],
 "metadata": {
  "kernelspec": {
   "display_name": "raft",
   "language": "python",
   "name": "python3"
  },
  "language_info": {
   "codemirror_mode": {
    "name": "ipython",
    "version": 3
   },
   "file_extension": ".py",
   "mimetype": "text/x-python",
   "name": "python",
   "nbconvert_exporter": "python",
   "pygments_lexer": "ipython3",
   "version": "3.10.17"
  }
 },
 "nbformat": 4,
 "nbformat_minor": 5
}
