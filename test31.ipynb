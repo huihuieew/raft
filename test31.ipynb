{
 "cells": [
  {
   "cell_type": "markdown",
   "id": "913d72bd",
   "metadata": {},
   "source": [
    "# 按照批量生成的方式，依据pipeline重新一遍\n",
    "1. chunks, chunk4, topics, questions, answers, syndatas \n",
    "2. 批量接口，批量topics，批量questions，批量answers\n",
    "3. 串起来所有的流程\n",
    "4. 将其中 由web页面进行 批量任务的过程，改进成 代码实现的方式\n",
    "方便全程自动化进行\n",
    "5. 批量生成，也可以分成多个批次的pipeline同时进行"
   ]
  },
  {
   "cell_type": "markdown",
   "id": "041a4980",
   "metadata": {},
   "source": [
    "--chunks_path \"outputs_chunks/article_chunks18.json\" --chunk4_path \"outputs_chunk4/article_chunk4_18.json\" --topics_path \"outputs_topics/article_topics18.json\" --questions_path \"outputs_questions/article_question_with_topic18.json\" --answers_path \"outputs_answers/article_answers_18.json\" --syndatas_path \"outputs_syndatas/syndatas18.json\" --start_idx 36 --end_idx 38"
   ]
  },
  {
   "cell_type": "code",
   "execution_count": null,
   "id": "64703e99",
   "metadata": {},
   "outputs": [
    {
     "name": "stdout",
     "output_type": "stream",
     "text": [
      "len(file_names): 3373\n"
     ]
    },
    {
     "name": "stderr",
     "output_type": "stream",
     "text": [
      "Chunking: 100%|██████████| 1/1 [00:00<00:00, 40.88file/s, chunks=34]\n"
     ]
    },
    {
     "name": "stdout",
     "output_type": "stream",
     "text": [
      "Chunks saved to outputs_pipeline/article1_chunks01.json\n"
     ]
    },
    {
     "name": "stderr",
     "output_type": "stream",
     "text": [
      "Chunking: 100%|██████████| 1/1 [00:00<00:00, 499.92file/s, chunks=26]\n"
     ]
    },
    {
     "name": "stdout",
     "output_type": "stream",
     "text": [
      "Chunks saved to outputs_pipeline/article1_chunks01.json\n"
     ]
    },
    {
     "name": "stderr",
     "output_type": "stream",
     "text": [
      "Chunking: 100%|██████████| 1/1 [00:00<00:00, 249.99file/s, chunks=37]\n"
     ]
    },
    {
     "name": "stdout",
     "output_type": "stream",
     "text": [
      "Chunks saved to outputs_pipeline/article1_chunks01.json\n"
     ]
    },
    {
     "name": "stderr",
     "output_type": "stream",
     "text": [
      "Chunking: 100%|██████████| 1/1 [00:00<00:00, 111.12file/s, chunks=24]\n"
     ]
    },
    {
     "name": "stdout",
     "output_type": "stream",
     "text": [
      "Chunks saved to outputs_pipeline/article1_chunks01.json\n"
     ]
    },
    {
     "name": "stderr",
     "output_type": "stream",
     "text": [
      "Chunking: 100%|██████████| 1/1 [00:00<00:00, 250.27file/s, chunks=25]"
     ]
    },
    {
     "name": "stdout",
     "output_type": "stream",
     "text": [
      "Chunks saved to outputs_pipeline/article1_chunks01.json\n",
      "all chunks: 146\n"
     ]
    },
    {
     "name": "stderr",
     "output_type": "stream",
     "text": [
      "\n"
     ]
    },
    {
     "data": {
      "text/plain": [
       "{}"
      ]
     },
     "execution_count": 1,
     "metadata": {},
     "output_type": "execute_result"
    }
   ],
   "source": [
    "from utils.article_chunks_v2 import gen_chunks\n",
    "data_dir = \"data\"\n",
    "chunks_path = \"outputs_pipeline/article1_chunks01.json\"\n",
    "start_idx = 0\n",
    "end_idx = 5\n",
    "gen_chunks(data_dir, chunks_path, start_idx, end_idx)"
   ]
  },
  {
   "cell_type": "code",
   "execution_count": null,
   "id": "ba44f63d",
   "metadata": {},
   "outputs": [],
   "source": [
    "from utils.article_chunks_v2 import gen_chunks_v2\n",
    "data_dir = \"data\"\n",
    "chunks_path = \"outputs_pipeline/article1_chunks01.json\"\n",
    "input_file=\"selected_papers.txt\"\n",
    "gen_chunks_v2(data_dir, chunks_path, input_file)"
   ]
  },
  {
   "cell_type": "code",
   "execution_count": 2,
   "id": "99f0edb1",
   "metadata": {},
   "outputs": [
    {
     "name": "stdout",
     "output_type": "stream",
     "text": [
      "resource module not available on Windows\n"
     ]
    },
    {
     "name": "stderr",
     "output_type": "stream",
     "text": [
      "d:\\Miniconda3\\envs\\raft\\lib\\site-packages\\tqdm\\auto.py:21: TqdmWarning: IProgress not found. Please update jupyter and ipywidgets. See https://ipywidgets.readthedocs.io/en/stable/user_install.html\n",
      "  from .autonotebook import tqdm as notebook_tqdm\n"
     ]
    },
    {
     "name": "stdout",
     "output_type": "stream",
     "text": [
      "Chunk4 saved to outputs_pipeline/article2_chunk4_01.json\n",
      "done 1,8-萘酰亚胺类有机小分子电致发光材料的研究进展_王启_llm_correct.md chunk4.\n",
      "Chunk4 saved to outputs_pipeline/article2_chunk4_01.json\n",
      "done 10万象素a-Si_TFT有源矩阵的优化技术_徐重阳_llm_correct.md chunk4.\n",
      "Chunk4 saved to outputs_pipeline/article2_chunk4_01.json\n",
      "done 10大新显示技术_llm_correct.md chunk4.\n",
      "Chunk4 saved to outputs_pipeline/article2_chunk4_01.json\n",
      "done 12.7cm彩色AM-OLED显示器分场驱动研究_沈亮_llm_correct.md chunk4.\n",
      "Chunk4 saved to outputs_pipeline/article2_chunk4_01.json\n",
      "done 12.7cm彩色AM-OLED显示屏的驱动模块_张繁_llm_correct.md chunk4.\n"
     ]
    }
   ],
   "source": [
    "from utils.topic_concepts_v2 import trans_chunk4\n",
    "chunks_path = \"outputs_pipeline/article1_chunks01.json\"\n",
    "chunk4_path = \"outputs_pipeline/article2_chunk4_01.json\" \n",
    "trans_chunk4(chunks_path, chunk4_path)"
   ]
  },
  {
   "cell_type": "code",
   "execution_count": null,
   "id": "b4cb5755",
   "metadata": {},
   "outputs": [],
   "source": [
    "from utils.common_utils import build_openai_client_chat\n",
    "from utils.topic_concepts_v2 import gen_topics\n",
    "chunk4_path = \"outputs_pipeline/article2_chunk4_01.json\" \n",
    "topics_path = \"outputs_pipeline/article3_topics01.json\" \n",
    "chat_model = build_openai_client_chat()\n",
    "gen_topics(chunk4_path, topics_path, chat_model)"
   ]
  },
  {
   "cell_type": "code",
   "execution_count": null,
   "id": "16d28934",
   "metadata": {},
   "outputs": [
    {
     "name": "stdout",
     "output_type": "stream",
     "text": [
      "resource module not available on Windows\n"
     ]
    },
    {
     "name": "stderr",
     "output_type": "stream",
     "text": [
      "d:\\Miniconda3\\envs\\raft\\lib\\site-packages\\tqdm\\auto.py:21: TqdmWarning: IProgress not found. Please update jupyter and ipywidgets. See https://ipywidgets.readthedocs.io/en/stable/user_install.html\n",
      "  from .autonotebook import tqdm as notebook_tqdm\n"
     ]
    },
    {
     "name": "stdout",
     "output_type": "stream",
     "text": [
      "转换完成，结果已保存到 outputs_pipeline/request1_topic_request_01.jsonl\n"
     ]
    }
   ],
   "source": [
    "# 得到 gen_topic 任务的请求文件jsonl\n",
    "from utils.topic_concepts_v2 import chunk4_to_jsonl\n",
    "# 输入文件路径（假设是包含chunk4数据的JSON文件）\n",
    "input_chunk4_path = \"outputs_pipeline/article2_chunk4_01.json\" \n",
    "# 输出文件路径\n",
    "output_request_path = \"outputs_pipeline/request1_topic_01.jsonl\"\n",
    "# 执行转换\n",
    "chunk4_to_jsonl(input_chunk4_path, output_request_path)\n",
    "# 剩下的任务在 火山平台 桶列表 和 批量推理列表中完成，并取到推理结果文件"
   ]
  },
  {
   "cell_type": "code",
   "execution_count": 1,
   "id": "296f6c40",
   "metadata": {},
   "outputs": [
    {
     "name": "stdout",
     "output_type": "stream",
     "text": [
      "resource module not available on Windows\n"
     ]
    },
    {
     "name": "stderr",
     "output_type": "stream",
     "text": [
      "d:\\Miniconda3\\envs\\raft\\lib\\site-packages\\tqdm\\auto.py:21: TqdmWarning: IProgress not found. Please update jupyter and ipywidgets. See https://ipywidgets.readthedocs.io/en/stable/user_install.html\n",
      "  from .autonotebook import tqdm as notebook_tqdm\n",
      "Processing responses: 100%|██████████| 20/20 [00:00<?, ?it/s]"
     ]
    },
    {
     "name": "stdout",
     "output_type": "stream",
     "text": [
      "处理完成，结果已保存到 outputs_pipeline/article3_topics01.json\n"
     ]
    },
    {
     "name": "stderr",
     "output_type": "stream",
     "text": [
      "\n"
     ]
    }
   ],
   "source": [
    "# 根据 gen_topic 请求任务 获取 topic_path 结果文件\n",
    "from utils.topic_concepts_v2 import process_response_file\n",
    "# 响应结果文件路径（jsonl格式）\n",
    "response_file_path = \"outputs_pipeline/response1_topic_01.jsonl\"\n",
    "# 原始chunk4数据文件路径\n",
    "chunk4_file_path = \"outputs_pipeline/article2_chunk4_01.json\" \n",
    "# 结果保存路径\n",
    "topics_output_path = \"outputs_pipeline/article3_topics01.json\" \n",
    "# 执行处理\n",
    "process_response_file(response_file_path, chunk4_file_path, topics_output_path)"
   ]
  },
  {
   "cell_type": "code",
   "execution_count": 1,
   "id": "448f66a1",
   "metadata": {},
   "outputs": [
    {
     "name": "stdout",
     "output_type": "stream",
     "text": [
      "resource module not available on Windows\n"
     ]
    },
    {
     "name": "stderr",
     "output_type": "stream",
     "text": [
      "d:\\Miniconda3\\envs\\raft\\lib\\site-packages\\tqdm\\auto.py:21: TqdmWarning: IProgress not found. Please update jupyter and ipywidgets. See https://ipywidgets.readthedocs.io/en/stable/user_install.html\n",
      "  from .autonotebook import tqdm as notebook_tqdm\n",
      "Processing 10大新显示技术_llm_correct.md: 100%|██████████| 5/5 [00:00<?, ?it/s]\n",
      "Processing 1,8-萘酰亚胺类有机小分子电致发光材料的研究进展_王启_llm_correct.md: 100%|██████████| 5/5 [00:00<00:00, 5000.36it/s]\n",
      "Processing 12.7cm彩色AM-OLED显示器分场驱动研究_沈亮_llm_correct.md: 100%|██████████| 3/3 [00:00<00:00, 2995.93it/s]\n",
      "Processing 12.7cm彩色AM-OLED显示屏的驱动模块_张繁_llm_correct.md: 100%|██████████| 3/3 [00:00<00:00, 3000.93it/s]\n",
      "Processing 10万象素a-Si_TFT有源矩阵的优化技术_徐重阳_llm_correct.md: 100%|██████████| 4/4 [00:00<00:00, 4000.29it/s]"
     ]
    },
    {
     "name": "stdout",
     "output_type": "stream",
     "text": [
      "成功将 outputs_pipeline/article3_topics01.json 转换为 outputs_pipeline/request2_question_01.jsonl\n"
     ]
    },
    {
     "name": "stderr",
     "output_type": "stream",
     "text": [
      "\n"
     ]
    }
   ],
   "source": [
    "from utils.topic_concepts_v2 import convert_topics_to_jsonl\n",
    "topics_path = \"outputs_pipeline/article3_topics01.json\" \n",
    "question_request_path = \"outputs_pipeline/request2_question_01.jsonl\"\n",
    "convert_topics_to_jsonl(topics_path, question_request_path)"
   ]
  },
  {
   "cell_type": "code",
   "execution_count": 1,
   "id": "f53f6949",
   "metadata": {},
   "outputs": [
    {
     "name": "stdout",
     "output_type": "stream",
     "text": [
      "resource module not available on Windows\n"
     ]
    },
    {
     "name": "stderr",
     "output_type": "stream",
     "text": [
      "d:\\Miniconda3\\envs\\raft\\lib\\site-packages\\tqdm\\auto.py:21: TqdmWarning: IProgress not found. Please update jupyter and ipywidgets. See https://ipywidgets.readthedocs.io/en/stable/user_install.html\n",
      "  from .autonotebook import tqdm as notebook_tqdm\n",
      "Processing responses:  65%|██████▌   | 13/20 [00:00<00:00, 119.26it/s]"
     ]
    },
    {
     "name": "stdout",
     "output_type": "stream",
     "text": [
      "all chunks - chunk4_list: 116\n",
      "Questions saved to outputs_pipeline/article4_question_with_topic01.json\n",
      "all chunks - chunk4_list: 102\n",
      "Questions saved to outputs_pipeline/article4_question_with_topic01.json\n",
      "all chunks - chunk4_list: 102\n",
      "Questions saved to outputs_pipeline/article4_question_with_topic01.json\n",
      "all chunks - chunk4_list: 103\n",
      "Questions saved to outputs_pipeline/article4_question_with_topic01.json\n",
      "all chunks - chunk4_list: 111\n",
      "Questions saved to outputs_pipeline/article4_question_with_topic01.json\n",
      "all chunks - chunk4_list: 103\n",
      "Questions saved to outputs_pipeline/article4_question_with_topic01.json\n",
      "all chunks - chunk4_list: 103\n",
      "Questions saved to outputs_pipeline/article4_question_with_topic01.json\n",
      "all chunks - chunk4_list: 111\n",
      "Questions saved to outputs_pipeline/article4_question_with_topic01.json\n",
      "all chunks - chunk4_list: 102\n",
      "Questions saved to outputs_pipeline/article4_question_with_topic01.json\n",
      "all chunks - chunk4_list: 116\n",
      "Questions saved to outputs_pipeline/article4_question_with_topic01.json\n",
      "all chunks - chunk4_list: 103\n",
      "Questions saved to outputs_pipeline/article4_question_with_topic01.json\n",
      "all chunks - chunk4_list: 103\n",
      "Questions saved to outputs_pipeline/article4_question_with_topic01.json\n",
      "all chunks - chunk4_list: 111\n",
      "Questions saved to outputs_pipeline/article4_question_with_topic01.json\n",
      "all chunks - chunk4_list: 102\n",
      "Questions saved to outputs_pipeline/article4_question_with_topic01.json\n",
      "all chunks - chunk4_list: 116\n",
      "Questions saved to outputs_pipeline/article4_question_with_topic01.json\n",
      "all chunks - chunk4_list: 116\n",
      "Questions saved to outputs_pipeline/article4_question_with_topic01.json\n",
      "all chunks - chunk4_list: 102\n",
      "Questions saved to outputs_pipeline/article4_question_with_topic01.json\n",
      "all chunks - chunk4_list: 116\n",
      "Questions saved to outputs_pipeline/article4_question_with_topic01.json\n",
      "all chunks - chunk4_list: 111\n",
      "Questions saved to outputs_pipeline/article4_question_with_topic01.json\n",
      "all chunks - chunk4_list: 116\n",
      "Questions saved to outputs_pipeline/article4_question_with_topic01.json\n"
     ]
    },
    {
     "name": "stderr",
     "output_type": "stream",
     "text": [
      "Processing responses: 100%|██████████| 20/20 [00:00<00:00, 102.22it/s]\n"
     ]
    }
   ],
   "source": [
    "from utils.topic_concepts_v2 import process_response_and_save\n",
    "response_path = \"outputs_pipeline/response2_question_01.jsonl\"  # 响应结果文件\n",
    "topics_path = \"outputs_pipeline/article3_topics01.json\"       # 原始topics文件\n",
    "question_path = \"outputs_pipeline/article4_question_with_topic01.json\"    # 输出question文件\n",
    "chunk4_path = \"outputs_pipeline/article2_chunk4_01.json\"             # chunk4路径\n",
    "process_response_and_save(response_path, topics_path, question_path, chunk4_path)"
   ]
  },
  {
   "cell_type": "code",
   "execution_count": 1,
   "id": "dfccb73e",
   "metadata": {},
   "outputs": [
    {
     "name": "stdout",
     "output_type": "stream",
     "text": [
      "resource module not available on Windows\n"
     ]
    },
    {
     "name": "stderr",
     "output_type": "stream",
     "text": [
      "d:\\Miniconda3\\envs\\raft\\lib\\site-packages\\tqdm\\auto.py:21: TqdmWarning: IProgress not found. Please update jupyter and ipywidgets. See https://ipywidgets.readthedocs.io/en/stable/user_install.html\n",
      "  from .autonotebook import tqdm as notebook_tqdm\n",
      "question_ele: 100%|██████████| 6/6 [00:35<00:00,  5.87s/it]\n",
      "question_ele: 100%|██████████| 10/10 [00:44<00:00,  4.47s/it]\n",
      "question_ele: 100%|██████████| 10/10 [00:48<00:00,  4.87s/it]\n",
      "question_ele: 100%|██████████| 8/8 [00:39<00:00,  4.88s/it]t]\n",
      "question_ele: 100%|██████████| 6/6 [00:27<00:00,  4.63s/it]t]\n",
      "Sorted chunks.: 100%|██████████| 5/5 [03:15<00:00, 39.08s/it]"
     ]
    },
    {
     "name": "stdout",
     "output_type": "stream",
     "text": [
      "转换sorted_chunks成功。\n"
     ]
    },
    {
     "name": "stderr",
     "output_type": "stream",
     "text": [
      "\n"
     ]
    }
   ],
   "source": [
    "from utils.topic_concepts_v2 import sort_noisy_chunks\n",
    "question_path = \"outputs_pipeline/article4_question_with_topic01.json\" \n",
    "sort_noisy_chunks(question_path)"
   ]
  },
  {
   "cell_type": "code",
   "execution_count": null,
   "id": "07a3b78f",
   "metadata": {},
   "outputs": [],
   "source": [
    "from utils.topic_concepts_v2 import gen_questions_with_topic_v3, sort_noisy_chunks\n",
    "from utils.common_utils import build_openai_client_chat\n",
    "topics_path = \"outputs_pipeline/article3_topics01.json\" \n",
    "questions_path = \"outputs_pipeline/article4_question_with_topic01.json\" \n",
    "chunk4_path = \"outputs_pipeline/article2_chunk4_01.json\" \n",
    "chat_model = build_openai_client_chat()\n",
    "gen_questions_with_topic_v3(topics_path, questions_path, chat_model, chunk4_path)\n",
    "sort_noisy_chunks(questions_path)"
   ]
  },
  {
   "cell_type": "code",
   "execution_count": 1,
   "id": "5f156a0b",
   "metadata": {},
   "outputs": [
    {
     "name": "stdout",
     "output_type": "stream",
     "text": [
      "resource module not available on Windows\n"
     ]
    },
    {
     "name": "stderr",
     "output_type": "stream",
     "text": [
      "d:\\Miniconda3\\envs\\raft\\lib\\site-packages\\tqdm\\auto.py:21: TqdmWarning: IProgress not found. Please update jupyter and ipywidgets. See https://ipywidgets.readthedocs.io/en/stable/user_install.html\n",
      "  from .autonotebook import tqdm as notebook_tqdm\n"
     ]
    },
    {
     "name": "stdout",
     "output_type": "stream",
     "text": [
      "转换完成，结果已保存到 outputs_pipeline/request3_answer_02.jsonl\n"
     ]
    }
   ],
   "source": [
    "from utils.answer_generation_v2 import convert_to_jsonl\n",
    "# 输入输出路径\n",
    "questions_path = \"outputs_pipeline/article4_question_with_topic01.json\"   # 替换为实际路径\n",
    "question_request_path = \"outputs_pipeline/request3_answer_02.jsonl\"\n",
    "# 执行转换\n",
    "convert_to_jsonl(questions_path, question_request_path)"
   ]
  },
  {
   "cell_type": "code",
   "execution_count": null,
   "id": "0f52d884",
   "metadata": {},
   "outputs": [],
   "source": [
    "from utils.answer_generation_v2 import process_response_file\n",
    "response_file_path = \"outputs_pipeline/response3_answer_02.jsonl\"  # 响应结果文件\n",
    "questions_path = \"outputs_pipeline/article4_question_with_topic01.json\"  # 原始问题文件\n",
    "answers_path = \"outputs_pipeline/article5_answers_02.json\"   # 结果保存路径\n",
    "# 执行处理\n",
    "process_response_file(response_file_path, questions_path, answers_path)"
   ]
  },
  {
   "cell_type": "code",
   "execution_count": null,
   "id": "3a3f3da5",
   "metadata": {},
   "outputs": [],
   "source": [
    "from utils.answer_generation import gen_answer_v3\n",
    "from utils.common_utils import build_openai_client_chat\n",
    "chat_model = build_openai_client_chat()\n",
    "questions_path = \"outputs_pipeline/article4_question_with_topic01.json\" \n",
    "answers_path = \"outputs_pipeline/article5_answers_01.json\" \n",
    "gen_answer_v3(questions_path, chat_model, answers_path)"
   ]
  },
  {
   "cell_type": "code",
   "execution_count": null,
   "id": "c7e76f11",
   "metadata": {},
   "outputs": [],
   "source": [
    "from utils.data_synthesis_v2 import syn_data\n",
    "answers_path = \"outputs_pipeline/article5_answers_01.json\" \n",
    "syndatas_path = \"outputs_pipeline/syndatas01.json\" \n",
    "syn_data(answers_path, syndatas_path)"
   ]
  },
  {
   "cell_type": "code",
   "execution_count": null,
   "id": "c4001e8a",
   "metadata": {},
   "outputs": [],
   "source": [
    "from utils.data_synthesis import syn_data_v2\n",
    "answers_path = \"outputs_pipeline/article5_answers_01.json\" \n",
    "syndatas_path = \"outputs_pipeline/syndatas01.json\" \n",
    "syn_data_v2(answers_path, syndatas_path)\n"
   ]
  }
 ],
 "metadata": {
  "kernelspec": {
   "display_name": "raft",
   "language": "python",
   "name": "python3"
  },
  "language_info": {
   "codemirror_mode": {
    "name": "ipython",
    "version": 3
   },
   "file_extension": ".py",
   "mimetype": "text/x-python",
   "name": "python",
   "nbconvert_exporter": "python",
   "pygments_lexer": "ipython3",
   "version": "3.10.17"
  }
 },
 "nbformat": 4,
 "nbformat_minor": 5
}
